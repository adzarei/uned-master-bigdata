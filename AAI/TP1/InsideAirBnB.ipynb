{
 "cells": [
  {
   "cell_type": "markdown",
   "metadata": {},
   "source": [
    "# Inside AirBnB"
   ]
  },
  {
   "cell_type": "markdown",
   "metadata": {},
   "source": [
    "## Enunciado\n",
    "\n",
    "Este Notebook consiste en la actividad evaluable correspondiente al Módulo 1 de la Asignatura de Aprendizaje Automático I del Máster en Ingeniería y Ciencia de Datos de la UNED.\n",
    "\n",
    "La actividad constituye en un ejercicio de clasificación empleando los tres métodos descritos en el tema y la aplicación de varias de las técnicas estudiadas en el Tema 2."
   ]
  },
  {
   "cell_type": "markdown",
   "metadata": {},
   "source": [
    "### 1. Datos\n",
    "\n",
    "Los datos provienen de la web InsideAirBnB, dedicada al estudio de los alquileres vacacionales ofrecidos en la plataforma AirBnB. El fichero está contenido dentro de la carpeta datasets/insideAirBnB. Este fichero es una versión editada, a fin de facilitar la tarea, del listado original de información sobre las ofertas existentes, para la ciudad de Madrid, en abril de 2017. \n",
    "\n",
    "> Contiene 13321 registros con 11 campos cada uno, correspondientes a diferentes características de cada oferta de alojamiento.\n",
    "\n",
    "La tarea de clasificación consistirá en clasificar los datos según el tipo de alojamiento, definido en el campo room_type, a partir del resto de características. Es decir, en room_type estarán codificadas las clases y en el resto de campos los atributos."
   ]
  },
  {
   "cell_type": "markdown",
   "metadata": {},
   "source": [
    "### 2. Estudio estadístico y limpieza de datos\n",
    "\n",
    "Se realizará un breve estudio estadístico de los datos numéricos y de la variable `room_type` se contarán los valores de cada clase. Si las clases no estuvieran balanceadas habrá que usar los mecanismos que puedan tener los algoritmos de clasificación para tratar con este caso. Para Naive Bayes ya se habla de esto en la actividades autoevaluables, para los otros métodos consultar en la documentación de sus APIs los parámetros de los constructores para ver si hay mecanismos para balancear.\n",
    "En cuanto a la limpieza de datos estudiar si hay datos faltantes, transformar datos categóricos y escalar datos numéricos haciendo uso de pipelines cuando sea posible."
   ]
  },
  {
   "cell_type": "markdown",
   "metadata": {},
   "source": [
    "### 3. Entrenamiento y validación\n",
    "\n",
    "1. Dividir los datos en conjunto de entrenamiento y test de manera que el conjunto de test sea un 20 % del total.\n",
    "2. Evaluar los modelos midiendo la exactitud (accuracy) usando validación cruzada para los tres métodos estudiados utilizando los parámetros por defecto de los tres métodos, salvo lo comentado para el balance, para cross_val_score usar cv=10. Comparar los resultados de los tres modelos.\n",
    "3. Realizar la afinación de hiperparámetros para KNN y Árboles de decisión empleando Grid- SearchCV, Naive Bayes no tiene hiperparámetros que afinar.\n",
    "    1. Para KNN buscando el valor óptimo de K.\n",
    "    2. Para Árboles de decisión: variando max_leaf_nodes entre 2 y 50 ambos inclusive , min_samples_split entre 2 y 6 ambos inclusive y max_depth entre 1 y 20 ambos in- clusive. Ver la documentación de la API."
   ]
  },
  {
   "cell_type": "markdown",
   "metadata": {},
   "source": [
    "### 4. Valoración\n",
    "\n",
    "Se valorará la creación del código que realice los requisitos enumerados, la presencia de comentarios de lo que hace el código y sus resultados y las comparaciones entre los resultados obtenidos por los distintos algoritmos, así como algún gráfico que muestre los resultados. Para terminar incluir un apartado de conclusiones. Tanto los comentarios como las conclusiones no es necesario que sea extensos, sino que describan de forma concisa."
   ]
  },
  {
   "cell_type": "markdown",
   "metadata": {},
   "source": [
    "## Realización del ejercicio"
   ]
  },
  {
   "cell_type": "markdown",
   "metadata": {},
   "source": [
    "Antes de empezar a \"ensuciarnos las manos\", vamos a importar todos los paquetes necesarios, de los que iremos haciendo uso a lo largo del ejercicio:"
   ]
  },
  {
   "cell_type": "markdown",
   "metadata": {},
   "source": [
    "# Objetivo:\n",
    "Crear un modelo, que dado unos datos prediga el room_type al que pertence."
   ]
  },
  {
   "cell_type": "code",
   "execution_count": 1,
   "metadata": {},
   "outputs": [
    {
     "name": "stdout",
     "output_type": "stream",
     "text": [
      "/Users/adzarei/Documents/UNED/ING_CIENC_DATOS/projects/AAI/TP1\n"
     ]
    }
   ],
   "source": [
    "! pwd"
   ]
  },
  {
   "cell_type": "code",
   "execution_count": 2,
   "metadata": {},
   "outputs": [],
   "source": [
    "import os\n",
    "import pandas as pd\n",
    "import numpy as np\n",
    "import operator\n",
    "import seaborn as sns; sns.set()\n",
    "import matplotlib.pyplot as plt\n",
    "from pandas.plotting import scatter_matrix"
   ]
  },
  {
   "cell_type": "markdown",
   "metadata": {},
   "source": [
    "### Recogida de datos\n",
    "\n",
    "En primer lugar, vamos a cargar los datos con los que vamos a trabajar. Estos datos están ubicados en la carpeta \"input-data\", en un fichero llamado \"airbnb.csv\". Para ello, usaremos el método `read_csv()` de pandas."
   ]
  },
  {
   "cell_type": "code",
   "execution_count": 3,
   "metadata": {},
   "outputs": [],
   "source": [
    "data_path = os.path.join(\"..\",\"datasets\",\"insideAirBnB\",\"airbnb.csv\")\n",
    "airbnb = pd.read_csv(data_path)"
   ]
  },
  {
   "cell_type": "markdown",
   "metadata": {},
   "source": [
    "# Visualización"
   ]
  },
  {
   "cell_type": "code",
   "execution_count": 4,
   "metadata": {},
   "outputs": [
    {
     "data": {
      "text/html": [
       "<div>\n",
       "<style scoped>\n",
       "    .dataframe tbody tr th:only-of-type {\n",
       "        vertical-align: middle;\n",
       "    }\n",
       "\n",
       "    .dataframe tbody tr th {\n",
       "        vertical-align: top;\n",
       "    }\n",
       "\n",
       "    .dataframe thead th {\n",
       "        text-align: right;\n",
       "    }\n",
       "</style>\n",
       "<table border=\"1\" class=\"dataframe\">\n",
       "  <thead>\n",
       "    <tr style=\"text-align: right;\">\n",
       "      <th></th>\n",
       "      <th>latitude</th>\n",
       "      <th>longitude</th>\n",
       "      <th>price</th>\n",
       "      <th>minimum_nights</th>\n",
       "      <th>number_of_reviews</th>\n",
       "      <th>reviews_per_month</th>\n",
       "      <th>calculated_host_listings_count</th>\n",
       "      <th>availability_365</th>\n",
       "    </tr>\n",
       "  </thead>\n",
       "  <tbody>\n",
       "    <tr>\n",
       "      <th>count</th>\n",
       "      <td>10853.000000</td>\n",
       "      <td>10853.000000</td>\n",
       "      <td>10853.000000</td>\n",
       "      <td>10853.000000</td>\n",
       "      <td>10853.000000</td>\n",
       "      <td>10853.000000</td>\n",
       "      <td>10853.000000</td>\n",
       "      <td>10853.000000</td>\n",
       "    </tr>\n",
       "    <tr>\n",
       "      <th>mean</th>\n",
       "      <td>40.420141</td>\n",
       "      <td>-3.696918</td>\n",
       "      <td>47.180595</td>\n",
       "      <td>2.936239</td>\n",
       "      <td>24.273749</td>\n",
       "      <td>1.602950</td>\n",
       "      <td>5.794435</td>\n",
       "      <td>200.966369</td>\n",
       "    </tr>\n",
       "    <tr>\n",
       "      <th>std</th>\n",
       "      <td>0.021079</td>\n",
       "      <td>0.024887</td>\n",
       "      <td>21.490520</td>\n",
       "      <td>13.474491</td>\n",
       "      <td>40.092909</td>\n",
       "      <td>1.909445</td>\n",
       "      <td>14.536627</td>\n",
       "      <td>129.498017</td>\n",
       "    </tr>\n",
       "    <tr>\n",
       "      <th>min</th>\n",
       "      <td>40.331888</td>\n",
       "      <td>-3.863907</td>\n",
       "      <td>9.000000</td>\n",
       "      <td>1.000000</td>\n",
       "      <td>0.000000</td>\n",
       "      <td>0.000000</td>\n",
       "      <td>1.000000</td>\n",
       "      <td>0.000000</td>\n",
       "    </tr>\n",
       "    <tr>\n",
       "      <th>25%</th>\n",
       "      <td>40.409180</td>\n",
       "      <td>-3.707933</td>\n",
       "      <td>29.000000</td>\n",
       "      <td>1.000000</td>\n",
       "      <td>1.000000</td>\n",
       "      <td>0.140000</td>\n",
       "      <td>1.000000</td>\n",
       "      <td>74.000000</td>\n",
       "    </tr>\n",
       "    <tr>\n",
       "      <th>50%</th>\n",
       "      <td>40.417963</td>\n",
       "      <td>-3.701585</td>\n",
       "      <td>45.000000</td>\n",
       "      <td>2.000000</td>\n",
       "      <td>8.000000</td>\n",
       "      <td>0.880000</td>\n",
       "      <td>2.000000</td>\n",
       "      <td>236.000000</td>\n",
       "    </tr>\n",
       "    <tr>\n",
       "      <th>75%</th>\n",
       "      <td>40.428131</td>\n",
       "      <td>-3.693833</td>\n",
       "      <td>65.000000</td>\n",
       "      <td>3.000000</td>\n",
       "      <td>29.000000</td>\n",
       "      <td>2.450000</td>\n",
       "      <td>4.000000</td>\n",
       "      <td>322.000000</td>\n",
       "    </tr>\n",
       "    <tr>\n",
       "      <th>max</th>\n",
       "      <td>40.562736</td>\n",
       "      <td>-3.526821</td>\n",
       "      <td>90.000000</td>\n",
       "      <td>1125.000000</td>\n",
       "      <td>446.000000</td>\n",
       "      <td>17.210000</td>\n",
       "      <td>145.000000</td>\n",
       "      <td>365.000000</td>\n",
       "    </tr>\n",
       "  </tbody>\n",
       "</table>\n",
       "</div>"
      ],
      "text/plain": [
       "           latitude     longitude         price  minimum_nights  \\\n",
       "count  10853.000000  10853.000000  10853.000000    10853.000000   \n",
       "mean      40.420141     -3.696918     47.180595        2.936239   \n",
       "std        0.021079      0.024887     21.490520       13.474491   \n",
       "min       40.331888     -3.863907      9.000000        1.000000   \n",
       "25%       40.409180     -3.707933     29.000000        1.000000   \n",
       "50%       40.417963     -3.701585     45.000000        2.000000   \n",
       "75%       40.428131     -3.693833     65.000000        3.000000   \n",
       "max       40.562736     -3.526821     90.000000     1125.000000   \n",
       "\n",
       "       number_of_reviews  reviews_per_month  calculated_host_listings_count  \\\n",
       "count       10853.000000       10853.000000                    10853.000000   \n",
       "mean           24.273749           1.602950                        5.794435   \n",
       "std            40.092909           1.909445                       14.536627   \n",
       "min             0.000000           0.000000                        1.000000   \n",
       "25%             1.000000           0.140000                        1.000000   \n",
       "50%             8.000000           0.880000                        2.000000   \n",
       "75%            29.000000           2.450000                        4.000000   \n",
       "max           446.000000          17.210000                      145.000000   \n",
       "\n",
       "       availability_365  \n",
       "count      10853.000000  \n",
       "mean         200.966369  \n",
       "std          129.498017  \n",
       "min            0.000000  \n",
       "25%           74.000000  \n",
       "50%          236.000000  \n",
       "75%          322.000000  \n",
       "max          365.000000  "
      ]
     },
     "execution_count": 4,
     "metadata": {},
     "output_type": "execute_result"
    }
   ],
   "source": [
    "is_lower_90 = airbnb[\"price\"] <= 90\n",
    "price_lower_90 = airbnb[is_lower_90]\n",
    "price_lower_90.describe()"
   ]
  },
  {
   "cell_type": "code",
   "execution_count": 5,
   "metadata": {},
   "outputs": [
    {
     "data": {
      "text/plain": [
       "<matplotlib.axes._subplots.AxesSubplot at 0x10c5b7d10>"
      ]
     },
     "execution_count": 5,
     "metadata": {},
     "output_type": "execute_result"
    },
    {
     "data": {
      "image/png": "[encoded data removed]",
      "text/plain": [
       "<Figure size 864x720 with 2 Axes>"
      ]
     },
     "metadata": {
      "needs_background": "light"
     },
     "output_type": "display_data"
    }
   ],
   "source": [
    "price_lower_90.plot(kind=\"scatter\", x=\"longitude\", y=\"latitude\", alpha=0.4, figsize=(12,10),\n",
    "             c=\"price\", cmap=plt.get_cmap(\"jet\"), colorbar=True\n",
    "            )"
   ]
  },
  {
   "cell_type": "markdown",
   "metadata": {},
   "source": [
    "# Estudio estadistico y limpieza de datos\n",
    "1) Estudio estadístico de los datos<br/>\n",
    "2) Contar Nº de registros por categoria de room_type  (Balanceo de clases) <br/>\n",
    "3) limpieza de datos <br/>\n",
    "4) Estudio de correlación <br/>"
   ]
  },
  {
   "cell_type": "markdown",
   "metadata": {},
   "source": [
    "### 1)"
   ]
  },
  {
   "cell_type": "code",
   "execution_count": 6,
   "metadata": {},
   "outputs": [
    {
     "data": {
      "text/html": [
       "<div>\n",
       "<style scoped>\n",
       "    .dataframe tbody tr th:only-of-type {\n",
       "        vertical-align: middle;\n",
       "    }\n",
       "\n",
       "    .dataframe tbody tr th {\n",
       "        vertical-align: top;\n",
       "    }\n",
       "\n",
       "    .dataframe thead th {\n",
       "        text-align: right;\n",
       "    }\n",
       "</style>\n",
       "<table border=\"1\" class=\"dataframe\">\n",
       "  <thead>\n",
       "    <tr style=\"text-align: right;\">\n",
       "      <th></th>\n",
       "      <th>neighbourhood_group</th>\n",
       "      <th>neighbourhood</th>\n",
       "      <th>latitude</th>\n",
       "      <th>longitude</th>\n",
       "      <th>room_type</th>\n",
       "      <th>price</th>\n",
       "      <th>minimum_nights</th>\n",
       "      <th>number_of_reviews</th>\n",
       "      <th>reviews_per_month</th>\n",
       "      <th>calculated_host_listings_count</th>\n",
       "      <th>availability_365</th>\n",
       "    </tr>\n",
       "  </thead>\n",
       "  <tbody>\n",
       "    <tr>\n",
       "      <th>0</th>\n",
       "      <td>Centro</td>\n",
       "      <td>Justicia</td>\n",
       "      <td>40.424715</td>\n",
       "      <td>-3.698638</td>\n",
       "      <td>Entire home/apt</td>\n",
       "      <td>49</td>\n",
       "      <td>28</td>\n",
       "      <td>35</td>\n",
       "      <td>0.42</td>\n",
       "      <td>1</td>\n",
       "      <td>99</td>\n",
       "    </tr>\n",
       "    <tr>\n",
       "      <th>1</th>\n",
       "      <td>Centro</td>\n",
       "      <td>Embajadores</td>\n",
       "      <td>40.413418</td>\n",
       "      <td>-3.706838</td>\n",
       "      <td>Entire home/apt</td>\n",
       "      <td>80</td>\n",
       "      <td>5</td>\n",
       "      <td>18</td>\n",
       "      <td>0.30</td>\n",
       "      <td>1</td>\n",
       "      <td>188</td>\n",
       "    </tr>\n",
       "    <tr>\n",
       "      <th>2</th>\n",
       "      <td>Moncloa - Aravaca</td>\n",
       "      <td>Argüelles</td>\n",
       "      <td>40.424920</td>\n",
       "      <td>-3.713446</td>\n",
       "      <td>Entire home/apt</td>\n",
       "      <td>40</td>\n",
       "      <td>2</td>\n",
       "      <td>21</td>\n",
       "      <td>0.25</td>\n",
       "      <td>9</td>\n",
       "      <td>195</td>\n",
       "    </tr>\n",
       "    <tr>\n",
       "      <th>3</th>\n",
       "      <td>Moncloa - Aravaca</td>\n",
       "      <td>Casa de Campo</td>\n",
       "      <td>40.431027</td>\n",
       "      <td>-3.724586</td>\n",
       "      <td>Entire home/apt</td>\n",
       "      <td>55</td>\n",
       "      <td>2</td>\n",
       "      <td>3</td>\n",
       "      <td>0.13</td>\n",
       "      <td>9</td>\n",
       "      <td>334</td>\n",
       "    </tr>\n",
       "    <tr>\n",
       "      <th>4</th>\n",
       "      <td>Latina</td>\n",
       "      <td>Cármenes</td>\n",
       "      <td>40.403410</td>\n",
       "      <td>-3.740842</td>\n",
       "      <td>Private room</td>\n",
       "      <td>16</td>\n",
       "      <td>2</td>\n",
       "      <td>23</td>\n",
       "      <td>0.76</td>\n",
       "      <td>2</td>\n",
       "      <td>250</td>\n",
       "    </tr>\n",
       "    <tr>\n",
       "      <th>5</th>\n",
       "      <td>Moncloa - Aravaca</td>\n",
       "      <td>Argüelles</td>\n",
       "      <td>40.423417</td>\n",
       "      <td>-3.712456</td>\n",
       "      <td>Entire home/apt</td>\n",
       "      <td>90</td>\n",
       "      <td>2</td>\n",
       "      <td>43</td>\n",
       "      <td>0.87</td>\n",
       "      <td>9</td>\n",
       "      <td>90</td>\n",
       "    </tr>\n",
       "    <tr>\n",
       "      <th>6</th>\n",
       "      <td>Centro</td>\n",
       "      <td>Universidad</td>\n",
       "      <td>40.422022</td>\n",
       "      <td>-3.703954</td>\n",
       "      <td>Entire home/apt</td>\n",
       "      <td>60</td>\n",
       "      <td>3</td>\n",
       "      <td>1</td>\n",
       "      <td>0.03</td>\n",
       "      <td>1</td>\n",
       "      <td>283</td>\n",
       "    </tr>\n",
       "    <tr>\n",
       "      <th>7</th>\n",
       "      <td>Centro</td>\n",
       "      <td>Justicia</td>\n",
       "      <td>40.420153</td>\n",
       "      <td>-3.696498</td>\n",
       "      <td>Entire home/apt</td>\n",
       "      <td>100</td>\n",
       "      <td>4</td>\n",
       "      <td>31</td>\n",
       "      <td>0.43</td>\n",
       "      <td>1</td>\n",
       "      <td>232</td>\n",
       "    </tr>\n",
       "    <tr>\n",
       "      <th>8</th>\n",
       "      <td>Fuencarral - El Pardo</td>\n",
       "      <td>Peñagrande</td>\n",
       "      <td>40.482185</td>\n",
       "      <td>-3.725684</td>\n",
       "      <td>Private room</td>\n",
       "      <td>21</td>\n",
       "      <td>2</td>\n",
       "      <td>6</td>\n",
       "      <td>0.69</td>\n",
       "      <td>2</td>\n",
       "      <td>249</td>\n",
       "    </tr>\n",
       "    <tr>\n",
       "      <th>9</th>\n",
       "      <td>Arganzuela</td>\n",
       "      <td>Legazpi</td>\n",
       "      <td>40.391665</td>\n",
       "      <td>-3.688685</td>\n",
       "      <td>Entire home/apt</td>\n",
       "      <td>100</td>\n",
       "      <td>3</td>\n",
       "      <td>7</td>\n",
       "      <td>0.08</td>\n",
       "      <td>3</td>\n",
       "      <td>365</td>\n",
       "    </tr>\n",
       "  </tbody>\n",
       "</table>\n",
       "</div>"
      ],
      "text/plain": [
       "     neighbourhood_group  neighbourhood   latitude  longitude  \\\n",
       "0                 Centro       Justicia  40.424715  -3.698638   \n",
       "1                 Centro    Embajadores  40.413418  -3.706838   \n",
       "2      Moncloa - Aravaca      Argüelles  40.424920  -3.713446   \n",
       "3      Moncloa - Aravaca  Casa de Campo  40.431027  -3.724586   \n",
       "4                 Latina       Cármenes  40.403410  -3.740842   \n",
       "5      Moncloa - Aravaca      Argüelles  40.423417  -3.712456   \n",
       "6                 Centro    Universidad  40.422022  -3.703954   \n",
       "7                 Centro       Justicia  40.420153  -3.696498   \n",
       "8  Fuencarral - El Pardo     Peñagrande  40.482185  -3.725684   \n",
       "9             Arganzuela        Legazpi  40.391665  -3.688685   \n",
       "\n",
       "         room_type  price  minimum_nights  number_of_reviews  \\\n",
       "0  Entire home/apt     49              28                 35   \n",
       "1  Entire home/apt     80               5                 18   \n",
       "2  Entire home/apt     40               2                 21   \n",
       "3  Entire home/apt     55               2                  3   \n",
       "4     Private room     16               2                 23   \n",
       "5  Entire home/apt     90               2                 43   \n",
       "6  Entire home/apt     60               3                  1   \n",
       "7  Entire home/apt    100               4                 31   \n",
       "8     Private room     21               2                  6   \n",
       "9  Entire home/apt    100               3                  7   \n",
       "\n",
       "   reviews_per_month  calculated_host_listings_count  availability_365  \n",
       "0               0.42                               1                99  \n",
       "1               0.30                               1               188  \n",
       "2               0.25                               9               195  \n",
       "3               0.13                               9               334  \n",
       "4               0.76                               2               250  \n",
       "5               0.87                               9                90  \n",
       "6               0.03                               1               283  \n",
       "7               0.43                               1               232  \n",
       "8               0.69                               2               249  \n",
       "9               0.08                               3               365  "
      ]
     },
     "execution_count": 6,
     "metadata": {},
     "output_type": "execute_result"
    }
   ],
   "source": [
    "airbnb.head(10)"
   ]
  },
  {
   "cell_type": "markdown",
   "metadata": {},
   "source": [
    "Comprobamos que los datos se han cargado correctamente y visualizamos nuestros datos por encima:"
   ]
  },
  {
   "cell_type": "code",
   "execution_count": 7,
   "metadata": {},
   "outputs": [
    {
     "data": {
      "text/html": [
       "<div>\n",
       "<style scoped>\n",
       "    .dataframe tbody tr th:only-of-type {\n",
       "        vertical-align: middle;\n",
       "    }\n",
       "\n",
       "    .dataframe tbody tr th {\n",
       "        vertical-align: top;\n",
       "    }\n",
       "\n",
       "    .dataframe thead th {\n",
       "        text-align: right;\n",
       "    }\n",
       "</style>\n",
       "<table border=\"1\" class=\"dataframe\">\n",
       "  <thead>\n",
       "    <tr style=\"text-align: right;\">\n",
       "      <th></th>\n",
       "      <th>latitude</th>\n",
       "      <th>longitude</th>\n",
       "      <th>price</th>\n",
       "      <th>minimum_nights</th>\n",
       "      <th>number_of_reviews</th>\n",
       "      <th>reviews_per_month</th>\n",
       "      <th>calculated_host_listings_count</th>\n",
       "      <th>availability_365</th>\n",
       "    </tr>\n",
       "  </thead>\n",
       "  <tbody>\n",
       "    <tr>\n",
       "      <th>count</th>\n",
       "      <td>13321.000000</td>\n",
       "      <td>13321.000000</td>\n",
       "      <td>13321.000000</td>\n",
       "      <td>13321.000000</td>\n",
       "      <td>13321.000000</td>\n",
       "      <td>13321.000000</td>\n",
       "      <td>13321.000000</td>\n",
       "      <td>13321.000000</td>\n",
       "    </tr>\n",
       "    <tr>\n",
       "      <th>mean</th>\n",
       "      <td>40.420730</td>\n",
       "      <td>-3.697268</td>\n",
       "      <td>69.171834</td>\n",
       "      <td>3.010885</td>\n",
       "      <td>22.986037</td>\n",
       "      <td>1.520329</td>\n",
       "      <td>7.605885</td>\n",
       "      <td>205.867202</td>\n",
       "    </tr>\n",
       "    <tr>\n",
       "      <th>std</th>\n",
       "      <td>0.020344</td>\n",
       "      <td>0.023832</td>\n",
       "      <td>103.721126</td>\n",
       "      <td>12.835619</td>\n",
       "      <td>38.406006</td>\n",
       "      <td>1.852367</td>\n",
       "      <td>19.619972</td>\n",
       "      <td>126.968961</td>\n",
       "    </tr>\n",
       "    <tr>\n",
       "      <th>min</th>\n",
       "      <td>40.331888</td>\n",
       "      <td>-3.863907</td>\n",
       "      <td>9.000000</td>\n",
       "      <td>1.000000</td>\n",
       "      <td>0.000000</td>\n",
       "      <td>0.000000</td>\n",
       "      <td>1.000000</td>\n",
       "      <td>0.000000</td>\n",
       "    </tr>\n",
       "    <tr>\n",
       "      <th>25%</th>\n",
       "      <td>40.410090</td>\n",
       "      <td>-3.707856</td>\n",
       "      <td>31.000000</td>\n",
       "      <td>1.000000</td>\n",
       "      <td>1.000000</td>\n",
       "      <td>0.110000</td>\n",
       "      <td>1.000000</td>\n",
       "      <td>84.000000</td>\n",
       "    </tr>\n",
       "    <tr>\n",
       "      <th>50%</th>\n",
       "      <td>40.418731</td>\n",
       "      <td>-3.701602</td>\n",
       "      <td>53.000000</td>\n",
       "      <td>2.000000</td>\n",
       "      <td>7.000000</td>\n",
       "      <td>0.780000</td>\n",
       "      <td>2.000000</td>\n",
       "      <td>247.000000</td>\n",
       "    </tr>\n",
       "    <tr>\n",
       "      <th>75%</th>\n",
       "      <td>40.427997</td>\n",
       "      <td>-3.693818</td>\n",
       "      <td>80.000000</td>\n",
       "      <td>3.000000</td>\n",
       "      <td>28.000000</td>\n",
       "      <td>2.320000</td>\n",
       "      <td>4.000000</td>\n",
       "      <td>321.000000</td>\n",
       "    </tr>\n",
       "    <tr>\n",
       "      <th>max</th>\n",
       "      <td>40.562736</td>\n",
       "      <td>-3.526821</td>\n",
       "      <td>7700.000000</td>\n",
       "      <td>1125.000000</td>\n",
       "      <td>446.000000</td>\n",
       "      <td>17.210000</td>\n",
       "      <td>145.000000</td>\n",
       "      <td>365.000000</td>\n",
       "    </tr>\n",
       "  </tbody>\n",
       "</table>\n",
       "</div>"
      ],
      "text/plain": [
       "           latitude     longitude         price  minimum_nights  \\\n",
       "count  13321.000000  13321.000000  13321.000000    13321.000000   \n",
       "mean      40.420730     -3.697268     69.171834        3.010885   \n",
       "std        0.020344      0.023832    103.721126       12.835619   \n",
       "min       40.331888     -3.863907      9.000000        1.000000   \n",
       "25%       40.410090     -3.707856     31.000000        1.000000   \n",
       "50%       40.418731     -3.701602     53.000000        2.000000   \n",
       "75%       40.427997     -3.693818     80.000000        3.000000   \n",
       "max       40.562736     -3.526821   7700.000000     1125.000000   \n",
       "\n",
       "       number_of_reviews  reviews_per_month  calculated_host_listings_count  \\\n",
       "count       13321.000000       13321.000000                    13321.000000   \n",
       "mean           22.986037           1.520329                        7.605885   \n",
       "std            38.406006           1.852367                       19.619972   \n",
       "min             0.000000           0.000000                        1.000000   \n",
       "25%             1.000000           0.110000                        1.000000   \n",
       "50%             7.000000           0.780000                        2.000000   \n",
       "75%            28.000000           2.320000                        4.000000   \n",
       "max           446.000000          17.210000                      145.000000   \n",
       "\n",
       "       availability_365  \n",
       "count      13321.000000  \n",
       "mean         205.867202  \n",
       "std          126.968961  \n",
       "min            0.000000  \n",
       "25%           84.000000  \n",
       "50%          247.000000  \n",
       "75%          321.000000  \n",
       "max          365.000000  "
      ]
     },
     "execution_count": 7,
     "metadata": {},
     "output_type": "execute_result"
    }
   ],
   "source": [
    "airbnb.describe()"
   ]
  },
  {
   "cell_type": "code",
   "execution_count": 8,
   "metadata": {},
   "outputs": [
    {
     "name": "stdout",
     "output_type": "stream",
     "text": [
      "<class 'pandas.core.frame.DataFrame'>\n",
      "RangeIndex: 13321 entries, 0 to 13320\n",
      "Data columns (total 11 columns):\n",
      "neighbourhood_group               13321 non-null object\n",
      "neighbourhood                     13321 non-null object\n",
      "latitude                          13321 non-null float64\n",
      "longitude                         13321 non-null float64\n",
      "room_type                         13321 non-null object\n",
      "price                             13321 non-null int64\n",
      "minimum_nights                    13321 non-null int64\n",
      "number_of_reviews                 13321 non-null int64\n",
      "reviews_per_month                 13321 non-null float64\n",
      "calculated_host_listings_count    13321 non-null int64\n",
      "availability_365                  13321 non-null int64\n",
      "dtypes: float64(3), int64(5), object(3)\n",
      "memory usage: 1.1+ MB\n"
     ]
    }
   ],
   "source": [
    "airbnb.info()"
   ]
  },
  {
   "cell_type": "code",
   "execution_count": 9,
   "metadata": {},
   "outputs": [
    {
     "data": {
      "image/png": "[encoded data removed]",
      "text/plain": [
       "<Figure size 1656x1080 with 9 Axes>"
      ]
     },
     "metadata": {
      "needs_background": "light"
     },
     "output_type": "display_data"
    }
   ],
   "source": [
    "airbnb.hist(bins=50, figsize=(23,15))\n",
    "plt.show()"
   ]
  },
  {
   "cell_type": "markdown",
   "metadata": {},
   "source": [
    "# Conclusiones\n",
    "No existen valores NULL en ninguna de las columnas -> Todas tienen 13321 registros.\n",
    "\n",
    "neighbourhood_group, neighbourhood y room_type son features categóricas.\n",
    "\n",
    "Se aprecia que varios atributos son tail-heavy. Tendremos que tratar este tema mas adelante.\n"
   ]
  },
  {
   "cell_type": "markdown",
   "metadata": {},
   "source": [
    "# Categorias de label"
   ]
  },
  {
   "cell_type": "code",
   "execution_count": 10,
   "metadata": {},
   "outputs": [
    {
     "data": {
      "text/plain": [
       "<matplotlib.axes._subplots.AxesSubplot at 0x1a201da5d0>"
      ]
     },
     "execution_count": 10,
     "metadata": {},
     "output_type": "execute_result"
    },
    {
     "data": {
      "image/png": "[encoded data removed]",
      "text/plain": [
       "<Figure size 432x288 with 1 Axes>"
      ]
     },
     "metadata": {
      "needs_background": "light"
     },
     "output_type": "display_data"
    }
   ],
   "source": [
    "airbnb[\"room_type\"].hist()"
   ]
  },
  {
   "cell_type": "code",
   "execution_count": 11,
   "metadata": {},
   "outputs": [
    {
     "data": {
      "text/plain": [
       "<matplotlib.axes._subplots.AxesSubplot at 0x1a21c82490>"
      ]
     },
     "execution_count": 11,
     "metadata": {},
     "output_type": "execute_result"
    },
    {
     "data": {
      "image/png": "[encoded data removed]",
      "text/plain": [
       "<Figure size 432x288 with 1 Axes>"
      ]
     },
     "metadata": {
      "needs_background": "light"
     },
     "output_type": "display_data"
    }
   ],
   "source": [
    "airbnb[\"neighbourhood\"].hist()"
   ]
  },
  {
   "cell_type": "markdown",
   "metadata": {},
   "source": [
    "## Creamos test y train set"
   ]
  },
  {
   "cell_type": "code",
   "execution_count": 12,
   "metadata": {},
   "outputs": [],
   "source": [
    "from sklearn.model_selection import StratifiedShuffleSplit"
   ]
  },
  {
   "cell_type": "code",
   "execution_count": 13,
   "metadata": {},
   "outputs": [],
   "source": [
    "split = StratifiedShuffleSplit(n_splits=1, test_size=0.2, random_state=42)\n",
    "\n",
    "# Nota, he probado con neighbourhood, pero al tener categorias con menos de 2 valores, no podemos usar esta columna para stratificar. \n",
    "# Esto nos deja 2 opciones: \n",
    "# 1- Borrar los registros cuya categoría sólo tiene 1 registro. Pero perdemos registros valiosos.\n",
    "# 2- Usar neighbourhood_group, que agrupa los neighbourhood y no tiene el mismo inconveniente.\n",
    "for train_indices, test_indices in split.split(airbnb, airbnb[\"neighbourhood_group\"]):\n",
    "    strat_train_set = airbnb.loc[train_indices]\n",
    "    strat_test_set = airbnb.loc[test_indices]"
   ]
  },
  {
   "cell_type": "code",
   "execution_count": 14,
   "metadata": {},
   "outputs": [],
   "source": [
    "test_path = os.path.join(\"sets\",\"strat_test_set.csv\")\n",
    "#strat_test_set.to_csv(test_path, index=False)"
   ]
  },
  {
   "cell_type": "code",
   "execution_count": 15,
   "metadata": {},
   "outputs": [],
   "source": [
    "train_path = os.path.join(\"sets\",\"strat_train_set.csv\")\n",
    "#strat_train_set.to_csv(train_path, index=False)"
   ]
  },
  {
   "cell_type": "markdown",
   "metadata": {},
   "source": [
    "# Correlation matrix"
   ]
  },
  {
   "cell_type": "code",
   "execution_count": 16,
   "metadata": {},
   "outputs": [],
   "source": [
    "train_set = pd.read_csv(train_path)\n",
    "y_train = train_set[\"room_type\"]\n",
    "#x_train = train_set.drop([\"room_type\",\"neighbourhood_group\"], axis=1, inplace=False)\n",
    "x_train = train_set.drop(\"room_type\", axis=1, inplace=False)"
   ]
  },
  {
   "cell_type": "code",
   "execution_count": 17,
   "metadata": {},
   "outputs": [
    {
     "name": "stdout",
     "output_type": "stream",
     "text": [
      "<class 'pandas.core.frame.DataFrame'>\n",
      "RangeIndex: 10656 entries, 0 to 10655\n",
      "Data columns (total 10 columns):\n",
      "neighbourhood_group               10656 non-null object\n",
      "neighbourhood                     10656 non-null object\n",
      "latitude                          10656 non-null float64\n",
      "longitude                         10656 non-null float64\n",
      "price                             10656 non-null int64\n",
      "minimum_nights                    10656 non-null int64\n",
      "number_of_reviews                 10656 non-null int64\n",
      "reviews_per_month                 10656 non-null float64\n",
      "calculated_host_listings_count    10656 non-null int64\n",
      "availability_365                  10656 non-null int64\n",
      "dtypes: float64(3), int64(5), object(2)\n",
      "memory usage: 832.6+ KB\n"
     ]
    }
   ],
   "source": [
    "x_train.info()"
   ]
  },
  {
   "cell_type": "markdown",
   "metadata": {},
   "source": [
    "Primero tenemos que convertir las categorias a numeros. Usaremos OneHotEncoder."
   ]
  },
  {
   "cell_type": "code",
   "execution_count": 18,
   "metadata": {},
   "outputs": [],
   "source": [
    "from sklearn.preprocessing import OneHotEncoder, MinMaxScaler\n",
    "from sklearn.compose import ColumnTransformer\n",
    "from sklearn.pipeline import Pipeline\n",
    "\n",
    "\n",
    "cat_attribs = [\"neighbourhood_group\",\"neighbourhood\"]\n",
    "num_attribs = [\"latitude\",\"longitude\",\"price\",\"minimum_nights\",\"number_of_reviews\",\"reviews_per_month\",\"calculated_host_listings_count\",\"availability_365\"]\n",
    "\n",
    "cat_pipeline = ColumnTransformer([('cat', OneHotEncoder(), cat_attribs)], remainder=\"passthrough\")"
   ]
  },
  {
   "cell_type": "code",
   "execution_count": 19,
   "metadata": {},
   "outputs": [],
   "source": [
    "train_cat1hot = cat_pipeline.fit_transform(x_train)"
   ]
  },
  {
   "cell_type": "code",
   "execution_count": 20,
   "metadata": {},
   "outputs": [],
   "source": [
    "categories = cat_pipeline.named_transformers_.cat.categories_"
   ]
  },
  {
   "cell_type": "code",
   "execution_count": 21,
   "metadata": {},
   "outputs": [],
   "source": [
    "x_train_prep = pd.DataFrame(train_cat1hot.toarray(), columns=[*categories[0],*categories[1],*num_attribs])[[*num_attribs,*categories[0],*categories[1]]]"
   ]
  },
  {
   "cell_type": "code",
   "execution_count": 22,
   "metadata": {},
   "outputs": [
    {
     "data": {
      "text/html": [
       "<div>\n",
       "<style scoped>\n",
       "    .dataframe tbody tr th:only-of-type {\n",
       "        vertical-align: middle;\n",
       "    }\n",
       "\n",
       "    .dataframe tbody tr th {\n",
       "        vertical-align: top;\n",
       "    }\n",
       "\n",
       "    .dataframe thead th {\n",
       "        text-align: right;\n",
       "    }\n",
       "</style>\n",
       "<table border=\"1\" class=\"dataframe\">\n",
       "  <thead>\n",
       "    <tr style=\"text-align: right;\">\n",
       "      <th></th>\n",
       "      <th>latitude</th>\n",
       "      <th>longitude</th>\n",
       "      <th>price</th>\n",
       "      <th>minimum_nights</th>\n",
       "      <th>number_of_reviews</th>\n",
       "      <th>reviews_per_month</th>\n",
       "      <th>calculated_host_listings_count</th>\n",
       "      <th>availability_365</th>\n",
       "      <th>Arganzuela</th>\n",
       "      <th>Barajas</th>\n",
       "      <th>...</th>\n",
       "      <th>Valdeacederas</th>\n",
       "      <th>Valdefuentes</th>\n",
       "      <th>Valdemarín</th>\n",
       "      <th>Valdezarza</th>\n",
       "      <th>Vallehermoso</th>\n",
       "      <th>Valverde</th>\n",
       "      <th>Ventas</th>\n",
       "      <th>Vinateros</th>\n",
       "      <th>Vista Alegre</th>\n",
       "      <th>Zofío</th>\n",
       "    </tr>\n",
       "  </thead>\n",
       "  <tbody>\n",
       "    <tr>\n",
       "      <th>0</th>\n",
       "      <td>40.422239</td>\n",
       "      <td>-3.704536</td>\n",
       "      <td>55.0</td>\n",
       "      <td>2.0</td>\n",
       "      <td>103.0</td>\n",
       "      <td>3.24</td>\n",
       "      <td>23.0</td>\n",
       "      <td>313.0</td>\n",
       "      <td>0.0</td>\n",
       "      <td>0.0</td>\n",
       "      <td>...</td>\n",
       "      <td>0.0</td>\n",
       "      <td>0.0</td>\n",
       "      <td>0.0</td>\n",
       "      <td>0.0</td>\n",
       "      <td>0.0</td>\n",
       "      <td>0.0</td>\n",
       "      <td>0.0</td>\n",
       "      <td>0.0</td>\n",
       "      <td>0.0</td>\n",
       "      <td>0.0</td>\n",
       "    </tr>\n",
       "    <tr>\n",
       "      <th>1</th>\n",
       "      <td>40.410082</td>\n",
       "      <td>-3.696771</td>\n",
       "      <td>60.0</td>\n",
       "      <td>2.0</td>\n",
       "      <td>13.0</td>\n",
       "      <td>0.39</td>\n",
       "      <td>2.0</td>\n",
       "      <td>212.0</td>\n",
       "      <td>0.0</td>\n",
       "      <td>0.0</td>\n",
       "      <td>...</td>\n",
       "      <td>0.0</td>\n",
       "      <td>0.0</td>\n",
       "      <td>0.0</td>\n",
       "      <td>0.0</td>\n",
       "      <td>0.0</td>\n",
       "      <td>0.0</td>\n",
       "      <td>0.0</td>\n",
       "      <td>0.0</td>\n",
       "      <td>0.0</td>\n",
       "      <td>0.0</td>\n",
       "    </tr>\n",
       "    <tr>\n",
       "      <th>2</th>\n",
       "      <td>40.433707</td>\n",
       "      <td>-3.669566</td>\n",
       "      <td>19.0</td>\n",
       "      <td>2.0</td>\n",
       "      <td>5.0</td>\n",
       "      <td>0.28</td>\n",
       "      <td>14.0</td>\n",
       "      <td>344.0</td>\n",
       "      <td>0.0</td>\n",
       "      <td>0.0</td>\n",
       "      <td>...</td>\n",
       "      <td>0.0</td>\n",
       "      <td>0.0</td>\n",
       "      <td>0.0</td>\n",
       "      <td>0.0</td>\n",
       "      <td>0.0</td>\n",
       "      <td>0.0</td>\n",
       "      <td>0.0</td>\n",
       "      <td>0.0</td>\n",
       "      <td>0.0</td>\n",
       "      <td>0.0</td>\n",
       "    </tr>\n",
       "    <tr>\n",
       "      <th>3</th>\n",
       "      <td>40.402038</td>\n",
       "      <td>-3.675355</td>\n",
       "      <td>26.0</td>\n",
       "      <td>1.0</td>\n",
       "      <td>30.0</td>\n",
       "      <td>5.14</td>\n",
       "      <td>4.0</td>\n",
       "      <td>72.0</td>\n",
       "      <td>0.0</td>\n",
       "      <td>0.0</td>\n",
       "      <td>...</td>\n",
       "      <td>0.0</td>\n",
       "      <td>0.0</td>\n",
       "      <td>0.0</td>\n",
       "      <td>0.0</td>\n",
       "      <td>0.0</td>\n",
       "      <td>0.0</td>\n",
       "      <td>0.0</td>\n",
       "      <td>0.0</td>\n",
       "      <td>0.0</td>\n",
       "      <td>0.0</td>\n",
       "    </tr>\n",
       "    <tr>\n",
       "      <th>4</th>\n",
       "      <td>40.422054</td>\n",
       "      <td>-3.697999</td>\n",
       "      <td>60.0</td>\n",
       "      <td>2.0</td>\n",
       "      <td>16.0</td>\n",
       "      <td>3.27</td>\n",
       "      <td>3.0</td>\n",
       "      <td>268.0</td>\n",
       "      <td>0.0</td>\n",
       "      <td>0.0</td>\n",
       "      <td>...</td>\n",
       "      <td>0.0</td>\n",
       "      <td>0.0</td>\n",
       "      <td>0.0</td>\n",
       "      <td>0.0</td>\n",
       "      <td>0.0</td>\n",
       "      <td>0.0</td>\n",
       "      <td>0.0</td>\n",
       "      <td>0.0</td>\n",
       "      <td>0.0</td>\n",
       "      <td>0.0</td>\n",
       "    </tr>\n",
       "    <tr>\n",
       "      <th>...</th>\n",
       "      <td>...</td>\n",
       "      <td>...</td>\n",
       "      <td>...</td>\n",
       "      <td>...</td>\n",
       "      <td>...</td>\n",
       "      <td>...</td>\n",
       "      <td>...</td>\n",
       "      <td>...</td>\n",
       "      <td>...</td>\n",
       "      <td>...</td>\n",
       "      <td>...</td>\n",
       "      <td>...</td>\n",
       "      <td>...</td>\n",
       "      <td>...</td>\n",
       "      <td>...</td>\n",
       "      <td>...</td>\n",
       "      <td>...</td>\n",
       "      <td>...</td>\n",
       "      <td>...</td>\n",
       "      <td>...</td>\n",
       "      <td>...</td>\n",
       "    </tr>\n",
       "    <tr>\n",
       "      <th>10651</th>\n",
       "      <td>40.461850</td>\n",
       "      <td>-3.700078</td>\n",
       "      <td>55.0</td>\n",
       "      <td>5.0</td>\n",
       "      <td>1.0</td>\n",
       "      <td>0.23</td>\n",
       "      <td>1.0</td>\n",
       "      <td>313.0</td>\n",
       "      <td>0.0</td>\n",
       "      <td>0.0</td>\n",
       "      <td>...</td>\n",
       "      <td>1.0</td>\n",
       "      <td>0.0</td>\n",
       "      <td>0.0</td>\n",
       "      <td>0.0</td>\n",
       "      <td>0.0</td>\n",
       "      <td>0.0</td>\n",
       "      <td>0.0</td>\n",
       "      <td>0.0</td>\n",
       "      <td>0.0</td>\n",
       "      <td>0.0</td>\n",
       "    </tr>\n",
       "    <tr>\n",
       "      <th>10652</th>\n",
       "      <td>40.419016</td>\n",
       "      <td>-3.717999</td>\n",
       "      <td>55.0</td>\n",
       "      <td>3.0</td>\n",
       "      <td>18.0</td>\n",
       "      <td>3.02</td>\n",
       "      <td>1.0</td>\n",
       "      <td>115.0</td>\n",
       "      <td>0.0</td>\n",
       "      <td>0.0</td>\n",
       "      <td>...</td>\n",
       "      <td>0.0</td>\n",
       "      <td>0.0</td>\n",
       "      <td>0.0</td>\n",
       "      <td>0.0</td>\n",
       "      <td>0.0</td>\n",
       "      <td>0.0</td>\n",
       "      <td>0.0</td>\n",
       "      <td>0.0</td>\n",
       "      <td>0.0</td>\n",
       "      <td>0.0</td>\n",
       "    </tr>\n",
       "    <tr>\n",
       "      <th>10653</th>\n",
       "      <td>40.410960</td>\n",
       "      <td>-3.710580</td>\n",
       "      <td>230.0</td>\n",
       "      <td>1.0</td>\n",
       "      <td>23.0</td>\n",
       "      <td>0.67</td>\n",
       "      <td>1.0</td>\n",
       "      <td>327.0</td>\n",
       "      <td>0.0</td>\n",
       "      <td>0.0</td>\n",
       "      <td>...</td>\n",
       "      <td>0.0</td>\n",
       "      <td>0.0</td>\n",
       "      <td>0.0</td>\n",
       "      <td>0.0</td>\n",
       "      <td>0.0</td>\n",
       "      <td>0.0</td>\n",
       "      <td>0.0</td>\n",
       "      <td>0.0</td>\n",
       "      <td>0.0</td>\n",
       "      <td>0.0</td>\n",
       "    </tr>\n",
       "    <tr>\n",
       "      <th>10654</th>\n",
       "      <td>40.411957</td>\n",
       "      <td>-3.696432</td>\n",
       "      <td>65.0</td>\n",
       "      <td>2.0</td>\n",
       "      <td>65.0</td>\n",
       "      <td>2.29</td>\n",
       "      <td>1.0</td>\n",
       "      <td>335.0</td>\n",
       "      <td>0.0</td>\n",
       "      <td>0.0</td>\n",
       "      <td>...</td>\n",
       "      <td>0.0</td>\n",
       "      <td>0.0</td>\n",
       "      <td>0.0</td>\n",
       "      <td>0.0</td>\n",
       "      <td>0.0</td>\n",
       "      <td>0.0</td>\n",
       "      <td>0.0</td>\n",
       "      <td>0.0</td>\n",
       "      <td>0.0</td>\n",
       "      <td>0.0</td>\n",
       "    </tr>\n",
       "    <tr>\n",
       "      <th>10655</th>\n",
       "      <td>40.421115</td>\n",
       "      <td>-3.700015</td>\n",
       "      <td>240.0</td>\n",
       "      <td>3.0</td>\n",
       "      <td>20.0</td>\n",
       "      <td>0.48</td>\n",
       "      <td>6.0</td>\n",
       "      <td>349.0</td>\n",
       "      <td>0.0</td>\n",
       "      <td>0.0</td>\n",
       "      <td>...</td>\n",
       "      <td>0.0</td>\n",
       "      <td>0.0</td>\n",
       "      <td>0.0</td>\n",
       "      <td>0.0</td>\n",
       "      <td>0.0</td>\n",
       "      <td>0.0</td>\n",
       "      <td>0.0</td>\n",
       "      <td>0.0</td>\n",
       "      <td>0.0</td>\n",
       "      <td>0.0</td>\n",
       "    </tr>\n",
       "  </tbody>\n",
       "</table>\n",
       "<p>10656 rows × 154 columns</p>\n",
       "</div>"
      ],
      "text/plain": [
       "        latitude  longitude  price  minimum_nights  number_of_reviews  \\\n",
       "0      40.422239  -3.704536   55.0             2.0              103.0   \n",
       "1      40.410082  -3.696771   60.0             2.0               13.0   \n",
       "2      40.433707  -3.669566   19.0             2.0                5.0   \n",
       "3      40.402038  -3.675355   26.0             1.0               30.0   \n",
       "4      40.422054  -3.697999   60.0             2.0               16.0   \n",
       "...          ...        ...    ...             ...                ...   \n",
       "10651  40.461850  -3.700078   55.0             5.0                1.0   \n",
       "10652  40.419016  -3.717999   55.0             3.0               18.0   \n",
       "10653  40.410960  -3.710580  230.0             1.0               23.0   \n",
       "10654  40.411957  -3.696432   65.0             2.0               65.0   \n",
       "10655  40.421115  -3.700015  240.0             3.0               20.0   \n",
       "\n",
       "       reviews_per_month  calculated_host_listings_count  availability_365  \\\n",
       "0                   3.24                            23.0             313.0   \n",
       "1                   0.39                             2.0             212.0   \n",
       "2                   0.28                            14.0             344.0   \n",
       "3                   5.14                             4.0              72.0   \n",
       "4                   3.27                             3.0             268.0   \n",
       "...                  ...                             ...               ...   \n",
       "10651               0.23                             1.0             313.0   \n",
       "10652               3.02                             1.0             115.0   \n",
       "10653               0.67                             1.0             327.0   \n",
       "10654               2.29                             1.0             335.0   \n",
       "10655               0.48                             6.0             349.0   \n",
       "\n",
       "       Arganzuela  Barajas  ...  Valdeacederas  Valdefuentes  Valdemarín  \\\n",
       "0             0.0      0.0  ...            0.0           0.0         0.0   \n",
       "1             0.0      0.0  ...            0.0           0.0         0.0   \n",
       "2             0.0      0.0  ...            0.0           0.0         0.0   \n",
       "3             0.0      0.0  ...            0.0           0.0         0.0   \n",
       "4             0.0      0.0  ...            0.0           0.0         0.0   \n",
       "...           ...      ...  ...            ...           ...         ...   \n",
       "10651         0.0      0.0  ...            1.0           0.0         0.0   \n",
       "10652         0.0      0.0  ...            0.0           0.0         0.0   \n",
       "10653         0.0      0.0  ...            0.0           0.0         0.0   \n",
       "10654         0.0      0.0  ...            0.0           0.0         0.0   \n",
       "10655         0.0      0.0  ...            0.0           0.0         0.0   \n",
       "\n",
       "       Valdezarza  Vallehermoso  Valverde  Ventas  Vinateros  Vista Alegre  \\\n",
       "0             0.0           0.0       0.0     0.0        0.0           0.0   \n",
       "1             0.0           0.0       0.0     0.0        0.0           0.0   \n",
       "2             0.0           0.0       0.0     0.0        0.0           0.0   \n",
       "3             0.0           0.0       0.0     0.0        0.0           0.0   \n",
       "4             0.0           0.0       0.0     0.0        0.0           0.0   \n",
       "...           ...           ...       ...     ...        ...           ...   \n",
       "10651         0.0           0.0       0.0     0.0        0.0           0.0   \n",
       "10652         0.0           0.0       0.0     0.0        0.0           0.0   \n",
       "10653         0.0           0.0       0.0     0.0        0.0           0.0   \n",
       "10654         0.0           0.0       0.0     0.0        0.0           0.0   \n",
       "10655         0.0           0.0       0.0     0.0        0.0           0.0   \n",
       "\n",
       "       Zofío  \n",
       "0        0.0  \n",
       "1        0.0  \n",
       "2        0.0  \n",
       "3        0.0  \n",
       "4        0.0  \n",
       "...      ...  \n",
       "10651    0.0  \n",
       "10652    0.0  \n",
       "10653    0.0  \n",
       "10654    0.0  \n",
       "10655    0.0  \n",
       "\n",
       "[10656 rows x 154 columns]"
      ]
     },
     "execution_count": 22,
     "metadata": {},
     "output_type": "execute_result"
    }
   ],
   "source": [
    "x_train_prep"
   ]
  },
  {
   "cell_type": "code",
   "execution_count": 23,
   "metadata": {},
   "outputs": [],
   "source": [
    "from sklearn.naive_bayes import GaussianNB\n",
    "from sklearn.model_selection import cross_val_score\n",
    "\n",
    "naive_bayes_model = GaussianNB()"
   ]
  },
  {
   "cell_type": "code",
   "execution_count": 24,
   "metadata": {},
   "outputs": [
    {
     "data": {
      "text/plain": [
       "array([0.1705717 , 0.15182755, 0.16228893, 0.16697936, 0.17276995,\n",
       "       0.17370892, 0.14741784, 0.14647887, 0.15023474, 0.1314554 ])"
      ]
     },
     "execution_count": 24,
     "metadata": {},
     "output_type": "execute_result"
    }
   ],
   "source": [
    "num_cat_naive_bayes_scores = cross_val_score(naive_bayes_model, x_train_prep, y_train, cv=10)\n",
    "num_cat_naive_bayes_scores"
   ]
  },
  {
   "cell_type": "code",
   "execution_count": 25,
   "metadata": {},
   "outputs": [
    {
     "data": {
      "text/plain": [
       "array([0.59512652, 0.68134958, 0.60881801, 0.57598499, 0.63004695,\n",
       "       0.63098592, 0.56244131, 0.62910798, 0.66103286, 0.59248826])"
      ]
     },
     "execution_count": 25,
     "metadata": {},
     "output_type": "execute_result"
    }
   ],
   "source": [
    "num_naive_bayes_scores = cross_val_score(naive_bayes_model, x_train_prep[[*num_attribs]], y_train, cv=10)\n",
    "num_naive_bayes_scores"
   ]
  },
  {
   "cell_type": "code",
   "execution_count": 26,
   "metadata": {},
   "outputs": [
    {
     "data": {
      "text/plain": [
       "array([0.16588566, 0.14058107, 0.16135084, 0.16228893, 0.15962441,\n",
       "       0.16807512, 0.13615023, 0.1370892 , 0.14366197, 0.12300469])"
      ]
     },
     "execution_count": 26,
     "metadata": {},
     "output_type": "execute_result"
    }
   ],
   "source": [
    "cat_naive_bayes_scores = cross_val_score(naive_bayes_model, x_train_prep[[*categories[0],*categories[1]]], y_train, cv=10)\n",
    "cat_naive_bayes_scores"
   ]
  },
  {
   "cell_type": "code",
   "execution_count": null,
   "metadata": {},
   "outputs": [],
   "source": []
  }
 ],
 "metadata": {
  "kernelspec": {
   "display_name": "Python 3",
   "language": "python",
   "name": "python3"
  },
  "language_info": {
   "codemirror_mode": {
    "name": "ipython",
    "version": 3
   },
   "file_extension": ".py",
   "mimetype": "text/x-python",
   "name": "python",
   "nbconvert_exporter": "python",
   "pygments_lexer": "ipython3",
   "version": "3.7.4"
  }
 },
 "nbformat": 4,
 "nbformat_minor": 4
}
