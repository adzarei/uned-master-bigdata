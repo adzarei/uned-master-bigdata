{
 "cells": [
  {
   "cell_type": "markdown",
   "metadata": {},
   "source": [
    "# Fine-Tune a Model\n",
    "We now have a 3 different models with similar performance. Now we need to fine-tune them to leverage their potential."
   ]
  },
  {
   "cell_type": "code",
   "execution_count": 1,
   "metadata": {},
   "outputs": [],
   "source": [
    "import joblib\n",
    "import os\n",
    "import pandas as pd\n",
    "import numpy as np\n",
    "from sklearn.model_selection import GridSearchCV\n",
    "from sklearn.impute import SimpleImputer\n",
    "from sklearn.preprocessing import OneHotEncoder, MinMaxScaler\n",
    "from sklearn.base import BaseEstimator, TransformerMixin\n",
    "from sklearn.pipeline import Pipeline\n",
    "from sklearn.compose import ColumnTransformer\n",
    "from sklearn.linear_model import LinearRegression\n",
    "from sklearn.metrics import mean_squared_error\n",
    "from sklearn.tree import DecisionTreeRegressor\n",
    "from sklearn.model_selection import cross_val_score\n",
    "from sklearn.ensemble import RandomForestRegressor\n",
    "from scipy import stats"
   ]
  },
  {
   "cell_type": "code",
   "execution_count": 2,
   "metadata": {},
   "outputs": [],
   "source": [
    "tree_model = joblib.load(\"models/tree_reg_housing.pkl\")\n",
    "linear_model = joblib.load(\"models/lin_reg_housing.pkl\")\n",
    "forest_model = joblib.load(\"models/forest_reg_housing.pkl\")"
   ]
  },
  {
   "cell_type": "code",
   "execution_count": 3,
   "metadata": {},
   "outputs": [
    {
     "data": {
      "text/html": [
       "<div>\n",
       "<style scoped>\n",
       "    .dataframe tbody tr th:only-of-type {\n",
       "        vertical-align: middle;\n",
       "    }\n",
       "\n",
       "    .dataframe tbody tr th {\n",
       "        vertical-align: top;\n",
       "    }\n",
       "\n",
       "    .dataframe thead th {\n",
       "        text-align: right;\n",
       "    }\n",
       "</style>\n",
       "<table border=\"1\" class=\"dataframe\">\n",
       "  <thead>\n",
       "    <tr style=\"text-align: right;\">\n",
       "      <th></th>\n",
       "      <th>longitude</th>\n",
       "      <th>latitude</th>\n",
       "      <th>housing_median_age</th>\n",
       "      <th>total_rooms</th>\n",
       "      <th>total_bedrooms</th>\n",
       "      <th>population</th>\n",
       "      <th>households</th>\n",
       "      <th>median_income</th>\n",
       "      <th>rooms_per_household</th>\n",
       "      <th>population_per_household</th>\n",
       "      <th>bedrooms_per_room</th>\n",
       "      <th>&lt;1H OCEAN</th>\n",
       "      <th>INLAND</th>\n",
       "      <th>ISLAND</th>\n",
       "      <th>NEAR BAY</th>\n",
       "      <th>NEAR OCEAN</th>\n",
       "    </tr>\n",
       "  </thead>\n",
       "  <tbody>\n",
       "    <tr>\n",
       "      <th>0</th>\n",
       "      <td>0.245020</td>\n",
       "      <td>0.504782</td>\n",
       "      <td>0.725490</td>\n",
       "      <td>0.039731</td>\n",
       "      <td>0.056218</td>\n",
       "      <td>0.019816</td>\n",
       "      <td>0.062920</td>\n",
       "      <td>0.152019</td>\n",
       "      <td>0.024826</td>\n",
       "      <td>0.001128</td>\n",
       "      <td>0.067348</td>\n",
       "      <td>1.0</td>\n",
       "      <td>0.0</td>\n",
       "      <td>0.0</td>\n",
       "      <td>0.0</td>\n",
       "      <td>0.0</td>\n",
       "    </tr>\n",
       "    <tr>\n",
       "      <th>1</th>\n",
       "      <td>0.241036</td>\n",
       "      <td>0.479277</td>\n",
       "      <td>0.254902</td>\n",
       "      <td>0.017119</td>\n",
       "      <td>0.017075</td>\n",
       "      <td>0.008492</td>\n",
       "      <td>0.020724</td>\n",
       "      <td>0.408374</td>\n",
       "      <td>0.034653</td>\n",
       "      <td>0.001622</td>\n",
       "      <td>0.043996</td>\n",
       "      <td>1.0</td>\n",
       "      <td>0.0</td>\n",
       "      <td>0.0</td>\n",
       "      <td>0.0</td>\n",
       "      <td>0.0</td>\n",
       "    </tr>\n",
       "    <tr>\n",
       "      <th>2</th>\n",
       "      <td>0.712151</td>\n",
       "      <td>0.024442</td>\n",
       "      <td>0.588235</td>\n",
       "      <td>0.049499</td>\n",
       "      <td>0.075548</td>\n",
       "      <td>0.026150</td>\n",
       "      <td>0.085885</td>\n",
       "      <td>0.162908</td>\n",
       "      <td>0.021983</td>\n",
       "      <td>0.001073</td>\n",
       "      <td>0.073633</td>\n",
       "      <td>0.0</td>\n",
       "      <td>0.0</td>\n",
       "      <td>0.0</td>\n",
       "      <td>0.0</td>\n",
       "      <td>1.0</td>\n",
       "    </tr>\n",
       "    <tr>\n",
       "      <th>3</th>\n",
       "      <td>0.472112</td>\n",
       "      <td>0.400638</td>\n",
       "      <td>0.470588</td>\n",
       "      <td>0.046828</td>\n",
       "      <td>0.059439</td>\n",
       "      <td>0.040836</td>\n",
       "      <td>0.065534</td>\n",
       "      <td>0.095447</td>\n",
       "      <td>0.029137</td>\n",
       "      <td>0.002771</td>\n",
       "      <td>0.059064</td>\n",
       "      <td>0.0</td>\n",
       "      <td>1.0</td>\n",
       "      <td>0.0</td>\n",
       "      <td>0.0</td>\n",
       "      <td>0.0</td>\n",
       "    </tr>\n",
       "    <tr>\n",
       "      <th>4</th>\n",
       "      <td>0.573705</td>\n",
       "      <td>0.179596</td>\n",
       "      <td>0.313725</td>\n",
       "      <td>0.167523</td>\n",
       "      <td>0.245329</td>\n",
       "      <td>0.124891</td>\n",
       "      <td>0.272778</td>\n",
       "      <td>0.174811</td>\n",
       "      <td>0.023976</td>\n",
       "      <td>0.001896</td>\n",
       "      <td>0.070047</td>\n",
       "      <td>1.0</td>\n",
       "      <td>0.0</td>\n",
       "      <td>0.0</td>\n",
       "      <td>0.0</td>\n",
       "      <td>0.0</td>\n",
       "    </tr>\n",
       "    <tr>\n",
       "      <th>...</th>\n",
       "      <td>...</td>\n",
       "      <td>...</td>\n",
       "      <td>...</td>\n",
       "      <td>...</td>\n",
       "      <td>...</td>\n",
       "      <td>...</td>\n",
       "      <td>...</td>\n",
       "      <td>...</td>\n",
       "      <td>...</td>\n",
       "      <td>...</td>\n",
       "      <td>...</td>\n",
       "      <td>...</td>\n",
       "      <td>...</td>\n",
       "      <td>...</td>\n",
       "      <td>...</td>\n",
       "      <td>...</td>\n",
       "    </tr>\n",
       "    <tr>\n",
       "      <th>16507</th>\n",
       "      <td>0.619522</td>\n",
       "      <td>0.176408</td>\n",
       "      <td>0.882353</td>\n",
       "      <td>0.032177</td>\n",
       "      <td>0.037693</td>\n",
       "      <td>0.015976</td>\n",
       "      <td>0.038835</td>\n",
       "      <td>0.305603</td>\n",
       "      <td>0.034962</td>\n",
       "      <td>0.001639</td>\n",
       "      <td>0.053591</td>\n",
       "      <td>0.0</td>\n",
       "      <td>1.0</td>\n",
       "      <td>0.0</td>\n",
       "      <td>0.0</td>\n",
       "      <td>0.0</td>\n",
       "    </tr>\n",
       "    <tr>\n",
       "      <th>16508</th>\n",
       "      <td>0.676295</td>\n",
       "      <td>0.142402</td>\n",
       "      <td>0.764706</td>\n",
       "      <td>0.030269</td>\n",
       "      <td>0.047036</td>\n",
       "      <td>0.029401</td>\n",
       "      <td>0.047797</td>\n",
       "      <td>0.108157</td>\n",
       "      <td>0.024899</td>\n",
       "      <td>0.002724</td>\n",
       "      <td>0.075265</td>\n",
       "      <td>0.0</td>\n",
       "      <td>1.0</td>\n",
       "      <td>0.0</td>\n",
       "      <td>0.0</td>\n",
       "      <td>0.0</td>\n",
       "    </tr>\n",
       "    <tr>\n",
       "      <th>16509</th>\n",
       "      <td>0.791833</td>\n",
       "      <td>0.164718</td>\n",
       "      <td>0.156863</td>\n",
       "      <td>0.123340</td>\n",
       "      <td>0.140142</td>\n",
       "      <td>0.058718</td>\n",
       "      <td>0.142457</td>\n",
       "      <td>0.191197</td>\n",
       "      <td>0.037051</td>\n",
       "      <td>0.001650</td>\n",
       "      <td>0.051403</td>\n",
       "      <td>0.0</td>\n",
       "      <td>1.0</td>\n",
       "      <td>0.0</td>\n",
       "      <td>0.0</td>\n",
       "      <td>0.0</td>\n",
       "    </tr>\n",
       "    <tr>\n",
       "      <th>16510</th>\n",
       "      <td>0.631474</td>\n",
       "      <td>0.136026</td>\n",
       "      <td>0.588235</td>\n",
       "      <td>0.049702</td>\n",
       "      <td>0.060889</td>\n",
       "      <td>0.037921</td>\n",
       "      <td>0.066094</td>\n",
       "      <td>0.245693</td>\n",
       "      <td>0.031078</td>\n",
       "      <td>0.002508</td>\n",
       "      <td>0.056546</td>\n",
       "      <td>1.0</td>\n",
       "      <td>0.0</td>\n",
       "      <td>0.0</td>\n",
       "      <td>0.0</td>\n",
       "      <td>0.0</td>\n",
       "    </tr>\n",
       "    <tr>\n",
       "      <th>16511</th>\n",
       "      <td>0.189243</td>\n",
       "      <td>0.555792</td>\n",
       "      <td>1.000000</td>\n",
       "      <td>0.078573</td>\n",
       "      <td>0.109536</td>\n",
       "      <td>0.035483</td>\n",
       "      <td>0.118932</td>\n",
       "      <td>0.212073</td>\n",
       "      <td>0.026375</td>\n",
       "      <td>0.001041</td>\n",
       "      <td>0.066088</td>\n",
       "      <td>0.0</td>\n",
       "      <td>0.0</td>\n",
       "      <td>0.0</td>\n",
       "      <td>1.0</td>\n",
       "      <td>0.0</td>\n",
       "    </tr>\n",
       "  </tbody>\n",
       "</table>\n",
       "<p>16512 rows × 16 columns</p>\n",
       "</div>"
      ],
      "text/plain": [
       "       longitude  latitude  housing_median_age  total_rooms  total_bedrooms  \\\n",
       "0       0.245020  0.504782            0.725490     0.039731        0.056218   \n",
       "1       0.241036  0.479277            0.254902     0.017119        0.017075   \n",
       "2       0.712151  0.024442            0.588235     0.049499        0.075548   \n",
       "3       0.472112  0.400638            0.470588     0.046828        0.059439   \n",
       "4       0.573705  0.179596            0.313725     0.167523        0.245329   \n",
       "...          ...       ...                 ...          ...             ...   \n",
       "16507   0.619522  0.176408            0.882353     0.032177        0.037693   \n",
       "16508   0.676295  0.142402            0.764706     0.030269        0.047036   \n",
       "16509   0.791833  0.164718            0.156863     0.123340        0.140142   \n",
       "16510   0.631474  0.136026            0.588235     0.049702        0.060889   \n",
       "16511   0.189243  0.555792            1.000000     0.078573        0.109536   \n",
       "\n",
       "       population  households  median_income  rooms_per_household  \\\n",
       "0        0.019816    0.062920       0.152019             0.024826   \n",
       "1        0.008492    0.020724       0.408374             0.034653   \n",
       "2        0.026150    0.085885       0.162908             0.021983   \n",
       "3        0.040836    0.065534       0.095447             0.029137   \n",
       "4        0.124891    0.272778       0.174811             0.023976   \n",
       "...           ...         ...            ...                  ...   \n",
       "16507    0.015976    0.038835       0.305603             0.034962   \n",
       "16508    0.029401    0.047797       0.108157             0.024899   \n",
       "16509    0.058718    0.142457       0.191197             0.037051   \n",
       "16510    0.037921    0.066094       0.245693             0.031078   \n",
       "16511    0.035483    0.118932       0.212073             0.026375   \n",
       "\n",
       "       population_per_household  bedrooms_per_room  <1H OCEAN  INLAND  ISLAND  \\\n",
       "0                      0.001128           0.067348        1.0     0.0     0.0   \n",
       "1                      0.001622           0.043996        1.0     0.0     0.0   \n",
       "2                      0.001073           0.073633        0.0     0.0     0.0   \n",
       "3                      0.002771           0.059064        0.0     1.0     0.0   \n",
       "4                      0.001896           0.070047        1.0     0.0     0.0   \n",
       "...                         ...                ...        ...     ...     ...   \n",
       "16507                  0.001639           0.053591        0.0     1.0     0.0   \n",
       "16508                  0.002724           0.075265        0.0     1.0     0.0   \n",
       "16509                  0.001650           0.051403        0.0     1.0     0.0   \n",
       "16510                  0.002508           0.056546        1.0     0.0     0.0   \n",
       "16511                  0.001041           0.066088        0.0     0.0     0.0   \n",
       "\n",
       "       NEAR BAY  NEAR OCEAN  \n",
       "0           0.0         0.0  \n",
       "1           0.0         0.0  \n",
       "2           0.0         1.0  \n",
       "3           0.0         0.0  \n",
       "4           0.0         0.0  \n",
       "...         ...         ...  \n",
       "16507       0.0         0.0  \n",
       "16508       0.0         0.0  \n",
       "16509       0.0         0.0  \n",
       "16510       0.0         0.0  \n",
       "16511       1.0         0.0  \n",
       "\n",
       "[16512 rows x 16 columns]"
      ]
     },
     "execution_count": 3,
     "metadata": {},
     "output_type": "execute_result"
    }
   ],
   "source": [
    "data_prep = os.path.join(\"..\",\"datasets\",\"housing\",\"data_prep\",\"housing_prep.csv\")\n",
    "housing_prepared = pd.read_csv(data_prep)\n",
    "housing_prepared"
   ]
  },
  {
   "cell_type": "code",
   "execution_count": 4,
   "metadata": {},
   "outputs": [],
   "source": [
    "trainset_path = os.path.join(\"..\",\"datasets\",\"housing\",\"train\",\"housing_strat_train.csv\")\n",
    "strat_train_set = pd.read_csv(trainset_path)\n",
    "\n",
    "# Predictors\n",
    "housing = strat_train_set.drop(\"median_house_value\", axis=1, inplace=False)\n",
    "housing.drop(\"id\", axis=1, inplace=True)\n",
    "\n",
    "# Labels\n",
    "housing_labels = strat_train_set[\"median_house_value\"]\n",
    "\n",
    "# Numeric columns DF\n",
    "numeric_housing = housing.drop(\"ocean_proximity\", axis=1)\n",
    "\n",
    "# Categorical cloumns DF\n",
    "housing_cat = housing[[\"ocean_proximity\"]]"
   ]
  },
  {
   "cell_type": "markdown",
   "metadata": {},
   "source": [
    "### Grid Search\n",
    "GridSearch provides an automatic way of searching for the best hyperparameter combination instead of searching manually."
   ]
  },
  {
   "cell_type": "code",
   "execution_count": 5,
   "metadata": {},
   "outputs": [
    {
     "data": {
      "text/plain": [
       "GridSearchCV(cv=5, error_score='raise-deprecating',\n",
       "             estimator=RandomForestRegressor(bootstrap=True, criterion='mse',\n",
       "                                             max_depth=None,\n",
       "                                             max_features='auto',\n",
       "                                             max_leaf_nodes=None,\n",
       "                                             min_impurity_decrease=0.0,\n",
       "                                             min_impurity_split=None,\n",
       "                                             min_samples_leaf=1,\n",
       "                                             min_samples_split=2,\n",
       "                                             min_weight_fraction_leaf=0.0,\n",
       "                                             n_estimators=10, n_jobs=None,\n",
       "                                             oob_score=False, random_state=None,\n",
       "                                             verbose=0, warm_start=False),\n",
       "             iid='warn', n_jobs=None,\n",
       "             param_grid=[{'max_features': [2, 4, 6, 8],\n",
       "                          'n_estimators': [3, 10, 30]},\n",
       "                         {'bootstrap': [False], 'max_features': [2, 3, 4],\n",
       "                          'n_estimators': [3, 10]}],\n",
       "             pre_dispatch='2*n_jobs', refit=True, return_train_score=True,\n",
       "             scoring='neg_mean_squared_error', verbose=0)"
      ]
     },
     "execution_count": 5,
     "metadata": {},
     "output_type": "execute_result"
    }
   ],
   "source": [
    "param_grid = [\n",
    "    {'n_estimators' : [3, 10, 30], 'max_features' : [2, 4, 6, 8]},\n",
    "    {'bootstrap' : [False], 'n_estimators' : [3, 10], 'max_features' : [2, 3, 4]}\n",
    "]\n",
    "\n",
    "grid_search = GridSearchCV(forest_model, param_grid, cv=5, scoring='neg_mean_squared_error', return_train_score=True)\n",
    "grid_search.fit(housing_prepared, housing_labels)"
   ]
  },
  {
   "cell_type": "code",
   "execution_count": 6,
   "metadata": {},
   "outputs": [
    {
     "data": {
      "text/plain": [
       "{'max_features': 6, 'n_estimators': 30}"
      ]
     },
     "execution_count": 6,
     "metadata": {},
     "output_type": "execute_result"
    }
   ],
   "source": [
    "grid_search.best_params_"
   ]
  },
  {
   "cell_type": "markdown",
   "metadata": {},
   "source": [
    "The outcome {'max_features': 8, 'n_estimators': 30} is probably due to 6 and 30 being the maximun values to be evaluated. We should try with higher values."
   ]
  },
  {
   "cell_type": "code",
   "execution_count": 7,
   "metadata": {},
   "outputs": [
    {
     "data": {
      "text/plain": [
       "RandomForestRegressor(bootstrap=True, criterion='mse', max_depth=None,\n",
       "                      max_features=6, max_leaf_nodes=None,\n",
       "                      min_impurity_decrease=0.0, min_impurity_split=None,\n",
       "                      min_samples_leaf=1, min_samples_split=2,\n",
       "                      min_weight_fraction_leaf=0.0, n_estimators=30,\n",
       "                      n_jobs=None, oob_score=False, random_state=None,\n",
       "                      verbose=0, warm_start=False)"
      ]
     },
     "execution_count": 7,
     "metadata": {},
     "output_type": "execute_result"
    }
   ],
   "source": [
    "grid_search.best_estimator_"
   ]
  },
  {
   "cell_type": "code",
   "execution_count": 8,
   "metadata": {},
   "outputs": [
    {
     "name": "stdout",
     "output_type": "stream",
     "text": [
      "64314.080334784085 {'max_features': 2, 'n_estimators': 3}\n",
      "55456.194504309664 {'max_features': 2, 'n_estimators': 10}\n",
      "53293.48096681795 {'max_features': 2, 'n_estimators': 30}\n",
      "60915.90797390935 {'max_features': 4, 'n_estimators': 3}\n",
      "53185.6638787699 {'max_features': 4, 'n_estimators': 10}\n",
      "50797.80164583807 {'max_features': 4, 'n_estimators': 30}\n",
      "58707.73086039366 {'max_features': 6, 'n_estimators': 3}\n",
      "52466.86335565673 {'max_features': 6, 'n_estimators': 10}\n",
      "50005.71764250188 {'max_features': 6, 'n_estimators': 30}\n",
      "59145.66559085611 {'max_features': 8, 'n_estimators': 3}\n",
      "52243.74165460452 {'max_features': 8, 'n_estimators': 10}\n",
      "50108.37191660722 {'max_features': 8, 'n_estimators': 30}\n",
      "63111.74552108382 {'bootstrap': False, 'max_features': 2, 'n_estimators': 3}\n",
      "54180.664922832504 {'bootstrap': False, 'max_features': 2, 'n_estimators': 10}\n",
      "59922.30211318795 {'bootstrap': False, 'max_features': 3, 'n_estimators': 3}\n",
      "52924.653796960614 {'bootstrap': False, 'max_features': 3, 'n_estimators': 10}\n",
      "58657.81715099997 {'bootstrap': False, 'max_features': 4, 'n_estimators': 3}\n",
      "51428.61075047109 {'bootstrap': False, 'max_features': 4, 'n_estimators': 10}\n"
     ]
    }
   ],
   "source": [
    "cvres = grid_search.cv_results_\n",
    "for mean_score, params in zip(cvres[\"mean_test_score\"], cvres[\"params\"]):\n",
    "    print(np.sqrt(-mean_score), params)"
   ]
  },
  {
   "cell_type": "markdown",
   "metadata": {},
   "source": [
    "## Randomized Search\n",
    "RandomizedSearchCV provides exploration of hyperparameters randomly given a maximun number of iteratios. It is better for large  hyperparameter search space. It is useful when you have a given computing budget as you can set the number of iterations to that budget."
   ]
  },
  {
   "cell_type": "markdown",
   "metadata": {},
   "source": [
    "## Ensable Methods\n",
    "This is a way to fine-tune a system by trying combinations of models that perform better."
   ]
  },
  {
   "cell_type": "markdown",
   "metadata": {},
   "source": [
    "## Analyze the Best Models and their Errors"
   ]
  },
  {
   "cell_type": "code",
   "execution_count": 9,
   "metadata": {},
   "outputs": [
    {
     "data": {
      "text/plain": [
       "ColumnTransformer(n_jobs=None, remainder='drop', sparse_threshold=0.3,\n",
       "                  transformer_weights=None,\n",
       "                  transformers=[('num',\n",
       "                                 Pipeline(memory=None,\n",
       "                                          steps=[('imputer',\n",
       "                                                  SimpleImputer(add_indicator=False,\n",
       "                                                                copy=True,\n",
       "                                                                fill_value=None,\n",
       "                                                                missing_values=nan,\n",
       "                                                                strategy='median',\n",
       "                                                                verbose=0)),\n",
       "                                                 ('attrib_adder',\n",
       "                                                  CombinedAttributesAdder(add_bedrooms_per_room=True)),\n",
       "                                                 ('std_scaler',\n",
       "                                                  MinMa...rue,\n",
       "                                                               feature_range=(0,\n",
       "                                                                              1)))],\n",
       "                                          verbose=False),\n",
       "                                 ['longitude', 'latitude', 'housing_median_age',\n",
       "                                  'total_rooms', 'total_bedrooms', 'population',\n",
       "                                  'households', 'median_income']),\n",
       "                                ('cat',\n",
       "                                 OneHotEncoder(categorical_features=None,\n",
       "                                               categories=None, drop=None,\n",
       "                                               dtype=<class 'numpy.float64'>,\n",
       "                                               handle_unknown='error',\n",
       "                                               n_values=None, sparse=True),\n",
       "                                 ['ocean_proximity'])],\n",
       "                  verbose=False)"
      ]
     },
     "execution_count": 9,
     "metadata": {},
     "output_type": "execute_result"
    }
   ],
   "source": [
    "# From previous notebooks\n",
    "rooms_ix, bedrooms_ix, population_ix, households_ix = 3,4,5,6\n",
    "\n",
    "class CombinedAttributesAdder(BaseEstimator, TransformerMixin):\n",
    "    def __init__(self, add_bedrooms_per_room=True):\n",
    "        self.add_bedrooms_per_room = add_bedrooms_per_room\n",
    "    \n",
    "    def fit(self, X, y=None):\n",
    "        return self\n",
    "    \n",
    "    def transform(self, X, y=None):\n",
    "        rooms_per_household = X[:,rooms_ix] / X[:, households_ix]\n",
    "        population_per_household = X[:, population_ix] / X[:, households_ix]\n",
    "        if self.add_bedrooms_per_room:\n",
    "            bedrooms_per_room = X[:, bedrooms_ix] / X[:, rooms_ix]\n",
    "            return np.c_[X, rooms_per_household, population_per_household, bedrooms_per_room]\n",
    "        else:\n",
    "            return np.c_[X, rooms_per_household, population_per_household]\n",
    "        \n",
    "# Provided transformers\n",
    "imputer = SimpleImputer(strategy=\"median\")\n",
    "cat_enconder = OneHotEncoder()\n",
    "attr_adder = CombinedAttributesAdder(add_bedrooms_per_room=True)\n",
    "\n",
    "# Pipelines\n",
    "std_num_pipeline = Pipeline([\n",
    "    ('imputer', SimpleImputer(strategy=\"median\")),\n",
    "    ('attrib_adder', CombinedAttributesAdder(add_bedrooms_per_room=True)),\n",
    "    ('std_scaler', MinMaxScaler())\n",
    "])\n",
    "\n",
    "\n",
    "num_attribs = list(numeric_housing)\n",
    "cat_attribs = [\"ocean_proximity\"]\n",
    "\n",
    "full_pipeline = ColumnTransformer([\n",
    "    ('num', std_num_pipeline, num_attribs),\n",
    "    ('cat', OneHotEncoder(), cat_attribs)\n",
    "])\n",
    "\n",
    "# Data fitted to the pipeline\n",
    "full_pipeline.fit(housing)"
   ]
  },
  {
   "cell_type": "code",
   "execution_count": 10,
   "metadata": {},
   "outputs": [
    {
     "data": {
      "text/plain": [
       "array([7.35405121e-02, 6.90548273e-02, 4.24809514e-02, 1.77738833e-02,\n",
       "       1.74578773e-02, 1.78167005e-02, 1.64125163e-02, 3.27521552e-01,\n",
       "       4.52725958e-02, 1.07833428e-01, 8.64516523e-02, 1.06799969e-02,\n",
       "       1.59662676e-01, 8.82337873e-05, 3.82448402e-03, 4.12811321e-03])"
      ]
     },
     "execution_count": 10,
     "metadata": {},
     "output_type": "execute_result"
    }
   ],
   "source": [
    "feature_importance = grid_search.best_estimator_.feature_importances_\n",
    "feature_importance"
   ]
  },
  {
   "cell_type": "code",
   "execution_count": 11,
   "metadata": {},
   "outputs": [
    {
     "data": {
      "text/plain": [
       "[(0.32752155205086614, 'median_income'),\n",
       " (0.15966267615382082, 'INLAND'),\n",
       " (0.1078334275556137, 'pop_per_hhold'),\n",
       " (0.08645165230606836, 'bedrooms_per_room'),\n",
       " (0.0735405120543594, 'longitude'),\n",
       " (0.06905482733336016, 'latitude'),\n",
       " (0.04527259576487489, 'rooms_perhhold'),\n",
       " (0.04248095138185572, 'housing_median_age'),\n",
       " (0.017816700483959873, 'population'),\n",
       " (0.017773883326142024, 'total_rooms'),\n",
       " (0.01745787733002535, 'total_bedrooms'),\n",
       " (0.016412516292657775, 'households'),\n",
       " (0.010679996944556399, '<1H OCEAN'),\n",
       " (0.004128113210300525, 'NEAR OCEAN'),\n",
       " (0.003824484024227125, 'NEAR BAY'),\n",
       " (8.823378731174312e-05, 'ISLAND')]"
      ]
     },
     "execution_count": 11,
     "metadata": {},
     "output_type": "execute_result"
    }
   ],
   "source": [
    "# Importance scores vs attribute names\n",
    "extra_attribs = [\"rooms_perhhold\", \"pop_per_hhold\", \"bedrooms_per_room\"]\n",
    "cat_enconder = full_pipeline.named_transformers_[\"cat\"]\n",
    "cat_one_hot_attribs = list(cat_enconder.categories_[0])\n",
    "attributes = num_attribs + extra_attribs + cat_one_hot_attribs\n",
    "sorted(zip(feature_importance, attributes), reverse=True)"
   ]
  },
  {
   "cell_type": "markdown",
   "metadata": {},
   "source": [
    "This list helps us to understand which attributes are a more useful feature. We could drop the least important ones."
   ]
  },
  {
   "cell_type": "markdown",
   "metadata": {},
   "source": [
    "## Evaluating your system on the Test Set\n",
    "Steps:\n",
    "1- Get the predictors and labels from the Test Set.<br/>\n",
    "2- Run the full_pipeline.<br/>\n",
    "3- Call transform() NOT fit_transform(). We don't want to fit the test set.<br/>\n",
    "4- Evaluate the results.<br/>"
   ]
  },
  {
   "cell_type": "code",
   "execution_count": 12,
   "metadata": {},
   "outputs": [],
   "source": [
    "# Load test set\n",
    "test_path = os.path.join(\"..\",\"datasets\",\"housing\",\"test\",\"housing_strat_test.csv\")\n",
    "test_set = pd.read_csv(test_path)\n",
    "test_set.drop(\"id\", axis=1, inplace=True)\n",
    "\n",
    "# Predictors\n",
    "housing_pred = test_set.drop(\"median_house_value\", axis=1, inplace=False)\n",
    "x_test_prep = full_pipeline.transform(housing_pred)\n",
    "\n",
    "# Labels\n",
    "y_test = test_set[\"median_house_value\"].copy()"
   ]
  },
  {
   "cell_type": "code",
   "execution_count": 13,
   "metadata": {},
   "outputs": [
    {
     "data": {
      "text/plain": [
       "47751.74888828847"
      ]
     },
     "execution_count": 13,
     "metadata": {},
     "output_type": "execute_result"
    }
   ],
   "source": [
    "final_model = grid_search.best_estimator_\n",
    "final_pred = final_model.predict(x_test_prep)\n",
    "\n",
    "final_mse = mean_squared_error(y_test, final_pred)\n",
    "final_rmse = np.sqrt(final_mse)\n",
    "final_rmse"
   ]
  },
  {
   "cell_type": "markdown",
   "metadata": {},
   "source": [
    "To check how precise the estimate is, we need to compute a 95% Confidence Interval fro the generalisation error."
   ]
  },
  {
   "cell_type": "code",
   "execution_count": 14,
   "metadata": {},
   "outputs": [
    {
     "data": {
      "text/plain": [
       "array([45773.57201926, 49651.17469283])"
      ]
     },
     "execution_count": 14,
     "metadata": {},
     "output_type": "execute_result"
    }
   ],
   "source": [
    "confidence = 0.95\n",
    "squared_errors = (final_pred - y_test) ** 2\n",
    "np.sqrt(stats.t.interval(confidence, len(squared_errors) -1, loc=squared_errors.mean(), scale=stats.sem(squared_errors)))"
   ]
  }
 ],
 "metadata": {
  "kernelspec": {
   "display_name": "Python 3",
   "language": "python",
   "name": "python3"
  },
  "language_info": {
   "codemirror_mode": {
    "name": "ipython",
    "version": 3
   },
   "file_extension": ".py",
   "mimetype": "text/x-python",
   "name": "python",
   "nbconvert_exporter": "python",
   "pygments_lexer": "ipython3",
   "version": "3.7.4"
  }
 },
 "nbformat": 4,
 "nbformat_minor": 4
}
