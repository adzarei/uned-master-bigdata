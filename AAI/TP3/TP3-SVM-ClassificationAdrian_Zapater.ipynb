{
 "cells": [
  {
   "cell_type": "markdown",
   "metadata": {},
   "source": [
    "# TP3 - 7.4 - SVM - Adrián José Zapater Reig"
   ]
  },
  {
   "cell_type": "markdown",
   "metadata": {},
   "source": [
    "## 7.4.1 - Clasificación:\n",
    "- Limpieza de datos\n",
    "    - Estudio estadístico de room_type\n",
    "- Clasificación usando SVC y LinearSVC\n",
    "    - Afinación de SVC usando RBF\n",
    "        - Encontrar el los mejores valores de gamma y c con GridSearchCV\n",
    "        - Hacer 2+ busquedas usando numpy.logspace para generar las listas de parámetros. \n",
    "    "
   ]
  },
  {
   "cell_type": "code",
   "execution_count": 1,
   "metadata": {},
   "outputs": [],
   "source": [
    "import os\n",
    "import pandas as pd"
   ]
  },
  {
   "cell_type": "code",
   "execution_count": 2,
   "metadata": {},
   "outputs": [],
   "source": [
    "data_path = os.path.join(\"data\",\"airbnb.csv\")\n",
    "airbnb_raw = pd.read_csv(data_path)"
   ]
  },
  {
   "cell_type": "code",
   "execution_count": 3,
   "metadata": {},
   "outputs": [
    {
     "data": {
      "text/html": [
       "<div>\n",
       "<style scoped>\n",
       "    .dataframe tbody tr th:only-of-type {\n",
       "        vertical-align: middle;\n",
       "    }\n",
       "\n",
       "    .dataframe tbody tr th {\n",
       "        vertical-align: top;\n",
       "    }\n",
       "\n",
       "    .dataframe thead th {\n",
       "        text-align: right;\n",
       "    }\n",
       "</style>\n",
       "<table border=\"1\" class=\"dataframe\">\n",
       "  <thead>\n",
       "    <tr style=\"text-align: right;\">\n",
       "      <th></th>\n",
       "      <th>neighbourhood_group</th>\n",
       "      <th>neighbourhood</th>\n",
       "      <th>latitude</th>\n",
       "      <th>longitude</th>\n",
       "      <th>room_type</th>\n",
       "      <th>price</th>\n",
       "      <th>minimum_nights</th>\n",
       "      <th>number_of_reviews</th>\n",
       "      <th>reviews_per_month</th>\n",
       "      <th>calculated_host_listings_count</th>\n",
       "      <th>availability_365</th>\n",
       "    </tr>\n",
       "  </thead>\n",
       "  <tbody>\n",
       "    <tr>\n",
       "      <th>0</th>\n",
       "      <td>Centro</td>\n",
       "      <td>Justicia</td>\n",
       "      <td>40.424715</td>\n",
       "      <td>-3.698638</td>\n",
       "      <td>Entire home/apt</td>\n",
       "      <td>49</td>\n",
       "      <td>28</td>\n",
       "      <td>35</td>\n",
       "      <td>0.42</td>\n",
       "      <td>1</td>\n",
       "      <td>99</td>\n",
       "    </tr>\n",
       "    <tr>\n",
       "      <th>1</th>\n",
       "      <td>Centro</td>\n",
       "      <td>Embajadores</td>\n",
       "      <td>40.413418</td>\n",
       "      <td>-3.706838</td>\n",
       "      <td>Entire home/apt</td>\n",
       "      <td>80</td>\n",
       "      <td>5</td>\n",
       "      <td>18</td>\n",
       "      <td>0.30</td>\n",
       "      <td>1</td>\n",
       "      <td>188</td>\n",
       "    </tr>\n",
       "    <tr>\n",
       "      <th>2</th>\n",
       "      <td>Moncloa - Aravaca</td>\n",
       "      <td>Argüelles</td>\n",
       "      <td>40.424920</td>\n",
       "      <td>-3.713446</td>\n",
       "      <td>Entire home/apt</td>\n",
       "      <td>40</td>\n",
       "      <td>2</td>\n",
       "      <td>21</td>\n",
       "      <td>0.25</td>\n",
       "      <td>9</td>\n",
       "      <td>195</td>\n",
       "    </tr>\n",
       "    <tr>\n",
       "      <th>3</th>\n",
       "      <td>Moncloa - Aravaca</td>\n",
       "      <td>Casa de Campo</td>\n",
       "      <td>40.431027</td>\n",
       "      <td>-3.724586</td>\n",
       "      <td>Entire home/apt</td>\n",
       "      <td>55</td>\n",
       "      <td>2</td>\n",
       "      <td>3</td>\n",
       "      <td>0.13</td>\n",
       "      <td>9</td>\n",
       "      <td>334</td>\n",
       "    </tr>\n",
       "    <tr>\n",
       "      <th>4</th>\n",
       "      <td>Latina</td>\n",
       "      <td>Cármenes</td>\n",
       "      <td>40.403410</td>\n",
       "      <td>-3.740842</td>\n",
       "      <td>Private room</td>\n",
       "      <td>16</td>\n",
       "      <td>2</td>\n",
       "      <td>23</td>\n",
       "      <td>0.76</td>\n",
       "      <td>2</td>\n",
       "      <td>250</td>\n",
       "    </tr>\n",
       "  </tbody>\n",
       "</table>\n",
       "</div>"
      ],
      "text/plain": [
       "  neighbourhood_group  neighbourhood   latitude  longitude        room_type  \\\n",
       "0              Centro       Justicia  40.424715  -3.698638  Entire home/apt   \n",
       "1              Centro    Embajadores  40.413418  -3.706838  Entire home/apt   \n",
       "2   Moncloa - Aravaca      Argüelles  40.424920  -3.713446  Entire home/apt   \n",
       "3   Moncloa - Aravaca  Casa de Campo  40.431027  -3.724586  Entire home/apt   \n",
       "4              Latina       Cármenes  40.403410  -3.740842     Private room   \n",
       "\n",
       "   price  minimum_nights  number_of_reviews  reviews_per_month  \\\n",
       "0     49              28                 35               0.42   \n",
       "1     80               5                 18               0.30   \n",
       "2     40               2                 21               0.25   \n",
       "3     55               2                  3               0.13   \n",
       "4     16               2                 23               0.76   \n",
       "\n",
       "   calculated_host_listings_count  availability_365  \n",
       "0                               1                99  \n",
       "1                               1               188  \n",
       "2                               9               195  \n",
       "3                               9               334  \n",
       "4                               2               250  "
      ]
     },
     "execution_count": 3,
     "metadata": {},
     "output_type": "execute_result"
    }
   ],
   "source": [
    "airbnb_raw.head()"
   ]
  },
  {
   "cell_type": "markdown",
   "metadata": {},
   "source": [
    "### En primer lugar estudiemos room_type"
   ]
  },
  {
   "cell_type": "code",
   "execution_count": 4,
   "metadata": {},
   "outputs": [
    {
     "name": "stdout",
     "output_type": "stream",
     "text": [
      "['Entire home/apt' 'Private room' 'Shared room']\n"
     ]
    }
   ],
   "source": [
    "# Tenemos 3 etiquetas a clasificar: ['Entire home/apt' 'Private room' 'Shared room']\n",
    "print(airbnb_raw['room_type'].unique())"
   ]
  },
  {
   "cell_type": "code",
   "execution_count": 5,
   "metadata": {},
   "outputs": [
    {
     "data": {
      "text/plain": [
       "room_type\n",
       "Entire home/apt    7926\n",
       "Private room       5203\n",
       "Shared room         192\n",
       "dtype: int64"
      ]
     },
     "execution_count": 5,
     "metadata": {},
     "output_type": "execute_result"
    }
   ],
   "source": [
    "# Las etiquetas están repartidas de la siguiente manera:\n",
    "airbnb_raw.groupby(\"room_type\").size()"
   ]
  },
  {
   "cell_type": "code",
   "execution_count": 6,
   "metadata": {},
   "outputs": [
    {
     "data": {
      "text/plain": [
       "<matplotlib.axes._subplots.AxesSubplot at 0x1243f2650>"
      ]
     },
     "execution_count": 6,
     "metadata": {},
     "output_type": "execute_result"
    },
    {
     "data": {
      "image/png": "[encoded data removed]",
      "text/plain": [
       "<Figure size 432x288 with 1 Axes>"
      ]
     },
     "metadata": {},
     "output_type": "display_data"
    }
   ],
   "source": [
    "import seaborn as sns; sns.set()\n",
    "import matplotlib.pyplot as plt\n",
    "\n",
    "sns.countplot(airbnb_raw[\"room_type\"], label=\"room_type count\")"
   ]
  },
  {
   "cell_type": "markdown",
   "metadata": {},
   "source": [
    "Como podemos ver las etiquetas están desbalanceadas. Shared room tiene muchos registros que las primeras 2.\n",
    "Los datos no están balanceado por lo que tendremos que tenerlo en cuenta a la hora de entrenar el modelo."
   ]
  },
  {
   "cell_type": "markdown",
   "metadata": {},
   "source": [
    "## Estudio estadístico:\n",
    "En esta sección vamos a limpiar el dataset:\n",
    "\n",
    "Dado que neighbourhood y neighbourhood_group nos dan la misma información (siendo neighbourhood mas precisa, quizás demasiado precisa) vamos a descartar neighbourhood del dataset.\n",
    "\n",
    "Vamos a estudiar si hubiesen datos faltantes en alguna columna y sustituirlos por valores neutros (media de la columna para numéricos y eliminar el registro para categóricos puesto que no podemos darle un valor sin afectar a las conclusiones que se puedan sacar.)"
   ]
  },
  {
   "cell_type": "code",
   "execution_count": 7,
   "metadata": {},
   "outputs": [],
   "source": [
    "airbnb_staged = airbnb_raw.drop(\"neighbourhood\", 1, inplace=False)"
   ]
  },
  {
   "cell_type": "code",
   "execution_count": 8,
   "metadata": {},
   "outputs": [
    {
     "name": "stdout",
     "output_type": "stream",
     "text": [
      "<class 'pandas.core.frame.DataFrame'>\n",
      "RangeIndex: 13321 entries, 0 to 13320\n",
      "Data columns (total 10 columns):\n",
      "neighbourhood_group               13321 non-null object\n",
      "latitude                          13321 non-null float64\n",
      "longitude                         13321 non-null float64\n",
      "room_type                         13321 non-null object\n",
      "price                             13321 non-null int64\n",
      "minimum_nights                    13321 non-null int64\n",
      "number_of_reviews                 13321 non-null int64\n",
      "reviews_per_month                 13321 non-null float64\n",
      "calculated_host_listings_count    13321 non-null int64\n",
      "availability_365                  13321 non-null int64\n",
      "dtypes: float64(3), int64(5), object(2)\n",
      "memory usage: 1.0+ MB\n"
     ]
    }
   ],
   "source": [
    "airbnb_staged.info()"
   ]
  },
  {
   "cell_type": "markdown",
   "metadata": {},
   "source": [
    "Como podemos ver, todas las columnas tienen valor para todos los registros distinto a nulo (indicador non-null y nº de registros igual al total). Por lo que no tendremos que añadir o eliminar registros."
   ]
  },
  {
   "cell_type": "markdown",
   "metadata": {},
   "source": [
    "#### Separar un test set\n",
    "Usamos stratified test"
   ]
  },
  {
   "cell_type": "code",
   "execution_count": 9,
   "metadata": {},
   "outputs": [],
   "source": [
    "from sklearn.model_selection import StratifiedShuffleSplit\n",
    "# Separamos en 2 grupos con 0.2 en el test set.\n",
    "split = StratifiedShuffleSplit(n_splits=1, test_size=0.2, random_state=42)\n",
    "\n",
    "# Separamos el test y train set respetando la proporción de muestras por neighbourhood_group para tener representación \n",
    "# de todas las zonas en ambos conjuntos.\n",
    "for train_id, test_id in split.split(airbnb_staged, airbnb_staged[\"neighbourhood_group\"]):\n",
    "    train_set_st, test_set_st = airbnb_staged.loc[train_id], airbnb_staged.loc[test_id]\n",
    "\n",
    "y_train = train_set_st[\"room_type\"]\n",
    "x_train = train_set_st.drop(\"room_type\", 1, inplace=False)"
   ]
  },
  {
   "cell_type": "code",
   "execution_count": 10,
   "metadata": {},
   "outputs": [
    {
     "data": {
      "text/plain": [
       "10656"
      ]
     },
     "execution_count": 10,
     "metadata": {},
     "output_type": "execute_result"
    }
   ],
   "source": [
    "train_set_st[\"price\"].count()"
   ]
  },
  {
   "cell_type": "code",
   "execution_count": 11,
   "metadata": {},
   "outputs": [
    {
     "data": {
      "text/plain": [
       "2665"
      ]
     },
     "execution_count": 11,
     "metadata": {},
     "output_type": "execute_result"
    }
   ],
   "source": [
    "test_set_st[\"price\"].count()"
   ]
  },
  {
   "cell_type": "markdown",
   "metadata": {},
   "source": [
    "### Preprocesing\n",
    "En esta sección vamos a escalar valores numéricos y transformar los datos categóricos a numéricos.\n",
    "\n",
    "Como ya sabemos, los modelos SVC son muy sensibles a los valores no escaldos. Para maximizar su rendimiento, escalaremos estos valores con el StandardScaler de scikit learn.\n",
    "\n",
    "Para que SVM pueda procesar los valores categóricos, vamos a utilizar el OneHotEncoder para crear tantas variables dummies como distintos valores categóricos y OrdinalEncoder para asignar un valor numérico a cata valor. Vamos a estudiar precisión de ambos modelos y nos quedaremos con el mejor."
   ]
  },
  {
   "cell_type": "code",
   "execution_count": 14,
   "metadata": {},
   "outputs": [],
   "source": [
    "from sklearn.preprocessing import OneHotEncoder,OrdinalEncoder, StandardScaler\n",
    "from sklearn.compose import ColumnTransformer\n",
    "from sklearn.pipeline import Pipeline\n",
    "from sklearn.svm import LinearSVC\n",
    "\n",
    "label = [\"room_type\"]\n",
    "cat_attribs = [\"neighbourhood_group\"]\n",
    "num_attribs = [\"latitude\",\"longitude\",\"price\",\"minimum_nights\",\"number_of_reviews\",\"reviews_per_month\",\"calculated_host_listings_count\",\"availability_365\"]\n",
    "\n",
    "\n",
    "hot_col_trs = ColumnTransformer([\n",
    "    (\"num_scaler\", StandardScaler(), num_attribs),\n",
    "    (\"cat_ordinal\", OneHotEncoder(), cat_attribs),\n",
    "])\n",
    "\n",
    "ord_col_trs = ColumnTransformer([\n",
    "    (\"num_scaler\", StandardScaler(), num_attribs),\n",
    "    (\"cat_ordinal\", OrdinalEncoder(), cat_attribs),   \n",
    "])\n",
    "\n",
    "\n",
    "hot_linear_clf = Pipeline([\n",
    "    (\"col_trans\", hot_col_trs),\n",
    "    (\"model\", LinearSVC())\n",
    "])\n",
    "\n",
    "ord_linear_clf = Pipeline([\n",
    "    (\"col_trans\", ord_col_trs),\n",
    "    (\"model\", LinearSVC())\n",
    "])\n"
   ]
  },
  {
   "cell_type": "code",
   "execution_count": 20,
   "metadata": {},
   "outputs": [
    {
     "data": {
      "text/plain": [
       "0.7335834896810507"
      ]
     },
     "execution_count": 20,
     "metadata": {},
     "output_type": "execute_result"
    }
   ],
   "source": [
    "from sklearn.model_selection import cross_val_score\n",
    "\n",
    "hot_linear_svm_scores = cross_val_score(hot_linear_clf, x_train, y_train.values.ravel(), cv=20, scoring=\"accuracy\", n_jobs=-1)\n",
    "hot_linear_svm_scores.min()\n",
    "# 0.7335834896810507"
   ]
  },
  {
   "cell_type": "code",
   "execution_count": 21,
   "metadata": {},
   "outputs": [
    {
     "data": {
      "text/plain": [
       "0.7819548872180451"
      ]
     },
     "execution_count": 21,
     "metadata": {},
     "output_type": "execute_result"
    }
   ],
   "source": [
    "ord_linear_svm_scores = cross_val_score(ord_linear_clf, x_train, y_train.values.ravel(), cv=20, scoring=\"accuracy\", n_jobs=-1)\n",
    "ord_linear_svm_scores.min()\n",
    "# 0.7861163227016885"
   ]
  },
  {
   "cell_type": "code",
   "execution_count": 15,
   "metadata": {},
   "outputs": [],
   "source": [
    "from sklearn.svm import SVC\n",
    "\n",
    "hot_clf = Pipeline([\n",
    "    (\"hot_col_trs\",hot_col_trs),\n",
    "    (\"model\", SVC())\n",
    "])\n",
    "\n",
    "ord_clf = Pipeline([\n",
    "    (\"ord_col_trs\",ord_col_trs),\n",
    "    (\"model\", SVC())\n",
    "])"
   ]
  },
  {
   "cell_type": "code",
   "execution_count": 23,
   "metadata": {},
   "outputs": [
    {
     "data": {
      "text/plain": [
       "0.8555347091932458"
      ]
     },
     "execution_count": 23,
     "metadata": {},
     "output_type": "execute_result"
    }
   ],
   "source": [
    "hot_linear_svm_scores = cross_val_score(hot_clf, x_train, y_train.values.ravel(), cv=20, scoring=\"accuracy\", n_jobs=-1)\n",
    "hot_linear_svm_scores.min()\n",
    "# 0.8686679174484052"
   ]
  },
  {
   "cell_type": "code",
   "execution_count": 24,
   "metadata": {},
   "outputs": [
    {
     "data": {
      "text/plain": [
       "0.8592870544090057"
      ]
     },
     "execution_count": 24,
     "metadata": {},
     "output_type": "execute_result"
    }
   ],
   "source": [
    "ord_linear_svm_scores = cross_val_score(ord_clf, x_train, y_train.values.ravel(), cv=20, scoring=\"accuracy\", n_jobs=-1)\n",
    "ord_linear_svm_scores.min()\n",
    "# 0.8461538461538461"
   ]
  },
  {
   "cell_type": "markdown",
   "metadata": {},
   "source": [
    "Como era de esperar, el SVC con valores por defecto obtiene una puntuación mejor que el linear. Esto puede ser porque, dados los datos que tenemos, no es facil separarlos con una única línea."
   ]
  },
  {
   "cell_type": "markdown",
   "metadata": {},
   "source": [
    "El Ordinal enconder ha dado mejor resultado en la primera prueba. Sospecho que realmente es por overfitting ya que al usar el OrdinalEncoder y asignar números a las categorías, estamos indicando que cieetas categorias están relacionadas cuando no existe esta relación. En la segunda prueba vemos que el one hot onbtiene un resultado mejor aunque no muy alejado de Ordinal."
   ]
  },
  {
   "cell_type": "markdown",
   "metadata": {},
   "source": [
    "### Afinación de Hyperparámetros:\n",
    "Como dice el enunciado, vamos a buscar gamma y C para SVC con kernel = RBF.\n",
    "\n",
    "Primero haremos una busqueda amplia para encontrar la zona donde tenemos mejor resultado. En segundo lugar haremos una búsqueda enfocada en la zona de mejor resultado."
   ]
  },
  {
   "cell_type": "code",
   "execution_count": 18,
   "metadata": {},
   "outputs": [
    {
     "name": "stderr",
     "output_type": "stream",
     "text": [
      "/Users/adzarei/Documents/UNED/ING_CIENC_DATOS/projects/AAI/conda-env/lib/python3.7/site-packages/sklearn/model_selection/_search.py:814: DeprecationWarning: The default of the `iid` parameter will change from True to False in version 0.22 and will be removed in 0.24. This will change numeric results when test-set sizes are unequal.\n",
      "  DeprecationWarning)\n"
     ]
    },
    {
     "data": {
      "text/plain": [
       "{'model__C': 32768.0,\n",
       " 'model__class_weight': 'balanced',\n",
       " 'model__gamma': 0.005524271728019903,\n",
       " 'model__kernel': 'rbf'}"
      ]
     },
     "execution_count": 18,
     "metadata": {},
     "output_type": "execute_result"
    }
   ],
   "source": [
    "# Coarse search\n",
    "from sklearn.model_selection import GridSearchCV\n",
    "import numpy as np\n",
    "\n",
    "param_grid = {\n",
    "    'model__C' : np.logspace(-15, 15, base=2, num=5),\n",
    "    'model__gamma' : np.logspace(-15, 15, base=2, num=5),\n",
    "    'model__kernel' : ['rbf'],\n",
    "    'model__class_weight' : ['balanced']\n",
    "    \n",
    "}\n",
    "\n",
    "grid_search = GridSearchCV(hot_clf, param_grid, cv=10, n_jobs=-1)\n",
    "grid_res = grid_search.fit(x_train, y_train)\n",
    "grid_res.best_params_\n",
    "\n",
    "#{'model__C': 32768.0,  -> 2^15\n",
    "# 'model__class_weight': 'balanced',\n",
    "# 'model__gamma': 0.005524271728019903,  -> 2^-7.5\n",
    "# 'model__kernel': 'rbf'}"
   ]
  },
  {
   "cell_type": "markdown",
   "metadata": {},
   "source": [
    "Reajustamos C para que esté entre 2^13 y 2^33 y gamma entre 2^-10 y 2^5"
   ]
  },
  {
   "cell_type": "code",
   "execution_count": 20,
   "metadata": {},
   "outputs": [
    {
     "name": "stdout",
     "output_type": "stream",
     "text": [
      "Fitting 10 folds for each of 25 candidates, totalling 250 fits\n"
     ]
    },
    {
     "name": "stderr",
     "output_type": "stream",
     "text": [
      "[Parallel(n_jobs=-1)]: Using backend LokyBackend with 8 concurrent workers.\n",
      "[Parallel(n_jobs=-1)]: Done  34 tasks      | elapsed:  1.3min\n",
      "[Parallel(n_jobs=-1)]: Done 184 tasks      | elapsed: 49.8min\n",
      "[Parallel(n_jobs=-1)]: Done 250 out of 250 | elapsed: 429.8min finished\n"
     ]
    },
    {
     "data": {
      "text/plain": [
       "{'model__C': 32768.0,\n",
       " 'model__class_weight': 'balanced',\n",
       " 'model__gamma': 0.03125,\n",
       " 'model__kernel': 'rbf'}"
      ]
     },
     "execution_count": 20,
     "metadata": {},
     "output_type": "execute_result"
    }
   ],
   "source": [
    "# Coarse search 2\n",
    "param_grid = {\n",
    "    'model__C' : np.logspace(10, 20, base=2, num=5),\n",
    "    'model__gamma' : np.logspace(-10, 0, base=2, num=5),\n",
    "    'model__kernel' : ['rbf'],\n",
    "    'model__class_weight' : ['balanced']   \n",
    "}\n",
    "\n",
    "grid_search = GridSearchCV(hot_clf, param_grid, cv=10, n_jobs=-1, verbose=True)\n",
    "grid_res = grid_search.fit(\n",
    "    , y_train)\n",
    "grid_res.best_params_\n",
    "#{'model__C': 32768.0,\n",
    "# 'model__class_weight': 'balanced',\n",
    "# 'model__gamma': 0.03125,\n",
    "# 'model__kernel': 'rbf'}"
   ]
  },
  {
   "cell_type": "markdown",
   "metadata": {},
   "source": [
    "c = 2^15\n",
    "gamma = 2^-5\n"
   ]
  },
  {
   "cell_type": "code",
   "execution_count": 21,
   "metadata": {},
   "outputs": [
    {
     "data": {
      "text/plain": [
       "0.8584834834834835"
      ]
     },
     "execution_count": 21,
     "metadata": {},
     "output_type": "execute_result"
    }
   ],
   "source": [
    "grid_res.best_score_\n",
    "#0.8584834834834835"
   ]
  },
  {
   "cell_type": "code",
   "execution_count": 25,
   "metadata": {},
   "outputs": [
    {
     "name": "stdout",
     "output_type": "stream",
     "text": [
      "Fitting 10 folds for each of 25 candidates, totalling 250 fits\n"
     ]
    },
    {
     "name": "stderr",
     "output_type": "stream",
     "text": [
      "[Parallel(n_jobs=-1)]: Using backend LokyBackend with 8 concurrent workers.\n",
      "[Parallel(n_jobs=-1)]: Done  34 tasks      | elapsed:  5.7min\n",
      "[Parallel(n_jobs=-1)]: Done 184 tasks      | elapsed: 43.2min\n",
      "[Parallel(n_jobs=-1)]: Done 250 out of 250 | elapsed: 66.5min finished\n"
     ]
    },
    {
     "data": {
      "text/plain": [
       "{'model__C': 46340.95001184158,\n",
       " 'model__class_weight': 'balanced',\n",
       " 'model__gamma': 0.03125,\n",
       " 'model__kernel': 'rbf'}"
      ]
     },
     "execution_count": 25,
     "metadata": {},
     "output_type": "execute_result"
    }
   ],
   "source": [
    "# Fine search\n",
    "from sklearn.model_selection import GridSearchCV\n",
    "import numpy as np\n",
    "\n",
    "param_grid = {\n",
    "    'model__C' : np.logspace(14.5, 15.5, base=2, num=5),\n",
    "    'model__gamma' : np.logspace(-8, -4, base=2, num=5),\n",
    "    'model__kernel' : ['rbf'],\n",
    "    'model__class_weight' : ['balanced']\n",
    "    \n",
    "}\n",
    "\n",
    "grid_search = GridSearchCV(hot_clf, param_grid, cv=10, n_jobs=-1, verbose=True)\n",
    "grid_res = grid_search.fit(x_train, y_train)\n",
    "grid_res.best_params_\n",
    "\n",
    "#{'model__C': 46340.95001184158,\n",
    "# 'model__class_weight': 'balanced',\n",
    "# 'model__gamma': 0.03125,\n",
    "# 'model__kernel': 'rbf'}"
   ]
  },
  {
   "cell_type": "markdown",
   "metadata": {},
   "source": [
    "c = 2^15.5\n",
    "\n",
    "gamma = 2^-5"
   ]
  },
  {
   "cell_type": "markdown",
   "metadata": {},
   "source": [
    "## Resultado final\n",
    "Vamos a evaluar el modelo con el test set para evaluar el rendimiento final con los hyperparámetros optimizados que hemos calculado."
   ]
  },
  {
   "cell_type": "code",
   "execution_count": 16,
   "metadata": {},
   "outputs": [],
   "source": [
    "y_test = test_set_st[\"room_type\"]\n",
    "x_test = test_set_st.drop(\"room_type\", 1, inplace=False)"
   ]
  },
  {
   "cell_type": "code",
   "execution_count": 18,
   "metadata": {},
   "outputs": [
    {
     "name": "stdout",
     "output_type": "stream",
     "text": [
      "[LibSVM]"
     ]
    },
    {
     "data": {
      "text/plain": [
       "array([[1440,  142,   10],\n",
       "       [ 141,  833,   67],\n",
       "       [   5,   11,   16]])"
      ]
     },
     "execution_count": 18,
     "metadata": {},
     "output_type": "execute_result"
    }
   ],
   "source": [
    "from sklearn.metrics import confusion_matrix\n",
    "\n",
    "final_clf = Pipeline([\n",
    "    (\"hot_col_trs\",hot_col_trs),\n",
    "    (\"model\", SVC( C=46340.95001184158, gamma=0.0312, kernel='rbf', class_weight='balanced', verbose=True)) # Params\n",
    "])\n",
    "\n",
    "final_clf.fit(x_train, y_train)\n",
    "clf_predict = final_clf.predict(x_test)"
   ]
  },
  {
   "cell_type": "code",
   "execution_count": 21,
   "metadata": {},
   "outputs": [],
   "source": [
    "room_type_enum = ['Entire home/apt','Private room','Shared room']\n",
    "\n",
    "cm = confusion_matrix(y_test, clf_predict, room_type_enum)"
   ]
  },
  {
   "cell_type": "code",
   "execution_count": 32,
   "metadata": {},
   "outputs": [
    {
     "data": {
      "image/png": "[encoded data removed]",
      "text/plain": [
       "<Figure size 432x288 with 2 Axes>"
      ]
     },
     "metadata": {},
     "output_type": "display_data"
    }
   ],
   "source": [
    "fig = plt.figure() \n",
    "ax = fig.add_subplot(111) \n",
    "cax = ax.matshow(cm) \n",
    "plt.title('Confusion matrix') \n",
    "fig.colorbar(cax) \n",
    "ax.set_xticklabels([''] + room_type_enum) \n",
    "ax.set_yticklabels([''] + room_type_enum) \n",
    "plt.xlabel('Predicted') \n",
    "plt.ylabel('True') \n",
    "plt.show()"
   ]
  },
  {
   "cell_type": "code",
   "execution_count": 25,
   "metadata": {},
   "outputs": [
    {
     "name": "stdout",
     "output_type": "stream",
     "text": [
      "[[1440  142   10]\n",
      " [ 141  833   67]\n",
      " [   5   11   16]]\n"
     ]
    }
   ],
   "source": [
    "print(cm)"
   ]
  },
  {
   "cell_type": "markdown",
   "metadata": {},
   "source": [
    "### Conclusiones:"
   ]
  },
  {
   "cell_type": "markdown",
   "metadata": {},
   "source": [
    "Vamos a calcular la precisión y el recall y evaluar los resultados."
   ]
  },
  {
   "cell_type": "markdown",
   "metadata": {},
   "source": [
    "### Precision: TP/(TP+FP)"
   ]
  },
  {
   "cell_type": "markdown",
   "metadata": {},
   "source": [
    "Entire home/apt:"
   ]
  },
  {
   "cell_type": "code",
   "execution_count": 44,
   "metadata": {},
   "outputs": [
    {
     "data": {
      "text/plain": [
       "0.9079445145018915"
      ]
     },
     "execution_count": 44,
     "metadata": {},
     "output_type": "execute_result"
    }
   ],
   "source": [
    "#1440 / (1440 + 141 + 5) = 0.9079445145018915\n",
    "1440 / (1440 + 141 + 5)"
   ]
  },
  {
   "cell_type": "markdown",
   "metadata": {},
   "source": [
    "Private room"
   ]
  },
  {
   "cell_type": "code",
   "execution_count": 47,
   "metadata": {},
   "outputs": [
    {
     "data": {
      "text/plain": [
       "0.8448275862068966"
      ]
     },
     "execution_count": 47,
     "metadata": {},
     "output_type": "execute_result"
    }
   ],
   "source": [
    "# 833 / (142 + 833 + 11) = 0.8448275862068966\n",
    "833 / (142 + 833 + 11)"
   ]
  },
  {
   "cell_type": "markdown",
   "metadata": {},
   "source": [
    "Shared room"
   ]
  },
  {
   "cell_type": "code",
   "execution_count": 49,
   "metadata": {},
   "outputs": [
    {
     "data": {
      "text/plain": [
       "0.17204301075268819"
      ]
     },
     "execution_count": 49,
     "metadata": {},
     "output_type": "execute_result"
    }
   ],
   "source": [
    "# 16 / (67  + 10 +  16) = 0.17204301075268819\n",
    "16 / (67  + 10 +  16)"
   ]
  },
  {
   "cell_type": "markdown",
   "metadata": {},
   "source": [
    "### Recall: TP /(TP + FN)"
   ]
  },
  {
   "cell_type": "markdown",
   "metadata": {},
   "source": [
    "Entire home/apt:"
   ]
  },
  {
   "cell_type": "code",
   "execution_count": 34,
   "metadata": {},
   "outputs": [
    {
     "data": {
      "text/plain": [
       "0.9045226130653267"
      ]
     },
     "execution_count": 34,
     "metadata": {},
     "output_type": "execute_result"
    }
   ],
   "source": [
    "#1440 / (1440 + 142 + 10) = 0.9045226130653267\n",
    "1440 / (1440 + 142 + 10)"
   ]
  },
  {
   "cell_type": "markdown",
   "metadata": {},
   "source": [
    "Private room"
   ]
  },
  {
   "cell_type": "code",
   "execution_count": 35,
   "metadata": {},
   "outputs": [
    {
     "data": {
      "text/plain": [
       "0.8001921229586936"
      ]
     },
     "execution_count": 35,
     "metadata": {},
     "output_type": "execute_result"
    }
   ],
   "source": [
    "# 833 / (141 + 833 + 67) = 0.8001921229586936\n",
    "833 / (141 + 833 + 67)"
   ]
  },
  {
   "cell_type": "markdown",
   "metadata": {},
   "source": [
    "Shared room"
   ]
  },
  {
   "cell_type": "code",
   "execution_count": 37,
   "metadata": {},
   "outputs": [
    {
     "data": {
      "text/plain": [
       "0.5"
      ]
     },
     "execution_count": 37,
     "metadata": {},
     "output_type": "execute_result"
    }
   ],
   "source": [
    "# 16 / (5  + 11 +  16) = 0.5\n",
    "16 / (5  + 11 +  16)"
   ]
  },
  {
   "cell_type": "markdown",
   "metadata": {},
   "source": [
    "Como era de esperar, hemos logrado muy buenos resultados para todas las categorías menos Shared room. Esto se debe a que Shared room tenía muy pocos registros para entrenar el modelo. Si lograsemos obtener mas ejemplos con los que entrenart el modelo, seguramente podríamos mejorar su resultado.\n",
    "\n",
    "El peor resultado del modelo lo vemos en la precisión de Shared Room, que muestra que solo un 17% de los shared rooms que se han predecido, se han logrado clasificar correctamente. Por el contrario, su recall indica que, de un 50% de todos los registros de su tipo se han clasificado correctamente.\n",
    "\n",
    "En general, estoy contento con el modelo. Como punto de mejora, asumiendo que no tenemos nuevos datos con los que entrenar el modelo, balancearía las 3 categorías añadiendo nuevos registros \"ficticios\" con la media de cada columna para shared room."
   ]
  }
 ],
 "metadata": {
  "kernelspec": {
   "display_name": "Python 3",
   "language": "python",
   "name": "python3"
  },
  "language_info": {
   "codemirror_mode": {
    "name": "ipython",
    "version": 3
   },
   "file_extension": ".py",
   "mimetype": "text/x-python",
   "name": "python",
   "nbconvert_exporter": "python",
   "pygments_lexer": "ipython3",
   "version": "3.7.5"
  }
 },
 "nbformat": 4,
 "nbformat_minor": 4
}
