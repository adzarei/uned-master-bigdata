{
 "cells": [
  {
   "cell_type": "markdown",
   "metadata": {},
   "source": [
    "# Building a Regression MLP using the Sequential API\n",
    "Dataset: California housing problem"
   ]
  },
  {
   "cell_type": "code",
   "execution_count": 1,
   "metadata": {},
   "outputs": [],
   "source": [
    "from sklearn.datasets import fetch_california_housing\n",
    "from sklearn.model_selection import train_test_split\n",
    "from sklearn.preprocessing import StandardScaler\n",
    "\n",
    "housing = fetch_california_housing()"
   ]
  },
  {
   "cell_type": "markdown",
   "metadata": {},
   "source": [
    "### Separate test, train and validation set."
   ]
  },
  {
   "cell_type": "code",
   "execution_count": 2,
   "metadata": {},
   "outputs": [],
   "source": [
    "x_train_full, x_test, y_train_full, y_test = train_test_split(housing.data, housing.target)\n",
    "x_train, x_valid, y_train, y_valid = train_test_split(x_train_full, y_train_full)"
   ]
  },
  {
   "cell_type": "markdown",
   "metadata": {},
   "source": [
    "### Scaling the features."
   ]
  },
  {
   "cell_type": "code",
   "execution_count": 3,
   "metadata": {},
   "outputs": [],
   "source": [
    "scaler = StandardScaler()\n",
    "x_train = scaler.fit_transform(x_train)\n",
    "x_valid = scaler.fit_transform(x_valid)\n",
    "x_test = scaler.fit_transform(x_test)"
   ]
  },
  {
   "cell_type": "markdown",
   "metadata": {},
   "source": [
    "## Build, train and evaluate the model"
   ]
  },
  {
   "cell_type": "code",
   "execution_count": 4,
   "metadata": {},
   "outputs": [
    {
     "name": "stdout",
     "output_type": "stream",
     "text": [
      "2.2.4-tf\n",
      "2.0.0\n"
     ]
    }
   ],
   "source": [
    "import tensorflow as tf\n",
    "from tensorflow import keras\n",
    "print(keras.__version__)\n",
    "print(tf.__version__)"
   ]
  },
  {
   "cell_type": "code",
   "execution_count": 5,
   "metadata": {},
   "outputs": [],
   "source": [
    "model = keras.models.Sequential([\n",
    "    keras.layers.Dense(30, activation=keras.activations.relu, input_shape=x_train.shape[1:]),\n",
    "    keras.layers.Dense(1)\n",
    "])"
   ]
  },
  {
   "cell_type": "code",
   "execution_count": 9,
   "metadata": {},
   "outputs": [],
   "source": [
    "model.compile(loss=keras.losses.mean_squared_error, optimizer=keras.optimizers.SGD())"
   ]
  },
  {
   "cell_type": "code",
   "execution_count": 10,
   "metadata": {
    "scrolled": true
   },
   "outputs": [
    {
     "name": "stdout",
     "output_type": "stream",
     "text": [
      "Train on 11610 samples, validate on 3870 samples\n",
      "Epoch 1/20\n",
      "11610/11610 [==============================] - 1s 93us/sample - loss: 0.3793 - val_loss: 2.4140\n",
      "Epoch 2/20\n",
      "11610/11610 [==============================] - 1s 52us/sample - loss: 0.3770 - val_loss: 2.6657\n",
      "Epoch 3/20\n",
      "11610/11610 [==============================] - 1s 53us/sample - loss: 0.3728 - val_loss: 2.7774\n",
      "Epoch 4/20\n",
      "11610/11610 [==============================] - 1s 53us/sample - loss: 0.3728 - val_loss: 2.9901\n",
      "Epoch 5/20\n",
      "11610/11610 [==============================] - 1s 53us/sample - loss: 0.3715 - val_loss: 3.1125\n",
      "Epoch 6/20\n",
      "11610/11610 [==============================] - 1s 53us/sample - loss: 0.3678 - val_loss: 3.3514\n",
      "Epoch 7/20\n",
      "11610/11610 [==============================] - 1s 52us/sample - loss: 0.3681 - val_loss: 3.4116\n",
      "Epoch 8/20\n",
      "11610/11610 [==============================] - 1s 52us/sample - loss: 0.3672 - val_loss: 3.5601\n",
      "Epoch 9/20\n",
      "11610/11610 [==============================] - 1s 52us/sample - loss: 0.3671 - val_loss: 3.7254\n",
      "Epoch 10/20\n",
      "11610/11610 [==============================] - 1s 52us/sample - loss: 0.3626 - val_loss: 3.9356\n",
      "Epoch 11/20\n",
      "11610/11610 [==============================] - 1s 53us/sample - loss: 0.3644 - val_loss: 3.7862\n",
      "Epoch 12/20\n",
      "11610/11610 [==============================] - 1s 53us/sample - loss: 0.3655 - val_loss: 4.1413\n",
      "Epoch 13/20\n",
      "11610/11610 [==============================] - 1s 53us/sample - loss: 0.3597 - val_loss: 4.2081\n",
      "Epoch 14/20\n",
      "11610/11610 [==============================] - 1s 53us/sample - loss: 0.3603 - val_loss: 4.3053\n",
      "Epoch 15/20\n",
      "11610/11610 [==============================] - 1s 53us/sample - loss: 0.3573 - val_loss: 4.4670\n",
      "Epoch 16/20\n",
      "11610/11610 [==============================] - 1s 54us/sample - loss: 0.3601 - val_loss: 4.6041\n",
      "Epoch 17/20\n",
      "11610/11610 [==============================] - 1s 53us/sample - loss: 0.3586 - val_loss: 4.6777\n",
      "Epoch 18/20\n",
      "11610/11610 [==============================] - 1s 54us/sample - loss: 0.3543 - val_loss: 4.9590\n",
      "Epoch 19/20\n",
      "11610/11610 [==============================] - 1s 56us/sample - loss: 0.3538 - val_loss: 5.0280\n",
      "Epoch 20/20\n",
      "11610/11610 [==============================] - 1s 81us/sample - loss: 0.3580 - val_loss: 5.2053\n"
     ]
    }
   ],
   "source": [
    "history = model.fit(x_train, y_train, epochs=20, validation_data=(x_valid, y_valid))"
   ]
  },
  {
   "cell_type": "code",
   "execution_count": 14,
   "metadata": {},
   "outputs": [
    {
     "data": {
      "image/png": "[encoded data removed]",
      "text/plain": [
       "<Figure size 1080x720 with 1 Axes>"
      ]
     },
     "metadata": {
      "needs_background": "light"
     },
     "output_type": "display_data"
    }
   ],
   "source": [
    "import pandas as pd\n",
    "import matplotlib.pyplot as plt\n",
    "import numpy as np\n",
    "\n",
    "pd.DataFrame(history.history).plot(figsize=(15,10))\n",
    "plt.gca().set_ylim(0,1)\n",
    "plt.grid(True)\n",
    "plt.show()"
   ]
  },
  {
   "cell_type": "code",
   "execution_count": null,
   "metadata": {
    "scrolled": true
   },
   "outputs": [],
   "source": [
    "mse_test = model.evaluate(x_test, y_test)"
   ]
  },
  {
   "cell_type": "code",
   "execution_count": 16,
   "metadata": {},
   "outputs": [
    {
     "data": {
      "text/plain": [
       "0.6637666947157808"
      ]
     },
     "execution_count": 16,
     "metadata": {},
     "output_type": "execute_result"
    }
   ],
   "source": [
    "mse_test"
   ]
  },
  {
   "cell_type": "code",
   "execution_count": 17,
   "metadata": {},
   "outputs": [],
   "source": [
    "x_new = x_test[:3]\n",
    "y_pred = model.predict(x_new)"
   ]
  }
 ],
 "metadata": {
  "kernelspec": {
   "display_name": "Python 3",
   "language": "python",
   "name": "python3"
  },
  "language_info": {
   "codemirror_mode": {
    "name": "ipython",
    "version": 3
   },
   "file_extension": ".py",
   "mimetype": "text/x-python",
   "name": "python",
   "nbconvert_exporter": "python",
   "pygments_lexer": "ipython3",
   "version": "3.7.4"
  }
 },
 "nbformat": 4,
 "nbformat_minor": 4
}
