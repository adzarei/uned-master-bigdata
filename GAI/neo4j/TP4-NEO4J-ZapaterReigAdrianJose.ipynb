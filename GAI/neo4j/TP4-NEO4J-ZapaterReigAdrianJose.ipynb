{
 "cells": [
  {
   "cell_type": "markdown",
   "metadata": {},
   "source": [
    "# GAI - TP4 - NEO4J <br/> Adrián José Zapater Reig"
   ]
  },
  {
   "cell_type": "markdown",
   "metadata": {},
   "source": [
    "### Ejercicio 1 - Crea una base de datos con los datos que se adjuntan en el archivo grafo.txt disponible en el curso virtual."
   ]
  },
  {
   "cell_type": "markdown",
   "metadata": {},
   "source": [
    "Contenido de grafo.txt:"
   ]
  },
  {
   "cell_type": "code",
   "execution_count": 38,
   "metadata": {},
   "outputs": [
    {
     "name": "stdout",
     "output_type": "stream",
     "text": [
      "match(n) detach delete(n);\n",
      "\n",
      "CREATE (Bertoldo:Cliente {nombre:'Bertoldo', edad:33})\n",
      "CREATE (Herminia:Cliente {nombre:'Herminia', edad:34})\n",
      "CREATE (Aniceto:Cliente {nombre:'Aniceto', edad:49})\n",
      "CREATE (Calixta:Cliente {nombre:'Calixta', edad:19})\n",
      "CREATE (Melibeo:Cliente {nombre:'Melibeo', edad:43})\n",
      "CREATE (Genara:Cliente {nombre:'Genara', edad:46})\n",
      "CREATE (Amadea:Cliente {nombre:'Amadea', edad:33})\n",
      "CREATE (Clotilde:Cliente {nombre:'Clotilde', edad:19})\n",
      "CREATE (Tiburcio:Cliente {nombre:'Tiburcio', edad:24})\n",
      "CREATE (Demetrio:Cliente {nombre:'Demetrio', edad:18})\n",
      "CREATE (Nicodemo:Cliente {nombre:'Nicodemo', edad:51})\n",
      "CREATE (TV:Producto {id:1,descr:'TV 3D, 200 pulgadas', precio:4000})\n",
      "CREATE (Maleta:Producto {id:2,descr:'Maleta inteligente, lava la ropa', precio:370})\n",
      "CREATE (Tostadora:Producto {id:3,descr:'Tostadora 5G, unta la mantequilla sola', precio:230})\n",
      "CREATE (Clotilde)-[:BAD {id:1}]->(TV),\n",
      "       (Clotilde)-[:BAD {id:2}]->(Maleta),\n",
      "       (Clotilde)-[:BAD {id:3}]->(Tostadora),\n",
      "       (Clotilde)-[:APOYA {id:4}]->(Melibeo),\n",
      "       (Clotilde)-[:APOYA {id:5}]->(Melibeo),\n",
      "       (Bertoldo)-[:BAD {id:6}]->(TV),\n",
      "       (Bertoldo)-[:BAD {id:7}]->(Maleta),\n",
      "       (Nicodemo)-[:BAD {id:8}]->(TV),\n",
      "       (Nicodemo)-[:GOOD {id:9}]->(Maleta),\n",
      "       (Nicodemo)-[:BAD  {id:10}]->(Tostadora),\n",
      "       (Demetrio)-[:GOOD {id:11}]->(TV),\n",
      "       (Demetrio)-[:APOYA {id:12}]->(Tiburcio),\n",
      "       (Demetrio)-[:BAD {id:13}]->(Tostadora),\n",
      "       (Tiburcio)-[:GOOD {id:14}]->(TV),\n",
      "       (Tiburcio)-[:GOOD {id:15}]->(Maleta),\n",
      "       (Tiburcio)-[:BAD {id:16}]->(Tostadora),\n",
      "       (Amadea)-[:BAD {id:17}] ->(TV),\n",
      "       (Amadea)-[:APOYA {id:18}] ->(Clotilde),\n",
      "       (Amadea)-[:BAD {id:19}]->(Tostadora),\n",
      "       (Genara)-[:BAD {id:20}]->(TV),\n",
      "       (Genara)-[:APOYA {id:21}]->(Amadea),\n",
      "       (Genara)-[:BAD {id:22}]->(Maleta),\n",
      "       (Genara)-[:BAD {id:23}]->(Tostadora),\n",
      "       (Melibeo)-[:BAD {id:24}]->(TV),\n",
      "       (Melibeo)-[:APOYA {id:25}]->(Genara),\n",
      "       (Melibeo)-[:BAD {id:26}]->(Tostadora),\n",
      "       (Calixta)-[:GOOD {id:27}]->(TV),\n",
      "       (Calixta)-[:APOYA {id:28}]->(Genara),\n",
      "       (Calixta)-[:BAD {id:29}]->(Tostadora),\n",
      "       (Aniceto)-[:GOOD {id:30}]->(TV),\n",
      "       (Aniceto)-[:APOYA {id:31}]->(Genara),\n",
      "       (Aniceto)-[:BAD {id:32}]->(Tostadora),\n",
      "       (Aniceto)-[:GOOD {id:33}]->(Maleta);\n"
     ]
    }
   ],
   "source": [
    "! cat src/grafo.txt"
   ]
  },
  {
   "cell_type": "markdown",
   "metadata": {},
   "source": [
    "Creamos el un contenedor de Docker con Neo4J dentro.\n",
    "Lo lanzamos \"detached\" y le asignamos un nombre."
   ]
  },
  {
   "cell_type": "code",
   "execution_count": 21,
   "metadata": {},
   "outputs": [
    {
     "name": "stdout",
     "output_type": "stream",
     "text": [
      "3060bbb15fd1491787a9a116571347522a67609534fdb00b9215576b5e9c7ba4\n"
     ]
    }
   ],
   "source": [
    "! docker run --name neo4j -d \\\n",
    "--publish=7474:7474 --publish=7687:7687 \\\n",
    "--volume=neo4j-logs:/logs \\\n",
    "--volume=neo4j-data:/data \\\n",
    "--volume=neo4j-tmp:/tmp/src \\\n",
    "neo4j:latest"
   ]
  },
  {
   "cell_type": "markdown",
   "metadata": {},
   "source": [
    "Copiamos el fichero grafo.txt al contendor y lo ejecutamos."
   ]
  },
  {
   "cell_type": "code",
   "execution_count": 39,
   "metadata": {},
   "outputs": [],
   "source": [
    "! docker cp src/grafo.txt neo4j:/tmp/src/grafo.txt"
   ]
  },
  {
   "cell_type": "code",
   "execution_count": 40,
   "metadata": {},
   "outputs": [
    {
     "name": "stdout",
     "output_type": "stream",
     "text": [
      "0 rows available after 3 ms, consumed after another 0 ms\n",
      "Deleted 14 nodes, Deleted 33 relationships\n",
      "0 rows available after 95 ms, consumed after another 0 ms\n",
      "Added 14 nodes, Created 33 relationships, Set 64 properties, Added 14 labels\n"
     ]
    }
   ],
   "source": [
    "! docker exec -it neo4j cypher-shell -u neo4j -p uned1 -f /tmp/src/grafo.txt"
   ]
  },
  {
   "cell_type": "markdown",
   "metadata": {},
   "source": [
    "### Ejercicio 2 - Sobre dicha base de datos, implementa consultas para conseguir la siguiente información:"
   ]
  },
  {
   "cell_type": "markdown",
   "metadata": {},
   "source": [
    "##### 2.1. (2 puntos) Queremos conocer nodos tipo Cliente que hayan emitido una opinión tipo BAD del producto con id=2 (hay 3 clientes con estas características)."
   ]
  },
  {
   "cell_type": "code",
   "execution_count": null,
   "metadata": {},
   "outputs": [],
   "source": []
  },
  {
   "cell_type": "markdown",
   "metadata": {},
   "source": [
    "##### 2.2. (2 puntos) Queremos buscar clientes que formen un “circuito” de relaciones de tipo “APOYA”, es decir una secuencia de relaciones, todas en la misma dirección, que acaba y empieza en el mismo Cliente."
   ]
  },
  {
   "cell_type": "code",
   "execution_count": null,
   "metadata": {},
   "outputs": [],
   "source": []
  },
  {
   "cell_type": "markdown",
   "metadata": {},
   "source": [
    "##### 2.3. (2 puntos) Demetrio ha decidido mostrar su apoyo a Genara. Añadir la relación APOYA entre los nodos correspondientes. No se debe suponer que el nodo existe (ni que no existe), solo se debe asegurar que tras la instrucción ambos existen (sin duplicarlos) y con la relación APOYA indicada.\n"
   ]
  },
  {
   "cell_type": "code",
   "execution_count": null,
   "metadata": {},
   "outputs": [],
   "source": []
  },
  {
   "cell_type": "code",
   "execution_count": null,
   "metadata": {},
   "outputs": [],
   "source": []
  },
  {
   "cell_type": "code",
   "execution_count": null,
   "metadata": {},
   "outputs": [],
   "source": []
  },
  {
   "cell_type": "markdown",
   "metadata": {},
   "source": [
    "### 3. (3 puntos) Crea tu propia base de datos sobre Neo4j, e implementa al menos 2 consultas sobre dichos datos. Se valorará la originalidad y la complejidad de la base de datos y de las consultas creadas.\n"
   ]
  },
  {
   "cell_type": "code",
   "execution_count": null,
   "metadata": {},
   "outputs": [],
   "source": []
  },
  {
   "cell_type": "code",
   "execution_count": 41,
   "metadata": {},
   "outputs": [
    {
     "name": "stdout",
     "output_type": "stream",
     "text": [
      "neo4j\n"
     ]
    }
   ],
   "source": [
    "! docker stop neo4j"
   ]
  },
  {
   "cell_type": "code",
   "execution_count": 20,
   "metadata": {},
   "outputs": [
    {
     "name": "stdout",
     "output_type": "stream",
     "text": [
      "neo4j\n"
     ]
    }
   ],
   "source": [
    "! docker rm neo4j"
   ]
  }
 ],
 "metadata": {
  "kernelspec": {
   "display_name": "Python 3",
   "language": "python",
   "name": "python3"
  },
  "language_info": {
   "codemirror_mode": {
    "name": "ipython",
    "version": 3
   },
   "file_extension": ".py",
   "mimetype": "text/x-python",
   "name": "python",
   "nbconvert_exporter": "python",
   "pygments_lexer": "ipython3",
   "version": "3.8.2"
  }
 },
 "nbformat": 4,
 "nbformat_minor": 4
}
