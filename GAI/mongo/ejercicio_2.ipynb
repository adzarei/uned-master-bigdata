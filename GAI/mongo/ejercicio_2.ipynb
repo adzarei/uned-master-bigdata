{
 "cells": [
  {
   "cell_type": "markdown",
   "metadata": {},
   "source": [
    "# Ejercicio 2 - Adrián José Zapater Reig"
   ]
  },
  {
   "cell_type": "markdown",
   "metadata": {},
   "source": [
    "### Inicialización"
   ]
  },
  {
   "cell_type": "code",
   "execution_count": 1,
   "metadata": {},
   "outputs": [
    {
     "name": "stdout",
     "output_type": "stream",
     "text": [
      "98d8db67f9b53fd83a97684d3b4daf82c979b29b2799a56086681cd4a5819d0a\n"
     ]
    }
   ],
   "source": [
    "! docker run --name mongo_db -it -p 27017:27017 -d mongo:4.0"
   ]
  },
  {
   "cell_type": "code",
   "execution_count": 2,
   "metadata": {},
   "outputs": [],
   "source": [
    "! docker cp src/webs.json mongo_db:/tmp/webs.json"
   ]
  },
  {
   "cell_type": "code",
   "execution_count": 3,
   "metadata": {},
   "outputs": [
    {
     "name": "stdout",
     "output_type": "stream",
     "text": [
      "2021-04-11T20:21:16.840+0000\tconnected to: localhost\n",
      "2021-04-11T20:21:16.862+0000\timported 51 documents\n"
     ]
    }
   ],
   "source": [
    "! docker exec -it mongo_db mongoimport --db ejercicio2 --collection webs --file /tmp/webs.json"
   ]
  },
  {
   "cell_type": "code",
   "execution_count": 4,
   "metadata": {},
   "outputs": [],
   "source": [
    "import pymongo\n",
    "from pymongo import MongoClient\n",
    "import pprint\n",
    "from datetime import datetime\n",
    "\n",
    "client = MongoClient(\"localhost\", 27017) \n",
    "db = client.ejercicio2"
   ]
  },
  {
   "cell_type": "code",
   "execution_count": 5,
   "metadata": {},
   "outputs": [
    {
     "data": {
      "text/plain": [
       "['webs']"
      ]
     },
     "execution_count": 5,
     "metadata": {},
     "output_type": "execute_result"
    }
   ],
   "source": [
    "# Comprobamos la conexión:\n",
    "db.list_collection_names()"
   ]
  },
  {
   "cell_type": "code",
   "execution_count": 6,
   "metadata": {},
   "outputs": [
    {
     "data": {
      "text/plain": [
       "{'_id': ObjectId('60735a3c6ea299541e5d2146'),\n",
       " 'nombre': 'Bertoldo',\n",
       " 'navegador': 'firefox',\n",
       " 'fecha': datetime.datetime(2016, 2, 21, 6, 1, 17, 171000),\n",
       " 'pags': [{'url': 'http://www.ucm.es', 'segs': 200},\n",
       "  {'url': 'https://www.todomesobra.com', 'segs': 5},\n",
       "  {'url': 'https://www.mikokoloko.com', 'segs': 120},\n",
       "  {'url': 'http://www.mundoroedor.es', 'segs': 85},\n",
       "  {'url': 'https://www.mikokoloko.com', 'segs': 600}]}"
      ]
     },
     "execution_count": 6,
     "metadata": {},
     "output_type": "execute_result"
    }
   ],
   "source": [
    "# Mostramos un documento:\n",
    "db.webs.find_one()"
   ]
  },
  {
   "cell_type": "code",
   "execution_count": 7,
   "metadata": {},
   "outputs": [],
   "source": [
    "# Función auxiliar para imprimir por pantalla los resultados:\n",
    "def print_query(query_cursor):\n",
    "    for doc in query_cursor:\n",
    "        pprint.pprint(doc)"
   ]
  },
  {
   "cell_type": "markdown",
   "metadata": {},
   "source": [
    "## Consulta 1\n",
    "Número de sesiones (documentos) en los que se ha usado el navegador Explorer."
   ]
  },
  {
   "cell_type": "code",
   "execution_count": 8,
   "metadata": {
    "scrolled": true
   },
   "outputs": [],
   "source": [
    "find_json_statement = {\"navegador\": \"Explorer\"}"
   ]
  },
  {
   "cell_type": "code",
   "execution_count": 9,
   "metadata": {},
   "outputs": [
    {
     "name": "stderr",
     "output_type": "stream",
     "text": [
      "<ipython-input-9-1aef0dccc92f>:3: DeprecationWarning: count is deprecated. Use Collection.count_documents instead.\n",
      "  db.webs.find(find_json_statement).count()\n"
     ]
    },
    {
     "data": {
      "text/plain": [
       "20"
      ]
     },
     "execution_count": 9,
     "metadata": {},
     "output_type": "execute_result"
    }
   ],
   "source": [
    "# Nomenglatura como en la shell.\n",
    "# Deprecado.\n",
    "db.webs.find(find_json_statement).count()"
   ]
  },
  {
   "cell_type": "code",
   "execution_count": 10,
   "metadata": {},
   "outputs": [
    {
     "data": {
      "text/plain": [
       "20"
      ]
     },
     "execution_count": 10,
     "metadata": {},
     "output_type": "execute_result"
    }
   ],
   "source": [
    "db.webs.count_documents(find_json_statement)"
   ]
  },
  {
   "cell_type": "markdown",
   "metadata": {},
   "source": [
    "## Consulta 2\n",
    "Mostrar las URLs de las páginas webs que se han consultado."
   ]
  },
  {
   "cell_type": "code",
   "execution_count": 11,
   "metadata": {},
   "outputs": [
    {
     "data": {
      "text/plain": [
       "['http://www.bancoimpopular.com',\n",
       " 'http://www.cocinacochina.com',\n",
       " 'http://www.comomemongo.com',\n",
       " 'http://www.kalvossinreparos.es',\n",
       " 'http://www.mikokoloko.com',\n",
       " 'http://www.mundoroedor.es',\n",
       " 'http://www.nocheviejuna.es',\n",
       " 'http://www.nomiresatras.es',\n",
       " 'http://www.quizaseahoy.es',\n",
       " 'http://www.ucm.es',\n",
       " 'http://www.uvasexpress.es',\n",
       " 'http://www.vuelosparaAbuelos.es',\n",
       " 'https://www.lanochemashermosa.es',\n",
       " 'https://www.mikokoloko.com',\n",
       " 'https://www.secretosindiscretos.com',\n",
       " 'https://www.todomesobra.com',\n",
       " 'https://www.ucm.com']"
      ]
     },
     "execution_count": 11,
     "metadata": {},
     "output_type": "execute_result"
    }
   ],
   "source": [
    "key = \"pags.url\"\n",
    "db.webs.find().distinct(key)"
   ]
  },
  {
   "cell_type": "markdown",
   "metadata": {},
   "source": [
    "## Consulta 3\n",
    "Mostrar únicamente el campo navegador empleado por Herminia, cuyas en las sesiones que tengan visitas a páginas webs que hayan durado entre 300 segundos y 1000 segundos."
   ]
  },
  {
   "cell_type": "code",
   "execution_count": 12,
   "metadata": {},
   "outputs": [
    {
     "name": "stdout",
     "output_type": "stream",
     "text": [
      "{'_id': ObjectId('60735a3c6ea299541e5d2147'), 'navegador': 'Explorer'}\n",
      "{'_id': ObjectId('60735a3c6ea299541e5d2149'), 'navegador': 'Explorer'}\n",
      "{'_id': ObjectId('60735a3c6ea299541e5d214d'), 'navegador': 'Explorer'}\n",
      "{'_id': ObjectId('60735a3c6ea299541e5d214f'), 'navegador': 'Explorer'}\n",
      "{'_id': ObjectId('60735a3c6ea299541e5d2153'), 'navegador': 'Explorer'}\n",
      "{'_id': ObjectId('60735a3c6ea299541e5d2155'), 'navegador': 'Explorer'}\n",
      "{'_id': ObjectId('60735a3c6ea299541e5d2159'), 'navegador': 'Explorer'}\n",
      "{'_id': ObjectId('60735a3c6ea299541e5d215b'), 'navegador': 'Explorer'}\n",
      "{'_id': ObjectId('60735a3c6ea299541e5d215f'), 'navegador': 'Explorer'}\n",
      "{'_id': ObjectId('60735a3c6ea299541e5d2163'), 'navegador': 'Explorer'}\n",
      "{'_id': ObjectId('60735a3c6ea299541e5d2165'), 'navegador': 'Explorer'}\n",
      "{'_id': ObjectId('60735a3c6ea299541e5d2169'), 'navegador': 'Explorer'}\n",
      "{'_id': ObjectId('60735a3c6ea299541e5d216b'), 'navegador': 'Explorer'}\n",
      "{'_id': ObjectId('60735a3c6ea299541e5d216e'), 'navegador': 'Explorer'}\n",
      "{'_id': ObjectId('60735a3c6ea299541e5d2171'), 'navegador': 'Explorer'}\n",
      "{'_id': ObjectId('60735a3c6ea299541e5d2172'), 'navegador': 'Explorer'}\n",
      "{'_id': ObjectId('60735a3c6ea299541e5d2173'), 'navegador': 'Explorer'}\n",
      "{'_id': ObjectId('60735a3c6ea299541e5d2175'), 'navegador': 'Explorer'}\n",
      "{'_id': ObjectId('60735a3c6ea299541e5d2176'), 'navegador': 'Explorer'}\n",
      "{'_id': ObjectId('60735a3c6ea299541e5d2178'), 'navegador': 'Explorer'}\n"
     ]
    }
   ],
   "source": [
    "fields = [\"navegador\"]\n",
    "json_find_statement = { \n",
    "    \"nombre\": \"Herminia\", \n",
    "    \"pags.segs\" : {'$gte': 300, '$lte': 1000}\n",
    "}\n",
    "\n",
    "query_cursor = db.webs.find(filter=json_find_statement, projection=fields)\n",
    "print_query(query_cursor)"
   ]
  },
  {
   "cell_type": "markdown",
   "metadata": {},
   "source": [
    "## Agregación 1\n",
    "Obtener el número de sesiones por cada navegador, ordenadas en orden ascendente. La salida mostrará, para cada navegador, un “_id” que contiene el nombre del navegador, y un campo \"total\" con el número de sesiones de dicho navegador."
   ]
  },
  {
   "cell_type": "code",
   "execution_count": 13,
   "metadata": {},
   "outputs": [
    {
     "name": "stdout",
     "output_type": "stream",
     "text": [
      "{'_id': 'Chrome', 'total': 14}\n",
      "{'_id': 'firefox', 'total': 17}\n",
      "{'_id': 'Explorer', 'total': 20}\n"
     ]
    }
   ],
   "source": [
    "json_aggregate_statement = [\n",
    "    {\n",
    "        \"$group\": {\n",
    "            \"_id\" : \"$navegador\",\n",
    "            \"total\": {\n",
    "                \"$sum\" : 1\n",
    "            }\n",
    "        }\n",
    "        \n",
    "    },\n",
    "    {\n",
    "        \"$sort\": {\n",
    "            \"total\": 1\n",
    "        }\n",
    "    }\n",
    "]\n",
    "query_cursor = db.webs.aggregate(json_aggregate_statement)\n",
    "print_query(query_cursor)"
   ]
  },
  {
   "cell_type": "markdown",
   "metadata": {},
   "source": [
    "## Agregación 2\n",
    "Obtener la persona con mayor número de sesiones totales en la colección. La salida mostrará para cada persona (sólo 1) un “_id” conteniendo el nombre de la persona y un campo “total” con el número de sesiones totales."
   ]
  },
  {
   "cell_type": "code",
   "execution_count": 14,
   "metadata": {},
   "outputs": [
    {
     "name": "stdout",
     "output_type": "stream",
     "text": [
      "{'_id': 'Herminia', 'total': 20}\n"
     ]
    }
   ],
   "source": [
    "json_aggregate_statement = [\n",
    "    {\n",
    "        \"$group\": {\n",
    "            \"_id\" : \"$nombre\",\n",
    "            \"total\": {\n",
    "                \"$sum\" : 1\n",
    "            }\n",
    "        }\n",
    "        \n",
    "    },\n",
    "    {\n",
    "        \"$sort\": {\n",
    "            \"total\": -1\n",
    "        }\n",
    "    },\n",
    "    {\n",
    "        \"$limit\" : 1\n",
    "    }\n",
    "]\n",
    "query_cursor = db.webs.aggregate(json_aggregate_statement)\n",
    "print_query(query_cursor)"
   ]
  },
  {
   "cell_type": "markdown",
   "metadata": {},
   "source": [
    "## Agregación 3\n",
    "Para cada persona indicar el número de URLs visitadas durante más de 100 segundos, contando las repeticiones. La salida mostrará para cada persona un “_id” conteniendo el nombre de la persona y un campo “num” con el número de URLs. Pista: utilizar la opción unwind para devolver la lista de pags como documentos independientes."
   ]
  },
  {
   "cell_type": "code",
   "execution_count": 15,
   "metadata": {},
   "outputs": [
    {
     "name": "stdout",
     "output_type": "stream",
     "text": [
      "{'_id': 'Aniceto', 'num': 35}\n",
      "{'_id': 'Herminia', 'num': 40}\n",
      "{'_id': 'Bertoldo', 'num': 51}\n"
     ]
    }
   ],
   "source": [
    "json_aggregate_statement = [\n",
    "    {\n",
    "        \"$unwind\": \"$pags\"\n",
    "    },\n",
    "    {\n",
    "        \"$match\": { \"pags.segs\" : { \"$gt\" : 100}}\n",
    "    }, \n",
    "    {\n",
    "        \"$group\": {\n",
    "            \"_id\" : \"$nombre\",\n",
    "            \"num\" : { \"$sum\": 1}\n",
    "        }\n",
    "    }\n",
    "]\n",
    "query_cursor = db.webs.aggregate(json_aggregate_statement)\n",
    "print_query(query_cursor)"
   ]
  },
  {
   "cell_type": "markdown",
   "metadata": {},
   "source": [
    "## Agregación 4\n",
    "Mostrar por cada URL, el tiempo de visita total, ordenando los registros de mayor a menor. Pista: utilizar la opción $unwind de aggregate."
   ]
  },
  {
   "cell_type": "code",
   "execution_count": 16,
   "metadata": {},
   "outputs": [
    {
     "name": "stdout",
     "output_type": "stream",
     "text": [
      "{'_id': 'http://www.nomiresatras.es', 'num': 12000}\n",
      "{'_id': 'http://www.nocheviejuna.es', 'num': 12000}\n",
      "{'_id': 'http://www.quizaseahoy.es', 'num': 8400}\n",
      "{'_id': 'https://www.ucm.com', 'num': 7456}\n",
      "{'_id': 'https://www.mikokoloko.com', 'num': 6240}\n",
      "{'_id': 'http://www.vuelosparaAbuelos.es', 'num': 5000}\n",
      "{'_id': 'http://www.bancoimpopular.com', 'num': 5000}\n",
      "{'_id': 'http://www.comomemongo.com', 'num': 3145}\n",
      "{'_id': 'http://www.cocinacochina.com', 'num': 3000}\n",
      "{'_id': 'http://www.kalvossinreparos.es', 'num': 2100}\n",
      "{'_id': 'http://www.ucm.es', 'num': 1400}\n",
      "{'_id': 'https://www.secretosindiscretos.com', 'num': 840}\n",
      "{'_id': 'http://www.mikokoloko.com', 'num': 600}\n",
      "{'_id': 'http://www.mundoroedor.es', 'num': 595}\n",
      "{'_id': 'http://www.uvasexpress.es', 'num': 500}\n",
      "{'_id': 'https://www.lanochemashermosa.es', 'num': 350}\n",
      "{'_id': 'https://www.todomesobra.com', 'num': 35}\n"
     ]
    }
   ],
   "source": [
    "json_aggregate_statement = [\n",
    "    {\n",
    "        \"$unwind\": \"$pags\"\n",
    "    }, \n",
    "    {\n",
    "        \"$group\": {\n",
    "            \"_id\" : \"$pags.url\",\n",
    "            \"num\" : { \"$sum\": \"$pags.segs\"}\n",
    "        }\n",
    "    },\n",
    "    {\n",
    "        \"$sort\": {\n",
    "            \"num\": -1\n",
    "        }\n",
    "    }\n",
    "]\n",
    "query_cursor = db.webs.aggregate(json_aggregate_statement)\n",
    "print_query(query_cursor)"
   ]
  },
  {
   "cell_type": "markdown",
   "metadata": {},
   "source": [
    "## Agregación 5\n",
    "Calcular el total de sesiones con el navegador “Explorer” en 2016. La salida mostrará el “_id” conteniendo el año (2016) y un campo “total” con el número total de sesiones. Pista: para obtener el año de una fecha se puede utilizar \\{\\\\$year:”\\\\$fecha”}."
   ]
  },
  {
   "cell_type": "code",
   "execution_count": 17,
   "metadata": {},
   "outputs": [
    {
     "name": "stdout",
     "output_type": "stream",
     "text": [
      "{'_id': '2016', 'total': 10}\n"
     ]
    }
   ],
   "source": [
    "json_aggregate_statement = [\n",
    "    {\n",
    "        \"$project\": {\n",
    "            \"navegador\" : 1,\n",
    "            \"year\" : {\"$year\":\"$fecha\"}\n",
    "        }\n",
    "    },\n",
    "    {\n",
    "        \"$match\" : { \n",
    "            \"navegador\" : \"Explorer\" , \n",
    "             \"year\" : 2016\n",
    "        }\n",
    "    },\n",
    "    {\n",
    "        \"$group\" : {\n",
    "            \"_id\" : \"2016\",\n",
    "            \"total\" : {\"$sum\" : 1}\n",
    "        }\n",
    "    }\n",
    "]\n",
    "query_cursor = db.webs.aggregate(json_aggregate_statement)\n",
    "print_query(query_cursor)"
   ]
  },
  {
   "cell_type": "markdown",
   "metadata": {},
   "source": [
    "## Agregación 6\n",
    "Para cada persona calcular el tiempo acumulado de todas las URLs visitadas, en minutos. La salida mostrará un campo “nombre” con el nombre de la persona, y un campo “tiempomin” con el tiempo acumulado. La salida estará ordenada alfabéticamente por los nombres de los usuarios. Pista: utilizar la opción \\\\$unwind de aggregate.\n"
   ]
  },
  {
   "cell_type": "code",
   "execution_count": 18,
   "metadata": {},
   "outputs": [
    {
     "name": "stdout",
     "output_type": "stream",
     "text": [
      "{'nombre': 'Aniceto', 'tiempomin': 1185660}\n",
      "{'nombre': 'Bertoldo', 'tiempomin': 948000}\n",
      "{'nombre': 'Herminia', 'tiempomin': 1986000}\n"
     ]
    }
   ],
   "source": [
    "json_aggregate_statement = [\n",
    "    {\n",
    "        \"$unwind\": \"$pags\"\n",
    "    },\n",
    "    {\n",
    "        \"$group\" : {\n",
    "            \"_id\" : \"$nombre\",\n",
    "            \"tiempomin\" : { \"$sum\": {\"$multiply\" : [\"$pags.segs\", 60]}}\n",
    "        }\n",
    "    },\n",
    "    {\n",
    "        \"$project\": {\n",
    "            \"nombre\" : \"$_id\",\n",
    "            \"_id\" : 0,\n",
    "            \"tiempomin\" : 1\n",
    "        }\n",
    "    },\n",
    "    {\n",
    "        \"$sort\": { \"nombre\" : 1}\n",
    "    }\n",
    "]\n",
    "query_cursor = db.webs.aggregate(json_aggregate_statement)\n",
    "print_query(query_cursor)"
   ]
  },
  {
   "cell_type": "markdown",
   "metadata": {},
   "source": [
    "### Breakdown"
   ]
  },
  {
   "cell_type": "code",
   "execution_count": 19,
   "metadata": {},
   "outputs": [
    {
     "name": "stdout",
     "output_type": "stream",
     "text": [
      "mongo_db\n"
     ]
    }
   ],
   "source": [
    "! docker stop mongo_db"
   ]
  },
  {
   "cell_type": "code",
   "execution_count": 20,
   "metadata": {},
   "outputs": [
    {
     "name": "stdout",
     "output_type": "stream",
     "text": [
      "mongo_db\n"
     ]
    }
   ],
   "source": [
    "! docker rm mongo_db"
   ]
  }
 ],
 "metadata": {
  "kernelspec": {
   "display_name": "Python 3",
   "language": "python",
   "name": "python3"
  },
  "language_info": {
   "codemirror_mode": {
    "name": "ipython",
    "version": 3
   },
   "file_extension": ".py",
   "mimetype": "text/x-python",
   "name": "python",
   "nbconvert_exporter": "python",
   "pygments_lexer": "ipython3",
   "version": "3.8.2"
  }
 },
 "nbformat": 4,
 "nbformat_minor": 4
}
