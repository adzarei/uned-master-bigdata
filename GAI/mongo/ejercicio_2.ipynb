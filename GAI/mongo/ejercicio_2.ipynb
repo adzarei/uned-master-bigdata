{
 "cells": [
  {
   "cell_type": "markdown",
   "metadata": {},
   "source": [
    "# Ejercicio 2 - Adrián José Zapater Reig"
   ]
  },
  {
   "cell_type": "markdown",
   "metadata": {},
   "source": [
    "### Inicialización"
   ]
  },
  {
   "cell_type": "code",
   "execution_count": 1,
   "metadata": {},
   "outputs": [
    {
     "name": "stdout",
     "output_type": "stream",
     "text": [
      "8b3edefb2f50cc2d2745fc22c64f2ddcb8e25dd3971e9146d0a4c0ede37c2360\n"
     ]
    }
   ],
   "source": [
    "! docker run --name mongo_db -it -p 27017:27017 -d mongo:4.0"
   ]
  },
  {
   "cell_type": "code",
   "execution_count": 5,
   "metadata": {},
   "outputs": [],
   "source": [
    "! docker cp src/webs.json mongo_db:/tmp/webs.json"
   ]
  },
  {
   "cell_type": "code",
   "execution_count": 6,
   "metadata": {},
   "outputs": [
    {
     "name": "stdout",
     "output_type": "stream",
     "text": [
      "2020-05-01T11:25:13.532+0000\tconnected to: localhost\n",
      "2020-05-01T11:25:13.551+0000\timported 51 documents\n"
     ]
    }
   ],
   "source": [
    "! docker exec -it mongo_db mongoimport --db ejercicio2 --collection webs --file /tmp/webs.json"
   ]
  },
  {
   "cell_type": "code",
   "execution_count": 58,
   "metadata": {},
   "outputs": [],
   "source": [
    "import pymongo\n",
    "from pymongo import MongoClient\n",
    "import pprint\n",
    "from datetime import datetime\n",
    "\n",
    "client = MongoClient(\"localhost\", 27017) \n",
    "db = client.ejercicio2"
   ]
  },
  {
   "cell_type": "code",
   "execution_count": 7,
   "metadata": {},
   "outputs": [
    {
     "data": {
      "text/plain": [
       "['webs']"
      ]
     },
     "execution_count": 7,
     "metadata": {},
     "output_type": "execute_result"
    }
   ],
   "source": [
    "# Comprobamos la conexión:\n",
    "db.list_collection_names()"
   ]
  },
  {
   "cell_type": "code",
   "execution_count": 8,
   "metadata": {},
   "outputs": [
    {
     "data": {
      "text/plain": [
       "{'_id': ObjectId('5eac0719566fcc8303864c55'),\n",
       " 'nombre': 'Bertoldo',\n",
       " 'navegador': 'firefox',\n",
       " 'fecha': datetime.datetime(2016, 2, 21, 6, 1, 17, 171000),\n",
       " 'pags': [{'url': 'http://www.ucm.es', 'segs': 200},\n",
       "  {'url': 'https://www.todomesobra.com', 'segs': 5},\n",
       "  {'url': 'https://www.mikokoloko.com', 'segs': 120},\n",
       "  {'url': 'http://www.mundoroedor.es', 'segs': 85},\n",
       "  {'url': 'https://www.mikokoloko.com', 'segs': 600}]}"
      ]
     },
     "execution_count": 8,
     "metadata": {},
     "output_type": "execute_result"
    }
   ],
   "source": [
    "# Mostramos un documento:\n",
    "db.webs.find_one()"
   ]
  },
  {
   "cell_type": "code",
   "execution_count": 79,
   "metadata": {},
   "outputs": [],
   "source": [
    "# Función auxiliar para imprimir por pantalla los resultados:\n",
    "def print_query(query_cursor):\n",
    "    for doc in query_cursor:\n",
    "        pprint.pprint(doc)"
   ]
  },
  {
   "cell_type": "markdown",
   "metadata": {},
   "source": [
    "## Consulta 1\n",
    "Número de sesiones (documentos) en los que se ha visitado la web “https://www.mikokoloko.com”. Nota: si una sesión incluye dos visitas solo se contará una vez."
   ]
  },
  {
   "cell_type": "code",
   "execution_count": 17,
   "metadata": {
    "scrolled": true
   },
   "outputs": [],
   "source": [
    "url = \"https://www.mikokoloko.com\"\n",
    "find_json_statement = {\"pags.url\": url}"
   ]
  },
  {
   "cell_type": "code",
   "execution_count": 20,
   "metadata": {},
   "outputs": [
    {
     "name": "stderr",
     "output_type": "stream",
     "text": [
      "<ipython-input-20-1aef0dccc92f>:3: DeprecationWarning: count is deprecated. Use Collection.count_documents instead.\n",
      "  db.webs.find(find_json_statement).count()\n"
     ]
    },
    {
     "data": {
      "text/plain": [
       "17"
      ]
     },
     "execution_count": 20,
     "metadata": {},
     "output_type": "execute_result"
    }
   ],
   "source": [
    "# Nomenglatura como en la shell.\n",
    "# Deprecado.\n",
    "db.webs.find(find_json_statement).count()"
   ]
  },
  {
   "cell_type": "code",
   "execution_count": 21,
   "metadata": {},
   "outputs": [
    {
     "data": {
      "text/plain": [
       "17"
      ]
     },
     "execution_count": 21,
     "metadata": {},
     "output_type": "execute_result"
    }
   ],
   "source": [
    "db.webs.count_documents(find_json_statement)"
   ]
  },
  {
   "cell_type": "markdown",
   "metadata": {},
   "source": [
    "## Consulta 2\n",
    "Mostrar los distintos navegadores que se han utilizado en toda la colección."
   ]
  },
  {
   "cell_type": "code",
   "execution_count": 34,
   "metadata": {},
   "outputs": [
    {
     "data": {
      "text/plain": [
       "['Chrome', 'Explorer', 'firefox']"
      ]
     },
     "execution_count": 34,
     "metadata": {},
     "output_type": "execute_result"
    }
   ],
   "source": [
    "key = \"navegador\"\n",
    "db.webs.find().distinct(key)"
   ]
  },
  {
   "cell_type": "markdown",
   "metadata": {},
   "source": [
    "## Consulta 3\n",
    "Mostrar únicamente el campo “navegador” de las sesiones realizadas por el usuario “Bertoldo” entre las fechas “20/02/2016” y “25/02/2016” (a las 00:00:00.000 horas en ambos casos)."
   ]
  },
  {
   "cell_type": "code",
   "execution_count": 80,
   "metadata": {},
   "outputs": [
    {
     "name": "stdout",
     "output_type": "stream",
     "text": [
      "{'_id': ObjectId('5eac0719566fcc8303864c55'), 'navegador': 'firefox'}\n",
      "{'_id': ObjectId('5eac0719566fcc8303864c5b'), 'navegador': 'firefox'}\n",
      "{'_id': ObjectId('5eac0719566fcc8303864c61'), 'navegador': 'firefox'}\n",
      "{'_id': ObjectId('5eac0719566fcc8303864c67'), 'navegador': 'firefox'}\n",
      "{'_id': ObjectId('5eac0719566fcc8303864c71'), 'navegador': 'firefox'}\n",
      "{'_id': ObjectId('5eac0719566fcc8303864c77'), 'navegador': 'firefox'}\n",
      "{'_id': ObjectId('5eac0719566fcc8303864c7f'), 'navegador': 'firefox'}\n"
     ]
    }
   ],
   "source": [
    "fields = [\"navegador\"]\n",
    "json_find_statement = { \n",
    "    \"nombre\": \"Bertoldo\", \n",
    "    \"fecha\" : {'$gte': datetime(2016, 2, 20, 6, 0, 0, 0), '$lte': datetime(2016, 2, 25, 0, 0, 0, 0)}\n",
    "}\n",
    "\n",
    "query_cursor = db.webs.find(filter=json_find_statement, projection=fields)\n",
    "print_query(query_cursor)"
   ]
  },
  {
   "cell_type": "markdown",
   "metadata": {},
   "source": [
    "## Agregación 1\n",
    "Obtener el número de sesiones por cada navegador, ordenadas en orden ascendente. La salida mostrará, para cada navegador, un “_id” que contiene el nombre del navegador, y un campo \"total\" con el número de sesiones de dicho navegador."
   ]
  },
  {
   "cell_type": "code",
   "execution_count": 81,
   "metadata": {},
   "outputs": [
    {
     "name": "stdout",
     "output_type": "stream",
     "text": [
      "{'_id': 'Chrome', 'total': 14}\n",
      "{'_id': 'firefox', 'total': 17}\n",
      "{'_id': 'Explorer', 'total': 20}\n"
     ]
    }
   ],
   "source": [
    "json_aggregate_statement = [\n",
    "    {\n",
    "        \"$group\": {\n",
    "            \"_id\" : \"$navegador\",\n",
    "            \"total\": {\n",
    "                \"$sum\" : 1\n",
    "            }\n",
    "        }\n",
    "        \n",
    "    },\n",
    "    {\n",
    "        \"$sort\": {\n",
    "            \"total\": 1\n",
    "        }\n",
    "    }\n",
    "]\n",
    "query_cursor = db.webs.aggregate(json_aggregate_statement)\n",
    "print_query(query_cursor)"
   ]
  },
  {
   "cell_type": "markdown",
   "metadata": {},
   "source": [
    "## Agregación 2\n",
    "Obtener la persona con mayor número de sesiones totales en la colección. La salida mostrará para cada persona (sólo 1) un “_id” conteniendo el nombre de la persona y un campo “total” con el número de sesiones totales."
   ]
  },
  {
   "cell_type": "code",
   "execution_count": 98,
   "metadata": {},
   "outputs": [
    {
     "name": "stdout",
     "output_type": "stream",
     "text": [
      "{'_id': 'Herminia', 'total': 20}\n"
     ]
    }
   ],
   "source": [
    "json_aggregate_statement = [\n",
    "    {\n",
    "        \"$group\": {\n",
    "            \"_id\" : \"$nombre\",\n",
    "            \"total\": {\n",
    "                \"$sum\" : 1\n",
    "            }\n",
    "        }\n",
    "        \n",
    "    },\n",
    "    {\n",
    "        \"$sort\": {\n",
    "            \"total\": -1\n",
    "        }\n",
    "    },\n",
    "    {\n",
    "        \"$limit\" : 1\n",
    "    }\n",
    "]\n",
    "query_cursor = db.webs.aggregate(json_aggregate_statement)\n",
    "print_query(query_cursor)"
   ]
  },
  {
   "cell_type": "markdown",
   "metadata": {},
   "source": [
    "## Agregación 3\n",
    "Para cada persona indicar el número de URLs visitadas durante más de 100 segundos (se cuentan las repeticiones). La salida mostrará para cada persona un “_id” conteniendo el nombre de la persona y un campo “num” con el número de URLs. Pista: utilizar la opción \\\\$unwind de aggregate."
   ]
  },
  {
   "cell_type": "code",
   "execution_count": 104,
   "metadata": {},
   "outputs": [
    {
     "name": "stdout",
     "output_type": "stream",
     "text": [
      "{'_id': 'Aniceto', 'num': 35}\n",
      "{'_id': 'Herminia', 'num': 40}\n",
      "{'_id': 'Bertoldo', 'num': 51}\n"
     ]
    }
   ],
   "source": [
    "json_aggregate_statement = [\n",
    "    {\n",
    "        \"$unwind\": \"$pags\"\n",
    "    },\n",
    "    {\n",
    "        \"$match\": { \"pags.segs\" : { \"$gt\" : 100}}\n",
    "    }, \n",
    "    {\n",
    "        \"$group\": {\n",
    "            \"_id\" : \"$nombre\",\n",
    "            \"num\" : { \"$sum\": 1}\n",
    "        }\n",
    "    }\n",
    "]\n",
    "query_cursor = db.webs.aggregate(json_aggregate_statement)\n",
    "print_query(query_cursor)"
   ]
  },
  {
   "cell_type": "markdown",
   "metadata": {},
   "source": [
    "## Agregación 4\n",
    "Nombre de la persona que visita más páginas de media por sesión. La salida mostrará un “_id” conteniendo el nombre de la persona y un campo “media” con el valor de la media de páginas visitadas. Pistas: calcular el número de URLs para cada sesión y luego calcular la media de ese dato para cada persona / No hace falta utilizar \\\\$unwind."
   ]
  },
  {
   "cell_type": "code",
   "execution_count": 112,
   "metadata": {},
   "outputs": [
    {
     "name": "stdout",
     "output_type": "stream",
     "text": [
      "{'_id': 'Bertoldo', 'media': 4.411764705882353}\n"
     ]
    }
   ],
   "source": [
    "json_aggregate_statement = [\n",
    "    {\n",
    "        \"$group\": {\n",
    "            \"_id\" : \"$nombre\",\n",
    "            \"media\" : { \"$avg\": {\"$size\": \"$pags\" }}\n",
    "        }\n",
    "    },\n",
    "    {\n",
    "        \"$sort\": { \"media\" : -1 }\n",
    "    },\n",
    "    {\n",
    "        \"$limit\": 1\n",
    "    }\n",
    "]\n",
    "query_cursor = db.webs.aggregate(json_aggregate_statement)\n",
    "print_query(query_cursor)"
   ]
  },
  {
   "cell_type": "markdown",
   "metadata": {},
   "source": [
    "## Agregación 5\n",
    "Calcular el total de sesiones con el navegador “Explorer” en 2016. La salida mostrará el “_id” conteniendo el año (2016) y un campo “total” con el número total de sesiones. Pista: para obtener el año de una fecha se puede utilizar \\{\\\\$year:”\\\\$fecha”}."
   ]
  },
  {
   "cell_type": "code",
   "execution_count": 128,
   "metadata": {},
   "outputs": [
    {
     "name": "stdout",
     "output_type": "stream",
     "text": [
      "{'_id': '2016', 'total': 10}\n"
     ]
    }
   ],
   "source": [
    "json_aggregate_statement = [\n",
    "    {\n",
    "        \"$project\": {\n",
    "            \"navegador\" : 1,\n",
    "            \"year\" : {\"$year\":\"$fecha\"}\n",
    "        }\n",
    "    },\n",
    "    {\n",
    "        \"$match\" : { \n",
    "            \"navegador\" : \"Explorer\" , \n",
    "             \"year\" : 2016\n",
    "        }\n",
    "    },\n",
    "    {\n",
    "        \"$group\" : {\n",
    "            \"_id\" : \"2016\",\n",
    "            \"total\" : {\"$sum\" : 1}\n",
    "        }\n",
    "    }\n",
    "]\n",
    "query_cursor = db.webs.aggregate(json_aggregate_statement)\n",
    "print_query(query_cursor)"
   ]
  },
  {
   "cell_type": "markdown",
   "metadata": {},
   "source": [
    "## Agregación 6\n",
    "Para cada persona calcular el tiempo acumulado de todas las URLs visitadas, en minutos. La salida mostrará un campo “nombre” con el nombre de la persona, y un campo “tiempomin” con el tiempo acumulado. La salida estará ordenada alfabéticamente por los nombres de los usuarios. Pista: utilizar la opción \\\\$unwind de aggregate.\n"
   ]
  },
  {
   "cell_type": "code",
   "execution_count": 149,
   "metadata": {},
   "outputs": [
    {
     "name": "stdout",
     "output_type": "stream",
     "text": [
      "{'nombre': 'Aniceto', 'tiempomin': 1185660}\n",
      "{'nombre': 'Bertoldo', 'tiempomin': 948000}\n",
      "{'nombre': 'Herminia', 'tiempomin': 1986000}\n"
     ]
    }
   ],
   "source": [
    "json_aggregate_statement = [\n",
    "    {\n",
    "        \"$unwind\": \"$pags\"\n",
    "    },\n",
    "    {\n",
    "        \"$group\" : {\n",
    "            \"_id\" : \"$nombre\",\n",
    "            \"tiempomin\" : { \"$sum\": {\"$multiply\" : [\"$pags.segs\", 60]}}\n",
    "        }\n",
    "    },\n",
    "    {\n",
    "        \"$project\": {\n",
    "            \"nombre\" : \"$_id\",\n",
    "            \"_id\" : 0,\n",
    "            \"tiempomin\" : 1\n",
    "        }\n",
    "    },\n",
    "    {\n",
    "        \"$sort\": { \"nombre\" : 1}\n",
    "    }\n",
    "]\n",
    "query_cursor = db.webs.aggregate(json_aggregate_statement)\n",
    "print_query(query_cursor)"
   ]
  },
  {
   "cell_type": "markdown",
   "metadata": {},
   "source": [
    "## Agregación 7\n",
    "Obtener el nombre de las personas que han visitado alguna página que comience por “https”. La salida mostrará para cada persona únicamente el campo “nombre” que contendrá su nombre. Pista: utilizar el operador de proyección \\\\$substr"
   ]
  },
  {
   "cell_type": "code",
   "execution_count": 154,
   "metadata": {},
   "outputs": [
    {
     "name": "stdout",
     "output_type": "stream",
     "text": [
      "{'nombre': 'Aniceto'}\n",
      "{'nombre': 'Bertoldo'}\n"
     ]
    }
   ],
   "source": [
    "json_aggregate_statement = [\n",
    "    {\n",
    "        \"$unwind\": \"$pags\"\n",
    "    },\n",
    "    {\n",
    "        \"$match\" : {\n",
    "            \"pags.url\" : { \"$regex\": '^https'}\n",
    "        }\n",
    "    },\n",
    "    {\n",
    "        \"$group\" : {\n",
    "            \"_id\" : \"$nombre\"\n",
    "        }\n",
    "    },\n",
    "    {\n",
    "        \"$project\": {\n",
    "            \"nombre\" : \"$_id\",\n",
    "            \"_id\" : 0\n",
    "        }\n",
    "    }\n",
    "]\n",
    "query_cursor = db.webs.aggregate(json_aggregate_statement)\n",
    "print_query(query_cursor)"
   ]
  }
 ],
 "metadata": {
  "kernelspec": {
   "display_name": "Python 3",
   "language": "python",
   "name": "python3"
  },
  "language_info": {
   "codemirror_mode": {
    "name": "ipython",
    "version": 3
   },
   "file_extension": ".py",
   "mimetype": "text/x-python",
   "name": "python",
   "nbconvert_exporter": "python",
   "pygments_lexer": "ipython3",
   "version": "3.8.2"
  }
 },
 "nbformat": 4,
 "nbformat_minor": 4
}
