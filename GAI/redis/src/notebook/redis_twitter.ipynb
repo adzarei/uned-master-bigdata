{
 "cells": [
  {
   "cell_type": "markdown",
   "id": "neither-frank",
   "metadata": {},
   "source": [
    "# TP1 - REDIS - Adrián José Zapater Reig."
   ]
  },
  {
   "cell_type": "markdown",
   "id": "ultimate-wellington",
   "metadata": {},
   "source": [
    "Tenemos:\n",
    "- user_id - Que es un contador incremental automático para obtener el siguiente id de usuairo libre.\n",
    "- post_id\n",
    "- users - Set para convertir de id a nombre y de nombre a id. Cada usuario se da de alta 2 veces\n",
    "- "
   ]
  },
  {
   "cell_type": "code",
   "execution_count": 192,
   "id": "affiliated-voltage",
   "metadata": {},
   "outputs": [],
   "source": [
    "# Clase estática que contiene las constantes de los nombres de las colecciones de REDIS y sus campos.\n",
    "class Post(object):\n",
    "    # Contador incremental de id de post:\n",
    "    c_post_id = 'post_id'\n",
    "    \n",
    "    # Hash que representa un post. {user_id, body, ts}.\n",
    "    base_s = 'post:{}'\n",
    "    # Campos del Hash.\n",
    "    id_creador = 'user_id'\n",
    "    cuerpo = 'body'\n",
    "    ts = 'timestamp'"
   ]
  },
  {
   "cell_type": "code",
   "execution_count": 197,
   "id": "latin-alaska",
   "metadata": {},
   "outputs": [],
   "source": [
    "# Clase estática que contiene las constantes de los nombres de las colecciones de REDIS y sus campos.\n",
    "class User(object):\n",
    "    # Contador incremental de id de usuario:\n",
    "    c_user_id = 'user_id'\n",
    "    \n",
    "    # Hash de traducción nombre usuario <-> id usuario. {id, username}\n",
    "    # Cada usuario aparece 2 veces: 1 por el id (users:1) y otra por el nombre (users:miguel)\n",
    "    base_hs = 'users:{}'\n",
    "    id_usuario = 'id'\n",
    "    nombre = 'username'\n",
    "    \n",
    "    # Set de posts creados por un id usuario o por sus followings siempre que la fecha del post sea superior a la fecha de following.\n",
    "\n",
    "    posts_s = 'posts:{}'\n",
    "    \n",
    "    # Set Ordenado de los followers de un id usuario por su timestamp.\n",
    "    # Habrá que expresar el TS en algún formato que permita la comparativa alfanumérica.\n",
    "    followers_zs = 'followers:{}'\n",
    "    \n",
    "    # Set Ordenado de los followings de un id usuario por su timestamp.\n",
    "    # Habrá que expresar el TS en algún formato que permita la comparativa alfanumérica.\n",
    "    followings_zs = 'followings:{}'"
   ]
  },
  {
   "cell_type": "code",
   "execution_count": 338,
   "id": "pediatric-limitation",
   "metadata": {},
   "outputs": [],
   "source": [
    "class TwitterBackend(object):    \n",
    "    def __init__(self, host='127.0.0.1',port=6379, password=''):\n",
    "        # Usamos  decode_responses=True para evitar tener que decodificar todas las respuesdtas de REDIS.\n",
    "        self._db = redis.Redis(host=host,port=port, password=password, decode_responses=True)\n",
    "        \n",
    "    def restarDB(self):\n",
    "        '''Borra todas las keys de la base de datos.'''\n",
    "        self._db.flushall()\n",
    "              \n",
    "    \n",
    "    def nuevo_usuario(self, username):\n",
    "        '''Da de alta un nuevo usuario y devuelve el nuevo id. Devuelve None si el usuario ya existía.'''\n",
    "        # Comprobamos si el usuario existe.\n",
    "        is_new_user = self.get_id_usuario_by_nombre(username) is None\n",
    "        if(is_new_user):\n",
    "            # Nuevo id de usuario.\n",
    "            usr_id = self._db.incr(User.c_user_id)\n",
    "            # Insertamos el nuevo usuario por id\n",
    "            x = self._db.hmset(User.base_hs.format(usr_id), {User.id_usuario:usr_id, User.nombre:username})\n",
    "            # Insertamos el nuevo usuario por nombre\n",
    "            x = self._db.hmset(User.base_hs.format(username), {User.id_usuario:usr_id, User.nombre:username})\n",
    "            return usr_id\n",
    "        \n",
    "    def _nuevo_follower(self, orig_usrname, follower_usrname, ts):\n",
    "        '''\n",
    "        Inserta un nuevo follower.\n",
    "        Devuelve True si logra insertarlo y False si falla o si ya existe.\n",
    "        Si no existe el usuario original o el usuario follower, también devuelve False.\n",
    "        '''\n",
    "        res = False\n",
    "        # Obtenemos los ids del usuario original y su follower.\n",
    "        id_follower = self.get_id_usuario_by_nombre(follower_usrname)\n",
    "        id_orig_usr = self.get_id_usuario_by_nombre(orig_usrname)\n",
    "        \n",
    "        # Comprobamos si existen ambos usuarios.\n",
    "        if((not id_follower is None) and (not id_orig_usr is None)):\n",
    "            # Damos de alta la relación.\n",
    "            # Devuelve 1 si hace el insert y 0 si no. bool(1) = True y bool(0) = False.\n",
    "            res = bool(self._db.zadd(User.followers_zs.format(id_orig_usr), {id_follower:ts}))\n",
    "        \n",
    "        return res\n",
    "    \n",
    "    def _nuevo_following(self, orig_usrname, following_usrname, ts):\n",
    "        '''\n",
    "        Inserta un nuevo following.\n",
    "        Devuelve True si logra insertarlo y False si falla o si ya existe.\n",
    "        Si no existe el usuario original o el usuario follower, también devuelve False.\n",
    "        '''\n",
    "        res = False\n",
    "        # Obtenemos los ids del usuario original y su following.\n",
    "        id_following = self.get_id_usuario_by_nombre(following_usrname)\n",
    "        id_orig_usr = self.get_id_usuario_by_nombre(orig_usrname)\n",
    "        \n",
    "        # Comprobamos si existen ambos usuarios.\n",
    "        if((not id_following is None) and (not id_orig_usr is None)):\n",
    "            # Damos de alta la relación.\n",
    "            res = bool(self._db.zadd(User.followings_zs.format(id_orig_usr), {id_following:ts}))\n",
    "        \n",
    "        return res\n",
    "    \n",
    "    def seguir(self, orig_usrname, following_usrname, ts):\n",
    "        '''\n",
    "        Formaliza que un usuario original sigue a un usuario following dando de alta los following y los followers.\n",
    "        Devuelve True si logra insertarlo y False en caso contrario.\n",
    "        Si hay un error al dar de alta el following, no continua con el follower.\n",
    "        '''\n",
    "        # Validamos si TS es numerico.\n",
    "        self._validaTs(ts);\n",
    "        \n",
    "        res = self._nuevo_following(orig_usrname, following_usrname, float(ts))\n",
    "        return res and self._nuevo_follower(following_usrname, orig_usrname, float(ts))\n",
    "    \n",
    "    def nuevo_post(self, usrname, body, ts):\n",
    "        \n",
    "        # Validamos si TS es numerico.\n",
    "        self._validaTs(ts);\n",
    "        \n",
    "        res = False\n",
    "        # Recuperamos el id de usuario que escribió el tweet.\n",
    "        id_usr = self.get_id_usuario_by_nombre(usrname)\n",
    "        \n",
    "        # Comprobamos si existe.\n",
    "        if (not id_usr is None):\n",
    "            # Calculamos el siguiente id.\n",
    "            id_post = self._db.incr(Post.c_post_id)\n",
    "            # guardamos el post.\n",
    "            res = self._db.hmset(Post.base_s.format(id_post), {Post.id_creador: id_usr, Post.cuerpo:body, Post.ts:ts})\n",
    "            \n",
    "        # Debemos actualizar los posts por usuario.\n",
    "        # Primero el autor del post:\n",
    "        res = res and self._db.sadd(User.posts_s.format(id_usr), id_post)\n",
    "        \n",
    "        # Ahora hay que actualizar la lista de posts de los followers del autor, \n",
    "        # pero sólo si la fecha del post es posterior a la fecha del follow.\n",
    "        # Obtenemos los followers del creador del post que le siguieron antes de la fecha de creación del post.\n",
    "        followers = self._db.zrangebyscore(User.followers_zs.format(id_usr), 0, ts)\n",
    "        for follower_id in followers:\n",
    "            res = res and self._db.sadd(User.posts_s.format(follower_id), id_post)\n",
    "        \n",
    "        return res\n",
    "        \n",
    "           \n",
    "    #######################\n",
    "    # Auxiliary functions:#\n",
    "    #######################\n",
    "    def get_id_usuario_by_nombre(self, username):\n",
    "        '''Devuelve el id de usuario asignado al nombre proprocionado o None si no existe.'''\n",
    "        return self._db.hget(User.base_hs.format(username), User.id_usuario)\n",
    "    \n",
    "    def get_nombre_usuario_by_id(self, usr_id):\n",
    "        '''Devuelve el nombre de usuario asignado al id proprocionado o None si no existe.'''\n",
    "        return self._db.hget(User.base_hs.format(usr_id), User.nombre)\n",
    "    \n",
    "    def _get_tm_user(self, id_usr):\n",
    "        return self._db.smembers(User.posts_s.format(id_usr))\n",
    "    \n",
    "    def _validaTs(self, ts):\n",
    "        # ts tiene que ser un entero, sino Redis levantará un error.\n",
    "        # Vamos a comprobarlo y sino levantaremos una excepción que sea facil de identificar.\n",
    "        try:\n",
    "            float(ts)\n",
    "        except Exception as err:\n",
    "            raise Exception(\"Timestamp tiene que ser un valor numérico, sino REDIS levantará un error.\", err)\n",
    "        \n",
    "back = TwitterBackend()"
   ]
  },
  {
   "cell_type": "code",
   "execution_count": 357,
   "id": "intermediate-visitor",
   "metadata": {},
   "outputs": [
    {
     "name": "stderr",
     "output_type": "stream",
     "text": [
      "<ipython-input-338-55c6b92d8ac8>:19: DeprecationWarning: Redis.hmset() is deprecated. Use Redis.hset() instead.\n",
      "  x = self._db.hmset(User.base_hs.format(usr_id), {User.id_usuario:usr_id, User.nombre:username})\n",
      "<ipython-input-338-55c6b92d8ac8>:21: DeprecationWarning: Redis.hmset() is deprecated. Use Redis.hset() instead.\n",
      "  x = self._db.hmset(User.base_hs.format(username), {User.id_usuario:usr_id, User.nombre:username})\n"
     ]
    },
    {
     "data": {
      "text/plain": [
       "True"
      ]
     },
     "execution_count": 357,
     "metadata": {},
     "output_type": "execute_result"
    }
   ],
   "source": [
    "back.restarDB()\n",
    "back.nuevo_usuario(\"Adrian\")\n",
    "back.nuevo_usuario(\"Maria\")\n",
    "back.nuevo_usuario(\"Dani\")\n",
    "back.seguir(\"Maria\", \"Adrian\", 10)\n",
    "back.seguir(\"Dani\", \"Adrian\", 20)"
   ]
  },
  {
   "cell_type": "code",
   "execution_count": 358,
   "id": "instant-market",
   "metadata": {},
   "outputs": [
    {
     "name": "stderr",
     "output_type": "stream",
     "text": [
      "<ipython-input-338-55c6b92d8ac8>:87: DeprecationWarning: Redis.hmset() is deprecated. Use Redis.hset() instead.\n",
      "  res = self._db.hmset(Post.base_s.format(id_post), {Post.id_creador: id_usr, Post.cuerpo:body, Post.ts:ts})\n"
     ]
    },
    {
     "data": {
      "text/plain": [
       "1"
      ]
     },
     "execution_count": 358,
     "metadata": {},
     "output_type": "execute_result"
    }
   ],
   "source": [
    "back.nuevo_post(\"Adrian\", \"Hola Mundo!\", 9)\n",
    "back.nuevo_post(\"Adrian\", \"Hola Mundo!\", 12)\n",
    "back.nuevo_post(\"Adrian\", \"Hola Mundo!\", 15)"
   ]
  },
  {
   "cell_type": "code",
   "execution_count": 361,
   "id": "quarterly-throat",
   "metadata": {},
   "outputs": [
    {
     "data": {
      "text/plain": [
       "set()"
      ]
     },
     "execution_count": 361,
     "metadata": {},
     "output_type": "execute_result"
    }
   ],
   "source": [
    "back._get_tm_user(3)"
   ]
  },
  {
   "cell_type": "code",
   "execution_count": null,
   "id": "vulnerable-suspension",
   "metadata": {},
   "outputs": [],
   "source": []
  },
  {
   "cell_type": "code",
   "execution_count": null,
   "id": "independent-movement",
   "metadata": {},
   "outputs": [],
   "source": []
  },
  {
   "cell_type": "code",
   "execution_count": null,
   "id": "different-prime",
   "metadata": {},
   "outputs": [],
   "source": []
  }
 ],
 "metadata": {
  "kernelspec": {
   "display_name": "Python 3",
   "language": "python",
   "name": "python3"
  },
  "language_info": {
   "codemirror_mode": {
    "name": "ipython",
    "version": 3
   },
   "file_extension": ".py",
   "mimetype": "text/x-python",
   "name": "python",
   "nbconvert_exporter": "python",
   "pygments_lexer": "ipython3",
   "version": "3.9.2"
  }
 },
 "nbformat": 4,
 "nbformat_minor": 5
}
