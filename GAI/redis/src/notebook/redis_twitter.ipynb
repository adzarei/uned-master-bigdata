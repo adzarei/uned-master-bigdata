{
 "cells": [
  {
   "cell_type": "markdown",
   "id": "small-chase",
   "metadata": {},
   "source": [
    "# TP1 - REDIS - Adrián José Zapater Reig."
   ]
  },
  {
   "cell_type": "markdown",
   "id": "ethical-policy",
   "metadata": {},
   "source": [
    "Tenemos:\n",
    "- user_id - Que es un contador incremental automático para obtener el siguiente id de usuairo libre.\n",
    "- post_id\n",
    "- users - Set para convertir de id a nombre y de nombre a id. Cada usuario se da de alta 2 veces\n",
    "- "
   ]
  },
  {
   "cell_type": "code",
   "execution_count": 1,
   "id": "dated-beach",
   "metadata": {},
   "outputs": [],
   "source": [
    "# Clase estática que contiene las constantes de los nombres de las colecciones de REDIS y sus campos.\n",
    "class Post(object):\n",
    "    # Contador incremental de id de post:\n",
    "    c_post_id = 'post_id'\n",
    "    \n",
    "    # Hash que representa un post. {user_id, body, ts}.\n",
    "    base_s = 'post:{}'\n",
    "    # Campos del Hash.\n",
    "    id_creador = 'user_id'\n",
    "    cuerpo = 'body'\n",
    "    ts = 'timestamp'\n",
    "    \n",
    "    # Set con el TS de cada post para poder ordernar con un SORT\n",
    "    post_ts_s = 'post_ts_{}'"
   ]
  },
  {
   "cell_type": "code",
   "execution_count": 2,
   "id": "loose-manitoba",
   "metadata": {},
   "outputs": [],
   "source": [
    "# Clase estática que contiene las constantes de los nombres de las colecciones de REDIS y sus campos.\n",
    "class User(object):\n",
    "    # Contador incremental de id de usuario:\n",
    "    c_user_id = 'user_id'\n",
    "    \n",
    "    # Hash de traducción nombre usuario <-> id usuario. {id, username}\n",
    "    # Cada usuario aparece 2 veces: 1 por el id (users:1) y otra por el nombre (users:miguel)\n",
    "    base_hs = 'users:{}'\n",
    "    id_usuario = 'id'\n",
    "    nombre = 'username'\n",
    "    \n",
    "    # Set de posts creados por un id usuario o por sus followings siempre que la fecha del post sea superior a la fecha de following.\n",
    "    posts_s = 'posts:{}'\n",
    "    \n",
    "    # Set Ordenado de los followers de un id usuario por su timestamp.\n",
    "    # Habrá que expresar el TS en algún formato que permita la comparativa alfanumérica.\n",
    "    followers_zs = 'followers:{}'\n",
    "    \n",
    "    # Set Ordenado de los followings de un id usuario por su timestamp.\n",
    "    # Habrá que expresar el TS en algún formato que permita la comparativa alfanumérica.\n",
    "    followings_zs = 'followings:{}'"
   ]
  },
  {
   "cell_type": "code",
   "execution_count": 31,
   "id": "alpine-trust",
   "metadata": {},
   "outputs": [],
   "source": [
    "import redis\n",
    "\n",
    "class TwitterBackend(object):    \n",
    "    def __init__(self, host='127.0.0.1',port=6379, password=''):\n",
    "        # Usamos  decode_responses=True para evitar tener que decodificar todas las respuestas de REDIS.\n",
    "        self._db = redis.Redis(host=host,port=port, password=password, decode_responses=True)\n",
    "        \n",
    "    def restarDB(self):\n",
    "        '''Borra todas las keys de la base de datos.'''\n",
    "        self._db.flushall()\n",
    "    \n",
    "    def nuevo_usuario(self, username):\n",
    "        '''Da de alta un nuevo usuario y devuelve el nuevo id. Devuelve None si el usuario ya existía.'''\n",
    "        # Comprobamos si el usuario existe.\n",
    "        is_new_user = self.get_id_usuario_by_nombre(username) is None\n",
    "        if(is_new_user):\n",
    "            # Nuevo id de usuario.\n",
    "            usr_id = self._db.incr(User.c_user_id)\n",
    "            # Insertamos el nuevo usuario por id\n",
    "            x = self._db.hmset(User.base_hs.format(usr_id), {User.id_usuario:usr_id, User.nombre:username})\n",
    "            # Insertamos el nuevo usuario por nombre\n",
    "            x = self._db.hmset(User.base_hs.format(username), {User.id_usuario:usr_id, User.nombre:username})\n",
    "            return usr_id\n",
    "        \n",
    "    def _nuevo_follower(self, orig_usrname, follower_usrname, ts):\n",
    "        '''\n",
    "        Inserta un nuevo follower.\n",
    "        Devuelve True si logra insertarlo y False si falla o si ya existe.\n",
    "        Si no existe el usuario original o el usuario follower, también devuelve False.\n",
    "        '''\n",
    "        res = False\n",
    "        # Obtenemos los ids del usuario original y su follower.\n",
    "        id_follower = self.get_id_usuario_by_nombre(follower_usrname)\n",
    "        id_orig_usr = self.get_id_usuario_by_nombre(orig_usrname)\n",
    "        \n",
    "        # Comprobamos si existen ambos usuarios.\n",
    "        if((not id_follower is None) and (not id_orig_usr is None)):\n",
    "            # Damos de alta la relación.\n",
    "            # Devuelve 1 si hace el insert y 0 si no. bool(1) = True y bool(0) = False.\n",
    "            res = bool(self._db.zadd(User.followers_zs.format(id_orig_usr), {id_follower:ts}))\n",
    "        \n",
    "        return res\n",
    "    \n",
    "    def _nuevo_following(self, orig_usrname, following_usrname, ts):\n",
    "        '''\n",
    "        Inserta un nuevo following.\n",
    "        Devuelve True si logra insertarlo y False si falla o si ya existe.\n",
    "        Si no existe el usuario original o el usuario follower, también devuelve False.\n",
    "        '''\n",
    "        res = False\n",
    "        # Obtenemos los ids del usuario original y su following.\n",
    "        id_following = self.get_id_usuario_by_nombre(following_usrname)\n",
    "        id_orig_usr = self.get_id_usuario_by_nombre(orig_usrname)\n",
    "        \n",
    "        # Comprobamos si existen ambos usuarios.\n",
    "        if((not id_following is None) and (not id_orig_usr is None)):\n",
    "            # Damos de alta la relación.\n",
    "            res = bool(self._db.zadd(User.followings_zs.format(id_orig_usr), {id_following:ts}))\n",
    "        \n",
    "        return res\n",
    "    \n",
    "    def seguir(self, orig_usrname, following_usrname, ts):\n",
    "        '''\n",
    "        Formaliza que un usuario original sigue a un usuario following dando de alta los following y los followers.\n",
    "        Devuelve True si logra insertarlo y False en caso contrario.\n",
    "        Si hay un error al dar de alta el following, no continua con el follower.\n",
    "        '''\n",
    "        # Validamos si TS es numerico.\n",
    "        self._validaTs(ts);\n",
    "        \n",
    "        res = self._nuevo_following(orig_usrname, following_usrname, float(ts))\n",
    "        return res and self._nuevo_follower(following_usrname, orig_usrname, float(ts))\n",
    "    \n",
    "    def nuevo_post(self, usrname, body, ts):\n",
    "        \n",
    "        # Validamos si TS es numerico.\n",
    "        self._validaTs(ts);\n",
    "        \n",
    "        res = False\n",
    "        # Recuperamos el id de usuario que escribió el tweet.\n",
    "        id_usr = self.get_id_usuario_by_nombre(usrname)\n",
    "        \n",
    "        # Comprobamos si existe.\n",
    "        if (not id_usr is None):\n",
    "            # Calculamos el siguiente id.\n",
    "            id_post = self._db.incr(Post.c_post_id)\n",
    "            # guardamos el post.\n",
    "            res = self._db.hmset(Post.base_s.format(id_post), {Post.id_creador: id_usr, Post.cuerpo:body, Post.ts:ts})\n",
    "            # Guardamos el TS del post para poder ordenar con SORT mas adelante...\n",
    "            res = res and bool(self._db.set(Post.post_ts_s.format(id_post), ts))\n",
    "            \n",
    "        # Debemos actualizar los posts por usuario.\n",
    "        # Primero el autor del post:\n",
    "        res = res and bool(self._db.sadd(User.posts_s.format(id_usr), id_post))\n",
    "        \n",
    "        # Ahora hay que actualizar la lista de posts de los followers del autor, \n",
    "        # pero sólo si la fecha del post es posterior a la fecha del follow.\n",
    "        # Obtenemos los followers del creador del post que le siguieron antes de la fecha de creación del post.\n",
    "        followers = self._db.zrangebyscore(User.followers_zs.format(id_usr), 0, ts)\n",
    "        for follower_id in followers:\n",
    "            res = res and bool(self._db.sadd(User.posts_s.format(follower_id), id_post))\n",
    "        \n",
    "        return res\n",
    "        \n",
    "           \n",
    "    #######################\n",
    "    # Auxiliary functions:#\n",
    "    #######################\n",
    "    def get_id_usuario_by_nombre(self, username):\n",
    "        '''Devuelve el id de usuario asignado al nombre proprocionado o None si no existe.'''\n",
    "        return self._db.hget(User.base_hs.format(username), User.id_usuario)\n",
    "    \n",
    "    def get_nombre_usuario_by_id(self, usr_id):\n",
    "        '''Devuelve el nombre de usuario asignado al id proprocionado o None si no existe.'''\n",
    "        return self._db.hget(User.base_hs.format(usr_id), User.nombre)\n",
    "    \n",
    "    def _get_tm_user(self, id_usr):\n",
    "        return self._db.smembers(User.posts_s.format(id_usr))\n",
    "    \n",
    "    def _validaTs(self, ts):\n",
    "        # ts tiene que ser un entero, sino Redis levantará un error.\n",
    "        # Vamos a comprobarlo y sino levantaremos una excepción que sea facil de identificar.\n",
    "        try:\n",
    "            float(ts)\n",
    "        except Exception as err:\n",
    "            raise Exception(\"Timestamp tiene que ser un valor numérico, sino REDIS levantará un error.\", err)\n",
    "        \n",
    "back = TwitterBackend()"
   ]
  },
  {
   "cell_type": "markdown",
   "id": "tracked-there",
   "metadata": {},
   "source": [
    "# Conjunto de Datos"
   ]
  },
  {
   "cell_type": "code",
   "execution_count": 4,
   "id": "decreased-paraguay",
   "metadata": {},
   "outputs": [],
   "source": [
    "import pandas as pd\n",
    "import os\n",
    "\n",
    "# Carpeta donde se encuentran los ficheros de datos.\n",
    "data_dir = os.path.join('..', 'data')\n",
    "\n",
    "post_file = os.path.join(data_dir, 'twitter_sample.csv')\n",
    "relations_file = os.path.join(data_dir, 'relations.csv')\n",
    "\n",
    "posts = pd.read_csv(post_file, header=0, sep=',', quotechar='\"', encoding='utf-8')\n",
    "relations = pd.read_csv(relations_file, header=0, sep=',', quotechar='\"', encoding='utf-8')"
   ]
  },
  {
   "cell_type": "markdown",
   "id": "demographic-salvation",
   "metadata": {},
   "source": [
    "## Limpieza de twitter_sample"
   ]
  },
  {
   "attachments": {
    "0724c07f-aaca-4340-bf61-b5e3cc98416f.png": {
     "image/png": "[encoded data removed]"
    }
   },
   "cell_type": "markdown",
   "id": "centered-defendant",
   "metadata": {},
   "source": [
    "Ha aparecido una columna no esperada: \"Unnamed: 3\":\n",
    "\n",
    "![Screenshot 2021-03-14 at 10.26.47.png](attachment:0724c07f-aaca-4340-bf61-b5e3cc98416f.png)\n",
    "\n",
    "Todo apunta aque hay algún tweet que no tiene \"comillas\" y contiene una com en el contenido del tweet."
   ]
  },
  {
   "cell_type": "code",
   "execution_count": 5,
   "id": "alien-myanmar",
   "metadata": {},
   "outputs": [
    {
     "data": {
      "text/html": [
       "<div>\n",
       "<style scoped>\n",
       "    .dataframe tbody tr th:only-of-type {\n",
       "        vertical-align: middle;\n",
       "    }\n",
       "\n",
       "    .dataframe tbody tr th {\n",
       "        vertical-align: top;\n",
       "    }\n",
       "\n",
       "    .dataframe thead th {\n",
       "        text-align: right;\n",
       "    }\n",
       "</style>\n",
       "<table border=\"1\" class=\"dataframe\">\n",
       "  <thead>\n",
       "    <tr style=\"text-align: right;\">\n",
       "      <th></th>\n",
       "      <th>User</th>\n",
       "      <th>Post_Time</th>\n",
       "      <th>Tweet_Content</th>\n",
       "      <th>Unnamed: 3</th>\n",
       "    </tr>\n",
       "  </thead>\n",
       "  <tbody>\n",
       "    <tr>\n",
       "      <th>19</th>\n",
       "      <td>roxanefeller</td>\n",
       "      <td>22 Aug 2019 11:37:13</td>\n",
       "      <td>Plan a fun family day out &amp;amp</td>\n",
       "      <td>join us on our annual sponsored 6 mile walk o...</td>\n",
       "    </tr>\n",
       "    <tr>\n",
       "      <th>24</th>\n",
       "      <td>cathcooney</td>\n",
       "      <td>01 Aug 2019 01:24:50</td>\n",
       "      <td>Really informative read - focusing on funding ...</td>\n",
       "      <td>environmental factors) has the possibility to...</td>\n",
       "    </tr>\n",
       "  </tbody>\n",
       "</table>\n",
       "</div>"
      ],
      "text/plain": [
       "            User             Post_Time  \\\n",
       "19  roxanefeller  22 Aug 2019 11:37:13   \n",
       "24    cathcooney  01 Aug 2019 01:24:50   \n",
       "\n",
       "                                        Tweet_Content  \\\n",
       "19                     Plan a fun family day out &amp   \n",
       "24  Really informative read - focusing on funding ...   \n",
       "\n",
       "                                           Unnamed: 3  \n",
       "19   join us on our annual sponsored 6 mile walk o...  \n",
       "24   environmental factors) has the possibility to...  "
      ]
     },
     "execution_count": 5,
     "metadata": {},
     "output_type": "execute_result"
    }
   ],
   "source": [
    "posts[posts['Unnamed: 3'].notna()]"
   ]
  },
  {
   "cell_type": "markdown",
   "id": "express-headline",
   "metadata": {},
   "source": [
    "Como podemos ver en el resultado de la casilla de arriba, son 2 los tweets afectados.\n",
    "Para solucionarlo vamos a:\n",
    "- sustituir los na por cadena de texto vacía: ''\n",
    "- Unir la columns Tweet_content y Unamed: 3\n",
    "- Borrar la columna Unnamed: 3"
   ]
  },
  {
   "cell_type": "code",
   "execution_count": 6,
   "id": "german-research",
   "metadata": {},
   "outputs": [
    {
     "data": {
      "text/html": [
       "<div>\n",
       "<style scoped>\n",
       "    .dataframe tbody tr th:only-of-type {\n",
       "        vertical-align: middle;\n",
       "    }\n",
       "\n",
       "    .dataframe tbody tr th {\n",
       "        vertical-align: top;\n",
       "    }\n",
       "\n",
       "    .dataframe thead th {\n",
       "        text-align: right;\n",
       "    }\n",
       "</style>\n",
       "<table border=\"1\" class=\"dataframe\">\n",
       "  <thead>\n",
       "    <tr style=\"text-align: right;\">\n",
       "      <th></th>\n",
       "      <th>User</th>\n",
       "      <th>Post_Time</th>\n",
       "      <th>Tweet_Content</th>\n",
       "    </tr>\n",
       "  </thead>\n",
       "  <tbody>\n",
       "    <tr>\n",
       "      <th>0</th>\n",
       "      <td>andyglittle</td>\n",
       "      <td>13 Jul 2019 05:59:58</td>\n",
       "      <td>We've loved being motivated by the stories of ...</td>\n",
       "    </tr>\n",
       "    <tr>\n",
       "      <th>1</th>\n",
       "      <td>andyglittle</td>\n",
       "      <td>05 Jul 2019 10:07:29</td>\n",
       "      <td>Thanks for the shout-out on our #MorethanMedic...</td>\n",
       "    </tr>\n",
       "    <tr>\n",
       "      <th>2</th>\n",
       "      <td>afparron</td>\n",
       "      <td>11 Jul 2019 09:50:48</td>\n",
       "      <td>#MorethanMedicine — Our Story  via ⁦@animalhea...</td>\n",
       "    </tr>\n",
       "    <tr>\n",
       "      <th>3</th>\n",
       "      <td>drshahrul80</td>\n",
       "      <td>03 Aug 2019 15:20:48</td>\n",
       "      <td>We hope to get some lovely weather on our annu...</td>\n",
       "    </tr>\n",
       "    <tr>\n",
       "      <th>4</th>\n",
       "      <td>karin_stowell</td>\n",
       "      <td>04 Aug 2019 14:20:46</td>\n",
       "      <td>This is what #MoreThanMedicine is about. Love ...</td>\n",
       "    </tr>\n",
       "  </tbody>\n",
       "</table>\n",
       "</div>"
      ],
      "text/plain": [
       "            User             Post_Time  \\\n",
       "0    andyglittle  13 Jul 2019 05:59:58   \n",
       "1    andyglittle  05 Jul 2019 10:07:29   \n",
       "2       afparron  11 Jul 2019 09:50:48   \n",
       "3    drshahrul80  03 Aug 2019 15:20:48   \n",
       "4  karin_stowell  04 Aug 2019 14:20:46   \n",
       "\n",
       "                                       Tweet_Content  \n",
       "0  We've loved being motivated by the stories of ...  \n",
       "1  Thanks for the shout-out on our #MorethanMedic...  \n",
       "2  #MorethanMedicine — Our Story  via ⁦@animalhea...  \n",
       "3  We hope to get some lovely weather on our annu...  \n",
       "4  This is what #MoreThanMedicine is about. Love ...  "
      ]
     },
     "execution_count": 6,
     "metadata": {},
     "output_type": "execute_result"
    }
   ],
   "source": [
    "posts['Unnamed: 3'].fillna(\"\", inplace=True)\n",
    "posts['Tweet_Content'] = posts['Tweet_Content'] + posts['Unnamed: 3']\n",
    "\n",
    "posts.drop(columns='Unnamed: 3', inplace=True)\n",
    "posts.head()"
   ]
  },
  {
   "cell_type": "markdown",
   "id": "dramatic-defense",
   "metadata": {},
   "source": [
    "Ahora vamos a comprobar si hay algún NA en las columnas:"
   ]
  },
  {
   "cell_type": "code",
   "execution_count": 7,
   "id": "capable-ownership",
   "metadata": {},
   "outputs": [
    {
     "data": {
      "text/html": [
       "<div>\n",
       "<style scoped>\n",
       "    .dataframe tbody tr th:only-of-type {\n",
       "        vertical-align: middle;\n",
       "    }\n",
       "\n",
       "    .dataframe tbody tr th {\n",
       "        vertical-align: top;\n",
       "    }\n",
       "\n",
       "    .dataframe thead th {\n",
       "        text-align: right;\n",
       "    }\n",
       "</style>\n",
       "<table border=\"1\" class=\"dataframe\">\n",
       "  <thead>\n",
       "    <tr style=\"text-align: right;\">\n",
       "      <th></th>\n",
       "      <th>User</th>\n",
       "      <th>Post_Time</th>\n",
       "      <th>Tweet_Content</th>\n",
       "    </tr>\n",
       "  </thead>\n",
       "  <tbody>\n",
       "    <tr>\n",
       "      <th>14</th>\n",
       "      <td>NaN</td>\n",
       "      <td>02 Jul 2019 20:56:39</td>\n",
       "      <td>@stemagno74 @wcrfint @macmillancancer @NIHRres...</td>\n",
       "    </tr>\n",
       "  </tbody>\n",
       "</table>\n",
       "</div>"
      ],
      "text/plain": [
       "   User             Post_Time  \\\n",
       "14  NaN  02 Jul 2019 20:56:39   \n",
       "\n",
       "                                        Tweet_Content  \n",
       "14  @stemagno74 @wcrfint @macmillancancer @NIHRres...  "
      ]
     },
     "execution_count": 7,
     "metadata": {},
     "output_type": "execute_result"
    }
   ],
   "source": [
    "posts[posts['User'].isna() | posts['Post_Time'].isna() | posts['Tweet_Content'].isna()]"
   ]
  },
  {
   "cell_type": "markdown",
   "id": "thousand-factor",
   "metadata": {},
   "source": [
    "Existe un tweet que no tiene usuario, como no podemos inferir quién es el creador del tweet, lo tendremos que descartar:"
   ]
  },
  {
   "cell_type": "code",
   "execution_count": 8,
   "id": "peripheral-fitting",
   "metadata": {},
   "outputs": [
    {
     "data": {
      "text/html": [
       "<div>\n",
       "<style scoped>\n",
       "    .dataframe tbody tr th:only-of-type {\n",
       "        vertical-align: middle;\n",
       "    }\n",
       "\n",
       "    .dataframe tbody tr th {\n",
       "        vertical-align: top;\n",
       "    }\n",
       "\n",
       "    .dataframe thead th {\n",
       "        text-align: right;\n",
       "    }\n",
       "</style>\n",
       "<table border=\"1\" class=\"dataframe\">\n",
       "  <thead>\n",
       "    <tr style=\"text-align: right;\">\n",
       "      <th></th>\n",
       "      <th>User</th>\n",
       "      <th>Post_Time</th>\n",
       "      <th>Tweet_Content</th>\n",
       "    </tr>\n",
       "  </thead>\n",
       "  <tbody>\n",
       "    <tr>\n",
       "      <th>0</th>\n",
       "      <td>andyglittle</td>\n",
       "      <td>13 Jul 2019 05:59:58</td>\n",
       "      <td>We've loved being motivated by the stories of ...</td>\n",
       "    </tr>\n",
       "    <tr>\n",
       "      <th>1</th>\n",
       "      <td>andyglittle</td>\n",
       "      <td>05 Jul 2019 10:07:29</td>\n",
       "      <td>Thanks for the shout-out on our #MorethanMedic...</td>\n",
       "    </tr>\n",
       "    <tr>\n",
       "      <th>2</th>\n",
       "      <td>afparron</td>\n",
       "      <td>11 Jul 2019 09:50:48</td>\n",
       "      <td>#MorethanMedicine — Our Story  via ⁦@animalhea...</td>\n",
       "    </tr>\n",
       "    <tr>\n",
       "      <th>3</th>\n",
       "      <td>drshahrul80</td>\n",
       "      <td>03 Aug 2019 15:20:48</td>\n",
       "      <td>We hope to get some lovely weather on our annu...</td>\n",
       "    </tr>\n",
       "    <tr>\n",
       "      <th>4</th>\n",
       "      <td>karin_stowell</td>\n",
       "      <td>04 Aug 2019 14:20:46</td>\n",
       "      <td>This is what #MoreThanMedicine is about. Love ...</td>\n",
       "    </tr>\n",
       "  </tbody>\n",
       "</table>\n",
       "</div>"
      ],
      "text/plain": [
       "            User             Post_Time  \\\n",
       "0    andyglittle  13 Jul 2019 05:59:58   \n",
       "1    andyglittle  05 Jul 2019 10:07:29   \n",
       "2       afparron  11 Jul 2019 09:50:48   \n",
       "3    drshahrul80  03 Aug 2019 15:20:48   \n",
       "4  karin_stowell  04 Aug 2019 14:20:46   \n",
       "\n",
       "                                       Tweet_Content  \n",
       "0  We've loved being motivated by the stories of ...  \n",
       "1  Thanks for the shout-out on our #MorethanMedic...  \n",
       "2  #MorethanMedicine — Our Story  via ⁦@animalhea...  \n",
       "3  We hope to get some lovely weather on our annu...  \n",
       "4  This is what #MoreThanMedicine is about. Love ...  "
      ]
     },
     "execution_count": 8,
     "metadata": {},
     "output_type": "execute_result"
    }
   ],
   "source": [
    "# Descartamos por id.\n",
    "clean_posts = posts.drop(14)\n",
    "clean_posts.head()"
   ]
  },
  {
   "cell_type": "markdown",
   "id": "established-memory",
   "metadata": {},
   "source": [
    "## Limpieza de relations"
   ]
  },
  {
   "cell_type": "code",
   "execution_count": 9,
   "id": "authorized-graduate",
   "metadata": {},
   "outputs": [
    {
     "data": {
      "text/html": [
       "<div>\n",
       "<style scoped>\n",
       "    .dataframe tbody tr th:only-of-type {\n",
       "        vertical-align: middle;\n",
       "    }\n",
       "\n",
       "    .dataframe tbody tr th {\n",
       "        vertical-align: top;\n",
       "    }\n",
       "\n",
       "    .dataframe thead th {\n",
       "        text-align: right;\n",
       "    }\n",
       "</style>\n",
       "<table border=\"1\" class=\"dataframe\">\n",
       "  <thead>\n",
       "    <tr style=\"text-align: right;\">\n",
       "      <th></th>\n",
       "      <th>User</th>\n",
       "      <th>Follows</th>\n",
       "      <th>Following_Time</th>\n",
       "    </tr>\n",
       "  </thead>\n",
       "  <tbody>\n",
       "    <tr>\n",
       "      <th>0</th>\n",
       "      <td>roxanefeller</td>\n",
       "      <td>cathcooney</td>\n",
       "      <td>13 Jun 2019 05:59:58</td>\n",
       "    </tr>\n",
       "    <tr>\n",
       "      <th>1</th>\n",
       "      <td>andyglittle</td>\n",
       "      <td>charleskod</td>\n",
       "      <td>14 Jul 2019 10:07:29</td>\n",
       "    </tr>\n",
       "    <tr>\n",
       "      <th>2</th>\n",
       "      <td>andyglittle</td>\n",
       "      <td>seers_helen</td>\n",
       "      <td>18 Jul 2019 09:50:48</td>\n",
       "    </tr>\n",
       "    <tr>\n",
       "      <th>3</th>\n",
       "      <td>andyglittle</td>\n",
       "      <td>karin_stowell</td>\n",
       "      <td>31 Aug 2019 15:20:48</td>\n",
       "    </tr>\n",
       "    <tr>\n",
       "      <th>4</th>\n",
       "      <td>hanyshita</td>\n",
       "      <td>andyglittle</td>\n",
       "      <td>12 Jul 2019 14:20:46</td>\n",
       "    </tr>\n",
       "  </tbody>\n",
       "</table>\n",
       "</div>"
      ],
      "text/plain": [
       "           User        Follows        Following_Time\n",
       "0  roxanefeller     cathcooney  13 Jun 2019 05:59:58\n",
       "1   andyglittle     charleskod  14 Jul 2019 10:07:29\n",
       "2   andyglittle    seers_helen  18 Jul 2019 09:50:48\n",
       "3   andyglittle  karin_stowell  31 Aug 2019 15:20:48\n",
       "4     hanyshita    andyglittle  12 Jul 2019 14:20:46"
      ]
     },
     "execution_count": 9,
     "metadata": {},
     "output_type": "execute_result"
    }
   ],
   "source": [
    "relations.head()"
   ]
  },
  {
   "cell_type": "markdown",
   "id": "charged-farming",
   "metadata": {},
   "source": [
    "El fichero parece tener el formato esperado. Vamos a comrpobar por si hay NAs."
   ]
  },
  {
   "cell_type": "code",
   "execution_count": 10,
   "id": "abstract-compact",
   "metadata": {},
   "outputs": [
    {
     "data": {
      "text/html": [
       "<div>\n",
       "<style scoped>\n",
       "    .dataframe tbody tr th:only-of-type {\n",
       "        vertical-align: middle;\n",
       "    }\n",
       "\n",
       "    .dataframe tbody tr th {\n",
       "        vertical-align: top;\n",
       "    }\n",
       "\n",
       "    .dataframe thead th {\n",
       "        text-align: right;\n",
       "    }\n",
       "</style>\n",
       "<table border=\"1\" class=\"dataframe\">\n",
       "  <thead>\n",
       "    <tr style=\"text-align: right;\">\n",
       "      <th></th>\n",
       "      <th>User</th>\n",
       "      <th>Follows</th>\n",
       "      <th>Following_Time</th>\n",
       "    </tr>\n",
       "  </thead>\n",
       "  <tbody>\n",
       "  </tbody>\n",
       "</table>\n",
       "</div>"
      ],
      "text/plain": [
       "Empty DataFrame\n",
       "Columns: [User, Follows, Following_Time]\n",
       "Index: []"
      ]
     },
     "execution_count": 10,
     "metadata": {},
     "output_type": "execute_result"
    }
   ],
   "source": [
    "relations[relations['User'].isna() | relations['Follows'].isna() | relations['Following_Time'].isna()]"
   ]
  },
  {
   "cell_type": "markdown",
   "id": "direct-arena",
   "metadata": {},
   "source": [
    "Confimado, el fichero está completo, con la estructura adecuada y sin NAs."
   ]
  },
  {
   "cell_type": "code",
   "execution_count": 11,
   "id": "stuck-finance",
   "metadata": {},
   "outputs": [],
   "source": [
    "clean_relations = relations"
   ]
  },
  {
   "cell_type": "markdown",
   "id": "bored-consumption",
   "metadata": {},
   "source": [
    "## Tratamiento de Fechas:\n",
    "Para poder indexar y ordenar por fechas es necesario convertir las fechas a un formato adecuado."
   ]
  },
  {
   "cell_type": "code",
   "execution_count": 12,
   "id": "relevant-davis",
   "metadata": {},
   "outputs": [
    {
     "name": "stdout",
     "output_type": "stream",
     "text": [
      "1562934046\n",
      "12 Jul 2019 14:20:46\n"
     ]
    }
   ],
   "source": [
    "from datetime import datetime\n",
    "\n",
    "# Clase estática que guarda funciones par el tratamiento de fechas.\n",
    "class DateUtils(object):\n",
    "\n",
    "    def date2ts(date_string, date_format = '%d %b %Y %H:%M:%S'):\n",
    "        '''Convierte de fecha a timestamp'''\n",
    "        return int(datetime.strptime(date_string, date_format).timestamp())\n",
    "\n",
    "    def ts2date(ts, date_format = '%d %b %Y %H:%M:%S'):\n",
    "        '''Convierte de Timestamp a fecha'''\n",
    "        return datetime.fromtimestamp(ts).strftime(date_format)\n",
    "\n",
    "# Probamos la función\n",
    "print(DateUtils.date2ts('12 Jul 2019 14:20:46'))\n",
    "print(DateUtils.ts2date(1562934046))"
   ]
  },
  {
   "cell_type": "markdown",
   "id": "emotional-client",
   "metadata": {},
   "source": [
    "### Convertimos las fechas de los DataFrames a Timestamps"
   ]
  },
  {
   "cell_type": "code",
   "execution_count": 13,
   "id": "revolutionary-christmas",
   "metadata": {},
   "outputs": [
    {
     "data": {
      "text/html": [
       "<div>\n",
       "<style scoped>\n",
       "    .dataframe tbody tr th:only-of-type {\n",
       "        vertical-align: middle;\n",
       "    }\n",
       "\n",
       "    .dataframe tbody tr th {\n",
       "        vertical-align: top;\n",
       "    }\n",
       "\n",
       "    .dataframe thead th {\n",
       "        text-align: right;\n",
       "    }\n",
       "</style>\n",
       "<table border=\"1\" class=\"dataframe\">\n",
       "  <thead>\n",
       "    <tr style=\"text-align: right;\">\n",
       "      <th></th>\n",
       "      <th>User</th>\n",
       "      <th>Post_Time</th>\n",
       "      <th>Tweet_Content</th>\n",
       "    </tr>\n",
       "  </thead>\n",
       "  <tbody>\n",
       "    <tr>\n",
       "      <th>0</th>\n",
       "      <td>andyglittle</td>\n",
       "      <td>1562990398</td>\n",
       "      <td>We've loved being motivated by the stories of ...</td>\n",
       "    </tr>\n",
       "    <tr>\n",
       "      <th>1</th>\n",
       "      <td>andyglittle</td>\n",
       "      <td>1562314049</td>\n",
       "      <td>Thanks for the shout-out on our #MorethanMedic...</td>\n",
       "    </tr>\n",
       "    <tr>\n",
       "      <th>2</th>\n",
       "      <td>afparron</td>\n",
       "      <td>1562831448</td>\n",
       "      <td>#MorethanMedicine — Our Story  via ⁦@animalhea...</td>\n",
       "    </tr>\n",
       "    <tr>\n",
       "      <th>3</th>\n",
       "      <td>drshahrul80</td>\n",
       "      <td>1564838448</td>\n",
       "      <td>We hope to get some lovely weather on our annu...</td>\n",
       "    </tr>\n",
       "    <tr>\n",
       "      <th>4</th>\n",
       "      <td>karin_stowell</td>\n",
       "      <td>1564921246</td>\n",
       "      <td>This is what #MoreThanMedicine is about. Love ...</td>\n",
       "    </tr>\n",
       "  </tbody>\n",
       "</table>\n",
       "</div>"
      ],
      "text/plain": [
       "            User   Post_Time  \\\n",
       "0    andyglittle  1562990398   \n",
       "1    andyglittle  1562314049   \n",
       "2       afparron  1562831448   \n",
       "3    drshahrul80  1564838448   \n",
       "4  karin_stowell  1564921246   \n",
       "\n",
       "                                       Tweet_Content  \n",
       "0  We've loved being motivated by the stories of ...  \n",
       "1  Thanks for the shout-out on our #MorethanMedic...  \n",
       "2  #MorethanMedicine — Our Story  via ⁦@animalhea...  \n",
       "3  We hope to get some lovely weather on our annu...  \n",
       "4  This is what #MoreThanMedicine is about. Love ...  "
      ]
     },
     "execution_count": 13,
     "metadata": {},
     "output_type": "execute_result"
    }
   ],
   "source": [
    "clean_posts['Post_Time'] = clean_posts['Post_Time'].apply(lambda date: DateUtils.date2ts(date))\n",
    "clean_posts.head()"
   ]
  },
  {
   "cell_type": "code",
   "execution_count": 14,
   "id": "continent-citation",
   "metadata": {},
   "outputs": [
    {
     "data": {
      "text/html": [
       "<div>\n",
       "<style scoped>\n",
       "    .dataframe tbody tr th:only-of-type {\n",
       "        vertical-align: middle;\n",
       "    }\n",
       "\n",
       "    .dataframe tbody tr th {\n",
       "        vertical-align: top;\n",
       "    }\n",
       "\n",
       "    .dataframe thead th {\n",
       "        text-align: right;\n",
       "    }\n",
       "</style>\n",
       "<table border=\"1\" class=\"dataframe\">\n",
       "  <thead>\n",
       "    <tr style=\"text-align: right;\">\n",
       "      <th></th>\n",
       "      <th>User</th>\n",
       "      <th>Follows</th>\n",
       "      <th>Following_Time</th>\n",
       "    </tr>\n",
       "  </thead>\n",
       "  <tbody>\n",
       "    <tr>\n",
       "      <th>0</th>\n",
       "      <td>roxanefeller</td>\n",
       "      <td>cathcooney</td>\n",
       "      <td>1560398398</td>\n",
       "    </tr>\n",
       "    <tr>\n",
       "      <th>1</th>\n",
       "      <td>andyglittle</td>\n",
       "      <td>charleskod</td>\n",
       "      <td>1563091649</td>\n",
       "    </tr>\n",
       "    <tr>\n",
       "      <th>2</th>\n",
       "      <td>andyglittle</td>\n",
       "      <td>seers_helen</td>\n",
       "      <td>1563436248</td>\n",
       "    </tr>\n",
       "    <tr>\n",
       "      <th>3</th>\n",
       "      <td>andyglittle</td>\n",
       "      <td>karin_stowell</td>\n",
       "      <td>1567257648</td>\n",
       "    </tr>\n",
       "    <tr>\n",
       "      <th>4</th>\n",
       "      <td>hanyshita</td>\n",
       "      <td>andyglittle</td>\n",
       "      <td>1562934046</td>\n",
       "    </tr>\n",
       "  </tbody>\n",
       "</table>\n",
       "</div>"
      ],
      "text/plain": [
       "           User        Follows  Following_Time\n",
       "0  roxanefeller     cathcooney      1560398398\n",
       "1   andyglittle     charleskod      1563091649\n",
       "2   andyglittle    seers_helen      1563436248\n",
       "3   andyglittle  karin_stowell      1567257648\n",
       "4     hanyshita    andyglittle      1562934046"
      ]
     },
     "execution_count": 14,
     "metadata": {},
     "output_type": "execute_result"
    }
   ],
   "source": [
    "clean_relations['Following_Time'] = clean_relations['Following_Time'].apply(lambda date: DateUtils.date2ts(date))\n",
    "clean_relations.head()"
   ]
  },
  {
   "cell_type": "markdown",
   "id": "activated-decade",
   "metadata": {},
   "source": [
    "## Carga de Datos\n",
    "Para cargar los datos deberemos seguir los siguientes pasos:\n",
    "- Obtener todos los usuarios que aparecen en los posts y en las relaciones y crearlos en nuestra DB.\n",
    "- En segundo lugar debemos cargar las relaciones.\n",
    "- Por último, cargaremos los posts."
   ]
  },
  {
   "cell_type": "code",
   "execution_count": 15,
   "id": "stretch-cabinet",
   "metadata": {},
   "outputs": [
    {
     "data": {
      "text/plain": [
       "array(['andyglittle', 'afparron', 'drshahrul80', 'karin_stowell',\n",
       "       'cathcooney', 'dkalnow', 'alkhalilkouma', 'seers_helen',\n",
       "       'hanyshita', 'roxanefeller', 'animalhealthEU', 'charleskod'],\n",
       "      dtype=object)"
      ]
     },
     "execution_count": 15,
     "metadata": {},
     "output_type": "execute_result"
    }
   ],
   "source": [
    "posts_users = clean_posts.User.unique()\n",
    "posts_users"
   ]
  },
  {
   "cell_type": "code",
   "execution_count": 16,
   "id": "unexpected-processor",
   "metadata": {},
   "outputs": [
    {
     "data": {
      "text/plain": [
       "array(['roxanefeller', 'andyglittle', 'hanyshita', 'afparron', 'dkalnow',\n",
       "       'animalhealthEU', 'seers_helen', 'alkhalilkouma', 'drshahrul80',\n",
       "       'cathcooney', 'karin_stowell', 'charleskod'], dtype=object)"
      ]
     },
     "execution_count": 16,
     "metadata": {},
     "output_type": "execute_result"
    }
   ],
   "source": [
    "relations_user_1 = clean_relations.User.unique()\n",
    "relations_user_1"
   ]
  },
  {
   "cell_type": "code",
   "execution_count": 17,
   "id": "upper-denver",
   "metadata": {},
   "outputs": [
    {
     "data": {
      "text/plain": [
       "array(['cathcooney', 'charleskod', 'seers_helen', 'karin_stowell',\n",
       "       'andyglittle', 'animalhealthEU', 'drshahrul80', 'dkalnow',\n",
       "       'roxanefeller', 'afparron', 'alkhalilkouma', 'hanyshita'],\n",
       "      dtype=object)"
      ]
     },
     "execution_count": 17,
     "metadata": {},
     "output_type": "execute_result"
    }
   ],
   "source": [
    "relations_user_2 = clean_relations.Follows.unique()\n",
    "relations_user_2"
   ]
  },
  {
   "cell_type": "markdown",
   "id": "sacred-tanzania",
   "metadata": {},
   "source": [
    "Ahora hay que unirlos todos. Vamos a usar un SET para que no haya repetidos."
   ]
  },
  {
   "cell_type": "code",
   "execution_count": 18,
   "id": "cultural-reproduction",
   "metadata": {},
   "outputs": [
    {
     "data": {
      "text/plain": [
       "{'afparron',\n",
       " 'alkhalilkouma',\n",
       " 'andyglittle',\n",
       " 'animalhealthEU',\n",
       " 'cathcooney',\n",
       " 'charleskod',\n",
       " 'dkalnow',\n",
       " 'drshahrul80',\n",
       " 'hanyshita',\n",
       " 'karin_stowell',\n",
       " 'roxanefeller',\n",
       " 'seers_helen'}"
      ]
     },
     "execution_count": 18,
     "metadata": {},
     "output_type": "execute_result"
    }
   ],
   "source": [
    "users = set(posts_users)\n",
    "users.update(relations_user_1)\n",
    "users.update(relations_user_2)\n",
    "\n",
    "users"
   ]
  },
  {
   "cell_type": "markdown",
   "id": "familiar-technology",
   "metadata": {},
   "source": [
    " #### Cargamos los usuarios en la BD:"
   ]
  },
  {
   "cell_type": "code",
   "execution_count": 19,
   "id": "formed-pixel",
   "metadata": {},
   "outputs": [],
   "source": [
    "back = TwitterBackend()\n",
    "# Vaciamos la BD entre ejecuciones:\n",
    "back.restarDB()"
   ]
  },
  {
   "cell_type": "code",
   "execution_count": 20,
   "id": "answering-breakdown",
   "metadata": {},
   "outputs": [
    {
     "name": "stdout",
     "output_type": "stream",
     "text": [
      "Creando Usuario charleskod con ID 1\n",
      "Creando Usuario cathcooney con ID 2\n",
      "Creando Usuario hanyshita con ID 3\n",
      "Creando Usuario drshahrul80 con ID 4\n",
      "Creando Usuario seers_helen con ID 5\n",
      "Creando Usuario afparron con ID 6\n",
      "Creando Usuario dkalnow con ID 7\n",
      "Creando Usuario roxanefeller con ID 8\n",
      "Creando Usuario alkhalilkouma con ID 9\n",
      "Creando Usuario andyglittle con ID 10\n",
      "Creando Usuario animalhealthEU con ID 11\n",
      "Creando Usuario karin_stowell con ID 12\n"
     ]
    },
    {
     "name": "stderr",
     "output_type": "stream",
     "text": [
      "<ipython-input-3-10423a675c96>:20: DeprecationWarning: Redis.hmset() is deprecated. Use Redis.hset() instead.\n",
      "  x = self._db.hmset(User.base_hs.format(usr_id), {User.id_usuario:usr_id, User.nombre:username})\n",
      "<ipython-input-3-10423a675c96>:22: DeprecationWarning: Redis.hmset() is deprecated. Use Redis.hset() instead.\n",
      "  x = self._db.hmset(User.base_hs.format(username), {User.id_usuario:usr_id, User.nombre:username})\n"
     ]
    }
   ],
   "source": [
    "for user in users:\n",
    "    res = back.nuevo_usuario(user)\n",
    "    print('Creando Usuario {} con ID {}'.format(user, res))"
   ]
  },
  {
   "cell_type": "markdown",
   "id": "significant-arthritis",
   "metadata": {},
   "source": [
    " #### Cargamos las relaciones en la BD:"
   ]
  },
  {
   "cell_type": "code",
   "execution_count": 21,
   "id": "acoustic-latino",
   "metadata": {},
   "outputs": [
    {
     "data": {
      "text/html": [
       "<div>\n",
       "<style scoped>\n",
       "    .dataframe tbody tr th:only-of-type {\n",
       "        vertical-align: middle;\n",
       "    }\n",
       "\n",
       "    .dataframe tbody tr th {\n",
       "        vertical-align: top;\n",
       "    }\n",
       "\n",
       "    .dataframe thead th {\n",
       "        text-align: right;\n",
       "    }\n",
       "</style>\n",
       "<table border=\"1\" class=\"dataframe\">\n",
       "  <thead>\n",
       "    <tr style=\"text-align: right;\">\n",
       "      <th></th>\n",
       "      <th>User</th>\n",
       "      <th>Follows</th>\n",
       "      <th>Following_Time</th>\n",
       "    </tr>\n",
       "  </thead>\n",
       "  <tbody>\n",
       "    <tr>\n",
       "      <th>0</th>\n",
       "      <td>roxanefeller</td>\n",
       "      <td>cathcooney</td>\n",
       "      <td>1560398398</td>\n",
       "    </tr>\n",
       "    <tr>\n",
       "      <th>1</th>\n",
       "      <td>andyglittle</td>\n",
       "      <td>charleskod</td>\n",
       "      <td>1563091649</td>\n",
       "    </tr>\n",
       "    <tr>\n",
       "      <th>2</th>\n",
       "      <td>andyglittle</td>\n",
       "      <td>seers_helen</td>\n",
       "      <td>1563436248</td>\n",
       "    </tr>\n",
       "    <tr>\n",
       "      <th>3</th>\n",
       "      <td>andyglittle</td>\n",
       "      <td>karin_stowell</td>\n",
       "      <td>1567257648</td>\n",
       "    </tr>\n",
       "    <tr>\n",
       "      <th>4</th>\n",
       "      <td>hanyshita</td>\n",
       "      <td>andyglittle</td>\n",
       "      <td>1562934046</td>\n",
       "    </tr>\n",
       "  </tbody>\n",
       "</table>\n",
       "</div>"
      ],
      "text/plain": [
       "           User        Follows  Following_Time\n",
       "0  roxanefeller     cathcooney      1560398398\n",
       "1   andyglittle     charleskod      1563091649\n",
       "2   andyglittle    seers_helen      1563436248\n",
       "3   andyglittle  karin_stowell      1567257648\n",
       "4     hanyshita    andyglittle      1562934046"
      ]
     },
     "execution_count": 21,
     "metadata": {},
     "output_type": "execute_result"
    }
   ],
   "source": [
    "clean_relations.head()"
   ]
  },
  {
   "cell_type": "code",
   "execution_count": 22,
   "id": "straight-music",
   "metadata": {},
   "outputs": [
    {
     "name": "stdout",
     "output_type": "stream",
     "text": [
      "Resultado de añadir relation roxanefeller - cathcooney - 1560398398 = True\n",
      "Resultado de añadir relation andyglittle - charleskod - 1563091649 = True\n",
      "Resultado de añadir relation andyglittle - seers_helen - 1563436248 = True\n",
      "Resultado de añadir relation andyglittle - karin_stowell - 1567257648 = True\n",
      "Resultado de añadir relation hanyshita - andyglittle - 1562934046 = True\n",
      "Resultado de añadir relation afparron - animalhealthEU - 1559361880 = True\n",
      "Resultado de añadir relation dkalnow - animalhealthEU - 1561963226 = True\n",
      "Resultado de añadir relation animalhealthEU - drshahrul80 - 1563541195 = True\n",
      "Resultado de añadir relation animalhealthEU - dkalnow - 1566907024 = True\n",
      "Resultado de añadir relation seers_helen - roxanefeller - 1572723037 = True\n",
      "Resultado de añadir relation alkhalilkouma - drshahrul80 - 1564654679 = True\n",
      "Resultado de añadir relation alkhalilkouma - animalhealthEU - 1562001903 = True\n",
      "Resultado de añadir relation drshahrul80 - afparron - 1562100908 = True\n",
      "Resultado de añadir relation drshahrul80 - karin_stowell - 1563955200 = True\n",
      "Resultado de añadir relation drshahrul80 - cathcooney - 1562007399 = True\n",
      "Resultado de añadir relation cathcooney - alkhalilkouma - 1561458037 = True\n",
      "Resultado de añadir relation karin_stowell - drshahrul80 - 1564689505 = True\n",
      "Resultado de añadir relation charleskod - animalhealthEU - 1561958878 = True\n",
      "Resultado de añadir relation charleskod - seers_helen - 1564215095 = True\n",
      "Resultado de añadir relation charleskod - dkalnow - 1567244233 = True\n",
      "Resultado de añadir relation charleskod - hanyshita - 1564557356 = True\n",
      "Resultado de añadir relation charleskod - andyglittle - 1564570497 = True\n"
     ]
    }
   ],
   "source": [
    "for idx, row in clean_relations.iterrows():\n",
    "    res = back.seguir(row['User'], row['Follows'], row['Following_Time'])\n",
    "    print('Resultado de añadir relation {} - {} - {} = {}'.format(row['User'], row['Follows'], row['Following_Time'], res))"
   ]
  },
  {
   "cell_type": "markdown",
   "id": "little-quantum",
   "metadata": {},
   "source": [
    " #### Cargamos las relaciones en la BD:"
   ]
  },
  {
   "cell_type": "code",
   "execution_count": 23,
   "id": "clean-century",
   "metadata": {},
   "outputs": [
    {
     "data": {
      "text/html": [
       "<div>\n",
       "<style scoped>\n",
       "    .dataframe tbody tr th:only-of-type {\n",
       "        vertical-align: middle;\n",
       "    }\n",
       "\n",
       "    .dataframe tbody tr th {\n",
       "        vertical-align: top;\n",
       "    }\n",
       "\n",
       "    .dataframe thead th {\n",
       "        text-align: right;\n",
       "    }\n",
       "</style>\n",
       "<table border=\"1\" class=\"dataframe\">\n",
       "  <thead>\n",
       "    <tr style=\"text-align: right;\">\n",
       "      <th></th>\n",
       "      <th>User</th>\n",
       "      <th>Post_Time</th>\n",
       "      <th>Tweet_Content</th>\n",
       "    </tr>\n",
       "  </thead>\n",
       "  <tbody>\n",
       "    <tr>\n",
       "      <th>0</th>\n",
       "      <td>andyglittle</td>\n",
       "      <td>1562990398</td>\n",
       "      <td>We've loved being motivated by the stories of ...</td>\n",
       "    </tr>\n",
       "    <tr>\n",
       "      <th>1</th>\n",
       "      <td>andyglittle</td>\n",
       "      <td>1562314049</td>\n",
       "      <td>Thanks for the shout-out on our #MorethanMedic...</td>\n",
       "    </tr>\n",
       "    <tr>\n",
       "      <th>2</th>\n",
       "      <td>afparron</td>\n",
       "      <td>1562831448</td>\n",
       "      <td>#MorethanMedicine — Our Story  via ⁦@animalhea...</td>\n",
       "    </tr>\n",
       "    <tr>\n",
       "      <th>3</th>\n",
       "      <td>drshahrul80</td>\n",
       "      <td>1564838448</td>\n",
       "      <td>We hope to get some lovely weather on our annu...</td>\n",
       "    </tr>\n",
       "    <tr>\n",
       "      <th>4</th>\n",
       "      <td>karin_stowell</td>\n",
       "      <td>1564921246</td>\n",
       "      <td>This is what #MoreThanMedicine is about. Love ...</td>\n",
       "    </tr>\n",
       "  </tbody>\n",
       "</table>\n",
       "</div>"
      ],
      "text/plain": [
       "            User   Post_Time  \\\n",
       "0    andyglittle  1562990398   \n",
       "1    andyglittle  1562314049   \n",
       "2       afparron  1562831448   \n",
       "3    drshahrul80  1564838448   \n",
       "4  karin_stowell  1564921246   \n",
       "\n",
       "                                       Tweet_Content  \n",
       "0  We've loved being motivated by the stories of ...  \n",
       "1  Thanks for the shout-out on our #MorethanMedic...  \n",
       "2  #MorethanMedicine — Our Story  via ⁦@animalhea...  \n",
       "3  We hope to get some lovely weather on our annu...  \n",
       "4  This is what #MoreThanMedicine is about. Love ...  "
      ]
     },
     "execution_count": 23,
     "metadata": {},
     "output_type": "execute_result"
    }
   ],
   "source": [
    "clean_posts.head()"
   ]
  },
  {
   "cell_type": "code",
   "execution_count": 24,
   "id": "speaking-development",
   "metadata": {},
   "outputs": [
    {
     "name": "stdout",
     "output_type": "stream",
     "text": [
      "Resultado de crear nuevo post de andyglittle : True\n",
      "Resultado de crear nuevo post de andyglittle : True\n",
      "Resultado de crear nuevo post de afparron : True\n",
      "Resultado de crear nuevo post de drshahrul80 : True\n",
      "Resultado de crear nuevo post de karin_stowell : True\n",
      "Resultado de crear nuevo post de andyglittle : True\n",
      "Resultado de crear nuevo post de afparron : True\n",
      "Resultado de crear nuevo post de cathcooney : True\n",
      "Resultado de crear nuevo post de karin_stowell : True\n",
      "Resultado de crear nuevo post de dkalnow : True\n",
      "Resultado de crear nuevo post de alkhalilkouma : True\n",
      "Resultado de crear nuevo post de seers_helen : True\n",
      "Resultado de crear nuevo post de alkhalilkouma : True\n",
      "Resultado de crear nuevo post de hanyshita : True\n",
      "Resultado de crear nuevo post de dkalnow : True\n"
     ]
    },
    {
     "name": "stderr",
     "output_type": "stream",
     "text": [
      "<ipython-input-3-10423a675c96>:88: DeprecationWarning: Redis.hmset() is deprecated. Use Redis.hset() instead.\n",
      "  res = self._db.hmset(Post.base_s.format(id_post), {Post.id_creador: id_usr, Post.cuerpo:body, Post.ts:ts})\n"
     ]
    },
    {
     "name": "stdout",
     "output_type": "stream",
     "text": [
      "Resultado de crear nuevo post de cathcooney : True\n",
      "Resultado de crear nuevo post de roxanefeller : True\n",
      "Resultado de crear nuevo post de drshahrul80 : True\n",
      "Resultado de crear nuevo post de roxanefeller : True\n",
      "Resultado de crear nuevo post de animalhealthEU : True\n",
      "Resultado de crear nuevo post de dkalnow : True\n",
      "Resultado de crear nuevo post de alkhalilkouma : True\n",
      "Resultado de crear nuevo post de dkalnow : True\n",
      "Resultado de crear nuevo post de cathcooney : True\n",
      "Resultado de crear nuevo post de drshahrul80 : True\n",
      "Resultado de crear nuevo post de andyglittle : True\n",
      "Resultado de crear nuevo post de alkhalilkouma : True\n",
      "Resultado de crear nuevo post de charleskod : True\n",
      "Resultado de crear nuevo post de cathcooney : True\n",
      "Resultado de crear nuevo post de dkalnow : True\n",
      "Resultado de crear nuevo post de charleskod : True\n",
      "Resultado de crear nuevo post de charleskod : True\n",
      "Resultado de crear nuevo post de afparron : True\n",
      "Resultado de crear nuevo post de cathcooney : True\n",
      "Resultado de crear nuevo post de cathcooney : True\n",
      "Resultado de crear nuevo post de alkhalilkouma : True\n",
      "Resultado de crear nuevo post de seers_helen : True\n",
      "Resultado de crear nuevo post de drshahrul80 : True\n",
      "Resultado de crear nuevo post de dkalnow : True\n",
      "Resultado de crear nuevo post de charleskod : True\n",
      "Resultado de crear nuevo post de karin_stowell : True\n",
      "Resultado de crear nuevo post de afparron : True\n",
      "Resultado de crear nuevo post de seers_helen : True\n",
      "Resultado de crear nuevo post de karin_stowell : True\n",
      "Resultado de crear nuevo post de andyglittle : True\n",
      "Resultado de crear nuevo post de afparron : True\n",
      "Resultado de crear nuevo post de dkalnow : True\n",
      "Resultado de crear nuevo post de drshahrul80 : True\n",
      "Resultado de crear nuevo post de afparron : True\n",
      "Resultado de crear nuevo post de cathcooney : True\n",
      "Resultado de crear nuevo post de seers_helen : True\n",
      "Resultado de crear nuevo post de cathcooney : True\n",
      "Resultado de crear nuevo post de roxanefeller : True\n",
      "Resultado de crear nuevo post de andyglittle : True\n",
      "Resultado de crear nuevo post de alkhalilkouma : True\n",
      "Resultado de crear nuevo post de charleskod : True\n",
      "Resultado de crear nuevo post de animalhealthEU : True\n",
      "Resultado de crear nuevo post de karin_stowell : True\n",
      "Resultado de crear nuevo post de dkalnow : True\n",
      "Resultado de crear nuevo post de afparron : True\n",
      "Resultado de crear nuevo post de animalhealthEU : True\n",
      "Resultado de crear nuevo post de karin_stowell : True\n",
      "Resultado de crear nuevo post de hanyshita : True\n",
      "Resultado de crear nuevo post de andyglittle : True\n",
      "Resultado de crear nuevo post de drshahrul80 : True\n",
      "Resultado de crear nuevo post de karin_stowell : True\n",
      "Resultado de crear nuevo post de seers_helen : True\n",
      "Resultado de crear nuevo post de karin_stowell : True\n",
      "Resultado de crear nuevo post de dkalnow : True\n",
      "Resultado de crear nuevo post de seers_helen : True\n",
      "Resultado de crear nuevo post de alkhalilkouma : True\n",
      "Resultado de crear nuevo post de animalhealthEU : True\n",
      "Resultado de crear nuevo post de dkalnow : True\n",
      "Resultado de crear nuevo post de animalhealthEU : True\n",
      "Resultado de crear nuevo post de hanyshita : True\n",
      "Resultado de crear nuevo post de karin_stowell : True\n",
      "Resultado de crear nuevo post de karin_stowell : True\n",
      "Resultado de crear nuevo post de animalhealthEU : True\n",
      "Resultado de crear nuevo post de cathcooney : True\n",
      "Resultado de crear nuevo post de afparron : True\n",
      "Resultado de crear nuevo post de drshahrul80 : True\n",
      "Resultado de crear nuevo post de drshahrul80 : True\n",
      "Resultado de crear nuevo post de alkhalilkouma : True\n",
      "Resultado de crear nuevo post de afparron : True\n",
      "Resultado de crear nuevo post de karin_stowell : True\n",
      "Resultado de crear nuevo post de andyglittle : True\n",
      "Resultado de crear nuevo post de charleskod : True\n",
      "Resultado de crear nuevo post de karin_stowell : True\n",
      "Resultado de crear nuevo post de charleskod : True\n",
      "Resultado de crear nuevo post de hanyshita : True\n",
      "Resultado de crear nuevo post de drshahrul80 : True\n",
      "Resultado de crear nuevo post de afparron : True\n",
      "Resultado de crear nuevo post de dkalnow : True\n",
      "Resultado de crear nuevo post de hanyshita : True\n",
      "Resultado de crear nuevo post de animalhealthEU : True\n",
      "Resultado de crear nuevo post de seers_helen : True\n",
      "Resultado de crear nuevo post de animalhealthEU : True\n",
      "Resultado de crear nuevo post de roxanefeller : True\n",
      "Resultado de crear nuevo post de andyglittle : True\n",
      "Resultado de crear nuevo post de afparron : True\n",
      "Resultado de crear nuevo post de seers_helen : True\n",
      "Resultado de crear nuevo post de hanyshita : True\n",
      "Resultado de crear nuevo post de andyglittle : True\n",
      "Resultado de crear nuevo post de karin_stowell : True\n",
      "Resultado de crear nuevo post de roxanefeller : True\n",
      "Resultado de crear nuevo post de dkalnow : True\n",
      "Resultado de crear nuevo post de cathcooney : True\n",
      "Resultado de crear nuevo post de hanyshita : True\n",
      "Resultado de crear nuevo post de seers_helen : True\n",
      "Resultado de crear nuevo post de seers_helen : True\n"
     ]
    }
   ],
   "source": [
    "for idx, row in clean_posts.iterrows():\n",
    "    res = back.nuevo_post(row['User'], row['Tweet_Content'], row['Post_Time'])\n",
    "    print('Resultado de crear nuevo post de {} : {}'.format(row['User'],res))"
   ]
  },
  {
   "cell_type": "markdown",
   "id": "demanding-quilt",
   "metadata": {},
   "source": [
    "# 3.3 Pruebas\n",
    "Creamos una subclase de TwitterBackend para ampliar la funcionalidad con los métodos de pruebas."
   ]
  },
  {
   "cell_type": "code",
   "execution_count": 67,
   "id": "unexpected-sarah",
   "metadata": {},
   "outputs": [],
   "source": [
    "class PruebasTwitter(TwitterBackend):\n",
    "    \n",
    "    def __init__(self, host='127.0.0.1',port=6379, password=''):\n",
    "        # Usamos  decode_responses=True para evitar tener que decodificar todas las respuestas de REDIS.\n",
    "        self._db = redis.Redis(host=host,port=port, password=password, decode_responses=True)\n",
    "    \n",
    "    def obtener_followers(self, username):\n",
    "        '''\n",
    "        devolverá una lista con todos los nombres de los usuarios que le siguen,\n",
    "        y en qué momento comenzaron a seguirle (en formato fecha, no “timestamp”), ordenados en el tiempo.\n",
    "        '''\n",
    "        res = []\n",
    "        \n",
    "        id_usr = self.get_id_usuario_by_nombre(username)\n",
    "        \n",
    "        if (id_usr is not None):\n",
    "            # Como un usuario no puede tener un follower que le ha seguido en el futuro usamos el ts de 'ahora' como limite.\n",
    "            now = int(datetime.now().timestamp())\n",
    "            followers = self._db.zrangebyscore(User.followers_zs.format(id_usr), 0, now, withscores=True)\n",
    "            \n",
    "            for idx, ts in followers:\n",
    "                f_username = self.get_nombre_usuario_by_id(idx)\n",
    "                f_date = DateUtils.ts2date(ts)\n",
    "                res.append((f_username, f_date))\n",
    "                \n",
    "        return res\n",
    "                \n",
    "    \n",
    "    def obtener_followings(self, username):\n",
    "        '''\n",
    "        devolverá una lista con todos los nombres de los usuarios a los que sigue,\n",
    "        y en qué momento comenzó a seguirlos (en formato fecha, no “timestamp”), ordenados en el tiempo.\n",
    "        '''\n",
    "        res = []\n",
    "        \n",
    "        id_usr = self.get_id_usuario_by_nombre(username)\n",
    "        \n",
    "        if (id_usr is not None):\n",
    "            # Como un usuario no puede tener un followings seguidos en el futuro usamos el ts de 'ahora' como limite.\n",
    "            now = int(datetime.now().timestamp())\n",
    "            followings = self._db.zrangebyscore(User.followings_zs.format(id_usr), 0, now, withscores=True)\n",
    "            \n",
    "            for idx, ts in followings:\n",
    "                f_username = self.get_nombre_usuario_by_id(idx)\n",
    "                f_date = DateUtils.ts2date(ts)\n",
    "                res.append((f_username, f_date))\n",
    "                \n",
    "        return res\n",
    "    \n",
    "    \n",
    "    def obtener_timeline(self, username, tweets_propios=True):\n",
    "        '''\n",
    "        Devolverá todos los tweets correspondientes a dicho usuario (propios o publicados por los usuarios a los que sigue),\n",
    "        ordenados por fecha de publicación del tweet.\n",
    "        La salida exacta será el nombre del usuario que escribió el tweet, el cuerpo del tweet y el momento de publicación (en formato fecha, no “timestamp”)\n",
    "        '''\n",
    "        res = []\n",
    "        \n",
    "        id_usr = self.get_id_usuario_by_nombre(username)\n",
    "        \n",
    "        if (id_usr is not None):\n",
    "            # Ordernamos por TS en order ascendente. Si se tuviera que ordernar del revés, se puede utilizar el parámetro DESC.\n",
    "            all_posts =  self._db.sort(User.posts_s.format(id_usr), by=Post.post_ts_s.format('*'))\n",
    "            \n",
    "            for post_id in all_posts:\n",
    "                post = self._db.hgetall(Post.base_s.format(post_id))\n",
    "                p_id_usr = post['user_id']\n",
    "                \n",
    "                # El post es del usuario. Comprobamos le flag tweets_propios.\n",
    "                if((p_id_usr == id_usr and tweets_propios) or (p_id_usr != id_usr)):\n",
    "                    p_usr = self.get_nombre_usuario_by_id(p_id_usr)\n",
    "                    P_cuerpo = post['body']\n",
    "                    P_fecha = DateUtils.ts2date(int(post['timestamp']))\n",
    "\n",
    "                    res.append((p_usr, P_cuerpo, P_fecha))\n",
    "        return res\n",
    "            \n",
    "pruebas = PruebasTwitter()       \n",
    "                "
   ]
  },
  {
   "cell_type": "code",
   "execution_count": null,
   "id": "sharp-silicon",
   "metadata": {},
   "outputs": [],
   "source": []
  },
  {
   "cell_type": "code",
   "execution_count": 26,
   "id": "endless-substance",
   "metadata": {},
   "outputs": [
    {
     "data": {
      "text/plain": [
       "[('afparron', '01 Jun 2019 06:04:40'),\n",
       " ('charleskod', '01 Jul 2019 07:27:58'),\n",
       " ('dkalnow', '01 Jul 2019 08:40:26'),\n",
       " ('alkhalilkouma', '01 Jul 2019 19:25:03')]"
      ]
     },
     "execution_count": 26,
     "metadata": {},
     "output_type": "execute_result"
    }
   ],
   "source": [
    "pruebas.obtener_followers(\"animalhealthEU\")"
   ]
  },
  {
   "cell_type": "code",
   "execution_count": 27,
   "id": "handmade-poker",
   "metadata": {},
   "outputs": [
    {
     "data": {
      "text/plain": [
       "[('drshahrul80', '19 Jul 2019 14:59:55'), ('dkalnow', '27 Aug 2019 13:57:04')]"
      ]
     },
     "execution_count": 27,
     "metadata": {},
     "output_type": "execute_result"
    }
   ],
   "source": [
    "pruebas.obtener_followings(\"animalhealthEU\")"
   ]
  },
  {
   "cell_type": "code",
   "execution_count": 70,
   "id": "blessed-thanks",
   "metadata": {},
   "outputs": [
    {
     "data": {
      "text/plain": [
       "[('animalhealthEU',\n",
       "  'To help avoid issues of social isolation requires innovative thinking #MentalHealthAwareness #morethanmedicine https://t.co/8HgR995Btc',\n",
       "  '08 Jul 2019 12:54:41'),\n",
       " ('animalhealthEU',\n",
       "  \"Studies in biology 🧬&amp; then agriculture👨\\u200d🌾led @ElancoEU's Ralph Heuser to both a profession &amp; a passion ❤️ for #animalhealth.\\nAnd his family dog Russty plays an important reminder role as to why animal health is about so much #MorethanMedicine:\\nhttps://t.co/lHt4RTbxwo https://t.co/FaHagVMx1m\",\n",
       "  '18 Jul 2019 09:15:56'),\n",
       " ('animalhealthEU',\n",
       "  '@animalhealthEU @MSDAnimalHealth #morethanmedicine',\n",
       "  '20 Jul 2019 19:32:06'),\n",
       " ('animalhealthEU',\n",
       "  'By equipping vets with a wide range of tools, we help them keep pets and farm animals healthy, and happy! 👨\\u200d⚕️👩\\u200d⚕️\\n#MorethanMedicine https://t.co/MdHKVmzdJ0',\n",
       "  '21 Jul 2019 19:22:52'),\n",
       " ('animalhealthEU',\n",
       "  'Another face behind our industry, another story, another profile but same passion ! \\nRead about our Treasurer @DominiqueDerveaux  because his passion is #morethanmedicine and for him #animalhealthmatters everyday ! https://t.co/9TI6yHTXZf',\n",
       "  '22 Jul 2019 13:15:38'),\n",
       " ('animalhealthEU',\n",
       "  'With only 2 episodes left for our July #Rebroadcast do you have a favorite from the past year we haven’t played yet? Got a guess at what the next 2 might be? Only a few days till the next one, who will it be? #FOAMed #MoreThanMedicine #podcast https://t.co/wEf3qrCvRT',\n",
       "  '22 Jul 2019 14:52:29'),\n",
       " ('animalhealthEU',\n",
       "  'Healthy animals need less inputs (like feed and water) to produce milk, meat, fish and eggs.\\n\\nThis means a more efficient use of resources in farming. ✅\\n#MorethanMedicine https://t.co/CT72J9kRKT',\n",
       "  '24 Jul 2019 09:30:00'),\n",
       " ('drshahrul80',\n",
       "  \"@somedocs @ShikhaJainMD @DrJaimeFriedman @usnehal @Dr_Stepheny @SadiaFMD @DrCJohns @RoxanneSukolMD @AlexMMTri @DrCorriel #FOAMed. #FOAMcc. #MedEd primarily focused in #EmergencyMedicine. Being a good #human that prioritizes others' #success and #learning not just as a physician but in life as a whole! #morethanmedicine\",\n",
       "  '27 Jul 2019 19:48:46'),\n",
       " ('drshahrul80',\n",
       "  \"🐕 66 million dogs\\n🐈 74 million cats\\n🐇 21 million rabbits\\n\\nWe know you love your pets, here's how we can help you care for them\\n#MorethanMedicine https://t.co/7bR5W9mbIE\",\n",
       "  '29 Jul 2019 10:11:35'),\n",
       " ('drshahrul80',\n",
       "  'Animal health solutions are so much #MorethanMedicine!\\nOther examples of how we protect animal health ⬇️⬇️ https://t.co/9zqLhohGae',\n",
       "  '31 Jul 2019 14:04:40'),\n",
       " ('drshahrul80',\n",
       "  'We hope to get some lovely weather on our annual 6 mile sponsored walk on Sat 12 Oct, so why not join us and register here if you would like to raise funds to help others live well with cancer. https://t.co/ddnrNCnBXa\\n#letswalktogether #stomp2019 #morethanmedicine https://t.co/OhqLAw6EE5',\n",
       "  '03 Aug 2019 15:20:48'),\n",
       " ('animalhealthEU',\n",
       "  'The world has lost an incredible educator. Mrs. Ventura taught me throughout middle school. She fostered curiosity, pushed our comfort zones and cherished our passions. #LookingBack at this incredible woman I cannot thank her enough for who she helped me become #MoreThanMedicine https://t.co/3SzooegHrs',\n",
       "  '06 Aug 2019 10:27:44'),\n",
       " ('drshahrul80',\n",
       "  'Our young patients are ready for the procedure and much less nervous, and their parents and guardians are also less worried! This is what #MoreThanMedicine at @NYCHealthSystem/@BellevueHosp looks like. /3',\n",
       "  '15 Aug 2019 13:54:47'),\n",
       " ('dkalnow',\n",
       "  'Thank you @crtaylor33 and @forbes for spotlighting our My Special Aflac Duck.  Hope. . .with feathers  #morethanmedicine \\nMy Special AFLAC Duck: A Gold Standard For CSR Programs via @forbes https://t.co/RNoqDsnFWH',\n",
       "  '27 Aug 2019 19:35:45'),\n",
       " ('drshahrul80',\n",
       "  '@Medtronic Here, here! Engage with your patients, even with just a smile. #morethanmedicine #thisiscancer #patientsaspeople',\n",
       "  '28 Aug 2019 23:49:34'),\n",
       " ('dkalnow',\n",
       "  'Y’all \\u2066@UMNNMFamMedRes\\u2069 Rose Marie Leslie is a \\u2066@mnstatefair\\u2069 blue ribbon winning vinaigrette maker #morethanmedicine #alltheskills https://t.co/QzY8wsq4DO',\n",
       "  '29 Aug 2019 01:58:26')]"
      ]
     },
     "execution_count": 70,
     "metadata": {},
     "output_type": "execute_result"
    }
   ],
   "source": [
    "pruebas.obtener_timeline(\"animalhealthEU\", True)"
   ]
  },
  {
   "cell_type": "code",
   "execution_count": 71,
   "id": "oriented-behalf",
   "metadata": {},
   "outputs": [
    {
     "data": {
      "text/plain": [
       "[('drshahrul80',\n",
       "  \"@somedocs @ShikhaJainMD @DrJaimeFriedman @usnehal @Dr_Stepheny @SadiaFMD @DrCJohns @RoxanneSukolMD @AlexMMTri @DrCorriel #FOAMed. #FOAMcc. #MedEd primarily focused in #EmergencyMedicine. Being a good #human that prioritizes others' #success and #learning not just as a physician but in life as a whole! #morethanmedicine\",\n",
       "  '27 Jul 2019 19:48:46'),\n",
       " ('drshahrul80',\n",
       "  \"🐕 66 million dogs\\n🐈 74 million cats\\n🐇 21 million rabbits\\n\\nWe know you love your pets, here's how we can help you care for them\\n#MorethanMedicine https://t.co/7bR5W9mbIE\",\n",
       "  '29 Jul 2019 10:11:35'),\n",
       " ('drshahrul80',\n",
       "  'Animal health solutions are so much #MorethanMedicine!\\nOther examples of how we protect animal health ⬇️⬇️ https://t.co/9zqLhohGae',\n",
       "  '31 Jul 2019 14:04:40'),\n",
       " ('drshahrul80',\n",
       "  'We hope to get some lovely weather on our annual 6 mile sponsored walk on Sat 12 Oct, so why not join us and register here if you would like to raise funds to help others live well with cancer. https://t.co/ddnrNCnBXa\\n#letswalktogether #stomp2019 #morethanmedicine https://t.co/OhqLAw6EE5',\n",
       "  '03 Aug 2019 15:20:48'),\n",
       " ('drshahrul80',\n",
       "  'Our young patients are ready for the procedure and much less nervous, and their parents and guardians are also less worried! This is what #MoreThanMedicine at @NYCHealthSystem/@BellevueHosp looks like. /3',\n",
       "  '15 Aug 2019 13:54:47'),\n",
       " ('dkalnow',\n",
       "  'Thank you @crtaylor33 and @forbes for spotlighting our My Special Aflac Duck.  Hope. . .with feathers  #morethanmedicine \\nMy Special AFLAC Duck: A Gold Standard For CSR Programs via @forbes https://t.co/RNoqDsnFWH',\n",
       "  '27 Aug 2019 19:35:45'),\n",
       " ('drshahrul80',\n",
       "  '@Medtronic Here, here! Engage with your patients, even with just a smile. #morethanmedicine #thisiscancer #patientsaspeople',\n",
       "  '28 Aug 2019 23:49:34'),\n",
       " ('dkalnow',\n",
       "  'Y’all \\u2066@UMNNMFamMedRes\\u2069 Rose Marie Leslie is a \\u2066@mnstatefair\\u2069 blue ribbon winning vinaigrette maker #morethanmedicine #alltheskills https://t.co/QzY8wsq4DO',\n",
       "  '29 Aug 2019 01:58:26')]"
      ]
     },
     "execution_count": 71,
     "metadata": {},
     "output_type": "execute_result"
    }
   ],
   "source": [
    "pruebas.obtener_timeline(\"animalhealthEU\", False)"
   ]
  }
 ],
 "metadata": {
  "kernelspec": {
   "display_name": "Python 3",
   "language": "python",
   "name": "python3"
  },
  "language_info": {
   "codemirror_mode": {
    "name": "ipython",
    "version": 3
   },
   "file_extension": ".py",
   "mimetype": "text/x-python",
   "name": "python",
   "nbconvert_exporter": "python",
   "pygments_lexer": "ipython3",
   "version": "3.9.2"
  }
 },
 "nbformat": 4,
 "nbformat_minor": 5
}
