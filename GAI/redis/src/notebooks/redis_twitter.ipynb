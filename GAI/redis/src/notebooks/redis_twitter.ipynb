{
 "cells": [
  {
   "cell_type": "markdown",
   "metadata": {},
   "source": [
    "# 3.1. Diseño de la base de datos\n",
    "Se desea implementar una serie de funciones para contruir nuestra BD clave-valor que imite el funcionamiento de Twitter.\n",
    "Funciones:\n",
    "- nuevo_usuario\n",
    "- nuevo_follower\n",
    "- nuevo_following\n",
    "- seguir\n",
    "- nuevo_post"
   ]
  },
  {
   "cell_type": "markdown",
   "metadata": {},
   "source": [
    "## Configuración"
   ]
  },
  {
   "cell_type": "markdown",
   "metadata": {},
   "source": [
    "En primer lugar vamos a necesitar gestionar las propiedades de conexión. Para conectarnos a REDIS necesitamos "
   ]
  },
  {
   "cell_type": "code",
   "execution_count": 1,
   "metadata": {},
   "outputs": [],
   "source": [
    "import configparser\n",
    "\n",
    "# Wrapper del configparser de python.\n",
    "class RedisConfig(object):\n",
    "    \n",
    "    def __init__(self, config_file=None):\n",
    "        self._config = configparser.ConfigParser()\n",
    "        if config_file is not None :\n",
    "            self._config.read(config_file)\n",
    "    \n",
    "    @property\n",
    "    def host(self):\n",
    "        return self._config['redis']['REDIS_HOST']\n",
    "    @property\n",
    "    def port(self):\n",
    "        return self._config['redis']['REDIS_PORT']\n",
    "    @property\n",
    "    def password(self):\n",
    "        return self._config['redis']['REDIS_PWD']\n",
    "    @property\n",
    "    def db(self):\n",
    "        return self._config['redis']['REDIS_DB']\n",
    "    "
   ]
  },
  {
   "cell_type": "code",
   "execution_count": 2,
   "metadata": {},
   "outputs": [
    {
     "name": "stdout",
     "output_type": "stream",
     "text": [
      "Se ha borrado redis_config.ini\n",
      "\n",
      "[redis]\n",
      "REDIS_HOST=localhost\n",
      "REDIS_PORT=6379\n",
      "REDIS_PWD=\n",
      "REDIS_DB=7\n",
      "\n",
      "redis_config.ini creado en: /Users/adzarei/Documents/UNED/ING_CIENC_DATOS/projects/GAI/redis/src/notebooks\n"
     ]
    }
   ],
   "source": [
    "# Sustituir propiedades por las del propias de cada uno.\n",
    "# En mi caso son localhost, 6379, '' y 1.\n",
    "! test -f redis_config.ini && rm redis_config.ini && echo 'Se ha borrado redis_config.ini'\n",
    "! touch redis_config.ini\n",
    "! echo '[redis]' >> redis_config.ini\n",
    "! echo 'REDIS_HOST=localhost' >> redis_config.ini\n",
    "! echo 'REDIS_PORT=6379' >> redis_config.ini\n",
    "! echo 'REDIS_PWD=' >> redis_config.ini\n",
    "! echo 'REDIS_DB=7' >> redis_config.ini\n",
    "! echo\n",
    "! cat redis_config.ini\n",
    "! echo\n",
    "! echo 'redis_config.ini creado en: '$(pwd)"
   ]
  },
  {
   "cell_type": "code",
   "execution_count": 3,
   "metadata": {},
   "outputs": [
    {
     "name": "stdout",
     "output_type": "stream",
     "text": [
      "localhost\n",
      "6379\n",
      "\n",
      "7\n"
     ]
    }
   ],
   "source": [
    "config = RedisConfig('redis_config.ini') \n",
    "print(config.host)\n",
    "print(config.port)\n",
    "print(config.password)\n",
    "print(config.db)"
   ]
  },
  {
   "cell_type": "markdown",
   "metadata": {},
   "source": [
    "## Modelo\n",
    "Ahora vamos a diseñar los objetos que necesitamos para el dominio. Necesitaremos:\n",
    "- Usuario\n",
    "- Post"
   ]
  },
  {
   "cell_type": "markdown",
   "metadata": {},
   "source": [
    "## Redis API  \\#1\n",
    "Es hora de implementar los métodos que usaremos para la carga de datos:\n",
    "- nuevo_usuario(username)\n",
    "- nuevo_follower(username, follower, timestamp)\n",
    "- nuevo_following(username, followee, timestamp)\n",
    "- seguir(username, followee, timestamp)\n",
    "- nuevo_post(username, body, timestamp)"
   ]
  },
  {
   "cell_type": "code",
   "execution_count": 4,
   "metadata": {},
   "outputs": [],
   "source": [
    "import redis\n",
    "r = redis.Redis(host=config.host, port=config.port, password=config.password, db=config.db)"
   ]
  },
  {
   "cell_type": "code",
   "execution_count": 5,
   "metadata": {},
   "outputs": [],
   "source": [
    "def nuevo_usuario(username):\n",
    "    if r.hget('users', username) is None:\n",
    "        id = r.incr('user_id')\n",
    "        r.hmset('users', {username:id})"
   ]
  },
  {
   "cell_type": "code",
   "execution_count": 6,
   "metadata": {},
   "outputs": [],
   "source": [
    "def _nuevo_follower(username, follower, timestamp):\n",
    "    \n",
    "    usr_id = r.hget('users', username)\n",
    "    follower_id = r.hget('users', follower)\n",
    "    \n",
    "    if usr_id is None or follower_id is None:\n",
    "        return False\n",
    "    \n",
    "    usr_id = usr_id.decode('utf-8')\n",
    "    follower_id = follower_id.decode('utf-8')\n",
    "    \n",
    "    r.zadd('ts_follower_of:' + usr_id, {follower_id : timestamp})\n",
    "    r.sadd('follower_of:' + usr_id, follower_id)\n",
    "    \n",
    "    return True"
   ]
  },
  {
   "cell_type": "code",
   "execution_count": 7,
   "metadata": {},
   "outputs": [],
   "source": [
    "def _nuevo_following(username, followee, timestamp):\n",
    "    usr_id = r.hget('users', username)\n",
    "    followee_id = r.hget('users', followee)\n",
    "    \n",
    "    if usr_id is None or followee_id is None:\n",
    "        return\n",
    "    \n",
    "    usr_id = usr_id.decode('utf-8')\n",
    "    followee_id = followee_id.decode('utf-8')\n",
    "    \n",
    "    r.zadd('ts_followee_of:' + usr_id, {followee_id : timestamp})"
   ]
  },
  {
   "cell_type": "code",
   "execution_count": 8,
   "metadata": {},
   "outputs": [],
   "source": [
    "def seguir(username, followee, timestamp):\n",
    "    res = _nuevo_follower(followee, username, timestamp)\n",
    "    # Si el _nuevo_follower devuelve falso, no se ejecuta _nuevo_following.\n",
    "    res = res and _nuevo_following(username, followee, timestamp)\n",
    "    return res"
   ]
  },
  {
   "cell_type": "code",
   "execution_count": 9,
   "metadata": {},
   "outputs": [],
   "source": [
    "def nuevo_post(username, body, timestamp):\n",
    "    usr_id = r.hget('users', username)\n",
    "    \n",
    "    if usr_id is None:\n",
    "        return\n",
    "    \n",
    "    usr_id = usr_id.decode('utf-8')\n",
    "    \n",
    "    post_id = r.incr('post_id')\n",
    "    followers = r.smembers('follower_of:' + usr_id)\n",
    "    \n",
    "    # Creamos el post\n",
    "    r.hmset('post:' + str(post_id), {'id' : post_id, 'timestamp' : timestamp, 'body' : body})\n",
    "    \n",
    "    # Guardamos la referencia para el usuario\n",
    "    r.zadd('ts_timeline:' + usr_id, {post_id : timestamp})\n",
    "    \n",
    "    # Guardamos la referencia para los followees del usuario.\n",
    "    for follower in followers:\n",
    "        follower_id = follower.decode(\"utf-8\")\n",
    "        r.zadd('ts_timeline:' + follower_id, {post_id : timestamp})\n",
    "        \n",
    "\n",
    "    "
   ]
  },
  {
   "cell_type": "markdown",
   "metadata": {},
   "source": [
    "## Pruebas"
   ]
  },
  {
   "cell_type": "markdown",
   "metadata": {},
   "source": [
    "nuevo_usuario('zap')\n",
    "nuevo_usuario('Maria')\n",
    "nuevo_usuario('patri')\n",
    "nuevo_usuario('conhic')"
   ]
  },
  {
   "cell_type": "markdown",
   "metadata": {},
   "source": [
    "r.hget('users', 'zap').decode(\"utf-8\")"
   ]
  },
  {
   "cell_type": "markdown",
   "metadata": {},
   "source": [
    "seguir('Maria', 'zap','001')\n",
    "seguir('zap', 'patri' ,'003')\n",
    "seguir('patri','conhic' ,'005')\n",
    "seguir('conhic','Maria' ,'005')\n",
    "seguir('conhic','zap' ,'007')\n",
    "seguir('patri','zap' ,'009')"
   ]
  },
  {
   "cell_type": "markdown",
   "metadata": {},
   "source": [
    "r.smembers('follower_of:1')"
   ]
  },
  {
   "cell_type": "markdown",
   "metadata": {},
   "source": [
    "r.smembers('follower_of:2')"
   ]
  },
  {
   "cell_type": "markdown",
   "metadata": {},
   "source": [
    "r.smembers('follower_of:3')"
   ]
  },
  {
   "cell_type": "markdown",
   "metadata": {},
   "source": [
    "r.smembers('follower_of:4')"
   ]
  },
  {
   "cell_type": "markdown",
   "metadata": {},
   "source": [
    "nuevo_post('zap'  , 'test esto es un test - MSG1', '001') # 1\n",
    "nuevo_post('zap'  , 'test esto es un test - MSG2', '006') # 2\n",
    "nuevo_post('zap'  , 'test esto es un test - MSG3', '007') # 3\n",
    "nuevo_post('zap'  , 'test esto es un test - MSG4', '008') # 4\n",
    "nuevo_post('patri', 'test esto es un test - MSG5', '009') # 5"
   ]
  },
  {
   "cell_type": "markdown",
   "metadata": {},
   "source": [
    "# zap\n",
    "r.zscan('ts_timeline:1', 0)"
   ]
  },
  {
   "cell_type": "markdown",
   "metadata": {},
   "source": [
    "# Maria\n",
    "r.zscan('ts_timeline:2', 0)"
   ]
  },
  {
   "cell_type": "markdown",
   "metadata": {},
   "source": [
    "# Patri\n",
    "r.zscan('ts_timeline:3', 0)"
   ]
  },
  {
   "cell_type": "markdown",
   "metadata": {},
   "source": [
    "# Conhic\n",
    "r.zscan('ts_timeline:1', 0)"
   ]
  },
  {
   "cell_type": "markdown",
   "metadata": {},
   "source": [
    "r.hgetall('post:5')"
   ]
  },
  {
   "cell_type": "markdown",
   "metadata": {},
   "source": [
    "for msg in r.zrangebyscore('ts_timeline:1',6,8):\n",
    "    post_id = msg.decode('utf-8')\n",
    "    print(r.hget('post:' + post_id, 'body'))"
   ]
  },
  {
   "cell_type": "markdown",
   "metadata": {},
   "source": [
    "r.zrangebyscore('ts_timeline:2',0,10, withscores=True)"
   ]
  },
  {
   "cell_type": "markdown",
   "metadata": {},
   "source": [
    "r.zscore('ts_timeline:1', 5)"
   ]
  },
  {
   "attachments": {
    "image.png": {
     "image/png": "[encoded data removed]"
    }
   },
   "cell_type": "markdown",
   "metadata": {},
   "source": [
    "# 3.2. Conjunto de datos\n",
    "Se desea cargar nuestra BD con los datos alojados en los ficheros: “twitter_sample.csv” y “relations.csv”\n",
    "\n",
    "#### twitter_sample.csv\n",
    "Contiene 111 tweets.\n",
    "Estructura: user, post_time y tweet_content.\n",
    "![image.png](attachment:image.png)\n",
    "\n",
    "\n",
    "#### relations.csv\n",
    "Contiene 22 relaciones.\n",
    "Estructura: user, follows, following_time.\n",
    "![image.png](attachment:image.png)\n",
    "\n",
    "\n",
    "\n",
    "Nota: \n",
    "- En primer lugar debemos cargar topos los usuarios.\n",
    "- En segundo lugar debemos cargar las relaciones\n",
    "- En tercer lugar cargaremos los posts."
   ]
  },
  {
   "cell_type": "code",
   "execution_count": 161,
   "metadata": {},
   "outputs": [],
   "source": [
    "import pandas as pd\n",
    "import numpy as np\n",
    "import os\n",
    "\n",
    "tweets_path = os.path.join('data','twitter_sample.csv')\n",
    "relation_path = os.path.join('data','relations.csv')\n",
    "\n",
    "tweets = pd.read_csv(filepath_or_buffer=tweets_path, header=0, sep=',', quotechar='\"', encoding='utf-8')\n",
    "relation = pd.read_csv(filepath_or_buffer=relation_path, header=0, sep=',', encoding='utf-8')"
   ]
  },
  {
   "cell_type": "code",
   "execution_count": 162,
   "metadata": {},
   "outputs": [
    {
     "data": {
      "text/plain": [
       "Index(['User', 'Post_Time', 'Tweet_Content', 'Unnamed: 3'], dtype='object')"
      ]
     },
     "execution_count": 162,
     "metadata": {},
     "output_type": "execute_result"
    }
   ],
   "source": [
    "tweets.columns"
   ]
  },
  {
   "cell_type": "code",
   "execution_count": 163,
   "metadata": {},
   "outputs": [
    {
     "data": {
      "text/plain": [
       "array(['andyglittle', 'afparron', 'drshahrul80', 'karin_stowell',\n",
       "       'cathcooney', 'dkalnow', 'alkhalilkouma', 'seers_helen',\n",
       "       'hanyshita', nan, 'roxanefeller', 'animalhealthEU', 'charleskod'],\n",
       "      dtype=object)"
      ]
     },
     "execution_count": 163,
     "metadata": {},
     "output_type": "execute_result"
    }
   ],
   "source": [
    "# Hay algún Nan en la columna User. Tendremos que tratarlo a parte.\n",
    "tweets['User'].unique()"
   ]
  },
  {
   "cell_type": "code",
   "execution_count": 164,
   "metadata": {},
   "outputs": [
    {
     "data": {
      "text/html": [
       "<div>\n",
       "<style scoped>\n",
       "    .dataframe tbody tr th:only-of-type {\n",
       "        vertical-align: middle;\n",
       "    }\n",
       "\n",
       "    .dataframe tbody tr th {\n",
       "        vertical-align: top;\n",
       "    }\n",
       "\n",
       "    .dataframe thead th {\n",
       "        text-align: right;\n",
       "    }\n",
       "</style>\n",
       "<table border=\"1\" class=\"dataframe\">\n",
       "  <thead>\n",
       "    <tr style=\"text-align: right;\">\n",
       "      <th></th>\n",
       "      <th>User</th>\n",
       "      <th>Post_Time</th>\n",
       "      <th>Tweet_Content</th>\n",
       "      <th>Unnamed: 3</th>\n",
       "    </tr>\n",
       "  </thead>\n",
       "  <tbody>\n",
       "    <tr>\n",
       "      <th>14</th>\n",
       "      <td>NaN</td>\n",
       "      <td>02 Jul 2019 20:56:39</td>\n",
       "      <td>@stemagno74 @wcrfint @macmillancancer @NIHRres...</td>\n",
       "      <td>NaN</td>\n",
       "    </tr>\n",
       "  </tbody>\n",
       "</table>\n",
       "</div>"
      ],
      "text/plain": [
       "   User             Post_Time  \\\n",
       "14  NaN  02 Jul 2019 20:56:39   \n",
       "\n",
       "                                        Tweet_Content Unnamed: 3  \n",
       "14  @stemagno74 @wcrfint @macmillancancer @NIHRres...        NaN  "
      ]
     },
     "execution_count": 164,
     "metadata": {},
     "output_type": "execute_result"
    }
   ],
   "source": [
    "# Hay una línea que no tiene nombre de usuario. La descartamos...\n",
    "tweets[tweets['User'].isna()]"
   ]
  },
  {
   "cell_type": "code",
   "execution_count": 165,
   "metadata": {},
   "outputs": [
    {
     "data": {
      "text/html": [
       "<div>\n",
       "<style scoped>\n",
       "    .dataframe tbody tr th:only-of-type {\n",
       "        vertical-align: middle;\n",
       "    }\n",
       "\n",
       "    .dataframe tbody tr th {\n",
       "        vertical-align: top;\n",
       "    }\n",
       "\n",
       "    .dataframe thead th {\n",
       "        text-align: right;\n",
       "    }\n",
       "</style>\n",
       "<table border=\"1\" class=\"dataframe\">\n",
       "  <thead>\n",
       "    <tr style=\"text-align: right;\">\n",
       "      <th></th>\n",
       "      <th>User</th>\n",
       "      <th>Post_Time</th>\n",
       "      <th>Tweet_Content</th>\n",
       "      <th>Unnamed: 3</th>\n",
       "    </tr>\n",
       "  </thead>\n",
       "  <tbody>\n",
       "  </tbody>\n",
       "</table>\n",
       "</div>"
      ],
      "text/plain": [
       "Empty DataFrame\n",
       "Columns: [User, Post_Time, Tweet_Content, Unnamed: 3]\n",
       "Index: []"
      ]
     },
     "execution_count": 165,
     "metadata": {},
     "output_type": "execute_result"
    }
   ],
   "source": [
    "tweets.drop(index=14, inplace=True)\n",
    "tweets[tweets['User'].isna()]"
   ]
  },
  {
   "cell_type": "code",
   "execution_count": 166,
   "metadata": {},
   "outputs": [
    {
     "data": {
      "text/html": [
       "<div>\n",
       "<style scoped>\n",
       "    .dataframe tbody tr th:only-of-type {\n",
       "        vertical-align: middle;\n",
       "    }\n",
       "\n",
       "    .dataframe tbody tr th {\n",
       "        vertical-align: top;\n",
       "    }\n",
       "\n",
       "    .dataframe thead th {\n",
       "        text-align: right;\n",
       "    }\n",
       "</style>\n",
       "<table border=\"1\" class=\"dataframe\">\n",
       "  <thead>\n",
       "    <tr style=\"text-align: right;\">\n",
       "      <th></th>\n",
       "      <th>User</th>\n",
       "      <th>Post_Time</th>\n",
       "      <th>Tweet_Content</th>\n",
       "      <th>Unnamed: 3</th>\n",
       "    </tr>\n",
       "  </thead>\n",
       "  <tbody>\n",
       "  </tbody>\n",
       "</table>\n",
       "</div>"
      ],
      "text/plain": [
       "Empty DataFrame\n",
       "Columns: [User, Post_Time, Tweet_Content, Unnamed: 3]\n",
       "Index: []"
      ]
     },
     "execution_count": 166,
     "metadata": {},
     "output_type": "execute_result"
    }
   ],
   "source": [
    "# No tenemos Nan en Post_time.\n",
    "tweets[tweets['Post_Time'].isna()]"
   ]
  },
  {
   "cell_type": "code",
   "execution_count": 167,
   "metadata": {},
   "outputs": [
    {
     "data": {
      "text/html": [
       "<div>\n",
       "<style scoped>\n",
       "    .dataframe tbody tr th:only-of-type {\n",
       "        vertical-align: middle;\n",
       "    }\n",
       "\n",
       "    .dataframe tbody tr th {\n",
       "        vertical-align: top;\n",
       "    }\n",
       "\n",
       "    .dataframe thead th {\n",
       "        text-align: right;\n",
       "    }\n",
       "</style>\n",
       "<table border=\"1\" class=\"dataframe\">\n",
       "  <thead>\n",
       "    <tr style=\"text-align: right;\">\n",
       "      <th></th>\n",
       "      <th>User</th>\n",
       "      <th>Post_Time</th>\n",
       "      <th>Tweet_Content</th>\n",
       "      <th>Unnamed: 3</th>\n",
       "    </tr>\n",
       "  </thead>\n",
       "  <tbody>\n",
       "  </tbody>\n",
       "</table>\n",
       "</div>"
      ],
      "text/plain": [
       "Empty DataFrame\n",
       "Columns: [User, Post_Time, Tweet_Content, Unnamed: 3]\n",
       "Index: []"
      ]
     },
     "execution_count": 167,
     "metadata": {},
     "output_type": "execute_result"
    }
   ],
   "source": [
    "# No tenemos Nan en Tweet_Content.\n",
    "tweets[tweets['Tweet_Content'].isna()]"
   ]
  },
  {
   "cell_type": "code",
   "execution_count": 168,
   "metadata": {},
   "outputs": [
    {
     "data": {
      "text/html": [
       "<div>\n",
       "<style scoped>\n",
       "    .dataframe tbody tr th:only-of-type {\n",
       "        vertical-align: middle;\n",
       "    }\n",
       "\n",
       "    .dataframe tbody tr th {\n",
       "        vertical-align: top;\n",
       "    }\n",
       "\n",
       "    .dataframe thead th {\n",
       "        text-align: right;\n",
       "    }\n",
       "</style>\n",
       "<table border=\"1\" class=\"dataframe\">\n",
       "  <thead>\n",
       "    <tr style=\"text-align: right;\">\n",
       "      <th></th>\n",
       "      <th>User</th>\n",
       "      <th>Post_Time</th>\n",
       "      <th>Tweet_Content</th>\n",
       "      <th>Unnamed: 3</th>\n",
       "    </tr>\n",
       "  </thead>\n",
       "  <tbody>\n",
       "    <tr>\n",
       "      <th>0</th>\n",
       "      <td>andyglittle</td>\n",
       "      <td>13 Jul 2019 05:59:58</td>\n",
       "      <td>We've loved being motivated by the stories of ...</td>\n",
       "      <td>NaN</td>\n",
       "    </tr>\n",
       "    <tr>\n",
       "      <th>1</th>\n",
       "      <td>andyglittle</td>\n",
       "      <td>05 Jul 2019 10:07:29</td>\n",
       "      <td>Thanks for the shout-out on our #MorethanMedic...</td>\n",
       "      <td>NaN</td>\n",
       "    </tr>\n",
       "    <tr>\n",
       "      <th>2</th>\n",
       "      <td>afparron</td>\n",
       "      <td>11 Jul 2019 09:50:48</td>\n",
       "      <td>#MorethanMedicine — Our Story  via ⁦@animalhea...</td>\n",
       "      <td>NaN</td>\n",
       "    </tr>\n",
       "    <tr>\n",
       "      <th>3</th>\n",
       "      <td>drshahrul80</td>\n",
       "      <td>03 Aug 2019 15:20:48</td>\n",
       "      <td>We hope to get some lovely weather on our annu...</td>\n",
       "      <td>NaN</td>\n",
       "    </tr>\n",
       "    <tr>\n",
       "      <th>4</th>\n",
       "      <td>karin_stowell</td>\n",
       "      <td>04 Aug 2019 14:20:46</td>\n",
       "      <td>This is what #MoreThanMedicine is about. Love ...</td>\n",
       "      <td>NaN</td>\n",
       "    </tr>\n",
       "  </tbody>\n",
       "</table>\n",
       "</div>"
      ],
      "text/plain": [
       "            User             Post_Time  \\\n",
       "0    andyglittle  13 Jul 2019 05:59:58   \n",
       "1    andyglittle  05 Jul 2019 10:07:29   \n",
       "2       afparron  11 Jul 2019 09:50:48   \n",
       "3    drshahrul80  03 Aug 2019 15:20:48   \n",
       "4  karin_stowell  04 Aug 2019 14:20:46   \n",
       "\n",
       "                                       Tweet_Content Unnamed: 3  \n",
       "0  We've loved being motivated by the stories of ...        NaN  \n",
       "1  Thanks for the shout-out on our #MorethanMedic...        NaN  \n",
       "2  #MorethanMedicine — Our Story  via ⁦@animalhea...        NaN  \n",
       "3  We hope to get some lovely weather on our annu...        NaN  \n",
       "4  This is what #MoreThanMedicine is about. Love ...        NaN  "
      ]
     },
     "execution_count": 168,
     "metadata": {},
     "output_type": "execute_result"
    }
   ],
   "source": [
    "tweets.head()"
   ]
  },
  {
   "cell_type": "code",
   "execution_count": 169,
   "metadata": {},
   "outputs": [
    {
     "data": {
      "text/plain": [
       "19     join us on our annual sponsored 6 mile walk o...\n",
       "24     environmental factors) has the possibility to...\n",
       "Name: Unnamed: 3, dtype: object"
      ]
     },
     "execution_count": 169,
     "metadata": {},
     "output_type": "execute_result"
    }
   ],
   "source": [
    "# Hay 2 líneas cuyo Tweet_Content al contener ',' y no estar envuelto por '\"' se separa en una columna mas.\n",
    "tweets[tweets['Unnamed: 3'].notna()]['Unnamed: 3']"
   ]
  },
  {
   "cell_type": "code",
   "execution_count": 170,
   "metadata": {},
   "outputs": [
    {
     "data": {
      "text/html": [
       "<div>\n",
       "<style scoped>\n",
       "    .dataframe tbody tr th:only-of-type {\n",
       "        vertical-align: middle;\n",
       "    }\n",
       "\n",
       "    .dataframe tbody tr th {\n",
       "        vertical-align: top;\n",
       "    }\n",
       "\n",
       "    .dataframe thead th {\n",
       "        text-align: right;\n",
       "    }\n",
       "</style>\n",
       "<table border=\"1\" class=\"dataframe\">\n",
       "  <thead>\n",
       "    <tr style=\"text-align: right;\">\n",
       "      <th></th>\n",
       "      <th>User</th>\n",
       "      <th>Post_Time</th>\n",
       "      <th>Tweet_Content</th>\n",
       "    </tr>\n",
       "  </thead>\n",
       "  <tbody>\n",
       "    <tr>\n",
       "      <th>0</th>\n",
       "      <td>andyglittle</td>\n",
       "      <td>13 Jul 2019 05:59:58</td>\n",
       "      <td>We've loved being motivated by the stories of ...</td>\n",
       "    </tr>\n",
       "    <tr>\n",
       "      <th>1</th>\n",
       "      <td>andyglittle</td>\n",
       "      <td>05 Jul 2019 10:07:29</td>\n",
       "      <td>Thanks for the shout-out on our #MorethanMedic...</td>\n",
       "    </tr>\n",
       "    <tr>\n",
       "      <th>2</th>\n",
       "      <td>afparron</td>\n",
       "      <td>11 Jul 2019 09:50:48</td>\n",
       "      <td>#MorethanMedicine — Our Story  via ⁦@animalhea...</td>\n",
       "    </tr>\n",
       "    <tr>\n",
       "      <th>3</th>\n",
       "      <td>drshahrul80</td>\n",
       "      <td>03 Aug 2019 15:20:48</td>\n",
       "      <td>We hope to get some lovely weather on our annu...</td>\n",
       "    </tr>\n",
       "    <tr>\n",
       "      <th>4</th>\n",
       "      <td>karin_stowell</td>\n",
       "      <td>04 Aug 2019 14:20:46</td>\n",
       "      <td>This is what #MoreThanMedicine is about. Love ...</td>\n",
       "    </tr>\n",
       "  </tbody>\n",
       "</table>\n",
       "</div>"
      ],
      "text/plain": [
       "            User             Post_Time  \\\n",
       "0    andyglittle  13 Jul 2019 05:59:58   \n",
       "1    andyglittle  05 Jul 2019 10:07:29   \n",
       "2       afparron  11 Jul 2019 09:50:48   \n",
       "3    drshahrul80  03 Aug 2019 15:20:48   \n",
       "4  karin_stowell  04 Aug 2019 14:20:46   \n",
       "\n",
       "                                       Tweet_Content  \n",
       "0  We've loved being motivated by the stories of ...  \n",
       "1  Thanks for the shout-out on our #MorethanMedic...  \n",
       "2  #MorethanMedicine — Our Story  via ⁦@animalhea...  \n",
       "3  We hope to get some lovely weather on our annu...  \n",
       "4  This is what #MoreThanMedicine is about. Love ...  "
      ]
     },
     "execution_count": 170,
     "metadata": {},
     "output_type": "execute_result"
    }
   ],
   "source": [
    "# Cambiamos los Nan por ''.\n",
    "tweets['Unnamed: 3'] = tweets['Unnamed: 3'].fillna('')\n",
    "\n",
    "# Unimos las 2 columnas.\n",
    "tweets['Tweet_Content'] = tweets['Tweet_Content'] + tweets['Unnamed: 3']\n",
    "\n",
    "# Borramos la última columna.\n",
    "tweets.drop(columns='Unnamed: 3', inplace=True)\n",
    "tweets.head()"
   ]
  },
  {
   "cell_type": "code",
   "execution_count": 171,
   "metadata": {},
   "outputs": [
    {
     "data": {
      "text/plain": [
       "Index(['User', 'Follows', 'Following_Time'], dtype='object')"
      ]
     },
     "execution_count": 171,
     "metadata": {},
     "output_type": "execute_result"
    }
   ],
   "source": [
    "relation.columns"
   ]
  },
  {
   "cell_type": "code",
   "execution_count": 172,
   "metadata": {},
   "outputs": [
    {
     "data": {
      "text/html": [
       "<div>\n",
       "<style scoped>\n",
       "    .dataframe tbody tr th:only-of-type {\n",
       "        vertical-align: middle;\n",
       "    }\n",
       "\n",
       "    .dataframe tbody tr th {\n",
       "        vertical-align: top;\n",
       "    }\n",
       "\n",
       "    .dataframe thead th {\n",
       "        text-align: right;\n",
       "    }\n",
       "</style>\n",
       "<table border=\"1\" class=\"dataframe\">\n",
       "  <thead>\n",
       "    <tr style=\"text-align: right;\">\n",
       "      <th></th>\n",
       "      <th>User</th>\n",
       "      <th>Follows</th>\n",
       "      <th>Following_Time</th>\n",
       "    </tr>\n",
       "  </thead>\n",
       "  <tbody>\n",
       "    <tr>\n",
       "      <th>0</th>\n",
       "      <td>roxanefeller</td>\n",
       "      <td>cathcooney</td>\n",
       "      <td>13 Jun 2019 05:59:58</td>\n",
       "    </tr>\n",
       "    <tr>\n",
       "      <th>1</th>\n",
       "      <td>andyglittle</td>\n",
       "      <td>charleskod</td>\n",
       "      <td>14 Jul 2019 10:07:29</td>\n",
       "    </tr>\n",
       "    <tr>\n",
       "      <th>2</th>\n",
       "      <td>andyglittle</td>\n",
       "      <td>seers_helen</td>\n",
       "      <td>18 Jul 2019 09:50:48</td>\n",
       "    </tr>\n",
       "    <tr>\n",
       "      <th>3</th>\n",
       "      <td>andyglittle</td>\n",
       "      <td>karin_stowell</td>\n",
       "      <td>31 Aug 2019 15:20:48</td>\n",
       "    </tr>\n",
       "    <tr>\n",
       "      <th>4</th>\n",
       "      <td>hanyshita</td>\n",
       "      <td>andyglittle</td>\n",
       "      <td>12 Jul 2019 14:20:46</td>\n",
       "    </tr>\n",
       "  </tbody>\n",
       "</table>\n",
       "</div>"
      ],
      "text/plain": [
       "           User        Follows        Following_Time\n",
       "0  roxanefeller     cathcooney  13 Jun 2019 05:59:58\n",
       "1   andyglittle     charleskod  14 Jul 2019 10:07:29\n",
       "2   andyglittle    seers_helen  18 Jul 2019 09:50:48\n",
       "3   andyglittle  karin_stowell  31 Aug 2019 15:20:48\n",
       "4     hanyshita    andyglittle  12 Jul 2019 14:20:46"
      ]
     },
     "execution_count": 172,
     "metadata": {},
     "output_type": "execute_result"
    }
   ],
   "source": [
    "relation.head()"
   ]
  },
  {
   "cell_type": "code",
   "execution_count": 179,
   "metadata": {},
   "outputs": [
    {
     "data": {
      "text/plain": [
       "array(['andyglittle', 'afparron', 'drshahrul80', 'karin_stowell',\n",
       "       'cathcooney', 'dkalnow', 'alkhalilkouma', 'seers_helen',\n",
       "       'hanyshita', 'roxanefeller', 'animalhealthEU', 'charleskod'],\n",
       "      dtype=object)"
      ]
     },
     "execution_count": 179,
     "metadata": {},
     "output_type": "execute_result"
    }
   ],
   "source": [
    "users = tweets['User'].unique()\n",
    "users"
   ]
  },
  {
   "cell_type": "markdown",
   "metadata": {},
   "source": [
    "### Insertamos los usuarios"
   ]
  },
  {
   "cell_type": "code",
   "execution_count": 178,
   "metadata": {},
   "outputs": [],
   "source": [
    "for user in users:\n",
    "    nuevo_usuario(user)"
   ]
  },
  {
   "cell_type": "code",
   "execution_count": 184,
   "metadata": {},
   "outputs": [
    {
     "data": {
      "text/plain": [
       "'5'"
      ]
     },
     "execution_count": 184,
     "metadata": {},
     "output_type": "execute_result"
    }
   ],
   "source": [
    "r.hget('users', 'andyglittle').decode(\"utf-8\")"
   ]
  },
  {
   "cell_type": "code",
   "execution_count": 183,
   "metadata": {},
   "outputs": [
    {
     "data": {
      "text/plain": [
       "'16'"
      ]
     },
     "execution_count": 183,
     "metadata": {},
     "output_type": "execute_result"
    }
   ],
   "source": [
    "r.hget('users', 'charleskod').decode(\"utf-8\")"
   ]
  },
  {
   "cell_type": "markdown",
   "metadata": {},
   "source": [
    "## Función para convertir de a timestamp"
   ]
  },
  {
   "cell_type": "code",
   "execution_count": 209,
   "metadata": {},
   "outputs": [
    {
     "name": "stdout",
     "output_type": "stream",
     "text": [
      "1562934046.0\n",
      "12 Jul 2019 14:20:46\n"
     ]
    }
   ],
   "source": [
    "from datetime import datetime\n",
    "\n",
    "date_format = '%d %b %Y %H:%M:%S'\n",
    "\n",
    "def date2ts(date_string):\n",
    "    return datetime.strptime(date_string, date_format).timestamp()\n",
    "    \n",
    "def ts2date(ts):\n",
    "    return datetime.fromtimestamp(ts).strftime(date_format)\n",
    "\n",
    "# Probamos la función\n",
    "print(date2ts('12 Jul 2019 14:20:46'))\n",
    "print(ts2date(1562934046.0))"
   ]
  }
 ],
 "metadata": {
  "kernelspec": {
   "display_name": "Python 3",
   "language": "python",
   "name": "python3"
  },
  "language_info": {
   "codemirror_mode": {
    "name": "ipython",
    "version": 3
   },
   "file_extension": ".py",
   "mimetype": "text/x-python",
   "name": "python",
   "nbconvert_exporter": "python",
   "pygments_lexer": "ipython3",
   "version": "3.8.1"
  }
 },
 "nbformat": 4,
 "nbformat_minor": 4
}
