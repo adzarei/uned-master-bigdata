{
 "cells": [
  {
   "cell_type": "markdown",
   "metadata": {},
   "source": [
    "# 3.1. Diseño de la base de datos\n",
    "Se desea implementar una serie de funciones para contruir nuestra BD clave-valor que imite el funcionamiento de Twitter.\n",
    "Funciones:\n",
    "- nuevo_usuario\n",
    "- nuevo_follower\n",
    "- nuevo_following\n",
    "- seguir\n",
    "- nuevo_post"
   ]
  },
  {
   "cell_type": "markdown",
   "metadata": {},
   "source": [
    "## Configuración"
   ]
  },
  {
   "cell_type": "markdown",
   "metadata": {},
   "source": [
    "En primer lugar vamos a necesitar gestionar las propiedades de conexión. Para conectarnos a REDIS necesitamos "
   ]
  },
  {
   "cell_type": "code",
   "execution_count": null,
   "metadata": {},
   "outputs": [],
   "source": [
    "import configparser\n",
    "\n",
    "# Wrapper del configparser de python.\n",
    "class RedisConfig(object):\n",
    "    \n",
    "    def __init__(self, config_file=None):\n",
    "        self._config = configparser.ConfigParser()\n",
    "        if config_file is not None :\n",
    "            self._config.read(config_file)\n",
    "    \n",
    "    @property\n",
    "    def host(self):\n",
    "        return self._config['redis']['REDIS_HOST']\n",
    "    @property\n",
    "    def port(self):\n",
    "        return self._config['redis']['REDIS_PORT']\n",
    "    @property\n",
    "    def password(self):\n",
    "        return self._config['redis']['REDIS_PWD']\n",
    "    @property\n",
    "    def db(self):\n",
    "        return self._config['redis']['REDIS_DB']\n",
    "    "
   ]
  },
  {
   "cell_type": "code",
   "execution_count": 2,
   "metadata": {},
   "outputs": [
    {
     "name": "stdout",
     "output_type": "stream",
     "text": [
      "Se ha borrado redis_config.ini\n",
      "\n",
      "[redis]\n",
      "REDIS_HOST=localhost\n",
      "REDIS_PORT=6379\n",
      "REDIS_PWD=\n",
      "REDIS_DB=5\n",
      "\n",
      "redis_config.ini creado en: /Users/adzarei/Documents/UNED/ING_CIENC_DATOS/projects/GAI/redis/src/notebooks\n"
     ]
    }
   ],
   "source": [
    "# Sustituir propiedades por las del propias de cada uno.\n",
    "# En mi caso son localhost, 6379, '' y 1.\n",
    "! test -f redis_config.ini && rm redis_config.ini && echo 'Se ha borrado redis_config.ini'\n",
    "! touch redis_config.ini\n",
    "! echo '[redis]' >> redis_config.ini\n",
    "! echo 'REDIS_HOST=localhost' >> redis_config.ini\n",
    "! echo 'REDIS_PORT=6379' >> redis_config.ini\n",
    "! echo 'REDIS_PWD=' >> redis_config.ini\n",
    "! echo 'REDIS_DB=1' >> redis_config.ini\n",
    "! echo\n",
    "! cat redis_config.ini\n",
    "! echo\n",
    "! echo 'redis_config.ini creado en: '$(pwd)"
   ]
  },
  {
   "cell_type": "code",
   "execution_count": 3,
   "metadata": {},
   "outputs": [
    {
     "name": "stdout",
     "output_type": "stream",
     "text": [
      "localhost\n",
      "6379\n",
      "\n",
      "5\n"
     ]
    }
   ],
   "source": [
    "config = RedisConfig('redis_config.ini') \n",
    "print(config.host)\n",
    "print(config.port)\n",
    "print(config.password)\n",
    "print(config.db)"
   ]
  },
  {
   "cell_type": "markdown",
   "metadata": {},
   "source": [
    "## Modelo\n",
    "Ahora vamos a diseñar los objetos que necesitamos para el dominio. Necesitaremos:\n",
    "- Usuario\n",
    "- Post"
   ]
  },
  {
   "cell_type": "markdown",
   "metadata": {},
   "source": [
    "## Redis API  \\#1\n",
    "Es hora de implementar los métodos que usaremos para la carga de datos:\n",
    "- nuevo_usuario(username)\n",
    "- nuevo_follower(username, follower, timestamp)\n",
    "- nuevo_following(username, followee, timestamp)\n",
    "- seguir(username, followee, timestamp)\n",
    "- nuevo_post(username, body, timestamp)"
   ]
  },
  {
   "cell_type": "code",
   "execution_count": 4,
   "metadata": {},
   "outputs": [],
   "source": [
    "import redis\n",
    "r = redis.Redis(host=config.host, port=config.port, password=config.password, db=config.db)"
   ]
  },
  {
   "cell_type": "code",
   "execution_count": 5,
   "metadata": {},
   "outputs": [],
   "source": [
    "def nuevo_usuario(username):\n",
    "    if r.hget('users', username) is None:\n",
    "        id = r.incr('user_id')\n",
    "        r.hmset('users', {id : username, username:id})"
   ]
  },
  {
   "cell_type": "code",
   "execution_count": 6,
   "metadata": {},
   "outputs": [],
   "source": [
    "def _nuevo_follower(username, follower, timestamp):\n",
    "    \n",
    "    usr_id = r.hget('users', username)\n",
    "    follower_id = r.hget('users', follower)\n",
    "    \n",
    "    if usr_id is None or follower_id is None:\n",
    "        return False\n",
    "    \n",
    "    usr_id = usr_id.decode('utf-8')\n",
    "    follower_id = follower_id.decode('utf-8')\n",
    "    \n",
    "    r.zadd('ts_follower_of:' + usr_id, {timestamp : follower_id})\n",
    "    r.sadd('follower_of:' + usr_id, follower_id)\n",
    "    \n",
    "    return True"
   ]
  },
  {
   "cell_type": "code",
   "execution_count": 7,
   "metadata": {},
   "outputs": [],
   "source": [
    "def _nuevo_following(username, followee, timestamp):\n",
    "    usr_id = r.hget('users', username)\n",
    "    followee_id = r.hget('users', followee)\n",
    "    \n",
    "    if usr_id is None or followee_id is None:\n",
    "        return\n",
    "    \n",
    "    usr_id = usr_id.decode('utf-8')\n",
    "    followee_id = followee_id.decode('utf-8')\n",
    "    \n",
    "    r.zadd('ts_followee_of:' + usr_id, {timestamp : followee_id})"
   ]
  },
  {
   "cell_type": "code",
   "execution_count": 8,
   "metadata": {},
   "outputs": [],
   "source": [
    "def seguir(username, followee, timestamp):\n",
    "    res = _nuevo_follower(followee, username, timestamp)\n",
    "    # Si el _nuevo_follower devuelve falso, no se ejecuta _nuevo_following.\n",
    "    res = res and _nuevo_following(username, followee, timestamp)\n",
    "    return res"
   ]
  },
  {
   "cell_type": "code",
   "execution_count": 9,
   "metadata": {},
   "outputs": [],
   "source": [
    "def nuevo_post(username, body, timestamp):\n",
    "    usr_id = r.hget('users', username)\n",
    "    \n",
    "    if usr_id is None:\n",
    "        return\n",
    "    \n",
    "    usr_id = usr_id.decode('utf-8')\n",
    "    \n",
    "    post_id = r.incr('post_id')\n",
    "    followers = r.smembers('follower_of:' + usr_id)\n",
    "    \n",
    "    # Creamos el post\n",
    "    r.hmset('post:' + str(post_id), {'id' : post_id, 'timestamp' : timestamp, 'body' : body})\n",
    "    \n",
    "    # Guardamos la referencia para el usuario\n",
    "    r.zadd('ts_timeline:' + usr_id, {timestamp : post_id})\n",
    "    \n",
    "    # Guardamos la referencia para los followees del usuario.\n",
    "    for follower in followers:\n",
    "        follower_id = follower.decode(\"utf-8\")\n",
    "        r.zadd('ts_timeline:' + follower_id, {timestamp : post_id})\n",
    "        \n",
    "\n",
    "    "
   ]
  },
  {
   "cell_type": "code",
   "execution_count": 10,
   "metadata": {},
   "outputs": [],
   "source": [
    "nuevo_usuario('zap')\n",
    "nuevo_usuario('Maria')\n",
    "nuevo_usuario('patri')\n",
    "nuevo_usuario('conhic')"
   ]
  },
  {
   "cell_type": "code",
   "execution_count": 11,
   "metadata": {},
   "outputs": [
    {
     "data": {
      "text/plain": [
       "'1'"
      ]
     },
     "execution_count": 11,
     "metadata": {},
     "output_type": "execute_result"
    }
   ],
   "source": [
    "r.hget('users', 'zap').decode(\"utf-8\")"
   ]
  },
  {
   "cell_type": "code",
   "execution_count": 12,
   "metadata": {},
   "outputs": [],
   "source": [
    "seguir('Maria', 'zap','ahora')\n",
    "seguir('zap', 'patri' ,'ahora')\n",
    "seguir('patri','conhic' ,'ahora')\n",
    "seguir('conhic','Maria' ,'ahora')\n",
    "seguir('conhic','zap' ,'ahora')\n",
    "seguir('patri','zap' ,'ahora')"
   ]
  },
  {
   "cell_type": "code",
   "execution_count": 13,
   "metadata": {},
   "outputs": [
    {
     "data": {
      "text/plain": [
       "{b'2', b'3', b'4'}"
      ]
     },
     "execution_count": 13,
     "metadata": {},
     "output_type": "execute_result"
    }
   ],
   "source": [
    "r.smembers('follower_of:1')"
   ]
  },
  {
   "cell_type": "code",
   "execution_count": 14,
   "metadata": {},
   "outputs": [],
   "source": [
    "nuevo_post('zap', 'test esto es un test', 'luego') # 1\n",
    "nuevo_post('zap', 'test esto es un test', 'luego1') # 2\n",
    "nuevo_post('zap', 'test esto es un test', 'luego2') # 3\n",
    "nuevo_post('zap', 'test esto es un test', 'luego3') # 4\n",
    "nuevo_post('patri', 'test esto es un test', 'luego4') # 5"
   ]
  },
  {
   "cell_type": "code",
   "execution_count": 15,
   "metadata": {},
   "outputs": [
    {
     "data": {
      "text/plain": [
       "(0,\n",
       " [(b'luego', 1.0),\n",
       "  (b'luego1', 2.0),\n",
       "  (b'luego2', 3.0),\n",
       "  (b'luego3', 4.0),\n",
       "  (b'luego4', 5.0)])"
      ]
     },
     "execution_count": 15,
     "metadata": {},
     "output_type": "execute_result"
    }
   ],
   "source": [
    "# zap\n",
    "r.zscan('ts_timeline:1', 0)"
   ]
  },
  {
   "cell_type": "code",
   "execution_count": 16,
   "metadata": {},
   "outputs": [
    {
     "data": {
      "text/plain": [
       "(0, [(b'luego', 1.0), (b'luego1', 2.0), (b'luego2', 3.0), (b'luego3', 4.0)])"
      ]
     },
     "execution_count": 16,
     "metadata": {},
     "output_type": "execute_result"
    }
   ],
   "source": [
    "# Maria\n",
    "r.zscan('ts_timeline:2', 0)"
   ]
  },
  {
   "cell_type": "code",
   "execution_count": 17,
   "metadata": {},
   "outputs": [
    {
     "data": {
      "text/plain": [
       "(0,\n",
       " [(b'luego', 1.0),\n",
       "  (b'luego1', 2.0),\n",
       "  (b'luego2', 3.0),\n",
       "  (b'luego3', 4.0),\n",
       "  (b'luego4', 5.0)])"
      ]
     },
     "execution_count": 17,
     "metadata": {},
     "output_type": "execute_result"
    }
   ],
   "source": [
    "# Patri\n",
    "r.zscan('ts_timeline:3', 0)"
   ]
  },
  {
   "cell_type": "code",
   "execution_count": 18,
   "metadata": {},
   "outputs": [
    {
     "data": {
      "text/plain": [
       "(0, [(b'luego', 1.0), (b'luego1', 2.0), (b'luego2', 3.0), (b'luego3', 4.0)])"
      ]
     },
     "execution_count": 18,
     "metadata": {},
     "output_type": "execute_result"
    }
   ],
   "source": [
    "# Conhic\n",
    "r.zscan('ts_timeline:4', 0)"
   ]
  },
  {
   "cell_type": "code",
   "execution_count": 19,
   "metadata": {},
   "outputs": [
    {
     "data": {
      "text/plain": [
       "{b'id': b'5', b'timestamp': b'luego4', b'body': b'test esto es un test'}"
      ]
     },
     "execution_count": 19,
     "metadata": {},
     "output_type": "execute_result"
    }
   ],
   "source": [
    "r.hgetall('post:5')"
   ]
  }
 ],
 "metadata": {
  "kernelspec": {
   "display_name": "Python 3",
   "language": "python",
   "name": "python3"
  },
  "language_info": {
   "codemirror_mode": {
    "name": "ipython",
    "version": 3
   },
   "file_extension": ".py",
   "mimetype": "text/x-python",
   "name": "python",
   "nbconvert_exporter": "python",
   "pygments_lexer": "ipython3",
   "version": "3.8.1"
  }
 },
 "nbformat": 4,
 "nbformat_minor": 4
}
