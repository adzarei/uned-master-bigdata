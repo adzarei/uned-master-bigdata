{
 "cells": [
  {
   "cell_type": "markdown",
   "id": "9597bb38-d664-40a2-89ba-2d13e3474539",
   "metadata": {},
   "source": [
    "# MDMS - PEC1 - Adrián José Zapater Reig"
   ]
  },
  {
   "cell_type": "markdown",
   "id": "cd2e9e43-590c-4fdb-93f7-239355d8a479",
   "metadata": {},
   "source": [
    "## Extracción de Nodos y Vértices"
   ]
  },
  {
   "cell_type": "code",
   "execution_count": 1,
   "id": "eea61d88-9b6c-42e6-9f57-1364df05ac29",
   "metadata": {},
   "outputs": [],
   "source": [
    "import pandas as pd\n",
    "import csv\n",
    "import json"
   ]
  },
  {
   "cell_type": "code",
   "execution_count": 2,
   "id": "53623e38-618e-4bdd-936d-9832dcaddd7a",
   "metadata": {},
   "outputs": [],
   "source": [
    "# Contenedores de los datos recogidos de la API de twitter.\n",
    "\n",
    "class BaseUser(object):\n",
    "    def __init__(self, id, username):\n",
    "        self.id = id\n",
    "        self.username = username\n",
    "        \n",
    "    def __str__(self):\n",
    "        return self.__repr__()\n",
    "    \n",
    "    def __repr__(self):\n",
    "        return '{{ id={}, username={} }}'.format(self.id, self.username)\n",
    "    \n",
    "    def __hash__(self):\n",
    "        return hash((self.id, self.username))\n",
    "    \n",
    "    def __eq__(self, other):\n",
    "        if not isinstance(other, type(self)): return NotImplemented\n",
    "        return self.id == other.id and self.username == other.username\n",
    "        \n",
    "    def from_json(json):\n",
    "        users = []\n",
    "        for user in json.get('data', {}):\n",
    "            users.append(BaseUser(user['id'], user['username']))\n",
    "        return users\n",
    "        \n",
    "\n",
    "class FullUser(BaseUser):\n",
    "    def __init__(self, id, username, location, num_followers, num_following, num_tweets, is_verfied):\n",
    "        super().__init__(id,username)\n",
    "        self.location = location\n",
    "        self.followers_count = num_followers\n",
    "        self.following_count = num_following\n",
    "        self.tweet_count = num_tweets\n",
    "        self.verified = True if str(is_verfied).lower() == 'true' else False\n",
    "        \n",
    "    def __repr__(self):\n",
    "        return '{{ id={}, username={}, location={}, followers={}, following={}, tweets={}, verified={} }}'.format(self.id, self.username, self.location, self.followers_count, self.following_count, self.tweet_count, self.verified)\n",
    "        \n",
    "    def from_json(json):\n",
    "        users = []\n",
    "        for user in json.get('data', {}):\n",
    "            pub_metrics = user.get('public_metrics', {})\n",
    "            new_user = FullUser(user.get('id'), user.get('username'), user.get('location'), pub_metrics.get('followers_count'), \n",
    "                                pub_metrics.get('following_count'), pub_metrics.get('tweet_count'), user.get('verified'))\n",
    "            users.append(new_user)\n",
    "        return users\n",
    "        "
   ]
  },
  {
   "cell_type": "code",
   "execution_count": 3,
   "id": "91845cf5-da13-40af-9379-023ebd400952",
   "metadata": {},
   "outputs": [],
   "source": [
    "class Relation(object):\n",
    "    \n",
    "    def __init__(self, src, dst):\n",
    "        self.src = src\n",
    "        self.dst = dst\n",
    "    \n",
    "    def __repr__(self):\n",
    "        return '{{ source={}, destination={} }}'.format(self.src, self.dst)\n",
    "    \n",
    "    def __str__(self):\n",
    "        return self.__repr__()\n",
    "    \n",
    "    def __hash__(self):\n",
    "        return hash((self.src, self.dst))\n",
    "    \n",
    "    def __eq__(self, other):\n",
    "        if not isinstance(other, type(self)): return NotImplemented\n",
    "        return self.src == other.src and self.dst == other.dst        \n",
    "        "
   ]
  },
  {
   "cell_type": "code",
   "execution_count": 4,
   "id": "0d27cbed-833d-4d14-b535-bb1031dc1235",
   "metadata": {},
   "outputs": [],
   "source": [
    "# Clase que gestiona la autenticacion contra twitter y las llamadas.\n",
    "\n",
    "import requests\n",
    "\n",
    "class TwitterConnection:\n",
    "    def __init__(self, bearer_token, content_type='application/json; charset=utf-8'):\n",
    "        self.__headers = {\n",
    "            'Authorization':'Bearer ' + bearer_token,\n",
    "            'content-type': content_type\n",
    "        }\n",
    "        \n",
    "    def set_content_type(self, content_type):\n",
    "        self.__headers['content-type'] = content_type\n",
    "    \n",
    "    def get_headers(self):\n",
    "        return self.__headers\n",
    "    \n",
    "    def request(self, url, op='GET', payload={}):\n",
    "        print('URL:' + url)\n",
    "        response = requests.request(op, url, headers=self.__headers, data=payload)\n",
    "        print('response code: {}'.format(response.status_code))\n",
    "        result = response.text if response.status_code == 200 else'{}'\n",
    "        return json.loads(result) \n"
   ]
  },
  {
   "cell_type": "code",
   "execution_count": 5,
   "id": "450b440a-ea5f-4b9e-88a0-12a316f1b345",
   "metadata": {},
   "outputs": [],
   "source": [
    "# Extractor de Twitter desde la API V2.\n",
    "class TwitterV2ApiExtractor:\n",
    "    def __init__(self, connection):\n",
    "        self.__base_url='https://api.twitter.com/2/'\n",
    "        self.__connection = connection\n",
    "        \n",
    "    def get_user_by_username(self, *args, return_fields=['public_metrics','username','verified','location']):\n",
    "        url = self.__base_url + 'users/by?usernames={}&user.fields={}'.format(','.join(args), ','.join(return_fields))\n",
    "        return self.__connection.request(url)\n",
    "    \n",
    "    def get_following_by_user_id(self, user_id, max_results=1000, return_fields=['public_metrics','username','verified','location']):\n",
    "        url = self.__base_url + 'users/{}/following?user.fields={}&max_results={}'.format(user_id, ','.join(return_fields), max_results)\n",
    "        return self.__connection.request(url)\n",
    "        "
   ]
  },
  {
   "cell_type": "markdown",
   "id": "a7ee3d4a-8313-4995-bdfe-ec6583f14c01",
   "metadata": {},
   "source": [
    "## Extracción"
   ]
  },
  {
   "cell_type": "code",
   "execution_count": 6,
   "id": "b29ff31f-ffc7-48ef-b58f-f563dad1489e",
   "metadata": {},
   "outputs": [],
   "source": [
    "# Usuarios base de la extraccion.\n",
    "usernames = ['Charles_Leclerc','PierreGASLY','alo_oficial','Carlossainz55','GeorgeRussell63','LewisHamilton','danielricciardo','LandoNorris', 'SchumacherMick']\n",
    "\n",
    "# Token para autenticarnos contra Twitter. Cada uno debe poner el suyo propio.\n",
    "token = ''"
   ]
  },
  {
   "cell_type": "code",
   "execution_count": 7,
   "id": "5f39d461-2d9a-47f0-8106-4c9c0222b749",
   "metadata": {},
   "outputs": [],
   "source": [
    "# Inicializamos la conexion y el extractor:\n",
    "conn = TwitterConnection(token)"
   ]
  },
  {
   "cell_type": "code",
   "execution_count": 8,
   "id": "90089fd8-369e-4a0c-89ed-ee15e8622467",
   "metadata": {},
   "outputs": [],
   "source": [
    "ext = TwitterV2ApiExtractor(conn)"
   ]
  },
  {
   "cell_type": "code",
   "execution_count": 9,
   "id": "c310d1ab-5351-424c-9cd5-46fffcc5db82",
   "metadata": {},
   "outputs": [
    {
     "name": "stdout",
     "output_type": "stream",
     "text": [
      "URL:https://api.twitter.com/2/users/by?usernames=Charles_Leclerc,PierreGASLY,alo_oficial,Carlossainz55,GeorgeRussell63,LewisHamilton,danielricciardo,LandoNorris,SchumacherMick&user.fields=public_metrics,username,verified,location\n",
      "response code: 200\n"
     ]
    },
    {
     "data": {
      "text/plain": [
       "[{ id=262230432, username=Charles_Leclerc, location=Monaco, followers=1255358, following=167, tweets=2008, verified=True },\n",
       " { id=537951506, username=PierreGASLY, location=Rouen, France, followers=732789, following=506, tweets=2670, verified=True },\n",
       " { id=507672047, username=alo_oficial, location=instagram: fernandoalo_oficial, followers=2857858, following=133, tweets=8465, verified=True },\n",
       " { id=353786894, username=Carlossainz55, location=planet earth, followers=1170570, following=338, tweets=8242, verified=True },\n",
       " { id=394892872, username=GeorgeRussell63, location=None, followers=856888, following=344, tweets=2776, verified=True },\n",
       " { id=213969309, username=LewisHamilton, location=All around the World!!, followers=6549953, following=805, tweets=1114, verified=True },\n",
       " { id=214413743, username=danielricciardo, location=Monaco/Australia , followers=2361654, following=193, tweets=2497, verified=True },\n",
       " { id=516464106, username=LandoNorris, location=United Kingdom, followers=1321003, following=483, tweets=6141, verified=True },\n",
       " { id=902951244549038081, username=SchumacherMick, location=None, followers=419038, following=65, tweets=1208, verified=True }]"
      ]
     },
     "execution_count": 9,
     "metadata": {},
     "output_type": "execute_result"
    }
   ],
   "source": [
    "# Usuarios principales:\n",
    "primary_users_json = ext.get_user_by_username(*usernames)\n",
    "primary_users = FullUser.from_json(primary_users_json)\n",
    "primary_users"
   ]
  },
  {
   "cell_type": "code",
   "execution_count": 10,
   "id": "1b60d71f-2dde-42b0-808b-a5284ef63e9e",
   "metadata": {},
   "outputs": [
    {
     "name": "stdout",
     "output_type": "stream",
     "text": [
      "Procesando a: Charles_Leclerc\n",
      "URL:https://api.twitter.com/2/users/262230432/following?user.fields=public_metrics,username,verified,location&max_results=1000\n",
      "response code: 200\n",
      "Followings: 167\n",
      "Usuarios Totales: 172\n",
      "Relaciones Totales: 167\n",
      "Procesando a: PierreGASLY\n",
      "URL:https://api.twitter.com/2/users/537951506/following?user.fields=public_metrics,username,verified,location&max_results=1000\n",
      "response code: 200\n",
      "Followings: 506\n",
      "Usuarios Totales: 614\n",
      "Relaciones Totales: 673\n",
      "Procesando a: alo_oficial\n",
      "URL:https://api.twitter.com/2/users/507672047/following?user.fields=public_metrics,username,verified,location&max_results=1000\n",
      "response code: 200\n",
      "Followings: 133\n",
      "Usuarios Totales: 709\n",
      "Relaciones Totales: 806\n",
      "Procesando a: Carlossainz55\n",
      "URL:https://api.twitter.com/2/users/353786894/following?user.fields=public_metrics,username,verified,location&max_results=1000\n",
      "response code: 200\n",
      "Followings: 338\n",
      "Usuarios Totales: 920\n",
      "Relaciones Totales: 1144\n",
      "Procesando a: GeorgeRussell63\n",
      "URL:https://api.twitter.com/2/users/394892872/following?user.fields=public_metrics,username,verified,location&max_results=1000\n",
      "response code: 200\n",
      "Followings: 344\n",
      "Usuarios Totales: 1140\n",
      "Relaciones Totales: 1488\n",
      "Procesando a: LewisHamilton\n",
      "URL:https://api.twitter.com/2/users/213969309/following?user.fields=public_metrics,username,verified,location&max_results=1000\n",
      "response code: 200\n",
      "Followings: 805\n",
      "Usuarios Totales: 1846\n",
      "Relaciones Totales: 2293\n",
      "Procesando a: danielricciardo\n",
      "URL:https://api.twitter.com/2/users/214413743/following?user.fields=public_metrics,username,verified,location&max_results=1000\n",
      "response code: 200\n",
      "Followings: 193\n",
      "Usuarios Totales: 1976\n",
      "Relaciones Totales: 2486\n",
      "Procesando a: LandoNorris\n",
      "URL:https://api.twitter.com/2/users/516464106/following?user.fields=public_metrics,username,verified,location&max_results=1000\n",
      "response code: 200\n",
      "Followings: 483\n",
      "Usuarios Totales: 2320\n",
      "Relaciones Totales: 2969\n",
      "Procesando a: SchumacherMick\n",
      "URL:https://api.twitter.com/2/users/902951244549038081/following?user.fields=public_metrics,username,verified,location&max_results=1000\n",
      "response code: 200\n",
      "Followings: 65\n",
      "Usuarios Totales: 2336\n",
      "Relaciones Totales: 3034\n"
     ]
    }
   ],
   "source": [
    "# Recuperamos los followings de cada usuario:\n",
    "all_users = set(primary_users)\n",
    "all_relations = set()\n",
    "for prim_usr in primary_users:\n",
    "    print('Procesando a: ' + prim_usr.username)\n",
    "    followings_json = ext.get_following_by_user_id(prim_usr.id)\n",
    "    followings = FullUser.from_json(followings_json)\n",
    "    print('Followings: ' + str(len(followings)))\n",
    "    \n",
    "    for following in followings:\n",
    "        all_users.add(following)\n",
    "        all_relations.add(Relation(prim_usr.id, following.id))\n",
    "        \n",
    "    print('Usuarios Totales: ' + str(len(all_users)))\n",
    "    print('Relaciones Totales: ' + str(len(all_relations)))"
   ]
  },
  {
   "cell_type": "markdown",
   "id": "0b2d1c0f-d426-4b5c-9f27-33cfe0932637",
   "metadata": {},
   "source": [
    "## Exportamos la info a un fichero CSV"
   ]
  },
  {
   "cell_type": "code",
   "execution_count": 11,
   "id": "831f2d06-8c65-4920-a81e-4880bc8334d0",
   "metadata": {},
   "outputs": [],
   "source": [
    "import datetime\n",
    "import os\n",
    "\n",
    "timestamp = datetime.datetime.now().strftime(\"%Y-%m-%d-%H_%M_%S_%f\")[:-3]\n",
    "data_folder = 'data'\n",
    "edge_file = os.path.join(data_folder, 'edge_{}.csv'.format(timestamp))\n",
    "node_file = os.path.join(data_folder, 'node_{}.csv'.format(timestamp))"
   ]
  },
  {
   "cell_type": "code",
   "execution_count": 12,
   "id": "d7c2dfb4-aeed-4dcc-88fa-95d19a76d463",
   "metadata": {},
   "outputs": [],
   "source": [
    "def save_edges_to_csv(out_file, relation_collection):\n",
    "    with open (out_file, 'a+', newline='') as csvFile:\n",
    "        csvWriter = csv.writer(csvFile)\n",
    "        # Header:\n",
    "        csvWriter.writerow(['Source','Target','Weight'])\n",
    "        for rel in relation_collection:\n",
    "            new_row = [rel.src,  rel.dst, 1]\n",
    "            csvWriter.writerow(new_row)"
   ]
  },
  {
   "cell_type": "code",
   "execution_count": 13,
   "id": "7682397b-136e-4db7-8ce3-88e4bf55e225",
   "metadata": {},
   "outputs": [],
   "source": [
    "def save_nodes_to_csv(out_file, user_collection):\n",
    "    with open (out_file, 'a+', newline='') as csvFile:\n",
    "        csvWriter = csv.writer(csvFile)\n",
    "        # Header:\n",
    "        csvWriter.writerow(['id','label','location', 'num_followers', 'num_followings', 'num_tweets', 'is_verified'])\n",
    "        for user in user_collection:\n",
    "            new_row = [user.id,  user.username, user.location, user.followers_count, user.following_count, user.tweet_count, user.verified]\n",
    "            csvWriter.writerow(new_row)"
   ]
  },
  {
   "cell_type": "code",
   "execution_count": 14,
   "id": "0b2da85d-e513-4f24-90e6-4748659863f0",
   "metadata": {},
   "outputs": [],
   "source": [
    "save_edges_to_csv(edge_file, all_relations)"
   ]
  },
  {
   "cell_type": "code",
   "execution_count": 15,
   "id": "7dd21012-6abf-4814-9ef5-b1a382428893",
   "metadata": {},
   "outputs": [],
   "source": [
    "save_nodes_to_csv(node_file, all_users)"
   ]
  }
 ],
 "metadata": {
  "kernelspec": {
   "display_name": "Python 3",
   "language": "python",
   "name": "python3"
  },
  "language_info": {
   "codemirror_mode": {
    "name": "ipython",
    "version": 3
   },
   "file_extension": ".py",
   "mimetype": "text/x-python",
   "name": "python",
   "nbconvert_exporter": "python",
   "pygments_lexer": "ipython3",
   "version": "3.9.5"
  }
 },
 "nbformat": 4,
 "nbformat_minor": 5
}
