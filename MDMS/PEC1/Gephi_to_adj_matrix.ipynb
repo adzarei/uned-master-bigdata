{
 "cells": [
  {
   "cell_type": "markdown",
   "id": "68ec82be-aa82-499c-91bb-7fcb8aece399",
   "metadata": {},
   "source": [
    "# Notebook para convertir los CSV exportados de Gephi a una matriz de adyacencia."
   ]
  },
  {
   "cell_type": "code",
   "execution_count": 1,
   "id": "8cc0617c-2eea-42f8-bd3b-9530fdafcbe9",
   "metadata": {},
   "outputs": [],
   "source": [
    "import pandas as pd\n",
    "import numpy as np \n",
    "import os"
   ]
  },
  {
   "cell_type": "code",
   "execution_count": 6,
   "id": "04345e0c-d953-43ba-9319-7421e0fb804d",
   "metadata": {},
   "outputs": [],
   "source": [
    "def edge_to_madj_matrix(in_file, out_file):\n",
    "    # Read in data\n",
    "    gephi_edges = pd.read_csv(in_file)\n",
    "    return edge_to_madj_matrix_df(gephi_edges, out_file)\n",
    "\n",
    "def edge_to_madj_matrix_df(df_in, out_file):\n",
    "    # Create Adj Matrix\n",
    "    gephi_reverse_edges = df_in.rename(columns={\"Source\":\"Target\", \"Target\":\"Source\"})\n",
    "    edges = pd.concat([df_in, gephi_reverse_edges])\n",
    "    df = pd.crosstab(edges.Source, edges.Target)\n",
    "    df.to_csv(out_file)"
   ]
  },
  {
   "cell_type": "markdown",
   "id": "bdf3cf38-9d33-4fd5-908f-e20eedcc25b4",
   "metadata": {},
   "source": [
    "### Escenario 1"
   ]
  },
  {
   "cell_type": "code",
   "execution_count": 3,
   "id": "aa1ee970-79e0-43af-a1d6-dcfce7dd344f",
   "metadata": {},
   "outputs": [],
   "source": [
    "# Scenario 1\n",
    "output_file = os.path.join('data','adj_mat_scenario_1_v2.csv')\n",
    "input_file = os.path.join('data','gephi_edge_export_scenario1_v2.csv')\n",
    "\n",
    "edge_to_madj_matrix(input_file, output_file)"
   ]
  },
  {
   "cell_type": "markdown",
   "id": "ca8203b3-218f-4b67-beaf-5df779ab4642",
   "metadata": {},
   "source": [
    "### Escenario 2"
   ]
  },
  {
   "cell_type": "code",
   "execution_count": 4,
   "id": "a9bcbf43-2722-447b-a12e-d82a6cb0cd4b",
   "metadata": {},
   "outputs": [
    {
     "data": {
      "text/plain": [
       "array([3, 5, 4, 0, 2, 1])"
      ]
     },
     "execution_count": 4,
     "metadata": {},
     "output_type": "execute_result"
    }
   ],
   "source": [
    "node_file = os.path.join('data','gephi_node_export_scenario2.csv')\n",
    "input_file = os.path.join('data','gephi_edge_export_scenario1_v2.csv')\n",
    "nodes = pd.read_csv(node_file)\n",
    "edges = pd.read_csv(input_file)\n",
    "\n",
    "nodes.modularity_class.unique()"
   ]
  },
  {
   "cell_type": "code",
   "execution_count": 5,
   "id": "70060679-b1bd-4b88-85e8-62c1a3941fb3",
   "metadata": {},
   "outputs": [],
   "source": [
    "nodes_0 = nodes[nodes['modularity_class'] == 0].rename(columns={'Id':'Source'})\n",
    "nodes_1 = nodes[nodes['modularity_class'] == 1].rename(columns={'Id':'Source'})\n",
    "nodes_2 = nodes[nodes['modularity_class'] == 2].rename(columns={'Id':'Source'})\n",
    "nodes_3 = nodes[nodes['modularity_class'] == 3].rename(columns={'Id':'Source'})\n",
    "nodes_4 = nodes[nodes['modularity_class'] == 4].rename(columns={'Id':'Source'})\n",
    "nodes_5 = nodes[nodes['modularity_class'] == 5].rename(columns={'Id':'Source'})"
   ]
  },
  {
   "cell_type": "code",
   "execution_count": 6,
   "id": "3e64be61-25c7-4196-a68d-801ee923beaf",
   "metadata": {},
   "outputs": [],
   "source": [
    "edges_0 = edges.merge(nodes_0, on=\"Source\")\n",
    "edges_1 = edges.merge(nodes_1, on=\"Source\")\n",
    "edges_2 = edges.merge(nodes_2, on=\"Source\")\n",
    "edges_3 = edges.merge(nodes_3, on=\"Source\")\n",
    "edges_4 = edges.merge(nodes_4, on=\"Source\")\n",
    "edges_5 = edges.merge(nodes_5, on=\"Source\")"
   ]
  },
  {
   "cell_type": "code",
   "execution_count": 7,
   "id": "d3e5b118-4964-468c-bfd9-a540b4374c56",
   "metadata": {},
   "outputs": [],
   "source": [
    "output_file = os.path.join('data','adj_mat_scenario_2_0.csv')\n",
    "edge_to_madj_matrix_df(edges_0, output_file)"
   ]
  },
  {
   "cell_type": "code",
   "execution_count": 8,
   "id": "6d84dcad-e16e-4d05-b090-a3859f949267",
   "metadata": {},
   "outputs": [],
   "source": [
    "output_file = os.path.join('data','adj_mat_scenario_2_1.csv')\n",
    "edge_to_madj_matrix_df(edges_1, output_file)"
   ]
  },
  {
   "cell_type": "code",
   "execution_count": 9,
   "id": "54dac187-cdbe-4bd8-a2fd-21e7490883a1",
   "metadata": {},
   "outputs": [],
   "source": [
    "output_file = os.path.join('data','adj_mat_scenario_2_2.csv')\n",
    "edge_to_madj_matrix_df(edges_2, output_file)"
   ]
  },
  {
   "cell_type": "code",
   "execution_count": 10,
   "id": "aa5c9df1-71ee-4086-93c3-864ed40815f4",
   "metadata": {},
   "outputs": [],
   "source": [
    "output_file = os.path.join('data','adj_mat_scenario_2_3.csv')\n",
    "edge_to_madj_matrix_df(edges_3, output_file)"
   ]
  },
  {
   "cell_type": "code",
   "execution_count": 11,
   "id": "d1abb0a3-e144-441d-bd75-d23144caa864",
   "metadata": {},
   "outputs": [],
   "source": [
    "output_file = os.path.join('data','adj_mat_scenario_2_4.csv')\n",
    "edge_to_madj_matrix_df(edges_4, output_file)"
   ]
  },
  {
   "cell_type": "code",
   "execution_count": 12,
   "id": "62534749-a4e9-467b-a62c-e84ad01dc1c2",
   "metadata": {},
   "outputs": [],
   "source": [
    "output_file = os.path.join('data','adj_mat_scenario_2_5.csv')\n",
    "edge_to_madj_matrix_df(edges_5, output_file)"
   ]
  },
  {
   "cell_type": "markdown",
   "id": "c119bb10-e16c-460c-9b86-d4593a893a11",
   "metadata": {},
   "source": [
    "### Escenario 3"
   ]
  },
  {
   "cell_type": "code",
   "execution_count": 5,
   "id": "5b9d9c36-ce4b-4c4a-9fca-56e26208b808",
   "metadata": {},
   "outputs": [
    {
     "data": {
      "text/plain": [
       "array([0, 4, 1, 3, 2])"
      ]
     },
     "execution_count": 5,
     "metadata": {},
     "output_type": "execute_result"
    }
   ],
   "source": [
    "node_file = os.path.join('data','clustered_data.csv')\n",
    "edge_file = os.path.join('data','gephi_edge_export_scenario3.csv')\n",
    "\n",
    "nodes = pd.read_csv(node_file)\n",
    "edges = pd.read_csv(edge_file)\n",
    "\n",
    "clusters = nodes.cluster.unique()\n",
    "clusters"
   ]
  },
  {
   "cell_type": "code",
   "execution_count": 12,
   "id": "e5f5d2e8-1924-413c-9d51-95c1e39c5e70",
   "metadata": {},
   "outputs": [],
   "source": [
    "for cluster_id in clusters:\n",
    "    nodes_in_cluster = nodes[nodes['cluster'] == cluster_id].rename(columns={'Id':'Target'})\n",
    "    edges_in_cluster = edges.merge(nodes_in_cluster, on=\"Target\")\n",
    "    \n",
    "    output_file = os.path.join('data','adj_mat_scenario_3_{}.csv'.format(cluster_id))\n",
    "    edge_to_madj_matrix_df(edges_in_cluster, output_file)"
   ]
  }
 ],
 "metadata": {
  "kernelspec": {
   "display_name": "Python 3",
   "language": "python",
   "name": "python3"
  },
  "language_info": {
   "codemirror_mode": {
    "name": "ipython",
    "version": 3
   },
   "file_extension": ".py",
   "mimetype": "text/x-python",
   "name": "python",
   "nbconvert_exporter": "python",
   "pygments_lexer": "ipython3",
   "version": "3.9.5"
  }
 },
 "nbformat": 4,
 "nbformat_minor": 5
}
