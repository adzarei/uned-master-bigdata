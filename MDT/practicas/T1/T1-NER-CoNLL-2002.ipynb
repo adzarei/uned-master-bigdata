{
 "cells": [
  {
   "cell_type": "markdown",
   "metadata": {},
   "source": [
    "# Tarea 1: Detección de Entidades Nombradas\n",
    "#### Utilización de un etiquetador de entidades nombradas, en español, aplicado al problema planteado en el artículo [Introduction to the CoNLL-2002 Shared Task: Language-Independent Named Entity Recognition](https://www.aclweb.org/anthology/W02-2024)."
   ]
  },
  {
   "cell_type": "markdown",
   "metadata": {},
   "source": [
    "### Objetivos:\n",
    "- Utilizar el NER preentrenado de spaCy sobre el corpus CoNLL-2002 ([esp.testb](https://www.clips.uantwerpen.be/conll2002/ner/data/esp.testb))\n",
    "- Analizar los resultados contra las etiquetas del conjunto de test.\n",
    "- Calcular la precisión, cobertura y medida-F utilizando conlleval.py ([conlleval.py](http://localhost:8888/lab/tree/practicas/T1/T1-NER-CoNLL-2002.ipynb))"
   ]
  },
  {
   "cell_type": "markdown",
   "metadata": {},
   "source": [
    "Documentación a entregar:\n",
    "- Documento PDF (en ningun caso se entregarán archivos jupyter) con la siguiente información:\n",
    "    - Descripción de la tarea de conll2002 (comentar los principales puntos y resultados del artículo) y los datos de evaluación.\n",
    "    - Descripción del código desarrollado, herramientas utilizadas, etc.\n",
    "    - Textos de prueba utilizados.\n",
    "    - Resultados de evaluación del etiquetado.\n",
    "    - Análisis de los errores de etiquetado y sus causas. Se valorará la introducción de mejoras/modificaciones en el etiquetado que mejoren los resultados.\n",
    "- Fichero comprimido con el co ́digo fuente y los ficheros generados."
   ]
  },
  {
   "cell_type": "code",
   "execution_count": 1,
   "metadata": {},
   "outputs": [
    {
     "name": "stdout",
     "output_type": "stream",
     "text": [
      "conectado.\n",
      "Petición HTTP enviada, esperando respuesta... 200 OK\n",
      "Longitud: 410611 (401K)\n",
      "Grabando a: “./src/esp.testb.1”\n",
      "\n",
      "esp.testb.1         100%[===================>] 400,99K  1,86MB/s    en 0,2s    \n",
      "\n",
      "2020-12-15 03:15:38 (1,86 MB/s) - “./src/esp.testb.1” guardado [410611/410611]\n",
      "\n"
     ]
    }
   ],
   "source": [
    "! wget https://www.clips.uantwerpen.be/conll2002/ner/data/esp.testb -P ./src"
   ]
  },
  {
   "cell_type": "code",
   "execution_count": 2,
   "metadata": {},
   "outputs": [],
   "source": [
    "esp_test_raw_data = open('./src/esp.testb', 'r')"
   ]
  },
  {
   "cell_type": "code",
   "execution_count": 3,
   "metadata": {
    "scrolled": true
   },
   "outputs": [],
   "source": [
    "import re\n",
    "# Text:\n",
    "text = ''\n",
    "# Original Solution\n",
    "anotated_reference = {}\n",
    "for i, line in enumerate(esp_test_raw_data):\n",
    "    anotated_word = re.split('\\s', line)\n",
    "    word = anotated_word[0]\n",
    "    anotation = anotated_word[1]\n",
    "    # Save original Solution\n",
    "    anotated_reference[i] = (word, anotation)\n",
    "    # Prepare text input for spaCy's NER model.\n",
    "    text += word + ' '\n",
    "    \n",
    "# Close file after extracting info.\n",
    "esp_test_raw_data.close()"
   ]
  },
  {
   "cell_type": "code",
   "execution_count": 4,
   "metadata": {},
   "outputs": [
    {
     "name": "stdout",
     "output_type": "stream",
     "text": [
      "\u001b[38;5;2m✔ Download and installation successful\u001b[0m\n",
      "You can now load the model via spacy.load('es_core_news_sm')\n",
      "\u001b[38;5;2m✔ Linking successful\u001b[0m\n",
      "/Users/adzarei/Documents/UNED/ING_CIENC_DATOS/projects/MDT/conda-env/lib/python3.8/site-packages/es_core_news_sm\n",
      "-->\n",
      "/Users/adzarei/Documents/UNED/ING_CIENC_DATOS/projects/MDT/conda-env/lib/python3.8/site-packages/spacy/data/es\n",
      "You can now load the model via spacy.load('es')\n"
     ]
    }
   ],
   "source": [
    "import spacy\n",
    "# Download Model:\n",
    "import spacy.cli\n",
    "spacy.cli.download(\"es\")\n",
    "# Load Model\n",
    "es_model = spacy.load('es')"
   ]
  },
  {
   "cell_type": "code",
   "execution_count": 5,
   "metadata": {},
   "outputs": [],
   "source": [
    "anotated_doc_es = es_model(text)"
   ]
  },
  {
   "cell_type": "code",
   "execution_count": 6,
   "metadata": {
    "scrolled": true
   },
   "outputs": [],
   "source": [
    "anotated_output = {}\n",
    "for i, token in enumerate(anotated_doc_es):\n",
    "    anotated_output[i] = (token.text, token.ent_iob_ + \"-\" + token.ent_type_ if token.ent_iob_ != 'O' else token.ent_iob_)"
   ]
  },
  {
   "cell_type": "markdown",
   "metadata": {},
   "source": [
    "#### Generamos el fichero de salida a partir de `anotated_reference`y `anotated_output` "
   ]
  },
  {
   "cell_type": "code",
   "execution_count": 7,
   "metadata": {},
   "outputs": [],
   "source": [
    "import datetime\n",
    "\n",
    "log_file = open(\"./src/log_testb.log\", \"a\")\n",
    "log_file.write('Starting Execution: {}'.format(datetime.datetime.now()))\n",
    "\n",
    "out_file = open(\"./src/esp_out.testb\", \"w\")\n",
    "\n",
    "j = 0\n",
    "max_errors = 10\n",
    "for idx in anotated_reference:\n",
    "    word = anotated_reference[idx][0]\n",
    "    ref  = anotated_reference[idx][1]\n",
    "    \n",
    "    # If there is a miss match, we try with the next elements of anotated_output.\n",
    "    while(word.strip() != anotated_output[j][0].strip()):\n",
    "        log_file.write('Word missmatch: ref:{} asig: {}\\n'.format(word, anotated_output[j][0]))\n",
    "        j += 1\n",
    "        # If there are more \n",
    "        if j - idx > max_errors:\n",
    "            log_file.write('Max Errors reached ({})\\n'.format(max_errors))\n",
    "            j = idx\n",
    "            break\n",
    "    \n",
    "    asig = '' if word.strip() == '' else anotated_output[j][1]\n",
    "    out_file.write('{} {} {}\\n'.format(word, ref, asig))\n",
    "    j += 1\n",
    "    \n",
    "out_file.close()\n",
    "log_file.close()"
   ]
  },
  {
   "cell_type": "code",
   "execution_count": 8,
   "metadata": {},
   "outputs": [
    {
     "name": "stdout",
     "output_type": "stream",
     "text": [
      "processed 53049 tokens with 3559 phrases; found: 3802 phrases; correct: 316.\n",
      "accuracy:   8.90%; (non-O)\n",
      "accuracy:  80.70%; precision:   8.31%; recall:   8.88%; FB1:   8.59\n",
      "              LOC: precision:   7.52%; recall:  10.06%; FB1:   8.60  1450\n",
      "             MISC: precision:   2.26%; recall:   4.41%; FB1:   2.99  663\n",
      "              ORG: precision:  12.31%; recall:   7.50%; FB1:   9.32  853\n",
      "              PER: precision:  10.41%; recall:  11.84%; FB1:  11.08  836\n"
     ]
    }
   ],
   "source": [
    "! python ./src/conlleval.py < ./src/esp_out.testb"
   ]
  }
 ],
 "metadata": {
  "kernelspec": {
   "display_name": "Python 3",
   "language": "python",
   "name": "python3"
  },
  "language_info": {
   "codemirror_mode": {
    "name": "ipython",
    "version": 3
   },
   "file_extension": ".py",
   "mimetype": "text/x-python",
   "name": "python",
   "nbconvert_exporter": "python",
   "pygments_lexer": "ipython3",
   "version": "3.8.5"
  }
 },
 "nbformat": 4,
 "nbformat_minor": 4
}
