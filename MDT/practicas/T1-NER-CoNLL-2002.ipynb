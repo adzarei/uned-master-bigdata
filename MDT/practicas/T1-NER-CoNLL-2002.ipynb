{
 "cells": [
  {
   "cell_type": "markdown",
   "metadata": {},
   "source": [
    "# Tarea 1: Detección de Entidades Nombradas\n",
    "#### Utilización de un etiquetador de entidades nombradas, en español, aplicado al problema planteado en el artículo [Introduction to the CoNLL-2002 Shared Task: Language-Independent Named Entity Recognition](https://www.aclweb.org/anthology/W02-2024)."
   ]
  },
  {
   "cell_type": "markdown",
   "metadata": {},
   "source": [
    "### Objetivos:\n",
    "- Utilizar el NER preentrenado de spaCy sobre el corpus CoNLL-2002 ([esp.testb](https://www.clips.uantwerpen.be/conll2002/ner/data/esp.testb))\n",
    "- Analizar los resultados contra las etiquetas del conjunto de test.\n",
    "- Calcular la precisión, cobertura y medida-F utilizando conlleval.py ([conlleval.py](http://localhost:8888/lab/tree/practicas/t1_src/conlleval.py))"
   ]
  },
  {
   "cell_type": "markdown",
   "metadata": {},
   "source": [
    "Documentación a entregar:\n",
    "- Documento PDF (en ningun caso se entregarán archivos jupyter) con la siguiente información:\n",
    "    - Descripción de la tarea de conll2002 (comentar los principales puntos y resultados del artículo) y los datos de evaluación.\n",
    "    - Descripción del código desarrollado, herramientas utilizadas, etc.\n",
    "    - Textos de prueba utilizados.\n",
    "    - Resultados de evaluación del etiquetado.\n",
    "    - Análisis de los errores de etiquetado y sus causas. Se valorará la introducción de mejoras/modificaciones en el etiquetado que mejoren los resultados.\n",
    "- Fichero comprimido con el co ́digo fuente y los ficheros generados."
   ]
  }
 ],
 "metadata": {
  "kernelspec": {
   "display_name": "Python 3",
   "language": "python",
   "name": "python3"
  },
  "language_info": {
   "codemirror_mode": {
    "name": "ipython",
    "version": 3
   },
   "file_extension": ".py",
   "mimetype": "text/x-python",
   "name": "python",
   "nbconvert_exporter": "python",
   "pygments_lexer": "ipython3",
   "version": "3.8.5"
  }
 },
 "nbformat": 4,
 "nbformat_minor": 4
}
