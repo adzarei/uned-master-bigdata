{
 "cells": [
  {
   "cell_type": "markdown",
   "metadata": {},
   "source": [
    "# First Steps with [SpaCy](https://spacy.io)"
   ]
  },
  {
   "cell_type": "code",
   "execution_count": 2,
   "metadata": {},
   "outputs": [],
   "source": [
    "import spacy"
   ]
  },
  {
   "cell_type": "code",
   "execution_count": 9,
   "metadata": {},
   "outputs": [
    {
     "name": "stdout",
     "output_type": "stream",
     "text": [
      "\u001b[38;5;2m✔ Download and installation successful\u001b[0m\n",
      "You can now load the model via spacy.load('es_core_news_sm')\n"
     ]
    }
   ],
   "source": [
    "# Download Spacy's Spanish models:\n",
    "# REFF: https://spacy.io/models/es#es_core_news_sm\n",
    "import spacy.cli\n",
    "spacy.cli.download(\"es_core_news_sm\")"
   ]
  },
  {
   "cell_type": "code",
   "execution_count": 10,
   "metadata": {},
   "outputs": [],
   "source": [
    "# Load Model\n",
    "nlp = spacy.load('es_core_news_sm')"
   ]
  },
  {
   "cell_type": "markdown",
   "metadata": {},
   "source": [
    "## Looking for Stop Words:"
   ]
  },
  {
   "cell_type": "code",
   "execution_count": 11,
   "metadata": {},
   "outputs": [],
   "source": [
    "doc = nlp(u'Iberdrola ha alcanzado un beneficio neto de 1.644,4 millones de euros en el primer semestre del año')"
   ]
  },
  {
   "cell_type": "code",
   "execution_count": 12,
   "metadata": {},
   "outputs": [
    {
     "name": "stdout",
     "output_type": "stream",
     "text": [
      "Iberdrola False\n",
      "ha True\n",
      "alcanzado False\n",
      "un True\n",
      "beneficio False\n",
      "neto False\n",
      "de True\n",
      "1.644,4 False\n",
      "millones False\n",
      "de True\n",
      "euros False\n",
      "en True\n",
      "el True\n",
      "primer True\n",
      "semestre False\n",
      "del True\n",
      "año False\n"
     ]
    }
   ],
   "source": [
    "for token in doc:\n",
    "    print(token.text, token.is_stop)"
   ]
  },
  {
   "cell_type": "markdown",
   "metadata": {},
   "source": [
    "## Named Entity Recognition"
   ]
  },
  {
   "cell_type": "code",
   "execution_count": 13,
   "metadata": {},
   "outputs": [
    {
     "name": "stdout",
     "output_type": "stream",
     "text": [
      "\u001b[38;5;2m✔ Download and installation successful\u001b[0m\n",
      "You can now load the model via spacy.load('es_core_news_sm')\n",
      "\u001b[38;5;2m✔ Linking successful\u001b[0m\n",
      "/Users/adzarei/Documents/UNED/ING_CIENC_DATOS/projects/MDT/conda-env/lib/python3.8/site-packages/es_core_news_sm\n",
      "-->\n",
      "/Users/adzarei/Documents/UNED/ING_CIENC_DATOS/projects/MDT/conda-env/lib/python3.8/site-packages/spacy/data/es\n",
      "You can now load the model via spacy.load('es')\n"
     ]
    }
   ],
   "source": [
    "# Download Spacy's Spanish models:\n",
    "# REFF: https://spacy.io/models/es\n",
    "import spacy.cli\n",
    "spacy.cli.download(\"es\")"
   ]
  },
  {
   "cell_type": "code",
   "execution_count": 14,
   "metadata": {},
   "outputs": [],
   "source": [
    "modeloEs = spacy.load('es')"
   ]
  },
  {
   "cell_type": "code",
   "execution_count": 15,
   "metadata": {},
   "outputs": [],
   "source": [
    "doc = 'Esto es un texto de prueba que ha escrito Adrián Zapater.'\n",
    "docEsAnotado = modeloEs(doc)"
   ]
  },
  {
   "cell_type": "code",
   "execution_count": 17,
   "metadata": {},
   "outputs": [
    {
     "name": "stdout",
     "output_type": "stream",
     "text": [
      "Adrián Zapater 4317129024397789502\n"
     ]
    }
   ],
   "source": [
    "# Entities in document\n",
    "for entity in docEsAnotado.ents:\n",
    "    print(entity.text, entity.label)"
   ]
  },
  {
   "cell_type": "code",
   "execution_count": 25,
   "metadata": {},
   "outputs": [
    {
     "name": "stdout",
     "output_type": "stream",
     "text": [
      "Esto   PRON   O-\n",
      "Esto   95   2-0\n",
      "es   AUX   O-\n",
      "es   87   2-0\n",
      "un   DET   O-\n",
      "un   90   2-0\n",
      "texto   NOUN   O-\n",
      "texto   92   2-0\n",
      "de   ADP   O-\n",
      "de   85   2-0\n",
      "prueba   NOUN   O-\n",
      "prueba   92   2-0\n",
      "que   SCONJ   O-\n",
      "que   98   2-0\n",
      "ha   AUX   O-\n",
      "ha   87   2-0\n",
      "escrito   VERB   O-\n",
      "escrito   100   2-0\n",
      "Adrián   PROPN   B-PER\n",
      "Adrián   96   3-4317129024397789502\n",
      "Zapater   PROPN   I-PER\n",
      "Zapater   96   1-4317129024397789502\n",
      ".   PUNCT   O-\n",
      ".   97   2-0\n"
     ]
    }
   ],
   "source": [
    "# Token NER information:\n",
    "for token in docEsAnotado:\n",
    "    # Text\n",
    "    print (token.text, \" \", token.pos_, \" \", token.ent_iob_ + \"-\" + token.ent_type_ )\n",
    "    # Numeric\n",
    "    print (token.text, \" \", token.pos, \" \", str(token.ent_iob) + \"-\" + str(token.ent_type))"
   ]
  }
 ],
 "metadata": {
  "kernelspec": {
   "display_name": "Python 3",
   "language": "python",
   "name": "python3"
  },
  "language_info": {
   "codemirror_mode": {
    "name": "ipython",
    "version": 3
   },
   "file_extension": ".py",
   "mimetype": "text/x-python",
   "name": "python",
   "nbconvert_exporter": "python",
   "pygments_lexer": "ipython3",
   "version": "3.8.5"
  }
 },
 "nbformat": 4,
 "nbformat_minor": 4
}
