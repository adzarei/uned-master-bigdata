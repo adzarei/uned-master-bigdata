{
 "cells": [
  {
   "cell_type": "markdown",
   "metadata": {},
   "source": [
    "# Ejercicio 2: HIVE.\n",
    "Ejemplo de uso de HIVE sobre 2 sets de datos."
   ]
  },
  {
   "cell_type": "code",
   "execution_count": 1,
   "metadata": {
    "collapsed": false
   },
   "outputs": [],
   "source": [
    "! mkdir -p /media/notebook/tp1-notebooks/ejer_2_hive"
   ]
  },
  {
   "cell_type": "code",
   "execution_count": 2,
   "metadata": {
    "collapsed": false
   },
   "outputs": [],
   "source": [
    "import os\n",
    "os.chdir(\"/media/notebook/tp1-notebooks/ejer_2_hive\")"
   ]
  },
  {
   "cell_type": "code",
   "execution_count": 3,
   "metadata": {
    "collapsed": false
   },
   "outputs": [
    {
     "name": "stdout",
     "output_type": "stream",
     "text": [
      "/media/notebook/tp1-notebooks/ejer_2_hive\r\n"
     ]
    }
   ],
   "source": [
    "! pwd"
   ]
  },
  {
   "cell_type": "code",
   "execution_count": 4,
   "metadata": {
    "collapsed": true
   },
   "outputs": [],
   "source": [
    "! hadoop fs -mkdir -p /user/uned/databases/ejer2_hive"
   ]
  },
  {
   "cell_type": "code",
   "execution_count": 5,
   "metadata": {
    "collapsed": false
   },
   "outputs": [
    {
     "name": "stdout",
     "output_type": "stream",
     "text": [
      "Found 1 items\r\n",
      "drwxr-xr-x   - root supergroup          0 2019-11-06 23:56 /user/uned/databases/ejer2_hive\r\n"
     ]
    }
   ],
   "source": [
    "! hadoop fs -ls /user/uned/databases/"
   ]
  },
  {
   "cell_type": "code",
   "execution_count": 6,
   "metadata": {
    "collapsed": true
   },
   "outputs": [],
   "source": [
    "! hadoop fs -mkdir -p /user/uned/databases/ejer2_hive/external/TablaExternaGDP\n",
    "! hadoop fs -mkdir -p /user/uned/databases/ejer2_hive/external/TablaExternaEscolarizacion"
   ]
  },
  {
   "cell_type": "code",
   "execution_count": 7,
   "metadata": {
    "collapsed": false
   },
   "outputs": [
    {
     "name": "stdout",
     "output_type": "stream",
     "text": [
      "Found 2 items\r\n",
      "drwxr-xr-x   - anonymous supergroup          0 2019-11-06 23:54 /user/uned/databases/ejer2_hive/external/TablaExternaEscolarizacion\r\n",
      "drwxr-xr-x   - root      supergroup          0 2019-11-06 23:55 /user/uned/databases/ejer2_hive/external/TablaExternaGDP\r\n"
     ]
    }
   ],
   "source": [
    "! hadoop fs -ls /user/uned/databases/ejer2_hive/external/"
   ]
  },
  {
   "cell_type": "code",
   "execution_count": 8,
   "metadata": {
    "collapsed": false
   },
   "outputs": [
    {
     "name": "stdout",
     "output_type": "stream",
     "text": [
      "Overwriting create_tables.hql\n"
     ]
    }
   ],
   "source": [
    "%%writefile create_tables.hql\n",
    "\n",
    "--Creamos la BD que contendra las tablas\n",
    "CREATE DATABASE IF NOT EXISTS ejer2_hive\n",
    "COMMENT 'BD para el ejercicio 2 del TP1'\n",
    "LOCATION '/user/uned/databases/ejer2_hive';\n",
    "\n",
    "--Borramos las tablas si existen.\n",
    "DROP TABLE IF EXISTS ejer2_hive.TablaInternaGDP;\n",
    "DROP TABLE IF EXISTS ejer2_hive.TablaExternaGDP;\n",
    "DROP TABLE IF EXISTS ejer2_hive.TablaInternaEscolarizacion;\n",
    "DROP TABLE IF EXISTS ejer2_hive.TablaExternaEscolarizacion;\n",
    "\n",
    "--Creamos TablaExternaGDP en la BD ejer2_hive\n",
    "CREATE EXTERNAL TABLE ejer2_hive.TablaExternaGDP ( Country_Name STRING,\n",
    "Country_Code STRING,\n",
    "Indicator_Name STRING,\n",
    "Indicator_Code STRING,\n",
    "`1960` STRING,`1961` STRING,`1962` STRING,`1963` STRING,\n",
    "`1964` STRING,`1965` STRING,`1966` STRING,`1967` STRING,\n",
    "`1968` STRING,`1969` STRING,`1970` STRING,`1971` STRING,\n",
    "`1972` STRING,`1973` STRING,`1974` STRING,`1975` STRING,\n",
    "`1976` STRING,`1977` STRING,`1978` STRING,`1979` STRING,\n",
    "`1980` STRING,`1981` STRING,`1982` STRING,`1983` STRING,\n",
    "`1984` STRING,`1985` STRING,`1986` STRING,`1987` STRING,\n",
    "`1988` STRING,`1989` STRING,`1990` STRING,`1991` STRING,\n",
    "`1992` STRING,`1993` STRING,`1994` STRING,`1995` STRING,\n",
    "`1996` STRING,`1997` STRING,`1998` STRING,`1999` STRING,\n",
    "`2000` STRING,`2001` STRING,`2002` STRING,`2003` STRING,\n",
    "`2004` STRING,`2005` STRING,`2006` STRING,`2007` STRING,\n",
    "`2008` STRING,`2009` STRING,`2010` STRING,`2011` STRING,\n",
    "`2012` STRING,`2013` STRING,`2014` STRING,`2015` STRING,\n",
    "`2016` STRING\n",
    ")\n",
    "ROW FORMAT DELIMITED\n",
    "FIELDS TERMINATED BY \",\"\n",
    "LINES TERMINATED BY \"\\n\"\n",
    "STORED AS TEXTFILE\n",
    "LOCATION \"/user/uned/databases/ejer2_hive/external/TablaExternaGDP\";\n",
    "\n",
    "--Creamos TablaInternaGDP en la BD ejer2_hive\n",
    "CREATE TABLE ejer2_hive.TablaInternaGDP AS SELECT * FROM ejer2_hive.TablaExternaGDP;\n",
    "\n",
    "--Creamos TablaExternaEscolarizacion en la BD ejer2_hive\n",
    "CREATE EXTERNAL TABLE ejer2_hive.TablaExternaEscolarizacion ( Country_Name STRING,\n",
    "Country_Code STRING,\n",
    "Indicator_Name STRING,\n",
    "Indicator_Code STRING,\n",
    "`1960` STRING,`1961` STRING,`1962` STRING,`1963` STRING,\n",
    "`1964` STRING,`1965` STRING,`1966` STRING,`1967` STRING,\n",
    "`1968` STRING,`1969` STRING,`1970` STRING,`1971` STRING,\n",
    "`1972` STRING,`1973` STRING,`1974` STRING,`1975` STRING,\n",
    "`1976` STRING,`1977` STRING,`1978` STRING,`1979` STRING,\n",
    "`1980` STRING,`1981` STRING,`1982` STRING,`1983` STRING,\n",
    "`1984` STRING,`1985` STRING,`1986` STRING,`1987` STRING,\n",
    "`1988` STRING,`1989` STRING,`1990` STRING,`1991` STRING,\n",
    "`1992` STRING,`1993` STRING,`1994` STRING,`1995` STRING,\n",
    "`1996` STRING,`1997` STRING,`1998` STRING,`1999` STRING,\n",
    "`2000` STRING,`2001` STRING,`2002` STRING,`2003` STRING,\n",
    "`2004` STRING,`2005` STRING,`2006` STRING,`2007` STRING,\n",
    "`2008` STRING,`2009` STRING,`2010` STRING,`2011` STRING,\n",
    "`2012` STRING,`2013` STRING,`2014` STRING,`2015` STRING,\n",
    "`2016` STRING\n",
    ")\n",
    "ROW FORMAT DELIMITED\n",
    "FIELDS TERMINATED BY \",\"\n",
    "LINES TERMINATED BY \"\\n\"\n",
    "STORED AS TEXTFILE\n",
    "LOCATION \"/user/uned/databases/ejer2_hive/external/TablaExternaEscolarizacion\";\n",
    "\n",
    "--Creamos TablaInternaEscolarizacion en la BD ejer2_hive\n",
    "CREATE TABLE ejer2_hive.TablaInternaEscolarizacion AS SELECT * FROM ejer2_hive.TablaExternaEscolarizacion;\n"
   ]
  },
  {
   "cell_type": "code",
   "execution_count": 9,
   "metadata": {
    "collapsed": false
   },
   "outputs": [
    {
     "name": "stdout",
     "output_type": "stream",
     "text": [
      "2019-11-06 23:58:50,357 WARN  [main] mapreduce.TableMapReduceUtil: The hbase-prefix-tree module jar containing PrefixTreeCodec is not present.  Continuing without it.\n",
      "scan complete in 2ms\n",
      "Connecting to jdbc:hive2://localhost:10000/default\n",
      "Connected to: Apache Hive (version 1.1.0-cdh5.7.0)\n",
      "Driver: Hive JDBC (version 1.1.0-cdh5.7.0)\n",
      "Transaction isolation: TRANSACTION_REPEATABLE_READ\n",
      "0: jdbc:hive2://localhost:10000/default> \n",
      "s: jdbc:hive2://localhost:10000/default> --Creamos la BD que contendra las tabla \n",
      "e: jdbc:hive2://localhost:10000/default> CREATE DATABASE IF NOT EXISTS ejer2_hiv \n",
      "': jdbc:hive2://localhost:10000/default> COMMENT 'BD para el ejercicio 2 del TP1 \n",
      "ve';dbc:hive2://localhost:10000/default> LOCATION '/user/uned/databases/ejer2_hi \n",
      "INFO  : Compiling command(queryId=hive_20191106235858_deba9d25-ba82-4ebd-9798-6cceba6c7db9): CREATE DATABASE IF NOT EXISTS ejer2_hive\n",
      "COMMENT 'BD para el ejercicio 2 del TP1'\n",
      "LOCATION '/user/uned/databases/ejer2_hive'\n",
      "INFO  : Semantic Analysis Completed\n",
      "INFO  : Returning Hive schema: Schema(fieldSchemas:null, properties:null)\n",
      "INFO  : Completed compiling command(queryId=hive_20191106235858_deba9d25-ba82-4ebd-9798-6cceba6c7db9); Time taken: 0.003 seconds\n",
      "INFO  : Concurrency mode is disabled, not creating a lock manager\n",
      "INFO  : Executing command(queryId=hive_20191106235858_deba9d25-ba82-4ebd-9798-6cceba6c7db9): CREATE DATABASE IF NOT EXISTS ejer2_hive\n",
      "COMMENT 'BD para el ejercicio 2 del TP1'\n",
      "LOCATION '/user/uned/databases/ejer2_hive'\n",
      "INFO  : Starting task [Stage-0:DDL] in serial mode\n",
      "INFO  : Completed executing command(queryId=hive_20191106235858_deba9d25-ba82-4ebd-9798-6cceba6c7db9); Time taken: 0.011 seconds\n",
      "INFO  : OK\n",
      "No rows affected (0.077 seconds)\n",
      "0: jdbc:hive2://localhost:10000/default> \n",
      "0: jdbc:hive2://localhost:10000/default> --Borramos las tablas si existen.\n",
      "ternaGDP;ive2://localhost:10000/default> DROP TABLE IF EXISTS ejer2_hive.TablaIn \n",
      "INFO  : Compiling command(queryId=hive_20191106235858_3de12950-e8a7-43f6-aa01-1aba53ad8328): DROP TABLE IF EXISTS ejer2_hive.TablaInternaGDP\n",
      "INFO  : Semantic Analysis Completed\n",
      "INFO  : Returning Hive schema: Schema(fieldSchemas:null, properties:null)\n",
      "INFO  : Completed compiling command(queryId=hive_20191106235858_3de12950-e8a7-43f6-aa01-1aba53ad8328); Time taken: 0.021 seconds\n",
      "INFO  : Concurrency mode is disabled, not creating a lock manager\n",
      "INFO  : Executing command(queryId=hive_20191106235858_3de12950-e8a7-43f6-aa01-1aba53ad8328): DROP TABLE IF EXISTS ejer2_hive.TablaInternaGDP\n",
      "INFO  : Starting task [Stage-0:DDL] in serial mode\n",
      "INFO  : Completed executing command(queryId=hive_20191106235858_3de12950-e8a7-43f6-aa01-1aba53ad8328); Time taken: 0.086 seconds\n",
      "INFO  : OK\n",
      "No rows affected (0.112 seconds)\n",
      "ternaGDP;ive2://localhost:10000/default> DROP TABLE IF EXISTS ejer2_hive.TablaEx \n",
      "INFO  : Compiling command(queryId=hive_20191106235858_2fe47ebf-8d70-4692-975a-e6eef9c5f8ac): DROP TABLE IF EXISTS ejer2_hive.TablaExternaGDP\n",
      "INFO  : Semantic Analysis Completed\n",
      "INFO  : Returning Hive schema: Schema(fieldSchemas:null, properties:null)\n",
      "INFO  : Completed compiling command(queryId=hive_20191106235858_2fe47ebf-8d70-4692-975a-e6eef9c5f8ac); Time taken: 0.022 seconds\n",
      "INFO  : Concurrency mode is disabled, not creating a lock manager\n",
      "INFO  : Executing command(queryId=hive_20191106235858_2fe47ebf-8d70-4692-975a-e6eef9c5f8ac): DROP TABLE IF EXISTS ejer2_hive.TablaExternaGDP\n",
      "INFO  : Starting task [Stage-0:DDL] in serial mode\n",
      "INFO  : Completed executing command(queryId=hive_20191106235858_2fe47ebf-8d70-4692-975a-e6eef9c5f8ac); Time taken: 0.082 seconds\n",
      "INFO  : OK\n",
      "No rows affected (0.111 seconds)\n",
      "ternaEscolarizacion;lhost:10000/default> DROP TABLE IF EXISTS ejer2_hive.TablaIn \n",
      "INFO  : Compiling command(queryId=hive_20191106235858_c39d3e7f-1d15-4a8b-be24-641a8a1f2cbb): DROP TABLE IF EXISTS ejer2_hive.TablaInternaEscolarizacion\n",
      "INFO  : Semantic Analysis Completed\n",
      "INFO  : Returning Hive schema: Schema(fieldSchemas:null, properties:null)\n",
      "INFO  : Completed compiling command(queryId=hive_20191106235858_c39d3e7f-1d15-4a8b-be24-641a8a1f2cbb); Time taken: 0.017 seconds\n",
      "INFO  : Concurrency mode is disabled, not creating a lock manager\n",
      "INFO  : Executing command(queryId=hive_20191106235858_c39d3e7f-1d15-4a8b-be24-641a8a1f2cbb): DROP TABLE IF EXISTS ejer2_hive.TablaInternaEscolarizacion\n",
      "INFO  : Starting task [Stage-0:DDL] in serial mode\n",
      "INFO  : Completed executing command(queryId=hive_20191106235858_c39d3e7f-1d15-4a8b-be24-641a8a1f2cbb); Time taken: 0.071 seconds\n",
      "INFO  : OK\n",
      "No rows affected (0.094 seconds)\n",
      "ternaEscolarizacion;lhost:10000/default> DROP TABLE IF EXISTS ejer2_hive.TablaEx \n",
      "INFO  : Compiling command(queryId=hive_20191106235858_ef822d70-69ea-405c-89bf-ce7f64972955): DROP TABLE IF EXISTS ejer2_hive.TablaExternaEscolarizacion\n",
      "INFO  : Semantic Analysis Completed\n",
      "INFO  : Returning Hive schema: Schema(fieldSchemas:null, properties:null)\n",
      "INFO  : Completed compiling command(queryId=hive_20191106235858_ef822d70-69ea-405c-89bf-ce7f64972955); Time taken: 0.018 seconds\n",
      "INFO  : Concurrency mode is disabled, not creating a lock manager\n",
      "INFO  : Executing command(queryId=hive_20191106235858_ef822d70-69ea-405c-89bf-ce7f64972955): DROP TABLE IF EXISTS ejer2_hive.TablaExternaEscolarizacion\n",
      "INFO  : Starting task [Stage-0:DDL] in serial mode\n",
      "INFO  : Completed executing command(queryId=hive_20191106235858_ef822d70-69ea-405c-89bf-ce7f64972955); Time taken: 0.063 seconds\n",
      "INFO  : OK\n",
      "No rows affected (0.086 seconds)\n",
      "0: jdbc:hive2://localhost:10000/default> \n",
      "2_hivec:hive2://localhost:10000/default> --Creamos TablaExternaGDP en la BD ejer \n",
      "xternaGDP ( Country_Name STRING,default> CREATE EXTERNAL TABLE ejer2_hive.TablaE \n",
      "0: jdbc:hive2://localhost:10000/default> Country_Code STRING,\n",
      "0: jdbc:hive2://localhost:10000/default> Indicator_Name STRING,\n",
      "0: jdbc:hive2://localhost:10000/default> Indicator_Code STRING,\n",
      "NG,`1963` STRING,ocalhost:10000/default> `1960` STRING,`1961` STRING,`1962` STRI \n",
      "NG,`1967` STRING,ocalhost:10000/default> `1964` STRING,`1965` STRING,`1966` STRI \n",
      "NG,`1971` STRING,ocalhost:10000/default> `1968` STRING,`1969` STRING,`1970` STRI \n",
      "NG,`1975` STRING,ocalhost:10000/default> `1972` STRING,`1973` STRING,`1974` STRI \n",
      "NG,`1979` STRING,ocalhost:10000/default> `1976` STRING,`1977` STRING,`1978` STRI \n",
      "NG,`1983` STRING,ocalhost:10000/default> `1980` STRING,`1981` STRING,`1982` STRI \n",
      "NG,`dbc:hive2://localhost:10000/default> `1984` STRING,`1985` STRING,`1986` STRI 1987` STRING,\n",
      "NG,`1991` STRING,ocalhost:10000/default> `1988` STRING,`1989` STRING,`1990` STRI \n",
      "NG,`1995` STRING,ocalhost:10000/default> `1992` STRING,`1993` STRING,`1994` STRI \n",
      "NG,`1999` STRING,ocalhost:10000/default> `1996` STRING,`1997` STRING,`1998` STRI \n",
      "NG,`2003` STRING,ocalhost:10000/default> `2000` STRING,`2001` STRING,`2002` STRI \n",
      "NG,`2007` STRING,ocalhost:10000/default> `2004` STRING,`2005` STRING,`2006` STRI \n",
      "NG,`2011` STRING,ocalhost:10000/default> `2008` STRING,`2009` STRING,`2010` STRI \n",
      "NG,`2015` STRING,ocalhost:10000/default> `2012` STRING,`2013` STRING,`2014` STRI \n",
      "0: jdbc:hive2://localhost:10000/default> `2016` STRING\n",
      "0: jdbc:hive2://localhost:10000/default> )\n",
      "0: jdbc:hive2://localhost:10000/default> ROW FORMAT DELIMITED\n",
      "0: jdbc:hive2://localhost:10000/default> FIELDS TERMINATED BY \",\"\n",
      "0: jdbc:hive2://localhost:10000/default> LINES TERMINATED BY \"\\n\"\n",
      "0: jdbc:hive2://localhost:10000/default> STORED AS TEXTFILE\n",
      "ve/external/TablaExternaGDP\";00/default> LOCATION \"/user/uned/databases/ejer2_hi \n",
      "INFO  : Compiling command(queryId=hive_20191106235858_df53d48d-2649-4ec3-8f91-7316d525c413): CREATE EXTERNAL TABLE ejer2_hive.TablaExternaGDP ( Country_Name STRING,\n",
      "Country_Code STRING,\n",
      "Indicator_Name STRING,\n",
      "Indicator_Code STRING,\n",
      "`1960` STRING,`1961` STRING,`1962` STRING,`1963` STRING,\n",
      "`1964` STRING,`1965` STRING,`1966` STRING,`1967` STRING,\n",
      "`1968` STRING,`1969` STRING,`1970` STRING,`1971` STRING,\n",
      "`1972` STRING,`1973` STRING,`1974` STRING,`1975` STRING,\n",
      "`1976` STRING,`1977` STRING,`1978` STRING,`1979` STRING,\n",
      "`1980` STRING,`1981` STRING,`1982` STRING,`1983` STRING,\n",
      "`1984` STRING,`1985` STRING,`1986` STRING,`1987` STRING,\n",
      "`1988` STRING,`1989` STRING,`1990` STRING,`1991` STRING,\n",
      "`1992` STRING,`1993` STRING,`1994` STRING,`1995` STRING,\n",
      "`1996` STRING,`1997` STRING,`1998` STRING,`1999` STRING,\n",
      "`2000` STRING,`2001` STRING,`2002` STRING,`2003` STRING,\n",
      "`2004` STRING,`2005` STRING,`2006` STRING,`2007` STRING,\n",
      "`2008` STRING,`2009` STRING,`2010` STRING,`2011` STRING,\n",
      "`2012` STRING,`2013` STRING,`2014` STRING,`2015` STRING,\n",
      "`2016` STRING\n",
      ")\n",
      "ROW FORMAT DELIMITED\n",
      "FIELDS TERMINATED BY \",\"\n",
      "LINES TERMINATED BY \"\\n\"\n",
      "STORED AS TEXTFILE\n",
      "LOCATION \"/user/uned/databases/ejer2_hive/external/TablaExternaGDP\"\n",
      "INFO  : Semantic Analysis Completed\n",
      "INFO  : Returning Hive schema: Schema(fieldSchemas:null, properties:null)\n",
      "INFO  : Completed compiling command(queryId=hive_20191106235858_df53d48d-2649-4ec3-8f91-7316d525c413); Time taken: 0.011 seconds\n",
      "INFO  : Concurrency mode is disabled, not creating a lock manager\n",
      "INFO  : Executing command(queryId=hive_20191106235858_df53d48d-2649-4ec3-8f91-7316d525c413): CREATE EXTERNAL TABLE ejer2_hive.TablaExternaGDP ( Country_Name STRING,\n",
      "Country_Code STRING,\n",
      "Indicator_Name STRING,\n",
      "Indicator_Code STRING,\n",
      "`1960` STRING,`1961` STRING,`1962` STRING,`1963` STRING,\n",
      "`1964` STRING,`1965` STRING,`1966` STRING,`1967` STRING,\n",
      "`1968` STRING,`1969` STRING,`1970` STRING,`1971` STRING,\n",
      "`1972` STRING,`1973` STRING,`1974` STRING,`1975` STRING,\n",
      "`1976` STRING,`1977` STRING,`1978` STRING,`1979` STRING,\n",
      "`1980` STRING,`1981` STRING,`1982` STRING,`1983` STRING,\n",
      "`1984` STRING,`1985` STRING,`1986` STRING,`1987` STRING,\n",
      "`1988` STRING,`1989` STRING,`1990` STRING,`1991` STRING,\n",
      "`1992` STRING,`1993` STRING,`1994` STRING,`1995` STRING,\n",
      "`1996` STRING,`1997` STRING,`1998` STRING,`1999` STRING,\n",
      "`2000` STRING,`2001` STRING,`2002` STRING,`2003` STRING,\n",
      "`2004` STRING,`2005` STRING,`2006` STRING,`2007` STRING,\n",
      "`2008` STRING,`2009` STRING,`2010` STRING,`2011` STRING,\n",
      "`2012` STRING,`2013` STRING,`2014` STRING,`2015` STRING,\n",
      "`2016` STRING\n",
      ")\n",
      "ROW FORMAT DELIMITED\n",
      "FIELDS TERMINATED BY \",\"\n",
      "LINES TERMINATED BY \"\\n\"\n",
      "STORED AS TEXTFILE\n",
      "LOCATION \"/user/uned/databases/ejer2_hive/external/TablaExternaGDP\"\n",
      "INFO  : Starting task [Stage-0:DDL] in serial mode\n",
      "INFO  : Completed executing command(queryId=hive_20191106235858_df53d48d-2649-4ec3-8f91-7316d525c413); Time taken: 0.042 seconds\n",
      "INFO  : OK\n",
      "No rows affected (0.071 seconds)\n",
      "0: jdbc:hive2://localhost:10000/default> \n",
      "2_hivec:hive2://localhost:10000/default> --Creamos TablaInternaGDP en la BD ejer \n",
      " AS SELECT * FROM ejer2_hive.TablaExternaGDP;TE TABLE ejer2_hive.TablaInternaGDP \n",
      "INFO  : Compiling command(queryId=hive_20191106235858_6651d3c7-d33f-4cbb-bb41-6ccc31722252): CREATE TABLE ejer2_hive.TablaInternaGDP AS SELECT * FROM ejer2_hive.TablaExternaGDP\n",
      "INFO  : Semantic Analysis Completed\n",
      "INFO  : Returning Hive schema: Schema(fieldSchemas:[FieldSchema(name:tablaexternagdp.country_name, type:string, comment:null), FieldSchema(name:tablaexternagdp.country_code, type:string, comment:null), FieldSchema(name:tablaexternagdp.indicator_name, type:string, comment:null), FieldSchema(name:tablaexternagdp.indicator_code, type:string, comment:null), FieldSchema(name:tablaexternagdp.1960, type:string, comment:null), FieldSchema(name:tablaexternagdp.1961, type:string, comment:null), FieldSchema(name:tablaexternagdp.1962, type:string, comment:null), FieldSchema(name:tablaexternagdp.1963, type:string, comment:null), FieldSchema(name:tablaexternagdp.1964, type:string, comment:null), FieldSchema(name:tablaexternagdp.1965, type:string, comment:null), FieldSchema(name:tablaexternagdp.1966, type:string, comment:null), FieldSchema(name:tablaexternagdp.1967, type:string, comment:null), FieldSchema(name:tablaexternagdp.1968, type:string, comment:null), FieldSchema(name:tablaexternagdp.1969, type:string, comment:null), FieldSchema(name:tablaexternagdp.1970, type:string, comment:null), FieldSchema(name:tablaexternagdp.1971, type:string, comment:null), FieldSchema(name:tablaexternagdp.1972, type:string, comment:null), FieldSchema(name:tablaexternagdp.1973, type:string, comment:null), FieldSchema(name:tablaexternagdp.1974, type:string, comment:null), FieldSchema(name:tablaexternagdp.1975, type:string, comment:null), FieldSchema(name:tablaexternagdp.1976, type:string, comment:null), FieldSchema(name:tablaexternagdp.1977, type:string, comment:null), FieldSchema(name:tablaexternagdp.1978, type:string, comment:null), FieldSchema(name:tablaexternagdp.1979, type:string, comment:null), FieldSchema(name:tablaexternagdp.1980, type:string, comment:null), FieldSchema(name:tablaexternagdp.1981, type:string, comment:null), FieldSchema(name:tablaexternagdp.1982, type:string, comment:null), FieldSchema(name:tablaexternagdp.1983, type:string, comment:null), FieldSchema(name:tablaexternagdp.1984, type:string, comment:null), FieldSchema(name:tablaexternagdp.1985, type:string, comment:null), FieldSchema(name:tablaexternagdp.1986, type:string, comment:null), FieldSchema(name:tablaexternagdp.1987, type:string, comment:null), FieldSchema(name:tablaexternagdp.1988, type:string, comment:null), FieldSchema(name:tablaexternagdp.1989, type:string, comment:null), FieldSchema(name:tablaexternagdp.1990, type:string, comment:null), FieldSchema(name:tablaexternagdp.1991, type:string, comment:null), FieldSchema(name:tablaexternagdp.1992, type:string, comment:null), FieldSchema(name:tablaexternagdp.1993, type:string, comment:null), FieldSchema(name:tablaexternagdp.1994, type:string, comment:null), FieldSchema(name:tablaexternagdp.1995, type:string, comment:null), FieldSchema(name:tablaexternagdp.1996, type:string, comment:null), FieldSchema(name:tablaexternagdp.1997, type:string, comment:null), FieldSchema(name:tablaexternagdp.1998, type:string, comment:null), FieldSchema(name:tablaexternagdp.1999, type:string, comment:null), FieldSchema(name:tablaexternagdp.2000, type:string, comment:null), FieldSchema(name:tablaexternagdp.2001, type:string, comment:null), FieldSchema(name:tablaexternagdp.2002, type:string, comment:null), FieldSchema(name:tablaexternagdp.2003, type:string, comment:null), FieldSchema(name:tablaexternagdp.2004, type:string, comment:null), FieldSchema(name:tablaexternagdp.2005, type:string, comment:null), FieldSchema(name:tablaexternagdp.2006, type:string, comment:null), FieldSchema(name:tablaexternagdp.2007, type:string, comment:null), FieldSchema(name:tablaexternagdp.2008, type:string, comment:null), FieldSchema(name:tablaexternagdp.2009, type:string, comment:null), FieldSchema(name:tablaexternagdp.2010, type:string, comment:null), FieldSchema(name:tablaexternagdp.2011, type:string, comment:null), FieldSchema(name:tablaexternagdp.2012, type:string, comment:null), FieldSchema(name:tablaexternagdp.2013, type:string, comment:null), FieldSchema(name:tablaexternagdp.2014, type:string, comment:null), FieldSchema(name:tablaexternagdp.2015, type:string, comment:null), FieldSchema(name:tablaexternagdp.2016, type:string, comment:null)], properties:null)\n",
      "INFO  : Completed compiling command(queryId=hive_20191106235858_6651d3c7-d33f-4cbb-bb41-6ccc31722252); Time taken: 0.085 seconds\n",
      "INFO  : Concurrency mode is disabled, not creating a lock manager\n",
      "INFO  : Executing command(queryId=hive_20191106235858_6651d3c7-d33f-4cbb-bb41-6ccc31722252): CREATE TABLE ejer2_hive.TablaInternaGDP AS SELECT * FROM ejer2_hive.TablaExternaGDP\n",
      "INFO  : Query ID = hive_20191106235858_6651d3c7-d33f-4cbb-bb41-6ccc31722252\n",
      "INFO  : Total jobs = 3\n",
      "INFO  : Launching Job 1 out of 3\n",
      "INFO  : Starting task [Stage-1:MAPRED] in serial mode\n",
      "INFO  : Number of reduce tasks is set to 0 since there's no reduce operator\n",
      "INFO  : Starting Job = job_1573080346004_0006, Tracking URL = http://quickstart.cloudera:8088/proxy/application_1573080346004_0006/\n",
      "INFO  : Kill Command = /usr/lib/hadoop/bin/hadoop job  -kill job_1573080346004_0006\n",
      "INFO  : Hadoop job information for Stage-1: number of mappers: 1; number of reducers: 0\n",
      "INFO  : 2019-11-06 23:58:59,590 Stage-1 map = 0%,  reduce = 0%\n",
      "INFO  : 2019-11-06 23:59:04,820 Stage-1 map = 100%,  reduce = 0%, Cumulative CPU 2.04 sec\n",
      "INFO  : MapReduce Total cumulative CPU time: 2 seconds 40 msec\n",
      "INFO  : Ended Job = job_1573080346004_0006\n",
      "INFO  : Starting task [Stage-7:CONDITIONAL] in serial mode\n",
      "INFO  : Stage-4 is selected by condition resolver.\n",
      "INFO  : Stage-3 is filtered out by condition resolver.\n",
      "INFO  : Stage-5 is filtered out by condition resolver.\n",
      "INFO  : Starting task [Stage-4:MOVE] in serial mode\n",
      "INFO  : Moving data to: hdfs://quickstart.cloudera:8020/user/hive/warehouse/.hive-staging_hive_2019-11-06_23-58-52_997_8474774784718623584-3/-ext-10001 from hdfs://quickstart.cloudera:8020/user/hive/warehouse/.hive-staging_hive_2019-11-06_23-58-52_997_8474774784718623584-3/-ext-10003\n",
      "INFO  : Starting task [Stage-0:MOVE] in serial mode\n",
      "INFO  : Moving data to: hdfs://quickstart.cloudera:8020/user/uned/databases/ejer2_hive/tablainternagdp from hdfs://quickstart.cloudera:8020/user/hive/warehouse/.hive-staging_hive_2019-11-06_23-58-52_997_8474774784718623584-3/-ext-10001\n",
      "INFO  : Starting task [Stage-8:DDL] in serial mode\n",
      "INFO  : Starting task [Stage-2:STATS] in serial mode\n",
      "INFO  : Table ejer2_hive.tablainternagdp stats: [numFiles=1, numRows=264, totalSize=205412, rawDataSize=205148]\n",
      "INFO  : MapReduce Jobs Launched: \n",
      "INFO  : Stage-Stage-1: Map: 1   Cumulative CPU: 2.04 sec   HDFS Read: 215153 HDFS Write: 205499 SUCCESS\n",
      "INFO  : Total MapReduce CPU Time Spent: 2 seconds 40 msec\n",
      "INFO  : Completed executing command(queryId=hive_20191106235858_6651d3c7-d33f-4cbb-bb41-6ccc31722252); Time taken: 13.113 seconds\n",
      "INFO  : OK\n",
      "No rows affected (13.214 seconds)\n",
      "0: jdbc:hive2://localhost:10000/default> \n",
      " la BD ejer2_hiveocalhost:10000/default> --Creamos TablaExternaEscolarizacion en \n",
      "xternaEscolarizacion ( Country_Name STRING,EATE EXTERNAL TABLE ejer2_hive.TablaE \n",
      "0: jdbc:hive2://localhost:10000/default> Country_Code STRING,\n",
      "0: jdbc:hive2://localhost:10000/default> Indicator_Name STRING,\n",
      "0: jdbc:hive2://localhost:10000/default> Indicator_Code STRING,\n",
      "NG,`1963` STRING,ocalhost:10000/default> `1960` STRING,`1961` STRING,`1962` STRI \n",
      "NG,`1967` STRING,ocalhost:10000/default> `1964` STRING,`1965` STRING,`1966` STRI \n",
      "NG,`1971` STRING,ocalhost:10000/default> `1968` STRING,`1969` STRING,`1970` STRI \n",
      "NG,`1975` STRING,ocalhost:10000/default> `1972` STRING,`1973` STRING,`1974` STRI \n",
      "NG,`1979` STRING,ocalhost:10000/default> `1976` STRING,`1977` STRING,`1978` STRI \n",
      "NG,`1983` STRING,ocalhost:10000/default> `1980` STRING,`1981` STRING,`1982` STRI \n",
      "NG,`1987` STRING,ocalhost:10000/default> `1984` STRING,`1985` STRING,`1986` STRI \n",
      "NG,`1991` STRING,ocalhost:10000/default> `1988` STRING,`1989` STRING,`1990` STRI \n",
      "NG,`1995` STRING,ocalhost:10000/default> `1992` STRING,`1993` STRING,`1994` STRI \n",
      "NG,`1999` STRING,ocalhost:10000/default> `1996` STRING,`1997` STRING,`1998` STRI \n",
      "NG,`2003` STRING,ocalhost:10000/default> `2000` STRING,`2001` STRING,`2002` STRI \n",
      "NG,`2007` STRING,ocalhost:10000/default> `2004` STRING,`2005` STRING,`2006` STRI \n",
      "NG,`2011` STRING,ocalhost:10000/default> `2008` STRING,`2009` STRING,`2010` STRI \n",
      "NG,`2015` STRING,ocalhost:10000/default> `2012` STRING,`2013` STRING,`2014` STRI \n",
      "0: jdbc:hive2://localhost:10000/default> `2016` STRING\n",
      "0: jdbc:hive2://localhost:10000/default> )\n",
      "0: jdbc:hive2://localhost:10000/default> ROW FORMAT DELIMITED\n",
      "0: jdbc:hive2://localhost:10000/default> FIELDS TERMINATED BY \",\"\n",
      "0: jdbc:hive2://localhost:10000/default> LINES TERMINATED BY \"\\n\"\n",
      "0: jdbc:hive2://localhost:10000/default> STORED AS TEXTFILE\n",
      "ve/external/TablaExternaEscolarizacion\"; LOCATION \"/user/uned/databases/ejer2_hi \n",
      "INFO  : Compiling command(queryId=hive_20191106235959_ad6c927a-aaee-430f-b48b-30ce0792f4d9): CREATE EXTERNAL TABLE ejer2_hive.TablaExternaEscolarizacion ( Country_Name STRING,\n",
      "Country_Code STRING,\n",
      "Indicator_Name STRING,\n",
      "Indicator_Code STRING,\n",
      "`1960` STRING,`1961` STRING,`1962` STRING,`1963` STRING,\n",
      "`1964` STRING,`1965` STRING,`1966` STRING,`1967` STRING,\n",
      "`1968` STRING,`1969` STRING,`1970` STRING,`1971` STRING,\n",
      "`1972` STRING,`1973` STRING,`1974` STRING,`1975` STRING,\n",
      "`1976` STRING,`1977` STRING,`1978` STRING,`1979` STRING,\n",
      "`1980` STRING,`1981` STRING,`1982` STRING,`1983` STRING,\n",
      "`1984` STRING,`1985` STRING,`1986` STRING,`1987` STRING,\n",
      "`1988` STRING,`1989` STRING,`1990` STRING,`1991` STRING,\n",
      "`1992` STRING,`1993` STRING,`1994` STRING,`1995` STRING,\n",
      "`1996` STRING,`1997` STRING,`1998` STRING,`1999` STRING,\n",
      "`2000` STRING,`2001` STRING,`2002` STRING,`2003` STRING,\n",
      "`2004` STRING,`2005` STRING,`2006` STRING,`2007` STRING,\n",
      "`2008` STRING,`2009` STRING,`2010` STRING,`2011` STRING,\n",
      "`2012` STRING,`2013` STRING,`2014` STRING,`2015` STRING,\n",
      "`2016` STRING\n",
      ")\n",
      "ROW FORMAT DELIMITED\n",
      "FIELDS TERMINATED BY \",\"\n",
      "LINES TERMINATED BY \"\\n\"\n",
      "STORED AS TEXTFILE\n",
      "LOCATION \"/user/uned/databases/ejer2_hive/external/TablaExternaEscolarizacion\"\n",
      "INFO  : Semantic Analysis Completed\n",
      "INFO  : Returning Hive schema: Schema(fieldSchemas:null, properties:null)\n",
      "INFO  : Completed compiling command(queryId=hive_20191106235959_ad6c927a-aaee-430f-b48b-30ce0792f4d9); Time taken: 0.01 seconds\n",
      "INFO  : Concurrency mode is disabled, not creating a lock manager\n",
      "INFO  : Executing command(queryId=hive_20191106235959_ad6c927a-aaee-430f-b48b-30ce0792f4d9): CREATE EXTERNAL TABLE ejer2_hive.TablaExternaEscolarizacion ( Country_Name STRING,\n",
      "Country_Code STRING,\n",
      "Indicator_Name STRING,\n",
      "Indicator_Code STRING,\n",
      "`1960` STRING,`1961` STRING,`1962` STRING,`1963` STRING,\n",
      "`1964` STRING,`1965` STRING,`1966` STRING,`1967` STRING,\n",
      "`1968` STRING,`1969` STRING,`1970` STRING,`1971` STRING,\n",
      "`1972` STRING,`1973` STRING,`1974` STRING,`1975` STRING,\n",
      "`1976` STRING,`1977` STRING,`1978` STRING,`1979` STRING,\n",
      "`1980` STRING,`1981` STRING,`1982` STRING,`1983` STRING,\n",
      "`1984` STRING,`1985` STRING,`1986` STRING,`1987` STRING,\n",
      "`1988` STRING,`1989` STRING,`1990` STRING,`1991` STRING,\n",
      "`1992` STRING,`1993` STRING,`1994` STRING,`1995` STRING,\n",
      "`1996` STRING,`1997` STRING,`1998` STRING,`1999` STRING,\n",
      "`2000` STRING,`2001` STRING,`2002` STRING,`2003` STRING,\n",
      "`2004` STRING,`2005` STRING,`2006` STRING,`2007` STRING,\n",
      "`2008` STRING,`2009` STRING,`2010` STRING,`2011` STRING,\n",
      "`2012` STRING,`2013` STRING,`2014` STRING,`2015` STRING,\n",
      "`2016` STRING\n",
      ")\n",
      "ROW FORMAT DELIMITED\n",
      "FIELDS TERMINATED BY \",\"\n",
      "LINES TERMINATED BY \"\\n\"\n",
      "STORED AS TEXTFILE\n",
      "LOCATION \"/user/uned/databases/ejer2_hive/external/TablaExternaEscolarizacion\"\n",
      "INFO  : Starting task [Stage-0:DDL] in serial mode\n",
      "INFO  : Completed executing command(queryId=hive_20191106235959_ad6c927a-aaee-430f-b48b-30ce0792f4d9); Time taken: 0.062 seconds\n",
      "INFO  : OK\n",
      "No rows affected (0.082 seconds)\n",
      "0: jdbc:hive2://localhost:10000/default> \n",
      " la BD ejer2_hiveocalhost:10000/default> --Creamos TablaInternaEscolarizacion en \n",
      "olarizacion AS SELECT * FROM ejer2_hive.TablaExternaEscolarizacion;blaInternaEsc \n",
      "INFO  : Compiling command(queryId=hive_20191106235959_9567461f-3467-4a3f-aa73-4d65b28edff0): CREATE TABLE ejer2_hive.TablaInternaEscolarizacion AS SELECT * FROM ejer2_hive.TablaExternaEscolarizacion\n",
      "INFO  : Semantic Analysis Completed\n",
      "INFO  : Returning Hive schema: Schema(fieldSchemas:[FieldSchema(name:tablaexternaescolarizacion.country_name, type:string, comment:null), FieldSchema(name:tablaexternaescolarizacion.country_code, type:string, comment:null), FieldSchema(name:tablaexternaescolarizacion.indicator_name, type:string, comment:null), FieldSchema(name:tablaexternaescolarizacion.indicator_code, type:string, comment:null), FieldSchema(name:tablaexternaescolarizacion.1960, type:string, comment:null), FieldSchema(name:tablaexternaescolarizacion.1961, type:string, comment:null), FieldSchema(name:tablaexternaescolarizacion.1962, type:string, comment:null), FieldSchema(name:tablaexternaescolarizacion.1963, type:string, comment:null), FieldSchema(name:tablaexternaescolarizacion.1964, type:string, comment:null), FieldSchema(name:tablaexternaescolarizacion.1965, type:string, comment:null), FieldSchema(name:tablaexternaescolarizacion.1966, type:string, comment:null), FieldSchema(name:tablaexternaescolarizacion.1967, type:string, comment:null), FieldSchema(name:tablaexternaescolarizacion.1968, type:string, comment:null), FieldSchema(name:tablaexternaescolarizacion.1969, type:string, comment:null), FieldSchema(name:tablaexternaescolarizacion.1970, type:string, comment:null), FieldSchema(name:tablaexternaescolarizacion.1971, type:string, comment:null), FieldSchema(name:tablaexternaescolarizacion.1972, type:string, comment:null), FieldSchema(name:tablaexternaescolarizacion.1973, type:string, comment:null), FieldSchema(name:tablaexternaescolarizacion.1974, type:string, comment:null), FieldSchema(name:tablaexternaescolarizacion.1975, type:string, comment:null), FieldSchema(name:tablaexternaescolarizacion.1976, type:string, comment:null), FieldSchema(name:tablaexternaescolarizacion.1977, type:string, comment:null), FieldSchema(name:tablaexternaescolarizacion.1978, type:string, comment:null), FieldSchema(name:tablaexternaescolarizacion.1979, type:string, comment:null), FieldSchema(name:tablaexternaescolarizacion.1980, type:string, comment:null), FieldSchema(name:tablaexternaescolarizacion.1981, type:string, comment:null), FieldSchema(name:tablaexternaescolarizacion.1982, type:string, comment:null), FieldSchema(name:tablaexternaescolarizacion.1983, type:string, comment:null), FieldSchema(name:tablaexternaescolarizacion.1984, type:string, comment:null), FieldSchema(name:tablaexternaescolarizacion.1985, type:string, comment:null), FieldSchema(name:tablaexternaescolarizacion.1986, type:string, comment:null), FieldSchema(name:tablaexternaescolarizacion.1987, type:string, comment:null), FieldSchema(name:tablaexternaescolarizacion.1988, type:string, comment:null), FieldSchema(name:tablaexternaescolarizacion.1989, type:string, comment:null), FieldSchema(name:tablaexternaescolarizacion.1990, type:string, comment:null), FieldSchema(name:tablaexternaescolarizacion.1991, type:string, comment:null), FieldSchema(name:tablaexternaescolarizacion.1992, type:string, comment:null), FieldSchema(name:tablaexternaescolarizacion.1993, type:string, comment:null), FieldSchema(name:tablaexternaescolarizacion.1994, type:string, comment:null), FieldSchema(name:tablaexternaescolarizacion.1995, type:string, comment:null), FieldSchema(name:tablaexternaescolarizacion.1996, type:string, comment:null), FieldSchema(name:tablaexternaescolarizacion.1997, type:string, comment:null), FieldSchema(name:tablaexternaescolarizacion.1998, type:string, comment:null), FieldSchema(name:tablaexternaescolarizacion.1999, type:string, comment:null), FieldSchema(name:tablaexternaescolarizacion.2000, type:string, comment:null), FieldSchema(name:tablaexternaescolarizacion.2001, type:string, comment:null), FieldSchema(name:tablaexternaescolarizacion.2002, type:string, comment:null), FieldSchema(name:tablaexternaescolarizacion.2003, type:string, comment:null), FieldSchema(name:tablaexternaescolarizacion.2004, type:string, comment:null), FieldSchema(name:tablaexternaescolarizacion.2005, type:string, comment:null), FieldSchema(name:tablaexternaescolarizacion.2006, type:string, comment:null), FieldSchema(name:tablaexternaescolarizacion.2007, type:string, comment:null), FieldSchema(name:tablaexternaescolarizacion.2008, type:string, comment:null), FieldSchema(name:tablaexternaescolarizacion.2009, type:string, comment:null), FieldSchema(name:tablaexternaescolarizacion.2010, type:string, comment:null), FieldSchema(name:tablaexternaescolarizacion.2011, type:string, comment:null), FieldSchema(name:tablaexternaescolarizacion.2012, type:string, comment:null), FieldSchema(name:tablaexternaescolarizacion.2013, type:string, comment:null), FieldSchema(name:tablaexternaescolarizacion.2014, type:string, comment:null), FieldSchema(name:tablaexternaescolarizacion.2015, type:string, comment:null), FieldSchema(name:tablaexternaescolarizacion.2016, type:string, comment:null)], properties:null)\n",
      "INFO  : Completed compiling command(queryId=hive_20191106235959_9567461f-3467-4a3f-aa73-4d65b28edff0); Time taken: 0.081 seconds\n",
      "INFO  : Concurrency mode is disabled, not creating a lock manager\n",
      "INFO  : Executing command(queryId=hive_20191106235959_9567461f-3467-4a3f-aa73-4d65b28edff0): CREATE TABLE ejer2_hive.TablaInternaEscolarizacion AS SELECT * FROM ejer2_hive.TablaExternaEscolarizacion\n",
      "INFO  : Query ID = hive_20191106235959_9567461f-3467-4a3f-aa73-4d65b28edff0\n",
      "INFO  : Total jobs = 3\n",
      "INFO  : Launching Job 1 out of 3\n",
      "INFO  : Starting task [Stage-1:MAPRED] in serial mode\n",
      "INFO  : Number of reduce tasks is set to 0 since there's no reduce operator\n",
      "INFO  : Starting Job = job_1573080346004_0007, Tracking URL = http://quickstart.cloudera:8088/proxy/application_1573080346004_0007/\n",
      "INFO  : Kill Command = /usr/lib/hadoop/bin/hadoop job  -kill job_1573080346004_0007\n",
      "INFO  : Hadoop job information for Stage-1: number of mappers: 1; number of reducers: 0\n",
      "INFO  : 2019-11-06 23:59:11,953 Stage-1 map = 0%,  reduce = 0%\n",
      "INFO  : 2019-11-06 23:59:16,124 Stage-1 map = 100%,  reduce = 0%, Cumulative CPU 1.14 sec\n",
      "INFO  : MapReduce Total cumulative CPU time: 1 seconds 140 msec\n",
      "INFO  : Ended Job = job_1573080346004_0007\n",
      "INFO  : Starting task [Stage-7:CONDITIONAL] in serial mode\n",
      "INFO  : Stage-4 is selected by condition resolver.\n",
      "INFO  : Stage-3 is filtered out by condition resolver.\n",
      "INFO  : Stage-5 is filtered out by condition resolver.\n",
      "INFO  : Starting task [Stage-4:MOVE] in serial mode\n",
      "INFO  : Moving data to: hdfs://quickstart.cloudera:8020/user/hive/warehouse/.hive-staging_hive_2019-11-06_23-59-06_400_7158503226849752658-3/-ext-10001 from hdfs://quickstart.cloudera:8020/user/hive/warehouse/.hive-staging_hive_2019-11-06_23-59-06_400_7158503226849752658-3/-ext-10003\n",
      "INFO  : Starting task [Stage-0:MOVE] in serial mode\n",
      "INFO  : Moving data to: hdfs://quickstart.cloudera:8020/user/uned/databases/ejer2_hive/tablainternaescolarizacion from hdfs://quickstart.cloudera:8020/user/hive/warehouse/.hive-staging_hive_2019-11-06_23-59-06_400_7158503226849752658-3/-ext-10001\n",
      "INFO  : Starting task [Stage-8:DDL] in serial mode\n",
      "INFO  : Starting task [Stage-2:STATS] in serial mode\n",
      "INFO  : Table ejer2_hive.tablainternaescolarizacion stats: [numFiles=1, numRows=264, totalSize=62296, rawDataSize=62032]\n",
      "INFO  : MapReduce Jobs Launched: \n",
      "INFO  : Stage-Stage-1: Map: 1   Cumulative CPU: 1.14 sec   HDFS Read: 73027 HDFS Write: 62393 SUCCESS\n",
      "INFO  : Total MapReduce CPU Time Spent: 1 seconds 140 msec\n",
      "INFO  : Completed executing command(queryId=hive_20191106235959_9567461f-3467-4a3f-aa73-4d65b28edff0); Time taken: 10.836 seconds\n",
      "INFO  : OK\n",
      "No rows affected (10.925 seconds)\n",
      "0: jdbc:hive2://localhost:10000/default> \n",
      "Closing: 0: jdbc:hive2://localhost:10000/default\n"
     ]
    }
   ],
   "source": [
    "! beeline -u \"jdbc:hive2://localhost:10000/default\" -f create_tables.hql"
   ]
  },
  {
   "cell_type": "code",
   "execution_count": 10,
   "metadata": {
    "collapsed": false
   },
   "outputs": [
    {
     "name": "stdout",
     "output_type": "stream",
     "text": [
      "put: `/user/uned/databases/ejer2_hive/external/TablaExternaGDP/API_NY.GDP.MKTP.CD_DS2_en_csv_v2.csv': File exists\n",
      "Found 1 items\n",
      "-rw-r--r--   1 root supergroup     205586 2019-11-06 23:55 /user/uned/databases/ejer2_hive/external/TablaExternaGDP/API_NY.GDP.MKTP.CD_DS2_en_csv_v2.csv\n"
     ]
    }
   ],
   "source": [
    "#Copiamos los datos a HDFS...\n",
    "! hadoop fs -put /media/notebook/datos/API_NY.GDP.MKTP.CD_DS2_en_csv_v2.csv \\\n",
    "/user/uned/databases/ejer2_hive/external/TablaExternaGDP\n",
    "! hadoop fs -ls /user/uned/databases/ejer2_hive/external/TablaExternaGDP"
   ]
  },
  {
   "cell_type": "code",
   "execution_count": 11,
   "metadata": {
    "collapsed": false
   },
   "outputs": [
    {
     "name": "stdout",
     "output_type": "stream",
     "text": [
      "put: `/user/uned/databases/ejer2_hive/external/TablaExternaEscolarizacion/API_SE.PRM.UNER.FE_DS2_en_csv_v2.csv': File exists\n",
      "Found 1 items\n",
      "-rw-r--r--   1 root supergroup      63371 2019-11-06 23:54 /user/uned/databases/ejer2_hive/external/TablaExternaEscolarizacion/API_SE.PRM.UNER.FE_DS2_en_csv_v2.csv\n"
     ]
    }
   ],
   "source": [
    "#Copiamos los datos a HDFS...\n",
    "! hadoop fs -put /media/notebook/datos/API_SE.PRM.UNER.FE_DS2_en_csv_v2.csv \\\n",
    "/user/uned/databases/ejer2_hive/external/TablaExternaEscolarizacion\n",
    "! hadoop fs -ls /user/uned/databases/ejer2_hive/external/TablaExternaEscolarizacion"
   ]
  },
  {
   "cell_type": "code",
   "execution_count": 12,
   "metadata": {
    "collapsed": false
   },
   "outputs": [
    {
     "name": "stdout",
     "output_type": "stream",
     "text": [
      "2019-11-06 23:59:47,242 WARN  [main] mapreduce.TableMapReduceUtil: The hbase-prefix-tree module jar containing PrefixTreeCodec is not present.  Continuing without it.\n",
      "scan complete in 3ms\n",
      "Connecting to jdbc:hive2://localhost:10000/default\n",
      "Connected to: Apache Hive (version 1.1.0-cdh5.7.0)\n",
      "Driver: Hive JDBC (version 1.1.0-cdh5.7.0)\n",
      "Transaction isolation: TRANSACTION_REPEATABLE_READ\n",
      "INFO  : Compiling command(queryId=hive_20191106235959_d720976b-4a2e-48c7-a868-aea1d850089d): SELECT * FROM ejer2_hive.TablaExternaGDP limit 5\n",
      "INFO  : Semantic Analysis Completed\n",
      "INFO  : Returning Hive schema: Schema(fieldSchemas:[FieldSchema(name:tablaexternagdp.country_name, type:string, comment:null), FieldSchema(name:tablaexternagdp.country_code, type:string, comment:null), FieldSchema(name:tablaexternagdp.indicator_name, type:string, comment:null), FieldSchema(name:tablaexternagdp.indicator_code, type:string, comment:null), FieldSchema(name:tablaexternagdp.1960, type:string, comment:null), FieldSchema(name:tablaexternagdp.1961, type:string, comment:null), FieldSchema(name:tablaexternagdp.1962, type:string, comment:null), FieldSchema(name:tablaexternagdp.1963, type:string, comment:null), FieldSchema(name:tablaexternagdp.1964, type:string, comment:null), FieldSchema(name:tablaexternagdp.1965, type:string, comment:null), FieldSchema(name:tablaexternagdp.1966, type:string, comment:null), FieldSchema(name:tablaexternagdp.1967, type:string, comment:null), FieldSchema(name:tablaexternagdp.1968, type:string, comment:null), FieldSchema(name:tablaexternagdp.1969, type:string, comment:null), FieldSchema(name:tablaexternagdp.1970, type:string, comment:null), FieldSchema(name:tablaexternagdp.1971, type:string, comment:null), FieldSchema(name:tablaexternagdp.1972, type:string, comment:null), FieldSchema(name:tablaexternagdp.1973, type:string, comment:null), FieldSchema(name:tablaexternagdp.1974, type:string, comment:null), FieldSchema(name:tablaexternagdp.1975, type:string, comment:null), FieldSchema(name:tablaexternagdp.1976, type:string, comment:null), FieldSchema(name:tablaexternagdp.1977, type:string, comment:null), FieldSchema(name:tablaexternagdp.1978, type:string, comment:null), FieldSchema(name:tablaexternagdp.1979, type:string, comment:null), FieldSchema(name:tablaexternagdp.1980, type:string, comment:null), FieldSchema(name:tablaexternagdp.1981, type:string, comment:null), FieldSchema(name:tablaexternagdp.1982, type:string, comment:null), FieldSchema(name:tablaexternagdp.1983, type:string, comment:null), FieldSchema(name:tablaexternagdp.1984, type:string, comment:null), FieldSchema(name:tablaexternagdp.1985, type:string, comment:null), FieldSchema(name:tablaexternagdp.1986, type:string, comment:null), FieldSchema(name:tablaexternagdp.1987, type:string, comment:null), FieldSchema(name:tablaexternagdp.1988, type:string, comment:null), FieldSchema(name:tablaexternagdp.1989, type:string, comment:null), FieldSchema(name:tablaexternagdp.1990, type:string, comment:null), FieldSchema(name:tablaexternagdp.1991, type:string, comment:null), FieldSchema(name:tablaexternagdp.1992, type:string, comment:null), FieldSchema(name:tablaexternagdp.1993, type:string, comment:null), FieldSchema(name:tablaexternagdp.1994, type:string, comment:null), FieldSchema(name:tablaexternagdp.1995, type:string, comment:null), FieldSchema(name:tablaexternagdp.1996, type:string, comment:null), FieldSchema(name:tablaexternagdp.1997, type:string, comment:null), FieldSchema(name:tablaexternagdp.1998, type:string, comment:null), FieldSchema(name:tablaexternagdp.1999, type:string, comment:null), FieldSchema(name:tablaexternagdp.2000, type:string, comment:null), FieldSchema(name:tablaexternagdp.2001, type:string, comment:null), FieldSchema(name:tablaexternagdp.2002, type:string, comment:null), FieldSchema(name:tablaexternagdp.2003, type:string, comment:null), FieldSchema(name:tablaexternagdp.2004, type:string, comment:null), FieldSchema(name:tablaexternagdp.2005, type:string, comment:null), FieldSchema(name:tablaexternagdp.2006, type:string, comment:null), FieldSchema(name:tablaexternagdp.2007, type:string, comment:null), FieldSchema(name:tablaexternagdp.2008, type:string, comment:null), FieldSchema(name:tablaexternagdp.2009, type:string, comment:null), FieldSchema(name:tablaexternagdp.2010, type:string, comment:null), FieldSchema(name:tablaexternagdp.2011, type:string, comment:null), FieldSchema(name:tablaexternagdp.2012, type:string, comment:null), FieldSchema(name:tablaexternagdp.2013, type:string, comment:null), FieldSchema(name:tablaexternagdp.2014, type:string, comment:null), FieldSchema(name:tablaexternagdp.2015, type:string, comment:null), FieldSchema(name:tablaexternagdp.2016, type:string, comment:null)], properties:null)\n",
      "INFO  : Completed compiling command(queryId=hive_20191106235959_d720976b-4a2e-48c7-a868-aea1d850089d); Time taken: 0.053 seconds\n",
      "INFO  : Concurrency mode is disabled, not creating a lock manager\n",
      "INFO  : Executing command(queryId=hive_20191106235959_d720976b-4a2e-48c7-a868-aea1d850089d): SELECT * FROM ejer2_hive.TablaExternaGDP limit 5\n",
      "INFO  : Completed executing command(queryId=hive_20191106235959_d720976b-4a2e-48c7-a868-aea1d850089d); Time taken: 0.0 seconds\n",
      "INFO  : OK\n",
      "+-------------------------------+-------------------------------+---------------------------------+---------------------------------+-----------------------+-----------------------+-----------------------+-----------------------+-----------------------+-----------------------+-----------------------+-----------------------+-----------------------+-----------------------+-----------------------+-----------------------+-----------------------+-----------------------+-----------------------+-----------------------+-----------------------+-----------------------+-----------------------+-----------------------+-----------------------+-----------------------+-----------------------+-----------------------+-----------------------+-----------------------+-----------------------+-----------------------+-----------------------+-----------------------+-----------------------+-----------------------+-----------------------+-----------------------+-----------------------+-----------------------+-----------------------+-----------------------+-----------------------+-----------------------+-----------------------+-----------------------+-----------------------+-----------------------+-----------------------+-----------------------+-----------------------+-----------------------+-----------------------+-----------------------+-----------------------+-----------------------+-----------------------+-----------------------+-----------------------+-----------------------+-----------------------+--+\n",
      "| tablaexternagdp.country_name  | tablaexternagdp.country_code  | tablaexternagdp.indicator_name  | tablaexternagdp.indicator_code  | tablaexternagdp.1960  | tablaexternagdp.1961  | tablaexternagdp.1962  | tablaexternagdp.1963  | tablaexternagdp.1964  | tablaexternagdp.1965  | tablaexternagdp.1966  | tablaexternagdp.1967  | tablaexternagdp.1968  | tablaexternagdp.1969  | tablaexternagdp.1970  | tablaexternagdp.1971  | tablaexternagdp.1972  | tablaexternagdp.1973  | tablaexternagdp.1974  | tablaexternagdp.1975  | tablaexternagdp.1976  | tablaexternagdp.1977  | tablaexternagdp.1978  | tablaexternagdp.1979  | tablaexternagdp.1980  | tablaexternagdp.1981  | tablaexternagdp.1982  | tablaexternagdp.1983  | tablaexternagdp.1984  | tablaexternagdp.1985  | tablaexternagdp.1986  | tablaexternagdp.1987  | tablaexternagdp.1988  | tablaexternagdp.1989  | tablaexternagdp.1990  | tablaexternagdp.1991  | tablaexternagdp.1992  | tablaexternagdp.1993  | tablaexternagdp.1994  | tablaexternagdp.1995  | tablaexternagdp.1996  | tablaexternagdp.1997  | tablaexternagdp.1998  | tablaexternagdp.1999  | tablaexternagdp.2000  | tablaexternagdp.2001  | tablaexternagdp.2002  | tablaexternagdp.2003  | tablaexternagdp.2004  | tablaexternagdp.2005  | tablaexternagdp.2006  | tablaexternagdp.2007  | tablaexternagdp.2008  | tablaexternagdp.2009  | tablaexternagdp.2010  | tablaexternagdp.2011  | tablaexternagdp.2012  | tablaexternagdp.2013  | tablaexternagdp.2014  | tablaexternagdp.2015  | tablaexternagdp.2016  |\n",
      "+-------------------------------+-------------------------------+---------------------------------+---------------------------------+-----------------------+-----------------------+-----------------------+-----------------------+-----------------------+-----------------------+-----------------------+-----------------------+-----------------------+-----------------------+-----------------------+-----------------------+-----------------------+-----------------------+-----------------------+-----------------------+-----------------------+-----------------------+-----------------------+-----------------------+-----------------------+-----------------------+-----------------------+-----------------------+-----------------------+-----------------------+-----------------------+-----------------------+-----------------------+-----------------------+-----------------------+-----------------------+-----------------------+-----------------------+-----------------------+-----------------------+-----------------------+-----------------------+-----------------------+-----------------------+-----------------------+-----------------------+-----------------------+-----------------------+-----------------------+-----------------------+-----------------------+-----------------------+-----------------------+-----------------------+-----------------------+-----------------------+-----------------------+-----------------------+-----------------------+-----------------------+-----------------------+--+\n",
      "| Aruba                         | ABW                           | GDP (current US$)               | NY.GDP.MKTP.CD                  |                       |                       |                       |                       |                       |                       |                       |                       |                       |                       |                       |                       |                       |                       |                       |                       |                       |                       |                       |                       |                       |                       |                       |                       |                       |                       |                       |                       |                       |                       |                       |                       |                       |                       | 1330167597.76536      | 1320670391.06145      | 1379888268.15642      | 1531843575.41899      | 1665363128.49162      | 1722798882.68156      | 1873452513.96648      | 1920262569.8324       | 1941094972.06704      | 2021301675.97765      | 2228279329.60894      | 2331005586.59218      | 2421474860.3352       | 2623726256.98324      | 2791960893.85475      | 2498932960.89385      | 2467703910.61453      | 2584463687.15084      |                       |                       |                       |                       |                       |\n",
      "| Afghanistan                   | AFG                           | GDP (current US$)               | NY.GDP.MKTP.CD                  | 537777811.111111      | 548888895.555556      | 546666677.777778      | 751111191.111111      | 800000044.444444      | 1006666637.77778      | 1399999966.66667      | 1673333417.77778      | 1373333366.66667      | 1408888922.22222      | 1748886595.55556      | 1831108971.11111      | 1595555475.55556      | 1733333264.44444      | 2155555497.77778      | 2366666615.55556      | 2555555566.66667      | 2953333417.77778      | 3300000108.88889      | 3697940409.61098      | 3641723321.99546      | 3478787909.09091      |                       |                       |                       |                       |                       |                       |                       |                       |                       |                       |                       |                       |                       |                       |                       |                       |                       |                       |                       | 2461665937.89386      | 4128820723.04713      | 4583644246.48061      | 5285465685.86423      | 6275073571.54659      | 7057598406.61553      | 9843842455.48323      | 10190529882.4878      | 12486943505.7381      | 15936800636.2487      | 17930239399.8149      | 20536542736.7297      | 20046334303.9661      | 20050189881.6659      | 19702986340.5494      | 19469022207.6357      |\n",
      "| Angola                        | AGO                           | GDP (current US$)               | NY.GDP.MKTP.CD                  |                       |                       |                       |                       |                       |                       |                       |                       |                       |                       |                       |                       |                       |                       |                       |                       |                       |                       |                       |                       |                       |                       |                       |                       |                       | 6684491978.60963      | 6684491978.60963      | 6684491978.60963      | 6684491978.60963      | 10026737967.9144      | 10026737967.9144      | 12118610904.2251      | 5684291718.77106      | 5278182970.79618      | 4059352153.05368      | 5039552482.42778      | 7526446605.51712      | 7648377412.83277      | 6445041824.66621      | 6152922942.98032      | 9129594818.60749      | 8936063723.20121      | 12497346669.6684      | 14188949190.618       | 19640848728.8937      | 28233712830.9035      | 41789478661.3096      | 60448921272.2326      | 84178032716.0971      | 75492384801.3695      | 82470913120.7314      | 104115923082.737      | 115398371427.673      | 124912063308.202      | 126776874216.703      | 102962245246.708      | 89633156470.3104      |\n",
      "| Albania                       | ALB                           | GDP (current US$)               | NY.GDP.MKTP.CD                  |                       |                       |                       |                       |                       |                       |                       |                       |                       |                       |                       |                       |                       |                       |                       |                       |                       |                       |                       |                       |                       |                       |                       |                       | 1924242453.00793      | 1965384586.2409       | 2173750012.5          | 2156624900            | 2126000000            | 2335124987.5          | 2101624962.5          | 1139166645.83333      | 709452583.880319      | 1228071037.84446      | 1985673798.10258      | 2424499009.14264      | 3314898291.75235      | 2359903108.38446      | 2707123772.16195      | 3414760915.27878      | 3632043907.97733      | 4060758804.12084      | 4435078647.74817      | 5746945912.58082      | 7314865175.6199       | 8158548716.68554      | 8992642348.7871       | 10701011896.7708      | 12881352687.7773      | 12044212903.8168      | 11926953258.916       | 12890867538.5302      | 12319784787.2987      | 12781029643.5936      | 13219857459.1009      | 11390365293.8057      | 11926892452.8499      |\n",
      "| Andorra                       | AND                           | GDP (current US$)               | NY.GDP.MKTP.CD                  |                       |                       |                       |                       |                       |                       |                       |                       |                       |                       | 78619206.0850963      | 89409820.3592814      | 113408231.944085      | 150820102.798401      | 186558696.279204      | 220127246.376812      | 227281024.620741      | 254020153.340635      | 308008897.569444      | 411578334.159643      | 446416105.825017      | 388958731.302938      | 375895956.383462      | 327861832.946636      | 330070689.298282      | 346737964.774951      | 482000594.03588       | 611316399.407088      | 721425939.15155       | 795449332.396346      | 1029048481.88051      | 1106928582.86629      | 1210013651.87713      | 1007025755.00065      | 1017549124.33238      | 1178738991.19295      | 1223945356.62682      | 1180597272.72727      | 1211932397.81713      | 1239876305.13531      | 1401695227.56587      | 1484017897.09172      | 1717485413.13759      | 2373927765.23702      | 2916786689.84356      | 3248215396.09501      | 3536632793.87781      | 4010990966.32904      | 4001201113.22689      | 3650083356.48791      | 3346516556.29139      | 3427022518.76564      | 3146151869.45908      | 3248924588.42273      |                       |                       |                       |\n",
      "+-------------------------------+-------------------------------+---------------------------------+---------------------------------+-----------------------+-----------------------+-----------------------+-----------------------+-----------------------+-----------------------+-----------------------+-----------------------+-----------------------+-----------------------+-----------------------+-----------------------+-----------------------+-----------------------+-----------------------+-----------------------+-----------------------+-----------------------+-----------------------+-----------------------+-----------------------+-----------------------+-----------------------+-----------------------+-----------------------+-----------------------+-----------------------+-----------------------+-----------------------+-----------------------+-----------------------+-----------------------+-----------------------+-----------------------+-----------------------+-----------------------+-----------------------+-----------------------+-----------------------+-----------------------+-----------------------+-----------------------+-----------------------+-----------------------+-----------------------+-----------------------+-----------------------+-----------------------+-----------------------+-----------------------+-----------------------+-----------------------+-----------------------+-----------------------+-----------------------+-----------------------+-----------------------+--+\n",
      "5 rows selected (0.174 seconds)\n",
      "Beeline version 1.1.0-cdh5.7.0 by Apache Hive\n",
      "Closing: 0: jdbc:hive2://localhost:10000/default\n"
     ]
    }
   ],
   "source": [
    "# Comprobamos que tienen datos:\n",
    "! beeline -u \"jdbc:hive2://localhost:10000/default\" -e \"SELECT * FROM ejer2_hive.TablaExternaGDP limit 5\""
   ]
  },
  {
   "cell_type": "code",
   "execution_count": 13,
   "metadata": {
    "collapsed": false
   },
   "outputs": [
    {
     "name": "stdout",
     "output_type": "stream",
     "text": [
      "2019-11-06 23:59:51,450 WARN  [main] mapreduce.TableMapReduceUtil: The hbase-prefix-tree module jar containing PrefixTreeCodec is not present.  Continuing without it.\n",
      "scan complete in 2ms\n",
      "Connecting to jdbc:hive2://localhost:10000/default\n",
      "Connected to: Apache Hive (version 1.1.0-cdh5.7.0)\n",
      "Driver: Hive JDBC (version 1.1.0-cdh5.7.0)\n",
      "Transaction isolation: TRANSACTION_REPEATABLE_READ\n",
      "INFO  : Compiling command(queryId=hive_20191106235959_be1788e8-cf21-4c92-9a95-3b7be4092858): SELECT * FROM ejer2_hive.TablaInternaGDP limit 5\n",
      "INFO  : Semantic Analysis Completed\n",
      "INFO  : Returning Hive schema: Schema(fieldSchemas:[FieldSchema(name:tablainternagdp.country_name, type:string, comment:null), FieldSchema(name:tablainternagdp.country_code, type:string, comment:null), FieldSchema(name:tablainternagdp.indicator_name, type:string, comment:null), FieldSchema(name:tablainternagdp.indicator_code, type:string, comment:null), FieldSchema(name:tablainternagdp.1960, type:string, comment:null), FieldSchema(name:tablainternagdp.1961, type:string, comment:null), FieldSchema(name:tablainternagdp.1962, type:string, comment:null), FieldSchema(name:tablainternagdp.1963, type:string, comment:null), FieldSchema(name:tablainternagdp.1964, type:string, comment:null), FieldSchema(name:tablainternagdp.1965, type:string, comment:null), FieldSchema(name:tablainternagdp.1966, type:string, comment:null), FieldSchema(name:tablainternagdp.1967, type:string, comment:null), FieldSchema(name:tablainternagdp.1968, type:string, comment:null), FieldSchema(name:tablainternagdp.1969, type:string, comment:null), FieldSchema(name:tablainternagdp.1970, type:string, comment:null), FieldSchema(name:tablainternagdp.1971, type:string, comment:null), FieldSchema(name:tablainternagdp.1972, type:string, comment:null), FieldSchema(name:tablainternagdp.1973, type:string, comment:null), FieldSchema(name:tablainternagdp.1974, type:string, comment:null), FieldSchema(name:tablainternagdp.1975, type:string, comment:null), FieldSchema(name:tablainternagdp.1976, type:string, comment:null), FieldSchema(name:tablainternagdp.1977, type:string, comment:null), FieldSchema(name:tablainternagdp.1978, type:string, comment:null), FieldSchema(name:tablainternagdp.1979, type:string, comment:null), FieldSchema(name:tablainternagdp.1980, type:string, comment:null), FieldSchema(name:tablainternagdp.1981, type:string, comment:null), FieldSchema(name:tablainternagdp.1982, type:string, comment:null), FieldSchema(name:tablainternagdp.1983, type:string, comment:null), FieldSchema(name:tablainternagdp.1984, type:string, comment:null), FieldSchema(name:tablainternagdp.1985, type:string, comment:null), FieldSchema(name:tablainternagdp.1986, type:string, comment:null), FieldSchema(name:tablainternagdp.1987, type:string, comment:null), FieldSchema(name:tablainternagdp.1988, type:string, comment:null), FieldSchema(name:tablainternagdp.1989, type:string, comment:null), FieldSchema(name:tablainternagdp.1990, type:string, comment:null), FieldSchema(name:tablainternagdp.1991, type:string, comment:null), FieldSchema(name:tablainternagdp.1992, type:string, comment:null), FieldSchema(name:tablainternagdp.1993, type:string, comment:null), FieldSchema(name:tablainternagdp.1994, type:string, comment:null), FieldSchema(name:tablainternagdp.1995, type:string, comment:null), FieldSchema(name:tablainternagdp.1996, type:string, comment:null), FieldSchema(name:tablainternagdp.1997, type:string, comment:null), FieldSchema(name:tablainternagdp.1998, type:string, comment:null), FieldSchema(name:tablainternagdp.1999, type:string, comment:null), FieldSchema(name:tablainternagdp.2000, type:string, comment:null), FieldSchema(name:tablainternagdp.2001, type:string, comment:null), FieldSchema(name:tablainternagdp.2002, type:string, comment:null), FieldSchema(name:tablainternagdp.2003, type:string, comment:null), FieldSchema(name:tablainternagdp.2004, type:string, comment:null), FieldSchema(name:tablainternagdp.2005, type:string, comment:null), FieldSchema(name:tablainternagdp.2006, type:string, comment:null), FieldSchema(name:tablainternagdp.2007, type:string, comment:null), FieldSchema(name:tablainternagdp.2008, type:string, comment:null), FieldSchema(name:tablainternagdp.2009, type:string, comment:null), FieldSchema(name:tablainternagdp.2010, type:string, comment:null), FieldSchema(name:tablainternagdp.2011, type:string, comment:null), FieldSchema(name:tablainternagdp.2012, type:string, comment:null), FieldSchema(name:tablainternagdp.2013, type:string, comment:null), FieldSchema(name:tablainternagdp.2014, type:string, comment:null), FieldSchema(name:tablainternagdp.2015, type:string, comment:null), FieldSchema(name:tablainternagdp.2016, type:string, comment:null)], properties:null)\n",
      "INFO  : Completed compiling command(queryId=hive_20191106235959_be1788e8-cf21-4c92-9a95-3b7be4092858); Time taken: 0.057 seconds\n",
      "INFO  : Concurrency mode is disabled, not creating a lock manager\n",
      "INFO  : Executing command(queryId=hive_20191106235959_be1788e8-cf21-4c92-9a95-3b7be4092858): SELECT * FROM ejer2_hive.TablaInternaGDP limit 5\n",
      "INFO  : Completed executing command(queryId=hive_20191106235959_be1788e8-cf21-4c92-9a95-3b7be4092858); Time taken: 0.0 seconds\n",
      "INFO  : OK\n",
      "+-------------------------------+-------------------------------+---------------------------------+---------------------------------+-----------------------+-----------------------+-----------------------+-----------------------+-----------------------+-----------------------+-----------------------+-----------------------+-----------------------+-----------------------+-----------------------+-----------------------+-----------------------+-----------------------+-----------------------+-----------------------+-----------------------+-----------------------+-----------------------+-----------------------+-----------------------+-----------------------+-----------------------+-----------------------+-----------------------+-----------------------+-----------------------+-----------------------+-----------------------+-----------------------+-----------------------+-----------------------+-----------------------+-----------------------+-----------------------+-----------------------+-----------------------+-----------------------+-----------------------+-----------------------+-----------------------+-----------------------+-----------------------+-----------------------+-----------------------+-----------------------+-----------------------+-----------------------+-----------------------+-----------------------+-----------------------+-----------------------+-----------------------+-----------------------+-----------------------+-----------------------+-----------------------+--+\n",
      "| tablainternagdp.country_name  | tablainternagdp.country_code  | tablainternagdp.indicator_name  | tablainternagdp.indicator_code  | tablainternagdp.1960  | tablainternagdp.1961  | tablainternagdp.1962  | tablainternagdp.1963  | tablainternagdp.1964  | tablainternagdp.1965  | tablainternagdp.1966  | tablainternagdp.1967  | tablainternagdp.1968  | tablainternagdp.1969  | tablainternagdp.1970  | tablainternagdp.1971  | tablainternagdp.1972  | tablainternagdp.1973  | tablainternagdp.1974  | tablainternagdp.1975  | tablainternagdp.1976  | tablainternagdp.1977  | tablainternagdp.1978  | tablainternagdp.1979  | tablainternagdp.1980  | tablainternagdp.1981  | tablainternagdp.1982  | tablainternagdp.1983  | tablainternagdp.1984  | tablainternagdp.1985  | tablainternagdp.1986  | tablainternagdp.1987  | tablainternagdp.1988  | tablainternagdp.1989  | tablainternagdp.1990  | tablainternagdp.1991  | tablainternagdp.1992  | tablainternagdp.1993  | tablainternagdp.1994  | tablainternagdp.1995  | tablainternagdp.1996  | tablainternagdp.1997  | tablainternagdp.1998  | tablainternagdp.1999  | tablainternagdp.2000  | tablainternagdp.2001  | tablainternagdp.2002  | tablainternagdp.2003  | tablainternagdp.2004  | tablainternagdp.2005  | tablainternagdp.2006  | tablainternagdp.2007  | tablainternagdp.2008  | tablainternagdp.2009  | tablainternagdp.2010  | tablainternagdp.2011  | tablainternagdp.2012  | tablainternagdp.2013  | tablainternagdp.2014  | tablainternagdp.2015  | tablainternagdp.2016  |\n",
      "+-------------------------------+-------------------------------+---------------------------------+---------------------------------+-----------------------+-----------------------+-----------------------+-----------------------+-----------------------+-----------------------+-----------------------+-----------------------+-----------------------+-----------------------+-----------------------+-----------------------+-----------------------+-----------------------+-----------------------+-----------------------+-----------------------+-----------------------+-----------------------+-----------------------+-----------------------+-----------------------+-----------------------+-----------------------+-----------------------+-----------------------+-----------------------+-----------------------+-----------------------+-----------------------+-----------------------+-----------------------+-----------------------+-----------------------+-----------------------+-----------------------+-----------------------+-----------------------+-----------------------+-----------------------+-----------------------+-----------------------+-----------------------+-----------------------+-----------------------+-----------------------+-----------------------+-----------------------+-----------------------+-----------------------+-----------------------+-----------------------+-----------------------+-----------------------+-----------------------+-----------------------+-----------------------+--+\n",
      "| Aruba                         | ABW                           | GDP (current US$)               | NY.GDP.MKTP.CD                  |                       |                       |                       |                       |                       |                       |                       |                       |                       |                       |                       |                       |                       |                       |                       |                       |                       |                       |                       |                       |                       |                       |                       |                       |                       |                       |                       |                       |                       |                       |                       |                       |                       |                       | 1330167597.76536      | 1320670391.06145      | 1379888268.15642      | 1531843575.41899      | 1665363128.49162      | 1722798882.68156      | 1873452513.96648      | 1920262569.8324       | 1941094972.06704      | 2021301675.97765      | 2228279329.60894      | 2331005586.59218      | 2421474860.3352       | 2623726256.98324      | 2791960893.85475      | 2498932960.89385      | 2467703910.61453      | 2584463687.15084      |                       |                       |                       |                       |                       |\n",
      "| Afghanistan                   | AFG                           | GDP (current US$)               | NY.GDP.MKTP.CD                  | 537777811.111111      | 548888895.555556      | 546666677.777778      | 751111191.111111      | 800000044.444444      | 1006666637.77778      | 1399999966.66667      | 1673333417.77778      | 1373333366.66667      | 1408888922.22222      | 1748886595.55556      | 1831108971.11111      | 1595555475.55556      | 1733333264.44444      | 2155555497.77778      | 2366666615.55556      | 2555555566.66667      | 2953333417.77778      | 3300000108.88889      | 3697940409.61098      | 3641723321.99546      | 3478787909.09091      |                       |                       |                       |                       |                       |                       |                       |                       |                       |                       |                       |                       |                       |                       |                       |                       |                       |                       |                       | 2461665937.89386      | 4128820723.04713      | 4583644246.48061      | 5285465685.86423      | 6275073571.54659      | 7057598406.61553      | 9843842455.48323      | 10190529882.4878      | 12486943505.7381      | 15936800636.2487      | 17930239399.8149      | 20536542736.7297      | 20046334303.9661      | 20050189881.6659      | 19702986340.5494      | 19469022207.6357      |\n",
      "| Angola                        | AGO                           | GDP (current US$)               | NY.GDP.MKTP.CD                  |                       |                       |                       |                       |                       |                       |                       |                       |                       |                       |                       |                       |                       |                       |                       |                       |                       |                       |                       |                       |                       |                       |                       |                       |                       | 6684491978.60963      | 6684491978.60963      | 6684491978.60963      | 6684491978.60963      | 10026737967.9144      | 10026737967.9144      | 12118610904.2251      | 5684291718.77106      | 5278182970.79618      | 4059352153.05368      | 5039552482.42778      | 7526446605.51712      | 7648377412.83277      | 6445041824.66621      | 6152922942.98032      | 9129594818.60749      | 8936063723.20121      | 12497346669.6684      | 14188949190.618       | 19640848728.8937      | 28233712830.9035      | 41789478661.3096      | 60448921272.2326      | 84178032716.0971      | 75492384801.3695      | 82470913120.7314      | 104115923082.737      | 115398371427.673      | 124912063308.202      | 126776874216.703      | 102962245246.708      | 89633156470.3104      |\n",
      "| Albania                       | ALB                           | GDP (current US$)               | NY.GDP.MKTP.CD                  |                       |                       |                       |                       |                       |                       |                       |                       |                       |                       |                       |                       |                       |                       |                       |                       |                       |                       |                       |                       |                       |                       |                       |                       | 1924242453.00793      | 1965384586.2409       | 2173750012.5          | 2156624900            | 2126000000            | 2335124987.5          | 2101624962.5          | 1139166645.83333      | 709452583.880319      | 1228071037.84446      | 1985673798.10258      | 2424499009.14264      | 3314898291.75235      | 2359903108.38446      | 2707123772.16195      | 3414760915.27878      | 3632043907.97733      | 4060758804.12084      | 4435078647.74817      | 5746945912.58082      | 7314865175.6199       | 8158548716.68554      | 8992642348.7871       | 10701011896.7708      | 12881352687.7773      | 12044212903.8168      | 11926953258.916       | 12890867538.5302      | 12319784787.2987      | 12781029643.5936      | 13219857459.1009      | 11390365293.8057      | 11926892452.8499      |\n",
      "| Andorra                       | AND                           | GDP (current US$)               | NY.GDP.MKTP.CD                  |                       |                       |                       |                       |                       |                       |                       |                       |                       |                       | 78619206.0850963      | 89409820.3592814      | 113408231.944085      | 150820102.798401      | 186558696.279204      | 220127246.376812      | 227281024.620741      | 254020153.340635      | 308008897.569444      | 411578334.159643      | 446416105.825017      | 388958731.302938      | 375895956.383462      | 327861832.946636      | 330070689.298282      | 346737964.774951      | 482000594.03588       | 611316399.407088      | 721425939.15155       | 795449332.396346      | 1029048481.88051      | 1106928582.86629      | 1210013651.87713      | 1007025755.00065      | 1017549124.33238      | 1178738991.19295      | 1223945356.62682      | 1180597272.72727      | 1211932397.81713      | 1239876305.13531      | 1401695227.56587      | 1484017897.09172      | 1717485413.13759      | 2373927765.23702      | 2916786689.84356      | 3248215396.09501      | 3536632793.87781      | 4010990966.32904      | 4001201113.22689      | 3650083356.48791      | 3346516556.29139      | 3427022518.76564      | 3146151869.45908      | 3248924588.42273      |                       |                       |                       |\n",
      "+-------------------------------+-------------------------------+---------------------------------+---------------------------------+-----------------------+-----------------------+-----------------------+-----------------------+-----------------------+-----------------------+-----------------------+-----------------------+-----------------------+-----------------------+-----------------------+-----------------------+-----------------------+-----------------------+-----------------------+-----------------------+-----------------------+-----------------------+-----------------------+-----------------------+-----------------------+-----------------------+-----------------------+-----------------------+-----------------------+-----------------------+-----------------------+-----------------------+-----------------------+-----------------------+-----------------------+-----------------------+-----------------------+-----------------------+-----------------------+-----------------------+-----------------------+-----------------------+-----------------------+-----------------------+-----------------------+-----------------------+-----------------------+-----------------------+-----------------------+-----------------------+-----------------------+-----------------------+-----------------------+-----------------------+-----------------------+-----------------------+-----------------------+-----------------------+-----------------------+-----------------------+-----------------------+--+\n",
      "5 rows selected (0.182 seconds)\n",
      "Beeline version 1.1.0-cdh5.7.0 by Apache Hive\n",
      "Closing: 0: jdbc:hive2://localhost:10000/default\n"
     ]
    }
   ],
   "source": [
    "# Comprobamos que tienen datos:\n",
    "! beeline -u \"jdbc:hive2://localhost:10000/default\" -e \"SELECT * FROM ejer2_hive.TablaInternaGDP limit 5\""
   ]
  },
  {
   "cell_type": "code",
   "execution_count": 14,
   "metadata": {
    "collapsed": false
   },
   "outputs": [
    {
     "name": "stdout",
     "output_type": "stream",
     "text": [
      "2019-11-07 00:00:03,446 WARN  [main] mapreduce.TableMapReduceUtil: The hbase-prefix-tree module jar containing PrefixTreeCodec is not present.  Continuing without it.\n",
      "scan complete in 2ms\n",
      "Connecting to jdbc:hive2://localhost:10000/default\n",
      "Connected to: Apache Hive (version 1.1.0-cdh5.7.0)\n",
      "Driver: Hive JDBC (version 1.1.0-cdh5.7.0)\n",
      "Transaction isolation: TRANSACTION_REPEATABLE_READ\n",
      "INFO  : Compiling command(queryId=hive_20191107000000_8bc36680-6f80-4c8c-88f8-61b76488eec1): SELECT * FROM ejer2_hive.TablaExternaEscolarizacion limit 5\n",
      "INFO  : Semantic Analysis Completed\n",
      "INFO  : Returning Hive schema: Schema(fieldSchemas:[FieldSchema(name:tablaexternaescolarizacion.country_name, type:string, comment:null), FieldSchema(name:tablaexternaescolarizacion.country_code, type:string, comment:null), FieldSchema(name:tablaexternaescolarizacion.indicator_name, type:string, comment:null), FieldSchema(name:tablaexternaescolarizacion.indicator_code, type:string, comment:null), FieldSchema(name:tablaexternaescolarizacion.1960, type:string, comment:null), FieldSchema(name:tablaexternaescolarizacion.1961, type:string, comment:null), FieldSchema(name:tablaexternaescolarizacion.1962, type:string, comment:null), FieldSchema(name:tablaexternaescolarizacion.1963, type:string, comment:null), FieldSchema(name:tablaexternaescolarizacion.1964, type:string, comment:null), FieldSchema(name:tablaexternaescolarizacion.1965, type:string, comment:null), FieldSchema(name:tablaexternaescolarizacion.1966, type:string, comment:null), FieldSchema(name:tablaexternaescolarizacion.1967, type:string, comment:null), FieldSchema(name:tablaexternaescolarizacion.1968, type:string, comment:null), FieldSchema(name:tablaexternaescolarizacion.1969, type:string, comment:null), FieldSchema(name:tablaexternaescolarizacion.1970, type:string, comment:null), FieldSchema(name:tablaexternaescolarizacion.1971, type:string, comment:null), FieldSchema(name:tablaexternaescolarizacion.1972, type:string, comment:null), FieldSchema(name:tablaexternaescolarizacion.1973, type:string, comment:null), FieldSchema(name:tablaexternaescolarizacion.1974, type:string, comment:null), FieldSchema(name:tablaexternaescolarizacion.1975, type:string, comment:null), FieldSchema(name:tablaexternaescolarizacion.1976, type:string, comment:null), FieldSchema(name:tablaexternaescolarizacion.1977, type:string, comment:null), FieldSchema(name:tablaexternaescolarizacion.1978, type:string, comment:null), FieldSchema(name:tablaexternaescolarizacion.1979, type:string, comment:null), FieldSchema(name:tablaexternaescolarizacion.1980, type:string, comment:null), FieldSchema(name:tablaexternaescolarizacion.1981, type:string, comment:null), FieldSchema(name:tablaexternaescolarizacion.1982, type:string, comment:null), FieldSchema(name:tablaexternaescolarizacion.1983, type:string, comment:null), FieldSchema(name:tablaexternaescolarizacion.1984, type:string, comment:null), FieldSchema(name:tablaexternaescolarizacion.1985, type:string, comment:null), FieldSchema(name:tablaexternaescolarizacion.1986, type:string, comment:null), FieldSchema(name:tablaexternaescolarizacion.1987, type:string, comment:null), FieldSchema(name:tablaexternaescolarizacion.1988, type:string, comment:null), FieldSchema(name:tablaexternaescolarizacion.1989, type:string, comment:null), FieldSchema(name:tablaexternaescolarizacion.1990, type:string, comment:null), FieldSchema(name:tablaexternaescolarizacion.1991, type:string, comment:null), FieldSchema(name:tablaexternaescolarizacion.1992, type:string, comment:null), FieldSchema(name:tablaexternaescolarizacion.1993, type:string, comment:null), FieldSchema(name:tablaexternaescolarizacion.1994, type:string, comment:null), FieldSchema(name:tablaexternaescolarizacion.1995, type:string, comment:null), FieldSchema(name:tablaexternaescolarizacion.1996, type:string, comment:null), FieldSchema(name:tablaexternaescolarizacion.1997, type:string, comment:null), FieldSchema(name:tablaexternaescolarizacion.1998, type:string, comment:null), FieldSchema(name:tablaexternaescolarizacion.1999, type:string, comment:null), FieldSchema(name:tablaexternaescolarizacion.2000, type:string, comment:null), FieldSchema(name:tablaexternaescolarizacion.2001, type:string, comment:null), FieldSchema(name:tablaexternaescolarizacion.2002, type:string, comment:null), FieldSchema(name:tablaexternaescolarizacion.2003, type:string, comment:null), FieldSchema(name:tablaexternaescolarizacion.2004, type:string, comment:null), FieldSchema(name:tablaexternaescolarizacion.2005, type:string, comment:null), FieldSchema(name:tablaexternaescolarizacion.2006, type:string, comment:null), FieldSchema(name:tablaexternaescolarizacion.2007, type:string, comment:null), FieldSchema(name:tablaexternaescolarizacion.2008, type:string, comment:null), FieldSchema(name:tablaexternaescolarizacion.2009, type:string, comment:null), FieldSchema(name:tablaexternaescolarizacion.2010, type:string, comment:null), FieldSchema(name:tablaexternaescolarizacion.2011, type:string, comment:null), FieldSchema(name:tablaexternaescolarizacion.2012, type:string, comment:null), FieldSchema(name:tablaexternaescolarizacion.2013, type:string, comment:null), FieldSchema(name:tablaexternaescolarizacion.2014, type:string, comment:null), FieldSchema(name:tablaexternaescolarizacion.2015, type:string, comment:null), FieldSchema(name:tablaexternaescolarizacion.2016, type:string, comment:null)], properties:null)\n",
      "INFO  : Completed compiling command(queryId=hive_20191107000000_8bc36680-6f80-4c8c-88f8-61b76488eec1); Time taken: 0.057 seconds\n",
      "INFO  : Concurrency mode is disabled, not creating a lock manager\n",
      "INFO  : Executing command(queryId=hive_20191107000000_8bc36680-6f80-4c8c-88f8-61b76488eec1): SELECT * FROM ejer2_hive.TablaExternaEscolarizacion limit 5\n",
      "INFO  : Completed executing command(queryId=hive_20191107000000_8bc36680-6f80-4c8c-88f8-61b76488eec1); Time taken: 0.0 seconds\n",
      "INFO  : OK\n",
      "+------------------------------------------+------------------------------------------+--------------------------------------------+--------------------------------------------+----------------------------------+----------------------------------+----------------------------------+----------------------------------+----------------------------------+----------------------------------+----------------------------------+----------------------------------+----------------------------------+----------------------------------+----------------------------------+----------------------------------+----------------------------------+----------------------------------+----------------------------------+----------------------------------+----------------------------------+----------------------------------+----------------------------------+----------------------------------+----------------------------------+----------------------------------+----------------------------------+----------------------------------+----------------------------------+----------------------------------+----------------------------------+----------------------------------+----------------------------------+----------------------------------+----------------------------------+----------------------------------+----------------------------------+----------------------------------+----------------------------------+----------------------------------+----------------------------------+----------------------------------+----------------------------------+----------------------------------+----------------------------------+----------------------------------+----------------------------------+----------------------------------+----------------------------------+----------------------------------+----------------------------------+----------------------------------+----------------------------------+----------------------------------+----------------------------------+----------------------------------+----------------------------------+----------------------------------+----------------------------------+----------------------------------+----------------------------------+--+\n",
      "| tablaexternaescolarizacion.country_name  | tablaexternaescolarizacion.country_code  | tablaexternaescolarizacion.indicator_name  | tablaexternaescolarizacion.indicator_code  | tablaexternaescolarizacion.1960  | tablaexternaescolarizacion.1961  | tablaexternaescolarizacion.1962  | tablaexternaescolarizacion.1963  | tablaexternaescolarizacion.1964  | tablaexternaescolarizacion.1965  | tablaexternaescolarizacion.1966  | tablaexternaescolarizacion.1967  | tablaexternaescolarizacion.1968  | tablaexternaescolarizacion.1969  | tablaexternaescolarizacion.1970  | tablaexternaescolarizacion.1971  | tablaexternaescolarizacion.1972  | tablaexternaescolarizacion.1973  | tablaexternaescolarizacion.1974  | tablaexternaescolarizacion.1975  | tablaexternaescolarizacion.1976  | tablaexternaescolarizacion.1977  | tablaexternaescolarizacion.1978  | tablaexternaescolarizacion.1979  | tablaexternaescolarizacion.1980  | tablaexternaescolarizacion.1981  | tablaexternaescolarizacion.1982  | tablaexternaescolarizacion.1983  | tablaexternaescolarizacion.1984  | tablaexternaescolarizacion.1985  | tablaexternaescolarizacion.1986  | tablaexternaescolarizacion.1987  | tablaexternaescolarizacion.1988  | tablaexternaescolarizacion.1989  | tablaexternaescolarizacion.1990  | tablaexternaescolarizacion.1991  | tablaexternaescolarizacion.1992  | tablaexternaescolarizacion.1993  | tablaexternaescolarizacion.1994  | tablaexternaescolarizacion.1995  | tablaexternaescolarizacion.1996  | tablaexternaescolarizacion.1997  | tablaexternaescolarizacion.1998  | tablaexternaescolarizacion.1999  | tablaexternaescolarizacion.2000  | tablaexternaescolarizacion.2001  | tablaexternaescolarizacion.2002  | tablaexternaescolarizacion.2003  | tablaexternaescolarizacion.2004  | tablaexternaescolarizacion.2005  | tablaexternaescolarizacion.2006  | tablaexternaescolarizacion.2007  | tablaexternaescolarizacion.2008  | tablaexternaescolarizacion.2009  | tablaexternaescolarizacion.2010  | tablaexternaescolarizacion.2011  | tablaexternaescolarizacion.2012  | tablaexternaescolarizacion.2013  | tablaexternaescolarizacion.2014  | tablaexternaescolarizacion.2015  | tablaexternaescolarizacion.2016  |\n",
      "+------------------------------------------+------------------------------------------+--------------------------------------------+--------------------------------------------+----------------------------------+----------------------------------+----------------------------------+----------------------------------+----------------------------------+----------------------------------+----------------------------------+----------------------------------+----------------------------------+----------------------------------+----------------------------------+----------------------------------+----------------------------------+----------------------------------+----------------------------------+----------------------------------+----------------------------------+----------------------------------+----------------------------------+----------------------------------+----------------------------------+----------------------------------+----------------------------------+----------------------------------+----------------------------------+----------------------------------+----------------------------------+----------------------------------+----------------------------------+----------------------------------+----------------------------------+----------------------------------+----------------------------------+----------------------------------+----------------------------------+----------------------------------+----------------------------------+----------------------------------+----------------------------------+----------------------------------+----------------------------------+----------------------------------+----------------------------------+----------------------------------+----------------------------------+----------------------------------+----------------------------------+----------------------------------+----------------------------------+----------------------------------+----------------------------------+----------------------------------+----------------------------------+----------------------------------+----------------------------------+----------------------------------+----------------------------------+--+\n",
      "| Aruba                                    | ABW                                      | \"Children out of school                    |  primary                                   |  female\"                         | SE.PRM.UNER.FE                   |                                  |                                  |                                  |                                  |                                  |                                  |                                  |                                  |                                  |                                  |                                  |                                  |                                  |                                  |                                  |                                  |                                  |                                  |                                  |                                  |                                  |                                  |                                  |                                  |                                  |                                  |                                  |                                  |                                  |                                  |                                  |                                  |                                  |                                  |                                  |                                  |                                  |                                  |                                  | 52                               | 83                               | 134                              | 233                              | 324                              | 317                              | 151                              | 99                               | 77                               | 55                               | 96                               |                                  |                                  |                                  |                                  | 23                               |\n",
      "| Afghanistan                              | AFG                                      | \"Children out of school                    |  primary                                   |  female\"                         | SE.PRM.UNER.FE                   |                                  |                                  |                                  |                                  |                                  |                                  |                                  |                                  |                                  |                                  |                                  |                                  |                                  |                                  | 878047                           |                                  |                                  |                                  |                                  |                                  |                                  |                                  |                                  |                                  |                                  |                                  |                                  |                                  |                                  |                                  |                                  |                                  |                                  | 1034842                          |                                  |                                  |                                  |                                  |                                  |                                  |                                  |                                  |                                  |                                  |                                  |                                  |                                  |                                  |                                  |                                  |                                  |                                  |                                  |                                  |                                  |\n",
      "| Angola                                   | AGO                                      | \"Children out of school                    |  primary                                   |  female\"                         | SE.PRM.UNER.FE                   |                                  |                                  |                                  |                                  |                                  |                                  |                                  |                                  |                                  |                                  |                                  |                                  |                                  |                                  |                                  |                                  |                                  |                                  |                                  |                                  |                                  |                                  | 281842                           | 315254                           |                                  |                                  |                                  |                                  |                                  |                                  |                                  |                                  |                                  |                                  |                                  |                                  |                                  |                                  | 467049                           |                                  |                                  |                                  |                                  |                                  |                                  |                                  |                                  |                                  | 431230                           | 463178                           | 483922                           | 525174                           |                                  |                                  |                                  |\n",
      "| Albania                                  | ALB                                      | \"Children out of school                    |  primary                                   |  female\"                         | SE.PRM.UNER.FE                   |                                  |                                  |                                  |                                  |                                  |                                  |                                  |                                  |                                  |                                  |                                  |                                  |                                  |                                  |                                  |                                  |                                  |                                  |                                  |                                  |                                  |                                  |                                  |                                  |                                  |                                  |                                  |                                  |                                  |                                  |                                  |                                  |                                  |                                  |                                  |                                  |                                  |                                  |                                  | 5480                             | 6330                             | 7518                             |                                  | 10409                            | 10108                            |                                  |                                  |                                  | 9747                             | 13205                            | 10487                            | 7775                             | 4395                             | 4196                             |                                  |\n",
      "| Andorra                                  | AND                                      | \"Children out of school                    |  primary                                   |  female\"                         | SE.PRM.UNER.FE                   |                                  |                                  |                                  |                                  |                                  |                                  |                                  |                                  |                                  |                                  |                                  |                                  |                                  |                                  |                                  |                                  |                                  |                                  |                                  |                                  |                                  |                                  |                                  |                                  |                                  |                                  |                                  |                                  |                                  |                                  |                                  |                                  |                                  |                                  |                                  |                                  |                                  |                                  |                                  |                                  |                                  |                                  |                                  |                                  |                                  |                                  |                                  |                                  |                                  |                                  |                                  |                                  |                                  |                                  |                                  |\n",
      "+------------------------------------------+------------------------------------------+--------------------------------------------+--------------------------------------------+----------------------------------+----------------------------------+----------------------------------+----------------------------------+----------------------------------+----------------------------------+----------------------------------+----------------------------------+----------------------------------+----------------------------------+----------------------------------+----------------------------------+----------------------------------+----------------------------------+----------------------------------+----------------------------------+----------------------------------+----------------------------------+----------------------------------+----------------------------------+----------------------------------+----------------------------------+----------------------------------+----------------------------------+----------------------------------+----------------------------------+----------------------------------+----------------------------------+----------------------------------+----------------------------------+----------------------------------+----------------------------------+----------------------------------+----------------------------------+----------------------------------+----------------------------------+----------------------------------+----------------------------------+----------------------------------+----------------------------------+----------------------------------+----------------------------------+----------------------------------+----------------------------------+----------------------------------+----------------------------------+----------------------------------+----------------------------------+----------------------------------+----------------------------------+----------------------------------+----------------------------------+----------------------------------+----------------------------------+----------------------------------+----------------------------------+----------------------------------+--+\n",
      "5 rows selected (0.194 seconds)\n",
      "Beeline version 1.1.0-cdh5.7.0 by Apache Hive\n",
      "Closing: 0: jdbc:hive2://localhost:10000/default\n"
     ]
    }
   ],
   "source": [
    "# Comprobamos que tienen datos:\n",
    "! beeline -u \"jdbc:hive2://localhost:10000/default\" -e \"SELECT * FROM ejer2_hive.TablaExternaEscolarizacion limit 5\""
   ]
  },
  {
   "cell_type": "code",
   "execution_count": 15,
   "metadata": {
    "collapsed": false
   },
   "outputs": [
    {
     "name": "stdout",
     "output_type": "stream",
     "text": [
      "2019-11-07 00:00:18,978 WARN  [main] mapreduce.TableMapReduceUtil: The hbase-prefix-tree module jar containing PrefixTreeCodec is not present.  Continuing without it.\n",
      "scan complete in 3ms\n",
      "Connecting to jdbc:hive2://localhost:10000/default\n",
      "Connected to: Apache Hive (version 1.1.0-cdh5.7.0)\n",
      "Driver: Hive JDBC (version 1.1.0-cdh5.7.0)\n",
      "Transaction isolation: TRANSACTION_REPEATABLE_READ\n",
      "INFO  : Compiling command(queryId=hive_20191107000000_1538f632-1a2a-4ac3-a3c5-ca5e3f89bb9c): SELECT * FROM ejer2_hive.TablaInternaEscolarizacion limit 5\n",
      "INFO  : Semantic Analysis Completed\n",
      "INFO  : Returning Hive schema: Schema(fieldSchemas:[FieldSchema(name:tablainternaescolarizacion.country_name, type:string, comment:null), FieldSchema(name:tablainternaescolarizacion.country_code, type:string, comment:null), FieldSchema(name:tablainternaescolarizacion.indicator_name, type:string, comment:null), FieldSchema(name:tablainternaescolarizacion.indicator_code, type:string, comment:null), FieldSchema(name:tablainternaescolarizacion.1960, type:string, comment:null), FieldSchema(name:tablainternaescolarizacion.1961, type:string, comment:null), FieldSchema(name:tablainternaescolarizacion.1962, type:string, comment:null), FieldSchema(name:tablainternaescolarizacion.1963, type:string, comment:null), FieldSchema(name:tablainternaescolarizacion.1964, type:string, comment:null), FieldSchema(name:tablainternaescolarizacion.1965, type:string, comment:null), FieldSchema(name:tablainternaescolarizacion.1966, type:string, comment:null), FieldSchema(name:tablainternaescolarizacion.1967, type:string, comment:null), FieldSchema(name:tablainternaescolarizacion.1968, type:string, comment:null), FieldSchema(name:tablainternaescolarizacion.1969, type:string, comment:null), FieldSchema(name:tablainternaescolarizacion.1970, type:string, comment:null), FieldSchema(name:tablainternaescolarizacion.1971, type:string, comment:null), FieldSchema(name:tablainternaescolarizacion.1972, type:string, comment:null), FieldSchema(name:tablainternaescolarizacion.1973, type:string, comment:null), FieldSchema(name:tablainternaescolarizacion.1974, type:string, comment:null), FieldSchema(name:tablainternaescolarizacion.1975, type:string, comment:null), FieldSchema(name:tablainternaescolarizacion.1976, type:string, comment:null), FieldSchema(name:tablainternaescolarizacion.1977, type:string, comment:null), FieldSchema(name:tablainternaescolarizacion.1978, type:string, comment:null), FieldSchema(name:tablainternaescolarizacion.1979, type:string, comment:null), FieldSchema(name:tablainternaescolarizacion.1980, type:string, comment:null), FieldSchema(name:tablainternaescolarizacion.1981, type:string, comment:null), FieldSchema(name:tablainternaescolarizacion.1982, type:string, comment:null), FieldSchema(name:tablainternaescolarizacion.1983, type:string, comment:null), FieldSchema(name:tablainternaescolarizacion.1984, type:string, comment:null), FieldSchema(name:tablainternaescolarizacion.1985, type:string, comment:null), FieldSchema(name:tablainternaescolarizacion.1986, type:string, comment:null), FieldSchema(name:tablainternaescolarizacion.1987, type:string, comment:null), FieldSchema(name:tablainternaescolarizacion.1988, type:string, comment:null), FieldSchema(name:tablainternaescolarizacion.1989, type:string, comment:null), FieldSchema(name:tablainternaescolarizacion.1990, type:string, comment:null), FieldSchema(name:tablainternaescolarizacion.1991, type:string, comment:null), FieldSchema(name:tablainternaescolarizacion.1992, type:string, comment:null), FieldSchema(name:tablainternaescolarizacion.1993, type:string, comment:null), FieldSchema(name:tablainternaescolarizacion.1994, type:string, comment:null), FieldSchema(name:tablainternaescolarizacion.1995, type:string, comment:null), FieldSchema(name:tablainternaescolarizacion.1996, type:string, comment:null), FieldSchema(name:tablainternaescolarizacion.1997, type:string, comment:null), FieldSchema(name:tablainternaescolarizacion.1998, type:string, comment:null), FieldSchema(name:tablainternaescolarizacion.1999, type:string, comment:null), FieldSchema(name:tablainternaescolarizacion.2000, type:string, comment:null), FieldSchema(name:tablainternaescolarizacion.2001, type:string, comment:null), FieldSchema(name:tablainternaescolarizacion.2002, type:string, comment:null), FieldSchema(name:tablainternaescolarizacion.2003, type:string, comment:null), FieldSchema(name:tablainternaescolarizacion.2004, type:string, comment:null), FieldSchema(name:tablainternaescolarizacion.2005, type:string, comment:null), FieldSchema(name:tablainternaescolarizacion.2006, type:string, comment:null), FieldSchema(name:tablainternaescolarizacion.2007, type:string, comment:null), FieldSchema(name:tablainternaescolarizacion.2008, type:string, comment:null), FieldSchema(name:tablainternaescolarizacion.2009, type:string, comment:null), FieldSchema(name:tablainternaescolarizacion.2010, type:string, comment:null), FieldSchema(name:tablainternaescolarizacion.2011, type:string, comment:null), FieldSchema(name:tablainternaescolarizacion.2012, type:string, comment:null), FieldSchema(name:tablainternaescolarizacion.2013, type:string, comment:null), FieldSchema(name:tablainternaescolarizacion.2014, type:string, comment:null), FieldSchema(name:tablainternaescolarizacion.2015, type:string, comment:null), FieldSchema(name:tablainternaescolarizacion.2016, type:string, comment:null)], properties:null)\n",
      "INFO  : Completed compiling command(queryId=hive_20191107000000_1538f632-1a2a-4ac3-a3c5-ca5e3f89bb9c); Time taken: 0.067 seconds\n",
      "INFO  : Concurrency mode is disabled, not creating a lock manager\n",
      "INFO  : Executing command(queryId=hive_20191107000000_1538f632-1a2a-4ac3-a3c5-ca5e3f89bb9c): SELECT * FROM ejer2_hive.TablaInternaEscolarizacion limit 5\n",
      "INFO  : Completed executing command(queryId=hive_20191107000000_1538f632-1a2a-4ac3-a3c5-ca5e3f89bb9c); Time taken: 0.0 seconds\n",
      "INFO  : OK\n",
      "+------------------------------------------+------------------------------------------+--------------------------------------------+--------------------------------------------+----------------------------------+----------------------------------+----------------------------------+----------------------------------+----------------------------------+----------------------------------+----------------------------------+----------------------------------+----------------------------------+----------------------------------+----------------------------------+----------------------------------+----------------------------------+----------------------------------+----------------------------------+----------------------------------+----------------------------------+----------------------------------+----------------------------------+----------------------------------+----------------------------------+----------------------------------+----------------------------------+----------------------------------+----------------------------------+----------------------------------+----------------------------------+----------------------------------+----------------------------------+----------------------------------+----------------------------------+----------------------------------+----------------------------------+----------------------------------+----------------------------------+----------------------------------+----------------------------------+----------------------------------+----------------------------------+----------------------------------+----------------------------------+----------------------------------+----------------------------------+----------------------------------+----------------------------------+----------------------------------+----------------------------------+----------------------------------+----------------------------------+----------------------------------+----------------------------------+----------------------------------+----------------------------------+----------------------------------+----------------------------------+----------------------------------+----------------------------------+--+\n",
      "| tablainternaescolarizacion.country_name  | tablainternaescolarizacion.country_code  | tablainternaescolarizacion.indicator_name  | tablainternaescolarizacion.indicator_code  | tablainternaescolarizacion.1960  | tablainternaescolarizacion.1961  | tablainternaescolarizacion.1962  | tablainternaescolarizacion.1963  | tablainternaescolarizacion.1964  | tablainternaescolarizacion.1965  | tablainternaescolarizacion.1966  | tablainternaescolarizacion.1967  | tablainternaescolarizacion.1968  | tablainternaescolarizacion.1969  | tablainternaescolarizacion.1970  | tablainternaescolarizacion.1971  | tablainternaescolarizacion.1972  | tablainternaescolarizacion.1973  | tablainternaescolarizacion.1974  | tablainternaescolarizacion.1975  | tablainternaescolarizacion.1976  | tablainternaescolarizacion.1977  | tablainternaescolarizacion.1978  | tablainternaescolarizacion.1979  | tablainternaescolarizacion.1980  | tablainternaescolarizacion.1981  | tablainternaescolarizacion.1982  | tablainternaescolarizacion.1983  | tablainternaescolarizacion.1984  | tablainternaescolarizacion.1985  | tablainternaescolarizacion.1986  | tablainternaescolarizacion.1987  | tablainternaescolarizacion.1988  | tablainternaescolarizacion.1989  | tablainternaescolarizacion.1990  | tablainternaescolarizacion.1991  | tablainternaescolarizacion.1992  | tablainternaescolarizacion.1993  | tablainternaescolarizacion.1994  | tablainternaescolarizacion.1995  | tablainternaescolarizacion.1996  | tablainternaescolarizacion.1997  | tablainternaescolarizacion.1998  | tablainternaescolarizacion.1999  | tablainternaescolarizacion.2000  | tablainternaescolarizacion.2001  | tablainternaescolarizacion.2002  | tablainternaescolarizacion.2003  | tablainternaescolarizacion.2004  | tablainternaescolarizacion.2005  | tablainternaescolarizacion.2006  | tablainternaescolarizacion.2007  | tablainternaescolarizacion.2008  | tablainternaescolarizacion.2009  | tablainternaescolarizacion.2010  | tablainternaescolarizacion.2011  | tablainternaescolarizacion.2012  | tablainternaescolarizacion.2013  | tablainternaescolarizacion.2014  | tablainternaescolarizacion.2015  | tablainternaescolarizacion.2016  |\n",
      "+------------------------------------------+------------------------------------------+--------------------------------------------+--------------------------------------------+----------------------------------+----------------------------------+----------------------------------+----------------------------------+----------------------------------+----------------------------------+----------------------------------+----------------------------------+----------------------------------+----------------------------------+----------------------------------+----------------------------------+----------------------------------+----------------------------------+----------------------------------+----------------------------------+----------------------------------+----------------------------------+----------------------------------+----------------------------------+----------------------------------+----------------------------------+----------------------------------+----------------------------------+----------------------------------+----------------------------------+----------------------------------+----------------------------------+----------------------------------+----------------------------------+----------------------------------+----------------------------------+----------------------------------+----------------------------------+----------------------------------+----------------------------------+----------------------------------+----------------------------------+----------------------------------+----------------------------------+----------------------------------+----------------------------------+----------------------------------+----------------------------------+----------------------------------+----------------------------------+----------------------------------+----------------------------------+----------------------------------+----------------------------------+----------------------------------+----------------------------------+----------------------------------+----------------------------------+----------------------------------+----------------------------------+----------------------------------+--+\n",
      "| Aruba                                    | ABW                                      | \"Children out of school                    |  primary                                   |  female\"                         | SE.PRM.UNER.FE                   |                                  |                                  |                                  |                                  |                                  |                                  |                                  |                                  |                                  |                                  |                                  |                                  |                                  |                                  |                                  |                                  |                                  |                                  |                                  |                                  |                                  |                                  |                                  |                                  |                                  |                                  |                                  |                                  |                                  |                                  |                                  |                                  |                                  |                                  |                                  |                                  |                                  |                                  |                                  | 52                               | 83                               | 134                              | 233                              | 324                              | 317                              | 151                              | 99                               | 77                               | 55                               | 96                               |                                  |                                  |                                  |                                  | 23                               |\n",
      "| Afghanistan                              | AFG                                      | \"Children out of school                    |  primary                                   |  female\"                         | SE.PRM.UNER.FE                   |                                  |                                  |                                  |                                  |                                  |                                  |                                  |                                  |                                  |                                  |                                  |                                  |                                  |                                  | 878047                           |                                  |                                  |                                  |                                  |                                  |                                  |                                  |                                  |                                  |                                  |                                  |                                  |                                  |                                  |                                  |                                  |                                  |                                  | 1034842                          |                                  |                                  |                                  |                                  |                                  |                                  |                                  |                                  |                                  |                                  |                                  |                                  |                                  |                                  |                                  |                                  |                                  |                                  |                                  |                                  |                                  |\n",
      "| Angola                                   | AGO                                      | \"Children out of school                    |  primary                                   |  female\"                         | SE.PRM.UNER.FE                   |                                  |                                  |                                  |                                  |                                  |                                  |                                  |                                  |                                  |                                  |                                  |                                  |                                  |                                  |                                  |                                  |                                  |                                  |                                  |                                  |                                  |                                  | 281842                           | 315254                           |                                  |                                  |                                  |                                  |                                  |                                  |                                  |                                  |                                  |                                  |                                  |                                  |                                  |                                  | 467049                           |                                  |                                  |                                  |                                  |                                  |                                  |                                  |                                  |                                  | 431230                           | 463178                           | 483922                           | 525174                           |                                  |                                  |                                  |\n",
      "| Albania                                  | ALB                                      | \"Children out of school                    |  primary                                   |  female\"                         | SE.PRM.UNER.FE                   |                                  |                                  |                                  |                                  |                                  |                                  |                                  |                                  |                                  |                                  |                                  |                                  |                                  |                                  |                                  |                                  |                                  |                                  |                                  |                                  |                                  |                                  |                                  |                                  |                                  |                                  |                                  |                                  |                                  |                                  |                                  |                                  |                                  |                                  |                                  |                                  |                                  |                                  |                                  | 5480                             | 6330                             | 7518                             |                                  | 10409                            | 10108                            |                                  |                                  |                                  | 9747                             | 13205                            | 10487                            | 7775                             | 4395                             | 4196                             |                                  |\n",
      "| Andorra                                  | AND                                      | \"Children out of school                    |  primary                                   |  female\"                         | SE.PRM.UNER.FE                   |                                  |                                  |                                  |                                  |                                  |                                  |                                  |                                  |                                  |                                  |                                  |                                  |                                  |                                  |                                  |                                  |                                  |                                  |                                  |                                  |                                  |                                  |                                  |                                  |                                  |                                  |                                  |                                  |                                  |                                  |                                  |                                  |                                  |                                  |                                  |                                  |                                  |                                  |                                  |                                  |                                  |                                  |                                  |                                  |                                  |                                  |                                  |                                  |                                  |                                  |                                  |                                  |                                  |                                  |                                  |\n",
      "+------------------------------------------+------------------------------------------+--------------------------------------------+--------------------------------------------+----------------------------------+----------------------------------+----------------------------------+----------------------------------+----------------------------------+----------------------------------+----------------------------------+----------------------------------+----------------------------------+----------------------------------+----------------------------------+----------------------------------+----------------------------------+----------------------------------+----------------------------------+----------------------------------+----------------------------------+----------------------------------+----------------------------------+----------------------------------+----------------------------------+----------------------------------+----------------------------------+----------------------------------+----------------------------------+----------------------------------+----------------------------------+----------------------------------+----------------------------------+----------------------------------+----------------------------------+----------------------------------+----------------------------------+----------------------------------+----------------------------------+----------------------------------+----------------------------------+----------------------------------+----------------------------------+----------------------------------+----------------------------------+----------------------------------+----------------------------------+----------------------------------+----------------------------------+----------------------------------+----------------------------------+----------------------------------+----------------------------------+----------------------------------+----------------------------------+----------------------------------+----------------------------------+----------------------------------+----------------------------------+----------------------------------+----------------------------------+--+\n",
      "5 rows selected (0.209 seconds)\n",
      "Beeline version 1.1.0-cdh5.7.0 by Apache Hive\n",
      "Closing: 0: jdbc:hive2://localhost:10000/default\n"
     ]
    }
   ],
   "source": [
    "# Comprobamos que tienen datos:\n",
    "! beeline -u \"jdbc:hive2://localhost:10000/default\" -e \"SELECT * FROM ejer2_hive.TablaInternaEscolarizacion limit 5\""
   ]
  }
 ],
 "metadata": {
  "kernelspec": {
   "display_name": "Python 2",
   "language": "python",
   "name": "python2"
  },
  "language_info": {
   "codemirror_mode": {
    "name": "ipython",
    "version": 2
   },
   "file_extension": ".py",
   "mimetype": "text/x-python",
   "name": "python",
   "nbconvert_exporter": "python",
   "pygments_lexer": "ipython2",
   "version": "2.7.13"
  }
 },
 "nbformat": 4,
 "nbformat_minor": 2
}
