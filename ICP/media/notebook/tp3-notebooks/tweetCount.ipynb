{
 "cells": [
  {
   "cell_type": "markdown",
   "metadata": {},
   "source": [
    "# Ejercicio 1 (conteo de tweets): (1 punto)\n",
    "Desarrollar un notebook de Jupyter, denominado “tweetCount.ipynb” en el que se utilice como fuente de datos Kafka, y en concreto el topic kafkaTwitter, se establezca una duración de batch de un segundo, y se muestre, cada 5 segundos, el número de tweets recibidos en los últimos 10 segundos. <b>¿Alrededor de qué número (aproximado) se estabiliza el número de tweets que se procesan en el lapso de tiempo indicado (10 segundos)? ¿Tiene sentido? ¿Por qué?</b>"
   ]
  },
  {
   "cell_type": "code",
   "execution_count": 1,
   "metadata": {},
   "outputs": [],
   "source": [
    "import findspark\n",
    "findspark.init('/opt/spark')"
   ]
  },
  {
   "cell_type": "code",
   "execution_count": 2,
   "metadata": {},
   "outputs": [],
   "source": [
    "import os\n",
    "os.environ['JAVA_HOME'] = '/Library/Java/JavaVirtualMachines/jdk1.8.0_171.jdk/Contents/Home/jre'\n",
    "os.environ['PYSPARK_SUBMIT_ARGS'] = '--master local[*] --packages org.apache.spark:spark-streaming-kafka-0-8_2.11:2.4.4 pyspark-shell'"
   ]
  },
  {
   "cell_type": "code",
   "execution_count": 3,
   "metadata": {},
   "outputs": [],
   "source": [
    "import pyspark \n",
    "from pyspark import SparkConf, SparkContext\n",
    "from pyspark.sql import SparkSession\n",
    "from pyspark.streaming import StreamingContext\n",
    "from pyspark.streaming.kafka import KafkaUtils"
   ]
  },
  {
   "cell_type": "code",
   "execution_count": 4,
   "metadata": {},
   "outputs": [],
   "source": [
    "# Podemos ver el application manager en http://192.168.0.105:4040/jobs/.\n",
    "spark = SparkSession.builder.appName('Tweet Count').getOrCreate()\n",
    "\n",
    "ssc = StreamingContext(spark.sparkContext, 1)\n",
    "ssc.checkpoint(\"checkpoint\")"
   ]
  },
  {
   "cell_type": "code",
   "execution_count": 5,
   "metadata": {},
   "outputs": [],
   "source": [
    "kafkaStream = KafkaUtils.createStream(ssc,zkQuorum='localhost:2181',groupId=\"group_1\" , topics={'kafkaTwitter':2})"
   ]
  },
  {
   "cell_type": "code",
   "execution_count": 6,
   "metadata": {},
   "outputs": [],
   "source": [
    "# Ventana de 10 segundos.\n",
    "# Slide de 5.\n",
    "count_windowed = kafkaStream.countByWindow(10, 5).map(lambda x:('Nº de Tweets tras 5 segundos: %s' % x))\n",
    "count_windowed.pprint(1)"
   ]
  },
  {
   "cell_type": "code",
   "execution_count": 7,
   "metadata": {
    "scrolled": true
   },
   "outputs": [
    {
     "name": "stdout",
     "output_type": "stream",
     "text": [
      "-------------------------------------------\n",
      "Time: 2020-01-11 18:06:38\n",
      "-------------------------------------------\n",
      "Nº de Tweets tras 5 segundos: 2329\n",
      "\n",
      "-------------------------------------------\n",
      "Time: 2020-01-11 18:06:43\n",
      "-------------------------------------------\n",
      "Nº de Tweets tras 5 segundos: 2329\n",
      "\n",
      "-------------------------------------------\n",
      "Time: 2020-01-11 18:06:48\n",
      "-------------------------------------------\n",
      "Nº de Tweets tras 5 segundos: 79\n",
      "\n",
      "-------------------------------------------\n",
      "Time: 2020-01-11 18:06:53\n",
      "-------------------------------------------\n",
      "Nº de Tweets tras 5 segundos: 175\n",
      "\n",
      "-------------------------------------------\n",
      "Time: 2020-01-11 18:06:58\n",
      "-------------------------------------------\n",
      "Nº de Tweets tras 5 segundos: 200\n",
      "\n",
      "-------------------------------------------\n",
      "Time: 2020-01-11 18:07:03\n",
      "-------------------------------------------\n",
      "Nº de Tweets tras 5 segundos: 194\n",
      "\n",
      "-------------------------------------------\n",
      "Time: 2020-01-11 18:07:08\n",
      "-------------------------------------------\n",
      "Nº de Tweets tras 5 segundos: 187\n",
      "\n",
      "-------------------------------------------\n",
      "Time: 2020-01-11 18:07:13\n",
      "-------------------------------------------\n",
      "Nº de Tweets tras 5 segundos: 189\n",
      "\n",
      "-------------------------------------------\n",
      "Time: 2020-01-11 18:07:18\n",
      "-------------------------------------------\n",
      "Nº de Tweets tras 5 segundos: 190\n",
      "\n",
      "-------------------------------------------\n",
      "Time: 2020-01-11 18:07:23\n",
      "-------------------------------------------\n",
      "Nº de Tweets tras 5 segundos: 184\n",
      "\n",
      "-------------------------------------------\n",
      "Time: 2020-01-11 18:07:28\n",
      "-------------------------------------------\n",
      "Nº de Tweets tras 5 segundos: 178\n",
      "\n",
      "-------------------------------------------\n",
      "Time: 2020-01-11 18:07:33\n",
      "-------------------------------------------\n",
      "Nº de Tweets tras 5 segundos: 183\n",
      "\n",
      "-------------------------------------------\n",
      "Time: 2020-01-11 18:07:38\n",
      "-------------------------------------------\n",
      "Nº de Tweets tras 5 segundos: 192\n",
      "\n",
      "-------------------------------------------\n",
      "Time: 2020-01-11 18:07:43\n",
      "-------------------------------------------\n",
      "Nº de Tweets tras 5 segundos: 187\n",
      "\n"
     ]
    }
   ],
   "source": [
    "ssc.start()\n",
    "# ssc.awaitTermination()"
   ]
  },
  {
   "cell_type": "markdown",
   "metadata": {},
   "source": [
    "## ¿Alrededor de qué número (aproximado) se estabiliza el número de tweets que se procesan en el lapso de tiempo indicado (10 segundos)? ¿Tiene sentido? ¿Por qué?"
   ]
  },
  {
   "cell_type": "markdown",
   "metadata": {},
   "source": [
    "Las primeras ventanas no tienen registros porque el job que mete datos en el topic no esta activo.\n",
    "\n",
    "la 3º ventana recoge los primeros registro. Como calcula el sumatorio de los últimos 10 segundos tiene 0 registros para los primeros segundos muestra un número inusualmente bajo: 33.\n",
    "\n",
    "A partir de la 5º ventana se estabilizan los registros en ~ 190 registros cada 10 segundos.\n",
    "\n",
    "\n",
    "Tiene sentido puesto que según se desplace la ventana llega a cubrir ventanas con registros por cada segenudo. Las primeras tienen 0 registros en cada segundo procesado y según avanza tienen registros para cada uno de los segundos (batches de 1s.)\n",
    "\n",
    "NOTA:\n",
    "Al ejecutar por segunda vez la traza que aparece en el notebook es distinta. La traza de ahora muestra 2000+ registros porque se ha traido todos los mensajes que había en eñl topic sin comitear."
   ]
  }
 ],
 "metadata": {
  "kernelspec": {
   "display_name": "Python 3",
   "language": "python",
   "name": "python3"
  },
  "language_info": {
   "codemirror_mode": {
    "name": "ipython",
    "version": 3
   },
   "file_extension": ".py",
   "mimetype": "text/x-python",
   "name": "python",
   "nbconvert_exporter": "python",
   "pygments_lexer": "ipython3",
   "version": "3.7.5"
  }
 },
 "nbformat": 4,
 "nbformat_minor": 4
}
