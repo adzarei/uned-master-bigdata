{
 "cells": [
  {
   "cell_type": "code",
   "execution_count": 1,
   "metadata": {},
   "outputs": [],
   "source": [
    "import findspark\n",
    "findspark.init('/opt/spark')"
   ]
  },
  {
   "cell_type": "code",
   "execution_count": 2,
   "metadata": {},
   "outputs": [],
   "source": [
    "import os\n",
    "os.environ['JAVA_HOME'] = '/Library/Java/JavaVirtualMachines/jdk1.8.0_171.jdk/Contents/Home/jre'\n",
    "os.environ['PYSPARK_SUBMIT_ARGS'] = '--master local[*] --packages org.apache.spark:spark-streaming-kafka-0-8_2.11:2.4.4 pyspark-shell'"
   ]
  },
  {
   "cell_type": "code",
   "execution_count": 3,
   "metadata": {},
   "outputs": [],
   "source": [
    "import pyspark\n",
    "import pyspark.streaming\n",
    "from pyspark import SparkConf, SparkContext\n",
    "from pyspark.streaming import StreamingContext\n",
    "from pyspark.streaming.kafka import KafkaUtils"
   ]
  },
  {
   "cell_type": "code",
   "execution_count": 4,
   "metadata": {},
   "outputs": [],
   "source": [
    "sc = SparkContext(master=\"local[*]\", appName=\"Tweet Count\")\n",
    "\n",
    "# 1s de batchDuration\n",
    "ssc = StreamingContext(sc, 1)\n",
    "\n",
    "ssc.checkpoint(\"checkpoint\")"
   ]
  },
  {
   "cell_type": "code",
   "execution_count": 5,
   "metadata": {},
   "outputs": [],
   "source": [
    "kafkaStream = KafkaUtils.createStream(ssc,zkQuorum='localhost:2181',groupId=\"group_1\" , topics={'kafkaTwitter':2})"
   ]
  },
  {
   "cell_type": "code",
   "execution_count": 6,
   "metadata": {},
   "outputs": [],
   "source": [
    "# Ventana de 10 segundos.\n",
    "# Slide de 5.\n",
    "count_windowed = kafkaStream.countByWindow(10, 5).map(lambda x:('Nº de Tweets tras 5 segundos: %s' % x))\n",
    "\n",
    "count_windowed.pprint()"
   ]
  },
  {
   "cell_type": "code",
   "execution_count": null,
   "metadata": {
    "scrolled": true
   },
   "outputs": [
    {
     "name": "stdout",
     "output_type": "stream",
     "text": [
      "-------------------------------------------\n",
      "Time: 2020-01-11 13:24:17\n",
      "-------------------------------------------\n",
      "\n",
      "-------------------------------------------\n",
      "Time: 2020-01-11 13:24:22\n",
      "-------------------------------------------\n",
      "\n",
      "-------------------------------------------\n",
      "Time: 2020-01-11 13:24:27\n",
      "-------------------------------------------\n",
      "Nº de Tweets tras 5 segundos: 33\n",
      "\n",
      "-------------------------------------------\n",
      "Time: 2020-01-11 13:24:32\n",
      "-------------------------------------------\n",
      "Nº de Tweets tras 5 segundos: 129\n",
      "\n",
      "-------------------------------------------\n",
      "Time: 2020-01-11 13:24:37\n",
      "-------------------------------------------\n",
      "Nº de Tweets tras 5 segundos: 194\n",
      "\n",
      "-------------------------------------------\n",
      "Time: 2020-01-11 13:24:42\n",
      "-------------------------------------------\n",
      "Nº de Tweets tras 5 segundos: 197\n",
      "\n",
      "-------------------------------------------\n",
      "Time: 2020-01-11 13:24:47\n",
      "-------------------------------------------\n",
      "Nº de Tweets tras 5 segundos: 190\n",
      "\n",
      "-------------------------------------------\n",
      "Time: 2020-01-11 13:24:52\n",
      "-------------------------------------------\n",
      "Nº de Tweets tras 5 segundos: 191\n",
      "\n",
      "-------------------------------------------\n",
      "Time: 2020-01-11 13:24:57\n",
      "-------------------------------------------\n",
      "Nº de Tweets tras 5 segundos: 182\n",
      "\n",
      "-------------------------------------------\n",
      "Time: 2020-01-11 13:25:02\n",
      "-------------------------------------------\n",
      "Nº de Tweets tras 5 segundos: 180\n",
      "\n",
      "-------------------------------------------\n",
      "Time: 2020-01-11 13:25:07\n",
      "-------------------------------------------\n",
      "Nº de Tweets tras 5 segundos: 191\n",
      "\n",
      "-------------------------------------------\n",
      "Time: 2020-01-11 13:25:12\n",
      "-------------------------------------------\n",
      "Nº de Tweets tras 5 segundos: 200\n",
      "\n"
     ]
    }
   ],
   "source": [
    "ssc.start()\n",
    "ssc.awaitTermination()"
   ]
  },
  {
   "cell_type": "markdown",
   "metadata": {},
   "source": [
    "## ¿Alrededor de qué número (aproximado) se estabiliza el número de tweets que se procesan en el lapso de tiempo indicado (10 segundos)? ¿Tiene sentido? ¿Por qué?"
   ]
  },
  {
   "cell_type": "markdown",
   "metadata": {},
   "source": [
    "Las primeras ventanas no tienen registros porque el job que mete datos en el topic no esta activo.\n",
    "\n",
    "la 3º ventana recoge los primeros registro. Como calcula el sumatorio de los últimos 10 segundos tiene 0 registros para los primeros segundos muestra un número inusualmente bajo: 33.\n",
    "\n",
    "A partir de la 5º ventana se estabilizan los registros en ~ 190 registros cada 10 segundos.\n",
    "\n",
    "\n",
    "Tiene sentido puesto que según se desplace la ventana llega a cubrir ventanas con registros por cada segenudo. Las primeras tienen 0 registros en cada segundo procesado y según avanza tienen registros para cada uno de los segundos (batches de 1s.)"
   ]
  }
 ],
 "metadata": {
  "kernelspec": {
   "display_name": "Python 3",
   "language": "python",
   "name": "python3"
  },
  "language_info": {
   "codemirror_mode": {
    "name": "ipython",
    "version": 3
   },
   "file_extension": ".py",
   "mimetype": "text/x-python",
   "name": "python",
   "nbconvert_exporter": "python",
   "pygments_lexer": "ipython3",
   "version": "3.7.5"
  }
 },
 "nbformat": 4,
 "nbformat_minor": 4
}
