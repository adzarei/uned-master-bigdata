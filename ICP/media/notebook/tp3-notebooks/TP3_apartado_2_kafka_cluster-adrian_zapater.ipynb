{
 "cells": [
  {
   "cell_type": "markdown",
   "metadata": {},
   "source": [
    "# TP3 - Adrián José Zapater Reig\n",
    "## Apartado 2 - Kafka + Spark streaming"
   ]
  },
  {
   "cell_type": "markdown",
   "metadata": {},
   "source": [
    "Primero levantamos el cluster de kafka:"
   ]
  },
  {
   "cell_type": "code",
   "execution_count": null,
   "metadata": {},
   "outputs": [],
   "source": [
    "# Zookeeper en el puerto 2181\n",
    "! /usr/local/kafka/bin/zookeeper-server-start.sh /usr/local/kafka/config/zookeeper.properties"
   ]
  },
  {
   "cell_type": "code",
   "execution_count": 2,
   "metadata": {},
   "outputs": [
    {
     "name": "stdout",
     "output_type": "stream",
     "text": [
      "broker.id=0\n",
      "listeners=PLAINTEXT://:9092\n",
      "log.dirs=/tmp/kafka-logs-0\n",
      "\n",
      "\n",
      "num.network.threads=3\n",
      "num.io.threads=8\n",
      "\n",
      "socket.send.buffer.bytes=102400\n",
      "socket.receive.buffer.bytes=102400\n",
      "socket.request.max.bytes=104857600\n",
      "\n",
      "\n",
      "num.partitions=1\n",
      "num.recovery.threads.per.data.dir=1\n",
      "\n",
      "offsets.topic.replication.factor=1\n",
      "transaction.state.log.replication.factor=1\n",
      "transaction.state.log.min.isr=1\n",
      "\n",
      "log.retention.hours=168\n",
      "log.segment.bytes=1073741824\n",
      "log.retention.check.interval.ms=300000\n",
      "\n",
      "zookeeper.connect=localhost:2181\n",
      "zookeeper.connection.timeout.ms=6000\n",
      "\n",
      "group.initial.rebalance.delay.ms=0\n"
     ]
    }
   ],
   "source": [
    "# Broker1 puerto 9092\n",
    "! cat /usr/local/kafka/config/broker_3.properties"
   ]
  },
  {
   "cell_type": "code",
   "execution_count": null,
   "metadata": {},
   "outputs": [],
   "source": [
    "! /usr/local/kafka/bin/kafka-server-start.sh /usr/local/kafka/config/broker_3.properties"
   ]
  },
  {
   "cell_type": "code",
   "execution_count": 3,
   "metadata": {},
   "outputs": [
    {
     "name": "stdout",
     "output_type": "stream",
     "text": [
      "broker.id=1\n",
      "listeners=PLAINTEXT://:9093\n",
      "log.dirs=/tmp/kafka-logs-1\n",
      "\n",
      "\n",
      "num.network.threads=3\n",
      "num.io.threads=8\n",
      "\n",
      "socket.send.buffer.bytes=102400\n",
      "socket.receive.buffer.bytes=102400\n",
      "socket.request.max.bytes=104857600\n",
      "\n",
      "\n",
      "num.partitions=1\n",
      "num.recovery.threads.per.data.dir=1\n",
      "\n",
      "offsets.topic.replication.factor=1\n",
      "transaction.state.log.replication.factor=1\n",
      "transaction.state.log.min.isr=1\n",
      "\n",
      "log.retention.hours=168\n",
      "log.segment.bytes=1073741824\n",
      "log.retention.check.interval.ms=300000\n",
      "\n",
      "zookeeper.connect=localhost:2181\n",
      "zookeeper.connection.timeout.ms=6000\n",
      "\n",
      "group.initial.rebalance.delay.ms=0\n"
     ]
    }
   ],
   "source": [
    "# Broker2 puerto 9093\n",
    "! cat /usr/local/kafka/config/broker_1.properties"
   ]
  },
  {
   "cell_type": "code",
   "execution_count": null,
   "metadata": {},
   "outputs": [],
   "source": [
    "! /usr/local/kafka/bin/kafka-server-start.sh /usr/local/kafka/config/broker_1.properties"
   ]
  },
  {
   "cell_type": "code",
   "execution_count": 4,
   "metadata": {},
   "outputs": [],
   "source": [
    "# kafkaTwitter topic usando broker o como bootstrap server.\n",
    "! /usr/local/kafka/bin/kafka-topics.sh --create --bootstrap-server localhost:9092 --replication-factor 2 --partitions 2 --topic kafkaTwitter"
   ]
  },
  {
   "cell_type": "code",
   "execution_count": 5,
   "metadata": {},
   "outputs": [
    {
     "name": "stdout",
     "output_type": "stream",
     "text": [
      "__consumer_offsets\n",
      "kafkaTwitter\n"
     ]
    }
   ],
   "source": [
    "l"
   ]
  }
 ],
 "metadata": {
  "kernelspec": {
   "display_name": "Python 3",
   "language": "python",
   "name": "python3"
  },
  "language_info": {
   "codemirror_mode": {
    "name": "ipython",
    "version": 3
   },
   "file_extension": ".py",
   "mimetype": "text/x-python",
   "name": "python",
   "nbconvert_exporter": "python",
   "pygments_lexer": "ipython3",
   "version": "3.7.5"
  }
 },
 "nbformat": 4,
 "nbformat_minor": 4
}
