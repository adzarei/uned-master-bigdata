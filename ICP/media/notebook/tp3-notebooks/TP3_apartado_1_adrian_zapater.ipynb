{
 "cells": [
  {
   "cell_type": "markdown",
   "metadata": {},
   "source": [
    "# TP3 - Adrián José Zapater Reig\n",
    "## Apartado 1 - Kafka"
   ]
  },
  {
   "cell_type": "markdown",
   "metadata": {},
   "source": [
    "### 1. Localizar el archivo que contiene la configuración del servidor Zookeeper y levantar dicho servidor utilizando la configuración por defecto. ¿Qué puerto es el utilizado por defecto por Zookeeper?"
   ]
  },
  {
   "cell_type": "code",
   "execution_count": 1,
   "metadata": {},
   "outputs": [
    {
     "name": "stdout",
     "output_type": "stream",
     "text": [
      "# Licensed to the Apache Software Foundation (ASF) under one or more\n",
      "# contributor license agreements.  See the NOTICE file distributed with\n",
      "# this work for additional information regarding copyright ownership.\n",
      "# The ASF licenses this file to You under the Apache License, Version 2.0\n",
      "# (the \"License\"); you may not use this file except in compliance with\n",
      "# the License.  You may obtain a copy of the License at\n",
      "# \n",
      "#    http://www.apache.org/licenses/LICENSE-2.0\n",
      "# \n",
      "# Unless required by applicable law or agreed to in writing, software\n",
      "# distributed under the License is distributed on an \"AS IS\" BASIS,\n",
      "# WITHOUT WARRANTIES OR CONDITIONS OF ANY KIND, either express or implied.\n",
      "# See the License for the specific language governing permissions and\n",
      "# limitations under the License.\n",
      "# the directory where the snapshot is stored.\n",
      "dataDir=/tmp/zookeeper\n",
      "# the port at which the clients will connect\n",
      "clientPort=2181\n",
      "# disable the per-ip limit on the number of connections since this is a non-production config\n",
      "maxClientCnxns=0\n",
      "# Disable the adminserver by default to avoid port conflicts.\n",
      "# Set the port to something non-conflicting if choosing to enable this\n",
      "admin.enableServer=false\n",
      "# admin.serverPort=8080\n",
      "\n",
      "# Enable snapshot.trust.empty config if the ZK upgrade from 3.4.X to 3.5.6 is failing\n",
      "# with \"java.io.IOException: No snapshot found, but there are log entries\" error.\n",
      "# Check upgrade docs for more details.\n",
      "# snapshot.trust.empty=true\n"
     ]
    }
   ],
   "source": [
    "# Vamos a usar el zookeeper que incorpora por defecto kafka\n",
    "!cat /usr/local/kafka/config/zookeeper.properties"
   ]
  },
  {
   "cell_type": "markdown",
   "metadata": {},
   "source": [
    "#### El puerto por defecto es 2181. Lo podemos localizar en la propiedad clientPort."
   ]
  },
  {
   "cell_type": "code",
   "execution_count": null,
   "metadata": {},
   "outputs": [],
   "source": [
    "# Levantamos zookeeper:\n",
    "! /usr/local/kafka/bin/zookeeper-server-start.sh /usr/local/kafka/config/zookeeper.properties"
   ]
  },
  {
   "cell_type": "markdown",
   "metadata": {},
   "source": [
    "## 2. Localizar el archivo que contiene la configuración de un broker y levantar dicho broker. ¿Qué puerto es el utilizado por defecto por los brokers?"
   ]
  },
  {
   "cell_type": "code",
   "execution_count": 8,
   "metadata": {},
   "outputs": [
    {
     "name": "stdout",
     "output_type": "stream",
     "text": [
      "# Licensed to the Apache Software Foundation (ASF) under one or more\n",
      "# contributor license agreements.  See the NOTICE file distributed with\n",
      "# this work for additional information regarding copyright ownership.\n",
      "# The ASF licenses this file to You under the Apache License, Version 2.0\n",
      "# (the \"License\"); you may not use this file except in compliance with\n",
      "# the License.  You may obtain a copy of the License at\n",
      "#\n",
      "#    http://www.apache.org/licenses/LICENSE-2.0\n",
      "#\n",
      "# Unless required by applicable law or agreed to in writing, software\n",
      "# distributed under the License is distributed on an \"AS IS\" BASIS,\n",
      "# WITHOUT WARRANTIES OR CONDITIONS OF ANY KIND, either express or implied.\n",
      "# See the License for the specific language governing permissions and\n",
      "# limitations under the License.\n",
      "\n",
      "# see kafka.server.KafkaConfig for additional details and defaults\n",
      "\n",
      "############################# Server Basics #############################\n",
      "\n",
      "# The id of the broker. This must be set to a unique integer for each broker.\n",
      "broker.id=0\n",
      "\n",
      "############################# Socket Server Settings #############################\n",
      "\n",
      "# The address the socket server listens on. It will get the value returned from \n",
      "# java.net.InetAddress.getCanonicalHostName() if not configured.\n",
      "#   FORMAT:\n",
      "#     listeners = listener_name://host_name:port\n",
      "#   EXAMPLE:\n",
      "#     listeners = PLAINTEXT://your.host.name:9092\n",
      "#listeners=PLAINTEXT://:9092\n",
      "\n",
      "# Hostname and port the broker will advertise to producers and consumers. If not set, \n",
      "# it uses the value for \"listeners\" if configured.  Otherwise, it will use the value\n",
      "# returned from java.net.InetAddress.getCanonicalHostName().\n",
      "#advertised.listeners=PLAINTEXT://your.host.name:9092\n",
      "\n",
      "# Maps listener names to security protocols, the default is for them to be the same. See the config documentation for more details\n",
      "#listener.security.protocol.map=PLAINTEXT:PLAINTEXT,SSL:SSL,SASL_PLAINTEXT:SASL_PLAINTEXT,SASL_SSL:SASL_SSL\n",
      "\n",
      "# The number of threads that the server uses for receiving requests from the network and sending responses to the network\n",
      "num.network.threads=3\n",
      "\n",
      "# The number of threads that the server uses for processing requests, which may include disk I/O\n",
      "num.io.threads=8\n",
      "\n",
      "# The send buffer (SO_SNDBUF) used by the socket server\n",
      "socket.send.buffer.bytes=102400\n",
      "\n",
      "# The receive buffer (SO_RCVBUF) used by the socket server\n",
      "socket.receive.buffer.bytes=102400\n",
      "\n",
      "# The maximum size of a request that the socket server will accept (protection against OOM)\n",
      "socket.request.max.bytes=104857600\n",
      "\n",
      "\n",
      "############################# Log Basics #############################\n",
      "\n",
      "# A comma separated list of directories under which to store log files\n",
      "log.dirs=/tmp/kafka-logs\n",
      "\n",
      "# The default number of log partitions per topic. More partitions allow greater\n",
      "# parallelism for consumption, but this will also result in more files across\n",
      "# the brokers.\n",
      "num.partitions=1\n",
      "\n",
      "# The number of threads per data directory to be used for log recovery at startup and flushing at shutdown.\n",
      "# This value is recommended to be increased for installations with data dirs located in RAID array.\n",
      "num.recovery.threads.per.data.dir=1\n",
      "\n",
      "############################# Internal Topic Settings  #############################\n",
      "# The replication factor for the group metadata internal topics \"__consumer_offsets\" and \"__transaction_state\"\n",
      "# For anything other than development testing, a value greater than 1 is recommended to ensure availability such as 3.\n",
      "offsets.topic.replication.factor=1\n",
      "transaction.state.log.replication.factor=1\n",
      "transaction.state.log.min.isr=1\n",
      "\n",
      "############################# Log Flush Policy #############################\n",
      "\n",
      "# Messages are immediately written to the filesystem but by default we only fsync() to sync\n",
      "# the OS cache lazily. The following configurations control the flush of data to disk.\n",
      "# There are a few important trade-offs here:\n",
      "#    1. Durability: Unflushed data may be lost if you are not using replication.\n",
      "#    2. Latency: Very large flush intervals may lead to latency spikes when the flush does occur as there will be a lot of data to flush.\n",
      "#    3. Throughput: The flush is generally the most expensive operation, and a small flush interval may lead to excessive seeks.\n",
      "# The settings below allow one to configure the flush policy to flush data after a period of time or\n",
      "# every N messages (or both). This can be done globally and overridden on a per-topic basis.\n",
      "\n",
      "# The number of messages to accept before forcing a flush of data to disk\n",
      "#log.flush.interval.messages=10000\n",
      "\n",
      "# The maximum amount of time a message can sit in a log before we force a flush\n",
      "#log.flush.interval.ms=1000\n",
      "\n",
      "############################# Log Retention Policy #############################\n",
      "\n",
      "# The following configurations control the disposal of log segments. The policy can\n",
      "# be set to delete segments after a period of time, or after a given size has accumulated.\n",
      "# A segment will be deleted whenever *either* of these criteria are met. Deletion always happens\n",
      "# from the end of the log.\n",
      "\n",
      "# The minimum age of a log file to be eligible for deletion due to age\n",
      "log.retention.hours=168\n",
      "\n",
      "# A size-based retention policy for logs. Segments are pruned from the log unless the remaining\n",
      "# segments drop below log.retention.bytes. Functions independently of log.retention.hours.\n",
      "#log.retention.bytes=1073741824\n",
      "\n",
      "# The maximum size of a log segment file. When this size is reached a new log segment will be created.\n",
      "log.segment.bytes=1073741824\n",
      "\n",
      "# The interval at which log segments are checked to see if they can be deleted according\n",
      "# to the retention policies\n",
      "log.retention.check.interval.ms=300000\n",
      "\n",
      "############################# Zookeeper #############################\n",
      "\n",
      "# Zookeeper connection string (see zookeeper docs for details).\n",
      "# This is a comma separated host:port pairs, each corresponding to a zk\n",
      "# server. e.g. \"127.0.0.1:3000,127.0.0.1:3001,127.0.0.1:3002\".\n",
      "# You can also append an optional chroot string to the urls to specify the\n",
      "# root directory for all kafka znodes.\n",
      "zookeeper.connect=localhost:2181\n",
      "\n",
      "# Timeout in ms for connecting to zookeeper\n",
      "zookeeper.connection.timeout.ms=6000\n",
      "\n",
      "\n",
      "############################# Group Coordinator Settings #############################\n",
      "\n",
      "# The following configuration specifies the time, in milliseconds, that the GroupCoordinator will delay the initial consumer rebalance.\n",
      "# The rebalance will be further delayed by the value of group.initial.rebalance.delay.ms as new members join the group, up to a maximum of max.poll.interval.ms.\n",
      "# The default value for this is 3 seconds.\n",
      "# We override this to 0 here as it makes for a better out-of-the-box experience for development and testing.\n",
      "# However, in production environments the default value of 3 seconds is more suitable as this will help to avoid unnecessary, and potentially expensive, rebalances during application startup.\n",
      "group.initial.rebalance.delay.ms=0\n"
     ]
    }
   ],
   "source": [
    "! cat /usr/local/kafka/config/server.properties"
   ]
  },
  {
   "cell_type": "code",
   "execution_count": null,
   "metadata": {},
   "outputs": [],
   "source": [
    "! /usr/local/kafka/bin/kafka-server-start.sh /usr/local/kafka/config/server.properties"
   ]
  },
  {
   "cell_type": "markdown",
   "metadata": {},
   "source": [
    "Puerto por defecto: 9092. Lo podemos obtener de la traza de la shell al levantar el broker."
   ]
  },
  {
   "cell_type": "markdown",
   "metadata": {},
   "source": [
    "## 3. Crear un topic nuevo con el nombre “initial”, con una partición y un factor de replicación igual a 1."
   ]
  },
  {
   "cell_type": "code",
   "execution_count": 22,
   "metadata": {},
   "outputs": [],
   "source": [
    "! /usr/local/kafka/bin/kafka-topics.sh --create --bootstrap-server localhost:9092 --replication-factor 1 --partitions 1 --topic initial"
   ]
  },
  {
   "cell_type": "code",
   "execution_count": 11,
   "metadata": {},
   "outputs": [
    {
     "name": "stdout",
     "output_type": "stream",
     "text": [
      "initial\n"
     ]
    }
   ],
   "source": [
    "# Comprobamos que se ha creado:\n",
    "! /usr/local/kafka/bin/kafka-topics.sh --list --bootstrap-server localhost:9092"
   ]
  },
  {
   "cell_type": "markdown",
   "metadata": {},
   "source": [
    "## 4. Describir el topic “initial” y comentar los resultados que se obtienen.\n",
    "Tenemos un topic con una única partición, por lo que dicha partición tendrá todos los mensajes.\n",
    "Tenemos un único factor de replicación por lo que los mensajes solo se almacenarán en el master. No hay tolerancia a fallos."
   ]
  },
  {
   "cell_type": "markdown",
   "metadata": {},
   "source": [
    "## 5. Arrancar un productor sobre el topic “initial”."
   ]
  },
  {
   "cell_type": "code",
   "execution_count": null,
   "metadata": {},
   "outputs": [],
   "source": [
    "! /usr/local/kafka/bin/kafka-console-producer.sh --broker-list localhost:9092 --topic initial"
   ]
  },
  {
   "cell_type": "markdown",
   "metadata": {},
   "source": [
    "## 6. Arrancar un consumidor sobre el topic “initial” que consuma todos los mensajes desde el principio."
   ]
  },
  {
   "cell_type": "code",
   "execution_count": null,
   "metadata": {},
   "outputs": [],
   "source": [
    "! /usr/local/kafka/bin/kafka-console-consumer.sh --bootstrap-server localhost:9092 --topic initial --from-beginning"
   ]
  },
  {
   "cell_type": "markdown",
   "metadata": {},
   "source": [
    "## 7. Generar algunos mensajes en el productor levantado en el ejercicio 5 y observar cómo se reciben en el consumidor levantado en el ejercicio 6. Comentar la salida obtenida. Detener a continuación el productor y el consumidor."
   ]
  },
  {
   "cell_type": "markdown",
   "metadata": {},
   "source": [
    "Los mensajes que escribimos en el productor aparecen en el mismo orden en el consumidor con un pequeño delay. los mensajes que se han escrito en el productor antes de crear el consumidor también han sido recibido en el mismo orden en el consumidor."
   ]
  },
  {
   "cell_type": "markdown",
   "metadata": {},
   "source": [
    "## 8. Crear un topic nuevo con el nombre “testRep”, con dos particiones y un factor de replicación igual a 2. ¿Qué sucede? ¿Cuál es la razón?"
   ]
  },
  {
   "cell_type": "code",
   "execution_count": null,
   "metadata": {},
   "outputs": [],
   "source": [
    "! /usr/local/kafka/bin/kafka-topics.sh --create --bootstrap-server localhost:9092 --replication-factor 2 --partitions 2 --topic testRep"
   ]
  },
  {
   "cell_type": "markdown",
   "metadata": {},
   "source": [
    "RESULTADO: <br/>\n",
    "[2020-01-10 19:31:28,198] ERROR java.util.concurrent.ExecutionException: org.apache.kafka.common.errors.InvalidReplicationFactorException: Replication factor: 2 larger than available brokers: 1."
   ]
  },
  {
   "cell_type": "markdown",
   "metadata": {},
   "source": [
    "Nos devuelve un error. Esto se debe a que solo tenemos un broker levantado y no puede replicar 2 veces los mensajes si solo tenemos un broker."
   ]
  },
  {
   "cell_type": "markdown",
   "metadata": {},
   "source": [
    "## 9. Detener el broker levantado en el ejercicio 2."
   ]
  },
  {
   "cell_type": "markdown",
   "metadata": {},
   "source": [
    "## 10. Levantar tres brokers distintos: generar nuevos ficheros de configuración para cada uno de ellos indicando las modificaciones que han sido necesarias. Los identificadores de los brokers serán 0, 1 y 2."
   ]
  },
  {
   "cell_type": "code",
   "execution_count": 17,
   "metadata": {},
   "outputs": [
    {
     "name": "stdout",
     "output_type": "stream",
     "text": [
      "broker.id=0\n",
      "listeners=PLAINTEXT://:9092\n",
      "log.dirs=/tmp/kafka-logs-0\n",
      "\n",
      "\n",
      "num.network.threads=3\n",
      "num.io.threads=8\n",
      "\n",
      "socket.send.buffer.bytes=102400\n",
      "socket.receive.buffer.bytes=102400\n",
      "socket.request.max.bytes=104857600\n",
      "\n",
      "\n",
      "num.partitions=1\n",
      "num.recovery.threads.per.data.dir=1\n",
      "\n",
      "offsets.topic.replication.factor=1\n",
      "transaction.state.log.replication.factor=1\n",
      "transaction.state.log.min.isr=1\n",
      "\n",
      "log.retention.hours=168\n",
      "log.segment.bytes=1073741824\n",
      "log.retention.check.interval.ms=300000\n",
      "\n",
      "zookeeper.connect=localhost:2181\n",
      "zookeeper.connection.timeout.ms=6000\n",
      "\n",
      "group.initial.rebalance.delay.ms=0\n"
     ]
    }
   ],
   "source": [
    "#Fichero de configuración de broker 1 - id 0:\n",
    "! cat /usr/local/kafka/config/broker_3.properties"
   ]
  },
  {
   "cell_type": "code",
   "execution_count": 18,
   "metadata": {},
   "outputs": [
    {
     "name": "stdout",
     "output_type": "stream",
     "text": [
      "broker.id=1\n",
      "listeners=PLAINTEXT://:9093\n",
      "log.dirs=/tmp/kafka-logs-1\n",
      "\n",
      "\n",
      "num.network.threads=3\n",
      "num.io.threads=8\n",
      "\n",
      "socket.send.buffer.bytes=102400\n",
      "socket.receive.buffer.bytes=102400\n",
      "socket.request.max.bytes=104857600\n",
      "\n",
      "\n",
      "num.partitions=1\n",
      "num.recovery.threads.per.data.dir=1\n",
      "\n",
      "offsets.topic.replication.factor=1\n",
      "transaction.state.log.replication.factor=1\n",
      "transaction.state.log.min.isr=1\n",
      "\n",
      "log.retention.hours=168\n",
      "log.segment.bytes=1073741824\n",
      "log.retention.check.interval.ms=300000\n",
      "\n",
      "zookeeper.connect=localhost:2181\n",
      "zookeeper.connection.timeout.ms=6000\n",
      "\n",
      "group.initial.rebalance.delay.ms=0\n"
     ]
    }
   ],
   "source": [
    "#Fichero de configuración de broker 2 - id 1:\n",
    "! cat /usr/local/kafka/config/broker_1.properties"
   ]
  },
  {
   "cell_type": "code",
   "execution_count": 19,
   "metadata": {},
   "outputs": [
    {
     "name": "stdout",
     "output_type": "stream",
     "text": [
      "broker.id=2\n",
      "listeners=PLAINTEXT://:9094\n",
      "log.dirs=/tmp/kafka-logs-2\n",
      "\n",
      "\n",
      "num.network.threads=3\n",
      "num.io.threads=8\n",
      "\n",
      "socket.send.buffer.bytes=102400\n",
      "socket.receive.buffer.bytes=102400\n",
      "socket.request.max.bytes=104857600\n",
      "\n",
      "\n",
      "num.partitions=1\n",
      "num.recovery.threads.per.data.dir=1\n",
      "\n",
      "offsets.topic.replication.factor=1\n",
      "transaction.state.log.replication.factor=1\n",
      "transaction.state.log.min.isr=1\n",
      "\n",
      "log.retention.hours=168\n",
      "log.segment.bytes=1073741824\n",
      "log.retention.check.interval.ms=300000\n",
      "\n",
      "zookeeper.connect=localhost:2181\n",
      "zookeeper.connection.timeout.ms=6000\n",
      "\n",
      "group.initial.rebalance.delay.ms=0\n"
     ]
    }
   ],
   "source": [
    "#Fichero de configuración de broker 3 - id 2:\n",
    "! cat /usr/local/kafka/config/broker_2.properties"
   ]
  },
  {
   "cell_type": "code",
   "execution_count": null,
   "metadata": {},
   "outputs": [],
   "source": [
    "! /usr/local/kafka/bin/kafka-server-start.sh /usr/local/kafka/config/broker_1.properties\n",
    "! /usr/local/kafka/bin/kafka-server-start.sh /usr/local/kafka/config/broker_2.properties\n",
    "! /usr/local/kafka/bin/kafka-server-start.sh /usr/local/kafka/config/broker_3.properties"
   ]
  },
  {
   "cell_type": "markdown",
   "metadata": {},
   "source": [
    "Para poder levantar 3 brokers necesitamos declarar cada broker con un id único, un puerto libre y un fichero de log separado.\n",
    "\n",
    "se han modificado las siguientes propiedades:\n",
    "\n",
    "- broker.id=<$id>\n",
    "\n",
    "- listeners=<$puerto>\n",
    "\n",
    "- log.dirs=<$ruta_de_logs>"
   ]
  },
  {
   "cell_type": "markdown",
   "metadata": {},
   "source": [
    "## 12. Crear un topic nuevo con el nombre “testOrder1”, con 1 partición y factor de replicación igual a 3."
   ]
  },
  {
   "cell_type": "code",
   "execution_count": 23,
   "metadata": {},
   "outputs": [
    {
     "name": "stdout",
     "output_type": "stream",
     "text": [
      "__consumer_offsets\n",
      "initial\n",
      "testOrder1\n"
     ]
    }
   ],
   "source": [
    "! /usr/local/kafka/bin/kafka-topics.sh --create --bootstrap-server localhost:9092 --replication-factor 3 --partitions 1 --topic testOrder1\n",
    "! /usr/local/kafka/bin/kafka-topics.sh --list --bootstrap-server localhost:9092"
   ]
  },
  {
   "cell_type": "markdown",
   "metadata": {},
   "source": [
    "NOTA: Apuntamos al broker 0 como bootstrap-server para almacenar los metadatos ahí."
   ]
  },
  {
   "cell_type": "markdown",
   "metadata": {},
   "source": [
    "## 13. Crear un topic nuevo con el nombre “testOrder2”, con 3 particiones y factor de replicación igual a 3."
   ]
  },
  {
   "cell_type": "code",
   "execution_count": 24,
   "metadata": {},
   "outputs": [
    {
     "name": "stdout",
     "output_type": "stream",
     "text": [
      "__consumer_offsets\n",
      "initial\n",
      "testOrder1\n",
      "testOrder2\n"
     ]
    }
   ],
   "source": [
    "! /usr/local/kafka/bin/kafka-topics.sh --create --bootstrap-server localhost:9092 --replication-factor 3 --partitions 3 --topic testOrder2\n",
    "! /usr/local/kafka/bin/kafka-topics.sh --list --bootstrap-server localhost:9092"
   ]
  },
  {
   "cell_type": "markdown",
   "metadata": {},
   "source": [
    "## 14. Describir los topics “testOrder1” y “testOrder2” y comentar los resultados que se obtienen."
   ]
  },
  {
   "cell_type": "markdown",
   "metadata": {},
   "source": [
    "Se han creado 2 topics, ambos con 3 factor de replicación 3 por lo que cada mensaje se almacenará 3 veces. Un topic tiene 1 partición a la que irán todos los mensajes y el otro tiene 3 particiones. Los mensajes del segundo se distribuirán por id de partición, si tiene, entre las particiones. En caso de no tener id de partición se usará el módulo de la key del mensaje y si tampoco tiene eso, se utilizará el algoritmo round robin para repartir los mensajes."
   ]
  },
  {
   "cell_type": "markdown",
   "metadata": {},
   "source": [
    "## 15. Arrancar un productor sobre el topic “testOrder1” y un consumidor desde el inicio sobre el mismo topic. Introducir algunos mensajes y observar cómo se consumen. Detener el productor y el consumidor."
   ]
  },
  {
   "cell_type": "code",
   "execution_count": null,
   "metadata": {},
   "outputs": [],
   "source": [
    "! /usr/local/kafka/bin/kafka-console-producer.sh --broker-list localhost:9092 --topic testOrder1"
   ]
  },
  {
   "cell_type": "raw",
   "metadata": {},
   "source": [
    "adzarei@adzarei-mac:kafka $ /usr/local/kafka/bin/kafka-console-producer.sh --broker-list localhost:9092 --topic testOrder1\n",
    ">hola\n",
    ">que tal\n",
    ">bla bla bla\n",
    ">adios\n"
   ]
  },
  {
   "cell_type": "code",
   "execution_count": null,
   "metadata": {},
   "outputs": [],
   "source": [
    "! /usr/local/kafka/bin/kafka-console-consumer.sh --bootstrap-server localhost:9092 --topic testOrder1 --from-beginning"
   ]
  },
  {
   "cell_type": "raw",
   "metadata": {},
   "source": [
    "adzarei@adzarei-mac:kafka $ /usr/local/kafka/bin/kafka-console-consumer.sh --bootstrap-server localhost:9092 --topic testOrder1 --from-beginning\n",
    "hola\n",
    "que tal\n",
    "bla bla bla\n",
    "adios"
   ]
  },
  {
   "cell_type": "markdown",
   "metadata": {},
   "source": [
    "## 16. Arrancar un productor sobre el topic “testOrder2” y un consumidor desde el inicio sobre el mismo topic. Introducir algunos mensajes y observar cómo se consumen. Detener el productor y el consumidor."
   ]
  },
  {
   "cell_type": "code",
   "execution_count": null,
   "metadata": {},
   "outputs": [],
   "source": [
    "! /usr/local/kafka/bin/kafka-console-producer.sh --broker-list localhost:9092 --topic testOrder2"
   ]
  },
  {
   "cell_type": "raw",
   "metadata": {},
   "source": [
    "adzarei@adzarei-mac:kafka $ /usr/local/kafka/bin/kafka-console-producer.sh --broker-list localhost:9092 --topic testOrder2\n",
    ">hola\n",
    ">que tal\n",
    ">bl BLA BLA\n",
    ">adios\n",
    ">"
   ]
  },
  {
   "cell_type": "code",
   "execution_count": null,
   "metadata": {},
   "outputs": [],
   "source": [
    "! /usr/local/kafka/bin/kafka-console-consumer.sh --bootstrap-server localhost:9092 --topic testOrder2 --from-beginning"
   ]
  },
  {
   "cell_type": "raw",
   "metadata": {},
   "source": [
    "adzarei@adzarei-mac:kafka $ /usr/local/kafka/bin/kafka-console-consumer.sh --bootstrap-server localhost:9092 --topic testOrder2 --from-beginning\n",
    "hola\n",
    "que tal\n",
    "bl BLA BLA\n",
    "adios\n"
   ]
  },
  {
   "cell_type": "markdown",
   "metadata": {},
   "source": [
    "## 17. Arrancar un consumidor sobre el topic “testOrder1”, sin que consuma desde el principio, únicamente los valores que le lleguen desde el nuevo arranque. En otra consola, generar una secuencia de números del 1 al 30 (utilizar el comando “seq”) y enviársela mediante una tubería o pipe (indicada con el carácter “|”) a un productor sobre el topic “testOrder1”. Observar cómo se consume dicha secuencia en el consumidor."
   ]
  },
  {
   "cell_type": "code",
   "execution_count": null,
   "metadata": {},
   "outputs": [],
   "source": [
    "! /usr/local/kafka/bin/kafka-console-consumer.sh --bootstrap-server localhost:9092 --topic testOrder1"
   ]
  },
  {
   "cell_type": "code",
   "execution_count": null,
   "metadata": {},
   "outputs": [],
   "source": [
    "! seq 1 30 | /usr/local/kafka/bin/kafka-console-producer.sh --broker-list localhost:9092 --topic testOrder1"
   ]
  },
  {
   "cell_type": "raw",
   "metadata": {},
   "source": [
    "adzarei@adzarei-mac:kafka $ /usr/local/kafka/bin/kafka-console-consumer.sh --bootstrap-server localhost:9092 --topic testOrder1\n",
    "1\n",
    "2\n",
    "3\n",
    "4\n",
    "5\n",
    "6\n",
    "7\n",
    "8\n",
    "9\n",
    "10\n",
    "11\n",
    "12\n",
    "13\n",
    "14\n",
    "15\n",
    "16\n",
    "17\n",
    "18\n",
    "19\n",
    "20\n",
    "21\n",
    "22\n",
    "23\n",
    "24\n",
    "25\n",
    "26\n",
    "27\n",
    "28\n",
    "29\n",
    "30\n"
   ]
  },
  {
   "cell_type": "markdown",
   "metadata": {},
   "source": [
    "## 18. Arrancar un consumidor sobre el topic “testOrder2”, sin que consuma desde el principio, únicamente los valores que le lleguen desde el nuevo arranque. En otra consola, generar una secuencia de números del 1 al 30 (utilizar el comando “seq”) y enviársela mediante una tubería o pipe (indicada con el carácter “|”) a un productor sobre el topic “testOrder2”. Observar cómo se consume dicha secuencia en el consumidor."
   ]
  },
  {
   "cell_type": "code",
   "execution_count": null,
   "metadata": {},
   "outputs": [],
   "source": [
    "! /usr/local/kafka/bin/kafka-console-consumer.sh --bootstrap-server localhost:9092 --topic testOrder2"
   ]
  },
  {
   "cell_type": "code",
   "execution_count": null,
   "metadata": {},
   "outputs": [],
   "source": [
    "! seq 1 30 | /usr/local/kafka/bin/kafka-console-producer.sh --broker-list localhost:9092 --topic testOrder2"
   ]
  },
  {
   "cell_type": "raw",
   "metadata": {},
   "source": [
    "adzarei@adzarei-mac:kafka $ /usr/local/kafka-2.3.0/bin/kafka-console-consumer.sh --bootstrap-server localhost:9092 --topic testOrder2\n",
    "1\n",
    "4\n",
    "7\n",
    "10\n",
    "13\n",
    "16\n",
    "19\n",
    "22\n",
    "25\n",
    "28\n",
    "2\n",
    "5\n",
    "8\n",
    "11\n",
    "14\n",
    "17\n",
    "20\n",
    "23\n",
    "26\n",
    "29\n",
    "3\n",
    "6\n",
    "9\n",
    "12\n",
    "15\n",
    "18\n",
    "21\n",
    "24\n",
    "27\n",
    "30"
   ]
  },
  {
   "cell_type": "markdown",
   "metadata": {},
   "source": [
    "## 19. ¿Cuáles son las diferencias entre lo mostrado en el consumidor en los dos ejercicios anteriores? ¿A qué se deben?"
   ]
  },
  {
   "cell_type": "markdown",
   "metadata": {},
   "source": [
    "Como se puede apreciar kafka sólo respeta el orden de los mensajes en una partición, pero no entre particiones. \n",
    "\n",
    "Se puede apreciar que, como no se ha asignado una kay para los mensajes ha usado el algoritmo round roubin para enviar un mensaje (número) a cada partición: \n",
    "\n",
    "1 -> partición 1, \n",
    "\n",
    "2 -> partición 2, \n",
    "\n",
    "3 -> partición 3, \n",
    "\n",
    "4 -> partición 1, \n",
    "\n",
    "...."
   ]
  },
  {
   "cell_type": "markdown",
   "metadata": {},
   "source": [
    "## 20. Obtener los últimos offsets de los mensajes del topic “testOrder1” y “testOrder2”. ¿Qué se observa? (Utilizar el comando kafka-run-class con la opción kafka.tools.GetOffsetShell)."
   ]
  },
  {
   "cell_type": "code",
   "execution_count": null,
   "metadata": {},
   "outputs": [],
   "source": [
    "! /usr/local/kafka/bin/kafka-run-class.sh kafka.tools.GetOffsetShell --broker-list localhost:9092 --topic testOrder1"
   ]
  },
  {
   "cell_type": "raw",
   "metadata": {},
   "source": [
    "testOrder1:0:30"
   ]
  },
  {
   "cell_type": "code",
   "execution_count": null,
   "metadata": {},
   "outputs": [],
   "source": [
    "! /usr/local/kafka/bin/kafka-run-class.sh kafka.tools.GetOffsetShell --broker-list localhost:9092 --topic testOrder2"
   ]
  },
  {
   "cell_type": "raw",
   "metadata": {},
   "source": [
    "testOrder2:0:10\n",
    "testOrder2:1:10\n",
    "testOrder2:2:10"
   ]
  },
  {
   "cell_type": "markdown",
   "metadata": {},
   "source": [
    "testOrder1 solo tiene 1 partición y por eso una única línea con 30 mensajes.\n",
    "\n",
    "testOrder2 tiene 3 particiones y por eso tiene una línea con 10 mensajes por partición."
   ]
  },
  {
   "cell_type": "markdown",
   "metadata": {},
   "source": [
    "## 21. Detener de forma no planificada (utilizando Ctrl-C o cerrando la consola) el broker con identificador 2, y describir el topic “testOrder2”. ¿Cuáles son las diferencias con la descripción que obtuvimos en el ejercicio 14? ¿A qué se deben?"
   ]
  },
  {
   "cell_type": "code",
   "execution_count": null,
   "metadata": {},
   "outputs": [],
   "source": [
    "! /usr/local/kafka/bin/kafka-run-class.sh kafka.tools.GetOffsetShell --broker-list localhost:9092 --topic testOrder2"
   ]
  },
  {
   "cell_type": "code",
   "execution_count": null,
   "metadata": {},
   "outputs": [],
   "source": []
  }
 ],
 "metadata": {
  "kernelspec": {
   "display_name": "Python 3",
   "language": "python",
   "name": "python3"
  },
  "language_info": {
   "codemirror_mode": {
    "name": "ipython",
    "version": 3
   },
   "file_extension": ".py",
   "mimetype": "text/x-python",
   "name": "python",
   "nbconvert_exporter": "python",
   "pygments_lexer": "ipython3",
   "version": "3.7.5"
  }
 },
 "nbformat": 4,
 "nbformat_minor": 4
}
