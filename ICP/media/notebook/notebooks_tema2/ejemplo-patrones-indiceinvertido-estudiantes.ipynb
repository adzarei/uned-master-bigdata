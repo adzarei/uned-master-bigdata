{
 "cells": [
  {
   "cell_type": "markdown",
   "metadata": {},
   "source": [
    "# Ejemplo de patrones: Índice invertido"
   ]
  },
  {
   "cell_type": "markdown",
   "metadata": {},
   "source": [
    "En este ejercicio vamos a implementar un índice invertido sobre las palabras que aparecen en los textos de los posts del dataset proporcionado. \n",
    "\n",
    "Un post contiene una serie de campos separados por tabuladores. Los campos son los siguientes: \n",
    "\n",
    "\"id\", \"title\", \"tagnames\", \"author_id\", \"body\", \"node_type\", \"parent_id\", \"abs_parent_id\", \"added_at\", \"score\", \"state_string\", \"last_edited_id\", \"last_activity_by_id\", \"last_activity_at\", \"active_revision_id\", \"extra\", \"extra_ref_id\", \"extra_count\", \"marked\" \n",
    "\n",
    "Este índice debe contener para cada palabra que aparezca en el campo body, un listado de los identificadores (campo id) de los posts en los que aparece, así como un contador que indique en cuántos  posts aparece. Para separar las palabras, podemos utilizar el espacio en blanco, así como los siguientes caracteres: .!?:;\"()<>[]#$=~/ \n",
    "\n",
    "Este índice debe servir para responder preguntas como por ejemplo: \n",
    "\n",
    " - ¿Cuántas veces aparece la palabra frase en los foros? \n",
    "\n",
    " - ¿En qué posts aparece la palabra frase (en orden ascendente)? \n"
   ]
  },
  {
   "cell_type": "code",
   "execution_count": 1,
   "metadata": {},
   "outputs": [],
   "source": [
    "! mkdir -p ejemplo-patrones/indiceinvertido"
   ]
  },
  {
   "cell_type": "code",
   "execution_count": 2,
   "metadata": {},
   "outputs": [],
   "source": [
    "import os\n",
    "os.chdir(\"/media/notebooks/ejemplo-patrones/indiceinvertido\")"
   ]
  },
  {
   "cell_type": "code",
   "execution_count": 3,
   "metadata": {},
   "outputs": [
    {
     "name": "stdout",
     "output_type": "stream",
     "text": [
      "/media/notebooks/ejemplo-patrones/indiceinvertido\r\n"
     ]
    }
   ],
   "source": [
    "! pwd"
   ]
  },
  {
   "cell_type": "code",
   "execution_count": 4,
   "metadata": {},
   "outputs": [
    {
     "name": "stdout",
     "output_type": "stream",
     "text": [
      "Overwriting mapper.py\n"
     ]
    }
   ],
   "source": [
    "%%writefile mapper.py\n",
    "#!/usr/bin/env python\n",
    "\n",
    "import sys\n",
    "import csv\n",
    "import re\n",
    "\n",
    "#Utilizar espacios en blanco y estos caracteres para separar palabras: .!?:;\"()<>[]#$=~/\n",
    "\n",
    "\n",
    "reader = csv.reader(sys.stdin, delimiter='\\t')\n",
    "writer = csv.writer(sys.stdout, delimiter='\\t', quotechar='\"', quoting=csv.QUOTE_ALL)\n",
    "\n",
    "for line in reader:\n",
    "\n",
    "    # PON TU CODIGO AQUI\n"
   ]
  },
  {
   "cell_type": "code",
   "execution_count": 5,
   "metadata": {},
   "outputs": [
    {
     "name": "stdout",
     "output_type": "stream",
     "text": [
      "Overwriting reducer.py\n"
     ]
    }
   ],
   "source": [
    "%%writefile reducer.py\n",
    "#!/usr/bin/env python\n",
    "\n",
    "import sys\n",
    "\n",
    "\n",
    "prevWord = None\n",
    "nodes = []\n",
    "\n",
    "for line in sys.stdin:\n",
    "# PON TU CODIGO AQUI\n"
   ]
  },
  {
   "cell_type": "code",
   "execution_count": 6,
   "metadata": {},
   "outputs": [
    {
     "name": "stdout",
     "output_type": "stream",
     "text": [
      "mkdir: `/tmp/forumdata': File exists\r\n"
     ]
    }
   ],
   "source": [
    "! hdfs dfs -mkdir /tmp/forumdata"
   ]
  },
  {
   "cell_type": "markdown",
   "metadata": {},
   "source": [
    "## Los ficheros forum_nodes.tsv y forum_users.tsv deben estar descargados en la carpeta /media/notebooks/forumdata/"
   ]
  },
  {
   "cell_type": "markdown",
   "metadata": {},
   "source": [
    "Primero probamos nuestro código en local, solamente la función map"
   ]
  },
  {
   "cell_type": "code",
   "execution_count": 7,
   "metadata": {},
   "outputs": [],
   "source": [
    "! cat /media/notebooks/forumdata/forum_node.tsv | python mapper.py | sort > salmap"
   ]
  },
  {
   "cell_type": "code",
   "execution_count": 8,
   "metadata": {},
   "outputs": [
    {
     "name": "stdout",
     "output_type": "stream",
     "text": [
      "zzzz\t14790\r\n",
      "zzzz\t30278\r\n",
      "zzzz\t30278\r\n",
      "zzzz\t30278\r\n",
      "zzzz\t6012819\r\n",
      "zzzz\t6013087\r\n",
      "zzzzz\t1007093\r\n",
      "zzzzz\t5006080\r\n",
      "zzzzzzzz\t60416\r\n",
      "zzzzzzzzzzzzzzz\t8353\r\n"
     ]
    }
   ],
   "source": [
    "! tail salmap"
   ]
  },
  {
   "cell_type": "markdown",
   "metadata": {},
   "source": [
    "Ahora probamos nuestro código en local, las funciones map y reduce"
   ]
  },
  {
   "cell_type": "code",
   "execution_count": 10,
   "metadata": {},
   "outputs": [],
   "source": [
    "! cat salmap | python reducer.py > sal"
   ]
  },
  {
   "cell_type": "code",
   "execution_count": 11,
   "metadata": {},
   "outputs": [
    {
     "name": "stdout",
     "output_type": "stream",
     "text": [
      "zyxwvutsrqponmlkjihgfedcba\t2\t[2006416, 2006973]\r\n",
      "zz\t14\t[18342, 18342, 1007745, 1007745, 3001761, 3001761, 6012667, 6017785, 6026138, 8001021, 8001116, 10011348, 10011348, 10011348]\r\n",
      "zzpayr68yq0\t2\t[66767, 66767]\r\n",
      "zzyov\t5\t[9001731, 9001731, 9001978, 9001978, 9001981]\r\n",
      "zzz\t6\t[499, 8385, 44153, 44153, 1035273, 8001021]\r\n",
      "zzzax\t1\t[11004608]\r\n",
      "zzzz\t8\t[14790, 14790, 14790, 30278, 30278, 30278, 6012819, 6013087]\r\n",
      "zzzzz\t2\t[1007093, 5006080]\r\n",
      "zzzzzzzz\t1\t[60416]\r\n",
      "zzzzzzzzzzzzzzz\t1\t[8353]\r\n"
     ]
    }
   ],
   "source": [
    "! tail sal"
   ]
  },
  {
   "cell_type": "code",
   "execution_count": 12,
   "metadata": {},
   "outputs": [],
   "source": [
    "! cat /media/notebooks/forumdata/forum_node.tsv | python mapper.py | \\\n",
    "sort | python reducer.py > sal "
   ]
  },
  {
   "cell_type": "code",
   "execution_count": 13,
   "metadata": {},
   "outputs": [
    {
     "name": "stdout",
     "output_type": "stream",
     "text": [
      "zyxwvutsrqponmlkjihgfedcba\t2\t[2006416, 2006973]\r\n",
      "zz\t14\t[18342, 18342, 1007745, 1007745, 3001761, 3001761, 6012667, 6017785, 6026138, 8001021, 8001116, 10011348, 10011348, 10011348]\r\n",
      "zzpayr68yq0\t2\t[66767, 66767]\r\n",
      "zzyov\t5\t[9001731, 9001731, 9001978, 9001978, 9001981]\r\n",
      "zzz\t6\t[499, 8385, 44153, 44153, 1035273, 8001021]\r\n",
      "zzzax\t1\t[11004608]\r\n",
      "zzzz\t8\t[14790, 14790, 14790, 30278, 30278, 30278, 6012819, 6013087]\r\n",
      "zzzzz\t2\t[1007093, 5006080]\r\n",
      "zzzzzzzz\t1\t[60416]\r\n",
      "zzzzzzzzzzzzzzz\t1\t[8353]\r\n"
     ]
    }
   ],
   "source": [
    "! tail sal"
   ]
  },
  {
   "cell_type": "markdown",
   "metadata": {},
   "source": [
    "Ahora lo probamos en Hadoop"
   ]
  },
  {
   "cell_type": "code",
   "execution_count": 14,
   "metadata": {},
   "outputs": [
    {
     "name": "stdout",
     "output_type": "stream",
     "text": [
      "put: `/tmp/forumdata/forum1.tsv': File exists\r\n",
      "put: `/tmp/forumdata/forum_node.tsv': File exists\r\n",
      "put: `/tmp/forumdata/forum_users.tsv': File exists\r\n"
     ]
    }
   ],
   "source": [
    "! hdfs dfs -put /media/notebooks/forumdata/* /tmp/forumdata"
   ]
  },
  {
   "cell_type": "code",
   "execution_count": 15,
   "metadata": {
    "scrolled": true
   },
   "outputs": [
    {
     "name": "stdout",
     "output_type": "stream",
     "text": [
      "Found 3 items\r\n",
      "-rw-r--r--   3 root supergroup       1774 2019-08-12 08:03 /tmp/forumdata/forum1.tsv\r\n",
      "-rw-r--r--   3 root supergroup  120313812 2019-08-12 08:03 /tmp/forumdata/forum_node.tsv\r\n",
      "-rw-r--r--   3 root supergroup     530989 2019-08-12 08:03 /tmp/forumdata/forum_users.tsv\r\n"
     ]
    }
   ],
   "source": [
    "! hdfs dfs -ls /tmp/forumdata"
   ]
  },
  {
   "cell_type": "markdown",
   "metadata": {},
   "source": [
    "Eliminamos la carpeta que almacena la salida, antes de ejecutar el código"
   ]
  },
  {
   "cell_type": "code",
   "execution_count": 16,
   "metadata": {},
   "outputs": [
    {
     "name": "stdout",
     "output_type": "stream",
     "text": [
      "Deleted /tmp/salida-indice/_SUCCESS\r\n",
      "Deleted /tmp/salida-indice/part-00000\r\n"
     ]
    }
   ],
   "source": [
    "! hdfs dfs -rm /tmp/salida-indice/*\n",
    "! hdfs dfs -rmdir /tmp/salida-indice"
   ]
  },
  {
   "cell_type": "code",
   "execution_count": 17,
   "metadata": {},
   "outputs": [
    {
     "name": "stdout",
     "output_type": "stream",
     "text": [
      "packageJobJar: [] [/usr/lib/hadoop-mapreduce/hadoop-streaming-2.6.0-cdh5.15.1.jar] /tmp/streamjob7080822615855652850.jar tmpDir=null\n",
      "19/08/12 09:30:39 INFO client.RMProxy: Connecting to ResourceManager at yarnmaster/172.21.0.3:8032\n",
      "19/08/12 09:30:39 INFO client.RMProxy: Connecting to ResourceManager at yarnmaster/172.21.0.3:8032\n",
      "19/08/12 09:30:39 INFO mapred.FileInputFormat: Total input paths to process : 1\n",
      "19/08/12 09:30:39 INFO mapreduce.JobSubmitter: number of splits:2\n",
      "19/08/12 09:30:40 INFO mapreduce.JobSubmitter: Submitting tokens for job: job_1565590814059_0010\n",
      "19/08/12 09:30:40 INFO impl.YarnClientImpl: Submitted application application_1565590814059_0010\n",
      "19/08/12 09:30:40 INFO mapreduce.Job: The url to track the job: http://yarnmaster:8088/proxy/application_1565590814059_0010/\n",
      "19/08/12 09:30:40 INFO mapreduce.Job: Running job: job_1565590814059_0010\n",
      "19/08/12 09:30:45 INFO mapreduce.Job: Job job_1565590814059_0010 running in uber mode : false\n",
      "19/08/12 09:30:45 INFO mapreduce.Job:  map 0% reduce 0%\n",
      "19/08/12 09:31:02 INFO mapreduce.Job:  map 58% reduce 0%\n",
      "19/08/12 09:31:08 INFO mapreduce.Job:  map 75% reduce 0%\n",
      "19/08/12 09:31:10 INFO mapreduce.Job:  map 84% reduce 0%\n",
      "19/08/12 09:31:11 INFO mapreduce.Job:  map 100% reduce 0%\n",
      "19/08/12 09:31:26 INFO mapreduce.Job:  map 100% reduce 72%\n",
      "19/08/12 09:31:32 INFO mapreduce.Job:  map 100% reduce 80%\n",
      "19/08/12 09:31:39 INFO mapreduce.Job:  map 100% reduce 87%\n",
      "19/08/12 09:31:45 INFO mapreduce.Job:  map 100% reduce 95%\n",
      "19/08/12 09:31:48 INFO mapreduce.Job:  map 100% reduce 100%\n",
      "19/08/12 09:31:49 INFO mapreduce.Job: Job job_1565590814059_0010 completed successfully\n",
      "19/08/12 09:31:49 INFO mapreduce.Job: Counters: 50\n",
      "\tFile System Counters\n",
      "\t\tFILE: Number of bytes read=424915544\n",
      "\t\tFILE: Number of bytes written=637815869\n",
      "\t\tFILE: Number of read operations=0\n",
      "\t\tFILE: Number of large read operations=0\n",
      "\t\tFILE: Number of write operations=0\n",
      "\t\tHDFS: Number of bytes read=120318110\n",
      "\t\tHDFS: Number of bytes written=126428205\n",
      "\t\tHDFS: Number of read operations=9\n",
      "\t\tHDFS: Number of large read operations=0\n",
      "\t\tHDFS: Number of write operations=2\n",
      "\tJob Counters \n",
      "\t\tLaunched map tasks=2\n",
      "\t\tLaunched reduce tasks=1\n",
      "\t\tData-local map tasks=1\n",
      "\t\tRack-local map tasks=1\n",
      "\t\tTotal time spent by all maps in occupied slots (ms)=46996\n",
      "\t\tTotal time spent by all reduces in occupied slots (ms)=35484\n",
      "\t\tTotal time spent by all map tasks (ms)=46996\n",
      "\t\tTotal time spent by all reduce tasks (ms)=35484\n",
      "\t\tTotal vcore-milliseconds taken by all map tasks=46996\n",
      "\t\tTotal vcore-milliseconds taken by all reduce tasks=35484\n",
      "\t\tTotal megabyte-milliseconds taken by all map tasks=48123904\n",
      "\t\tTotal megabyte-milliseconds taken by all reduce tasks=36335616\n",
      "\tMap-Reduce Framework\n",
      "\t\tMap input records=922570\n",
      "\t\tMap output records=14565776\n",
      "\t\tMap output bytes=183326057\n",
      "\t\tMap output materialized bytes=212457763\n",
      "\t\tInput split bytes=202\n",
      "\t\tCombine input records=0\n",
      "\t\tCombine output records=0\n",
      "\t\tReduce input groups=137243\n",
      "\t\tReduce shuffle bytes=212457763\n",
      "\t\tReduce input records=14565776\n",
      "\t\tReduce output records=137243\n",
      "\t\tSpilled Records=43697328\n",
      "\t\tShuffled Maps =2\n",
      "\t\tFailed Shuffles=0\n",
      "\t\tMerged Map outputs=2\n",
      "\t\tGC time elapsed (ms)=423\n",
      "\t\tCPU time spent (ms)=85560\n",
      "\t\tPhysical memory (bytes) snapshot=1348173824\n",
      "\t\tVirtual memory (bytes) snapshot=7930748928\n",
      "\t\tTotal committed heap usage (bytes)=1206386688\n",
      "\tShuffle Errors\n",
      "\t\tBAD_ID=0\n",
      "\t\tCONNECTION=0\n",
      "\t\tIO_ERROR=0\n",
      "\t\tWRONG_LENGTH=0\n",
      "\t\tWRONG_MAP=0\n",
      "\t\tWRONG_REDUCE=0\n",
      "\tFile Input Format Counters \n",
      "\t\tBytes Read=120317908\n",
      "\tFile Output Format Counters \n",
      "\t\tBytes Written=126428205\n",
      "19/08/12 09:31:49 INFO streaming.StreamJob: Output directory: /tmp/salida-indice\n"
     ]
    }
   ],
   "source": [
    "! hadoop jar /usr/lib/hadoop-mapreduce/hadoop-streaming.jar \\\n",
    "-files mapper.py,reducer.py -mapper mapper.py -reducer reducer.py \\\n",
    "-input /tmp/forumdata/forum_node.tsv -output /tmp/salida-indice"
   ]
  },
  {
   "cell_type": "code",
   "execution_count": 18,
   "metadata": {},
   "outputs": [
    {
     "name": "stdout",
     "output_type": "stream",
     "text": [
      "n\t1\t[6382]\r\n",
      "zylaijejwx\t2\t[2009935, 2009935]\r\n",
      "zyrc\t2\t[6003614, 6003614]\r\n",
      "zyrcster\t41\t[9419, 31688, 38541, 38541, 38541, 38541, 38541, 38541, 38541, 38541, 38541, 38541, 41733, 41733, 41733, 61855, 61855, 61855, 63196, 63196, 63196, 6007347, 6007347, 6007347, 6008775, 6016174, 6016174, 6016470, 6016473, 7000024, 7000089, 7000089, 7000089, 7000514, 7000738, 7000738, 7000738, 7001187, 7001187, 7001187, 7002685]\r\n",
      "zyrcster's\t1\t[9247]\r\n",
      "zyrcstr\t1\t[62785]\r\n",
      "zyrcter\t1\t[11610]\r\n",
      "zyrcwords\t1\t[6020095]\r\n",
      "zytrax\t3\t[6028725, 6028725, 7002663]\r\n",
      "zyvex\t1\t[944]\r\n",
      "zyx\t1\t[8004310]\r\n",
      "zyxwvutsrqponmlkjihgfedcba\t2\t[2006416, 2006973]\r\n",
      "zz\t14\t[18342, 18342, 1007745, 1007745, 3001761, 3001761, 6012667, 6017785, 6026138, 8001021, 8001116, 10011348, 10011348, 10011348]\r\n",
      "zzpayr68yq0\t2\t[66767, 66767]\r\n",
      "zzyov\t5\t[9001731, 9001731, 9001978, 9001978, 9001981]\r\n",
      "zzz\t6\t[499, 8385, 44153, 44153, 1035273, 8001021]\r\n",
      "zzzax\t1\t[11004608]\r\n",
      "zzzz\t8\t[14790, 14790, 14790, 30278, 30278, 30278, 6012819, 6013087]\r\n",
      "zzzzz\t2\t[1007093, 5006080]\r\n",
      "zzzzzzzz\t1\t[60416]\r\n",
      "zzzzzzzzzzzzzzz\t1\t[8353]\r\n"
     ]
    }
   ],
   "source": [
    "! hdfs dfs -tail /tmp/salida-indice/part-00000"
   ]
  },
  {
   "cell_type": "code",
   "execution_count": null,
   "metadata": {},
   "outputs": [],
   "source": []
  }
 ],
 "metadata": {
  "kernelspec": {
   "display_name": "Python 3",
   "language": "python",
   "name": "python3"
  },
  "language_info": {
   "codemirror_mode": {
    "name": "ipython",
    "version": 3
   },
   "file_extension": ".py",
   "mimetype": "text/x-python",
   "name": "python",
   "nbconvert_exporter": "python",
   "pygments_lexer": "ipython3",
   "version": "3.7.3"
  }
 },
 "nbformat": 4,
 "nbformat_minor": 2
}
