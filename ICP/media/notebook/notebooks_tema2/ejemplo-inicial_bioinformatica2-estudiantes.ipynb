{
 "cells": [
  {
   "cell_type": "markdown",
   "metadata": {},
   "source": [
    "# Ejemplo de bioinformática2"
   ]
  },
  {
   "cell_type": "markdown",
   "metadata": {},
   "source": [
    "En este ejemplo vamos a continuar analizando datos de un dataset de bioinformática"
   ]
  },
  {
   "cell_type": "markdown",
   "metadata": {},
   "source": [
    "Ahora vamos a eliminar todas las columnas excepto las 13 primeras. Tras esto, sobre las columnas resultantes, vamos a calcular de las columnas gsd19023, gsd19024, gsd19025, gsd19026 de una fila cuál es el valor máximo, mínimo y medio."
   ]
  },
  {
   "cell_type": "code",
   "execution_count": 1,
   "metadata": {},
   "outputs": [],
   "source": [
    "! mkdir -p ejemplo-inicial/bioinformatica2"
   ]
  },
  {
   "cell_type": "code",
   "execution_count": 2,
   "metadata": {},
   "outputs": [],
   "source": [
    "import os\n",
    "os.chdir(\"/media/notebooks/ejemplo-inicial/bioinformatica2\")"
   ]
  },
  {
   "cell_type": "code",
   "execution_count": 17,
   "metadata": {},
   "outputs": [
    {
     "name": "stdout",
     "output_type": "stream",
     "text": [
      "Overwriting mapper.py\n"
     ]
    }
   ],
   "source": [
    "%%writefile mapper.py\n",
    "#!/usr/bin/python\n",
    " \n",
    "import sys\n",
    "\n",
    "for line in sys.stdin:\n",
    "# Pon tu codigo aqui"
   ]
  },
  {
   "cell_type": "code",
   "execution_count": 18,
   "metadata": {},
   "outputs": [
    {
     "name": "stdout",
     "output_type": "stream",
     "text": [
      "Overwriting reducer.py\n"
     ]
    }
   ],
   "source": [
    "%%writefile reducer.py\n",
    "#!/usr/bin/python\n",
    " \n",
    "import sys\n",
    "import random\n",
    "\n",
    "# Para cada fila, calcular el max, min y avg de las columnas gsd19023,gsd19024,gsd19025,gsd19026\n",
    "# y mostrarlas junto con las otras 13 columnas\n",
    " \n",
    "for line in sys.stdin:\n",
    "   # Pon tu codigo aqui"
   ]
  },
  {
   "cell_type": "code",
   "execution_count": 19,
   "metadata": {},
   "outputs": [
    {
     "name": "stdout",
     "output_type": "stream",
     "text": [
      "Deleted /tmp/salida-ejemplobioinformatica2/_SUCCESS\r\n",
      "Deleted /tmp/salida-ejemplobioinformatica2/part-00000\r\n"
     ]
    }
   ],
   "source": [
    "! hdfs dfs -rm /tmp/salida-ejemplobioinformatica2/*\n",
    "! hdfs dfs -rmdir /tmp/salida-ejemplobioinformatica2"
   ]
  },
  {
   "cell_type": "code",
   "execution_count": 20,
   "metadata": {},
   "outputs": [
    {
     "name": "stdout",
     "output_type": "stream",
     "text": [
      "packageJobJar: [] [/usr/lib/hadoop-mapreduce/hadoop-streaming-2.6.0-cdh5.9.0.jar] /tmp/streamjob3288865416672612079.jar tmpDir=null\n",
      "19/07/10 16:49:33 INFO client.RMProxy: Connecting to ResourceManager at yarnmaster/172.18.0.2:8032\n",
      "19/07/10 16:49:33 INFO client.RMProxy: Connecting to ResourceManager at yarnmaster/172.18.0.2:8032\n",
      "19/07/10 16:49:34 INFO mapred.FileInputFormat: Total input paths to process : 1\n",
      "19/07/10 16:49:34 INFO mapreduce.JobSubmitter: number of splits:2\n",
      "19/07/10 16:49:34 INFO mapreduce.JobSubmitter: Submitting tokens for job: job_1562757543411_0022\n",
      "19/07/10 16:49:34 INFO impl.YarnClientImpl: Submitted application application_1562757543411_0022\n",
      "19/07/10 16:49:34 INFO mapreduce.Job: The url to track the job: http://yarnmaster:8088/proxy/application_1562757543411_0022/\n",
      "19/07/10 16:49:34 INFO mapreduce.Job: Running job: job_1562757543411_0022\n",
      "19/07/10 16:49:39 INFO mapreduce.Job: Job job_1562757543411_0022 running in uber mode : false\n",
      "19/07/10 16:49:39 INFO mapreduce.Job:  map 0% reduce 0%\n",
      "19/07/10 16:49:44 INFO mapreduce.Job:  map 100% reduce 0%\n",
      "19/07/10 16:49:50 INFO mapreduce.Job:  map 100% reduce 100%\n",
      "19/07/10 16:49:51 INFO mapreduce.Job: Job job_1562757543411_0022 completed successfully\n",
      "19/07/10 16:49:52 INFO mapreduce.Job: Counters: 50\n",
      "\tFile System Counters\n",
      "\t\tFILE: Number of bytes read=1936508\n",
      "\t\tFILE: Number of bytes written=4236459\n",
      "\t\tFILE: Number of read operations=0\n",
      "\t\tFILE: Number of large read operations=0\n",
      "\t\tFILE: Number of write operations=0\n",
      "\t\tHDFS: Number of bytes read=13276461\n",
      "\t\tHDFS: Number of bytes written=1995786\n",
      "\t\tHDFS: Number of read operations=9\n",
      "\t\tHDFS: Number of large read operations=0\n",
      "\t\tHDFS: Number of write operations=2\n",
      "\tJob Counters \n",
      "\t\tLaunched map tasks=2\n",
      "\t\tLaunched reduce tasks=1\n",
      "\t\tData-local map tasks=1\n",
      "\t\tRack-local map tasks=1\n",
      "\t\tTotal time spent by all maps in occupied slots (ms)=6062\n",
      "\t\tTotal time spent by all reduces in occupied slots (ms)=3282\n",
      "\t\tTotal time spent by all map tasks (ms)=6062\n",
      "\t\tTotal time spent by all reduce tasks (ms)=3282\n",
      "\t\tTotal vcore-seconds taken by all map tasks=6062\n",
      "\t\tTotal vcore-seconds taken by all reduce tasks=3282\n",
      "\t\tTotal megabyte-seconds taken by all map tasks=6207488\n",
      "\t\tTotal megabyte-seconds taken by all reduce tasks=3360768\n",
      "\tMap-Reduce Framework\n",
      "\t\tMap input records=12489\n",
      "\t\tMap output records=11444\n",
      "\t\tMap output bytes=1905273\n",
      "\t\tMap output materialized bytes=1936514\n",
      "\t\tInput split bytes=240\n",
      "\t\tCombine input records=0\n",
      "\t\tCombine output records=0\n",
      "\t\tReduce input groups=11444\n",
      "\t\tReduce shuffle bytes=1936514\n",
      "\t\tReduce input records=11444\n",
      "\t\tReduce output records=10315\n",
      "\t\tSpilled Records=22888\n",
      "\t\tShuffled Maps =2\n",
      "\t\tFailed Shuffles=0\n",
      "\t\tMerged Map outputs=2\n",
      "\t\tGC time elapsed (ms)=206\n",
      "\t\tCPU time spent (ms)=2690\n",
      "\t\tPhysical memory (bytes) snapshot=740827136\n",
      "\t\tVirtual memory (bytes) snapshot=7963541504\n",
      "\t\tTotal committed heap usage (bytes)=697827328\n",
      "\tShuffle Errors\n",
      "\t\tBAD_ID=0\n",
      "\t\tCONNECTION=0\n",
      "\t\tIO_ERROR=0\n",
      "\t\tWRONG_LENGTH=0\n",
      "\t\tWRONG_MAP=0\n",
      "\t\tWRONG_REDUCE=0\n",
      "\tFile Input Format Counters \n",
      "\t\tBytes Read=13276221\n",
      "\tFile Output Format Counters \n",
      "\t\tBytes Written=1995786\n",
      "19/07/10 16:49:52 INFO streaming.StreamJob: Output directory: /tmp/salida-ejemplobioinformatica2\n"
     ]
    }
   ],
   "source": [
    "! hadoop jar /usr/lib/hadoop-mapreduce/hadoop-streaming.jar \\\n",
    "-files mapper.py,reducer.py -mapper mapper.py  -reducer reducer.py \\\n",
    "-input /tmp/ejemplobioinformatica/* -output /tmp/salida-ejemplobioinformatica2"
   ]
  },
  {
   "cell_type": "code",
   "execution_count": 21,
   "metadata": {},
   "outputs": [
    {
     "name": "stdout",
     "output_type": "stream",
     "text": [
      "e cds\t867.6\t389.8\t647.85\r\n",
      "99994_at\tCidea\t11642.7\t9811.8\t11191.2\t8368.2\tcell death-inducing DNA fragmentation factor, alpha subunit-like effector A\tCidea\t12683\t\t\t\tMus musculus cell death activator CIDE-A (Cide-a) mRNA, complete cds\t11642.7\t8368.2\t10253.475\r\n",
      "99995_at\tCetn1\t178.4\t97.9\t195.6\t148.3\tcentrin 1\tCetn1\t26369\t\t\t\tMus musculus mRNA for caltractin\t195.6\t97.9\t155.05\r\n",
      "99996_at\tPkp1\t171.5\t326.4\t37.2\t23.6\tplakophilin 1\tPkp1\t18772\t\t\t\tM.musculus mRNA for plakophilin 1\t326.4\t23.6\t139.675\r\n",
      "99997_at\tPkn1\t454.5\t459.4\t533.6\t607.7\tprotein kinase N1///prostaglandin E receptor 1 (subtype EP1)\tPkn1///Ptger1\t320795///19216\t\t\t\tM.musculus PKN gene and gene for prostanoid EP1 receptor\t607.7\t454.5\t513.8\r\n",
      "99998_at\tPtger1\t81.1\t103.4\t106.4\t136.9\tprostaglandin E receptor 1 (subtype EP1)\tPtger1\t19216\t\t\t\tM.musculus PKN gene and gene for prostanoid EP1 receptor\t136.9\t81.1\t106.95\r\n",
      "99999_at\tZfml\t1285.5\t1324.4\t1071.5\t964.7\tzinc finger, matrin-like\tZfml\t18139\t\t\t\tMus musculus mRNA for nuclear protein, NP220, complete cds\t1324.4\t964.7\t1161.525\r\n"
     ]
    }
   ],
   "source": [
    "! hdfs dfs -tail /tmp/salida-ejemplobioinformatica2/part-00000"
   ]
  },
  {
   "cell_type": "code",
   "execution_count": null,
   "metadata": {
    "collapsed": true
   },
   "outputs": [],
   "source": []
  }
 ],
 "metadata": {
  "kernelspec": {
   "display_name": "Python 3",
   "language": "python",
   "name": "python3"
  },
  "language_info": {
   "codemirror_mode": {
    "name": "ipython",
    "version": 3
   },
   "file_extension": ".py",
   "mimetype": "text/x-python",
   "name": "python",
   "nbconvert_exporter": "python",
   "pygments_lexer": "ipython3",
   "version": "3.7.3"
  }
 },
 "nbformat": 4,
 "nbformat_minor": 2
}
