{
 "cells": [
  {
   "cell_type": "markdown",
   "metadata": {},
   "source": [
    "# Ejemplo de patrones: Posts cortos\n",
    "\n",
    "En este ejercicio partimos de un dataset que contiene posts enviados a un foro de Internet. Se pide filtrar los posts, de forma solamente los que tengan 1 sola frase queden como resultado del filtrado. Para definir si se tiene una o más frases, se puede utilizar la presencia de los caracteres ‘.’, ‘?’ o ‘!’, de forma que los posts cuyo cuerpo contenga como mucho uno de estos caracteres al final son los que tienen una sola frase.  \n",
    "\n",
    "Un post contiene una serie de campos separados por tabuladores. Los campos son los siguientes: \n",
    "\n",
    "\"id\", \"title\", \"tagnames\", \"author_id\", \"body\", \"node_type\", \"parent_id\", \"abs_parent_id\", \"added_at\", \"score\", \"state_string\", \"last_edited_id\", \"last_activity_by_id\", \"last_activity_at\", \"active_revision_id\", \"extra\", \"extra_ref_id\", \"extra_count\", \"marked\" \n",
    "\n",
    "Para este ejercicio solamente nos interesa el campo \"body\" que contiene el texto del post. "
   ]
  },
  {
   "cell_type": "code",
   "execution_count": 1,
   "metadata": {},
   "outputs": [],
   "source": [
    "! mkdir -p /media/notebooks/ejemplo-patrones/postscortos"
   ]
  },
  {
   "cell_type": "code",
   "execution_count": 2,
   "metadata": {},
   "outputs": [],
   "source": [
    "import os\n",
    "os.chdir(\"/media/notebooks/ejemplo-patrones/postscortos\")"
   ]
  },
  {
   "cell_type": "code",
   "execution_count": 3,
   "metadata": {},
   "outputs": [
    {
     "name": "stdout",
     "output_type": "stream",
     "text": [
      "/media/notebooks/ejemplo-patrones/postscortos\r\n"
     ]
    }
   ],
   "source": [
    "! pwd"
   ]
  },
  {
   "cell_type": "code",
   "execution_count": 4,
   "metadata": {},
   "outputs": [
    {
     "name": "stdout",
     "output_type": "stream",
     "text": [
      "Overwriting mapper.py\n"
     ]
    }
   ],
   "source": [
    "%%writefile mapper.py\n",
    "#!/usr/bin/env python\n",
    "import sys\n",
    "import csv\n",
    "import re\n",
    "\n",
    "\n",
    "reader = csv.reader(sys.stdin, delimiter='\\t')\n",
    "writer = csv.writer(sys.stdout, delimiter='\\t', quotechar='\"', quoting=csv.QUOTE_ALL)\n",
    "\n",
    "# PON TU CODIGO AQUI"
   ]
  },
  {
   "cell_type": "code",
   "execution_count": null,
   "metadata": {
    "collapsed": true
   },
   "outputs": [],
   "source": [
    "! hdfs dfs -mkdir /tmp/forumdata"
   ]
  },
  {
   "cell_type": "markdown",
   "metadata": {},
   "source": [
    "## Los ficheros forum_nodes.tsv y forum_users.tsv deben estar descargados en la carpeta /media/notebooks/forumdata/"
   ]
  },
  {
   "cell_type": "code",
   "execution_count": 5,
   "metadata": {},
   "outputs": [
    {
     "name": "stdout",
     "output_type": "stream",
     "text": [
      "put: `/tmp/forumdata/forum1.tsv': File exists\r\n",
      "put: `/tmp/forumdata/forum_node.tsv': File exists\r\n",
      "put: `/tmp/forumdata/forum_users.tsv': File exists\r\n"
     ]
    }
   ],
   "source": [
    "! hdfs dfs -put /media/notebooks/forumdata/* /tmp/forumdata"
   ]
  },
  {
   "cell_type": "code",
   "execution_count": 6,
   "metadata": {},
   "outputs": [
    {
     "name": "stdout",
     "output_type": "stream",
     "text": [
      "Found 3 items\r\n",
      "-rw-r--r--   3 root supergroup       1774 2019-08-12 08:03 /tmp/forumdata/forum1.tsv\r\n",
      "-rw-r--r--   3 root supergroup  120313812 2019-08-12 08:03 /tmp/forumdata/forum_node.tsv\r\n",
      "-rw-r--r--   3 root supergroup     530989 2019-08-12 08:03 /tmp/forumdata/forum_users.tsv\r\n"
     ]
    }
   ],
   "source": [
    "! hdfs dfs -ls /tmp/forumdata"
   ]
  },
  {
   "cell_type": "markdown",
   "metadata": {},
   "source": [
    "Las siguientes celdas realizan una prueba con un fichero de posts corto llamado forum1.tsv. Asi se ve facilmente que el código funciona."
   ]
  },
  {
   "cell_type": "code",
   "execution_count": 15,
   "metadata": {},
   "outputs": [
    {
     "name": "stdout",
     "output_type": "stream",
     "text": [
      "Deleted /tmp/salida-postscortosTest/_SUCCESS\r\n",
      "Deleted /tmp/salida-postscortosTest/part-00000\r\n"
     ]
    }
   ],
   "source": [
    "! hdfs dfs -rm /tmp/salida-postscortosTest/*\n",
    "! hdfs dfs -rmdir /tmp/salida-postscortosTest"
   ]
  },
  {
   "cell_type": "code",
   "execution_count": 16,
   "metadata": {},
   "outputs": [
    {
     "name": "stdout",
     "output_type": "stream",
     "text": [
      "packageJobJar: [] [/usr/lib/hadoop-mapreduce/hadoop-streaming-2.6.0-cdh5.15.1.jar] /tmp/streamjob6761638013024166305.jar tmpDir=null\n",
      "19/08/12 09:45:25 INFO client.RMProxy: Connecting to ResourceManager at yarnmaster/172.21.0.3:8032\n",
      "19/08/12 09:45:25 INFO client.RMProxy: Connecting to ResourceManager at yarnmaster/172.21.0.3:8032\n",
      "19/08/12 09:45:25 INFO mapred.FileInputFormat: Total input paths to process : 1\n",
      "19/08/12 09:45:25 INFO mapreduce.JobSubmitter: number of splits:2\n",
      "19/08/12 09:45:25 INFO mapreduce.JobSubmitter: Submitting tokens for job: job_1565590814059_0014\n",
      "19/08/12 09:45:25 INFO impl.YarnClientImpl: Submitted application application_1565590814059_0014\n",
      "19/08/12 09:45:26 INFO mapreduce.Job: The url to track the job: http://yarnmaster:8088/proxy/application_1565590814059_0014/\n",
      "19/08/12 09:45:26 INFO mapreduce.Job: Running job: job_1565590814059_0014\n",
      "19/08/12 09:45:31 INFO mapreduce.Job: Job job_1565590814059_0014 running in uber mode : false\n",
      "19/08/12 09:45:31 INFO mapreduce.Job:  map 0% reduce 0%\n",
      "19/08/12 09:45:36 INFO mapreduce.Job:  map 50% reduce 0%\n",
      "19/08/12 09:45:37 INFO mapreduce.Job:  map 100% reduce 0%\n",
      "19/08/12 09:45:41 INFO mapreduce.Job:  map 100% reduce 100%\n",
      "19/08/12 09:45:41 INFO mapreduce.Job: Job job_1565590814059_0014 completed successfully\n",
      "19/08/12 09:45:41 INFO mapreduce.Job: Counters: 49\n",
      "\tFile System Counters\n",
      "\t\tFILE: Number of bytes read=1354\n",
      "\t\tFILE: Number of bytes written=442168\n",
      "\t\tFILE: Number of read operations=0\n",
      "\t\tFILE: Number of large read operations=0\n",
      "\t\tFILE: Number of write operations=0\n",
      "\t\tHDFS: Number of bytes read=2855\n",
      "\t\tHDFS: Number of bytes written=1324\n",
      "\t\tHDFS: Number of read operations=9\n",
      "\t\tHDFS: Number of large read operations=0\n",
      "\t\tHDFS: Number of write operations=2\n",
      "\tJob Counters \n",
      "\t\tLaunched map tasks=2\n",
      "\t\tLaunched reduce tasks=1\n",
      "\t\tData-local map tasks=2\n",
      "\t\tTotal time spent by all maps in occupied slots (ms)=4636\n",
      "\t\tTotal time spent by all reduces in occupied slots (ms)=2547\n",
      "\t\tTotal time spent by all map tasks (ms)=4636\n",
      "\t\tTotal time spent by all reduce tasks (ms)=2547\n",
      "\t\tTotal vcore-milliseconds taken by all map tasks=4636\n",
      "\t\tTotal vcore-milliseconds taken by all reduce tasks=2547\n",
      "\t\tTotal megabyte-milliseconds taken by all map tasks=4747264\n",
      "\t\tTotal megabyte-milliseconds taken by all reduce tasks=2608128\n",
      "\tMap-Reduce Framework\n",
      "\t\tMap input records=8\n",
      "\t\tMap output records=6\n",
      "\t\tMap output bytes=1330\n",
      "\t\tMap output materialized bytes=1360\n",
      "\t\tInput split bytes=194\n",
      "\t\tCombine input records=0\n",
      "\t\tCombine output records=0\n",
      "\t\tReduce input groups=6\n",
      "\t\tReduce shuffle bytes=1360\n",
      "\t\tReduce input records=6\n",
      "\t\tReduce output records=6\n",
      "\t\tSpilled Records=12\n",
      "\t\tShuffled Maps =2\n",
      "\t\tFailed Shuffles=0\n",
      "\t\tMerged Map outputs=2\n",
      "\t\tGC time elapsed (ms)=204\n",
      "\t\tCPU time spent (ms)=1270\n",
      "\t\tPhysical memory (bytes) snapshot=760811520\n",
      "\t\tVirtual memory (bytes) snapshot=7918133248\n",
      "\t\tTotal committed heap usage (bytes)=716177408\n",
      "\tShuffle Errors\n",
      "\t\tBAD_ID=0\n",
      "\t\tCONNECTION=0\n",
      "\t\tIO_ERROR=0\n",
      "\t\tWRONG_LENGTH=0\n",
      "\t\tWRONG_MAP=0\n",
      "\t\tWRONG_REDUCE=0\n",
      "\tFile Input Format Counters \n",
      "\t\tBytes Read=2661\n",
      "\tFile Output Format Counters \n",
      "\t\tBytes Written=1324\n",
      "19/08/12 09:45:41 INFO streaming.StreamJob: Output directory: /tmp/salida-postscortosTest\n"
     ]
    }
   ],
   "source": [
    "! hadoop jar /usr/lib/hadoop-mapreduce/hadoop-streaming.jar \\\n",
    "-files mapper.py -mapper mapper.py -input /tmp/forumdata/forum1.tsv \\\n",
    "-output /tmp/salida-postscortosTest"
   ]
  },
  {
   "cell_type": "code",
   "execution_count": 17,
   "metadata": {},
   "outputs": [
    {
     "name": "stdout",
     "output_type": "stream",
     "text": [
      "\"0202\"\t\"Titulo\"\t\"tags\"\t\"9191\"\t\"Este es un mensaje de 1 frase.\"\t\"question\"\t\"\\N\"\t\"\\N\"\t\"2012-02-27 15:09:11.184434+00\"\t\"0\"\t\"\"\t\"\\N\"\t\"100003268\"\t\"2012-02-27 15:09:11.184434+00\"\t\"9322\"\t\"\\N\"\t\"\\N\"\t\"106\"\t\"f\"\r\n",
      "\"0204\"\t\"Titulo\"\t\"tags\"\t\"9191\"\t\"Linea 1\\n Linea2\\n linea3\\n Linea 4.\"\t\"question\"\t\"\\N\"\t\"\\N\"\t\"2012-02-27 15:09:11.184434+00\"\t\"0\"\t\"\"\t\"\\N\"\t\"100003268\"\t\"2012-02-27 15:09:11.184434+00\"\t\"9322\"\t\"\\N\"\t\"\\N\"\t\"106\"\t\"f\"\r\n",
      "\"0205\"\t\"Titulo\"\t\"tags\"\t\"9191\"\t\"Este es un mensaje de 3\\n lineas\\n pero solo 1 frase.\"\t\"question\"\t\"\\N\"\t\"\\N\"\t\"2012-02-27 15:09:11.184434+00\"\t\"0\"\t\"\"\t\"\\N\"\t\"100003268\"\t\"2012-02-27 15:09:11.184434+00\"\t\"9322\"\t\"\\N\"\t\"\\N\"\t\"106\"\t\"f\"\r\n",
      "\"0206\"\t\"Titulo\"\t\"tags\"\t\"9191\"\t\"Este es un mensaje de 5\\n  lineas\\n pero\\n solo \\n 1 frase.\"\t\"question\"\t\"\\N\"\t\"\\N\"\t\"2012-02-27 15:09:11.184434+00\"\t\"0\"\t\"\"\t\"\\N\"\t\"100003268\"\t\"2012-02-27 15:09:11.184434+00\"\t\"9322\"\t\"\\N\"\t\"\\N\"\t\"106\"\t\"f\"\r\n",
      "\"0207\"\t\"Titulo\"\t\"tags\"\t\"9191\"\t\"Este es\\n un mensaje de 6\\n lineas\\n pero \\nsolo 1 \\nfrase.\"\t\"question\"\t\"\\N\"\t\"\\N\"\t\"2012-02-27 15:09:11.184434+00\"\t\"0\"\t\"\"\t\"\\N\"\t\"100003268\"\t\"2012-02-27 15:09:11.184434+00\"\t\"9322\"\t\"\\N\"\t\"\\N\"\t\"106\"\t\"f\"\r\n",
      "\"id\"\t\"title\"\t\"tagnames\"\t\"author_id\"\t\"body\"\t\"node_type\"\t\"parent_id\"\t\"abs_parent_id\"\t\"added_at\"\t\"score\"\t\"state_string\"\t\"last_edited_id\"\t\"last_activity_by_id\"\t\"last_activity_at\"\t\"active_revision_id\"\t\"extra\"\t\"extra_ref_id\"\t\"extra_count\"\t\"marked\"\r\n"
     ]
    }
   ],
   "source": [
    "! hdfs dfs -cat /tmp/salida-postscortosTest/part-00000"
   ]
  },
  {
   "cell_type": "code",
   "execution_count": 18,
   "metadata": {},
   "outputs": [
    {
     "name": "stdout",
     "output_type": "stream",
     "text": [
      "Deleted /tmp/salida-postscortos/_SUCCESS\r\n",
      "Deleted /tmp/salida-postscortos/part-00000\r\n"
     ]
    }
   ],
   "source": [
    "! hdfs dfs -rm /tmp/salida-postscortos/*\n",
    "! hdfs dfs -rmdir /tmp/salida-postscortos"
   ]
  },
  {
   "cell_type": "code",
   "execution_count": 19,
   "metadata": {},
   "outputs": [
    {
     "name": "stdout",
     "output_type": "stream",
     "text": [
      "packageJobJar: [] [/usr/lib/hadoop-mapreduce/hadoop-streaming-2.6.0-cdh5.15.1.jar] /tmp/streamjob7310739197634376744.jar tmpDir=null\n",
      "19/08/12 09:46:10 INFO client.RMProxy: Connecting to ResourceManager at yarnmaster/172.21.0.3:8032\n",
      "19/08/12 09:46:10 INFO client.RMProxy: Connecting to ResourceManager at yarnmaster/172.21.0.3:8032\n",
      "19/08/12 09:46:11 INFO mapred.FileInputFormat: Total input paths to process : 1\n",
      "19/08/12 09:46:11 INFO mapreduce.JobSubmitter: number of splits:2\n",
      "19/08/12 09:46:11 INFO mapreduce.JobSubmitter: Submitting tokens for job: job_1565590814059_0015\n",
      "19/08/12 09:46:11 INFO impl.YarnClientImpl: Submitted application application_1565590814059_0015\n",
      "19/08/12 09:46:11 INFO mapreduce.Job: The url to track the job: http://yarnmaster:8088/proxy/application_1565590814059_0015/\n",
      "19/08/12 09:46:11 INFO mapreduce.Job: Running job: job_1565590814059_0015\n",
      "19/08/12 09:46:16 INFO mapreduce.Job: Job job_1565590814059_0015 running in uber mode : false\n",
      "19/08/12 09:46:16 INFO mapreduce.Job:  map 0% reduce 0%\n",
      "19/08/12 09:46:23 INFO mapreduce.Job:  map 100% reduce 0%\n",
      "19/08/12 09:46:27 INFO mapreduce.Job:  map 100% reduce 100%\n",
      "19/08/12 09:46:28 INFO mapreduce.Job: Job job_1565590814059_0015 completed successfully\n",
      "19/08/12 09:46:28 INFO mapreduce.Job: Counters: 49\n",
      "\tFile System Counters\n",
      "\t\tFILE: Number of bytes read=3680304\n",
      "\t\tFILE: Number of bytes written=7800068\n",
      "\t\tFILE: Number of read operations=0\n",
      "\t\tFILE: Number of large read operations=0\n",
      "\t\tFILE: Number of write operations=0\n",
      "\t\tHDFS: Number of bytes read=120318110\n",
      "\t\tHDFS: Number of bytes written=3594977\n",
      "\t\tHDFS: Number of read operations=9\n",
      "\t\tHDFS: Number of large read operations=0\n",
      "\t\tHDFS: Number of write operations=2\n",
      "\tJob Counters \n",
      "\t\tLaunched map tasks=2\n",
      "\t\tLaunched reduce tasks=1\n",
      "\t\tData-local map tasks=2\n",
      "\t\tTotal time spent by all maps in occupied slots (ms)=9176\n",
      "\t\tTotal time spent by all reduces in occupied slots (ms)=2519\n",
      "\t\tTotal time spent by all map tasks (ms)=9176\n",
      "\t\tTotal time spent by all reduce tasks (ms)=2519\n",
      "\t\tTotal vcore-milliseconds taken by all map tasks=9176\n",
      "\t\tTotal vcore-milliseconds taken by all reduce tasks=2519\n",
      "\t\tTotal megabyte-milliseconds taken by all map tasks=9396224\n",
      "\t\tTotal megabyte-milliseconds taken by all reduce tasks=2579456\n",
      "\tMap-Reduce Framework\n",
      "\t\tMap input records=922570\n",
      "\t\tMap output records=26956\n",
      "\t\tMap output bytes=3610626\n",
      "\t\tMap output materialized bytes=3680310\n",
      "\t\tInput split bytes=202\n",
      "\t\tCombine input records=0\n",
      "\t\tCombine output records=0\n",
      "\t\tReduce input groups=22831\n",
      "\t\tReduce shuffle bytes=3680310\n",
      "\t\tReduce input records=26956\n",
      "\t\tReduce output records=26956\n",
      "\t\tSpilled Records=53912\n",
      "\t\tShuffled Maps =2\n",
      "\t\tFailed Shuffles=0\n",
      "\t\tMerged Map outputs=2\n",
      "\t\tGC time elapsed (ms)=190\n",
      "\t\tCPU time spent (ms)=4350\n",
      "\t\tPhysical memory (bytes) snapshot=836673536\n",
      "\t\tVirtual memory (bytes) snapshot=7919153152\n",
      "\t\tTotal committed heap usage (bytes)=765984768\n",
      "\tShuffle Errors\n",
      "\t\tBAD_ID=0\n",
      "\t\tCONNECTION=0\n",
      "\t\tIO_ERROR=0\n",
      "\t\tWRONG_LENGTH=0\n",
      "\t\tWRONG_MAP=0\n",
      "\t\tWRONG_REDUCE=0\n",
      "\tFile Input Format Counters \n",
      "\t\tBytes Read=120317908\n",
      "\tFile Output Format Counters \n",
      "\t\tBytes Written=3594977\n",
      "19/08/12 09:46:28 INFO streaming.StreamJob: Output directory: /tmp/salida-postscortos\n"
     ]
    }
   ],
   "source": [
    "! hadoop jar /usr/lib/hadoop-mapreduce/hadoop-streaming.jar \\\n",
    "-files mapper.py -mapper mapper.py -input /tmp/forumdata/forum_node.tsv \\\n",
    "-output /tmp/salida-postscortos"
   ]
  },
  {
   "cell_type": "code",
   "execution_count": 20,
   "metadata": {},
   "outputs": [
    {
     "name": "stdout",
     "output_type": "stream",
     "text": [
      "39+00\"\t\"0\"\t\"\"\t\"\\N\"\t\"100002528\"\t\"2012-02-24 21:41:27.808585+00\"\t\"6407\"\t\"\\N\"\t\"\\N\"\t\"0\"\t\"f\"\r\n",
      "“Something bad happened trying to communicate with the website”</p>\"\t\"comment\"\t\"20623\"\t\"20620\"\t\"2012-03-06 04:35:52.670198+00\"\t\"0\"\t\"\"\t\"\\N\"\t\"100001360\"\t\"2012-03-06 04:35:52.670198+00\"\t\"27315\"\t\"\\N\"\t\"\\N\"\t\"0\"\t\"f\"\r\n",
      "‹ Prev 20 1-2 Next 20 ›<br>\t\r\n",
      "⇒S=p⋅2^p−(2^p−1)<br>\t\r\n",
      "⇒T(n)=4T(n/4)+theta(logn)+theta(2logn/2)<br>\t\r\n",
      "⇒T(n)=theta(2^p+1−p−2)<br>\t\r\n",
      "⇒T(n)=theta(2n)<br>\t\r\n",
      "⇒T(n)=theta(2n−logn−2)<br>\t\r\n",
      "⇒T(n)=theta(logn+2logn/2+4logn/4+8logn/8+…[logn terms])<br>\t\r\n",
      "⇒T(n)=theta(p+2<em>(p−1)+4</em>(p−2)+8<em>(p−3)+…[p terms])<br>\t\r\n",
      "⇒T(n)=theta(p</em>(1+2^1+2^2+…+2^p)−2(1+2⋅2^1+3⋅2^2+…+p⋅2^p−1))<br>\t\r\n",
      "⇒T(n)=theta(p⋅(2^p+1−1)−2S) …… (1)<br>\t\r\n",
      "⇒T(n/2)=2T(n/4)+theta(logn/2)<br>\t\r\n",
      "∴S=(p−1)⋅2^p+1 …… (2)<br>\t\r\n",
      "∴T(n)=theta(n)</p>\"\t\"answer\"\t\"11001437\"\t\"11001437\"\t\"2012-07-07 15:11:15.549324+00\"\t\"0\"\t\"\"\t\"\\N\"\t\"100044448\"\t\"2012-07-07 15:11:15.549324+00\"\t\"11002434\"\t\"\\N\"\t\"\\N\"\t\"0\"\t\"f\"\r\n"
     ]
    }
   ],
   "source": [
    "! hdfs dfs -tail /tmp/salida-postscortos/part-00000"
   ]
  },
  {
   "cell_type": "code",
   "execution_count": null,
   "metadata": {
    "collapsed": true
   },
   "outputs": [],
   "source": []
  }
 ],
 "metadata": {
  "kernelspec": {
   "display_name": "Python 3",
   "language": "python",
   "name": "python3"
  },
  "language_info": {
   "codemirror_mode": {
    "name": "ipython",
    "version": 3
   },
   "file_extension": ".py",
   "mimetype": "text/x-python",
   "name": "python",
   "nbconvert_exporter": "python",
   "pygments_lexer": "ipython3",
   "version": "3.7.3"
  }
 },
 "nbformat": 4,
 "nbformat_minor": 2
}
