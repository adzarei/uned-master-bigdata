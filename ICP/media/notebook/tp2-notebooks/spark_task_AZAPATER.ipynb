{
 "cells": [
  {
   "cell_type": "markdown",
   "metadata": {},
   "source": [
    "# TP2 - Adrián José Zapater Reig"
   ]
  },
  {
   "cell_type": "markdown",
   "metadata": {},
   "source": [
    "### Dataset descargado desde\n",
    "## https://ieee-dataport.org/documents/smart-defender-dataset\n",
    "\n",
    "La descripción de los campos que componen los datos del dataset están disponible en esa URL"
   ]
  },
  {
   "cell_type": "markdown",
   "metadata": {},
   "source": [
    "# PARTE 1: Uso de Spark para análisis de datos, Dataframes #"
   ]
  },
  {
   "cell_type": "markdown",
   "metadata": {},
   "source": [
    "#### Importamos las librerías que vamos a necesitar."
   ]
  },
  {
   "cell_type": "code",
   "execution_count": 1,
   "metadata": {},
   "outputs": [],
   "source": [
    "import os\n",
    "from pyspark.sql import functions as F\n",
    "import pandas as pd\n",
    "import matplotlib as plt"
   ]
  },
  {
   "cell_type": "code",
   "execution_count": 2,
   "metadata": {},
   "outputs": [
    {
     "name": "stdout",
     "output_type": "stream",
     "text": [
      "Spark Version: 2.4.4\n"
     ]
    },
    {
     "data": {
      "text/html": [
       "\n",
       "            <div>\n",
       "                <p><b>SparkSession - hive</b></p>\n",
       "                \n",
       "        <div>\n",
       "            <p><b>SparkContext</b></p>\n",
       "\n",
       "            <p><a href=\"http://192.168.0.102:4041\">Spark UI</a></p>\n",
       "\n",
       "            <dl>\n",
       "              <dt>Version</dt>\n",
       "                <dd><code>v2.4.4</code></dd>\n",
       "              <dt>Master</dt>\n",
       "                <dd><code>local[*]</code></dd>\n",
       "              <dt>AppName</dt>\n",
       "                <dd><code>PySparkShell</code></dd>\n",
       "            </dl>\n",
       "        </div>\n",
       "        \n",
       "            </div>\n",
       "        "
      ],
      "text/plain": [
       "<pyspark.sql.session.SparkSession at 0x1130df510>"
      ]
     },
     "execution_count": 2,
     "metadata": {},
     "output_type": "execute_result"
    }
   ],
   "source": [
    "# Mostrar la versión de Spark usada\n",
    "print(\"Spark Version: \" + spark.version)\n",
    "# Datos de la sesión spark\n",
    "spark"
   ]
  },
  {
   "cell_type": "code",
   "execution_count": 3,
   "metadata": {},
   "outputs": [],
   "source": [
    "# Cargar el dataset en un Dataframe\n",
    "data_path = os.path.join(\"data\",\"dataset_descriptor.csv.gz\")\n",
    "cyber_df =  spark.read.option(\"header\",\"true\").csv(data_path)"
   ]
  },
  {
   "cell_type": "code",
   "execution_count": 4,
   "metadata": {},
   "outputs": [
    {
     "name": "stdout",
     "output_type": "stream",
     "text": [
      "root\n",
      " |-- ip_proto: string (nullable = true)\n",
      " |-- ip_len_mean: string (nullable = true)\n",
      " |-- ip_len_median: string (nullable = true)\n",
      " |-- ip_len_var: string (nullable = true)\n",
      " |-- ip_len_std: string (nullable = true)\n",
      " |-- ip_len_entropy: string (nullable = true)\n",
      " |-- ip_len_cv: string (nullable = true)\n",
      " |-- ip_len_cvq: string (nullable = true)\n",
      " |-- ip_len_rte: string (nullable = true)\n",
      " |-- ip_ttl_mean: string (nullable = true)\n",
      " |-- ip_ttl_median: string (nullable = true)\n",
      " |-- ip_ttl_var: string (nullable = true)\n",
      " |-- ip_ttl_std: string (nullable = true)\n",
      " |-- ip_ttl_entropy: string (nullable = true)\n",
      " |-- ip_ttl_cv: string (nullable = true)\n",
      " |-- ip_ttl_cvq: string (nullable = true)\n",
      " |-- ip_ttl_rte: string (nullable = true)\n",
      " |-- sport_mean: string (nullable = true)\n",
      " |-- sport_median: string (nullable = true)\n",
      " |-- sport_var: string (nullable = true)\n",
      " |-- sport_std: string (nullable = true)\n",
      " |-- sport_entropy: string (nullable = true)\n",
      " |-- sport_cv: string (nullable = true)\n",
      " |-- sport_cvq: string (nullable = true)\n",
      " |-- sport_rte: string (nullable = true)\n",
      " |-- dport_mean: string (nullable = true)\n",
      " |-- dport_median: string (nullable = true)\n",
      " |-- dport_var: string (nullable = true)\n",
      " |-- dport_std: string (nullable = true)\n",
      " |-- dport_entropy: string (nullable = true)\n",
      " |-- dport_cv: string (nullable = true)\n",
      " |-- dport_cvq: string (nullable = true)\n",
      " |-- dport_rte: string (nullable = true)\n",
      " |-- tcp_seq_median: string (nullable = true)\n",
      " |-- tcp_seq_mean: string (nullable = true)\n",
      " |-- tcp_seq_var: string (nullable = true)\n",
      " |-- tcp_seq_std: string (nullable = true)\n",
      " |-- tcp_seq_entropy: string (nullable = true)\n",
      " |-- tcp_seq_cv: string (nullable = true)\n",
      " |-- tcp_seq_cvq: string (nullable = true)\n",
      " |-- tcp_seq_rte: string (nullable = true)\n",
      " |-- tcp_ack_mean: string (nullable = true)\n",
      " |-- tcp_ack_median: string (nullable = true)\n",
      " |-- tcp_ack_var: string (nullable = true)\n",
      " |-- tcp_ack_std: string (nullable = true)\n",
      " |-- tcp_ack_entropy: string (nullable = true)\n",
      " |-- tcp_ack_cv: string (nullable = true)\n",
      " |-- tcp_ack_cvq: string (nullable = true)\n",
      " |-- tcp_ack_rte: string (nullable = true)\n",
      " |-- tcp_dataofs_mean: string (nullable = true)\n",
      " |-- tcp_dataofs_median: string (nullable = true)\n",
      " |-- tcp_dataofs_var: string (nullable = true)\n",
      " |-- tcp_dataofs_std: string (nullable = true)\n",
      " |-- tcp_dataofs_entropy: string (nullable = true)\n",
      " |-- tcp_dataofs_cv: string (nullable = true)\n",
      " |-- tcp_dataofs_cvq: string (nullable = true)\n",
      " |-- tcp_dataofs_rte: string (nullable = true)\n",
      " |-- tcp_flags_mean: string (nullable = true)\n",
      " |-- tcp_flags_median: string (nullable = true)\n",
      " |-- tcp_flags_var: string (nullable = true)\n",
      " |-- tcp_flags_std: string (nullable = true)\n",
      " |-- tcp_flags_entropy: string (nullable = true)\n",
      " |-- tcp_flags_cv: string (nullable = true)\n",
      " |-- tcp_flags_cvq: string (nullable = true)\n",
      " |-- tcp_flags_rte: string (nullable = true)\n",
      " |-- tcp_window_mean: string (nullable = true)\n",
      " |-- tcp_window_median: string (nullable = true)\n",
      " |-- tcp_window_var: string (nullable = true)\n",
      " |-- tcp_window_std: string (nullable = true)\n",
      " |-- tcp_window_entropy: string (nullable = true)\n",
      " |-- tcp_window_cv: string (nullable = true)\n",
      " |-- tcp_window_cvq: string (nullable = true)\n",
      " |-- tcp_window_rte: string (nullable = true)\n",
      " |-- Label1: string (nullable = true)\n",
      " |-- Label2: string (nullable = true)\n",
      " |-- Label3: string (nullable = true)\n",
      "\n"
     ]
    }
   ],
   "source": [
    "# Mostrar el schema heredado\n",
    "cyber_df.printSchema()"
   ]
  },
  {
   "cell_type": "code",
   "execution_count": 5,
   "metadata": {},
   "outputs": [
    {
     "data": {
      "text/plain": [
       "45500"
      ]
     },
     "execution_count": 5,
     "metadata": {},
     "output_type": "execute_result"
    }
   ],
   "source": [
    "# Mostrar el número de registros del dataset\n",
    "total_count = cyber_df.count()\n",
    "total_count"
   ]
  },
  {
   "cell_type": "code",
   "execution_count": 6,
   "metadata": {},
   "outputs": [
    {
     "name": "stdout",
     "output_type": "stream",
     "text": [
      "http_flood\n",
      "http_slow_body\n",
      "tcp_fin_flood\n",
      "http_slow_range\n",
      "normal\n",
      "udp_flood\n",
      "http_slow_read\n",
      "tcp_syn_ack_flood\n",
      "tcp_syn_flood\n",
      "tcp_ack_flood\n",
      "http_slow_headers\n"
     ]
    }
   ],
   "source": [
    "# Q1. ¿Cuantas clases de tipo de tráfico hay clasificadas en el campo label1?\n",
    "label1_values = cyber_df.select(\"Label1\").distinct().collect()\n",
    "for label in label1_values:\n",
    "    print(label.Label1)"
   ]
  },
  {
   "cell_type": "code",
   "execution_count": 7,
   "metadata": {},
   "outputs": [
    {
     "data": {
      "text/plain": [
       "11"
      ]
     },
     "execution_count": 7,
     "metadata": {},
     "output_type": "execute_result"
    }
   ],
   "source": [
    "cyber_df.select(\"Label1\").distinct().count()"
   ]
  },
  {
   "cell_type": "code",
   "execution_count": 8,
   "metadata": {},
   "outputs": [
    {
     "name": "stdout",
     "output_type": "stream",
     "text": [
      "+-----------------+\n",
      "|Label1           |\n",
      "+-----------------+\n",
      "|http_flood       |\n",
      "|http_slow_body   |\n",
      "|tcp_fin_flood    |\n",
      "|http_slow_range  |\n",
      "|normal           |\n",
      "|udp_flood        |\n",
      "|http_slow_read   |\n",
      "|tcp_syn_ack_flood|\n",
      "|tcp_syn_flood    |\n",
      "|tcp_ack_flood    |\n",
      "|http_slow_headers|\n",
      "+-----------------+\n",
      "\n"
     ]
    }
   ],
   "source": [
    "# Para obtener el mismo resultado que en el PDF debemos usar show(11)\n",
    "cyber_df.select(\"Label1\").distinct().show(n=11, truncate=False)"
   ]
  },
  {
   "cell_type": "code",
   "execution_count": 9,
   "metadata": {},
   "outputs": [
    {
     "name": "stdout",
     "output_type": "stream",
     "text": [
      "http_flood\n",
      "tcp_flood\n",
      "normal\n",
      "udp_flood\n",
      "http_slow\n"
     ]
    }
   ],
   "source": [
    "# Q2. ¿Cuantas clases de tipo de tráfico hay clasificadas en el campo label3?\n",
    "label3_values = cyber_df.select(\"Label3\").distinct().collect()\n",
    "for label in label3_values:\n",
    "    print(label.Label3)"
   ]
  },
  {
   "cell_type": "code",
   "execution_count": 10,
   "metadata": {},
   "outputs": [
    {
     "data": {
      "text/plain": [
       "5"
      ]
     },
     "execution_count": 10,
     "metadata": {},
     "output_type": "execute_result"
    }
   ],
   "source": [
    "cyber_df.select(\"Label3\").distinct().count()"
   ]
  },
  {
   "cell_type": "code",
   "execution_count": 11,
   "metadata": {},
   "outputs": [
    {
     "name": "stdout",
     "output_type": "stream",
     "text": [
      "+----------+\n",
      "|Label3    |\n",
      "+----------+\n",
      "|http_flood|\n",
      "|tcp_flood |\n",
      "|normal    |\n",
      "|udp_flood |\n",
      "|http_slow |\n",
      "+----------+\n",
      "\n"
     ]
    }
   ],
   "source": [
    "# Para obtener el mismo resultado que en el PDF podemos usar show(5)\n",
    "cyber_df.select(\"Label3\").distinct().show(n=5, truncate=False)"
   ]
  },
  {
   "cell_type": "code",
   "execution_count": 12,
   "metadata": {},
   "outputs": [
    {
     "name": "stdout",
     "output_type": "stream",
     "text": [
      " 49.26 %\n"
     ]
    }
   ],
   "source": [
    "#Q3 ¿Que porcentaje de tráfico está catalogado como anormal? Entiendase por anormal aquel que no está etiquetado como normal.\n",
    "anormal_trafic_count = cyber_df.where(cyber_df.Label3 != F.lit(\"normal\")).count()\n",
    "anormal_trafic_percentage = (anormal_trafic_count / total_count) * 100\n",
    "print(\"% 5.2f %%\" % (anormal_trafic_percentage))"
   ]
  },
  {
   "cell_type": "code",
   "execution_count": 13,
   "metadata": {},
   "outputs": [
    {
     "data": {
      "text/plain": [
       "<matplotlib.axes._subplots.AxesSubplot at 0x11584b510>"
      ]
     },
     "execution_count": 13,
     "metadata": {},
     "output_type": "execute_result"
    }
   ],
   "source": [
    "# Q4 Mostrar los porcentajes de trafico sobre el total asociados a cada tipo de etiqueta de tráfico \n",
    "# (usar el campo genérico Label3 y no el detallado Label 1)\n",
    "# Mostrar un diagrama con estos porcentajes (bar plot)\n",
    "trafic_per_label3 = cyber_df.groupBy(cyber_df.Label3).count()\n",
    "trafic_label3_percentage = trafic_per_label3.select(trafic_per_label3.Label3.alias(\"traffic\"), ((F.col(\"count\") / F.lit(total_count)) * F.lit(100)).alias(\"percentage\"))\n",
    "trafic_label3_percentage_pd = trafic_label3_percentage.toPandas()\n",
    "trafic_label3_percentage_pd.plot(kind=\"bar\", x=\"traffic\")"
   ]
  },
  {
   "cell_type": "code",
   "execution_count": 14,
   "metadata": {},
   "outputs": [
    {
     "data": {
      "text/html": [
       "<div>\n",
       "<style scoped>\n",
       "    .dataframe tbody tr th:only-of-type {\n",
       "        vertical-align: middle;\n",
       "    }\n",
       "\n",
       "    .dataframe tbody tr th {\n",
       "        vertical-align: top;\n",
       "    }\n",
       "\n",
       "    .dataframe thead th {\n",
       "        text-align: right;\n",
       "    }\n",
       "</style>\n",
       "<table border=\"1\" class=\"dataframe\">\n",
       "  <thead>\n",
       "    <tr style=\"text-align: right;\">\n",
       "      <th></th>\n",
       "      <th>traffic</th>\n",
       "      <th>percentage</th>\n",
       "    </tr>\n",
       "  </thead>\n",
       "  <tbody>\n",
       "    <tr>\n",
       "      <th>0</th>\n",
       "      <td>http_flood</td>\n",
       "      <td>0.762637</td>\n",
       "    </tr>\n",
       "    <tr>\n",
       "      <th>1</th>\n",
       "      <td>tcp_flood</td>\n",
       "      <td>32.940659</td>\n",
       "    </tr>\n",
       "    <tr>\n",
       "      <th>2</th>\n",
       "      <td>normal</td>\n",
       "      <td>50.742857</td>\n",
       "    </tr>\n",
       "    <tr>\n",
       "      <th>3</th>\n",
       "      <td>udp_flood</td>\n",
       "      <td>15.151648</td>\n",
       "    </tr>\n",
       "    <tr>\n",
       "      <th>4</th>\n",
       "      <td>http_slow</td>\n",
       "      <td>0.402198</td>\n",
       "    </tr>\n",
       "  </tbody>\n",
       "</table>\n",
       "</div>"
      ],
      "text/plain": [
       "      traffic  percentage\n",
       "0  http_flood    0.762637\n",
       "1   tcp_flood   32.940659\n",
       "2      normal   50.742857\n",
       "3   udp_flood   15.151648\n",
       "4   http_slow    0.402198"
      ]
     },
     "execution_count": 14,
     "metadata": {},
     "output_type": "execute_result"
    }
   ],
   "source": [
    "trafic_label3_percentage_pd"
   ]
  },
  {
   "cell_type": "code",
   "execution_count": 15,
   "metadata": {},
   "outputs": [
    {
     "name": "stdout",
     "output_type": "stream",
     "text": [
      "+------------+\n",
      "|ip_proto_int|\n",
      "+------------+\n",
      "|        17.0|\n",
      "|         6.0|\n",
      "+------------+\n",
      "\n"
     ]
    }
   ],
   "source": [
    "# Q5 Identificar que tipo de tráfico de red está incluido en el dataset (usar el campo ip_proto y convertir \n",
    "# ese valor al real que debería tener, es decir, un entero en el rango definido por el IANA)\n",
    "# https://www.iana.org/assignments/protocol-numbers/protocol-numbers.xhtml\n",
    "traffic_df = cyber_df.withColumn(\"ip_proto_int\", cyber_df.ip_proto * 1000)\n",
    "traffic_df.select(traffic_df.ip_proto_int).distinct().show()"
   ]
  },
  {
   "cell_type": "code",
   "execution_count": 16,
   "metadata": {},
   "outputs": [
    {
     "name": "stdout",
     "output_type": "stream",
     "text": [
      "+------------+------------------+\n",
      "|ip_proto_int|  sum(ip_len_mean)|\n",
      "+------------+------------------+\n",
      "|        17.0| 7064.346040678179|\n",
      "|         6.0|26867.191474056726|\n",
      "+------------+------------------+\n",
      "\n"
     ]
    }
   ],
   "source": [
    "# Q6 Calcular la cantidad total (suponer que el dato a aculumar para cada paquete es ip_len_mean) \n",
    "# de bytes transmitidos agrupados por protocolo\n",
    "# Usamos F para que python no confunda las funciones de SPARK con las de otros módulos.\n",
    "traffic_df.groupBy(traffic_df.ip_proto_int).agg(F.sum(\"ip_len_mean\")).show()"
   ]
  },
  {
   "cell_type": "code",
   "execution_count": 17,
   "metadata": {},
   "outputs": [
    {
     "name": "stdout",
     "output_type": "stream",
     "text": [
      "+---------+------------------+\n",
      "|   Label1|       sum_traffic|\n",
      "+---------+------------------+\n",
      "|udp_flood|            6894.0|\n",
      "|   normal|170.34604067817847|\n",
      "+---------+------------------+\n",
      "\n"
     ]
    }
   ],
   "source": [
    "# Q7 Indicar cual es tráfico anómalo en UDP que usa más tráfico de red. Presentar los resultados en orden de mayor a menor\n",
    "# NOTA:\n",
    "# Si se quiere sólo el anómalo, debemos filtrar por Label1 != normal:\n",
    "anomalous_traffic = cyber_df.where(cyber_df.Label1 != F.lit(\"normal\"))\n",
    "# Como la solución también incluye el tráfico normal, no filtramos por Label1:\n",
    "anomalous_traffic = cyber_df\n",
    "udp_anomalous_traffic = anomalous_traffic.where(anomalous_traffic.ip_proto == F.lit(0.017))\n",
    "udp_anomalous_traffic_aag = udp_anomalous_traffic.groupBy(udp_anomalous_traffic.Label1).agg(F.sum(udp_anomalous_traffic.ip_len_mean).alias(\"sum_traffic\"))\n",
    "udp_anomalous_traffic_aag.orderBy(udp_anomalous_traffic_aag.sum_traffic, ascending=False).show()"
   ]
  },
  {
   "cell_type": "code",
   "execution_count": 18,
   "metadata": {},
   "outputs": [
    {
     "name": "stdout",
     "output_type": "stream",
     "text": [
      "+-----------------+------------------+\n",
      "|           Label1|       sum_traffic|\n",
      "+-----------------+------------------+\n",
      "|           normal|11615.053998509044|\n",
      "|    tcp_syn_flood| 5713.195544936026|\n",
      "|tcp_syn_ack_flood| 5273.157952268172|\n",
      "|    tcp_fin_flood|            2000.0|\n",
      "|    tcp_ack_flood|            2000.0|\n",
      "|       http_flood| 90.88054677859463|\n",
      "|  http_slow_range| 44.20993791090954|\n",
      "|http_slow_headers|44.157370741482964|\n",
      "|   http_slow_read|43.283366733466934|\n",
      "|   http_slow_body|43.252756179024715|\n",
      "+-----------------+------------------+\n",
      "\n"
     ]
    }
   ],
   "source": [
    "# Q8 Indicar cual es tráfico anómalo en TCP que usa más tráfico de red. Presentar los resultados en orden demayor a menor\n",
    "# NOTA:\n",
    "# Si se quiere sólo el anómalo, debemos filtrar por Label1 != normal. Como la solución también incluye el tráfico normal, no filtramos por Label1:\n",
    "tcp_anomalous_traffic = anomalous_traffic.where(anomalous_traffic.ip_proto == F.lit(0.006))\n",
    "tcp_anomalous_traffic_aag = tcp_anomalous_traffic.groupBy(tcp_anomalous_traffic.Label1).agg(F.sum(tcp_anomalous_traffic.ip_len_mean).alias(\"sum_traffic\"))\n",
    "tcp_anomalous_traffic_aag.orderBy(tcp_anomalous_traffic_aag.sum_traffic, ascending=False).show()"
   ]
  },
  {
   "cell_type": "markdown",
   "metadata": {},
   "source": [
    "# PARTE 2: Uso de Spark para análisis de datos, Spark SQL #\n",
    "\n",
    "Contestar a las cuestiones anteriores empleando Spark SQL"
   ]
  },
  {
   "cell_type": "code",
   "execution_count": 19,
   "metadata": {},
   "outputs": [],
   "source": [
    "# Crear la vista en memoria y añadir una celda por cada cuestión que se debe responder\n",
    "cyber_df.createOrReplaceTempView(\"cyber\")"
   ]
  },
  {
   "cell_type": "code",
   "execution_count": 20,
   "metadata": {},
   "outputs": [
    {
     "name": "stdout",
     "output_type": "stream",
     "text": [
      "+-----------------+\n",
      "|           Label1|\n",
      "+-----------------+\n",
      "|       http_flood|\n",
      "|   http_slow_body|\n",
      "|    tcp_fin_flood|\n",
      "|  http_slow_range|\n",
      "|           normal|\n",
      "|        udp_flood|\n",
      "|   http_slow_read|\n",
      "|tcp_syn_ack_flood|\n",
      "|    tcp_syn_flood|\n",
      "|    tcp_ack_flood|\n",
      "|http_slow_headers|\n",
      "+-----------------+\n",
      "\n"
     ]
    }
   ],
   "source": [
    "# Q1. ¿Cuantas clases de tipo de tráfico hay clasificadas en el campo label1?\n",
    "spark.sql(\"SELECT DISTINCT Label1 FROM cyber\").show()"
   ]
  },
  {
   "cell_type": "code",
   "execution_count": 21,
   "metadata": {},
   "outputs": [
    {
     "name": "stdout",
     "output_type": "stream",
     "text": [
      "+----------+\n",
      "|    Label3|\n",
      "+----------+\n",
      "|http_flood|\n",
      "| tcp_flood|\n",
      "|    normal|\n",
      "| udp_flood|\n",
      "| http_slow|\n",
      "+----------+\n",
      "\n"
     ]
    }
   ],
   "source": [
    "# Q2. ¿Cuantas clases de tipo de tráfico hay clasificadas en el campo label3?\n",
    "spark.sql(\"SELECT DISTINCT Label3 FROM cyber\").show()"
   ]
  },
  {
   "cell_type": "code",
   "execution_count": 22,
   "metadata": {},
   "outputs": [
    {
     "name": "stdout",
     "output_type": "stream",
     "text": [
      "+----------+\n",
      "|percentage|\n",
      "+----------+\n",
      "|   49.26 %|\n",
      "+----------+\n",
      "\n"
     ]
    }
   ],
   "source": [
    "#Q3 ¿Que porcentaje de tráfico está catalogado como anormal? Entiendase por anormal aquel que no está etiquetado como normal.\n",
    "spark.sql(\"SELECT CONCAT(ROUND((COUNT(*) / 45500) * 100, 2), ' %') as percentage  FROM cyber WHERE Label1 NOT LIKE 'normal'\").show()"
   ]
  },
  {
   "cell_type": "code",
   "execution_count": 23,
   "metadata": {},
   "outputs": [
    {
     "name": "stdout",
     "output_type": "stream",
     "text": [
      "+----------+-------------------+\n",
      "|   traffic|         percentage|\n",
      "+----------+-------------------+\n",
      "|http_flood| 0.7626373626373626|\n",
      "| tcp_flood|  32.94065934065934|\n",
      "|    normal|  50.74285714285715|\n",
      "| udp_flood| 15.151648351648353|\n",
      "| http_slow|0.40219780219780216|\n",
      "+----------+-------------------+\n",
      "\n"
     ]
    }
   ],
   "source": [
    "# Q4 Mostrar los porcentajes de trafico sobre el total asociados a cada tipo de etiqueta de tráfico \n",
    "# (usar el campo genérico Label3 y no el detallado Label 1)\n",
    "# Mostrar un diagrama con estos porcentajes (bar plot)\n",
    "traffic_percentage = spark.sql(\"SELECT Label3 as traffic, (COUNT(*) / 45500) * 100 as percentage  FROM cyber GROUP BY Label3\")\n",
    "traffic_percentage.show()"
   ]
  },
  {
   "cell_type": "code",
   "execution_count": 24,
   "metadata": {},
   "outputs": [
    {
     "data": {
      "text/plain": [
       "<matplotlib.axes._subplots.AxesSubplot at 0x115fccd90>"
      ]
     },
     "execution_count": 24,
     "metadata": {},
     "output_type": "execute_result"
    },
    {
     "data": {
      "image/png": "[encoded data removed]",
      "text/plain": [
       "<Figure size 432x288 with 1 Axes>"
      ]
     },
     "metadata": {
      "needs_background": "light"
     },
     "output_type": "display_data"
    }
   ],
   "source": [
    "traffic_percentage.toPandas().plot(kind=\"bar\", x=\"traffic\")"
   ]
  },
  {
   "cell_type": "code",
   "execution_count": 25,
   "metadata": {},
   "outputs": [
    {
     "name": "stdout",
     "output_type": "stream",
     "text": [
      "+------------+\n",
      "|ip_proto_int|\n",
      "+------------+\n",
      "|        17.0|\n",
      "|         6.0|\n",
      "+------------+\n",
      "\n"
     ]
    }
   ],
   "source": [
    "# Q5 Identificar que tipo de tráfico de red está incluido en el dataset (usar el campo ip_proto y convertir \n",
    "# ese valor al real que debería tener, es decir, un entero en el rango definido por el IANA)\n",
    "# https://www.iana.org/assignments/protocol-numbers/protocol-numbers.xhtml\n",
    "IANA_cyber = spark.sql(\"SELECT DISTINCT (ip_proto * 1000) as ip_proto_int FROM cyber\")\n",
    "IANA_cyber.show()"
   ]
  },
  {
   "cell_type": "code",
   "execution_count": 26,
   "metadata": {},
   "outputs": [
    {
     "name": "stdout",
     "output_type": "stream",
     "text": [
      "+------------+--------------------------------+\n",
      "|ip_proto_int|sum(CAST(ip_len_mean AS DOUBLE))|\n",
      "+------------+--------------------------------+\n",
      "|         6.0|              26867.191474056726|\n",
      "|        17.0|               7064.346040678179|\n",
      "+------------+--------------------------------+\n",
      "\n"
     ]
    }
   ],
   "source": [
    "# Q6 Calcular la cantidad total (suponer que el dato a aculumar para cada paquete es ip_len_mean) \n",
    "# de bytes transmitidos agrupados por protocolo\n",
    "spark.sql(\"SELECT (ip_proto * 1000) as ip_proto_int, SUM(ip_len_mean) FROM cyber GROUP BY ip_proto\").show()"
   ]
  },
  {
   "cell_type": "code",
   "execution_count": 27,
   "metadata": {},
   "outputs": [
    {
     "name": "stdout",
     "output_type": "stream",
     "text": [
      "+---------+------------------+\n",
      "|   Label1|   sum_ip_len_mean|\n",
      "+---------+------------------+\n",
      "|udp_flood|            6894.0|\n",
      "|   normal|170.34604067817847|\n",
      "+---------+------------------+\n",
      "\n"
     ]
    }
   ],
   "source": [
    "# Q7 Indicar cual es tráfico anómalo en UDP que usa más tráfico de red. Presentar los resultados en orden demayor a menor\n",
    "spark.sql(\"SELECT Label1, SUM(ip_len_mean) as sum_ip_len_mean FROM cyber WHERE ip_proto = 0.017 GROUP BY Label1 ORDER BY sum_ip_len_mean DESC\").show()"
   ]
  },
  {
   "cell_type": "code",
   "execution_count": 28,
   "metadata": {},
   "outputs": [
    {
     "name": "stdout",
     "output_type": "stream",
     "text": [
      "+-----------------+------------------+\n",
      "|           Label1|   sum_ip_len_mean|\n",
      "+-----------------+------------------+\n",
      "|           normal|11615.053998509044|\n",
      "|    tcp_syn_flood| 5713.195544936026|\n",
      "|tcp_syn_ack_flood| 5273.157952268172|\n",
      "|    tcp_fin_flood|            2000.0|\n",
      "|    tcp_ack_flood|            2000.0|\n",
      "|       http_flood| 90.88054677859463|\n",
      "|  http_slow_range| 44.20993791090954|\n",
      "|http_slow_headers|44.157370741482964|\n",
      "|   http_slow_read|43.283366733466934|\n",
      "|   http_slow_body|43.252756179024715|\n",
      "+-----------------+------------------+\n",
      "\n"
     ]
    }
   ],
   "source": [
    "# Q8 Indicar cual es tráfico anómalo en TCP que usa más tráfico de red. Presentar los resultados en orden demayor a menor\n",
    "spark.sql(\"SELECT Label1, SUM(ip_len_mean) as sum_ip_len_mean FROM cyber WHERE ip_proto = 0.006 GROUP BY Label1 ORDER BY sum_ip_len_mean DESC\").show()"
   ]
  },
  {
   "cell_type": "markdown",
   "metadata": {},
   "source": [
    "## Conclusiones:\n",
    "Encuentro interesante la realización de la TP2 con Spark. Me ha gustado realizar los ejercicios con SPARK SQL y con la api de DataFrame para comprobar los retos (y ventajas) que ofrece cada api. </br>\n",
    "\n",
    "Como mejora propongo un ejercicio:\n",
    "Cargando un juego de datos de mayor tamaño, ver cómo afecta el data skewness en el rendimiento de SPARK. Para ello se necesitaría un juego de datos mucho mayor y hacer una aoperación JOIN por una clave desbalanceada (valores com muchas repeticiones vs valores con pocas repeticiones). Si ejecutamos el JOIN sin hacer un repartition veremos en el SPARK UI muchas tasks con pocos registros y otras con muchos registros, esto ralentizará el sistema. Si por el contrario hacemos un REPARTITION(N), donde N es un multiplo del número de hilos en el ordenador local, veremos que la carga se reparte y todas las tasks tienen un número similar de registros. La penalización en rendimiento será hacer un SHUFFLE adicional, pero será despreciable cuando el volumen de los datos crezca."
   ]
  }
 ],
 "metadata": {
  "kernelspec": {
   "display_name": "Python 3",
   "language": "python",
   "name": "python3"
  },
  "language_info": {
   "codemirror_mode": {
    "name": "ipython",
    "version": 3
   },
   "file_extension": ".py",
   "mimetype": "text/x-python",
   "name": "python",
   "nbconvert_exporter": "python",
   "pygments_lexer": "ipython3",
   "version": "3.7.5"
  }
 },
 "nbformat": 4,
 "nbformat_minor": 4
}
