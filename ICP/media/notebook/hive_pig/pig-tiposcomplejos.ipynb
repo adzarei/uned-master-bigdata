{
 "cells": [
  {
   "cell_type": "markdown",
   "metadata": {},
   "source": [
    "## Tipos de datos complejos en Pig."
   ]
  },
  {
   "cell_type": "code",
   "execution_count": 1,
   "metadata": {
    "collapsed": false
   },
   "outputs": [
    {
     "name": "stdout",
     "output_type": "stream",
     "text": [
      "/media/notebooks/pig-tiposcomplejos\r\n"
     ]
    }
   ],
   "source": [
    "! mkdir -p pig-tiposcomplejos\n",
    "import os\n",
    "os.chdir(\"pig-tiposcomplejos\")\n",
    "! pwd"
   ]
  },
  {
   "cell_type": "markdown",
   "metadata": {},
   "source": [
    "El fichero empleados.txt debe estar en /media/notebooks"
   ]
  },
  {
   "cell_type": "code",
   "execution_count": 23,
   "metadata": {
    "collapsed": false
   },
   "outputs": [
    {
     "name": "stdout",
     "output_type": "stream",
     "text": [
      "mkdir: `/user/root/datospig': File exists\n",
      "-rw-r--r--   1 root supergroup        648 2019-05-06 13:53 datospig/empleados.txt\n"
     ]
    }
   ],
   "source": [
    "! hadoop fs -mkdir /user/$(whoami)/datospig\n",
    "! hadoop fs -put /media/notebooks/empleados.txt  datospig\n",
    "! hadoop fs -ls   datospig/*"
   ]
  },
  {
   "cell_type": "markdown",
   "metadata": {},
   "source": [
    "Ejemplo de linea de este fichero:\n",
    "\n",
    "Miguel;{(licenciado,1999),(diplomado,1997)};[cargo#director,depto#compras,oficina#Madrid]"
   ]
  },
  {
   "cell_type": "code",
   "execution_count": 24,
   "metadata": {
    "collapsed": false
   },
   "outputs": [
    {
     "name": "stdout",
     "output_type": "stream",
     "text": [
      "Miguel;{(licenciado,1999),(diplomado,1997)};[cargo#director,depto#compras,oficina#Madrid]\r\n",
      "Juana;{(licenciado,2010),(diplomado,2008)};[cargo#ayudante,depto#gestion,oficina#Valencia]\r\n",
      "Martin;{(diplomado,2000)};[cargo#subdirector,depto#investigacion,oficina#Barcelona]\r\n",
      "Miriam;{(diplomado,1990)};[cargo#secretario,depto#desarrollo,oficina#Sevilla]\r\n",
      "Antonio;{(diplomado,1989)};[cargo#tecnico,depto#mantenimiento,oficina#Madrid]\r\n",
      "Elisa;{(diplomado,2015)};[cargo#tecnico,depto#gestion,oficina#Valencia]\r\n",
      "Manuel;{(diplomado,2014)};[cargo#tecnico,depto#mantenimiento,oficina#Barcelona]\r\n",
      "Teresa;{(diplomado,1995)};[cargo#tecnico,depto#desarrollo,oficina#Sevilla]\r\n"
     ]
    }
   ],
   "source": [
    "! hadoop fs -cat datospig/empleados.txt"
   ]
  },
  {
   "cell_type": "markdown",
   "metadata": {},
   "source": [
    "Muestra el nombre y la ciudad donde trabaja cada empleado."
   ]
  },
  {
   "cell_type": "code",
   "execution_count": 42,
   "metadata": {
    "collapsed": false
   },
   "outputs": [
    {
     "name": "stdout",
     "output_type": "stream",
     "text": [
      "Overwriting test.pig\n"
     ]
    }
   ],
   "source": [
    "%%writefile test.pig\n",
    "data = load '/user/root/datospig/empleados.txt' using PigStorage(';') as (nombre:chararray, \n",
    "                                                      titulos:bag{titulo:(nombretitulo:chararray, anyo:int)}, \n",
    "                                                      puestotrabajo:map[]);\n",
    "\n",
    "nombreciudad = foreach data generate nombre, puestotrabajo#'oficina';\n",
    "dump nombreciudad;"
   ]
  },
  {
   "cell_type": "code",
   "execution_count": 43,
   "metadata": {
    "collapsed": false
   },
   "outputs": [
    {
     "name": "stdout",
     "output_type": "stream",
     "text": [
      "log4j:WARN No appenders could be found for logger (org.apache.hadoop.util.Shell).\n",
      "log4j:WARN Please initialize the log4j system properly.\n",
      "log4j:WARN See http://logging.apache.org/log4j/1.2/faq.html#noconfig for more info.\n",
      "2019-05-06 16:47:29,019 [main] INFO  org.apache.pig.Main - Apache Pig version 0.12.0-cdh5.7.0 (rexported) compiled Mar 23 2016, 11:34:31\n",
      "2019-05-06 16:47:29,019 [main] INFO  org.apache.pig.Main - Logging error messages to: /media/notebooks/pig-tiposcomplejos/pig_1557161248995.log\n",
      "2019-05-06 16:47:29,740 [main] INFO  org.apache.pig.impl.util.Utils - Default bootup file /root/.pigbootup not found\n",
      "2019-05-06 16:47:29,866 [main] INFO  org.apache.hadoop.conf.Configuration.deprecation - mapred.job.tracker is deprecated. Instead, use mapreduce.jobtracker.address\n",
      "2019-05-06 16:47:29,866 [main] INFO  org.apache.hadoop.conf.Configuration.deprecation - fs.default.name is deprecated. Instead, use fs.defaultFS\n",
      "2019-05-06 16:47:29,866 [main] INFO  org.apache.pig.backend.hadoop.executionengine.HExecutionEngine - Connecting to hadoop file system at: hdfs://quickstart.cloudera:8020\n",
      "2019-05-06 16:47:30,322 [main] INFO  org.apache.pig.backend.hadoop.executionengine.HExecutionEngine - Connecting to map-reduce job tracker at: localhost:8021\n",
      "2019-05-06 16:47:30,353 [main] INFO  org.apache.hadoop.conf.Configuration.deprecation - fs.default.name is deprecated. Instead, use fs.defaultFS\n",
      "2019-05-06 16:47:30,354 [main] INFO  org.apache.hadoop.conf.Configuration.deprecation - mapred.job.tracker is deprecated. Instead, use mapreduce.jobtracker.address\n",
      "2019-05-06 16:47:30,400 [main] INFO  org.apache.hadoop.conf.Configuration.deprecation - fs.default.name is deprecated. Instead, use fs.defaultFS\n",
      "2019-05-06 16:47:30,400 [main] INFO  org.apache.hadoop.conf.Configuration.deprecation - mapred.job.tracker is deprecated. Instead, use mapreduce.jobtracker.address\n",
      "2019-05-06 16:47:30,433 [main] INFO  org.apache.hadoop.conf.Configuration.deprecation - fs.default.name is deprecated. Instead, use fs.defaultFS\n",
      "2019-05-06 16:47:30,434 [main] INFO  org.apache.hadoop.conf.Configuration.deprecation - mapred.job.tracker is deprecated. Instead, use mapreduce.jobtracker.address\n",
      "2019-05-06 16:47:30,465 [main] INFO  org.apache.hadoop.conf.Configuration.deprecation - fs.default.name is deprecated. Instead, use fs.defaultFS\n",
      "2019-05-06 16:47:30,465 [main] INFO  org.apache.hadoop.conf.Configuration.deprecation - mapred.job.tracker is deprecated. Instead, use mapreduce.jobtracker.address\n",
      "2019-05-06 16:47:30,497 [main] INFO  org.apache.hadoop.conf.Configuration.deprecation - fs.default.name is deprecated. Instead, use fs.defaultFS\n",
      "2019-05-06 16:47:30,498 [main] INFO  org.apache.hadoop.conf.Configuration.deprecation - mapred.job.tracker is deprecated. Instead, use mapreduce.jobtracker.address\n",
      "2019-05-06 16:47:30,532 [main] INFO  org.apache.hadoop.conf.Configuration.deprecation - fs.default.name is deprecated. Instead, use fs.defaultFS\n",
      "2019-05-06 16:47:30,533 [main] INFO  org.apache.hadoop.conf.Configuration.deprecation - mapred.job.tracker is deprecated. Instead, use mapreduce.jobtracker.address\n",
      "2019-05-06 16:47:30,564 [main] INFO  org.apache.hadoop.conf.Configuration.deprecation - fs.default.name is deprecated. Instead, use fs.defaultFS\n",
      "2019-05-06 16:47:30,565 [main] INFO  org.apache.hadoop.conf.Configuration.deprecation - mapred.job.tracker is deprecated. Instead, use mapreduce.jobtracker.address\n",
      "2019-05-06 16:47:30,600 [main] INFO  org.apache.hadoop.conf.Configuration.deprecation - fs.default.name is deprecated. Instead, use fs.defaultFS\n",
      "2019-05-06 16:47:30,601 [main] INFO  org.apache.hadoop.conf.Configuration.deprecation - mapred.job.tracker is deprecated. Instead, use mapreduce.jobtracker.address\n",
      "2019-05-06 16:47:31,153 [main] INFO  org.apache.pig.tools.pigstats.ScriptState - Pig features used in the script: UNKNOWN\n",
      "2019-05-06 16:47:31,187 [main] INFO  org.apache.pig.newplan.logical.optimizer.LogicalPlanOptimizer - {RULES_ENABLED=[AddForEach, ColumnMapKeyPrune, DuplicateForEachColumnRewrite, GroupByConstParallelSetter, ImplicitSplitInserter, LimitOptimizer, LoadTypeCastInserter, MergeFilter, MergeForEach, NewPartitionFilterOptimizer, PushDownForEachFlatten, PushUpFilter, SplitFilter, StreamTypeCastInserter], RULES_DISABLED=[FilterLogicExpressionSimplifier, PartitionFilterOptimizer]}\n",
      "2019-05-06 16:47:31,204 [main] INFO  org.apache.pig.newplan.logical.rules.ColumnPruneVisitor - Columns pruned for data: $1\n",
      "2019-05-06 16:47:31,204 [main] INFO  org.apache.pig.newplan.logical.rules.ColumnPruneVisitor - Map key required for data: $2->[oficina]\n",
      "\n",
      "2019-05-06 16:47:31,319 [main] INFO  org.apache.pig.backend.hadoop.executionengine.mapReduceLayer.MRCompiler - File concatenation threshold: 100 optimistic? false\n",
      "2019-05-06 16:47:31,344 [main] INFO  org.apache.pig.backend.hadoop.executionengine.mapReduceLayer.MultiQueryOptimizer - MR plan size before optimization: 1\n",
      "2019-05-06 16:47:31,345 [main] INFO  org.apache.pig.backend.hadoop.executionengine.mapReduceLayer.MultiQueryOptimizer - MR plan size after optimization: 1\n",
      "2019-05-06 16:47:31,425 [main] INFO  org.apache.hadoop.yarn.client.RMProxy - Connecting to ResourceManager at /0.0.0.0:8032\n",
      "2019-05-06 16:47:31,635 [main] INFO  org.apache.pig.tools.pigstats.ScriptState - Pig script settings are added to the job\n",
      "2019-05-06 16:47:31,677 [main] INFO  org.apache.hadoop.conf.Configuration.deprecation - mapred.job.reduce.markreset.buffer.percent is deprecated. Instead, use mapreduce.reduce.markreset.buffer.percent\n",
      "2019-05-06 16:47:31,677 [main] INFO  org.apache.pig.backend.hadoop.executionengine.mapReduceLayer.JobControlCompiler - mapred.job.reduce.markreset.buffer.percent is not set, set to default 0.3\n",
      "2019-05-06 16:47:31,677 [main] INFO  org.apache.hadoop.conf.Configuration.deprecation - mapred.output.compress is deprecated. Instead, use mapreduce.output.fileoutputformat.compress\n",
      "2019-05-06 16:47:32,089 [main] INFO  org.apache.pig.backend.hadoop.executionengine.mapReduceLayer.JobControlCompiler - creating jar file Job7456636518274210582.jar\n",
      "2019-05-06 16:47:35,511 [main] INFO  org.apache.pig.backend.hadoop.executionengine.mapReduceLayer.JobControlCompiler - jar file Job7456636518274210582.jar created\n",
      "2019-05-06 16:47:35,511 [main] INFO  org.apache.hadoop.conf.Configuration.deprecation - mapred.jar is deprecated. Instead, use mapreduce.job.jar\n",
      "2019-05-06 16:47:35,530 [main] INFO  org.apache.pig.backend.hadoop.executionengine.mapReduceLayer.JobControlCompiler - Setting up single store job\n",
      "2019-05-06 16:47:35,536 [main] INFO  org.apache.pig.data.SchemaTupleFrontend - Key [pig.schematuple] is false, will not generate code.\n",
      "2019-05-06 16:47:35,536 [main] INFO  org.apache.pig.data.SchemaTupleFrontend - Starting process to move generated code to distributed cache\n",
      "2019-05-06 16:47:35,536 [main] INFO  org.apache.pig.data.SchemaTupleFrontend - Setting key [pig.schematuple.classes] with classes to deserialize []\n",
      "2019-05-06 16:47:35,573 [main] INFO  org.apache.pig.backend.hadoop.executionengine.mapReduceLayer.MapReduceLauncher - 1 map-reduce job(s) waiting for submission.\n",
      "2019-05-06 16:47:35,575 [main] INFO  org.apache.hadoop.conf.Configuration.deprecation - mapred.job.tracker.http.address is deprecated. Instead, use mapreduce.jobtracker.http.address\n",
      "2019-05-06 16:47:35,575 [main] INFO  org.apache.hadoop.conf.Configuration.deprecation - mapred.job.tracker is deprecated. Instead, use mapreduce.jobtracker.address\n",
      "2019-05-06 16:47:35,587 [JobControl] INFO  org.apache.hadoop.yarn.client.RMProxy - Connecting to ResourceManager at /0.0.0.0:8032\n",
      "2019-05-06 16:47:35,615 [JobControl] INFO  org.apache.hadoop.conf.Configuration.deprecation - fs.default.name is deprecated. Instead, use fs.defaultFS\n",
      "2019-05-06 16:47:35,930 [JobControl] INFO  org.apache.hadoop.mapreduce.lib.input.FileInputFormat - Total input paths to process : 1\n",
      "2019-05-06 16:47:35,930 [JobControl] INFO  org.apache.pig.backend.hadoop.executionengine.util.MapRedUtil - Total input paths to process : 1\n",
      "2019-05-06 16:47:35,949 [JobControl] INFO  org.apache.pig.backend.hadoop.executionengine.util.MapRedUtil - Total input paths (combined) to process : 1\n",
      "2019-05-06 16:47:36,000 [JobControl] INFO  org.apache.hadoop.mapreduce.JobSubmitter - number of splits:1\n",
      "2019-05-06 16:47:36,231 [JobControl] INFO  org.apache.hadoop.mapreduce.JobSubmitter - Submitting tokens for job: job_1557141140104_0017\n",
      "2019-05-06 16:47:36,517 [JobControl] INFO  org.apache.hadoop.yarn.client.api.impl.YarnClientImpl - Submitted application application_1557141140104_0017\n",
      "2019-05-06 16:47:36,566 [JobControl] INFO  org.apache.hadoop.mapreduce.Job - The url to track the job: http://quickstart.cloudera:8088/proxy/application_1557141140104_0017/\n",
      "2019-05-06 16:47:36,566 [main] INFO  org.apache.pig.backend.hadoop.executionengine.mapReduceLayer.MapReduceLauncher - HadoopJobId: job_1557141140104_0017\n",
      "2019-05-06 16:47:36,567 [main] INFO  org.apache.pig.backend.hadoop.executionengine.mapReduceLayer.MapReduceLauncher - Processing aliases data,nombreciudad\n",
      "2019-05-06 16:47:36,567 [main] INFO  org.apache.pig.backend.hadoop.executionengine.mapReduceLayer.MapReduceLauncher - detailed locations: M: data[1,7],nombreciudad[-1,-1] C:  R: \n",
      "2019-05-06 16:47:36,567 [main] INFO  org.apache.pig.backend.hadoop.executionengine.mapReduceLayer.MapReduceLauncher - More information at: http://localhost:50030/jobdetails.jsp?jobid=job_1557141140104_0017\n",
      "2019-05-06 16:47:36,628 [main] INFO  org.apache.pig.backend.hadoop.executionengine.mapReduceLayer.MapReduceLauncher - 0% complete\n",
      "2019-05-06 16:47:45,321 [main] INFO  org.apache.pig.backend.hadoop.executionengine.mapReduceLayer.MapReduceLauncher - 50% complete\n",
      "2019-05-06 16:47:47,036 [main] INFO  org.apache.hadoop.conf.Configuration.deprecation - mapred.reduce.tasks is deprecated. Instead, use mapreduce.job.reduces\n",
      "2019-05-06 16:47:47,093 [main] INFO  org.apache.pig.backend.hadoop.executionengine.mapReduceLayer.MapReduceLauncher - 100% complete\n",
      "2019-05-06 16:47:47,099 [main] INFO  org.apache.pig.tools.pigstats.SimplePigStats - Script Statistics: \n",
      "\n",
      "HadoopVersion\tPigVersion\tUserId\tStartedAt\tFinishedAt\tFeatures\n",
      "2.6.0-cdh5.7.0\t0.12.0-cdh5.7.0\troot\t2019-05-06 16:47:31\t2019-05-06 16:47:47\tUNKNOWN\n",
      "\n",
      "Success!\n",
      "\n",
      "Job Stats (time in seconds):\n",
      "JobId\tMaps\tReduces\tMaxMapTime\tMinMapTIme\tAvgMapTime\tMedianMapTime\tMaxReduceTime\tMinReduceTime\tAvgReduceTime\tMedianReducetime\tAlias\tFeature\tOutputs\n",
      "job_1557141140104_0017\t1\t0\t2\t2\t2\t2\tn/a\tn/a\tn/a\tn/a\tdata,nombreciudad\tMAP_ONLY\thdfs://quickstart.cloudera:8020/tmp/temp-1987555187/tmp-173273678,\n",
      "\n",
      "Input(s):\n",
      "Successfully read 8 records (1031 bytes) from: \"/user/root/datospig/empleados.txt\"\n",
      "\n",
      "Output(s):\n",
      "Successfully stored 8 records (179 bytes) in: \"hdfs://quickstart.cloudera:8020/tmp/temp-1987555187/tmp-173273678\"\n",
      "\n",
      "Counters:\n",
      "Total records written : 8\n",
      "Total bytes written : 179\n",
      "Spillable Memory Manager spill count : 0\n",
      "Total bags proactively spilled: 0\n",
      "Total records proactively spilled: 0\n",
      "\n",
      "Job DAG:\n",
      "job_1557141140104_0017\n",
      "\n",
      "\n",
      "2019-05-06 16:47:47,203 [main] INFO  org.apache.pig.backend.hadoop.executionengine.mapReduceLayer.MapReduceLauncher - Success!\n",
      "2019-05-06 16:47:47,206 [main] INFO  org.apache.hadoop.conf.Configuration.deprecation - fs.default.name is deprecated. Instead, use fs.defaultFS\n",
      "2019-05-06 16:47:47,207 [main] INFO  org.apache.hadoop.conf.Configuration.deprecation - mapred.job.tracker is deprecated. Instead, use mapreduce.jobtracker.address\n",
      "2019-05-06 16:47:47,208 [main] INFO  org.apache.pig.data.SchemaTupleBackend - Key [pig.schematuple] was not set... will not generate code.\n",
      "2019-05-06 16:47:47,227 [main] INFO  org.apache.hadoop.mapreduce.lib.input.FileInputFormat - Total input paths to process : 1\n",
      "2019-05-06 16:47:47,227 [main] INFO  org.apache.pig.backend.hadoop.executionengine.util.MapRedUtil - Total input paths to process : 1\n",
      "(Miguel,Madrid)\n",
      "(Juana,Valencia)\n",
      "(Martin,Barcelona)\n",
      "(Miriam,Sevilla)\n",
      "(Antonio,Madrid)\n",
      "(Elisa,Valencia)\n",
      "(Manuel,Barcelona)\n",
      "(Teresa,Sevilla)\n",
      "2019-05-06 16:47:47,326 [main] INFO  org.apache.hadoop.conf.Configuration.deprecation - fs.default.name is deprecated. Instead, use fs.defaultFS\n",
      "2019-05-06 16:47:47,326 [main] INFO  org.apache.hadoop.conf.Configuration.deprecation - mapred.job.tracker is deprecated. Instead, use mapreduce.jobtracker.address\n"
     ]
    }
   ],
   "source": [
    "! pig -f test.pig"
   ]
  },
  {
   "cell_type": "markdown",
   "metadata": {},
   "source": [
    "Muestra los títulos que tiene cada empleado."
   ]
  },
  {
   "cell_type": "code",
   "execution_count": 29,
   "metadata": {
    "collapsed": false
   },
   "outputs": [
    {
     "name": "stdout",
     "output_type": "stream",
     "text": [
      "Overwriting test.pig\n"
     ]
    }
   ],
   "source": [
    "%%writefile test.pig\n",
    "data = load '/user/root/datospig/empleados.txt' using PigStorage(';') as (nombre:chararray, \n",
    "                                                      titulos:bag{titulo:(nombretitulo:chararray, anyo:int)}, \n",
    "                                                      puestotrabajo:map[]);\n",
    "nombretitulos = foreach data generate nombre, titulos;\n",
    "dump nombretitulos;"
   ]
  },
  {
   "cell_type": "code",
   "execution_count": 30,
   "metadata": {
    "collapsed": false
   },
   "outputs": [
    {
     "name": "stdout",
     "output_type": "stream",
     "text": [
      "log4j:WARN No appenders could be found for logger (org.apache.hadoop.util.Shell).\n",
      "log4j:WARN Please initialize the log4j system properly.\n",
      "log4j:WARN See http://logging.apache.org/log4j/1.2/faq.html#noconfig for more info.\n",
      "2019-05-06 15:26:26,741 [main] INFO  org.apache.pig.Main - Apache Pig version 0.12.0-cdh5.7.0 (rexported) compiled Mar 23 2016, 11:34:31\n",
      "2019-05-06 15:26:26,742 [main] INFO  org.apache.pig.Main - Logging error messages to: /media/notebooks/pig-tiposcomplejos/pig_1557156386718.log\n",
      "2019-05-06 15:26:27,513 [main] INFO  org.apache.pig.impl.util.Utils - Default bootup file /root/.pigbootup not found\n",
      "2019-05-06 15:26:27,649 [main] INFO  org.apache.hadoop.conf.Configuration.deprecation - mapred.job.tracker is deprecated. Instead, use mapreduce.jobtracker.address\n",
      "2019-05-06 15:26:27,649 [main] INFO  org.apache.hadoop.conf.Configuration.deprecation - fs.default.name is deprecated. Instead, use fs.defaultFS\n",
      "2019-05-06 15:26:27,649 [main] INFO  org.apache.pig.backend.hadoop.executionengine.HExecutionEngine - Connecting to hadoop file system at: hdfs://quickstart.cloudera:8020\n",
      "2019-05-06 15:26:28,145 [main] INFO  org.apache.pig.backend.hadoop.executionengine.HExecutionEngine - Connecting to map-reduce job tracker at: localhost:8021\n",
      "2019-05-06 15:26:28,192 [main] INFO  org.apache.hadoop.conf.Configuration.deprecation - fs.default.name is deprecated. Instead, use fs.defaultFS\n",
      "2019-05-06 15:26:28,193 [main] INFO  org.apache.hadoop.conf.Configuration.deprecation - mapred.job.tracker is deprecated. Instead, use mapreduce.jobtracker.address\n",
      "2019-05-06 15:26:28,253 [main] INFO  org.apache.hadoop.conf.Configuration.deprecation - fs.default.name is deprecated. Instead, use fs.defaultFS\n",
      "2019-05-06 15:26:28,254 [main] INFO  org.apache.hadoop.conf.Configuration.deprecation - mapred.job.tracker is deprecated. Instead, use mapreduce.jobtracker.address\n",
      "2019-05-06 15:26:28,302 [main] INFO  org.apache.hadoop.conf.Configuration.deprecation - fs.default.name is deprecated. Instead, use fs.defaultFS\n",
      "2019-05-06 15:26:28,303 [main] INFO  org.apache.hadoop.conf.Configuration.deprecation - mapred.job.tracker is deprecated. Instead, use mapreduce.jobtracker.address\n",
      "2019-05-06 15:26:28,359 [main] INFO  org.apache.hadoop.conf.Configuration.deprecation - fs.default.name is deprecated. Instead, use fs.defaultFS\n",
      "2019-05-06 15:26:28,361 [main] INFO  org.apache.hadoop.conf.Configuration.deprecation - mapred.job.tracker is deprecated. Instead, use mapreduce.jobtracker.address\n",
      "2019-05-06 15:26:28,405 [main] INFO  org.apache.hadoop.conf.Configuration.deprecation - fs.default.name is deprecated. Instead, use fs.defaultFS\n",
      "2019-05-06 15:26:28,406 [main] INFO  org.apache.hadoop.conf.Configuration.deprecation - mapred.job.tracker is deprecated. Instead, use mapreduce.jobtracker.address\n",
      "2019-05-06 15:26:28,441 [main] INFO  org.apache.hadoop.conf.Configuration.deprecation - fs.default.name is deprecated. Instead, use fs.defaultFS\n",
      "2019-05-06 15:26:28,442 [main] INFO  org.apache.hadoop.conf.Configuration.deprecation - mapred.job.tracker is deprecated. Instead, use mapreduce.jobtracker.address\n",
      "2019-05-06 15:26:28,479 [main] INFO  org.apache.hadoop.conf.Configuration.deprecation - fs.default.name is deprecated. Instead, use fs.defaultFS\n",
      "2019-05-06 15:26:28,480 [main] INFO  org.apache.hadoop.conf.Configuration.deprecation - mapred.job.tracker is deprecated. Instead, use mapreduce.jobtracker.address\n",
      "2019-05-06 15:26:28,515 [main] INFO  org.apache.hadoop.conf.Configuration.deprecation - fs.default.name is deprecated. Instead, use fs.defaultFS\n",
      "2019-05-06 15:26:28,515 [main] INFO  org.apache.hadoop.conf.Configuration.deprecation - mapred.job.tracker is deprecated. Instead, use mapreduce.jobtracker.address\n",
      "2019-05-06 15:26:29,273 [main] INFO  org.apache.pig.tools.pigstats.ScriptState - Pig features used in the script: UNKNOWN\n",
      "2019-05-06 15:26:29,326 [main] INFO  org.apache.pig.newplan.logical.optimizer.LogicalPlanOptimizer - {RULES_ENABLED=[AddForEach, ColumnMapKeyPrune, DuplicateForEachColumnRewrite, GroupByConstParallelSetter, ImplicitSplitInserter, LimitOptimizer, LoadTypeCastInserter, MergeFilter, MergeForEach, NewPartitionFilterOptimizer, PushDownForEachFlatten, PushUpFilter, SplitFilter, StreamTypeCastInserter], RULES_DISABLED=[FilterLogicExpressionSimplifier, PartitionFilterOptimizer]}\n",
      "2019-05-06 15:26:29,356 [main] INFO  org.apache.pig.newplan.logical.rules.ColumnPruneVisitor - Columns pruned for data: $2\n",
      "2019-05-06 15:26:29,497 [main] INFO  org.apache.pig.backend.hadoop.executionengine.mapReduceLayer.MRCompiler - File concatenation threshold: 100 optimistic? false\n",
      "2019-05-06 15:26:29,529 [main] INFO  org.apache.pig.backend.hadoop.executionengine.mapReduceLayer.MultiQueryOptimizer - MR plan size before optimization: 1\n",
      "2019-05-06 15:26:29,529 [main] INFO  org.apache.pig.backend.hadoop.executionengine.mapReduceLayer.MultiQueryOptimizer - MR plan size after optimization: 1\n",
      "2019-05-06 15:26:29,674 [main] INFO  org.apache.hadoop.yarn.client.RMProxy - Connecting to ResourceManager at /0.0.0.0:8032\n",
      "2019-05-06 15:26:29,988 [main] INFO  org.apache.pig.tools.pigstats.ScriptState - Pig script settings are added to the job\n",
      "2019-05-06 15:26:30,048 [main] INFO  org.apache.hadoop.conf.Configuration.deprecation - mapred.job.reduce.markreset.buffer.percent is deprecated. Instead, use mapreduce.reduce.markreset.buffer.percent\n",
      "2019-05-06 15:26:30,049 [main] INFO  org.apache.pig.backend.hadoop.executionengine.mapReduceLayer.JobControlCompiler - mapred.job.reduce.markreset.buffer.percent is not set, set to default 0.3\n",
      "2019-05-06 15:26:30,049 [main] INFO  org.apache.hadoop.conf.Configuration.deprecation - mapred.output.compress is deprecated. Instead, use mapreduce.output.fileoutputformat.compress\n",
      "2019-05-06 15:26:30,525 [main] INFO  org.apache.pig.backend.hadoop.executionengine.mapReduceLayer.JobControlCompiler - creating jar file Job2229261637990354367.jar\n",
      "2019-05-06 15:26:34,516 [main] INFO  org.apache.pig.backend.hadoop.executionengine.mapReduceLayer.JobControlCompiler - jar file Job2229261637990354367.jar created\n",
      "2019-05-06 15:26:34,516 [main] INFO  org.apache.hadoop.conf.Configuration.deprecation - mapred.jar is deprecated. Instead, use mapreduce.job.jar\n",
      "2019-05-06 15:26:34,534 [main] INFO  org.apache.pig.backend.hadoop.executionengine.mapReduceLayer.JobControlCompiler - Setting up single store job\n",
      "2019-05-06 15:26:34,540 [main] INFO  org.apache.pig.data.SchemaTupleFrontend - Key [pig.schematuple] is false, will not generate code.\n",
      "2019-05-06 15:26:34,540 [main] INFO  org.apache.pig.data.SchemaTupleFrontend - Starting process to move generated code to distributed cache\n",
      "2019-05-06 15:26:34,540 [main] INFO  org.apache.pig.data.SchemaTupleFrontend - Setting key [pig.schematuple.classes] with classes to deserialize []\n",
      "2019-05-06 15:26:34,579 [main] INFO  org.apache.pig.backend.hadoop.executionengine.mapReduceLayer.MapReduceLauncher - 1 map-reduce job(s) waiting for submission.\n",
      "2019-05-06 15:26:34,580 [main] INFO  org.apache.hadoop.conf.Configuration.deprecation - mapred.job.tracker.http.address is deprecated. Instead, use mapreduce.jobtracker.http.address\n",
      "2019-05-06 15:26:34,580 [main] INFO  org.apache.hadoop.conf.Configuration.deprecation - mapred.job.tracker is deprecated. Instead, use mapreduce.jobtracker.address\n",
      "2019-05-06 15:26:34,588 [JobControl] INFO  org.apache.hadoop.yarn.client.RMProxy - Connecting to ResourceManager at /0.0.0.0:8032\n",
      "2019-05-06 15:26:34,611 [JobControl] INFO  org.apache.hadoop.conf.Configuration.deprecation - fs.default.name is deprecated. Instead, use fs.defaultFS\n",
      "2019-05-06 15:26:34,928 [JobControl] INFO  org.apache.hadoop.mapreduce.lib.input.FileInputFormat - Total input paths to process : 1\n",
      "2019-05-06 15:26:34,929 [JobControl] INFO  org.apache.pig.backend.hadoop.executionengine.util.MapRedUtil - Total input paths to process : 1\n",
      "2019-05-06 15:26:34,947 [JobControl] INFO  org.apache.pig.backend.hadoop.executionengine.util.MapRedUtil - Total input paths (combined) to process : 1\n",
      "2019-05-06 15:26:34,988 [JobControl] INFO  org.apache.hadoop.mapreduce.JobSubmitter - number of splits:1\n",
      "2019-05-06 15:26:35,153 [JobControl] INFO  org.apache.hadoop.mapreduce.JobSubmitter - Submitting tokens for job: job_1557141140104_0011\n",
      "2019-05-06 15:26:35,459 [JobControl] INFO  org.apache.hadoop.yarn.client.api.impl.YarnClientImpl - Submitted application application_1557141140104_0011\n",
      "2019-05-06 15:26:35,506 [JobControl] INFO  org.apache.hadoop.mapreduce.Job - The url to track the job: http://quickstart.cloudera:8088/proxy/application_1557141140104_0011/\n",
      "2019-05-06 15:26:35,506 [main] INFO  org.apache.pig.backend.hadoop.executionengine.mapReduceLayer.MapReduceLauncher - HadoopJobId: job_1557141140104_0011\n",
      "2019-05-06 15:26:35,506 [main] INFO  org.apache.pig.backend.hadoop.executionengine.mapReduceLayer.MapReduceLauncher - Processing aliases data,nombretitulos\n",
      "2019-05-06 15:26:35,506 [main] INFO  org.apache.pig.backend.hadoop.executionengine.mapReduceLayer.MapReduceLauncher - detailed locations: M: data[1,7],nombretitulos[-1,-1] C:  R: \n",
      "2019-05-06 15:26:35,506 [main] INFO  org.apache.pig.backend.hadoop.executionengine.mapReduceLayer.MapReduceLauncher - More information at: http://localhost:50030/jobdetails.jsp?jobid=job_1557141140104_0011\n",
      "2019-05-06 15:26:35,558 [main] INFO  org.apache.pig.backend.hadoop.executionengine.mapReduceLayer.MapReduceLauncher - 0% complete\n",
      "2019-05-06 15:26:45,428 [main] INFO  org.apache.pig.backend.hadoop.executionengine.mapReduceLayer.MapReduceLauncher - 50% complete\n",
      "2019-05-06 15:26:50,809 [main] INFO  org.apache.hadoop.conf.Configuration.deprecation - mapred.reduce.tasks is deprecated. Instead, use mapreduce.job.reduces\n",
      "2019-05-06 15:26:50,865 [main] INFO  org.apache.pig.backend.hadoop.executionengine.mapReduceLayer.MapReduceLauncher - 100% complete\n",
      "2019-05-06 15:26:50,868 [main] INFO  org.apache.pig.tools.pigstats.SimplePigStats - Script Statistics: \n",
      "\n",
      "HadoopVersion\tPigVersion\tUserId\tStartedAt\tFinishedAt\tFeatures\n",
      "2.6.0-cdh5.7.0\t0.12.0-cdh5.7.0\troot\t2019-05-06 15:26:29\t2019-05-06 15:26:50\tUNKNOWN\n",
      "\n",
      "Success!\n",
      "\n",
      "Job Stats (time in seconds):\n",
      "JobId\tMaps\tReduces\tMaxMapTime\tMinMapTIme\tAvgMapTime\tMedianMapTime\tMaxReduceTime\tMinReduceTime\tAvgReduceTime\tMedianReducetime\tAlias\tFeature\tOutputs\n",
      "job_1557141140104_0011\t1\t0\t2\t2\t2\t2\tn/a\tn/a\tn/a\tn/a\tdata,nombretitulos\tMAP_ONLY\thdfs://quickstart.cloudera:8020/tmp/temp1982170228/tmp-1187253727,\n",
      "\n",
      "Input(s):\n",
      "Successfully read 8 records (1031 bytes) from: \"/user/root/datospig/empleados.txt\"\n",
      "\n",
      "Output(s):\n",
      "Successfully stored 8 records (281 bytes) in: \"hdfs://quickstart.cloudera:8020/tmp/temp1982170228/tmp-1187253727\"\n",
      "\n",
      "Counters:\n",
      "Total records written : 8\n",
      "Total bytes written : 281\n",
      "Spillable Memory Manager spill count : 0\n",
      "Total bags proactively spilled: 0\n",
      "Total records proactively spilled: 0\n",
      "\n",
      "Job DAG:\n",
      "job_1557141140104_0011\n",
      "\n",
      "\n",
      "2019-05-06 15:26:50,978 [main] INFO  org.apache.pig.backend.hadoop.executionengine.mapReduceLayer.MapReduceLauncher - Success!\n",
      "2019-05-06 15:26:50,981 [main] INFO  org.apache.hadoop.conf.Configuration.deprecation - fs.default.name is deprecated. Instead, use fs.defaultFS\n",
      "2019-05-06 15:26:50,981 [main] INFO  org.apache.hadoop.conf.Configuration.deprecation - mapred.job.tracker is deprecated. Instead, use mapreduce.jobtracker.address\n",
      "2019-05-06 15:26:50,982 [main] INFO  org.apache.pig.data.SchemaTupleBackend - Key [pig.schematuple] was not set... will not generate code.\n",
      "2019-05-06 15:26:51,002 [main] INFO  org.apache.hadoop.mapreduce.lib.input.FileInputFormat - Total input paths to process : 1\n",
      "2019-05-06 15:26:51,003 [main] INFO  org.apache.pig.backend.hadoop.executionengine.util.MapRedUtil - Total input paths to process : 1\n",
      "(Miguel,{(licenciado,1999),(diplomado,1997)})\n",
      "(Juana,{(licenciado,2010),(diplomado,2008)})\n",
      "(Martin,{(diplomado,2000)})\n",
      "(Miriam,{(diplomado,1990)})\n",
      "(Antonio,{(diplomado,1989)})\n",
      "(Elisa,{(diplomado,2015)})\n",
      "(Manuel,{(diplomado,2014)})\n",
      "(Teresa,{(diplomado,1995)})\n",
      "2019-05-06 15:26:51,127 [main] INFO  org.apache.hadoop.conf.Configuration.deprecation - fs.default.name is deprecated. Instead, use fs.defaultFS\n",
      "2019-05-06 15:26:51,127 [main] INFO  org.apache.hadoop.conf.Configuration.deprecation - mapred.job.tracker is deprecated. Instead, use mapreduce.jobtracker.address\n"
     ]
    }
   ],
   "source": [
    "! pig -f test.pig"
   ]
  },
  {
   "cell_type": "markdown",
   "metadata": {},
   "source": [
    "Muestra el mayor título que tiene cada empleado."
   ]
  },
  {
   "cell_type": "code",
   "execution_count": 32,
   "metadata": {
    "collapsed": false
   },
   "outputs": [
    {
     "name": "stdout",
     "output_type": "stream",
     "text": [
      "Overwriting test.pig\n"
     ]
    }
   ],
   "source": [
    "%%writefile test.pig\n",
    "register /usr/lib/pig/datafu.jar\n",
    "define FirstTupleFromBag datafu.pig.bags.FirstTupleFromBag();  \n",
    "data = load '/user/root/datospig/empleados.txt' using PigStorage(';') as (nombre:chararray, \n",
    "                                                      titulos:bag{titulo:(nombretitulo:chararray, anyo:int)}, \n",
    "                                                      puestotrabajo:map[]);\n",
    "nombremayortitulo = foreach data generate nombre, FirstTupleFromBag(titulos, null);\n",
    "dump nombremayortitulo;"
   ]
  },
  {
   "cell_type": "code",
   "execution_count": 33,
   "metadata": {
    "collapsed": false
   },
   "outputs": [
    {
     "name": "stdout",
     "output_type": "stream",
     "text": [
      "log4j:WARN No appenders could be found for logger (org.apache.hadoop.util.Shell).\n",
      "log4j:WARN Please initialize the log4j system properly.\n",
      "log4j:WARN See http://logging.apache.org/log4j/1.2/faq.html#noconfig for more info.\n",
      "2019-05-06 15:27:45,619 [main] INFO  org.apache.pig.Main - Apache Pig version 0.12.0-cdh5.7.0 (rexported) compiled Mar 23 2016, 11:34:31\n",
      "2019-05-06 15:27:45,619 [main] INFO  org.apache.pig.Main - Logging error messages to: /media/notebooks/pig-tiposcomplejos/pig_1557156465597.log\n",
      "2019-05-06 15:27:46,379 [main] INFO  org.apache.pig.impl.util.Utils - Default bootup file /root/.pigbootup not found\n",
      "2019-05-06 15:27:46,497 [main] INFO  org.apache.hadoop.conf.Configuration.deprecation - mapred.job.tracker is deprecated. Instead, use mapreduce.jobtracker.address\n",
      "2019-05-06 15:27:46,497 [main] INFO  org.apache.hadoop.conf.Configuration.deprecation - fs.default.name is deprecated. Instead, use fs.defaultFS\n",
      "2019-05-06 15:27:46,497 [main] INFO  org.apache.pig.backend.hadoop.executionengine.HExecutionEngine - Connecting to hadoop file system at: hdfs://quickstart.cloudera:8020\n",
      "2019-05-06 15:27:46,936 [main] INFO  org.apache.pig.backend.hadoop.executionengine.HExecutionEngine - Connecting to map-reduce job tracker at: localhost:8021\n",
      "2019-05-06 15:27:46,970 [main] INFO  org.apache.hadoop.conf.Configuration.deprecation - fs.default.name is deprecated. Instead, use fs.defaultFS\n",
      "2019-05-06 15:27:46,971 [main] INFO  org.apache.hadoop.conf.Configuration.deprecation - mapred.job.tracker is deprecated. Instead, use mapreduce.jobtracker.address\n",
      "2019-05-06 15:27:47,009 [main] INFO  org.apache.hadoop.conf.Configuration.deprecation - fs.default.name is deprecated. Instead, use fs.defaultFS\n",
      "2019-05-06 15:27:47,010 [main] INFO  org.apache.hadoop.conf.Configuration.deprecation - mapred.job.tracker is deprecated. Instead, use mapreduce.jobtracker.address\n",
      "2019-05-06 15:27:47,045 [main] INFO  org.apache.hadoop.conf.Configuration.deprecation - fs.default.name is deprecated. Instead, use fs.defaultFS\n",
      "2019-05-06 15:27:47,046 [main] INFO  org.apache.hadoop.conf.Configuration.deprecation - mapred.job.tracker is deprecated. Instead, use mapreduce.jobtracker.address\n",
      "2019-05-06 15:27:47,081 [main] INFO  org.apache.hadoop.conf.Configuration.deprecation - fs.default.name is deprecated. Instead, use fs.defaultFS\n",
      "2019-05-06 15:27:47,082 [main] INFO  org.apache.hadoop.conf.Configuration.deprecation - mapred.job.tracker is deprecated. Instead, use mapreduce.jobtracker.address\n",
      "2019-05-06 15:27:47,112 [main] INFO  org.apache.hadoop.conf.Configuration.deprecation - fs.default.name is deprecated. Instead, use fs.defaultFS\n",
      "2019-05-06 15:27:47,113 [main] INFO  org.apache.hadoop.conf.Configuration.deprecation - mapred.job.tracker is deprecated. Instead, use mapreduce.jobtracker.address\n",
      "2019-05-06 15:27:47,144 [main] INFO  org.apache.hadoop.conf.Configuration.deprecation - fs.default.name is deprecated. Instead, use fs.defaultFS\n",
      "2019-05-06 15:27:47,145 [main] INFO  org.apache.hadoop.conf.Configuration.deprecation - mapred.job.tracker is deprecated. Instead, use mapreduce.jobtracker.address\n",
      "2019-05-06 15:27:47,176 [main] INFO  org.apache.hadoop.conf.Configuration.deprecation - fs.default.name is deprecated. Instead, use fs.defaultFS\n",
      "2019-05-06 15:27:47,177 [main] INFO  org.apache.hadoop.conf.Configuration.deprecation - mapred.job.tracker is deprecated. Instead, use mapreduce.jobtracker.address\n",
      "2019-05-06 15:27:47,206 [main] INFO  org.apache.hadoop.conf.Configuration.deprecation - fs.default.name is deprecated. Instead, use fs.defaultFS\n",
      "2019-05-06 15:27:47,207 [main] INFO  org.apache.hadoop.conf.Configuration.deprecation - mapred.job.tracker is deprecated. Instead, use mapreduce.jobtracker.address\n",
      "2019-05-06 15:27:47,272 [main] INFO  org.apache.hadoop.conf.Configuration.deprecation - fs.default.name is deprecated. Instead, use fs.defaultFS\n",
      "2019-05-06 15:27:47,272 [main] INFO  org.apache.hadoop.conf.Configuration.deprecation - mapred.job.tracker is deprecated. Instead, use mapreduce.jobtracker.address\n",
      "2019-05-06 15:27:47,844 [main] INFO  org.apache.pig.tools.pigstats.ScriptState - Pig features used in the script: UNKNOWN\n",
      "2019-05-06 15:27:47,877 [main] INFO  org.apache.pig.newplan.logical.optimizer.LogicalPlanOptimizer - {RULES_ENABLED=[AddForEach, ColumnMapKeyPrune, DuplicateForEachColumnRewrite, GroupByConstParallelSetter, ImplicitSplitInserter, LimitOptimizer, LoadTypeCastInserter, MergeFilter, MergeForEach, NewPartitionFilterOptimizer, PushDownForEachFlatten, PushUpFilter, SplitFilter, StreamTypeCastInserter], RULES_DISABLED=[FilterLogicExpressionSimplifier, PartitionFilterOptimizer]}\n",
      "2019-05-06 15:27:47,895 [main] INFO  org.apache.pig.newplan.logical.rules.ColumnPruneVisitor - Columns pruned for data: $2\n",
      "2019-05-06 15:27:48,017 [main] INFO  org.apache.pig.backend.hadoop.executionengine.mapReduceLayer.MRCompiler - File concatenation threshold: 100 optimistic? false\n",
      "2019-05-06 15:27:48,045 [main] INFO  org.apache.pig.backend.hadoop.executionengine.mapReduceLayer.MultiQueryOptimizer - MR plan size before optimization: 1\n",
      "2019-05-06 15:27:48,045 [main] INFO  org.apache.pig.backend.hadoop.executionengine.mapReduceLayer.MultiQueryOptimizer - MR plan size after optimization: 1\n",
      "2019-05-06 15:27:48,149 [main] INFO  org.apache.hadoop.yarn.client.RMProxy - Connecting to ResourceManager at /0.0.0.0:8032\n",
      "2019-05-06 15:27:48,372 [main] INFO  org.apache.pig.tools.pigstats.ScriptState - Pig script settings are added to the job\n",
      "2019-05-06 15:27:48,425 [main] INFO  org.apache.hadoop.conf.Configuration.deprecation - mapred.job.reduce.markreset.buffer.percent is deprecated. Instead, use mapreduce.reduce.markreset.buffer.percent\n",
      "2019-05-06 15:27:48,425 [main] INFO  org.apache.pig.backend.hadoop.executionengine.mapReduceLayer.JobControlCompiler - mapred.job.reduce.markreset.buffer.percent is not set, set to default 0.3\n",
      "2019-05-06 15:27:48,426 [main] INFO  org.apache.hadoop.conf.Configuration.deprecation - mapred.output.compress is deprecated. Instead, use mapreduce.output.fileoutputformat.compress\n",
      "2019-05-06 15:27:48,866 [main] INFO  org.apache.pig.backend.hadoop.executionengine.mapReduceLayer.JobControlCompiler - creating jar file Job8419027297583637676.jar\n",
      "2019-05-06 15:27:52,418 [main] INFO  org.apache.pig.backend.hadoop.executionengine.mapReduceLayer.JobControlCompiler - jar file Job8419027297583637676.jar created\n",
      "2019-05-06 15:27:52,419 [main] INFO  org.apache.hadoop.conf.Configuration.deprecation - mapred.jar is deprecated. Instead, use mapreduce.job.jar\n",
      "2019-05-06 15:27:52,437 [main] INFO  org.apache.pig.backend.hadoop.executionengine.mapReduceLayer.JobControlCompiler - Setting up single store job\n",
      "2019-05-06 15:27:52,444 [main] INFO  org.apache.pig.data.SchemaTupleFrontend - Key [pig.schematuple] is false, will not generate code.\n",
      "2019-05-06 15:27:52,444 [main] INFO  org.apache.pig.data.SchemaTupleFrontend - Starting process to move generated code to distributed cache\n",
      "2019-05-06 15:27:52,444 [main] INFO  org.apache.pig.data.SchemaTupleFrontend - Setting key [pig.schematuple.classes] with classes to deserialize []\n",
      "2019-05-06 15:27:52,497 [main] INFO  org.apache.pig.backend.hadoop.executionengine.mapReduceLayer.MapReduceLauncher - 1 map-reduce job(s) waiting for submission.\n",
      "2019-05-06 15:27:52,498 [main] INFO  org.apache.hadoop.conf.Configuration.deprecation - mapred.job.tracker.http.address is deprecated. Instead, use mapreduce.jobtracker.http.address\n",
      "2019-05-06 15:27:52,498 [main] INFO  org.apache.hadoop.conf.Configuration.deprecation - mapred.job.tracker is deprecated. Instead, use mapreduce.jobtracker.address\n",
      "2019-05-06 15:27:52,505 [JobControl] INFO  org.apache.hadoop.yarn.client.RMProxy - Connecting to ResourceManager at /0.0.0.0:8032\n",
      "2019-05-06 15:27:52,522 [JobControl] INFO  org.apache.hadoop.conf.Configuration.deprecation - fs.default.name is deprecated. Instead, use fs.defaultFS\n",
      "2019-05-06 15:27:52,886 [JobControl] INFO  org.apache.hadoop.mapreduce.lib.input.FileInputFormat - Total input paths to process : 1\n",
      "2019-05-06 15:27:52,886 [JobControl] INFO  org.apache.pig.backend.hadoop.executionengine.util.MapRedUtil - Total input paths to process : 1\n",
      "2019-05-06 15:27:52,914 [JobControl] INFO  org.apache.pig.backend.hadoop.executionengine.util.MapRedUtil - Total input paths (combined) to process : 1\n",
      "2019-05-06 15:27:53,372 [JobControl] INFO  org.apache.hadoop.mapreduce.JobSubmitter - number of splits:1\n",
      "2019-05-06 15:27:53,527 [JobControl] INFO  org.apache.hadoop.mapreduce.JobSubmitter - Submitting tokens for job: job_1557141140104_0012\n",
      "2019-05-06 15:27:53,761 [JobControl] INFO  org.apache.hadoop.yarn.client.api.impl.YarnClientImpl - Submitted application application_1557141140104_0012\n",
      "2019-05-06 15:27:53,819 [JobControl] INFO  org.apache.hadoop.mapreduce.Job - The url to track the job: http://quickstart.cloudera:8088/proxy/application_1557141140104_0012/\n",
      "2019-05-06 15:27:53,819 [main] INFO  org.apache.pig.backend.hadoop.executionengine.mapReduceLayer.MapReduceLauncher - HadoopJobId: job_1557141140104_0012\n",
      "2019-05-06 15:27:53,819 [main] INFO  org.apache.pig.backend.hadoop.executionengine.mapReduceLayer.MapReduceLauncher - Processing aliases data,nombremayortitulo\n",
      "2019-05-06 15:27:53,819 [main] INFO  org.apache.pig.backend.hadoop.executionengine.mapReduceLayer.MapReduceLauncher - detailed locations: M: data[3,7],nombremayortitulo[-1,-1] C:  R: \n",
      "2019-05-06 15:27:53,819 [main] INFO  org.apache.pig.backend.hadoop.executionengine.mapReduceLayer.MapReduceLauncher - More information at: http://localhost:50030/jobdetails.jsp?jobid=job_1557141140104_0012\n",
      "2019-05-06 15:27:53,935 [main] INFO  org.apache.pig.backend.hadoop.executionengine.mapReduceLayer.MapReduceLauncher - 0% complete\n",
      "2019-05-06 15:28:06,036 [main] INFO  org.apache.pig.backend.hadoop.executionengine.mapReduceLayer.MapReduceLauncher - 50% complete\n",
      "2019-05-06 15:28:09,321 [main] INFO  org.apache.hadoop.conf.Configuration.deprecation - mapred.reduce.tasks is deprecated. Instead, use mapreduce.job.reduces\n",
      "2019-05-06 15:28:09,391 [main] INFO  org.apache.pig.backend.hadoop.executionengine.mapReduceLayer.MapReduceLauncher - 100% complete\n",
      "2019-05-06 15:28:09,398 [main] INFO  org.apache.pig.tools.pigstats.SimplePigStats - Script Statistics: \n",
      "\n",
      "HadoopVersion\tPigVersion\tUserId\tStartedAt\tFinishedAt\tFeatures\n",
      "2.6.0-cdh5.7.0\t0.12.0-cdh5.7.0\troot\t2019-05-06 15:27:48\t2019-05-06 15:28:09\tUNKNOWN\n",
      "\n",
      "Success!\n",
      "\n",
      "Job Stats (time in seconds):\n",
      "JobId\tMaps\tReduces\tMaxMapTime\tMinMapTIme\tAvgMapTime\tMedianMapTime\tMaxReduceTime\tMinReduceTime\tAvgReduceTime\tMedianReducetime\tAlias\tFeature\tOutputs\n",
      "job_1557141140104_0012\t1\t0\t4\t4\t4\t4\tn/a\tn/a\tn/a\tn/a\tdata,nombremayortitulo\tMAP_ONLY\thdfs://quickstart.cloudera:8020/tmp/temp-139112877/tmp-1951175085,\n",
      "\n",
      "Input(s):\n",
      "Successfully read 8 records (1031 bytes) from: \"/user/root/datospig/empleados.txt\"\n",
      "\n",
      "Output(s):\n",
      "Successfully stored 8 records (233 bytes) in: \"hdfs://quickstart.cloudera:8020/tmp/temp-139112877/tmp-1951175085\"\n",
      "\n",
      "Counters:\n",
      "Total records written : 8\n",
      "Total bytes written : 233\n",
      "Spillable Memory Manager spill count : 0\n",
      "Total bags proactively spilled: 0\n",
      "Total records proactively spilled: 0\n",
      "\n",
      "Job DAG:\n",
      "job_1557141140104_0012\n",
      "\n",
      "\n",
      "2019-05-06 15:28:09,534 [main] INFO  org.apache.pig.backend.hadoop.executionengine.mapReduceLayer.MapReduceLauncher - Success!\n",
      "2019-05-06 15:28:09,536 [main] INFO  org.apache.hadoop.conf.Configuration.deprecation - fs.default.name is deprecated. Instead, use fs.defaultFS\n",
      "2019-05-06 15:28:09,536 [main] INFO  org.apache.hadoop.conf.Configuration.deprecation - mapred.job.tracker is deprecated. Instead, use mapreduce.jobtracker.address\n",
      "2019-05-06 15:28:09,537 [main] INFO  org.apache.pig.data.SchemaTupleBackend - Key [pig.schematuple] was not set... will not generate code.\n",
      "2019-05-06 15:28:09,553 [main] INFO  org.apache.hadoop.mapreduce.lib.input.FileInputFormat - Total input paths to process : 1\n",
      "2019-05-06 15:28:09,553 [main] INFO  org.apache.pig.backend.hadoop.executionengine.util.MapRedUtil - Total input paths to process : 1\n",
      "(Miguel,(licenciado,1999))\n",
      "(Juana,(licenciado,2010))\n",
      "(Martin,(diplomado,2000))\n",
      "(Miriam,(diplomado,1990))\n",
      "(Antonio,(diplomado,1989))\n",
      "(Elisa,(diplomado,2015))\n",
      "(Manuel,(diplomado,2014))\n",
      "(Teresa,(diplomado,1995))\n",
      "2019-05-06 15:28:09,670 [main] INFO  org.apache.hadoop.conf.Configuration.deprecation - fs.default.name is deprecated. Instead, use fs.defaultFS\n",
      "2019-05-06 15:28:09,670 [main] INFO  org.apache.hadoop.conf.Configuration.deprecation - mapred.job.tracker is deprecated. Instead, use mapreduce.jobtracker.address\n"
     ]
    }
   ],
   "source": [
    "! pig -f test.pig"
   ]
  },
  {
   "cell_type": "markdown",
   "metadata": {},
   "source": [
    "Muestra los títulos de cada empleado, individualmente"
   ]
  },
  {
   "cell_type": "code",
   "execution_count": 40,
   "metadata": {
    "collapsed": false
   },
   "outputs": [
    {
     "name": "stdout",
     "output_type": "stream",
     "text": [
      "Overwriting test.pig\n"
     ]
    }
   ],
   "source": [
    "%%writefile test.pig\n",
    "register /usr/lib/pig/datafu.jar\n",
    "define FirstTupleFromBag datafu.pig.bags.FirstTupleFromBag();  \n",
    "data = load '/user/root/datospig/empleados.txt' using PigStorage(';') as (nombre:chararray, \n",
    "                                                      titulos:bag{titulo:(nombretitulo:chararray, anyo:int)}, \n",
    "                                                      puestotrabajo:map[]);\n",
    "nombretitulos = foreach data generate nombre, flatten(titulos);\n",
    "dump nombretitulos;"
   ]
  },
  {
   "cell_type": "code",
   "execution_count": 41,
   "metadata": {
    "collapsed": false
   },
   "outputs": [
    {
     "name": "stdout",
     "output_type": "stream",
     "text": [
      "log4j:WARN No appenders could be found for logger (org.apache.hadoop.util.Shell).\n",
      "log4j:WARN Please initialize the log4j system properly.\n",
      "log4j:WARN See http://logging.apache.org/log4j/1.2/faq.html#noconfig for more info.\n",
      "2019-05-06 16:41:00,745 [main] INFO  org.apache.pig.Main - Apache Pig version 0.12.0-cdh5.7.0 (rexported) compiled Mar 23 2016, 11:34:31\n",
      "2019-05-06 16:41:00,745 [main] INFO  org.apache.pig.Main - Logging error messages to: /media/notebooks/pig-tiposcomplejos/pig_1557160860728.log\n",
      "2019-05-06 16:41:01,453 [main] INFO  org.apache.pig.impl.util.Utils - Default bootup file /root/.pigbootup not found\n",
      "2019-05-06 16:41:01,581 [main] INFO  org.apache.hadoop.conf.Configuration.deprecation - mapred.job.tracker is deprecated. Instead, use mapreduce.jobtracker.address\n",
      "2019-05-06 16:41:01,581 [main] INFO  org.apache.hadoop.conf.Configuration.deprecation - fs.default.name is deprecated. Instead, use fs.defaultFS\n",
      "2019-05-06 16:41:01,581 [main] INFO  org.apache.pig.backend.hadoop.executionengine.HExecutionEngine - Connecting to hadoop file system at: hdfs://quickstart.cloudera:8020\n",
      "2019-05-06 16:41:02,033 [main] INFO  org.apache.pig.backend.hadoop.executionengine.HExecutionEngine - Connecting to map-reduce job tracker at: localhost:8021\n",
      "2019-05-06 16:41:02,074 [main] INFO  org.apache.hadoop.conf.Configuration.deprecation - fs.default.name is deprecated. Instead, use fs.defaultFS\n",
      "2019-05-06 16:41:02,075 [main] INFO  org.apache.hadoop.conf.Configuration.deprecation - mapred.job.tracker is deprecated. Instead, use mapreduce.jobtracker.address\n",
      "2019-05-06 16:41:02,125 [main] INFO  org.apache.hadoop.conf.Configuration.deprecation - fs.default.name is deprecated. Instead, use fs.defaultFS\n",
      "2019-05-06 16:41:02,126 [main] INFO  org.apache.hadoop.conf.Configuration.deprecation - mapred.job.tracker is deprecated. Instead, use mapreduce.jobtracker.address\n",
      "2019-05-06 16:41:02,162 [main] INFO  org.apache.hadoop.conf.Configuration.deprecation - fs.default.name is deprecated. Instead, use fs.defaultFS\n",
      "2019-05-06 16:41:02,163 [main] INFO  org.apache.hadoop.conf.Configuration.deprecation - mapred.job.tracker is deprecated. Instead, use mapreduce.jobtracker.address\n",
      "2019-05-06 16:41:02,200 [main] INFO  org.apache.hadoop.conf.Configuration.deprecation - fs.default.name is deprecated. Instead, use fs.defaultFS\n",
      "2019-05-06 16:41:02,200 [main] INFO  org.apache.hadoop.conf.Configuration.deprecation - mapred.job.tracker is deprecated. Instead, use mapreduce.jobtracker.address\n",
      "2019-05-06 16:41:02,228 [main] INFO  org.apache.hadoop.conf.Configuration.deprecation - fs.default.name is deprecated. Instead, use fs.defaultFS\n",
      "2019-05-06 16:41:02,229 [main] INFO  org.apache.hadoop.conf.Configuration.deprecation - mapred.job.tracker is deprecated. Instead, use mapreduce.jobtracker.address\n",
      "2019-05-06 16:41:02,260 [main] INFO  org.apache.hadoop.conf.Configuration.deprecation - fs.default.name is deprecated. Instead, use fs.defaultFS\n",
      "2019-05-06 16:41:02,260 [main] INFO  org.apache.hadoop.conf.Configuration.deprecation - mapred.job.tracker is deprecated. Instead, use mapreduce.jobtracker.address\n",
      "2019-05-06 16:41:02,287 [main] INFO  org.apache.hadoop.conf.Configuration.deprecation - fs.default.name is deprecated. Instead, use fs.defaultFS\n",
      "2019-05-06 16:41:02,287 [main] INFO  org.apache.hadoop.conf.Configuration.deprecation - mapred.job.tracker is deprecated. Instead, use mapreduce.jobtracker.address\n",
      "2019-05-06 16:41:02,315 [main] INFO  org.apache.hadoop.conf.Configuration.deprecation - fs.default.name is deprecated. Instead, use fs.defaultFS\n",
      "2019-05-06 16:41:02,316 [main] INFO  org.apache.hadoop.conf.Configuration.deprecation - mapred.job.tracker is deprecated. Instead, use mapreduce.jobtracker.address\n",
      "2019-05-06 16:41:02,385 [main] INFO  org.apache.hadoop.conf.Configuration.deprecation - fs.default.name is deprecated. Instead, use fs.defaultFS\n",
      "2019-05-06 16:41:02,386 [main] INFO  org.apache.hadoop.conf.Configuration.deprecation - mapred.job.tracker is deprecated. Instead, use mapreduce.jobtracker.address\n",
      "2019-05-06 16:41:02,908 [main] INFO  org.apache.pig.tools.pigstats.ScriptState - Pig features used in the script: UNKNOWN\n",
      "2019-05-06 16:41:02,959 [main] INFO  org.apache.pig.newplan.logical.optimizer.LogicalPlanOptimizer - {RULES_ENABLED=[AddForEach, ColumnMapKeyPrune, DuplicateForEachColumnRewrite, GroupByConstParallelSetter, ImplicitSplitInserter, LimitOptimizer, LoadTypeCastInserter, MergeFilter, MergeForEach, NewPartitionFilterOptimizer, PushDownForEachFlatten, PushUpFilter, SplitFilter, StreamTypeCastInserter], RULES_DISABLED=[FilterLogicExpressionSimplifier, PartitionFilterOptimizer]}\n",
      "2019-05-06 16:41:02,984 [main] INFO  org.apache.pig.newplan.logical.rules.ColumnPruneVisitor - Columns pruned for data: $2\n",
      "2019-05-06 16:41:03,110 [main] INFO  org.apache.pig.backend.hadoop.executionengine.mapReduceLayer.MRCompiler - File concatenation threshold: 100 optimistic? false\n",
      "2019-05-06 16:41:03,141 [main] INFO  org.apache.pig.backend.hadoop.executionengine.mapReduceLayer.MultiQueryOptimizer - MR plan size before optimization: 1\n",
      "2019-05-06 16:41:03,141 [main] INFO  org.apache.pig.backend.hadoop.executionengine.mapReduceLayer.MultiQueryOptimizer - MR plan size after optimization: 1\n",
      "2019-05-06 16:41:03,234 [main] INFO  org.apache.hadoop.yarn.client.RMProxy - Connecting to ResourceManager at /0.0.0.0:8032\n",
      "2019-05-06 16:41:03,456 [main] INFO  org.apache.pig.tools.pigstats.ScriptState - Pig script settings are added to the job\n",
      "2019-05-06 16:41:03,497 [main] INFO  org.apache.hadoop.conf.Configuration.deprecation - mapred.job.reduce.markreset.buffer.percent is deprecated. Instead, use mapreduce.reduce.markreset.buffer.percent\n",
      "2019-05-06 16:41:03,497 [main] INFO  org.apache.pig.backend.hadoop.executionengine.mapReduceLayer.JobControlCompiler - mapred.job.reduce.markreset.buffer.percent is not set, set to default 0.3\n",
      "2019-05-06 16:41:03,497 [main] INFO  org.apache.hadoop.conf.Configuration.deprecation - mapred.output.compress is deprecated. Instead, use mapreduce.output.fileoutputformat.compress\n",
      "2019-05-06 16:41:03,968 [main] INFO  org.apache.pig.backend.hadoop.executionengine.mapReduceLayer.JobControlCompiler - creating jar file Job6021307522465148616.jar\n",
      "2019-05-06 16:41:07,501 [main] INFO  org.apache.pig.backend.hadoop.executionengine.mapReduceLayer.JobControlCompiler - jar file Job6021307522465148616.jar created\n",
      "2019-05-06 16:41:07,501 [main] INFO  org.apache.hadoop.conf.Configuration.deprecation - mapred.jar is deprecated. Instead, use mapreduce.job.jar\n",
      "2019-05-06 16:41:07,525 [main] INFO  org.apache.pig.backend.hadoop.executionengine.mapReduceLayer.JobControlCompiler - Setting up single store job\n",
      "2019-05-06 16:41:07,534 [main] INFO  org.apache.pig.data.SchemaTupleFrontend - Key [pig.schematuple] is false, will not generate code.\n",
      "2019-05-06 16:41:07,534 [main] INFO  org.apache.pig.data.SchemaTupleFrontend - Starting process to move generated code to distributed cache\n",
      "2019-05-06 16:41:07,534 [main] INFO  org.apache.pig.data.SchemaTupleFrontend - Setting key [pig.schematuple.classes] with classes to deserialize []\n",
      "2019-05-06 16:41:07,582 [main] INFO  org.apache.pig.backend.hadoop.executionengine.mapReduceLayer.MapReduceLauncher - 1 map-reduce job(s) waiting for submission.\n",
      "2019-05-06 16:41:07,585 [main] INFO  org.apache.hadoop.conf.Configuration.deprecation - mapred.job.tracker.http.address is deprecated. Instead, use mapreduce.jobtracker.http.address\n",
      "2019-05-06 16:41:07,586 [main] INFO  org.apache.hadoop.conf.Configuration.deprecation - mapred.job.tracker is deprecated. Instead, use mapreduce.jobtracker.address\n",
      "2019-05-06 16:41:07,600 [JobControl] INFO  org.apache.hadoop.yarn.client.RMProxy - Connecting to ResourceManager at /0.0.0.0:8032\n",
      "2019-05-06 16:41:07,631 [JobControl] INFO  org.apache.hadoop.conf.Configuration.deprecation - fs.default.name is deprecated. Instead, use fs.defaultFS\n",
      "2019-05-06 16:41:07,918 [JobControl] INFO  org.apache.hadoop.mapreduce.lib.input.FileInputFormat - Total input paths to process : 1\n",
      "2019-05-06 16:41:07,918 [JobControl] INFO  org.apache.pig.backend.hadoop.executionengine.util.MapRedUtil - Total input paths to process : 1\n",
      "2019-05-06 16:41:07,943 [JobControl] INFO  org.apache.pig.backend.hadoop.executionengine.util.MapRedUtil - Total input paths (combined) to process : 1\n",
      "2019-05-06 16:41:08,016 [JobControl] INFO  org.apache.hadoop.mapreduce.JobSubmitter - number of splits:1\n",
      "2019-05-06 16:41:08,177 [JobControl] INFO  org.apache.hadoop.mapreduce.JobSubmitter - Submitting tokens for job: job_1557141140104_0016\n",
      "2019-05-06 16:41:08,439 [JobControl] INFO  org.apache.hadoop.yarn.client.api.impl.YarnClientImpl - Submitted application application_1557141140104_0016\n",
      "2019-05-06 16:41:08,492 [JobControl] INFO  org.apache.hadoop.mapreduce.Job - The url to track the job: http://quickstart.cloudera:8088/proxy/application_1557141140104_0016/\n",
      "2019-05-06 16:41:08,492 [main] INFO  org.apache.pig.backend.hadoop.executionengine.mapReduceLayer.MapReduceLauncher - HadoopJobId: job_1557141140104_0016\n",
      "2019-05-06 16:41:08,492 [main] INFO  org.apache.pig.backend.hadoop.executionengine.mapReduceLayer.MapReduceLauncher - Processing aliases data,nombretitulos\n",
      "2019-05-06 16:41:08,492 [main] INFO  org.apache.pig.backend.hadoop.executionengine.mapReduceLayer.MapReduceLauncher - detailed locations: M: data[3,7],nombretitulos[-1,-1] C:  R: \n",
      "2019-05-06 16:41:08,492 [main] INFO  org.apache.pig.backend.hadoop.executionengine.mapReduceLayer.MapReduceLauncher - More information at: http://localhost:50030/jobdetails.jsp?jobid=job_1557141140104_0016\n",
      "2019-05-06 16:41:08,537 [main] INFO  org.apache.pig.backend.hadoop.executionengine.mapReduceLayer.MapReduceLauncher - 0% complete\n",
      "2019-05-06 16:41:18,388 [main] INFO  org.apache.pig.backend.hadoop.executionengine.mapReduceLayer.MapReduceLauncher - 50% complete\n",
      "2019-05-06 16:41:23,827 [main] INFO  org.apache.hadoop.conf.Configuration.deprecation - mapred.reduce.tasks is deprecated. Instead, use mapreduce.job.reduces\n",
      "2019-05-06 16:41:23,904 [main] INFO  org.apache.pig.backend.hadoop.executionengine.mapReduceLayer.MapReduceLauncher - 100% complete\n",
      "2019-05-06 16:41:23,907 [main] INFO  org.apache.pig.tools.pigstats.SimplePigStats - Script Statistics: \n",
      "\n",
      "HadoopVersion\tPigVersion\tUserId\tStartedAt\tFinishedAt\tFeatures\n",
      "2.6.0-cdh5.7.0\t0.12.0-cdh5.7.0\troot\t2019-05-06 16:41:03\t2019-05-06 16:41:23\tUNKNOWN\n",
      "\n",
      "Success!\n",
      "\n",
      "Job Stats (time in seconds):\n",
      "JobId\tMaps\tReduces\tMaxMapTime\tMinMapTIme\tAvgMapTime\tMedianMapTime\tMaxReduceTime\tMinReduceTime\tAvgReduceTime\tMedianReducetime\tAlias\tFeature\tOutputs\n",
      "job_1557141140104_0016\t1\t0\t2\t2\t2\t2\tn/a\tn/a\tn/a\tn/a\tdata,nombretitulos\tMAP_ONLY\thdfs://quickstart.cloudera:8020/tmp/temp-2107198109/tmp859812014,\n",
      "\n",
      "Input(s):\n",
      "Successfully read 8 records (1031 bytes) from: \"/user/root/datospig/empleados.txt\"\n",
      "\n",
      "Output(s):\n",
      "Successfully stored 10 records (280 bytes) in: \"hdfs://quickstart.cloudera:8020/tmp/temp-2107198109/tmp859812014\"\n",
      "\n",
      "Counters:\n",
      "Total records written : 10\n",
      "Total bytes written : 280\n",
      "Spillable Memory Manager spill count : 0\n",
      "Total bags proactively spilled: 0\n",
      "Total records proactively spilled: 0\n",
      "\n",
      "Job DAG:\n",
      "job_1557141140104_0016\n",
      "\n",
      "\n",
      "2019-05-06 16:41:24,021 [main] INFO  org.apache.pig.backend.hadoop.executionengine.mapReduceLayer.MapReduceLauncher - Success!\n",
      "2019-05-06 16:41:24,023 [main] INFO  org.apache.hadoop.conf.Configuration.deprecation - fs.default.name is deprecated. Instead, use fs.defaultFS\n",
      "2019-05-06 16:41:24,024 [main] INFO  org.apache.hadoop.conf.Configuration.deprecation - mapred.job.tracker is deprecated. Instead, use mapreduce.jobtracker.address\n",
      "2019-05-06 16:41:24,024 [main] INFO  org.apache.pig.data.SchemaTupleBackend - Key [pig.schematuple] was not set... will not generate code.\n",
      "2019-05-06 16:41:24,042 [main] INFO  org.apache.hadoop.mapreduce.lib.input.FileInputFormat - Total input paths to process : 1\n",
      "2019-05-06 16:41:24,042 [main] INFO  org.apache.pig.backend.hadoop.executionengine.util.MapRedUtil - Total input paths to process : 1\n",
      "(Miguel,licenciado,1999)\n",
      "(Miguel,diplomado,1997)\n",
      "(Juana,licenciado,2010)\n",
      "(Juana,diplomado,2008)\n",
      "(Martin,diplomado,2000)\n",
      "(Miriam,diplomado,1990)\n",
      "(Antonio,diplomado,1989)\n",
      "(Elisa,diplomado,2015)\n",
      "(Manuel,diplomado,2014)\n",
      "(Teresa,diplomado,1995)\n",
      "2019-05-06 16:41:24,137 [main] INFO  org.apache.hadoop.conf.Configuration.deprecation - fs.default.name is deprecated. Instead, use fs.defaultFS\n",
      "2019-05-06 16:41:24,137 [main] INFO  org.apache.hadoop.conf.Configuration.deprecation - mapred.job.tracker is deprecated. Instead, use mapreduce.jobtracker.address\n"
     ]
    }
   ],
   "source": [
    "! pig -f test.pig"
   ]
  },
  {
   "cell_type": "markdown",
   "metadata": {},
   "source": [
    "Muestra el nombre de los empleados de Madrid"
   ]
  },
  {
   "cell_type": "code",
   "execution_count": 57,
   "metadata": {
    "collapsed": false
   },
   "outputs": [
    {
     "name": "stdout",
     "output_type": "stream",
     "text": [
      "Overwriting test.pig\n"
     ]
    }
   ],
   "source": [
    "%%writefile test.pig\n",
    "data = load '/user/root/datospig/empleados.txt' using PigStorage(';') as (nombre:chararray, \n",
    "                                                      titulos:bag{titulo:(nombretitulo:chararray, anyo:int)}, \n",
    "                                                      puestotrabajo:map[]);\n",
    "\n",
    "nombreciudad = foreach data generate nombre, puestotrabajo#'oficina' as oficina;\n",
    "\n",
    "nombremadrid = filter nombreciudad by oficina == 'Madrid';\n",
    "\n",
    "nombre = foreach nombremadrid  generate nombre;\n",
    "\n",
    "dump nombre;"
   ]
  },
  {
   "cell_type": "code",
   "execution_count": 58,
   "metadata": {
    "collapsed": false
   },
   "outputs": [
    {
     "name": "stdout",
     "output_type": "stream",
     "text": [
      "log4j:WARN No appenders could be found for logger (org.apache.hadoop.util.Shell).\n",
      "log4j:WARN Please initialize the log4j system properly.\n",
      "log4j:WARN See http://logging.apache.org/log4j/1.2/faq.html#noconfig for more info.\n",
      "2019-05-06 17:01:20,393 [main] INFO  org.apache.pig.Main - Apache Pig version 0.12.0-cdh5.7.0 (rexported) compiled Mar 23 2016, 11:34:31\n",
      "2019-05-06 17:01:20,394 [main] INFO  org.apache.pig.Main - Logging error messages to: /media/notebooks/pig-tiposcomplejos/pig_1557162080375.log\n",
      "2019-05-06 17:01:21,140 [main] INFO  org.apache.pig.impl.util.Utils - Default bootup file /root/.pigbootup not found\n",
      "2019-05-06 17:01:21,276 [main] INFO  org.apache.hadoop.conf.Configuration.deprecation - mapred.job.tracker is deprecated. Instead, use mapreduce.jobtracker.address\n",
      "2019-05-06 17:01:21,277 [main] INFO  org.apache.hadoop.conf.Configuration.deprecation - fs.default.name is deprecated. Instead, use fs.defaultFS\n",
      "2019-05-06 17:01:21,277 [main] INFO  org.apache.pig.backend.hadoop.executionengine.HExecutionEngine - Connecting to hadoop file system at: hdfs://quickstart.cloudera:8020\n",
      "2019-05-06 17:01:21,737 [main] INFO  org.apache.pig.backend.hadoop.executionengine.HExecutionEngine - Connecting to map-reduce job tracker at: localhost:8021\n",
      "2019-05-06 17:01:21,773 [main] INFO  org.apache.hadoop.conf.Configuration.deprecation - fs.default.name is deprecated. Instead, use fs.defaultFS\n",
      "2019-05-06 17:01:21,774 [main] INFO  org.apache.hadoop.conf.Configuration.deprecation - mapred.job.tracker is deprecated. Instead, use mapreduce.jobtracker.address\n",
      "2019-05-06 17:01:21,808 [main] INFO  org.apache.hadoop.conf.Configuration.deprecation - fs.default.name is deprecated. Instead, use fs.defaultFS\n",
      "2019-05-06 17:01:21,809 [main] INFO  org.apache.hadoop.conf.Configuration.deprecation - mapred.job.tracker is deprecated. Instead, use mapreduce.jobtracker.address\n",
      "2019-05-06 17:01:21,842 [main] INFO  org.apache.hadoop.conf.Configuration.deprecation - fs.default.name is deprecated. Instead, use fs.defaultFS\n",
      "2019-05-06 17:01:21,843 [main] INFO  org.apache.hadoop.conf.Configuration.deprecation - mapred.job.tracker is deprecated. Instead, use mapreduce.jobtracker.address\n",
      "2019-05-06 17:01:21,882 [main] INFO  org.apache.hadoop.conf.Configuration.deprecation - fs.default.name is deprecated. Instead, use fs.defaultFS\n",
      "2019-05-06 17:01:21,882 [main] INFO  org.apache.hadoop.conf.Configuration.deprecation - mapred.job.tracker is deprecated. Instead, use mapreduce.jobtracker.address\n",
      "2019-05-06 17:01:21,914 [main] INFO  org.apache.hadoop.conf.Configuration.deprecation - fs.default.name is deprecated. Instead, use fs.defaultFS\n",
      "2019-05-06 17:01:21,915 [main] INFO  org.apache.hadoop.conf.Configuration.deprecation - mapred.job.tracker is deprecated. Instead, use mapreduce.jobtracker.address\n",
      "2019-05-06 17:01:21,949 [main] INFO  org.apache.hadoop.conf.Configuration.deprecation - fs.default.name is deprecated. Instead, use fs.defaultFS\n",
      "2019-05-06 17:01:21,950 [main] INFO  org.apache.hadoop.conf.Configuration.deprecation - mapred.job.tracker is deprecated. Instead, use mapreduce.jobtracker.address\n",
      "2019-05-06 17:01:21,983 [main] INFO  org.apache.hadoop.conf.Configuration.deprecation - fs.default.name is deprecated. Instead, use fs.defaultFS\n",
      "2019-05-06 17:01:21,984 [main] INFO  org.apache.hadoop.conf.Configuration.deprecation - mapred.job.tracker is deprecated. Instead, use mapreduce.jobtracker.address\n",
      "2019-05-06 17:01:22,017 [main] INFO  org.apache.hadoop.conf.Configuration.deprecation - fs.default.name is deprecated. Instead, use fs.defaultFS\n",
      "2019-05-06 17:01:22,018 [main] INFO  org.apache.hadoop.conf.Configuration.deprecation - mapred.job.tracker is deprecated. Instead, use mapreduce.jobtracker.address\n",
      "2019-05-06 17:01:22,580 [main] WARN  org.apache.pig.PigServer - Encountered Warning IMPLICIT_CAST_TO_CHARARRAY 1 time(s).\n",
      "2019-05-06 17:01:22,584 [main] INFO  org.apache.pig.tools.pigstats.ScriptState - Pig features used in the script: FILTER\n",
      "2019-05-06 17:01:22,631 [main] INFO  org.apache.pig.newplan.logical.optimizer.LogicalPlanOptimizer - {RULES_ENABLED=[AddForEach, ColumnMapKeyPrune, DuplicateForEachColumnRewrite, GroupByConstParallelSetter, ImplicitSplitInserter, LimitOptimizer, LoadTypeCastInserter, MergeFilter, MergeForEach, NewPartitionFilterOptimizer, PushDownForEachFlatten, PushUpFilter, SplitFilter, StreamTypeCastInserter], RULES_DISABLED=[FilterLogicExpressionSimplifier, PartitionFilterOptimizer]}\n",
      "2019-05-06 17:01:22,650 [main] INFO  org.apache.pig.newplan.logical.rules.ColumnPruneVisitor - Columns pruned for data: $1\n",
      "2019-05-06 17:01:22,650 [main] INFO  org.apache.pig.newplan.logical.rules.ColumnPruneVisitor - Map key required for data: $2->[oficina]\n",
      "\n",
      "2019-05-06 17:01:22,775 [main] INFO  org.apache.pig.backend.hadoop.executionengine.mapReduceLayer.MRCompiler - File concatenation threshold: 100 optimistic? false\n",
      "2019-05-06 17:01:22,799 [main] INFO  org.apache.pig.backend.hadoop.executionengine.mapReduceLayer.MultiQueryOptimizer - MR plan size before optimization: 1\n",
      "2019-05-06 17:01:22,799 [main] INFO  org.apache.pig.backend.hadoop.executionengine.mapReduceLayer.MultiQueryOptimizer - MR plan size after optimization: 1\n",
      "2019-05-06 17:01:22,884 [main] INFO  org.apache.hadoop.yarn.client.RMProxy - Connecting to ResourceManager at /0.0.0.0:8032\n",
      "2019-05-06 17:01:23,106 [main] INFO  org.apache.pig.tools.pigstats.ScriptState - Pig script settings are added to the job\n",
      "2019-05-06 17:01:23,163 [main] INFO  org.apache.hadoop.conf.Configuration.deprecation - mapred.job.reduce.markreset.buffer.percent is deprecated. Instead, use mapreduce.reduce.markreset.buffer.percent\n",
      "2019-05-06 17:01:23,163 [main] INFO  org.apache.pig.backend.hadoop.executionengine.mapReduceLayer.JobControlCompiler - mapred.job.reduce.markreset.buffer.percent is not set, set to default 0.3\n",
      "2019-05-06 17:01:23,163 [main] INFO  org.apache.hadoop.conf.Configuration.deprecation - mapred.output.compress is deprecated. Instead, use mapreduce.output.fileoutputformat.compress\n",
      "2019-05-06 17:01:23,594 [main] INFO  org.apache.pig.backend.hadoop.executionengine.mapReduceLayer.JobControlCompiler - creating jar file Job1392916101144501158.jar\n",
      "2019-05-06 17:01:27,095 [main] INFO  org.apache.pig.backend.hadoop.executionengine.mapReduceLayer.JobControlCompiler - jar file Job1392916101144501158.jar created\n",
      "2019-05-06 17:01:27,096 [main] INFO  org.apache.hadoop.conf.Configuration.deprecation - mapred.jar is deprecated. Instead, use mapreduce.job.jar\n",
      "2019-05-06 17:01:27,113 [main] INFO  org.apache.pig.backend.hadoop.executionengine.mapReduceLayer.JobControlCompiler - Setting up single store job\n",
      "2019-05-06 17:01:27,120 [main] INFO  org.apache.pig.data.SchemaTupleFrontend - Key [pig.schematuple] is false, will not generate code.\n",
      "2019-05-06 17:01:27,121 [main] INFO  org.apache.pig.data.SchemaTupleFrontend - Starting process to move generated code to distributed cache\n",
      "2019-05-06 17:01:27,121 [main] INFO  org.apache.pig.data.SchemaTupleFrontend - Setting key [pig.schematuple.classes] with classes to deserialize []\n",
      "2019-05-06 17:01:27,173 [main] INFO  org.apache.pig.backend.hadoop.executionengine.mapReduceLayer.MapReduceLauncher - 1 map-reduce job(s) waiting for submission.\n",
      "2019-05-06 17:01:27,175 [main] INFO  org.apache.hadoop.conf.Configuration.deprecation - mapred.job.tracker.http.address is deprecated. Instead, use mapreduce.jobtracker.http.address\n",
      "2019-05-06 17:01:27,175 [main] INFO  org.apache.hadoop.conf.Configuration.deprecation - mapred.job.tracker is deprecated. Instead, use mapreduce.jobtracker.address\n",
      "2019-05-06 17:01:27,191 [JobControl] INFO  org.apache.hadoop.yarn.client.RMProxy - Connecting to ResourceManager at /0.0.0.0:8032\n",
      "2019-05-06 17:01:27,214 [JobControl] INFO  org.apache.hadoop.conf.Configuration.deprecation - fs.default.name is deprecated. Instead, use fs.defaultFS\n",
      "2019-05-06 17:01:27,513 [JobControl] INFO  org.apache.hadoop.mapreduce.lib.input.FileInputFormat - Total input paths to process : 1\n",
      "2019-05-06 17:01:27,513 [JobControl] INFO  org.apache.pig.backend.hadoop.executionengine.util.MapRedUtil - Total input paths to process : 1\n",
      "2019-05-06 17:01:27,532 [JobControl] INFO  org.apache.pig.backend.hadoop.executionengine.util.MapRedUtil - Total input paths (combined) to process : 1\n",
      "2019-05-06 17:01:27,979 [JobControl] INFO  org.apache.hadoop.mapreduce.JobSubmitter - number of splits:1\n",
      "2019-05-06 17:01:28,143 [JobControl] INFO  org.apache.hadoop.mapreduce.JobSubmitter - Submitting tokens for job: job_1557141140104_0021\n",
      "2019-05-06 17:01:28,366 [JobControl] INFO  org.apache.hadoop.yarn.client.api.impl.YarnClientImpl - Submitted application application_1557141140104_0021\n",
      "2019-05-06 17:01:28,415 [JobControl] INFO  org.apache.hadoop.mapreduce.Job - The url to track the job: http://quickstart.cloudera:8088/proxy/application_1557141140104_0021/\n",
      "2019-05-06 17:01:28,415 [main] INFO  org.apache.pig.backend.hadoop.executionengine.mapReduceLayer.MapReduceLauncher - HadoopJobId: job_1557141140104_0021\n",
      "2019-05-06 17:01:28,415 [main] INFO  org.apache.pig.backend.hadoop.executionengine.mapReduceLayer.MapReduceLauncher - Processing aliases data,nombre,nombreciudad,nombremadrid\n",
      "2019-05-06 17:01:28,415 [main] INFO  org.apache.pig.backend.hadoop.executionengine.mapReduceLayer.MapReduceLauncher - detailed locations: M: data[1,7],nombreciudad[-1,-1],nombremadrid[7,15],nombre[9,9] C:  R: \n",
      "2019-05-06 17:01:28,415 [main] INFO  org.apache.pig.backend.hadoop.executionengine.mapReduceLayer.MapReduceLauncher - More information at: http://localhost:50030/jobdetails.jsp?jobid=job_1557141140104_0021\n",
      "2019-05-06 17:01:28,460 [main] INFO  org.apache.pig.backend.hadoop.executionengine.mapReduceLayer.MapReduceLauncher - 0% complete\n",
      "2019-05-06 17:01:37,189 [main] INFO  org.apache.pig.backend.hadoop.executionengine.mapReduceLayer.MapReduceLauncher - 50% complete\n",
      "2019-05-06 17:01:38,897 [main] INFO  org.apache.hadoop.conf.Configuration.deprecation - mapred.reduce.tasks is deprecated. Instead, use mapreduce.job.reduces\n",
      "2019-05-06 17:01:38,942 [main] INFO  org.apache.pig.backend.hadoop.executionengine.mapReduceLayer.MapReduceLauncher - 100% complete\n",
      "2019-05-06 17:01:38,945 [main] INFO  org.apache.pig.tools.pigstats.SimplePigStats - Script Statistics: \n",
      "\n",
      "HadoopVersion\tPigVersion\tUserId\tStartedAt\tFinishedAt\tFeatures\n",
      "2.6.0-cdh5.7.0\t0.12.0-cdh5.7.0\troot\t2019-05-06 17:01:23\t2019-05-06 17:01:38\tFILTER\n",
      "\n",
      "Success!\n",
      "\n",
      "Job Stats (time in seconds):\n",
      "JobId\tMaps\tReduces\tMaxMapTime\tMinMapTIme\tAvgMapTime\tMedianMapTime\tMaxReduceTime\tMinReduceTime\tAvgReduceTime\tMedianReducetime\tAlias\tFeature\tOutputs\n",
      "job_1557141140104_0021\t1\t0\t2\t2\t2\t2\tn/a\tn/a\tn/a\tn/a\tdata,nombre,nombreciudad,nombremadrid\tMAP_ONLY\thdfs://quickstart.cloudera:8020/tmp/temp-555162863/tmp-823782604,\n",
      "\n",
      "Input(s):\n",
      "Successfully read 8 records (1031 bytes) from: \"/user/root/datospig/empleados.txt\"\n",
      "\n",
      "Output(s):\n",
      "Successfully stored 2 records (27 bytes) in: \"hdfs://quickstart.cloudera:8020/tmp/temp-555162863/tmp-823782604\"\n",
      "\n",
      "Counters:\n",
      "Total records written : 2\n",
      "Total bytes written : 27\n",
      "Spillable Memory Manager spill count : 0\n",
      "Total bags proactively spilled: 0\n",
      "Total records proactively spilled: 0\n",
      "\n",
      "Job DAG:\n",
      "job_1557141140104_0021\n",
      "\n",
      "\n",
      "2019-05-06 17:01:39,045 [main] INFO  org.apache.pig.backend.hadoop.executionengine.mapReduceLayer.MapReduceLauncher - Success!\n",
      "2019-05-06 17:01:39,048 [main] INFO  org.apache.hadoop.conf.Configuration.deprecation - fs.default.name is deprecated. Instead, use fs.defaultFS\n",
      "2019-05-06 17:01:39,048 [main] INFO  org.apache.hadoop.conf.Configuration.deprecation - mapred.job.tracker is deprecated. Instead, use mapreduce.jobtracker.address\n",
      "2019-05-06 17:01:39,051 [main] INFO  org.apache.pig.data.SchemaTupleBackend - Key [pig.schematuple] was not set... will not generate code.\n",
      "2019-05-06 17:01:39,067 [main] INFO  org.apache.hadoop.mapreduce.lib.input.FileInputFormat - Total input paths to process : 1\n",
      "2019-05-06 17:01:39,067 [main] INFO  org.apache.pig.backend.hadoop.executionengine.util.MapRedUtil - Total input paths to process : 1\n",
      "(Miguel)\n",
      "(Antonio)\n",
      "2019-05-06 17:01:39,168 [main] INFO  org.apache.hadoop.conf.Configuration.deprecation - fs.default.name is deprecated. Instead, use fs.defaultFS\n",
      "2019-05-06 17:01:39,168 [main] INFO  org.apache.hadoop.conf.Configuration.deprecation - mapred.job.tracker is deprecated. Instead, use mapreduce.jobtracker.address\n"
     ]
    }
   ],
   "source": [
    "! pig -f test.pig"
   ]
  },
  {
   "cell_type": "markdown",
   "metadata": {},
   "source": [
    "Muestra el nombre de los empleados con licenciatura."
   ]
  },
  {
   "cell_type": "code",
   "execution_count": 84,
   "metadata": {
    "collapsed": false
   },
   "outputs": [
    {
     "name": "stdout",
     "output_type": "stream",
     "text": [
      "Overwriting test.pig\n"
     ]
    }
   ],
   "source": [
    "%%writefile test.pig\n",
    "register /usr/lib/pig/datafu.jar\n",
    "define FirstTupleFromBag datafu.pig.bags.FirstTupleFromBag();  \n",
    "data = load '/user/root/datospig/empleados.txt' using PigStorage(';') as (nombre:chararray, \n",
    "                                                      titulos:bag{titulo:(nombretitulo:chararray, anyo:int)}, \n",
    "                                                      puestotrabajo:map[]);\n",
    "\n",
    "nombretitulos = foreach data generate nombre, flatten(titulos);\n",
    "\n",
    "describe nombretitulos;\n",
    "\n",
    "--nombrelicenciatura = filter nombretitulos by titulos.nombretitulo == 'licenciado';\n",
    "\n",
    "--dump nombrelicenciatura;"
   ]
  },
  {
   "cell_type": "code",
   "execution_count": null,
   "metadata": {
    "collapsed": true
   },
   "outputs": [],
   "source": [
    "nombretitulos: {nombre: chararray,titulos::nombretitulo: chararray,titulos::anyo: int}"
   ]
  },
  {
   "cell_type": "code",
   "execution_count": 85,
   "metadata": {
    "collapsed": false
   },
   "outputs": [
    {
     "name": "stdout",
     "output_type": "stream",
     "text": [
      "log4j:WARN No appenders could be found for logger (org.apache.hadoop.util.Shell).\n",
      "log4j:WARN Please initialize the log4j system properly.\n",
      "log4j:WARN See http://logging.apache.org/log4j/1.2/faq.html#noconfig for more info.\n",
      "2019-05-06 17:18:11,413 [main] INFO  org.apache.pig.Main - Apache Pig version 0.12.0-cdh5.7.0 (rexported) compiled Mar 23 2016, 11:34:31\n",
      "2019-05-06 17:18:11,414 [main] INFO  org.apache.pig.Main - Logging error messages to: /media/notebooks/pig-tiposcomplejos/pig_1557163091388.log\n",
      "2019-05-06 17:18:12,125 [main] INFO  org.apache.pig.impl.util.Utils - Default bootup file /root/.pigbootup not found\n",
      "2019-05-06 17:18:12,248 [main] INFO  org.apache.hadoop.conf.Configuration.deprecation - mapred.job.tracker is deprecated. Instead, use mapreduce.jobtracker.address\n",
      "2019-05-06 17:18:12,248 [main] INFO  org.apache.hadoop.conf.Configuration.deprecation - fs.default.name is deprecated. Instead, use fs.defaultFS\n",
      "2019-05-06 17:18:12,248 [main] INFO  org.apache.pig.backend.hadoop.executionengine.HExecutionEngine - Connecting to hadoop file system at: hdfs://quickstart.cloudera:8020\n",
      "2019-05-06 17:18:12,704 [main] INFO  org.apache.pig.backend.hadoop.executionengine.HExecutionEngine - Connecting to map-reduce job tracker at: localhost:8021\n",
      "2019-05-06 17:18:12,747 [main] INFO  org.apache.hadoop.conf.Configuration.deprecation - fs.default.name is deprecated. Instead, use fs.defaultFS\n",
      "2019-05-06 17:18:12,748 [main] INFO  org.apache.hadoop.conf.Configuration.deprecation - mapred.job.tracker is deprecated. Instead, use mapreduce.jobtracker.address\n",
      "2019-05-06 17:18:12,790 [main] INFO  org.apache.hadoop.conf.Configuration.deprecation - fs.default.name is deprecated. Instead, use fs.defaultFS\n",
      "2019-05-06 17:18:12,791 [main] INFO  org.apache.hadoop.conf.Configuration.deprecation - mapred.job.tracker is deprecated. Instead, use mapreduce.jobtracker.address\n",
      "2019-05-06 17:18:12,834 [main] INFO  org.apache.hadoop.conf.Configuration.deprecation - fs.default.name is deprecated. Instead, use fs.defaultFS\n",
      "2019-05-06 17:18:12,835 [main] INFO  org.apache.hadoop.conf.Configuration.deprecation - mapred.job.tracker is deprecated. Instead, use mapreduce.jobtracker.address\n",
      "2019-05-06 17:18:12,873 [main] INFO  org.apache.hadoop.conf.Configuration.deprecation - fs.default.name is deprecated. Instead, use fs.defaultFS\n",
      "2019-05-06 17:18:12,874 [main] INFO  org.apache.hadoop.conf.Configuration.deprecation - mapred.job.tracker is deprecated. Instead, use mapreduce.jobtracker.address\n",
      "2019-05-06 17:18:12,906 [main] INFO  org.apache.hadoop.conf.Configuration.deprecation - fs.default.name is deprecated. Instead, use fs.defaultFS\n",
      "2019-05-06 17:18:12,906 [main] INFO  org.apache.hadoop.conf.Configuration.deprecation - mapred.job.tracker is deprecated. Instead, use mapreduce.jobtracker.address\n",
      "2019-05-06 17:18:12,940 [main] INFO  org.apache.hadoop.conf.Configuration.deprecation - fs.default.name is deprecated. Instead, use fs.defaultFS\n",
      "2019-05-06 17:18:12,940 [main] INFO  org.apache.hadoop.conf.Configuration.deprecation - mapred.job.tracker is deprecated. Instead, use mapreduce.jobtracker.address\n",
      "2019-05-06 17:18:12,977 [main] INFO  org.apache.hadoop.conf.Configuration.deprecation - fs.default.name is deprecated. Instead, use fs.defaultFS\n",
      "2019-05-06 17:18:12,978 [main] INFO  org.apache.hadoop.conf.Configuration.deprecation - mapred.job.tracker is deprecated. Instead, use mapreduce.jobtracker.address\n",
      "2019-05-06 17:18:13,015 [main] INFO  org.apache.hadoop.conf.Configuration.deprecation - fs.default.name is deprecated. Instead, use fs.defaultFS\n",
      "2019-05-06 17:18:13,016 [main] INFO  org.apache.hadoop.conf.Configuration.deprecation - mapred.job.tracker is deprecated. Instead, use mapreduce.jobtracker.address\n",
      "2019-05-06 17:18:13,089 [main] INFO  org.apache.hadoop.conf.Configuration.deprecation - fs.default.name is deprecated. Instead, use fs.defaultFS\n",
      "2019-05-06 17:18:13,089 [main] INFO  org.apache.hadoop.conf.Configuration.deprecation - mapred.job.tracker is deprecated. Instead, use mapreduce.jobtracker.address\n",
      "nombretitulos: {nombre: chararray,titulos::nombretitulo: chararray,titulos::anyo: int}\n"
     ]
    }
   ],
   "source": [
    "! pig -f test.pig"
   ]
  },
  {
   "cell_type": "code",
   "execution_count": null,
   "metadata": {
    "collapsed": true
   },
   "outputs": [],
   "source": []
  }
 ],
 "metadata": {
  "kernelspec": {
   "display_name": "Python 2",
   "language": "python",
   "name": "python2"
  },
  "language_info": {
   "codemirror_mode": {
    "name": "ipython",
    "version": 2
   },
   "file_extension": ".py",
   "mimetype": "text/x-python",
   "name": "python",
   "nbconvert_exporter": "python",
   "pygments_lexer": "ipython2",
   "version": "2.7.13"
  }
 },
 "nbformat": 4,
 "nbformat_minor": 2
}
