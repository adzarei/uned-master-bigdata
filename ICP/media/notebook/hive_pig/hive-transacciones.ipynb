{
 "cells": [
  {
   "cell_type": "markdown",
   "metadata": {},
   "source": [
    "## Eliminar un registro de una tabla Hive"
   ]
  },
  {
   "cell_type": "code",
   "execution_count": 3,
   "metadata": {},
   "outputs": [
    {
     "name": "stdout",
     "output_type": "stream",
     "text": [
      "/home/cloudera/HadoopNotebooks/Hive/hive-transacciones\r\n"
     ]
    }
   ],
   "source": [
    "! mkdir -p hive-transacciones\n",
    "import os\n",
    "os.chdir(\"hive-transacciones\")\n",
    "! pwd"
   ]
  },
  {
   "cell_type": "code",
   "execution_count": 7,
   "metadata": {},
   "outputs": [
    {
     "name": "stdout",
     "output_type": "stream",
     "text": [
      "Overwriting ejercicio\n"
     ]
    }
   ],
   "source": [
    "%%writefile ejercicio\n",
    "create table datacleanORCtransactions (\n",
    "idref  STRING,   \n",
    "ident  STRING,\n",
    "gsm19023 FLOAT,   \n",
    "gsd19024 FLOAT, \n",
    "gsd19025 FLOAT,    \n",
    "gsd19026 FLOAT, \n",
    "genetitle STRING,   \n",
    "genesymbol STRING,  \n",
    "geneID SMALLINT,           \n",
    "uniGenetitle STRING,  \n",
    "uniGenesymbol STRING,       \n",
    "uniGeneID STRING, \n",
    "NucleotideTitle STRING)\n",
    "clustered by (genetitle) into 11 buckets\n",
    "row format delimited\n",
    "fields terminated by '\\t'\n",
    "stored as orc\n",
    "tblproperties('transactional' = 'true');"
   ]
  },
  {
   "cell_type": "code",
   "execution_count": 12,
   "metadata": {},
   "outputs": [
    {
     "name": "stdout",
     "output_type": "stream",
     "text": [
      "scan complete in 3ms\n",
      "Connecting to jdbc:hive2://localhost:10000/bioinformatica\n",
      "Connected to: Apache Hive (version 1.1.0-cdh5.12.0)\n",
      "Driver: Hive JDBC (version 1.1.0-cdh5.12.0)\n",
      "Transaction isolation: TRANSACTION_REPEATABLE_READ\n",
      "ions (c:hive2://localhost:10000/bioinformatic> create table datacleanORCtransact \n",
      ". . . . . . . . . . . . . . . . . . . . . . .> idref  STRING,   \n",
      ". . . . . . . . . . . . . . . . . . . . . . .> ident  STRING,\n",
      ". . . . . . . . . . . . . . . . . . . . . . .> gsm19023 FLOAT,   \n",
      ". . . . . . . . . . . . . . . . . . . . . . .> gsd19024 FLOAT, \n",
      ". . . . . . . . . . . . . . . . . . . . . . .> gsd19025 FLOAT,    \n",
      ". . . . . . . . . . . . . . . . . . . . . . .> gsd19026 FLOAT, \n",
      ". . . . . . . . . . . . . . . . . . . . . . .> genetitle STRING,   \n",
      ". . . . . . . . . . . . . . . . . . . . . . .> genesymbol STRING,  \n",
      ". . . . . . . . . . . . . . . . . . . . . . .> geneID SMALLINT,           \n",
      ". . . . . . . . . . . . . . . . . . . . . . .> uniGenetitle STRING,  \n",
      ". . . . . . . . . . . . . . . . . . . . . . .> uniGenesymbol STRING,       \n",
      ". . . . . . . . . . . . . . . . . . . . . . .> uniGeneID STRING, \n",
      ". . . . . . . . . . . . . . . . . . . . . . .> NucleotideTitle STRING)\n",
      "buckets . . . . . . . . . . . . . . . . . . .> clustered by (genetitle) into 11  \n",
      ". . . . . . . . . . . . . . . . . . . . . . .> row format delimited\n",
      ". . . . . . . . . . . . . . . . . . . . . . .> fields terminated by '\\t'\n",
      ". . . . . . . . . . . . . . . . . . . . . . .> stored as orc\n",
      "true'); . . . . . . . . . . . . . . . . . . .> tblproperties('transactional' = ' \n",
      "INFO  : Compiling command(queryId=hive_20190222164343_13d99b1a-07ff-4712-8ad0-d0e1e216d6e6): create table datacleanORCtransactions (\n",
      "idref  STRING,\n",
      "ident  STRING,\n",
      "gsm19023 FLOAT,\n",
      "gsd19024 FLOAT,\n",
      "gsd19025 FLOAT,\n",
      "gsd19026 FLOAT,\n",
      "genetitle STRING,\n",
      "genesymbol STRING,\n",
      "geneID SMALLINT,\n",
      "uniGenetitle STRING,\n",
      "uniGenesymbol STRING,\n",
      "uniGeneID STRING,\n",
      "NucleotideTitle STRING)\n",
      "clustered by (genetitle) into 11 buckets\n",
      "row format delimited\n",
      "fields terminated by '\\t'\n",
      "stored as orc\n",
      "tblproperties('transactional' = 'true')\n",
      "INFO  : Semantic Analysis Completed\n",
      "INFO  : Returning Hive schema: Schema(fieldSchemas:null, properties:null)\n",
      "INFO  : Completed compiling command(queryId=hive_20190222164343_13d99b1a-07ff-4712-8ad0-d0e1e216d6e6); Time taken: 0.051 seconds\n",
      "INFO  : Concurrency mode is disabled, not creating a lock manager\n",
      "INFO  : Executing command(queryId=hive_20190222164343_13d99b1a-07ff-4712-8ad0-d0e1e216d6e6): create table datacleanORCtransactions (\n",
      "idref  STRING,\n",
      "ident  STRING,\n",
      "gsm19023 FLOAT,\n",
      "gsd19024 FLOAT,\n",
      "gsd19025 FLOAT,\n",
      "gsd19026 FLOAT,\n",
      "genetitle STRING,\n",
      "genesymbol STRING,\n",
      "geneID SMALLINT,\n",
      "uniGenetitle STRING,\n",
      "uniGenesymbol STRING,\n",
      "uniGeneID STRING,\n",
      "NucleotideTitle STRING)\n",
      "clustered by (genetitle) into 11 buckets\n",
      "row format delimited\n",
      "fields terminated by '\\t'\n",
      "stored as orc\n",
      "tblproperties('transactional' = 'true')\n",
      "INFO  : Starting task [Stage-0:DDL] in serial mode\n",
      "INFO  : Completed executing command(queryId=hive_20190222164343_13d99b1a-07ff-4712-8ad0-d0e1e216d6e6); Time taken: 0.051 seconds\n",
      "INFO  : OK\n",
      "No rows affected (0.16 seconds)\n",
      "0: jdbc:hive2://localhost:10000/bioinformatic> \n",
      "Closing: 0: jdbc:hive2://localhost:10000/bioinformatica\n"
     ]
    }
   ],
   "source": [
    "! beeline -u \"jdbc:hive2://localhost:10000/bioinformatica\" -f ejercicio"
   ]
  },
  {
   "cell_type": "code",
   "execution_count": 13,
   "metadata": {},
   "outputs": [
    {
     "name": "stdout",
     "output_type": "stream",
     "text": [
      "scan complete in 2ms\n",
      "Connecting to jdbc:hive2://localhost:10000/bioinformatica\n",
      "Connected to: Apache Hive (version 1.1.0-cdh5.12.0)\n",
      "Driver: Hive JDBC (version 1.1.0-cdh5.12.0)\n",
      "Transaction isolation: TRANSACTION_REPEATABLE_READ\n",
      "INFO  : Compiling command(queryId=hive_20190222164343_7d6e4126-e979-4935-a346-8944022815c8): desc formatted datacleanORCtransactions\n",
      "INFO  : Semantic Analysis Completed\n",
      "INFO  : Returning Hive schema: Schema(fieldSchemas:[FieldSchema(name:col_name, type:string, comment:from deserializer), FieldSchema(name:data_type, type:string, comment:from deserializer), FieldSchema(name:comment, type:string, comment:from deserializer)], properties:null)\n",
      "INFO  : Completed compiling command(queryId=hive_20190222164343_7d6e4126-e979-4935-a346-8944022815c8); Time taken: 0.095 seconds\n",
      "INFO  : Concurrency mode is disabled, not creating a lock manager\n",
      "INFO  : Executing command(queryId=hive_20190222164343_7d6e4126-e979-4935-a346-8944022815c8): desc formatted datacleanORCtransactions\n",
      "INFO  : Starting task [Stage-0:DDL] in serial mode\n",
      "INFO  : Completed executing command(queryId=hive_20190222164343_7d6e4126-e979-4935-a346-8944022815c8); Time taken: 0.032 seconds\n",
      "INFO  : OK\n",
      "+-------------------------------+----------------------------------------------------+-----------------------+--+\n",
      "|           col_name            |                     data_type                      |        comment        |\n",
      "+-------------------------------+----------------------------------------------------+-----------------------+--+\n",
      "| # col_name                    | data_type                                          | comment               |\n",
      "|                               | NULL                                               | NULL                  |\n",
      "| idref                         | string                                             |                       |\n",
      "| ident                         | string                                             |                       |\n",
      "| gsm19023                      | float                                              |                       |\n",
      "| gsd19024                      | float                                              |                       |\n",
      "| gsd19025                      | float                                              |                       |\n",
      "| gsd19026                      | float                                              |                       |\n",
      "| genetitle                     | string                                             |                       |\n",
      "| genesymbol                    | string                                             |                       |\n",
      "| geneid                        | smallint                                           |                       |\n",
      "| unigenetitle                  | string                                             |                       |\n",
      "| unigenesymbol                 | string                                             |                       |\n",
      "| unigeneid                     | string                                             |                       |\n",
      "| nucleotidetitle               | string                                             |                       |\n",
      "|                               | NULL                                               | NULL                  |\n",
      "| # Detailed Table Information  | NULL                                               | NULL                  |\n",
      "| Database:                     | bioinformatica                                     | NULL                  |\n",
      "| Owner:                        | anonymous                                          | NULL                  |\n",
      "| CreateTime:                   | Fri Feb 22 16:43:21 PST 2019                       | NULL                  |\n",
      "| LastAccessTime:               | UNKNOWN                                            | NULL                  |\n",
      "| Protect Mode:                 | None                                               | NULL                  |\n",
      "| Retention:                    | 0                                                  | NULL                  |\n",
      "| Location:                     | hdfs://quickstart.cloudera:8020/user/cloudera/bioinformatica/datacleanorctransactions | NULL                  |\n",
      "| Table Type:                   | MANAGED_TABLE                                      | NULL                  |\n",
      "| Table Parameters:             | NULL                                               | NULL                  |\n",
      "|                               | transactional                                      | true                  |\n",
      "|                               | transient_lastDdlTime                              | 1550882601            |\n",
      "|                               | NULL                                               | NULL                  |\n",
      "| # Storage Information         | NULL                                               | NULL                  |\n",
      "| SerDe Library:                | org.apache.hadoop.hive.ql.io.orc.OrcSerde          | NULL                  |\n",
      "| InputFormat:                  | org.apache.hadoop.hive.ql.io.orc.OrcInputFormat    | NULL                  |\n",
      "| OutputFormat:                 | org.apache.hadoop.hive.ql.io.orc.OrcOutputFormat   | NULL                  |\n",
      "| Compressed:                   | No                                                 | NULL                  |\n",
      "| Num Buckets:                  | 11                                                 | NULL                  |\n",
      "| Bucket Columns:               | [genetitle]                                        | NULL                  |\n",
      "| Sort Columns:                 | []                                                 | NULL                  |\n",
      "| Storage Desc Params:          | NULL                                               | NULL                  |\n",
      "|                               | field.delim                                        | \\t                    |\n",
      "|                               | serialization.format                               | \\t                    |\n",
      "+-------------------------------+----------------------------------------------------+-----------------------+--+\n",
      "40 rows selected (0.227 seconds)\n",
      "Beeline version 1.1.0-cdh5.12.0 by Apache Hive\n",
      "Closing: 0: jdbc:hive2://localhost:10000/bioinformatica\n"
     ]
    }
   ],
   "source": [
    " ! beeline -u \"jdbc:hive2://localhost:10000/bioinformatica\" -e   'desc formatted datacleanORCtransactions;'"
   ]
  },
  {
   "cell_type": "code",
   "execution_count": 14,
   "metadata": {},
   "outputs": [
    {
     "name": "stdout",
     "output_type": "stream",
     "text": [
      "scan complete in 2ms\n",
      "Connecting to jdbc:hive2://localhost:10000/bioinformatica\n",
      "Connected to: Apache Hive (version 1.1.0-cdh5.12.0)\n",
      "Driver: Hive JDBC (version 1.1.0-cdh5.12.0)\n",
      "Transaction isolation: TRANSACTION_REPEATABLE_READ\n",
      "INFO  : Compiling command(queryId=hive_20190222164343_30a526bf-22b4-4b85-87a0-9971358a6b61): insert into datacleanORCtransactions select * from datacleaninternalparticion\n",
      "INFO  : Semantic Analysis Completed\n",
      "INFO  : Returning Hive schema: Schema(fieldSchemas:[FieldSchema(name:_col0, type:string, comment:null), FieldSchema(name:_col1, type:string, comment:null), FieldSchema(name:_col2, type:float, comment:null), FieldSchema(name:_col3, type:float, comment:null), FieldSchema(name:_col4, type:float, comment:null), FieldSchema(name:_col5, type:float, comment:null), FieldSchema(name:_col6, type:string, comment:null), FieldSchema(name:_col7, type:string, comment:null), FieldSchema(name:_col8, type:smallint, comment:null), FieldSchema(name:_col9, type:string, comment:null), FieldSchema(name:_col10, type:string, comment:null), FieldSchema(name:_col11, type:string, comment:null), FieldSchema(name:_col12, type:string, comment:null)], properties:null)\n",
      "INFO  : Completed compiling command(queryId=hive_20190222164343_30a526bf-22b4-4b85-87a0-9971358a6b61); Time taken: 0.138 seconds\n",
      "INFO  : Concurrency mode is disabled, not creating a lock manager\n",
      "INFO  : Executing command(queryId=hive_20190222164343_30a526bf-22b4-4b85-87a0-9971358a6b61): insert into datacleanORCtransactions select * from datacleaninternalparticion\n",
      "INFO  : Query ID = hive_20190222164343_30a526bf-22b4-4b85-87a0-9971358a6b61\n",
      "INFO  : Total jobs = 1\n",
      "INFO  : Launching Job 1 out of 1\n",
      "INFO  : Starting task [Stage-1:MAPRED] in serial mode\n",
      "INFO  : Number of reduce tasks is set to 0 since there's no reduce operator\n",
      "INFO  : Starting Job = job_1550876545238_0006, Tracking URL = http://quickstart.cloudera:8088/proxy/application_1550876545238_0006/\n",
      "INFO  : Kill Command = /usr/lib/hadoop/bin/hadoop job  -kill job_1550876545238_0006\n",
      "INFO  : Hadoop job information for Stage-1: number of mappers: 1; number of reducers: 0\n",
      "INFO  : 2019-02-22 16:43:44,494 Stage-1 map = 0%,  reduce = 0%\n",
      "INFO  : 2019-02-22 16:43:49,739 Stage-1 map = 100%,  reduce = 0%, Cumulative CPU 1.72 sec\n",
      "INFO  : MapReduce Total cumulative CPU time: 1 seconds 720 msec\n",
      "INFO  : Ended Job = job_1550876545238_0006\n",
      "INFO  : Starting task [Stage-7:CONDITIONAL] in serial mode\n",
      "INFO  : Stage-4 is selected by condition resolver.\n",
      "INFO  : Stage-3 is filtered out by condition resolver.\n",
      "INFO  : Stage-5 is filtered out by condition resolver.\n",
      "INFO  : Starting task [Stage-4:MOVE] in serial mode\n",
      "INFO  : Moving data to: hdfs://quickstart.cloudera:8020/user/cloudera/bioinformatica/datacleanorctransactions/.hive-staging_hive_2019-02-22_16-43-38_684_1363462623916206732-4/-ext-10000 from hdfs://quickstart.cloudera:8020/user/cloudera/bioinformatica/datacleanorctransactions/.hive-staging_hive_2019-02-22_16-43-38_684_1363462623916206732-4/-ext-10002\n",
      "INFO  : Starting task [Stage-0:MOVE] in serial mode\n",
      "INFO  : Loading data to table bioinformatica.datacleanorctransactions from hdfs://quickstart.cloudera:8020/user/cloudera/bioinformatica/datacleanorctransactions/.hive-staging_hive_2019-02-22_16-43-38_684_1363462623916206732-4/-ext-10000\n",
      "INFO  : Starting task [Stage-2:STATS] in serial mode\n",
      "INFO  : Table bioinformatica.datacleanorctransactions stats: [numFiles=1, numRows=6, totalSize=1944, rawDataSize=4146]\n",
      "INFO  : MapReduce Jobs Launched: \n",
      "INFO  : Stage-Stage-1: Map: 1   Cumulative CPU: 1.72 sec   HDFS Read: 7531 HDFS Write: 2041 SUCCESS\n",
      "INFO  : Total MapReduce CPU Time Spent: 1 seconds 720 msec\n",
      "INFO  : Completed executing command(queryId=hive_20190222164343_30a526bf-22b4-4b85-87a0-9971358a6b61); Time taken: 12.249 seconds\n",
      "INFO  : OK\n",
      "No rows affected (12.402 seconds)\n",
      "Beeline version 1.1.0-cdh5.12.0 by Apache Hive\n",
      "Closing: 0: jdbc:hive2://localhost:10000/bioinformatica\n"
     ]
    }
   ],
   "source": [
    "! beeline -u \"jdbc:hive2://localhost:10000/bioinformatica\" -e \"insert into datacleanORCtransactions select * from datacleaninternalparticion;\""
   ]
  },
  {
   "cell_type": "code",
   "execution_count": 20,
   "metadata": {},
   "outputs": [
    {
     "name": "stdout",
     "output_type": "stream",
     "text": [
      "scan complete in 2ms\n",
      "Connecting to jdbc:hive2://localhost:10000/bioinformatica\n",
      "Connected to: Apache Hive (version 1.1.0-cdh5.12.0)\n",
      "Driver: Hive JDBC (version 1.1.0-cdh5.12.0)\n",
      "Transaction isolation: TRANSACTION_REPEATABLE_READ\n",
      "INFO  : Compiling command(queryId=hive_20190222165151_a7cf0f7c-099a-42d9-8409-019c67825ada): select idref, genetitle from datacleanORCtransactions\n",
      "INFO  : Semantic Analysis Completed\n",
      "INFO  : Returning Hive schema: Schema(fieldSchemas:[FieldSchema(name:idref, type:string, comment:null), FieldSchema(name:genetitle, type:string, comment:null)], properties:null)\n",
      "INFO  : Completed compiling command(queryId=hive_20190222165151_a7cf0f7c-099a-42d9-8409-019c67825ada); Time taken: 0.083 seconds\n",
      "INFO  : Concurrency mode is disabled, not creating a lock manager\n",
      "INFO  : Executing command(queryId=hive_20190222165151_a7cf0f7c-099a-42d9-8409-019c67825ada): select idref, genetitle from datacleanORCtransactions\n",
      "INFO  : Completed executing command(queryId=hive_20190222165151_a7cf0f7c-099a-42d9-8409-019c67825ada); Time taken: 0.0 seconds\n",
      "INFO  : OK\n",
      "+--------------+-------------------------+--+\n",
      "|    idref     |        genetitle        |\n",
      "+--------------+-------------------------+--+\n",
      "| 161272_f_at  | zinc and ring finger 2  |\n",
      "| 99574_at     | zinc and ring finger 2  |\n",
      "| 104396_at    | zinc and ring finger 2  |\n",
      "| 104418_at    | zinc and ring finger 2  |\n",
      "| 160455_s_at  | ZW10 interactor         |\n",
      "| 99087_at     | ZW10 interactor         |\n",
      "+--------------+-------------------------+--+\n",
      "6 rows selected (0.184 seconds)\n",
      "Beeline version 1.1.0-cdh5.12.0 by Apache Hive\n",
      "Closing: 0: jdbc:hive2://localhost:10000/bioinformatica\n"
     ]
    }
   ],
   "source": [
    "! beeline -u \"jdbc:hive2://localhost:10000/bioinformatica\" -e \"select idref, genetitle from datacleanORCtransactions;\""
   ]
  },
  {
   "cell_type": "code",
   "execution_count": 28,
   "metadata": {},
   "outputs": [
    {
     "name": "stdout",
     "output_type": "stream",
     "text": [
      "Overwriting ejercicio\n"
     ]
    }
   ],
   "source": [
    "%%writefile ejercicio\n",
    "SET hive.support.concurrency = true;\n",
    "SET hive.enforce.bucketing = true;\n",
    "SET hive.exec.dynamic.partition.mode = nonstrict;\n",
    "SET hive.txn.manager =org.apache.hadoop.hive.ql.lockmgr.DbTxnManager;\n",
    "SET hive.compactor.initiator.on = true;\n",
    "SET hive.compactor.worker.threads = 1;\n",
    "\n",
    "delete from datacleanORCtransactions where idref='99087_at';"
   ]
  },
  {
   "cell_type": "code",
   "execution_count": 24,
   "metadata": {},
   "outputs": [
    {
     "name": "stdout",
     "output_type": "stream",
     "text": [
      "scan complete in 2ms\n",
      "Connecting to jdbc:hive2://localhost:10000/bioinformatica\n",
      "Connected to: Apache Hive (version 1.1.0-cdh5.12.0)\n",
      "Driver: Hive JDBC (version 1.1.0-cdh5.12.0)\n",
      "Transaction isolation: TRANSACTION_REPEATABLE_READ\n",
      "ue;jdbc:hive2://localhost:10000/bioinformatic> SET hive.support.concurrency = tr \n",
      "No rows affected (0.075 seconds)\n",
      ";: jdbc:hive2://localhost:10000/bioinformatic> SET hive.enforce.bucketing = true \n",
      "No rows affected (0.008 seconds)\n",
      "ode = nonstrict;localhost:10000/bioinformatic> SET hive.exec.dynamic.partition.m \n",
      "No rows affected (0.004 seconds)\n",
      "hadoop.hive.ql.lockmgr.DbTxnManager;nformatic> SET hive.txn.manager =org.apache. \n",
      "No rows affected (0.008 seconds)\n",
      " true;c:hive2://localhost:10000/bioinformatic> SET hive.compactor.initiator.on = \n",
      "No rows affected (0.006 seconds)\n",
      " = 1;bc:hive2://localhost:10000/bioinformatic> SET hive.compactor.worker.threads \n",
      "No rows affected (0.005 seconds)\n",
      "ons wherhive2://localhost:10000/bioinformatic> delete from datacleanORCtransacti e idref='99087_at';\n",
      "INFO  : Compiling command(queryId=hive_20190222165454_3edd5740-4890-4949-a0f1-ef1f78e37515): delete from datacleanORCtransactions where idref='99087_at'\n",
      "INFO  : Semantic Analysis Completed\n",
      "INFO  : Returning Hive schema: Schema(fieldSchemas:[FieldSchema(name:row__id, type:struct<transactionid:bigint,bucketid:int,rowid:bigint>, comment:null)], properties:null)\n",
      "INFO  : Completed compiling command(queryId=hive_20190222165454_3edd5740-4890-4949-a0f1-ef1f78e37515); Time taken: 0.277 seconds\n",
      "INFO  : Executing command(queryId=hive_20190222165454_3edd5740-4890-4949-a0f1-ef1f78e37515): delete from datacleanORCtransactions where idref='99087_at'\n",
      "INFO  : Query ID = hive_20190222165454_3edd5740-4890-4949-a0f1-ef1f78e37515\n",
      "INFO  : Total jobs = 1\n",
      "INFO  : Launching Job 1 out of 1\n",
      "INFO  : Starting task [Stage-1:MAPRED] in serial mode\n",
      "INFO  : Number of reduce tasks determined at compile time: 11\n",
      "INFO  : In order to change the average load for a reducer (in bytes):\n",
      "INFO  :   set hive.exec.reducers.bytes.per.reducer=<number>\n",
      "INFO  : In order to limit the maximum number of reducers:\n",
      "INFO  :   set hive.exec.reducers.max=<number>\n",
      "INFO  : In order to set a constant number of reducers:\n",
      "INFO  :   set mapreduce.job.reduces=<number>\n",
      "INFO  : Starting Job = job_1550876545238_0007, Tracking URL = http://quickstart.cloudera:8088/proxy/application_1550876545238_0007/\n",
      "INFO  : Kill Command = /usr/lib/hadoop/bin/hadoop job  -kill job_1550876545238_0007\n",
      "INFO  : Hadoop job information for Stage-1: number of mappers: 1; number of reducers: 11\n",
      "INFO  : 2019-02-22 16:54:53,994 Stage-1 map = 0%,  reduce = 0%\n",
      "INFO  : 2019-02-22 16:55:00,338 Stage-1 map = 100%,  reduce = 0%, Cumulative CPU 1.52 sec\n",
      "INFO  : 2019-02-22 16:55:13,845 Stage-1 map = 100%,  reduce = 9%, Cumulative CPU 4.13 sec\n",
      "INFO  : 2019-02-22 16:55:18,179 Stage-1 map = 100%,  reduce = 18%, Cumulative CPU 6.13 sec\n",
      "INFO  : 2019-02-22 16:55:28,025 Stage-1 map = 100%,  reduce = 36%, Cumulative CPU 10.91 sec\n",
      "INFO  : 2019-02-22 16:55:30,005 Stage-1 map = 100%,  reduce = 45%, Cumulative CPU 12.88 sec\n",
      "INFO  : 2019-02-22 16:55:31,053 Stage-1 map = 100%,  reduce = 55%, Cumulative CPU 15.23 sec\n",
      "INFO  : 2019-02-22 16:55:36,522 Stage-1 map = 100%,  reduce = 73%, Cumulative CPU 18.61 sec\n",
      "INFO  : 2019-02-22 16:55:38,625 Stage-1 map = 100%,  reduce = 100%, Cumulative CPU 23.46 sec\n",
      "INFO  : MapReduce Total cumulative CPU time: 23 seconds 460 msec\n",
      "INFO  : Ended Job = job_1550876545238_0007\n",
      "INFO  : Starting task [Stage-0:MOVE] in serial mode\n",
      "INFO  : Loading data to table bioinformatica.datacleanorctransactions from hdfs://quickstart.cloudera:8020/user/cloudera/bioinformatica/datacleanorctransactions/.hive-staging_hive_2019-02-22_16-54-47_759_2172012935206709876-4/-ext-10000\n",
      "INFO  : Starting task [Stage-2:STATS] in serial mode\n",
      "INFO  : Table bioinformatica.datacleanorctransactions stats: [numFiles=2, numRows=5, totalSize=2461, rawDataSize=4146]\n",
      "INFO  : MapReduce Jobs Launched: \n",
      "INFO  : Stage-Stage-1: Map: 1  Reduce: 11   Cumulative CPU: 23.46 sec   HDFS Read: 64688 HDFS Write: 1266 SUCCESS\n",
      "INFO  : Total MapReduce CPU Time Spent: 23 seconds 460 msec\n",
      "INFO  : Completed executing command(queryId=hive_20190222165454_3edd5740-4890-4949-a0f1-ef1f78e37515); Time taken: 53.079 seconds\n",
      "INFO  : OK\n",
      "No rows affected (53.579 seconds)\n",
      "0: jdbc:hive2://localhost:10000/bioinformatic> \n",
      "Closing: 0: jdbc:hive2://localhost:10000/bioinformatica\n"
     ]
    }
   ],
   "source": [
    "! beeline -u \"jdbc:hive2://localhost:10000/bioinformatica\" -f ejercicio"
   ]
  },
  {
   "cell_type": "code",
   "execution_count": 25,
   "metadata": {},
   "outputs": [
    {
     "name": "stdout",
     "output_type": "stream",
     "text": [
      "scan complete in 2ms\n",
      "Connecting to jdbc:hive2://localhost:10000/bioinformatica\n",
      "Connected to: Apache Hive (version 1.1.0-cdh5.12.0)\n",
      "Driver: Hive JDBC (version 1.1.0-cdh5.12.0)\n",
      "Transaction isolation: TRANSACTION_REPEATABLE_READ\n",
      "INFO  : Compiling command(queryId=hive_20190222165656_e5bce28f-cbe8-4c49-8d2f-f0dd8ec9752f): select idref, genetitle from datacleanORCtransactions\n",
      "INFO  : Semantic Analysis Completed\n",
      "INFO  : Returning Hive schema: Schema(fieldSchemas:[FieldSchema(name:idref, type:string, comment:null), FieldSchema(name:genetitle, type:string, comment:null)], properties:null)\n",
      "INFO  : Completed compiling command(queryId=hive_20190222165656_e5bce28f-cbe8-4c49-8d2f-f0dd8ec9752f); Time taken: 0.115 seconds\n",
      "INFO  : Concurrency mode is disabled, not creating a lock manager\n",
      "INFO  : Executing command(queryId=hive_20190222165656_e5bce28f-cbe8-4c49-8d2f-f0dd8ec9752f): select idref, genetitle from datacleanORCtransactions\n",
      "INFO  : Completed executing command(queryId=hive_20190222165656_e5bce28f-cbe8-4c49-8d2f-f0dd8ec9752f); Time taken: 0.0 seconds\n",
      "INFO  : OK\n",
      "+--------------+-------------------------+--+\n",
      "|    idref     |        genetitle        |\n",
      "+--------------+-------------------------+--+\n",
      "| 161272_f_at  | zinc and ring finger 2  |\n",
      "| 99574_at     | zinc and ring finger 2  |\n",
      "| 104396_at    | zinc and ring finger 2  |\n",
      "| 104418_at    | zinc and ring finger 2  |\n",
      "| 160455_s_at  | ZW10 interactor         |\n",
      "+--------------+-------------------------+--+\n",
      "5 rows selected (0.272 seconds)\n",
      "Beeline version 1.1.0-cdh5.12.0 by Apache Hive\n",
      "Closing: 0: jdbc:hive2://localhost:10000/bioinformatica\n"
     ]
    }
   ],
   "source": [
    "! beeline -u \"jdbc:hive2://localhost:10000/bioinformatica\" -e \"select idref, genetitle from datacleanORCtransactions;\""
   ]
  },
  {
   "cell_type": "code",
   "execution_count": null,
   "metadata": {
    "collapsed": true
   },
   "outputs": [],
   "source": []
  }
 ],
 "metadata": {
  "kernelspec": {
   "display_name": "Python 2",
   "language": "python",
   "name": "python2"
  },
  "language_info": {
   "codemirror_mode": {
    "name": "ipython",
    "version": 2
   },
   "file_extension": ".py",
   "mimetype": "text/x-python",
   "name": "python",
   "nbconvert_exporter": "python",
   "pygments_lexer": "ipython2",
   "version": "2.7.14"
  }
 },
 "nbformat": 4,
 "nbformat_minor": 2
}
