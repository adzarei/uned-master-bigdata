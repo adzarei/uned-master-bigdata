{
 "cells": [
  {
   "cell_type": "markdown",
   "metadata": {},
   "source": [
    "## Creando tablas con particiones\n",
    "\n",
    "Vamos a trabajar con los ficheros de datos proporcionados por los docentes, y deben encontrarse en la carpeta /media/notebooks"
   ]
  },
  {
   "cell_type": "code",
   "execution_count": 1,
   "metadata": {
    "collapsed": true
   },
   "outputs": [],
   "source": [
    "! mkdir -p hive-tablasparticiones"
   ]
  },
  {
   "cell_type": "code",
   "execution_count": 2,
   "metadata": {
    "collapsed": true
   },
   "outputs": [],
   "source": [
    "import os\n",
    "os.chdir(\"hive-tablasparticiones\")"
   ]
  },
  {
   "cell_type": "code",
   "execution_count": 3,
   "metadata": {
    "collapsed": false
   },
   "outputs": [
    {
     "name": "stdout",
     "output_type": "stream",
     "text": [
      "/media/notebooks/hive-tablasparticiones\r\n"
     ]
    }
   ],
   "source": [
    "! pwd"
   ]
  },
  {
   "cell_type": "markdown",
   "metadata": {},
   "source": [
    "### Primero creamos una tabla interna"
   ]
  },
  {
   "cell_type": "code",
   "execution_count": 4,
   "metadata": {
    "collapsed": false
   },
   "outputs": [
    {
     "name": "stdout",
     "output_type": "stream",
     "text": [
      "Writing ejerciciohive.hql\n"
     ]
    }
   ],
   "source": [
    "%%writefile ejerciciohive.hql\n",
    "create table datacleaninternalparticionB (\n",
    "idref  STRING,   \n",
    "ident  STRING,\n",
    "gsm19023 FLOAT,   \n",
    "gsd19024 FLOAT, \n",
    "gsd19025 FLOAT,    \n",
    "gsd19026 FLOAT, \n",
    "genesymbol STRING,  \n",
    "geneID SMALLINT,           \n",
    "uniGenetitle STRING,  \n",
    "uniGenesymbol STRING,       \n",
    "uniGeneID STRING, \n",
    "NucleotideTitle STRING) \n",
    "PARTITIONED BY (genetitle STRING) \n",
    "ROW FORMAT DELIMITED FIELDS TERMINATED BY '\\t';"
   ]
  },
  {
   "cell_type": "code",
   "execution_count": 5,
   "metadata": {
    "collapsed": false
   },
   "outputs": [
    {
     "name": "stdout",
     "output_type": "stream",
     "text": [
      "2019-04-25 20:49:53,673 WARN  [main] mapreduce.TableMapReduceUtil: The hbase-prefix-tree module jar containing PrefixTreeCodec is not present.  Continuing without it.\n",
      "scan complete in 3ms\n",
      "Connecting to jdbc:hive2://localhost:10000/bioinformatica\n",
      "Connected to: Apache Hive (version 1.1.0-cdh5.7.0)\n",
      "Driver: Hive JDBC (version 1.1.0-cdh5.7.0)\n",
      "Transaction isolation: TRANSACTION_REPEATABLE_READ\n",
      "ticionB (ive2://localhost:10000/bioinformatic> create table datacleaninternalpar \n",
      "0: jdbc:hive2://localhost:10000/bioinformatic> idref  STRING,   \n",
      "0: jdbc:hive2://localhost:10000/bioinformatic> ident  STRING,\n",
      "0: jdbc:hive2://localhost:10000/bioinformatic> gsm19023 FLOAT,   \n",
      "0: jdbc:hive2://localhost:10000/bioinformatic> gsd19024 FLOAT, \n",
      "0: jdbc:hive2://localhost:10000/bioinformatic> gsd19025 FLOAT,    \n",
      "0: jdbc:hive2://localhost:10000/bioinformatic> gsd19026 FLOAT, \n",
      "0: jdbc:hive2://localhost:10000/bioinformatic> genesymbol STRING,  \n",
      "0: jdbc:hive2://localhost:10000/bioinformatic> geneID SMALLINT,           \n",
      "0: jdbc:hive2://localhost:10000/bioinformatic> uniGenetitle STRING,  \n",
      "0: jdbc:hive2://localhost:10000/bioinformatic> uniGenesymbol STRING,       \n",
      "0: jdbc:hive2://localhost:10000/bioinformatic> uniGeneID STRING, \n",
      "0: jdbc:hive2://localhost:10000/bioinformatic> NucleotideTitle STRING) \n",
      " : jdbc:hive2://localhost:10000/bioinformatic> PARTITIONED BY (genetitle STRING) \n",
      "NATED BY '\\t';//localhost:10000/bioinformatic> ROW FORMAT DELIMITED FIELDS TERMI \n",
      "INFO  : Compiling command(queryId=hive_20190425204949_a85ad583-7b95-44e9-986b-88fad052c5f2): create table datacleaninternalparticionB (\n",
      "idref  STRING,   \n",
      "ident  STRING,\n",
      "gsm19023 FLOAT,   \n",
      "gsd19024 FLOAT, \n",
      "gsd19025 FLOAT,    \n",
      "gsd19026 FLOAT, \n",
      "genesymbol STRING,  \n",
      "geneID SMALLINT,           \n",
      "uniGenetitle STRING,  \n",
      "uniGenesymbol STRING,       \n",
      "uniGeneID STRING, \n",
      "NucleotideTitle STRING) \n",
      "PARTITIONED BY (genetitle STRING) \n",
      "ROW FORMAT DELIMITED FIELDS TERMINATED BY '\\t'\n",
      "INFO  : Semantic Analysis Completed\n",
      "INFO  : Returning Hive schema: Schema(fieldSchemas:null, properties:null)\n",
      "INFO  : Completed compiling command(queryId=hive_20190425204949_a85ad583-7b95-44e9-986b-88fad052c5f2); Time taken: 0.029 seconds\n",
      "INFO  : Concurrency mode is disabled, not creating a lock manager\n",
      "INFO  : Executing command(queryId=hive_20190425204949_a85ad583-7b95-44e9-986b-88fad052c5f2): create table datacleaninternalparticionB (\n",
      "idref  STRING,   \n",
      "ident  STRING,\n",
      "gsm19023 FLOAT,   \n",
      "gsd19024 FLOAT, \n",
      "gsd19025 FLOAT,    \n",
      "gsd19026 FLOAT, \n",
      "genesymbol STRING,  \n",
      "geneID SMALLINT,           \n",
      "uniGenetitle STRING,  \n",
      "uniGenesymbol STRING,       \n",
      "uniGeneID STRING, \n",
      "NucleotideTitle STRING) \n",
      "PARTITIONED BY (genetitle STRING) \n",
      "ROW FORMAT DELIMITED FIELDS TERMINATED BY '\\t'\n",
      "INFO  : Starting task [Stage-0:DDL] in serial mode\n",
      "INFO  : Completed executing command(queryId=hive_20190425204949_a85ad583-7b95-44e9-986b-88fad052c5f2); Time taken: 0.095 seconds\n",
      "INFO  : OK\n",
      "No rows affected (0.199 seconds)\n",
      "0: jdbc:hive2://localhost:10000/bioinformatic> \n",
      "Closing: 0: jdbc:hive2://localhost:10000/bioinformatica\n"
     ]
    }
   ],
   "source": [
    "! beeline -u \"jdbc:hive2://localhost:10000/bioinformatica\" -f ejerciciohive.hql"
   ]
  },
  {
   "cell_type": "code",
   "execution_count": 7,
   "metadata": {
    "collapsed": false
   },
   "outputs": [],
   "source": [
    "! hadoop fs -put ../part1-zwint.txt /user/cloudera/\n",
    "! hadoop fs -put ../part2-Znrf2.txt /user/cloudera/"
   ]
  },
  {
   "cell_type": "code",
   "execution_count": 8,
   "metadata": {
    "collapsed": false
   },
   "outputs": [
    {
     "name": "stdout",
     "output_type": "stream",
     "text": [
      "Overwriting ejerciciohive.hql\n"
     ]
    }
   ],
   "source": [
    "%%writefile ejerciciohive.hql\n",
    "load data inpath '/user/cloudera/part1-zwint.txt' into table datacleaninternalparticionB partition (genetitle='zwint');\n",
    "load data inpath '/user/cloudera/part2-Znrf2.txt' into table datacleaninternalparticionB partition (genetitle='Znrf2');\n"
   ]
  },
  {
   "cell_type": "code",
   "execution_count": 9,
   "metadata": {
    "collapsed": false
   },
   "outputs": [
    {
     "name": "stdout",
     "output_type": "stream",
     "text": [
      "2019-04-25 20:51:07,114 WARN  [main] mapreduce.TableMapReduceUtil: The hbase-prefix-tree module jar containing PrefixTreeCodec is not present.  Continuing without it.\n",
      "scan complete in 3ms\n",
      "Connecting to jdbc:hive2://localhost:10000/bioinformatica\n",
      "Connected to: Apache Hive (version 1.1.0-cdh5.7.0)\n",
      "Driver: Hive JDBC (version 1.1.0-cdh5.7.0)\n",
      "Transaction isolation: TRANSACTION_REPEATABLE_READ\n",
      "int');zwint.txt' into table datacleaninternalparticionB partition (genetitle='zw \n",
      "INFO  : Compiling command(queryId=hive_20190425205151_4658cf86-90d0-4a6b-affd-d6a45ebe904d): load data inpath '/user/cloudera/part1-zwint.txt' into table datacleaninternalparticionB partition (genetitle='zwint')\n",
      "INFO  : Semantic Analysis Completed\n",
      "INFO  : Returning Hive schema: Schema(fieldSchemas:null, properties:null)\n",
      "INFO  : Completed compiling command(queryId=hive_20190425205151_4658cf86-90d0-4a6b-affd-d6a45ebe904d); Time taken: 0.116 seconds\n",
      "INFO  : Concurrency mode is disabled, not creating a lock manager\n",
      "INFO  : Executing command(queryId=hive_20190425205151_4658cf86-90d0-4a6b-affd-d6a45ebe904d): load data inpath '/user/cloudera/part1-zwint.txt' into table datacleaninternalparticionB partition (genetitle='zwint')\n",
      "INFO  : Starting task [Stage-0:MOVE] in serial mode\n",
      "INFO  : Loading data to table bioinformatica.datacleaninternalparticionb partition (genetitle=zwint) from hdfs://quickstart.cloudera:8020/user/cloudera/part1-zwint.txt\n",
      "INFO  : Starting task [Stage-1:STATS] in serial mode\n",
      "INFO  : Partition bioinformatica.datacleaninternalparticionb{genetitle=zwint} stats: [numFiles=1, numRows=0, totalSize=355, rawDataSize=0]\n",
      "INFO  : Completed executing command(queryId=hive_20190425205151_4658cf86-90d0-4a6b-affd-d6a45ebe904d); Time taken: 0.545 seconds\n",
      "INFO  : OK\n",
      "No rows affected (0.717 seconds)\n",
      "rf2');Znrf2.txt' into table datacleaninternalparticionB partition (genetitle='Zn \n",
      "INFO  : Compiling command(queryId=hive_20190425205151_ec49e972-81e5-42e3-a02d-2bc28ed4e5c4): load data inpath '/user/cloudera/part2-Znrf2.txt' into table datacleaninternalparticionB partition (genetitle='Znrf2')\n",
      "INFO  : Semantic Analysis Completed\n",
      "INFO  : Returning Hive schema: Schema(fieldSchemas:null, properties:null)\n",
      "INFO  : Completed compiling command(queryId=hive_20190425205151_ec49e972-81e5-42e3-a02d-2bc28ed4e5c4); Time taken: 0.059 seconds\n",
      "INFO  : Concurrency mode is disabled, not creating a lock manager\n",
      "INFO  : Executing command(queryId=hive_20190425205151_ec49e972-81e5-42e3-a02d-2bc28ed4e5c4): load data inpath '/user/cloudera/part2-Znrf2.txt' into table datacleaninternalparticionB partition (genetitle='Znrf2')\n",
      "INFO  : Starting task [Stage-0:MOVE] in serial mode\n",
      "INFO  : Loading data to table bioinformatica.datacleaninternalparticionb partition (genetitle=Znrf2) from hdfs://quickstart.cloudera:8020/user/cloudera/part2-Znrf2.txt\n",
      "INFO  : Starting task [Stage-1:STATS] in serial mode\n",
      "INFO  : Partition bioinformatica.datacleaninternalparticionb{genetitle=Znrf2} stats: [numFiles=1, numRows=0, totalSize=729, rawDataSize=0]\n",
      "INFO  : Completed executing command(queryId=hive_20190425205151_ec49e972-81e5-42e3-a02d-2bc28ed4e5c4); Time taken: 0.321 seconds\n",
      "INFO  : OK\n",
      "No rows affected (0.394 seconds)\n",
      "0: jdbc:hive2://localhost:10000/bioinformatic> \n",
      "Closing: 0: jdbc:hive2://localhost:10000/bioinformatica\n"
     ]
    }
   ],
   "source": [
    "! beeline -u \"jdbc:hive2://localhost:10000/bioinformatica\" -f ejerciciohive.hql"
   ]
  },
  {
   "cell_type": "code",
   "execution_count": 10,
   "metadata": {
    "collapsed": false
   },
   "outputs": [
    {
     "name": "stdout",
     "output_type": "stream",
     "text": [
      "2019-04-25 20:51:40,391 WARN  [main] mapreduce.TableMapReduceUtil: The hbase-prefix-tree module jar containing PrefixTreeCodec is not present.  Continuing without it.\n",
      "scan complete in 2ms\n",
      "Connecting to jdbc:hive2://localhost:10000/bioinformatica\n",
      "Connected to: Apache Hive (version 1.1.0-cdh5.7.0)\n",
      "Driver: Hive JDBC (version 1.1.0-cdh5.7.0)\n",
      "Transaction isolation: TRANSACTION_REPEATABLE_READ\n",
      "INFO  : Compiling command(queryId=hive_20190425205151_0c9fb18f-c3e5-4fbb-acee-25a9278b49f2): select * from datacleaninternalparticionB\n",
      "INFO  : Semantic Analysis Completed\n",
      "INFO  : Returning Hive schema: Schema(fieldSchemas:[FieldSchema(name:datacleaninternalparticionb.idref, type:string, comment:null), FieldSchema(name:datacleaninternalparticionb.ident, type:string, comment:null), FieldSchema(name:datacleaninternalparticionb.gsm19023, type:float, comment:null), FieldSchema(name:datacleaninternalparticionb.gsd19024, type:float, comment:null), FieldSchema(name:datacleaninternalparticionb.gsd19025, type:float, comment:null), FieldSchema(name:datacleaninternalparticionb.gsd19026, type:float, comment:null), FieldSchema(name:datacleaninternalparticionb.genesymbol, type:string, comment:null), FieldSchema(name:datacleaninternalparticionb.geneid, type:smallint, comment:null), FieldSchema(name:datacleaninternalparticionb.unigenetitle, type:string, comment:null), FieldSchema(name:datacleaninternalparticionb.unigenesymbol, type:string, comment:null), FieldSchema(name:datacleaninternalparticionb.unigeneid, type:string, comment:null), FieldSchema(name:datacleaninternalparticionb.nucleotidetitle, type:string, comment:null), FieldSchema(name:datacleaninternalparticionb.genetitle, type:string, comment:null)], properties:null)\n",
      "INFO  : Completed compiling command(queryId=hive_20190425205151_0c9fb18f-c3e5-4fbb-acee-25a9278b49f2); Time taken: 0.129 seconds\n",
      "INFO  : Concurrency mode is disabled, not creating a lock manager\n",
      "INFO  : Executing command(queryId=hive_20190425205151_0c9fb18f-c3e5-4fbb-acee-25a9278b49f2): select * from datacleaninternalparticionB\n",
      "INFO  : Completed executing command(queryId=hive_20190425205151_0c9fb18f-c3e5-4fbb-acee-25a9278b49f2); Time taken: 0.001 seconds\n",
      "INFO  : OK\n",
      "+------------------------------------+------------------------------------+---------------------------------------+---------------------------------------+---------------------------------------+---------------------------------------+-----------------------------------------+-------------------------------------+-------------------------------------------+--------------------------------------------+----------------------------------------+-----------------------------------------------------------------------------------------------------------------+----------------------------------------+--+\n",
      "| datacleaninternalparticionb.idref  | datacleaninternalparticionb.ident  | datacleaninternalparticionb.gsm19023  | datacleaninternalparticionb.gsd19024  | datacleaninternalparticionb.gsd19025  | datacleaninternalparticionb.gsd19026  | datacleaninternalparticionb.genesymbol  | datacleaninternalparticionb.geneid  | datacleaninternalparticionb.unigenetitle  | datacleaninternalparticionb.unigenesymbol  | datacleaninternalparticionb.unigeneid  |                                   datacleaninternalparticionb.nucleotidetitle                                   | datacleaninternalparticionb.genetitle  |\n",
      "+------------------------------------+------------------------------------+---------------------------------------+---------------------------------------+---------------------------------------+---------------------------------------+-----------------------------------------+-------------------------------------+-------------------------------------------+--------------------------------------------+----------------------------------------+-----------------------------------------------------------------------------------------------------------------+----------------------------------------+--+\n",
      "| 161272_f_at                        | Znrf2                              | 1216.300048828125                     | 1587.699951171875                     | 759.5                                 | 1063.199951171875                     | zinc and ring finger 2                  | NULL                                | 387524                                    |                                            |                                        |                                                                                                                 | Znrf2                                  |\n",
      "| 99574_at                           | Znrf2                              | 3783.39990234375                      | 3126.300048828125                     | 2105.39990234375                      | 1684.699951171875                     | zinc and ring finger 2                  | NULL                                | 387524                                    |                                            |                                        |                                                                                                                 | Znrf2                                  |\n",
      "| 104396_at                          | Znrf2                              | 1963.800048828125                     | 1770.9000244140625                    | 943.7000122070312                     | 951.4000244140625                     | zinc and ring finger 2                  | NULL                                | 387524                                    |                                            |                                        |                                                                                                                 | Znrf2                                  |\n",
      "| 104418_at                          | Znrf2                              | 840.2999877929688                     | 919.4000244140625                     | 300.8999938964844                     | 487.1000061035156                     | zinc and ring finger 2                  | NULL                                | 387524                                    |                                            |                                        |                                                                                                                 | Znrf2                                  |\n",
      "| 160455_s_at                        | Zwint                              | 5437.5                                | 6415.7998046875                       | 7748.89990234375                      | 8008.89990234375                      | ZW10 interactor                         | NULL                                |                                           |                                            |                                        | UI-M-BH2.1-apm-d-05-0-UI.s1 NIH_BMAP_M_S3.1 Mus musculus cDNA clone UI-M-BH2.1-apm-d-05-0-UI 3-, mRNA sequence  | zwint                                  |\n",
      "| 99087_at                           | Zwint                              | 3958.699951171875                     | 3107.39990234375                      | 4313.5                                | 4526.7001953125                       | ZW10 interactor                         | NULL                                |                                           |                                            |                                        | UI-M-BH1-amu-d-09-0-UI.s1 NIH_BMAP_M_S2 Mus musculus cDNA clone UI-M-BH1-amu-d-09-0-UI 3-, mRNA sequence        | zwint                                  |\n",
      "+------------------------------------+------------------------------------+---------------------------------------+---------------------------------------+---------------------------------------+---------------------------------------+-----------------------------------------+-------------------------------------+-------------------------------------------+--------------------------------------------+----------------------------------------+-----------------------------------------------------------------------------------------------------------------+----------------------------------------+--+\n",
      "6 rows selected (0.319 seconds)\n",
      "Beeline version 1.1.0-cdh5.7.0 by Apache Hive\n",
      "Closing: 0: jdbc:hive2://localhost:10000/bioinformatica\n"
     ]
    }
   ],
   "source": [
    "! beeline -u \"jdbc:hive2://localhost:10000/bioinformatica\" -e \"select * from datacleaninternalparticionB;\""
   ]
  },
  {
   "cell_type": "markdown",
   "metadata": {},
   "source": [
    "### Ahora una tabla externa"
   ]
  },
  {
   "cell_type": "code",
   "execution_count": 11,
   "metadata": {
    "collapsed": false
   },
   "outputs": [
    {
     "name": "stdout",
     "output_type": "stream",
     "text": [
      "Overwriting ejerciciohive.hql\n"
     ]
    }
   ],
   "source": [
    "%%writefile ejerciciohive.hql\n",
    "create external table datacleanexternalparticionB (\n",
    "idref  STRING,   \n",
    "ident  STRING,\n",
    "gsm19023 FLOAT,\n",
    "gsd19024 FLOAT, \n",
    "gsd19025 FLOAT,\n",
    "gsd19026 FLOAT, \n",
    "genesymbol STRING,\n",
    "geneID SMALLINT, \n",
    "uniGenetitle STRING,\n",
    "uniGenesymbol STRING,\n",
    "uniGeneID STRING,\n",
    "NucleotideTitle STRING) \n",
    "PARTITIONED BY (genetitle STRING)\n",
    "ROW FORMAT DELIMITED FIELDS TERMINATED BY '\\t';\n"
   ]
  },
  {
   "cell_type": "code",
   "execution_count": 12,
   "metadata": {
    "collapsed": false
   },
   "outputs": [
    {
     "name": "stdout",
     "output_type": "stream",
     "text": [
      "2019-04-25 20:51:52,421 WARN  [main] mapreduce.TableMapReduceUtil: The hbase-prefix-tree module jar containing PrefixTreeCodec is not present.  Continuing without it.\n",
      "scan complete in 3ms\n",
      "Connecting to jdbc:hive2://localhost:10000/bioinformatica\n",
      "Connected to: Apache Hive (version 1.1.0-cdh5.7.0)\n",
      "Driver: Hive JDBC (version 1.1.0-cdh5.7.0)\n",
      "Transaction isolation: TRANSACTION_REPEATABLE_READ\n",
      "ternalparticionB (calhost:10000/bioinformatic> create external table datacleanex \n",
      "0: jdbc:hive2://localhost:10000/bioinformatic> idref  STRING,   \n",
      "0: jdbc:hive2://localhost:10000/bioinformatic> ident  STRING,\n",
      "0: jdbc:hive2://localhost:10000/bioinformatic> gsm19023 FLOAT,\n",
      "0: jdbc:hive2://localhost:10000/bioinformatic> gsd19024 FLOAT, \n",
      "0: jdbc:hive2://localhost:10000/bioinformatic> gsd19025 FLOAT,\n",
      "0: jdbc:hive2://localhost:10000/bioinformatic> gsd19026 FLOAT, \n",
      "0: jdbc:hive2://localhost:10000/bioinformatic> genesymbol STRING,\n",
      "0: jdbc:hive2://localhost:10000/bioinformatic> geneID SMALLINT, \n",
      "0: jdbc:hive2://localhost:10000/bioinformatic> uniGenetitle STRING,\n",
      "0: jdbc:hive2://localhost:10000/bioinformatic> uniGenesymbol STRING,\n",
      "0: jdbc:hive2://localhost:10000/bioinformatic> uniGeneID STRING,\n",
      "0: jdbc:hive2://localhost:10000/bioinformatic> NucleotideTitle STRING) \n",
      "0: jdbc:hive2://localhost:10000/bioinformatic> PARTITIONED BY (genetitle STRING) \n",
      "NATED BY '\\t';//localhost:10000/bioinformatic> ROW FORMAT DELIMITED FIELDS TERMI \n",
      "INFO  : Compiling command(queryId=hive_20190425205151_f17805c7-2860-4027-9933-f5548edd55eb): create external table datacleanexternalparticionB (\n",
      "idref  STRING,   \n",
      "ident  STRING,\n",
      "gsm19023 FLOAT,\n",
      "gsd19024 FLOAT, \n",
      "gsd19025 FLOAT,\n",
      "gsd19026 FLOAT, \n",
      "genesymbol STRING,\n",
      "geneID SMALLINT, \n",
      "uniGenetitle STRING,\n",
      "uniGenesymbol STRING,\n",
      "uniGeneID STRING,\n",
      "NucleotideTitle STRING) \n",
      "PARTITIONED BY (genetitle STRING)\n",
      "ROW FORMAT DELIMITED FIELDS TERMINATED BY '\\t'\n",
      "INFO  : Semantic Analysis Completed\n",
      "INFO  : Returning Hive schema: Schema(fieldSchemas:null, properties:null)\n",
      "INFO  : Completed compiling command(queryId=hive_20190425205151_f17805c7-2860-4027-9933-f5548edd55eb); Time taken: 0.029 seconds\n",
      "INFO  : Concurrency mode is disabled, not creating a lock manager\n",
      "INFO  : Executing command(queryId=hive_20190425205151_f17805c7-2860-4027-9933-f5548edd55eb): create external table datacleanexternalparticionB (\n",
      "idref  STRING,   \n",
      "ident  STRING,\n",
      "gsm19023 FLOAT,\n",
      "gsd19024 FLOAT, \n",
      "gsd19025 FLOAT,\n",
      "gsd19026 FLOAT, \n",
      "genesymbol STRING,\n",
      "geneID SMALLINT, \n",
      "uniGenetitle STRING,\n",
      "uniGenesymbol STRING,\n",
      "uniGeneID STRING,\n",
      "NucleotideTitle STRING) \n",
      "PARTITIONED BY (genetitle STRING)\n",
      "ROW FORMAT DELIMITED FIELDS TERMINATED BY '\\t'\n",
      "INFO  : Starting task [Stage-0:DDL] in serial mode\n",
      "INFO  : Completed executing command(queryId=hive_20190425205151_f17805c7-2860-4027-9933-f5548edd55eb); Time taken: 0.063 seconds\n",
      "INFO  : OK\n",
      "No rows affected (0.163 seconds)\n",
      "0: jdbc:hive2://localhost:10000/bioinformatic> \n",
      "Closing: 0: jdbc:hive2://localhost:10000/bioinformatica\n"
     ]
    }
   ],
   "source": [
    "! beeline -u \"jdbc:hive2://localhost:10000/bioinformatica\" -f ejerciciohive.hql"
   ]
  },
  {
   "cell_type": "code",
   "execution_count": 13,
   "metadata": {
    "collapsed": false
   },
   "outputs": [],
   "source": [
    "! hadoop fs -mkdir /user/cloudera/DataParticion\n",
    "! hadoop fs -mkdir /user/cloudera/DataParticion/Znrf2\n",
    "! hadoop fs -mkdir /user/cloudera/DataParticion/zwint\n"
   ]
  },
  {
   "cell_type": "code",
   "execution_count": 15,
   "metadata": {
    "collapsed": false
   },
   "outputs": [],
   "source": [
    "! hadoop fs -put ../part1-zwint.txt /user/cloudera/DataParticion/zwint\n",
    "! hadoop fs -put ../part2-Znrf2.txt /user/cloudera/DataParticion/Znrf2"
   ]
  },
  {
   "cell_type": "code",
   "execution_count": 16,
   "metadata": {
    "collapsed": false
   },
   "outputs": [
    {
     "name": "stdout",
     "output_type": "stream",
     "text": [
      "Overwriting ejerciciohive.hql\n"
     ]
    }
   ],
   "source": [
    "%%writefile ejerciciohive.hql\n",
    "ALTER TABLE datacleanexternalparticionB ADD PARTITION(genetitle='Znrf2') LOCATION '/user/cloudera/DataParticion/Znrf2';\n",
    "ALTER TABLE datacleanexternalparticionB ADD PARTITION(genetitle='zwint') LOCATION '/user/cloudera/DataParticion/zwint';"
   ]
  },
  {
   "cell_type": "code",
   "execution_count": 17,
   "metadata": {
    "collapsed": false
   },
   "outputs": [
    {
     "name": "stdout",
     "output_type": "stream",
     "text": [
      "2019-04-25 20:52:38,860 WARN  [main] mapreduce.TableMapReduceUtil: The hbase-prefix-tree module jar containing PrefixTreeCodec is not present.  Continuing without it.\n",
      "scan complete in 2ms\n",
      "Connecting to jdbc:hive2://localhost:10000/bioinformatica\n",
      "Connected to: Apache Hive (version 1.1.0-cdh5.7.0)\n",
      "Driver: Hive JDBC (version 1.1.0-cdh5.7.0)\n",
      "Transaction isolation: TRANSACTION_REPEATABLE_READ\n",
      "nrf2'; ADD PARTITION(genetitle='Znrf2') LOCATION '/user/cloudera/DataParticion/Z \n",
      "INFO  : Compiling command(queryId=hive_20190425205252_d16b5aa2-a936-4fb2-9b16-0fbf9e3976eb): ALTER TABLE datacleanexternalparticionB ADD PARTITION(genetitle='Znrf2') LOCATION '/user/cloudera/DataParticion/Znrf2'\n",
      "INFO  : Semantic Analysis Completed\n",
      "INFO  : Returning Hive schema: Schema(fieldSchemas:null, properties:null)\n",
      "INFO  : Completed compiling command(queryId=hive_20190425205252_d16b5aa2-a936-4fb2-9b16-0fbf9e3976eb); Time taken: 0.065 seconds\n",
      "INFO  : Concurrency mode is disabled, not creating a lock manager\n",
      "INFO  : Executing command(queryId=hive_20190425205252_d16b5aa2-a936-4fb2-9b16-0fbf9e3976eb): ALTER TABLE datacleanexternalparticionB ADD PARTITION(genetitle='Znrf2') LOCATION '/user/cloudera/DataParticion/Znrf2'\n",
      "INFO  : Starting task [Stage-0:DDL] in serial mode\n",
      "INFO  : Completed executing command(queryId=hive_20190425205252_d16b5aa2-a936-4fb2-9b16-0fbf9e3976eb); Time taken: 0.115 seconds\n",
      "INFO  : OK\n",
      "No rows affected (0.25 seconds)\n",
      "wint'; ADD PARTITION(genetitle='zwint') LOCATION '/user/cloudera/DataParticion/z \n",
      "INFO  : Compiling command(queryId=hive_20190425205252_06efdd0d-d2db-4765-bad6-ccf5952f2dc0): ALTER TABLE datacleanexternalparticionB ADD PARTITION(genetitle='zwint') LOCATION '/user/cloudera/DataParticion/zwint'\n",
      "INFO  : Semantic Analysis Completed\n",
      "INFO  : Returning Hive schema: Schema(fieldSchemas:null, properties:null)\n",
      "INFO  : Completed compiling command(queryId=hive_20190425205252_06efdd0d-d2db-4765-bad6-ccf5952f2dc0); Time taken: 0.025 seconds\n",
      "INFO  : Concurrency mode is disabled, not creating a lock manager\n",
      "INFO  : Executing command(queryId=hive_20190425205252_06efdd0d-d2db-4765-bad6-ccf5952f2dc0): ALTER TABLE datacleanexternalparticionB ADD PARTITION(genetitle='zwint') LOCATION '/user/cloudera/DataParticion/zwint'\n",
      "INFO  : Starting task [Stage-0:DDL] in serial mode\n",
      "INFO  : Completed executing command(queryId=hive_20190425205252_06efdd0d-d2db-4765-bad6-ccf5952f2dc0); Time taken: 0.088 seconds\n",
      "INFO  : OK\n",
      "No rows affected (0.124 seconds)\n",
      "0: jdbc:hive2://localhost:10000/bioinformatic> \n",
      "Closing: 0: jdbc:hive2://localhost:10000/bioinformatica\n"
     ]
    }
   ],
   "source": [
    "! beeline -u \"jdbc:hive2://localhost:10000/bioinformatica\" -f ejerciciohive.hql"
   ]
  },
  {
   "cell_type": "code",
   "execution_count": 18,
   "metadata": {
    "collapsed": false
   },
   "outputs": [
    {
     "name": "stdout",
     "output_type": "stream",
     "text": [
      "2019-04-25 20:52:46,904 WARN  [main] mapreduce.TableMapReduceUtil: The hbase-prefix-tree module jar containing PrefixTreeCodec is not present.  Continuing without it.\n",
      "scan complete in 3ms\n",
      "Connecting to jdbc:hive2://localhost:10000/bioinformatica\n",
      "Connected to: Apache Hive (version 1.1.0-cdh5.7.0)\n",
      "Driver: Hive JDBC (version 1.1.0-cdh5.7.0)\n",
      "Transaction isolation: TRANSACTION_REPEATABLE_READ\n",
      "INFO  : Compiling command(queryId=hive_20190425205252_3b7ccf53-2b0d-4a2d-b4ec-96533162f303): select * from datacleanexternalparticionB\n",
      "INFO  : Semantic Analysis Completed\n",
      "INFO  : Returning Hive schema: Schema(fieldSchemas:[FieldSchema(name:datacleanexternalparticionb.idref, type:string, comment:null), FieldSchema(name:datacleanexternalparticionb.ident, type:string, comment:null), FieldSchema(name:datacleanexternalparticionb.gsm19023, type:float, comment:null), FieldSchema(name:datacleanexternalparticionb.gsd19024, type:float, comment:null), FieldSchema(name:datacleanexternalparticionb.gsd19025, type:float, comment:null), FieldSchema(name:datacleanexternalparticionb.gsd19026, type:float, comment:null), FieldSchema(name:datacleanexternalparticionb.genesymbol, type:string, comment:null), FieldSchema(name:datacleanexternalparticionb.geneid, type:smallint, comment:null), FieldSchema(name:datacleanexternalparticionb.unigenetitle, type:string, comment:null), FieldSchema(name:datacleanexternalparticionb.unigenesymbol, type:string, comment:null), FieldSchema(name:datacleanexternalparticionb.unigeneid, type:string, comment:null), FieldSchema(name:datacleanexternalparticionb.nucleotidetitle, type:string, comment:null), FieldSchema(name:datacleanexternalparticionb.genetitle, type:string, comment:null)], properties:null)\n",
      "INFO  : Completed compiling command(queryId=hive_20190425205252_3b7ccf53-2b0d-4a2d-b4ec-96533162f303); Time taken: 0.126 seconds\n",
      "INFO  : Concurrency mode is disabled, not creating a lock manager\n",
      "INFO  : Executing command(queryId=hive_20190425205252_3b7ccf53-2b0d-4a2d-b4ec-96533162f303): select * from datacleanexternalparticionB\n",
      "INFO  : Completed executing command(queryId=hive_20190425205252_3b7ccf53-2b0d-4a2d-b4ec-96533162f303); Time taken: 0.0 seconds\n",
      "INFO  : OK\n",
      "+------------------------------------+------------------------------------+---------------------------------------+---------------------------------------+---------------------------------------+---------------------------------------+-----------------------------------------+-------------------------------------+-------------------------------------------+--------------------------------------------+----------------------------------------+-----------------------------------------------------------------------------------------------------------------+----------------------------------------+--+\n",
      "| datacleanexternalparticionb.idref  | datacleanexternalparticionb.ident  | datacleanexternalparticionb.gsm19023  | datacleanexternalparticionb.gsd19024  | datacleanexternalparticionb.gsd19025  | datacleanexternalparticionb.gsd19026  | datacleanexternalparticionb.genesymbol  | datacleanexternalparticionb.geneid  | datacleanexternalparticionb.unigenetitle  | datacleanexternalparticionb.unigenesymbol  | datacleanexternalparticionb.unigeneid  |                                   datacleanexternalparticionb.nucleotidetitle                                   | datacleanexternalparticionb.genetitle  |\n",
      "+------------------------------------+------------------------------------+---------------------------------------+---------------------------------------+---------------------------------------+---------------------------------------+-----------------------------------------+-------------------------------------+-------------------------------------------+--------------------------------------------+----------------------------------------+-----------------------------------------------------------------------------------------------------------------+----------------------------------------+--+\n",
      "| 161272_f_at                        | Znrf2                              | 1216.300048828125                     | 1587.699951171875                     | 759.5                                 | 1063.199951171875                     | zinc and ring finger 2                  | NULL                                | 387524                                    |                                            |                                        |                                                                                                                 | Znrf2                                  |\n",
      "| 99574_at                           | Znrf2                              | 3783.39990234375                      | 3126.300048828125                     | 2105.39990234375                      | 1684.699951171875                     | zinc and ring finger 2                  | NULL                                | 387524                                    |                                            |                                        |                                                                                                                 | Znrf2                                  |\n",
      "| 104396_at                          | Znrf2                              | 1963.800048828125                     | 1770.9000244140625                    | 943.7000122070312                     | 951.4000244140625                     | zinc and ring finger 2                  | NULL                                | 387524                                    |                                            |                                        |                                                                                                                 | Znrf2                                  |\n",
      "| 104418_at                          | Znrf2                              | 840.2999877929688                     | 919.4000244140625                     | 300.8999938964844                     | 487.1000061035156                     | zinc and ring finger 2                  | NULL                                | 387524                                    |                                            |                                        |                                                                                                                 | Znrf2                                  |\n",
      "| 160455_s_at                        | Zwint                              | 5437.5                                | 6415.7998046875                       | 7748.89990234375                      | 8008.89990234375                      | ZW10 interactor                         | NULL                                |                                           |                                            |                                        | UI-M-BH2.1-apm-d-05-0-UI.s1 NIH_BMAP_M_S3.1 Mus musculus cDNA clone UI-M-BH2.1-apm-d-05-0-UI 3-, mRNA sequence  | zwint                                  |\n",
      "| 99087_at                           | Zwint                              | 3958.699951171875                     | 3107.39990234375                      | 4313.5                                | 4526.7001953125                       | ZW10 interactor                         | NULL                                |                                           |                                            |                                        | UI-M-BH1-amu-d-09-0-UI.s1 NIH_BMAP_M_S2 Mus musculus cDNA clone UI-M-BH1-amu-d-09-0-UI 3-, mRNA sequence        | zwint                                  |\n",
      "+------------------------------------+------------------------------------+---------------------------------------+---------------------------------------+---------------------------------------+---------------------------------------+-----------------------------------------+-------------------------------------+-------------------------------------------+--------------------------------------------+----------------------------------------+-----------------------------------------------------------------------------------------------------------------+----------------------------------------+--+\n",
      "6 rows selected (0.281 seconds)\n",
      "Beeline version 1.1.0-cdh5.7.0 by Apache Hive\n",
      "Closing: 0: jdbc:hive2://localhost:10000/bioinformatica\n"
     ]
    }
   ],
   "source": [
    "! beeline -u \"jdbc:hive2://localhost:10000/bioinformatica\" -e \"select * from datacleanexternalparticionB;\""
   ]
  },
  {
   "cell_type": "code",
   "execution_count": null,
   "metadata": {
    "collapsed": true
   },
   "outputs": [],
   "source": []
  }
 ],
 "metadata": {
  "kernelspec": {
   "display_name": "Python 2",
   "language": "python",
   "name": "python2"
  },
  "language_info": {
   "codemirror_mode": {
    "name": "ipython",
    "version": 2
   },
   "file_extension": ".py",
   "mimetype": "text/x-python",
   "name": "python",
   "nbconvert_exporter": "python",
   "pygments_lexer": "ipython2",
   "version": "2.7.13"
  }
 },
 "nbformat": 4,
 "nbformat_minor": 2
}
