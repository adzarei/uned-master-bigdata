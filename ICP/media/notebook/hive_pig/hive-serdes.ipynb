{
 "cells": [
  {
   "cell_type": "markdown",
   "metadata": {},
   "source": [
    "# Trabajo con serializadors/deserializadores"
   ]
  },
  {
   "cell_type": "markdown",
   "metadata": {},
   "source": [
    "En este ejercicio vamos a trabajar con serializadores/deserializadores (serdes). Vamos a partir de un fichero de datos que contiene registros de un servidor web. Este fichero contiene el registro de acceso siguiendo el formato Apache Common Web Log, que es ampliamente utilizado en los servidores de Internet. Abajo se muestra un ejemplo de una línea de un log siguiendo este formato:\n",
    "\n",
    "127.0.0.1 user-identifier frank [10/Oct/2000:13:55:36 -0700] \"GET /apache_pb.gif HTTP/1.0\" 200 2326\n",
    "    \n",
    "Donde cada dato tiene el siguiente significado:\n",
    "\n",
    "•\t127.0.0.1 es la dirección IP del cliente que ha hecho la petición al servidor. \n",
    "\n",
    "•\tuser-identifier es la identidad del cliente según el RFC 1413.\n",
    "\n",
    "•\tfrank es el identificador de usuario de la persona que solicita el documento.\n",
    "\n",
    "•\t[10/Oct/2000:13:55:36 -0700] es la fecha, hora y zona horaria cuando se recibió la petición.\n",
    "\n",
    "•\t\"GET /apache_pb.gif HTTP/1.0\" es la petición del cliente.\n",
    "\n",
    "•\t200 es el código resultado de HTTP que se envía de vuelta al cliente.\n",
    "\n",
    "•\t2326 es el tamaño del objeto que se retorna al cliente, medido en bytes. \n",
    "\n",
    "Partiendo de este fichero de datos, vamos a crear una base de datos y una tabla que contenga esta información. Tras esto, crearemos una tabla que contenga estos datos salvo el usuario.\n",
    "\n"
   ]
  },
  {
   "cell_type": "code",
   "execution_count": 4,
   "metadata": {
    "collapsed": true
   },
   "outputs": [],
   "source": [
    "! mkdir -p hive-serdes\n",
    "import os\n",
    "os.chdir(\"hive-serdes\")"
   ]
  },
  {
   "cell_type": "code",
   "execution_count": 5,
   "metadata": {},
   "outputs": [
    {
     "name": "stdout",
     "output_type": "stream",
     "text": [
      "/home/cloudera/FrameworkHadoop-privado/Hive/Notebooks/hive-serdes\r\n"
     ]
    }
   ],
   "source": [
    "! pwd"
   ]
  },
  {
   "cell_type": "code",
   "execution_count": 6,
   "metadata": {},
   "outputs": [
    {
     "name": "stdout",
     "output_type": "stream",
     "text": [
      "Writing ejerciciohive.hql\n"
     ]
    }
   ],
   "source": [
    "%%writefile ejerciciohive.hql\n",
    "create database if not exists bdlogs\n",
    "Comment 'BD delogs'\n",
    "Location '/user/cloudera/bdlogs'\n",
    "With dbproperties ('Creada por'='User','Creada el'='26-Dic-2017');"
   ]
  },
  {
   "cell_type": "code",
   "execution_count": 7,
   "metadata": {},
   "outputs": [
    {
     "name": "stdout",
     "output_type": "stream",
     "text": [
      "scan complete in 2ms\n",
      "Connecting to jdbc:hive2://localhost:10000/default\n",
      "Connected to: Apache Hive (version 1.1.0-cdh5.12.0)\n",
      "Driver: Hive JDBC (version 1.1.0-cdh5.12.0)\n",
      "Transaction isolation: TRANSACTION_REPEATABLE_READ\n",
      "0: jdbc:hive2://localhost:10000/default> create database if not exists bdlogs\n",
      ". . . . . . . . . . . . . . . . . . . .> Comment 'BD delogs'\n",
      ". . . . . . . . . . . . . . . . . . . .> Location '/user/cloudera/bdlogs'\n",
      "'Creada el'='26-Dic-2017'); . . . . . .> With dbproperties ('Creada por'='User', \n",
      "INFO  : Compiling command(queryId=hive_20171226001414_25c8d495-e38e-44fe-a029-ad32e1a9ae38): create database if not exists bdlogs\n",
      "Comment 'BD delogs'\n",
      "Location '/user/cloudera/bdlogs'\n",
      "With dbproperties ('Creada por'='User','Creada el'='26-Dic-2017')\n",
      "INFO  : Semantic Analysis Completed\n",
      "INFO  : Returning Hive schema: Schema(fieldSchemas:null, properties:null)\n",
      "INFO  : Completed compiling command(queryId=hive_20171226001414_25c8d495-e38e-44fe-a029-ad32e1a9ae38); Time taken: 0.033 seconds\n",
      "INFO  : Concurrency mode is disabled, not creating a lock manager\n",
      "INFO  : Executing command(queryId=hive_20171226001414_25c8d495-e38e-44fe-a029-ad32e1a9ae38): create database if not exists bdlogs\n",
      "Comment 'BD delogs'\n",
      "Location '/user/cloudera/bdlogs'\n",
      "With dbproperties ('Creada por'='User','Creada el'='26-Dic-2017')\n",
      "INFO  : Starting task [Stage-0:DDL] in serial mode\n",
      "INFO  : Completed executing command(queryId=hive_20171226001414_25c8d495-e38e-44fe-a029-ad32e1a9ae38); Time taken: 0.047 seconds\n",
      "INFO  : OK\n",
      "No rows affected (0.133 seconds)\n",
      "0: jdbc:hive2://localhost:10000/default> \n",
      "Closing: 0: jdbc:hive2://localhost:10000/default\n"
     ]
    }
   ],
   "source": [
    "! beeline -u \"jdbc:hive2://localhost:10000/default\" -f ejerciciohive.hql"
   ]
  },
  {
   "cell_type": "code",
   "execution_count": 8,
   "metadata": {
    "collapsed": true
   },
   "outputs": [],
   "source": [
    "! hadoop fs -put ../common_access_log.txt /user/cloudera"
   ]
  },
  {
   "cell_type": "code",
   "execution_count": 11,
   "metadata": {},
   "outputs": [
    {
     "name": "stdout",
     "output_type": "stream",
     "text": [
      "Overwriting ejerciciohive.hql\n"
     ]
    }
   ],
   "source": [
    "%%writefile ejerciciohive.hql\n",
    "CREATE TABLE apache_common_log (\n",
    "  host STRING,\n",
    "  identity STRING,\n",
    "  user STRING,\n",
    "  time STRING,\n",
    "  request STRING,\n",
    "  status STRING,\n",
    "  size STRING\n",
    "  )\n",
    "ROW FORMAT SERDE 'org.apache.hadoop.hive.serde2.RegexSerDe'\n",
    "WITH SERDEPROPERTIES (\n",
    "  \"input.regex\" = \"([^ ]*) ([^ ]*) ([^ ]*) (-|\\\\[[^\\\\]]*\\\\]) ([^ \\\"]*|\\\"[^\\\"]*\\\") (-|[0-9]*) (-|[0-9]*)\"\n",
    ");\n",
    "LOAD DATA INPATH '/user/cloudera/common_access_log.txt' INTO TABLE apache_common_log;"
   ]
  },
  {
   "cell_type": "code",
   "execution_count": 12,
   "metadata": {},
   "outputs": [
    {
     "name": "stdout",
     "output_type": "stream",
     "text": [
      "scan complete in 2ms\n",
      "Connecting to jdbc:hive2://localhost:10000/bdlogs\n",
      "Connected to: Apache Hive (version 1.1.0-cdh5.12.0)\n",
      "Driver: Hive JDBC (version 1.1.0-cdh5.12.0)\n",
      "Transaction isolation: TRANSACTION_REPEATABLE_READ\n",
      "0: jdbc:hive2://localhost:10000/bdlogs> CREATE TABLE apache_common_log (\n",
      ". . . . . . . . . . . . . . . . . . . >   host STRING,\n",
      ". . . . . . . . . . . . . . . . . . . >   identity STRING,\n",
      ". . . . . . . . . . . . . . . . . . . >   user STRING,\n",
      ". . . . . . . . . . . . . . . . . . . >   time STRING,\n",
      ". . . . . . . . . . . . . . . . . . . >   request STRING,\n",
      ". . . . . . . . . . . . . . . . . . . >   status STRING,\n",
      ". . . . . . . . . . . . . . . . . . . >   size STRING\n",
      ". . . . . . . . . . . . . . . . . . . >   )\n",
      ".serde2.RegexSerDe' . . . . . . . . . > ROW FORMAT SERDE 'org.apache.hadoop.hive \n",
      ". . . . . . . . . . . . . . . . . . . > WITH SERDEPROPERTIES (\n",
      "*) (-|\\\\[[^\\\\]]*\\\\]) ([^ \\\"]*|\\\"[^\\\"]*\\\") (-|[0-9]*) (-|[0-9]*)\"*) ([^ ]*) ([^ ] \n",
      ". . . . . . . . . . . . . . . . . . . > );\n",
      "INFO  : Compiling command(queryId=hive_20171226002121_45889685-a3ca-42cc-affa-f471f07ebd65): CREATE TABLE apache_common_log (\n",
      "host STRING,\n",
      "identity STRING,\n",
      "user STRING,\n",
      "time STRING,\n",
      "request STRING,\n",
      "status STRING,\n",
      "size STRING\n",
      ")\n",
      "ROW FORMAT SERDE 'org.apache.hadoop.hive.serde2.RegexSerDe'\n",
      "WITH SERDEPROPERTIES (\n",
      "\"input.regex\" = \"([^ ]*) ([^ ]*) ([^ ]*) (-|\\\\[[^\\\\]]*\\\\]) ([^ \\\"]*|\\\"[^\\\"]*\\\") (-|[0-9]*) (-|[0-9]*)\"\n",
      ")\n",
      "INFO  : Semantic Analysis Completed\n",
      "INFO  : Returning Hive schema: Schema(fieldSchemas:null, properties:null)\n",
      "INFO  : Completed compiling command(queryId=hive_20171226002121_45889685-a3ca-42cc-affa-f471f07ebd65); Time taken: 0.047 seconds\n",
      "INFO  : Concurrency mode is disabled, not creating a lock manager\n",
      "INFO  : Executing command(queryId=hive_20171226002121_45889685-a3ca-42cc-affa-f471f07ebd65): CREATE TABLE apache_common_log (\n",
      "host STRING,\n",
      "identity STRING,\n",
      "user STRING,\n",
      "time STRING,\n",
      "request STRING,\n",
      "status STRING,\n",
      "size STRING\n",
      ")\n",
      "ROW FORMAT SERDE 'org.apache.hadoop.hive.serde2.RegexSerDe'\n",
      "WITH SERDEPROPERTIES (\n",
      "\"input.regex\" = \"([^ ]*) ([^ ]*) ([^ ]*) (-|\\\\[[^\\\\]]*\\\\]) ([^ \\\"]*|\\\"[^\\\"]*\\\") (-|[0-9]*) (-|[0-9]*)\"\n",
      ")\n",
      "INFO  : Starting task [Stage-0:DDL] in serial mode\n",
      "INFO  : Completed executing command(queryId=hive_20171226002121_45889685-a3ca-42cc-affa-f471f07ebd65); Time taken: 0.039 seconds\n",
      "INFO  : OK\n",
      "No rows affected (0.13 seconds)\n",
      "access_log.txt' INTO TABLE apache_common_log;DATA INPATH '/user/cloudera/common_ \n",
      "INFO  : Compiling command(queryId=hive_20171226002121_5ace1c0a-b76f-4a2f-80f7-2668ad8fcd30): LOAD DATA INPATH '/user/cloudera/common_access_log.txt' INTO TABLE apache_common_log\n",
      "INFO  : Semantic Analysis Completed\n",
      "INFO  : Returning Hive schema: Schema(fieldSchemas:null, properties:null)\n",
      "INFO  : Completed compiling command(queryId=hive_20171226002121_5ace1c0a-b76f-4a2f-80f7-2668ad8fcd30); Time taken: 0.067 seconds\n",
      "INFO  : Concurrency mode is disabled, not creating a lock manager\n",
      "INFO  : Executing command(queryId=hive_20171226002121_5ace1c0a-b76f-4a2f-80f7-2668ad8fcd30): LOAD DATA INPATH '/user/cloudera/common_access_log.txt' INTO TABLE apache_common_log\n",
      "INFO  : Starting task [Stage-0:MOVE] in serial mode\n",
      "INFO  : Loading data to table bdlogs.apache_common_log from hdfs://quickstart.cloudera:8020/user/cloudera/common_access_log.txt\n",
      "INFO  : Starting task [Stage-1:STATS] in serial mode\n",
      "INFO  : Table bdlogs.apache_common_log stats: [numFiles=1, totalSize=174449]\n",
      "INFO  : Completed executing command(queryId=hive_20171226002121_5ace1c0a-b76f-4a2f-80f7-2668ad8fcd30); Time taken: 0.25 seconds\n",
      "INFO  : OK\n",
      "No rows affected (0.327 seconds)\n",
      "0: jdbc:hive2://localhost:10000/bdlogs> \n",
      "Closing: 0: jdbc:hive2://localhost:10000/bdlogs\n"
     ]
    }
   ],
   "source": [
    "! beeline -u \"jdbc:hive2://localhost:10000/bdlogs\" -f ejerciciohive.hql"
   ]
  },
  {
   "cell_type": "code",
   "execution_count": 13,
   "metadata": {},
   "outputs": [
    {
     "name": "stdout",
     "output_type": "stream",
     "text": [
      "scan complete in 2ms\n",
      "Connecting to jdbc:hive2://localhost:10000/bdlogs\n",
      "Connected to: Apache Hive (version 1.1.0-cdh5.12.0)\n",
      "Driver: Hive JDBC (version 1.1.0-cdh5.12.0)\n",
      "Transaction isolation: TRANSACTION_REPEATABLE_READ\n",
      "INFO  : Compiling command(queryId=hive_20171226002222_ce50375c-6934-440a-8c2f-3175b911daa7): select count(distinct host) from apache_common_log\n",
      "INFO  : Semantic Analysis Completed\n",
      "INFO  : Returning Hive schema: Schema(fieldSchemas:[FieldSchema(name:_c0, type:bigint, comment:null)], properties:null)\n",
      "INFO  : Completed compiling command(queryId=hive_20171226002222_ce50375c-6934-440a-8c2f-3175b911daa7); Time taken: 0.094 seconds\n",
      "INFO  : Concurrency mode is disabled, not creating a lock manager\n",
      "INFO  : Executing command(queryId=hive_20171226002222_ce50375c-6934-440a-8c2f-3175b911daa7): select count(distinct host) from apache_common_log\n",
      "INFO  : Query ID = hive_20171226002222_ce50375c-6934-440a-8c2f-3175b911daa7\n",
      "INFO  : Total jobs = 1\n",
      "INFO  : Launching Job 1 out of 1\n",
      "INFO  : Starting task [Stage-1:MAPRED] in serial mode\n",
      "INFO  : Number of reduce tasks determined at compile time: 1\n",
      "INFO  : In order to change the average load for a reducer (in bytes):\n",
      "INFO  :   set hive.exec.reducers.bytes.per.reducer=<number>\n",
      "INFO  : In order to limit the maximum number of reducers:\n",
      "INFO  :   set hive.exec.reducers.max=<number>\n",
      "INFO  : In order to set a constant number of reducers:\n",
      "INFO  :   set mapreduce.job.reduces=<number>\n",
      "INFO  : Starting Job = job_1514266544861_0012, Tracking URL = http://quickstart.cloudera:8088/proxy/application_1514266544861_0012/\n",
      "INFO  : Kill Command = /usr/lib/hadoop/bin/hadoop job  -kill job_1514266544861_0012\n",
      "INFO  : Hadoop job information for Stage-1: number of mappers: 1; number of reducers: 1\n",
      "INFO  : 2017-12-26 00:22:19,336 Stage-1 map = 0%,  reduce = 0%\n",
      "INFO  : 2017-12-26 00:22:25,603 Stage-1 map = 100%,  reduce = 0%, Cumulative CPU 1.06 sec\n",
      "INFO  : 2017-12-26 00:22:32,894 Stage-1 map = 100%,  reduce = 100%, Cumulative CPU 2.55 sec\n",
      "INFO  : MapReduce Total cumulative CPU time: 2 seconds 550 msec\n",
      "INFO  : Ended Job = job_1514266544861_0012\n",
      "INFO  : MapReduce Jobs Launched: \n",
      "INFO  : Stage-Stage-1: Map: 1  Reduce: 1   Cumulative CPU: 2.55 sec   HDFS Read: 182033 HDFS Write: 4 SUCCESS\n",
      "INFO  : Total MapReduce CPU Time Spent: 2 seconds 550 msec\n",
      "INFO  : Completed executing command(queryId=hive_20171226002222_ce50375c-6934-440a-8c2f-3175b911daa7); Time taken: 20.676 seconds\n",
      "INFO  : OK\n",
      "+------+--+\n",
      "| _c0  |\n",
      "+------+--+\n",
      "| 172  |\n",
      "+------+--+\n",
      "1 row selected (20.845 seconds)\n",
      "Beeline version 1.1.0-cdh5.12.0 by Apache Hive\n",
      "Closing: 0: jdbc:hive2://localhost:10000/bdlogs\n"
     ]
    }
   ],
   "source": [
    "! beeline -u \"jdbc:hive2://localhost:10000/bdlogs\" -e \"select count(distinct host) from apache_common_log ;\""
   ]
  },
  {
   "cell_type": "code",
   "execution_count": 14,
   "metadata": {},
   "outputs": [
    {
     "name": "stdout",
     "output_type": "stream",
     "text": [
      "scan complete in 2ms\n",
      "Connecting to jdbc:hive2://localhost:10000/bdlogs\n",
      "Connected to: Apache Hive (version 1.1.0-cdh5.12.0)\n",
      "Driver: Hive JDBC (version 1.1.0-cdh5.12.0)\n",
      "Transaction isolation: TRANSACTION_REPEATABLE_READ\n",
      "INFO  : Compiling command(queryId=hive_20171226002222_fa900db5-17b6-453a-9803-913aa48956a0): select count(host) from apache_common_log\n",
      "INFO  : Semantic Analysis Completed\n",
      "INFO  : Returning Hive schema: Schema(fieldSchemas:[FieldSchema(name:_c0, type:bigint, comment:null)], properties:null)\n",
      "INFO  : Completed compiling command(queryId=hive_20171226002222_fa900db5-17b6-453a-9803-913aa48956a0); Time taken: 0.083 seconds\n",
      "INFO  : Concurrency mode is disabled, not creating a lock manager\n",
      "INFO  : Executing command(queryId=hive_20171226002222_fa900db5-17b6-453a-9803-913aa48956a0): select count(host) from apache_common_log\n",
      "INFO  : Query ID = hive_20171226002222_fa900db5-17b6-453a-9803-913aa48956a0\n",
      "INFO  : Total jobs = 1\n",
      "INFO  : Launching Job 1 out of 1\n",
      "INFO  : Starting task [Stage-1:MAPRED] in serial mode\n",
      "INFO  : Number of reduce tasks determined at compile time: 1\n",
      "INFO  : In order to change the average load for a reducer (in bytes):\n",
      "INFO  :   set hive.exec.reducers.bytes.per.reducer=<number>\n",
      "INFO  : In order to limit the maximum number of reducers:\n",
      "INFO  :   set hive.exec.reducers.max=<number>\n",
      "INFO  : In order to set a constant number of reducers:\n",
      "INFO  :   set mapreduce.job.reduces=<number>\n",
      "INFO  : Starting Job = job_1514266544861_0013, Tracking URL = http://quickstart.cloudera:8088/proxy/application_1514266544861_0013/\n",
      "INFO  : Kill Command = /usr/lib/hadoop/bin/hadoop job  -kill job_1514266544861_0013\n",
      "INFO  : Hadoop job information for Stage-1: number of mappers: 1; number of reducers: 1\n",
      "INFO  : 2017-12-26 00:22:55,130 Stage-1 map = 0%,  reduce = 0%\n",
      "INFO  : 2017-12-26 00:23:00,388 Stage-1 map = 100%,  reduce = 0%, Cumulative CPU 1.06 sec\n",
      "INFO  : 2017-12-26 00:23:06,622 Stage-1 map = 100%,  reduce = 100%, Cumulative CPU 2.49 sec\n",
      "INFO  : MapReduce Total cumulative CPU time: 2 seconds 490 msec\n",
      "INFO  : Ended Job = job_1514266544861_0013\n",
      "INFO  : MapReduce Jobs Launched: \n",
      "INFO  : Stage-Stage-1: Map: 1  Reduce: 1   Cumulative CPU: 2.49 sec   HDFS Read: 181884 HDFS Write: 5 SUCCESS\n",
      "INFO  : Total MapReduce CPU Time Spent: 2 seconds 490 msec\n",
      "INFO  : Completed executing command(queryId=hive_20171226002222_fa900db5-17b6-453a-9803-913aa48956a0); Time taken: 18.653 seconds\n",
      "INFO  : OK\n",
      "+-------+--+\n",
      "|  _c0  |\n",
      "+-------+--+\n",
      "| 1546  |\n",
      "+-------+--+\n",
      "1 row selected (18.796 seconds)\n",
      "Beeline version 1.1.0-cdh5.12.0 by Apache Hive\n",
      "Closing: 0: jdbc:hive2://localhost:10000/bdlogs\n"
     ]
    }
   ],
   "source": [
    "! beeline -u \"jdbc:hive2://localhost:10000/bdlogs\" -e \"select count(host) from apache_common_log ;\""
   ]
  },
  {
   "cell_type": "markdown",
   "metadata": {},
   "source": [
    "Ahora creamos la segunda tabla, que contiene la misma información salvo el usuario."
   ]
  },
  {
   "cell_type": "code",
   "execution_count": 15,
   "metadata": {
    "collapsed": true
   },
   "outputs": [],
   "source": [
    "! hadoop fs -put ../common_access_log.txt /user/cloudera"
   ]
  },
  {
   "cell_type": "code",
   "execution_count": 16,
   "metadata": {},
   "outputs": [
    {
     "name": "stdout",
     "output_type": "stream",
     "text": [
      "Overwriting ejerciciohive.hql\n"
     ]
    }
   ],
   "source": [
    "%%writefile ejerciciohive.hql\n",
    "CREATE TABLE apache_common_log_nouser (\n",
    "  host STRING,\n",
    "  identity STRING,\n",
    "  time STRING,\n",
    "  request STRING,\n",
    "  status STRING,\n",
    "  size STRING\n",
    "  )\n",
    "ROW FORMAT SERDE 'org.apache.hadoop.hive.serde2.RegexSerDe'\n",
    "WITH SERDEPROPERTIES (\n",
    "  \"input.regex\" = \"([^ ]*) ([^ ]*) [^ ]* (-|\\\\[[^\\\\]]*\\\\]) ([^ \\\"]*|\\\"[^\\\"]*\\\") (-|[0-9]*) (-|[0-9]*)\"\n",
    ");\n",
    "LOAD DATA INPATH '/user/cloudera/common_access_log.txt' INTO TABLE apache_common_log_nouser;"
   ]
  },
  {
   "cell_type": "code",
   "execution_count": 17,
   "metadata": {},
   "outputs": [
    {
     "name": "stdout",
     "output_type": "stream",
     "text": [
      "scan complete in 2ms\n",
      "Connecting to jdbc:hive2://localhost:10000/bdlogs\n",
      "Connected to: Apache Hive (version 1.1.0-cdh5.12.0)\n",
      "Driver: Hive JDBC (version 1.1.0-cdh5.12.0)\n",
      "Transaction isolation: TRANSACTION_REPEATABLE_READ\n",
      "0: jdbc:hive2://localhost:10000/bdlogs> CREATE TABLE apache_common_log_nouser (\n",
      ". . . . . . . . . . . . . . . . . . . >   host STRING,\n",
      ". . . . . . . . . . . . . . . . . . . >   identity STRING,\n",
      ". . . . . . . . . . . . . . . . . . . >   time STRING,\n",
      ". . . . . . . . . . . . . . . . . . . >   request STRING,\n",
      ". . . . . . . . . . . . . . . . . . . >   status STRING,\n",
      ". . . . . . . . . . . . . . . . . . . >   size STRING\n",
      ". . . . . . . . . . . . . . . . . . . >   )\n",
      ".serde2.RegexSerDe' . . . . . . . . . > ROW FORMAT SERDE 'org.apache.hadoop.hive \n",
      ". . . . . . . . . . . . . . . . . . . > WITH SERDEPROPERTIES (\n",
      " (-|\\\\[[^\\\\]]*\\\\]) ([^ \\\"]*|\\\"[^\\\"]*\\\") (-|[0-9]*) (-|[0-9]*)\" ]*) ([^ ]*) [^ ]* \n",
      ". . . . . . . . . . . . . . . . . . . > );\n",
      "INFO  : Compiling command(queryId=hive_20171226002626_44707c61-d1d6-42bf-a94d-183192aaab9f): CREATE TABLE apache_common_log_nouser (\n",
      "host STRING,\n",
      "identity STRING,\n",
      "time STRING,\n",
      "request STRING,\n",
      "status STRING,\n",
      "size STRING\n",
      ")\n",
      "ROW FORMAT SERDE 'org.apache.hadoop.hive.serde2.RegexSerDe'\n",
      "WITH SERDEPROPERTIES (\n",
      "\"input.regex\" = \"([^ ]*) ([^ ]*) [^ ]* (-|\\\\[[^\\\\]]*\\\\]) ([^ \\\"]*|\\\"[^\\\"]*\\\") (-|[0-9]*) (-|[0-9]*)\"\n",
      ")\n",
      "INFO  : Semantic Analysis Completed\n",
      "INFO  : Returning Hive schema: Schema(fieldSchemas:null, properties:null)\n",
      "INFO  : Completed compiling command(queryId=hive_20171226002626_44707c61-d1d6-42bf-a94d-183192aaab9f); Time taken: 0.055 seconds\n",
      "INFO  : Concurrency mode is disabled, not creating a lock manager\n",
      "INFO  : Executing command(queryId=hive_20171226002626_44707c61-d1d6-42bf-a94d-183192aaab9f): CREATE TABLE apache_common_log_nouser (\n",
      "host STRING,\n",
      "identity STRING,\n",
      "time STRING,\n",
      "request STRING,\n",
      "status STRING,\n",
      "size STRING\n",
      ")\n",
      "ROW FORMAT SERDE 'org.apache.hadoop.hive.serde2.RegexSerDe'\n",
      "WITH SERDEPROPERTIES (\n",
      "\"input.regex\" = \"([^ ]*) ([^ ]*) [^ ]* (-|\\\\[[^\\\\]]*\\\\]) ([^ \\\"]*|\\\"[^\\\"]*\\\") (-|[0-9]*) (-|[0-9]*)\"\n",
      ")\n",
      "INFO  : Starting task [Stage-0:DDL] in serial mode\n",
      "INFO  : Completed executing command(queryId=hive_20171226002626_44707c61-d1d6-42bf-a94d-183192aaab9f); Time taken: 0.044 seconds\n",
      "INFO  : OK\n",
      "No rows affected (0.156 seconds)\n",
      "access_log.txt' INTO TABLE apache_common_log_nouser;PATH '/user/cloudera/common_ \n",
      "INFO  : Compiling command(queryId=hive_20171226002626_943c4152-7f88-42b5-a505-ec6190272529): LOAD DATA INPATH '/user/cloudera/common_access_log.txt' INTO TABLE apache_common_log_nouser\n",
      "INFO  : Semantic Analysis Completed\n",
      "INFO  : Returning Hive schema: Schema(fieldSchemas:null, properties:null)\n",
      "INFO  : Completed compiling command(queryId=hive_20171226002626_943c4152-7f88-42b5-a505-ec6190272529); Time taken: 0.067 seconds\n",
      "INFO  : Concurrency mode is disabled, not creating a lock manager\n",
      "INFO  : Executing command(queryId=hive_20171226002626_943c4152-7f88-42b5-a505-ec6190272529): LOAD DATA INPATH '/user/cloudera/common_access_log.txt' INTO TABLE apache_common_log_nouser\n",
      "INFO  : Starting task [Stage-0:MOVE] in serial mode\n",
      "INFO  : Loading data to table bdlogs.apache_common_log_nouser from hdfs://quickstart.cloudera:8020/user/cloudera/common_access_log.txt\n",
      "INFO  : Starting task [Stage-1:STATS] in serial mode\n",
      "INFO  : Table bdlogs.apache_common_log_nouser stats: [numFiles=1, totalSize=174449]\n",
      "INFO  : Completed executing command(queryId=hive_20171226002626_943c4152-7f88-42b5-a505-ec6190272529); Time taken: 0.253 seconds\n",
      "INFO  : OK\n",
      "No rows affected (0.328 seconds)\n",
      "0: jdbc:hive2://localhost:10000/bdlogs> \n",
      "Closing: 0: jdbc:hive2://localhost:10000/bdlogs\n"
     ]
    }
   ],
   "source": [
    "! beeline -u \"jdbc:hive2://localhost:10000/bdlogs\" -f ejerciciohive.hql"
   ]
  },
  {
   "cell_type": "code",
   "execution_count": 18,
   "metadata": {},
   "outputs": [
    {
     "name": "stdout",
     "output_type": "stream",
     "text": [
      "scan complete in 2ms\n",
      "Connecting to jdbc:hive2://localhost:10000/bdlogs\n",
      "Connected to: Apache Hive (version 1.1.0-cdh5.12.0)\n",
      "Driver: Hive JDBC (version 1.1.0-cdh5.12.0)\n",
      "Transaction isolation: TRANSACTION_REPEATABLE_READ\n",
      "INFO  : Compiling command(queryId=hive_20171226002626_632b51d0-25a6-40cc-ad86-f4a28daf1839): select count(host) from apache_common_log_nouser\n",
      "INFO  : Semantic Analysis Completed\n",
      "INFO  : Returning Hive schema: Schema(fieldSchemas:[FieldSchema(name:_c0, type:bigint, comment:null)], properties:null)\n",
      "INFO  : Completed compiling command(queryId=hive_20171226002626_632b51d0-25a6-40cc-ad86-f4a28daf1839); Time taken: 0.091 seconds\n",
      "INFO  : Concurrency mode is disabled, not creating a lock manager\n",
      "INFO  : Executing command(queryId=hive_20171226002626_632b51d0-25a6-40cc-ad86-f4a28daf1839): select count(host) from apache_common_log_nouser\n",
      "INFO  : Query ID = hive_20171226002626_632b51d0-25a6-40cc-ad86-f4a28daf1839\n",
      "INFO  : Total jobs = 1\n",
      "INFO  : Launching Job 1 out of 1\n",
      "INFO  : Starting task [Stage-1:MAPRED] in serial mode\n",
      "INFO  : Number of reduce tasks determined at compile time: 1\n",
      "INFO  : In order to change the average load for a reducer (in bytes):\n",
      "INFO  :   set hive.exec.reducers.bytes.per.reducer=<number>\n",
      "INFO  : In order to limit the maximum number of reducers:\n",
      "INFO  :   set hive.exec.reducers.max=<number>\n",
      "INFO  : In order to set a constant number of reducers:\n",
      "INFO  :   set mapreduce.job.reduces=<number>\n",
      "INFO  : Starting Job = job_1514266544861_0014, Tracking URL = http://quickstart.cloudera:8088/proxy/application_1514266544861_0014/\n",
      "INFO  : Kill Command = /usr/lib/hadoop/bin/hadoop job  -kill job_1514266544861_0014\n",
      "INFO  : Hadoop job information for Stage-1: number of mappers: 1; number of reducers: 1\n",
      "INFO  : 2017-12-26 00:26:46,774 Stage-1 map = 0%,  reduce = 0%\n",
      "INFO  : 2017-12-26 00:26:52,011 Stage-1 map = 100%,  reduce = 0%, Cumulative CPU 1.04 sec\n",
      "INFO  : 2017-12-26 00:26:57,228 Stage-1 map = 100%,  reduce = 100%, Cumulative CPU 2.51 sec\n",
      "INFO  : MapReduce Total cumulative CPU time: 2 seconds 510 msec\n",
      "INFO  : Ended Job = job_1514266544861_0014\n",
      "INFO  : MapReduce Jobs Launched: \n",
      "INFO  : Stage-Stage-1: Map: 1  Reduce: 1   Cumulative CPU: 2.51 sec   HDFS Read: 181781 HDFS Write: 5 SUCCESS\n",
      "INFO  : Total MapReduce CPU Time Spent: 2 seconds 510 msec\n",
      "INFO  : Completed executing command(queryId=hive_20171226002626_632b51d0-25a6-40cc-ad86-f4a28daf1839); Time taken: 18.142 seconds\n",
      "INFO  : OK\n",
      "+-------+--+\n",
      "|  _c0  |\n",
      "+-------+--+\n",
      "| 1546  |\n",
      "+-------+--+\n",
      "1 row selected (18.294 seconds)\n",
      "Beeline version 1.1.0-cdh5.12.0 by Apache Hive\n",
      "Closing: 0: jdbc:hive2://localhost:10000/bdlogs\n"
     ]
    }
   ],
   "source": [
    "! beeline -u \"jdbc:hive2://localhost:10000/bdlogs\" -e \"select count(host) from apache_common_log_nouser ;\""
   ]
  },
  {
   "cell_type": "code",
   "execution_count": 19,
   "metadata": {},
   "outputs": [
    {
     "name": "stdout",
     "output_type": "stream",
     "text": [
      "scan complete in 1ms\n",
      "Connecting to jdbc:hive2://localhost:10000/bdlogs\n",
      "Connected to: Apache Hive (version 1.1.0-cdh5.12.0)\n",
      "Driver: Hive JDBC (version 1.1.0-cdh5.12.0)\n",
      "Transaction isolation: TRANSACTION_REPEATABLE_READ\n",
      "INFO  : Compiling command(queryId=hive_20171226002727_52202781-a27d-4c9b-b7b7-cf5627a3e513): select count(distinct host) from apache_common_log_nouser\n",
      "INFO  : Semantic Analysis Completed\n",
      "INFO  : Returning Hive schema: Schema(fieldSchemas:[FieldSchema(name:_c0, type:bigint, comment:null)], properties:null)\n",
      "INFO  : Completed compiling command(queryId=hive_20171226002727_52202781-a27d-4c9b-b7b7-cf5627a3e513); Time taken: 0.088 seconds\n",
      "INFO  : Concurrency mode is disabled, not creating a lock manager\n",
      "INFO  : Executing command(queryId=hive_20171226002727_52202781-a27d-4c9b-b7b7-cf5627a3e513): select count(distinct host) from apache_common_log_nouser\n",
      "INFO  : Query ID = hive_20171226002727_52202781-a27d-4c9b-b7b7-cf5627a3e513\n",
      "INFO  : Total jobs = 1\n",
      "INFO  : Launching Job 1 out of 1\n",
      "INFO  : Starting task [Stage-1:MAPRED] in serial mode\n",
      "INFO  : Number of reduce tasks determined at compile time: 1\n",
      "INFO  : In order to change the average load for a reducer (in bytes):\n",
      "INFO  :   set hive.exec.reducers.bytes.per.reducer=<number>\n",
      "INFO  : In order to limit the maximum number of reducers:\n",
      "INFO  :   set hive.exec.reducers.max=<number>\n",
      "INFO  : In order to set a constant number of reducers:\n",
      "INFO  :   set mapreduce.job.reduces=<number>\n",
      "INFO  : Starting Job = job_1514266544861_0015, Tracking URL = http://quickstart.cloudera:8088/proxy/application_1514266544861_0015/\n",
      "INFO  : Kill Command = /usr/lib/hadoop/bin/hadoop job  -kill job_1514266544861_0015\n",
      "INFO  : Hadoop job information for Stage-1: number of mappers: 1; number of reducers: 1\n",
      "INFO  : 2017-12-26 00:27:33,970 Stage-1 map = 0%,  reduce = 0%\n",
      "INFO  : 2017-12-26 00:27:39,190 Stage-1 map = 100%,  reduce = 0%, Cumulative CPU 1.13 sec\n",
      "INFO  : 2017-12-26 00:27:45,438 Stage-1 map = 100%,  reduce = 100%, Cumulative CPU 2.59 sec\n",
      "INFO  : MapReduce Total cumulative CPU time: 2 seconds 590 msec\n",
      "INFO  : Ended Job = job_1514266544861_0015\n",
      "INFO  : MapReduce Jobs Launched: \n",
      "INFO  : Stage-Stage-1: Map: 1  Reduce: 1   Cumulative CPU: 2.59 sec   HDFS Read: 182063 HDFS Write: 4 SUCCESS\n",
      "INFO  : Total MapReduce CPU Time Spent: 2 seconds 590 msec\n",
      "INFO  : Completed executing command(queryId=hive_20171226002727_52202781-a27d-4c9b-b7b7-cf5627a3e513); Time taken: 18.563 seconds\n",
      "INFO  : OK\n",
      "+------+--+\n",
      "| _c0  |\n",
      "+------+--+\n",
      "| 172  |\n",
      "+------+--+\n",
      "1 row selected (18.716 seconds)\n",
      "Beeline version 1.1.0-cdh5.12.0 by Apache Hive\n",
      "Closing: 0: jdbc:hive2://localhost:10000/bdlogs\n"
     ]
    }
   ],
   "source": [
    "! beeline -u \"jdbc:hive2://localhost:10000/bdlogs\" -e \"select count(distinct host) from apache_common_log_nouser;\""
   ]
  },
  {
   "cell_type": "code",
   "execution_count": null,
   "metadata": {
    "collapsed": true
   },
   "outputs": [],
   "source": []
  }
 ],
 "metadata": {
  "kernelspec": {
   "display_name": "Python 2",
   "language": "python",
   "name": "python2"
  },
  "language_info": {
   "codemirror_mode": {
    "name": "ipython",
    "version": 2
   },
   "file_extension": ".py",
   "mimetype": "text/x-python",
   "name": "python",
   "nbconvert_exporter": "python",
   "pygments_lexer": "ipython2",
   "version": "2.7.14"
  }
 },
 "nbformat": 4,
 "nbformat_minor": 2
}
