{
 "cells": [
  {
   "cell_type": "markdown",
   "metadata": {},
   "source": [
    "## Reuniones"
   ]
  },
  {
   "cell_type": "code",
   "execution_count": 1,
   "metadata": {
    "collapsed": true
   },
   "outputs": [],
   "source": [
    "! mkdir -p hive-reuniones\n",
    "import os\n",
    "os.chdir(\"hive-reuniones\")"
   ]
  },
  {
   "cell_type": "code",
   "execution_count": 2,
   "metadata": {},
   "outputs": [
    {
     "name": "stdout",
     "output_type": "stream",
     "text": [
      "/home/cloudera/FrameworkHadoop-privado/Hive/Notebooks/hive-reuniones\r\n"
     ]
    }
   ],
   "source": [
    "! pwd"
   ]
  },
  {
   "cell_type": "code",
   "execution_count": 4,
   "metadata": {},
   "outputs": [
    {
     "name": "stdout",
     "output_type": "stream",
     "text": [
      "put: `/user/cloudera/clientes.dat': File exists\r\n"
     ]
    }
   ],
   "source": [
    "! hadoop fs -put ../clientes.dat /user/cloudera\n",
    "! hadoop fs -put ../paises.dat /user/cloudera"
   ]
  },
  {
   "cell_type": "code",
   "execution_count": 6,
   "metadata": {},
   "outputs": [
    {
     "name": "stdout",
     "output_type": "stream",
     "text": [
      "Overwriting ejerciciohive.hql\n"
     ]
    }
   ],
   "source": [
    "%%writefile ejerciciohive.hql\n",
    "create database if not exists clientes\n",
    "Comment 'BD de clientes y paises'\n",
    "Location '/user/cloudera/bdclientes'\n",
    "With dbproperties ('Creada por'='User','Creada el'='26-Dic-2017');\n"
   ]
  },
  {
   "cell_type": "code",
   "execution_count": 7,
   "metadata": {},
   "outputs": [
    {
     "name": "stdout",
     "output_type": "stream",
     "text": [
      "scan complete in 2ms\n",
      "Connecting to jdbc:hive2://localhost:10000/default\n",
      "Connected to: Apache Hive (version 1.1.0-cdh5.12.0)\n",
      "Driver: Hive JDBC (version 1.1.0-cdh5.12.0)\n",
      "Transaction isolation: TRANSACTION_REPEATABLE_READ\n",
      "0: jdbc:hive2://localhost:10000/default> create database if not exists clientes\n",
      ". . . . . . . . . . . . . . . . . . . .> Comment 'BD de clientes y paises'\n",
      ". . . . . . . . . . . . . . . . . . . .> Location '/user/cloudera/bdclientes'\n",
      "'Creada el'='26-Dic-2017'); . . . . . .> With dbproperties ('Creada por'='User', \n",
      "INFO  : Compiling command(queryId=hive_20171225234848_6e1d3938-726f-40a7-8d9c-a3ded816459a): create database if not exists clientes\n",
      "Comment 'BD de clientes y paises'\n",
      "Location '/user/cloudera/bdclientes'\n",
      "With dbproperties ('Creada por'='User','Creada el'='26-Dic-2017')\n",
      "INFO  : Semantic Analysis Completed\n",
      "INFO  : Returning Hive schema: Schema(fieldSchemas:null, properties:null)\n",
      "INFO  : Completed compiling command(queryId=hive_20171225234848_6e1d3938-726f-40a7-8d9c-a3ded816459a); Time taken: 0.032 seconds\n",
      "INFO  : Concurrency mode is disabled, not creating a lock manager\n",
      "INFO  : Executing command(queryId=hive_20171225234848_6e1d3938-726f-40a7-8d9c-a3ded816459a): create database if not exists clientes\n",
      "Comment 'BD de clientes y paises'\n",
      "Location '/user/cloudera/bdclientes'\n",
      "With dbproperties ('Creada por'='User','Creada el'='26-Dic-2017')\n",
      "INFO  : Starting task [Stage-0:DDL] in serial mode\n",
      "INFO  : Completed executing command(queryId=hive_20171225234848_6e1d3938-726f-40a7-8d9c-a3ded816459a); Time taken: 0.047 seconds\n",
      "INFO  : OK\n",
      "No rows affected (0.124 seconds)\n",
      "0: jdbc:hive2://localhost:10000/default> \n",
      "Closing: 0: jdbc:hive2://localhost:10000/default\n"
     ]
    }
   ],
   "source": [
    "! beeline -u \"jdbc:hive2://localhost:10000/default\" -f ejerciciohive.hql"
   ]
  },
  {
   "cell_type": "code",
   "execution_count": 9,
   "metadata": {},
   "outputs": [
    {
     "name": "stdout",
     "output_type": "stream",
     "text": [
      "Overwriting ejerciciohive.hql\n"
     ]
    }
   ],
   "source": [
    "%%writefile ejerciciohive.hql\n",
    "create table clientes (\n",
    "  nombre  STRING,   \n",
    "  calidad  STRING,\n",
    "  pais STRING) \n",
    "ROW FORMAT DELIMITED FIELDS TERMINATED BY '|';\n",
    "\n",
    "load data inpath '/user/cloudera/clientes.dat' into table clientes;\n",
    "\n",
    "create table paises (\n",
    "  nombre  STRING,   \n",
    "  nombrecorto  STRING) \n",
    "ROW FORMAT DELIMITED FIELDS TERMINATED BY '|';\n",
    "\n",
    "load data inpath '/user/cloudera/paises.dat' into table paises;\n",
    "\n"
   ]
  },
  {
   "cell_type": "code",
   "execution_count": 10,
   "metadata": {},
   "outputs": [
    {
     "name": "stdout",
     "output_type": "stream",
     "text": [
      "scan complete in 1ms\n",
      "Connecting to jdbc:hive2://localhost:10000/clientes\n",
      "Connected to: Apache Hive (version 1.1.0-cdh5.12.0)\n",
      "Driver: Hive JDBC (version 1.1.0-cdh5.12.0)\n",
      "Transaction isolation: TRANSACTION_REPEATABLE_READ\n",
      "0: jdbc:hive2://localhost:10000/clientes> create table clientes (\n",
      ". . . . . . . . . . . . . . . . . . . . >   nombre  STRING,   \n",
      ". . . . . . . . . . . . . . . . . . . . >   calidad  STRING,\n",
      ". . . . . . . . . . . . . . . . . . . . >   pais STRING) \n",
      " BY '|';. . . . . . . . . . . . . . . . > ROW FORMAT DELIMITED FIELDS TERMINATED \n",
      "INFO  : Compiling command(queryId=hive_20171225234848_f740de04-6c8b-42e9-b4e7-e96de048a054): create table clientes (\n",
      "nombre  STRING,\n",
      "calidad  STRING,\n",
      "pais STRING)\n",
      "ROW FORMAT DELIMITED FIELDS TERMINATED BY '|'\n",
      "INFO  : Semantic Analysis Completed\n",
      "INFO  : Returning Hive schema: Schema(fieldSchemas:null, properties:null)\n",
      "INFO  : Completed compiling command(queryId=hive_20171225234848_f740de04-6c8b-42e9-b4e7-e96de048a054); Time taken: 0.047 seconds\n",
      "INFO  : Concurrency mode is disabled, not creating a lock manager\n",
      "INFO  : Executing command(queryId=hive_20171225234848_f740de04-6c8b-42e9-b4e7-e96de048a054): create table clientes (\n",
      "nombre  STRING,\n",
      "calidad  STRING,\n",
      "pais STRING)\n",
      "ROW FORMAT DELIMITED FIELDS TERMINATED BY '|'\n",
      "INFO  : Starting task [Stage-0:DDL] in serial mode\n",
      "INFO  : Completed executing command(queryId=hive_20171225234848_f740de04-6c8b-42e9-b4e7-e96de048a054); Time taken: 0.049 seconds\n",
      "INFO  : OK\n",
      "No rows affected (0.146 seconds)\n",
      "0: jdbc:hive2://localhost:10000/clientes> \n",
      "tes.dat' into table clientes;00/clientes> load data inpath '/user/cloudera/clien \n",
      "INFO  : Compiling command(queryId=hive_20171225234848_b7863544-8082-4d6c-9b98-6455656e00a3): load data inpath '/user/cloudera/clientes.dat' into table clientes\n",
      "INFO  : Semantic Analysis Completed\n",
      "INFO  : Returning Hive schema: Schema(fieldSchemas:null, properties:null)\n",
      "INFO  : Completed compiling command(queryId=hive_20171225234848_b7863544-8082-4d6c-9b98-6455656e00a3); Time taken: 0.057 seconds\n",
      "INFO  : Concurrency mode is disabled, not creating a lock manager\n",
      "INFO  : Executing command(queryId=hive_20171225234848_b7863544-8082-4d6c-9b98-6455656e00a3): load data inpath '/user/cloudera/clientes.dat' into table clientes\n",
      "INFO  : Starting task [Stage-0:MOVE] in serial mode\n",
      "INFO  : Loading data to table clientes.clientes from hdfs://quickstart.cloudera:8020/user/cloudera/clientes.dat\n",
      "INFO  : Starting task [Stage-1:STATS] in serial mode\n",
      "INFO  : Table clientes.clientes stats: [numFiles=1, totalSize=277]\n",
      "INFO  : Completed executing command(queryId=hive_20171225234848_b7863544-8082-4d6c-9b98-6455656e00a3); Time taken: 0.27 seconds\n",
      "INFO  : OK\n",
      "No rows affected (0.337 seconds)\n",
      "0: jdbc:hive2://localhost:10000/clientes> \n",
      "0: jdbc:hive2://localhost:10000/clientes> create table paises (\n",
      ". . . . . . . . . . . . . . . . . . . . >   nombre  STRING,   \n",
      ". . . . . . . . . . . . . . . . . . . . >   nombrecorto  STRING) \n",
      " BY '|';. . . . . . . . . . . . . . . . > ROW FORMAT DELIMITED FIELDS TERMINATED \n",
      "INFO  : Compiling command(queryId=hive_20171225234848_bbffedc9-a80f-4bc5-b011-deba8d1056f1): create table paises (\n",
      "nombre  STRING,\n",
      "nombrecorto  STRING)\n",
      "ROW FORMAT DELIMITED FIELDS TERMINATED BY '|'\n",
      "INFO  : Semantic Analysis Completed\n",
      "INFO  : Returning Hive schema: Schema(fieldSchemas:null, properties:null)\n",
      "INFO  : Completed compiling command(queryId=hive_20171225234848_bbffedc9-a80f-4bc5-b011-deba8d1056f1); Time taken: 0.09 seconds\n",
      "INFO  : Concurrency mode is disabled, not creating a lock manager\n",
      "INFO  : Executing command(queryId=hive_20171225234848_bbffedc9-a80f-4bc5-b011-deba8d1056f1): create table paises (\n",
      "nombre  STRING,\n",
      "nombrecorto  STRING)\n",
      "ROW FORMAT DELIMITED FIELDS TERMINATED BY '|'\n",
      "INFO  : Starting task [Stage-0:DDL] in serial mode\n",
      "INFO  : Completed executing command(queryId=hive_20171225234848_bbffedc9-a80f-4bc5-b011-deba8d1056f1); Time taken: 0.039 seconds\n",
      "INFO  : OK\n",
      "No rows affected (0.138 seconds)\n",
      "0: jdbc:hive2://localhost:10000/clientes> \n",
      "s.dat' into table paises;:10000/clientes> load data inpath '/user/cloudera/paise \n",
      "INFO  : Compiling command(queryId=hive_20171225234848_df0791d9-ffc7-46b0-b5bc-67762977294c): load data inpath '/user/cloudera/paises.dat' into table paises\n",
      "INFO  : Semantic Analysis Completed\n",
      "INFO  : Returning Hive schema: Schema(fieldSchemas:null, properties:null)\n",
      "INFO  : Completed compiling command(queryId=hive_20171225234848_df0791d9-ffc7-46b0-b5bc-67762977294c); Time taken: 0.096 seconds\n",
      "INFO  : Concurrency mode is disabled, not creating a lock manager\n",
      "INFO  : Executing command(queryId=hive_20171225234848_df0791d9-ffc7-46b0-b5bc-67762977294c): load data inpath '/user/cloudera/paises.dat' into table paises\n",
      "INFO  : Starting task [Stage-0:MOVE] in serial mode\n",
      "INFO  : Loading data to table clientes.paises from hdfs://quickstart.cloudera:8020/user/cloudera/paises.dat\n",
      "INFO  : Starting task [Stage-1:STATS] in serial mode\n",
      "INFO  : Table clientes.paises stats: [numFiles=1, totalSize=64]\n",
      "INFO  : Completed executing command(queryId=hive_20171225234848_df0791d9-ffc7-46b0-b5bc-67762977294c); Time taken: 0.305 seconds\n",
      "INFO  : OK\n",
      "No rows affected (0.411 seconds)\n",
      "0: jdbc:hive2://localhost:10000/clientes> \n",
      "0: jdbc:hive2://localhost:10000/clientes> \n",
      "Closing: 0: jdbc:hive2://localhost:10000/clientes\n"
     ]
    }
   ],
   "source": [
    "! beeline -u \"jdbc:hive2://localhost:10000/clientes\" -f ejerciciohive.hql"
   ]
  },
  {
   "cell_type": "markdown",
   "metadata": {},
   "source": [
    "Consulta que devuelve el nombre, la valoración (obtenidos de la tabla de clientes) y el nombre completo del país (obtenido de la tabla de países) para los clientes que tengan un país."
   ]
  },
  {
   "cell_type": "code",
   "execution_count": 11,
   "metadata": {},
   "outputs": [
    {
     "name": "stdout",
     "output_type": "stream",
     "text": [
      "scan complete in 1ms\n",
      "Connecting to jdbc:hive2://localhost:10000/clientes\n",
      "Connected to: Apache Hive (version 1.1.0-cdh5.12.0)\n",
      "Driver: Hive JDBC (version 1.1.0-cdh5.12.0)\n",
      "Transaction isolation: TRANSACTION_REPEATABLE_READ\n",
      "INFO  : Compiling command(queryId=hive_20171225235454_6c96fbf7-b1db-44f7-985e-7c0c0c32221b): select cli.nombre, cli.calidad, pa.nombre from clientes cli join paises pa On cli.pais = pa.nombrecorto\n",
      "INFO  : Semantic Analysis Completed\n",
      "INFO  : Returning Hive schema: Schema(fieldSchemas:[FieldSchema(name:cli.nombre, type:string, comment:null), FieldSchema(name:cli.calidad, type:string, comment:null), FieldSchema(name:pa.nombre, type:string, comment:null)], properties:null)\n",
      "INFO  : Completed compiling command(queryId=hive_20171225235454_6c96fbf7-b1db-44f7-985e-7c0c0c32221b); Time taken: 0.158 seconds\n",
      "INFO  : Concurrency mode is disabled, not creating a lock manager\n",
      "INFO  : Executing command(queryId=hive_20171225235454_6c96fbf7-b1db-44f7-985e-7c0c0c32221b): select cli.nombre, cli.calidad, pa.nombre from clientes cli join paises pa On cli.pais = pa.nombrecorto\n",
      "INFO  : Query ID = hive_20171225235454_6c96fbf7-b1db-44f7-985e-7c0c0c32221b\n",
      "INFO  : Total jobs = 1\n",
      "INFO  : Starting task [Stage-4:MAPREDLOCAL] in serial mode\n",
      "Execution log at: /var/log/hive/hive-server2.log\n",
      "2017-12-25 11:54:58\tStarting to launch local task to process map join;\tmaximum memory = 932184064\n",
      "2017-12-25 11:55:00\tDump the side-table for tag: 1 with group count: 5 into file: file:/tmp/hive/052954f5-3bd9-4d0e-b669-67fe3ece739f/hive_2017-12-25_23-54-56_362_2614082152979626003-3/-local-10003/HashTable-Stage-3/MapJoin-mapfile01--.hashtable\n",
      "2017-12-25 11:55:00\tUploaded 1 File to: file:/tmp/hive/052954f5-3bd9-4d0e-b669-67fe3ece739f/hive_2017-12-25_23-54-56_362_2614082152979626003-3/-local-10003/HashTable-Stage-3/MapJoin-mapfile01--.hashtable (414 bytes)\n",
      "2017-12-25 11:55:00\tEnd of local task; Time Taken: 1.228 sec.\n",
      "INFO  : Execution completed successfully\n",
      "INFO  : MapredLocal task succeeded\n",
      "INFO  : Launching Job 1 out of 1\n",
      "INFO  : Starting task [Stage-3:MAPRED] in serial mode\n",
      "INFO  : Number of reduce tasks is set to 0 since there's no reduce operator\n",
      "INFO  : Starting Job = job_1514266544861_0007, Tracking URL = http://quickstart.cloudera:8088/proxy/application_1514266544861_0007/\n",
      "INFO  : Kill Command = /usr/lib/hadoop/bin/hadoop job  -kill job_1514266544861_0007\n",
      "INFO  : Hadoop job information for Stage-3: number of mappers: 1; number of reducers: 0\n",
      "INFO  : 2017-12-25 23:55:07,020 Stage-3 map = 0%,  reduce = 0%\n",
      "INFO  : 2017-12-25 23:55:12,265 Stage-3 map = 100%,  reduce = 0%, Cumulative CPU 1.65 sec\n",
      "INFO  : MapReduce Total cumulative CPU time: 1 seconds 650 msec\n",
      "INFO  : Ended Job = job_1514266544861_0007\n",
      "INFO  : MapReduce Jobs Launched: \n",
      "INFO  : Stage-Stage-3: Map: 1   Cumulative CPU: 1.65 sec   HDFS Read: 6298 HDFS Write: 311 SUCCESS\n",
      "INFO  : Total MapReduce CPU Time Spent: 1 seconds 650 msec\n",
      "INFO  : Completed executing command(queryId=hive_20171225235454_6c96fbf7-b1db-44f7-985e-7c0c0c32221b); Time taken: 16.831 seconds\n",
      "INFO  : OK\n",
      "+------------------+---------------+-----------------+--+\n",
      "|    cli.nombre    |  cli.calidad  |    pa.nombre    |\n",
      "+------------------+---------------+-----------------+--+\n",
      "| Claude Shannon   | no es malo    | Estados Unidos  |\n",
      "| Sam Fry          | bueno         | Canada          |\n",
      "| Mark Fees        | bueno         | Canada          |\n",
      "| Michael Faraday  | no tan bueno  | Reino Unido     |\n",
      "| Henry Ford       | no es malo    | Estados Unidos  |\n",
      "| Lee Chung Son    | no tan bueno  | Canada          |\n",
      "| Stenven York     | bueno         | Canada          |\n",
      "| Ted Parks        | bueno         | Reino Unido     |\n",
      "| Jon Macenrow     | no tan malo   | Canada          |\n",
      "| Giordano Bruno   | bueno         | Italia          |\n",
      "+------------------+---------------+-----------------+--+\n",
      "10 rows selected (17.06 seconds)\n",
      "Beeline version 1.1.0-cdh5.12.0 by Apache Hive\n",
      "Closing: 0: jdbc:hive2://localhost:10000/clientes\n"
     ]
    }
   ],
   "source": [
    "! beeline -u \"jdbc:hive2://localhost:10000/clientes\" -e \"select cli.nombre, cli.calidad, pa.nombre from clientes cli join paises pa On cli.pais = pa.nombrecorto;\""
   ]
  },
  {
   "cell_type": "markdown",
   "metadata": {},
   "source": [
    "Consulta que devuelve el nombre, la valoración (obtenidos de la tabla de clientes) y el nombre completo del país (obtenido de la tabla de países) para todos los clientes."
   ]
  },
  {
   "cell_type": "code",
   "execution_count": 12,
   "metadata": {},
   "outputs": [
    {
     "name": "stdout",
     "output_type": "stream",
     "text": [
      "scan complete in 3ms\n",
      "Connecting to jdbc:hive2://localhost:10000/clientes\n",
      "Connected to: Apache Hive (version 1.1.0-cdh5.12.0)\n",
      "Driver: Hive JDBC (version 1.1.0-cdh5.12.0)\n",
      "Transaction isolation: TRANSACTION_REPEATABLE_READ\n",
      "INFO  : Compiling command(queryId=hive_20171225235656_7fe86d57-77c1-40d1-a250-8757d072c34c): select cli.nombre, cli.calidad, pa.nombre from clientes cli left outer join paises pa On cli.pais = pa.nombrecorto\n",
      "INFO  : Semantic Analysis Completed\n",
      "INFO  : Returning Hive schema: Schema(fieldSchemas:[FieldSchema(name:cli.nombre, type:string, comment:null), FieldSchema(name:cli.calidad, type:string, comment:null), FieldSchema(name:pa.nombre, type:string, comment:null)], properties:null)\n",
      "INFO  : Completed compiling command(queryId=hive_20171225235656_7fe86d57-77c1-40d1-a250-8757d072c34c); Time taken: 0.1 seconds\n",
      "INFO  : Concurrency mode is disabled, not creating a lock manager\n",
      "INFO  : Executing command(queryId=hive_20171225235656_7fe86d57-77c1-40d1-a250-8757d072c34c): select cli.nombre, cli.calidad, pa.nombre from clientes cli left outer join paises pa On cli.pais = pa.nombrecorto\n",
      "INFO  : Query ID = hive_20171225235656_7fe86d57-77c1-40d1-a250-8757d072c34c\n",
      "INFO  : Total jobs = 1\n",
      "INFO  : Starting task [Stage-4:MAPREDLOCAL] in serial mode\n",
      "Execution log at: /var/log/hive/hive-server2.log\n",
      "2017-12-25 11:56:09\tStarting to launch local task to process map join;\tmaximum memory = 932184064\n",
      "2017-12-25 11:56:10\tDump the side-table for tag: 1 with group count: 5 into file: file:/tmp/hive/bc5add18-683e-4b9e-a1b2-bd706e9693b0/hive_2017-12-25_23-56-06_612_3355995618550484890-3/-local-10003/HashTable-Stage-3/MapJoin-mapfile11--.hashtable\n",
      "2017-12-25 11:56:10\tUploaded 1 File to: file:/tmp/hive/bc5add18-683e-4b9e-a1b2-bd706e9693b0/hive_2017-12-25_23-56-06_612_3355995618550484890-3/-local-10003/HashTable-Stage-3/MapJoin-mapfile11--.hashtable (414 bytes)\n",
      "2017-12-25 11:56:10\tEnd of local task; Time Taken: 0.979 sec.\n",
      "INFO  : Execution completed successfully\n",
      "INFO  : MapredLocal task succeeded\n",
      "INFO  : Launching Job 1 out of 1\n",
      "INFO  : Starting task [Stage-3:MAPRED] in serial mode\n",
      "INFO  : Number of reduce tasks is set to 0 since there's no reduce operator\n",
      "INFO  : Starting Job = job_1514266544861_0008, Tracking URL = http://quickstart.cloudera:8088/proxy/application_1514266544861_0008/\n",
      "INFO  : Kill Command = /usr/lib/hadoop/bin/hadoop job  -kill job_1514266544861_0008\n",
      "INFO  : Hadoop job information for Stage-3: number of mappers: 1; number of reducers: 0\n",
      "INFO  : 2017-12-25 23:56:16,232 Stage-3 map = 0%,  reduce = 0%\n",
      "INFO  : 2017-12-25 23:56:21,462 Stage-3 map = 100%,  reduce = 0%, Cumulative CPU 1.29 sec\n",
      "INFO  : MapReduce Total cumulative CPU time: 1 seconds 290 msec\n",
      "INFO  : Ended Job = job_1514266544861_0008\n",
      "INFO  : MapReduce Jobs Launched: \n",
      "INFO  : Stage-Stage-3: Map: 1   Cumulative CPU: 1.29 sec   HDFS Read: 6264 HDFS Write: 341 SUCCESS\n",
      "INFO  : Total MapReduce CPU Time Spent: 1 seconds 290 msec\n",
      "INFO  : Completed executing command(queryId=hive_20171225235656_7fe86d57-77c1-40d1-a250-8757d072c34c); Time taken: 15.814 seconds\n",
      "INFO  : OK\n",
      "+------------------+---------------+-----------------+--+\n",
      "|    cli.nombre    |  cli.calidad  |    pa.nombre    |\n",
      "+------------------+---------------+-----------------+--+\n",
      "| Claude Shannon   | no es malo    | Estados Unidos  |\n",
      "| Sam Fry          | bueno         | Canada          |\n",
      "| Mark Fees        | bueno         | Canada          |\n",
      "| Michael Faraday  | no tan bueno  | Reino Unido     |\n",
      "| Henry Ford       | no es malo    | Estados Unidos  |\n",
      "| Lee Chung Son    | no tan bueno  | Canada          |\n",
      "| Stenven York     | bueno         | Canada          |\n",
      "| Ted Parks        | bueno         | Reino Unido     |\n",
      "| Jon Macenrow     | no tan malo   | Canada          |\n",
      "| Giordano Bruno   | bueno         | Italia          |\n",
      "| Louis Pasteur    | no tan bueno  | NULL            |\n",
      "+------------------+---------------+-----------------+--+\n",
      "11 rows selected (15.979 seconds)\n",
      "Beeline version 1.1.0-cdh5.12.0 by Apache Hive\n",
      "Closing: 0: jdbc:hive2://localhost:10000/clientes\n"
     ]
    }
   ],
   "source": [
    "! beeline -u \"jdbc:hive2://localhost:10000/clientes\" -e \"select cli.nombre, cli.calidad, pa.nombre from clientes cli left outer join paises pa On cli.pais = pa.nombrecorto;\""
   ]
  },
  {
   "cell_type": "markdown",
   "metadata": {},
   "source": [
    "Consulta que devuelve el nombre, la valoración (obtenidos de la tabla de clientes) para los clientes que tengan un país, y el nombre completo del país (obtenido de la tabla de países) para todos los países. \n"
   ]
  },
  {
   "cell_type": "code",
   "execution_count": 13,
   "metadata": {},
   "outputs": [
    {
     "name": "stdout",
     "output_type": "stream",
     "text": [
      "scan complete in 2ms\n",
      "Connecting to jdbc:hive2://localhost:10000/clientes\n",
      "Connected to: Apache Hive (version 1.1.0-cdh5.12.0)\n",
      "Driver: Hive JDBC (version 1.1.0-cdh5.12.0)\n",
      "Transaction isolation: TRANSACTION_REPEATABLE_READ\n",
      "INFO  : Compiling command(queryId=hive_20171225235757_71988968-0ad3-423e-8e1d-3df904beb595): select cli.nombre, cli.calidad, pa.nombre from clientes cli right outer join paises pa On cli.pais = pa.nombrecorto\n",
      "INFO  : Semantic Analysis Completed\n",
      "INFO  : Returning Hive schema: Schema(fieldSchemas:[FieldSchema(name:cli.nombre, type:string, comment:null), FieldSchema(name:cli.calidad, type:string, comment:null), FieldSchema(name:pa.nombre, type:string, comment:null)], properties:null)\n",
      "INFO  : Completed compiling command(queryId=hive_20171225235757_71988968-0ad3-423e-8e1d-3df904beb595); Time taken: 0.099 seconds\n",
      "INFO  : Concurrency mode is disabled, not creating a lock manager\n",
      "INFO  : Executing command(queryId=hive_20171225235757_71988968-0ad3-423e-8e1d-3df904beb595): select cli.nombre, cli.calidad, pa.nombre from clientes cli right outer join paises pa On cli.pais = pa.nombrecorto\n",
      "INFO  : Query ID = hive_20171225235757_71988968-0ad3-423e-8e1d-3df904beb595\n",
      "INFO  : Total jobs = 1\n",
      "INFO  : Starting task [Stage-4:MAPREDLOCAL] in serial mode\n",
      "Execution log at: /var/log/hive/hive-server2.log\n",
      "2017-12-25 11:57:10\tStarting to launch local task to process map join;\tmaximum memory = 932184064\n",
      "2017-12-25 11:57:11\tDump the side-table for tag: 0 with group count: 5 into file: file:/tmp/hive/18a858b1-3021-4d78-a2bc-5665e1dda8ec/hive_2017-12-25_23-57-07_839_7079709026481252915-3/-local-10003/HashTable-Stage-3/MapJoin-mapfile20--.hashtable\n",
      "2017-12-25 11:57:11\tUploaded 1 File to: file:/tmp/hive/18a858b1-3021-4d78-a2bc-5665e1dda8ec/hive_2017-12-25_23-57-07_839_7079709026481252915-3/-local-10003/HashTable-Stage-3/MapJoin-mapfile20--.hashtable (641 bytes)\n",
      "2017-12-25 11:57:11\tEnd of local task; Time Taken: 0.889 sec.\n",
      "INFO  : Execution completed successfully\n",
      "INFO  : MapredLocal task succeeded\n",
      "INFO  : Launching Job 1 out of 1\n",
      "INFO  : Starting task [Stage-3:MAPRED] in serial mode\n",
      "INFO  : Number of reduce tasks is set to 0 since there's no reduce operator\n",
      "INFO  : Starting Job = job_1514266544861_0009, Tracking URL = http://quickstart.cloudera:8088/proxy/application_1514266544861_0009/\n",
      "INFO  : Kill Command = /usr/lib/hadoop/bin/hadoop job  -kill job_1514266544861_0009\n",
      "INFO  : Hadoop job information for Stage-3: number of mappers: 1; number of reducers: 0\n",
      "INFO  : 2017-12-25 23:57:17,300 Stage-3 map = 0%,  reduce = 0%\n",
      "INFO  : 2017-12-25 23:57:23,571 Stage-3 map = 100%,  reduce = 0%, Cumulative CPU 1.58 sec\n",
      "INFO  : MapReduce Total cumulative CPU time: 1 seconds 580 msec\n",
      "INFO  : Ended Job = job_1514266544861_0009\n",
      "INFO  : MapReduce Jobs Launched: \n",
      "INFO  : Stage-Stage-3: Map: 1   Cumulative CPU: 1.58 sec   HDFS Read: 6043 HDFS Write: 324 SUCCESS\n",
      "INFO  : Total MapReduce CPU Time Spent: 1 seconds 580 msec\n",
      "INFO  : Completed executing command(queryId=hive_20171225235757_71988968-0ad3-423e-8e1d-3df904beb595); Time taken: 16.697 seconds\n",
      "INFO  : OK\n",
      "+------------------+---------------+-----------------+--+\n",
      "|    cli.nombre    |  cli.calidad  |    pa.nombre    |\n",
      "+------------------+---------------+-----------------+--+\n",
      "| Claude Shannon   | no es malo    | Estados Unidos  |\n",
      "| Henry Ford       | no es malo    | Estados Unidos  |\n",
      "| Sam Fry          | bueno         | Canada          |\n",
      "| Mark Fees        | bueno         | Canada          |\n",
      "| Lee Chung Son    | no tan bueno  | Canada          |\n",
      "| Stenven York     | bueno         | Canada          |\n",
      "| Jon Macenrow     | no tan malo   | Canada          |\n",
      "| Michael Faraday  | no tan bueno  | Reino Unido     |\n",
      "| Ted Parks        | bueno         | Reino Unido     |\n",
      "| Giordano Bruno   | bueno         | Italia          |\n",
      "| NULL             | NULL          | Espana          |\n",
      "+------------------+---------------+-----------------+--+\n",
      "11 rows selected (16.855 seconds)\n",
      "Beeline version 1.1.0-cdh5.12.0 by Apache Hive\n",
      "Closing: 0: jdbc:hive2://localhost:10000/clientes\n"
     ]
    }
   ],
   "source": [
    "! beeline -u \"jdbc:hive2://localhost:10000/clientes\" -e \"select cli.nombre, cli.calidad, pa.nombre from clientes cli right outer join paises pa On cli.pais = pa.nombrecorto;\""
   ]
  },
  {
   "cell_type": "markdown",
   "metadata": {},
   "source": [
    "Consulta que devuelve el nombre, la valoración (obtenidos de la tabla de clientes), y el nombre completo del país (obtenido de la tabla de países) para todos los clientes y todos los países."
   ]
  },
  {
   "cell_type": "code",
   "execution_count": 14,
   "metadata": {},
   "outputs": [
    {
     "name": "stdout",
     "output_type": "stream",
     "text": [
      "scan complete in 2ms\n",
      "Connecting to jdbc:hive2://localhost:10000/clientes\n",
      "Connected to: Apache Hive (version 1.1.0-cdh5.12.0)\n",
      "Driver: Hive JDBC (version 1.1.0-cdh5.12.0)\n",
      "Transaction isolation: TRANSACTION_REPEATABLE_READ\n",
      "INFO  : Compiling command(queryId=hive_20171225235757_66b96910-06f2-4182-8b6d-2d38e7e2f884): select cli.nombre, cli.calidad, pa.nombre from clientes cli full outer join paises pa On cli.pais = pa.nombrecorto\n",
      "INFO  : Semantic Analysis Completed\n",
      "INFO  : Returning Hive schema: Schema(fieldSchemas:[FieldSchema(name:cli.nombre, type:string, comment:null), FieldSchema(name:cli.calidad, type:string, comment:null), FieldSchema(name:pa.nombre, type:string, comment:null)], properties:null)\n",
      "INFO  : Completed compiling command(queryId=hive_20171225235757_66b96910-06f2-4182-8b6d-2d38e7e2f884); Time taken: 0.104 seconds\n",
      "INFO  : Concurrency mode is disabled, not creating a lock manager\n",
      "INFO  : Executing command(queryId=hive_20171225235757_66b96910-06f2-4182-8b6d-2d38e7e2f884): select cli.nombre, cli.calidad, pa.nombre from clientes cli full outer join paises pa On cli.pais = pa.nombrecorto\n",
      "INFO  : Query ID = hive_20171225235757_66b96910-06f2-4182-8b6d-2d38e7e2f884\n",
      "INFO  : Total jobs = 1\n",
      "INFO  : Launching Job 1 out of 1\n",
      "INFO  : Starting task [Stage-1:MAPRED] in serial mode\n",
      "INFO  : Number of reduce tasks not specified. Estimated from input data size: 1\n",
      "INFO  : In order to change the average load for a reducer (in bytes):\n",
      "INFO  :   set hive.exec.reducers.bytes.per.reducer=<number>\n",
      "INFO  : In order to limit the maximum number of reducers:\n",
      "INFO  :   set hive.exec.reducers.max=<number>\n",
      "INFO  : In order to set a constant number of reducers:\n",
      "INFO  :   set mapreduce.job.reduces=<number>\n",
      "INFO  : Starting Job = job_1514266544861_0010, Tracking URL = http://quickstart.cloudera:8088/proxy/application_1514266544861_0010/\n",
      "INFO  : Kill Command = /usr/lib/hadoop/bin/hadoop job  -kill job_1514266544861_0010\n",
      "INFO  : Hadoop job information for Stage-1: number of mappers: 2; number of reducers: 1\n",
      "INFO  : 2017-12-25 23:57:52,852 Stage-1 map = 0%,  reduce = 0%\n",
      "INFO  : 2017-12-25 23:57:58,236 Stage-1 map = 50%,  reduce = 0%, Cumulative CPU 1.35 sec\n",
      "INFO  : 2017-12-25 23:57:59,276 Stage-1 map = 100%,  reduce = 0%, Cumulative CPU 2.48 sec\n",
      "INFO  : 2017-12-25 23:58:05,525 Stage-1 map = 100%,  reduce = 100%, Cumulative CPU 3.99 sec\n",
      "INFO  : MapReduce Total cumulative CPU time: 3 seconds 990 msec\n",
      "INFO  : Ended Job = job_1514266544861_0010\n",
      "INFO  : MapReduce Jobs Launched: \n",
      "INFO  : Stage-Stage-1: Map: 2  Reduce: 1   Cumulative CPU: 3.99 sec   HDFS Read: 12262 HDFS Write: 354 SUCCESS\n",
      "INFO  : Total MapReduce CPU Time Spent: 3 seconds 990 msec\n",
      "INFO  : Completed executing command(queryId=hive_20171225235757_66b96910-06f2-4182-8b6d-2d38e7e2f884); Time taken: 19.846 seconds\n",
      "INFO  : OK\n",
      "+------------------+---------------+-----------------+--+\n",
      "|    cli.nombre    |  cli.calidad  |    pa.nombre    |\n",
      "+------------------+---------------+-----------------+--+\n",
      "| Jon Macenrow     | no tan malo   | Canada          |\n",
      "| Stenven York     | bueno         | Canada          |\n",
      "| Lee Chung Son    | no tan bueno  | Canada          |\n",
      "| Mark Fees        | bueno         | Canada          |\n",
      "| Sam Fry          | bueno         | Canada          |\n",
      "| NULL             | NULL          | Espana          |\n",
      "| Louis Pasteur    | no tan bueno  | NULL            |\n",
      "| Giordano Bruno   | bueno         | Italia          |\n",
      "| Ted Parks        | bueno         | Reino Unido     |\n",
      "| Michael Faraday  | no tan bueno  | Reino Unido     |\n",
      "| Henry Ford       | no es malo    | Estados Unidos  |\n",
      "| Claude Shannon   | no es malo    | Estados Unidos  |\n",
      "+------------------+---------------+-----------------+--+\n",
      "12 rows selected (20.016 seconds)\n",
      "Beeline version 1.1.0-cdh5.12.0 by Apache Hive\n",
      "Closing: 0: jdbc:hive2://localhost:10000/clientes\n"
     ]
    }
   ],
   "source": [
    "! beeline -u \"jdbc:hive2://localhost:10000/clientes\" -e \"select cli.nombre, cli.calidad, pa.nombre from clientes cli full outer join paises pa On cli.pais = pa.nombrecorto;\""
   ]
  },
  {
   "cell_type": "markdown",
   "metadata": {},
   "source": [
    "Consulta que devuelve el nombre de los países que tengan al menos un cliente. "
   ]
  },
  {
   "cell_type": "code",
   "execution_count": 15,
   "metadata": {},
   "outputs": [
    {
     "name": "stdout",
     "output_type": "stream",
     "text": [
      "scan complete in 2ms\n",
      "Connecting to jdbc:hive2://localhost:10000/clientes\n",
      "Connected to: Apache Hive (version 1.1.0-cdh5.12.0)\n",
      "Driver: Hive JDBC (version 1.1.0-cdh5.12.0)\n",
      "Transaction isolation: TRANSACTION_REPEATABLE_READ\n",
      "INFO  : Compiling command(queryId=hive_20171225235858_f061c7ff-f6a3-4597-9fd1-64b18e3e8252): select pa.nombre from paises pa left semi join clientes cli On pa.nombrecorto = cli.pais\n",
      "INFO  : Semantic Analysis Completed\n",
      "INFO  : Returning Hive schema: Schema(fieldSchemas:[FieldSchema(name:pa.nombre, type:string, comment:null)], properties:null)\n",
      "INFO  : Completed compiling command(queryId=hive_20171225235858_f061c7ff-f6a3-4597-9fd1-64b18e3e8252); Time taken: 0.11 seconds\n",
      "INFO  : Concurrency mode is disabled, not creating a lock manager\n",
      "INFO  : Executing command(queryId=hive_20171225235858_f061c7ff-f6a3-4597-9fd1-64b18e3e8252): select pa.nombre from paises pa left semi join clientes cli On pa.nombrecorto = cli.pais\n",
      "INFO  : Query ID = hive_20171225235858_f061c7ff-f6a3-4597-9fd1-64b18e3e8252\n",
      "INFO  : Total jobs = 1\n",
      "INFO  : Starting task [Stage-4:MAPREDLOCAL] in serial mode\n",
      "Execution log at: /var/log/hive/hive-server2.log\n",
      "2017-12-25 11:58:13\tStarting to launch local task to process map join;\tmaximum memory = 932184064\n",
      "2017-12-25 11:58:14\tDump the side-table for tag: 1 with group count: 5 into file: file:/tmp/hive/ec76ce15-1c8b-49e0-af70-05fbec25759f/hive_2017-12-25_23-58-10_502_6337494869303829285-3/-local-10003/HashTable-Stage-3/MapJoin-mapfile31--.hashtable\n",
      "2017-12-25 11:58:14\tUploaded 1 File to: file:/tmp/hive/ec76ce15-1c8b-49e0-af70-05fbec25759f/hive_2017-12-25_23-58-10_502_6337494869303829285-3/-local-10003/HashTable-Stage-3/MapJoin-mapfile31--.hashtable (361 bytes)\n",
      "2017-12-25 11:58:14\tEnd of local task; Time Taken: 1.245 sec.\n",
      "INFO  : Execution completed successfully\n",
      "INFO  : MapredLocal task succeeded\n",
      "INFO  : Launching Job 1 out of 1\n",
      "INFO  : Starting task [Stage-3:MAPRED] in serial mode\n",
      "INFO  : Number of reduce tasks is set to 0 since there's no reduce operator\n",
      "INFO  : Starting Job = job_1514266544861_0011, Tracking URL = http://quickstart.cloudera:8088/proxy/application_1514266544861_0011/\n",
      "INFO  : Kill Command = /usr/lib/hadoop/bin/hadoop job  -kill job_1514266544861_0011\n",
      "INFO  : Hadoop job information for Stage-3: number of mappers: 1; number of reducers: 0\n",
      "INFO  : 2017-12-25 23:58:21,929 Stage-3 map = 0%,  reduce = 0%\n",
      "INFO  : 2017-12-25 23:58:29,218 Stage-3 map = 100%,  reduce = 0%, Cumulative CPU 1.72 sec\n",
      "INFO  : MapReduce Total cumulative CPU time: 1 seconds 720 msec\n",
      "INFO  : Ended Job = job_1514266544861_0011\n",
      "INFO  : MapReduce Jobs Launched: \n",
      "INFO  : Stage-Stage-3: Map: 1   Cumulative CPU: 1.72 sec   HDFS Read: 5760 HDFS Write: 41 SUCCESS\n",
      "INFO  : Total MapReduce CPU Time Spent: 1 seconds 720 msec\n",
      "INFO  : Completed executing command(queryId=hive_20171225235858_f061c7ff-f6a3-4597-9fd1-64b18e3e8252); Time taken: 19.666 seconds\n",
      "INFO  : OK\n",
      "+-----------------+--+\n",
      "|    pa.nombre    |\n",
      "+-----------------+--+\n",
      "| Estados Unidos  |\n",
      "| Canada          |\n",
      "| Reino Unido     |\n",
      "| Italia          |\n",
      "+-----------------+--+\n",
      "4 rows selected (19.843 seconds)\n",
      "Beeline version 1.1.0-cdh5.12.0 by Apache Hive\n",
      "Closing: 0: jdbc:hive2://localhost:10000/clientes\n"
     ]
    }
   ],
   "source": [
    "! beeline -u \"jdbc:hive2://localhost:10000/clientes\" -e \"select pa.nombre from paises pa left semi join clientes cli On pa.nombrecorto = cli.pais;\""
   ]
  },
  {
   "cell_type": "code",
   "execution_count": null,
   "metadata": {
    "collapsed": true
   },
   "outputs": [],
   "source": []
  }
 ],
 "metadata": {
  "kernelspec": {
   "display_name": "Python 2",
   "language": "python",
   "name": "python2"
  },
  "language_info": {
   "codemirror_mode": {
    "name": "ipython",
    "version": 2
   },
   "file_extension": ".py",
   "mimetype": "text/x-python",
   "name": "python",
   "nbconvert_exporter": "python",
   "pygments_lexer": "ipython2",
   "version": "2.7.14"
  }
 },
 "nbformat": 4,
 "nbformat_minor": 2
}
