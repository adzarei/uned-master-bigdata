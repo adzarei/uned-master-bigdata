{
 "cells": [
  {
   "cell_type": "markdown",
   "metadata": {},
   "source": [
    "## Creando tablas con buckets"
   ]
  },
  {
   "cell_type": "code",
   "execution_count": 1,
   "metadata": {
    "collapsed": true
   },
   "outputs": [],
   "source": [
    "! mkdir -p hive-tablasbuckets\n",
    "import os\n",
    "os.chdir(\"hive-tablasbuckets\")"
   ]
  },
  {
   "cell_type": "code",
   "execution_count": 2,
   "metadata": {},
   "outputs": [
    {
     "name": "stdout",
     "output_type": "stream",
     "text": [
      "/home/cloudera/HadoopNotebooks/Hive/hive-tablasbuckets\r\n"
     ]
    }
   ],
   "source": [
    "! pwd"
   ]
  },
  {
   "cell_type": "markdown",
   "metadata": {},
   "source": [
    "### Primero creamos una tabla interna"
   ]
  },
  {
   "cell_type": "code",
   "execution_count": 4,
   "metadata": {},
   "outputs": [
    {
     "name": "stdout",
     "output_type": "stream",
     "text": [
      "Overwriting ejerciciohive.hql\n"
     ]
    }
   ],
   "source": [
    "%%writefile ejerciciohive.hql\n",
    "set hive.enforce.bucketing=true;\n",
    "\n",
    "create table datacleaninternalbucketB (\n",
    "idref  STRING,   \n",
    "ident  STRING,\n",
    "gsm19023 FLOAT,   \n",
    "gsd19024 FLOAT, \n",
    "gsd19025 FLOAT,    \n",
    "gsd19026 FLOAT, \n",
    "genetitle STRING,   \n",
    "genesymbol STRING,  \n",
    "geneID SMALLINT,           \n",
    "uniGenetitle STRING,  \n",
    "uniGenesymbol STRING,       \n",
    "uniGeneID STRING, \n",
    "NucleotideTitle STRING) \n",
    "CLUSTERED BY (genetitle) INTO 11 BUCKETS\n",
    "ROW FORMAT DELIMITED FIELDS TERMINATED BY '\\t';\n",
    "\n"
   ]
  },
  {
   "cell_type": "code",
   "execution_count": 5,
   "metadata": {},
   "outputs": [
    {
     "name": "stdout",
     "output_type": "stream",
     "text": [
      "scan complete in 2ms\n",
      "Connecting to jdbc:hive2://localhost:10000/bioinformatica\n",
      "Connected to: Apache Hive (version 1.1.0-cdh5.12.0)\n",
      "Driver: Hive JDBC (version 1.1.0-cdh5.12.0)\n",
      "Transaction isolation: TRANSACTION_REPEATABLE_READ\n",
      "0: jdbc:hive2://localhost:10000/bioinformatic> set hive.enforce.bucketing=true;\n",
      "No rows affected (0.083 seconds)\n",
      "0: jdbc:hive2://localhost:10000/bioinformatic> \n",
      "ketB (c:hive2://localhost:10000/bioinformatic> create table datacleaninternalbuc \n",
      ". . . . . . . . . . . . . . . . . . . . . . .> idref  STRING,   \n",
      ". . . . . . . . . . . . . . . . . . . . . . .> ident  STRING,\n",
      ". . . . . . . . . . . . . . . . . . . . . . .> gsm19023 FLOAT,   \n",
      ". . . . . . . . . . . . . . . . . . . . . . .> gsd19024 FLOAT, \n",
      ". . . . . . . . . . . . . . . . . . . . . . .> gsd19025 FLOAT,    \n",
      ". . . . . . . . . . . . . . . . . . . . . . .> gsd19026 FLOAT, \n",
      ". . . . . . . . . . . . . . . . . . . . . . .> genetitle STRING,   \n",
      ". . . . . . . . . . . . . . . . . . . . . . .> genesymbol STRING,  \n",
      ". . . . . . . . . . . . . . . . . . . . . . .> geneID SMALLINT,           \n",
      ". . . . . . . . . . . . . . . . . . . . . . .> uniGenetitle STRING,  \n",
      ". . . . . . . . . . . . . . . . . . . . . . .> uniGenesymbol STRING,       \n",
      ". . . . . . . . . . . . . . . . . . . . . . .> uniGeneID STRING, \n",
      ". . . . . . . . . . . . . . . . . . . . . . .> NucleotideTitle STRING) \n",
      "BUCKETS . . . . . . . . . . . . . . . . . . .> CLUSTERED BY (genetitle) INTO 11  \n",
      "NATED BY '\\t';. . . . . . . . . . . . . . . .> ROW FORMAT DELIMITED FIELDS TERMI \n",
      "INFO  : Compiling command(queryId=hive_20180112012121_64107bdd-a983-4abe-a92a-85ae6a3b5de6): create table datacleaninternalbucketB (\n",
      "idref  STRING,\n",
      "ident  STRING,\n",
      "gsm19023 FLOAT,\n",
      "gsd19024 FLOAT,\n",
      "gsd19025 FLOAT,\n",
      "gsd19026 FLOAT,\n",
      "genetitle STRING,\n",
      "genesymbol STRING,\n",
      "geneID SMALLINT,\n",
      "uniGenetitle STRING,\n",
      "uniGenesymbol STRING,\n",
      "uniGeneID STRING,\n",
      "NucleotideTitle STRING)\n",
      "CLUSTERED BY (genetitle) INTO 11 BUCKETS\n",
      "ROW FORMAT DELIMITED FIELDS TERMINATED BY '\\t'\n",
      "INFO  : Semantic Analysis Completed\n",
      "INFO  : Returning Hive schema: Schema(fieldSchemas:null, properties:null)\n",
      "INFO  : Completed compiling command(queryId=hive_20180112012121_64107bdd-a983-4abe-a92a-85ae6a3b5de6); Time taken: 0.019 seconds\n",
      "INFO  : Concurrency mode is disabled, not creating a lock manager\n",
      "INFO  : Executing command(queryId=hive_20180112012121_64107bdd-a983-4abe-a92a-85ae6a3b5de6): create table datacleaninternalbucketB (\n",
      "idref  STRING,\n",
      "ident  STRING,\n",
      "gsm19023 FLOAT,\n",
      "gsd19024 FLOAT,\n",
      "gsd19025 FLOAT,\n",
      "gsd19026 FLOAT,\n",
      "genetitle STRING,\n",
      "genesymbol STRING,\n",
      "geneID SMALLINT,\n",
      "uniGenetitle STRING,\n",
      "uniGenesymbol STRING,\n",
      "uniGeneID STRING,\n",
      "NucleotideTitle STRING)\n",
      "CLUSTERED BY (genetitle) INTO 11 BUCKETS\n",
      "ROW FORMAT DELIMITED FIELDS TERMINATED BY '\\t'\n",
      "INFO  : Starting task [Stage-0:DDL] in serial mode\n",
      "INFO  : Completed executing command(queryId=hive_20180112012121_64107bdd-a983-4abe-a92a-85ae6a3b5de6); Time taken: 0.058 seconds\n",
      "INFO  : OK\n",
      "No rows affected (0.092 seconds)\n",
      "0: jdbc:hive2://localhost:10000/bioinformatic> \n",
      "0: jdbc:hive2://localhost:10000/bioinformatic> \n",
      "Closing: 0: jdbc:hive2://localhost:10000/bioinformatica\n"
     ]
    }
   ],
   "source": [
    "! beeline -u \"jdbc:hive2://localhost:10000/bioinformatica\" -f ejerciciohive.hql"
   ]
  },
  {
   "cell_type": "code",
   "execution_count": 9,
   "metadata": {},
   "outputs": [
    {
     "name": "stdout",
     "output_type": "stream",
     "text": [
      "scan complete in 1ms\n",
      "Connecting to jdbc:hive2://localhost:10000/bioinformatica\n",
      "Connected to: Apache Hive (version 1.1.0-cdh5.12.0)\n",
      "Driver: Hive JDBC (version 1.1.0-cdh5.12.0)\n",
      "Transaction isolation: TRANSACTION_REPEATABLE_READ\n",
      "INFO  : Compiling command(queryId=hive_20180112012323_d3304ba1-5ba1-42dd-a0f8-b6f70f1f0771): insert into datacleaninternalbucketB select * from datacleaninternalparticionB\n",
      "INFO  : Semantic Analysis Completed\n",
      "INFO  : Returning Hive schema: Schema(fieldSchemas:[FieldSchema(name:_col0, type:string, comment:null), FieldSchema(name:_col1, type:string, comment:null), FieldSchema(name:_col2, type:float, comment:null), FieldSchema(name:_col3, type:float, comment:null), FieldSchema(name:_col4, type:float, comment:null), FieldSchema(name:_col5, type:float, comment:null), FieldSchema(name:_col6, type:string, comment:null), FieldSchema(name:_col7, type:smallint, comment:null), FieldSchema(name:_col8, type:smallint, comment:null), FieldSchema(name:_col9, type:string, comment:null), FieldSchema(name:_col10, type:string, comment:null), FieldSchema(name:_col11, type:string, comment:null), FieldSchema(name:_col12, type:string, comment:null)], properties:null)\n",
      "INFO  : Completed compiling command(queryId=hive_20180112012323_d3304ba1-5ba1-42dd-a0f8-b6f70f1f0771); Time taken: 0.138 seconds\n",
      "INFO  : Concurrency mode is disabled, not creating a lock manager\n",
      "INFO  : Executing command(queryId=hive_20180112012323_d3304ba1-5ba1-42dd-a0f8-b6f70f1f0771): insert into datacleaninternalbucketB select * from datacleaninternalparticionB\n",
      "INFO  : Query ID = hive_20180112012323_d3304ba1-5ba1-42dd-a0f8-b6f70f1f0771\n",
      "INFO  : Total jobs = 3\n",
      "INFO  : Launching Job 1 out of 3\n",
      "INFO  : Starting task [Stage-1:MAPRED] in serial mode\n",
      "INFO  : Number of reduce tasks is set to 0 since there's no reduce operator\n",
      "INFO  : Starting Job = job_1515747332816_0003, Tracking URL = http://quickstart.cloudera:8088/proxy/application_1515747332816_0003/\n",
      "INFO  : Kill Command = /usr/lib/hadoop/bin/hadoop job  -kill job_1515747332816_0003\n",
      "INFO  : Hadoop job information for Stage-1: number of mappers: 1; number of reducers: 0\n",
      "INFO  : 2018-01-12 01:23:49,752 Stage-1 map = 0%,  reduce = 0%\n",
      "INFO  : 2018-01-12 01:23:55,016 Stage-1 map = 100%,  reduce = 0%, Cumulative CPU 1.66 sec\n",
      "INFO  : MapReduce Total cumulative CPU time: 1 seconds 660 msec\n",
      "INFO  : Ended Job = job_1515747332816_0003\n",
      "INFO  : Starting task [Stage-7:CONDITIONAL] in serial mode\n",
      "INFO  : Stage-4 is selected by condition resolver.\n",
      "INFO  : Stage-3 is filtered out by condition resolver.\n",
      "INFO  : Stage-5 is filtered out by condition resolver.\n",
      "INFO  : Starting task [Stage-4:MOVE] in serial mode\n",
      "INFO  : Moving data to: hdfs://quickstart.cloudera:8020/user/cloudera/bioinformatica/datacleaninternalbucketb/.hive-staging_hive_2018-01-12_01-23-43_905_3772570939899552136-2/-ext-10000 from hdfs://quickstart.cloudera:8020/user/cloudera/bioinformatica/datacleaninternalbucketb/.hive-staging_hive_2018-01-12_01-23-43_905_3772570939899552136-2/-ext-10002\n",
      "INFO  : Starting task [Stage-0:MOVE] in serial mode\n",
      "INFO  : Loading data to table bioinformatica.datacleaninternalbucketb from hdfs://quickstart.cloudera:8020/user/cloudera/bioinformatica/datacleaninternalbucketb/.hive-staging_hive_2018-01-12_01-23-43_905_3772570939899552136-2/-ext-10000\n",
      "INFO  : Starting task [Stage-2:STATS] in serial mode\n",
      "INFO  : Table bioinformatica.datacleaninternalbucketb stats: [numFiles=2, numRows=12, totalSize=1374, rawDataSize=1362]\n",
      "INFO  : MapReduce Jobs Launched: \n",
      "INFO  : Stage-Stage-1: Map: 1   Cumulative CPU: 1.66 sec   HDFS Read: 7277 HDFS Write: 783 SUCCESS\n",
      "INFO  : Total MapReduce CPU Time Spent: 1 seconds 660 msec\n",
      "INFO  : Completed executing command(queryId=hive_20180112012323_d3304ba1-5ba1-42dd-a0f8-b6f70f1f0771); Time taken: 12.328 seconds\n",
      "INFO  : OK\n",
      "No rows affected (12.482 seconds)\n",
      "Beeline version 1.1.0-cdh5.12.0 by Apache Hive\n",
      "Closing: 0: jdbc:hive2://localhost:10000/bioinformatica\n"
     ]
    }
   ],
   "source": [
    "! beeline -u \"jdbc:hive2://localhost:10000/bioinformatica\" -e \"insert into datacleaninternalbucketB select * from datacleaninternalparticionB;\""
   ]
  },
  {
   "cell_type": "markdown",
   "metadata": {},
   "source": [
    "Si mostramos el contenido de la carpeta donde Hive almacena los datos de esta tabla, veremos los archicos donde se almacenan los buckets."
   ]
  },
  {
   "cell_type": "code",
   "execution_count": 18,
   "metadata": {},
   "outputs": [
    {
     "name": "stdout",
     "output_type": "stream",
     "text": [
      "Found 2 items\n",
      "-rwxr-xr-x   1 anonymous cloudera        687 2018-01-12 01:22 /user/cloudera/bioinformatica/datacleaninternalbucketb/000000_0\n",
      "-rwxr-xr-x   1 anonymous cloudera        687 2018-01-12 01:23 /user/cloudera/bioinformatica/datacleaninternalbucketb/000000_0_copy_1\n"
     ]
    }
   ],
   "source": [
    "! hadoop fs -ls /user/cloudera/bioinformatica/datacleaninternalbucketb"
   ]
  },
  {
   "cell_type": "markdown",
   "metadata": {},
   "source": [
    "### Ahora creamos una tabla externa"
   ]
  },
  {
   "cell_type": "code",
   "execution_count": 11,
   "metadata": {},
   "outputs": [
    {
     "name": "stdout",
     "output_type": "stream",
     "text": [
      "Overwriting ejerciciohive.hql\n"
     ]
    }
   ],
   "source": [
    "%%writefile ejerciciohive.hql\n",
    "set hive.enforce.bucketing=true;\n",
    "\n",
    "create external table datacleanexternalbucketB (\n",
    "  idref  STRING,   \n",
    "  ident  STRING, \n",
    "  gsm19023 FLOAT,  \n",
    "  gsd19024 FLOAT, \n",
    "  gsd19025 FLOAT,   \n",
    "  gsd19026 FLOAT, \n",
    "  genetitle STRING,   \n",
    "  genesymbol STRING,\n",
    "  geneID SMALLINT,   \n",
    "  uniGenetitle STRING,\n",
    "  uniGenesymbol STRING,  \n",
    "  uniGeneID STRING,\n",
    "  NucleotideTitle STRING) \n",
    "CLUSTERED BY (genetitle) INTO 11 BUCKETS\n",
    "ROW FORMAT DELIMITED FIELDS TERMINATED BY '\\t' LOCATION '/user/cloudera/datoshivebucketsB';\n"
   ]
  },
  {
   "cell_type": "code",
   "execution_count": 12,
   "metadata": {},
   "outputs": [
    {
     "name": "stdout",
     "output_type": "stream",
     "text": [
      "scan complete in 1ms\n",
      "Connecting to jdbc:hive2://localhost:10000/bioinformatica\n",
      "Connected to: Apache Hive (version 1.1.0-cdh5.12.0)\n",
      "Driver: Hive JDBC (version 1.1.0-cdh5.12.0)\n",
      "Transaction isolation: TRANSACTION_REPEATABLE_READ\n",
      "0: jdbc:hive2://localhost:10000/bioinformatic> set hive.enforce.bucketing=true;\n",
      "No rows affected (0.045 seconds)\n",
      "0: jdbc:hive2://localhost:10000/bioinformatic> \n",
      "ternalbucketB (/localhost:10000/bioinformatic> create external table datacleanex \n",
      ". . . . . . . . . . . . . . . . . . . . . . .>   idref  STRING,   \n",
      ". . . . . . . . . . . . . . . . . . . . . . .>   ident  STRING, \n",
      ". . . . . . . . . . . . . . . . . . . . . . .>   gsm19023 FLOAT,  \n",
      ". . . . . . . . . . . . . . . . . . . . . . .>   gsd19024 FLOAT, \n",
      ". . . . . . . . . . . . . . . . . . . . . . .>   gsd19025 FLOAT,   \n",
      ". . . . . . . . . . . . . . . . . . . . . . .>   gsd19026 FLOAT, \n",
      ". . . . . . . . . . . . . . . . . . . . . . .>   genetitle STRING,   \n",
      ". . . . . . . . . . . . . . . . . . . . . . .>   genesymbol STRING,\n",
      ". . . . . . . . . . . . . . . . . . . . . . .>   geneID SMALLINT,   \n",
      ". . . . . . . . . . . . . . . . . . . . . . .>   uniGenetitle STRING,\n",
      ". . . . . . . . . . . . . . . . . . . . . . .>   uniGenesymbol STRING,  \n",
      ". . . . . . . . . . . . . . . . . . . . . . .>   uniGeneID STRING,\n",
      ". . . . . . . . . . . . . . . . . . . . . . .>   NucleotideTitle STRING) \n",
      "BUCKETS . . . . . . . . . . . . . . . . . . .> CLUSTERED BY (genetitle) INTO 11  \n",
      "NATED BY '\\t' LOCATION '/user/cloudera/datoshivebucketsB';DELIMITED FIELDS TERMI \n",
      "INFO  : Compiling command(queryId=hive_20180112012424_2bddaac6-25d8-482d-bb63-bf2c8ae70602): create external table datacleanexternalbucketB (\n",
      "idref  STRING,\n",
      "ident  STRING,\n",
      "gsm19023 FLOAT,\n",
      "gsd19024 FLOAT,\n",
      "gsd19025 FLOAT,\n",
      "gsd19026 FLOAT,\n",
      "genetitle STRING,\n",
      "genesymbol STRING,\n",
      "geneID SMALLINT,\n",
      "uniGenetitle STRING,\n",
      "uniGenesymbol STRING,\n",
      "uniGeneID STRING,\n",
      "NucleotideTitle STRING)\n",
      "CLUSTERED BY (genetitle) INTO 11 BUCKETS\n",
      "ROW FORMAT DELIMITED FIELDS TERMINATED BY '\\t' LOCATION '/user/cloudera/datoshivebucketsB'\n",
      "INFO  : Semantic Analysis Completed\n",
      "INFO  : Returning Hive schema: Schema(fieldSchemas:null, properties:null)\n",
      "INFO  : Completed compiling command(queryId=hive_20180112012424_2bddaac6-25d8-482d-bb63-bf2c8ae70602); Time taken: 0.044 seconds\n",
      "INFO  : Concurrency mode is disabled, not creating a lock manager\n",
      "INFO  : Executing command(queryId=hive_20180112012424_2bddaac6-25d8-482d-bb63-bf2c8ae70602): create external table datacleanexternalbucketB (\n",
      "idref  STRING,\n",
      "ident  STRING,\n",
      "gsm19023 FLOAT,\n",
      "gsd19024 FLOAT,\n",
      "gsd19025 FLOAT,\n",
      "gsd19026 FLOAT,\n",
      "genetitle STRING,\n",
      "genesymbol STRING,\n",
      "geneID SMALLINT,\n",
      "uniGenetitle STRING,\n",
      "uniGenesymbol STRING,\n",
      "uniGeneID STRING,\n",
      "NucleotideTitle STRING)\n",
      "CLUSTERED BY (genetitle) INTO 11 BUCKETS\n",
      "ROW FORMAT DELIMITED FIELDS TERMINATED BY '\\t' LOCATION '/user/cloudera/datoshivebucketsB'\n",
      "INFO  : Starting task [Stage-0:DDL] in serial mode\n",
      "INFO  : Completed executing command(queryId=hive_20180112012424_2bddaac6-25d8-482d-bb63-bf2c8ae70602); Time taken: 0.043 seconds\n",
      "INFO  : OK\n",
      "No rows affected (0.099 seconds)\n",
      "0: jdbc:hive2://localhost:10000/bioinformatic> \n",
      "Closing: 0: jdbc:hive2://localhost:10000/bioinformatica\n"
     ]
    }
   ],
   "source": [
    "! beeline -u \"jdbc:hive2://localhost:10000/bioinformatica\" -f ejerciciohive.hql"
   ]
  },
  {
   "cell_type": "code",
   "execution_count": 13,
   "metadata": {},
   "outputs": [
    {
     "name": "stdout",
     "output_type": "stream",
     "text": [
      "scan complete in 2ms\n",
      "Connecting to jdbc:hive2://localhost:10000/bioinformatica\n",
      "Connected to: Apache Hive (version 1.1.0-cdh5.12.0)\n",
      "Driver: Hive JDBC (version 1.1.0-cdh5.12.0)\n",
      "Transaction isolation: TRANSACTION_REPEATABLE_READ\n",
      "INFO  : Compiling command(queryId=hive_20180112012525_b02d9c7c-6d00-4db2-9ed9-4e12d9f65565): insert into datacleanexternalbucketB select * from datacleaninternalparticionB\n",
      "INFO  : Semantic Analysis Completed\n",
      "INFO  : Returning Hive schema: Schema(fieldSchemas:[FieldSchema(name:_col0, type:string, comment:null), FieldSchema(name:_col1, type:string, comment:null), FieldSchema(name:_col2, type:float, comment:null), FieldSchema(name:_col3, type:float, comment:null), FieldSchema(name:_col4, type:float, comment:null), FieldSchema(name:_col5, type:float, comment:null), FieldSchema(name:_col6, type:string, comment:null), FieldSchema(name:_col7, type:smallint, comment:null), FieldSchema(name:_col8, type:smallint, comment:null), FieldSchema(name:_col9, type:string, comment:null), FieldSchema(name:_col10, type:string, comment:null), FieldSchema(name:_col11, type:string, comment:null), FieldSchema(name:_col12, type:string, comment:null)], properties:null)\n",
      "INFO  : Completed compiling command(queryId=hive_20180112012525_b02d9c7c-6d00-4db2-9ed9-4e12d9f65565); Time taken: 0.144 seconds\n",
      "INFO  : Concurrency mode is disabled, not creating a lock manager\n",
      "INFO  : Executing command(queryId=hive_20180112012525_b02d9c7c-6d00-4db2-9ed9-4e12d9f65565): insert into datacleanexternalbucketB select * from datacleaninternalparticionB\n",
      "INFO  : Query ID = hive_20180112012525_b02d9c7c-6d00-4db2-9ed9-4e12d9f65565\n",
      "INFO  : Total jobs = 3\n",
      "INFO  : Launching Job 1 out of 3\n",
      "INFO  : Starting task [Stage-1:MAPRED] in serial mode\n",
      "INFO  : Number of reduce tasks is set to 0 since there's no reduce operator\n",
      "INFO  : Starting Job = job_1515747332816_0004, Tracking URL = http://quickstart.cloudera:8088/proxy/application_1515747332816_0004/\n",
      "INFO  : Kill Command = /usr/lib/hadoop/bin/hadoop job  -kill job_1515747332816_0004\n",
      "INFO  : Hadoop job information for Stage-1: number of mappers: 1; number of reducers: 0\n",
      "INFO  : 2018-01-12 01:25:18,252 Stage-1 map = 0%,  reduce = 0%\n",
      "INFO  : 2018-01-12 01:25:23,482 Stage-1 map = 100%,  reduce = 0%, Cumulative CPU 1.63 sec\n",
      "INFO  : MapReduce Total cumulative CPU time: 1 seconds 630 msec\n",
      "INFO  : Ended Job = job_1515747332816_0004\n",
      "INFO  : Starting task [Stage-7:CONDITIONAL] in serial mode\n",
      "INFO  : Stage-4 is selected by condition resolver.\n",
      "INFO  : Stage-3 is filtered out by condition resolver.\n",
      "INFO  : Stage-5 is filtered out by condition resolver.\n",
      "INFO  : Starting task [Stage-4:MOVE] in serial mode\n",
      "INFO  : Moving data to: hdfs://quickstart.cloudera:8020/user/cloudera/datoshivebucketsB/.hive-staging_hive_2018-01-12_01-25-12_961_8011816306505996561-2/-ext-10000 from hdfs://quickstart.cloudera:8020/user/cloudera/datoshivebucketsB/.hive-staging_hive_2018-01-12_01-25-12_961_8011816306505996561-2/-ext-10002\n",
      "INFO  : Starting task [Stage-0:MOVE] in serial mode\n",
      "INFO  : Loading data to table bioinformatica.datacleanexternalbucketb from hdfs://quickstart.cloudera:8020/user/cloudera/datoshivebucketsB/.hive-staging_hive_2018-01-12_01-25-12_961_8011816306505996561-2/-ext-10000\n",
      "INFO  : Starting task [Stage-2:STATS] in serial mode\n",
      "INFO  : Table bioinformatica.datacleanexternalbucketb stats: [numFiles=1, numRows=6, totalSize=687, rawDataSize=681]\n",
      "INFO  : MapReduce Jobs Launched: \n",
      "INFO  : Stage-Stage-1: Map: 1   Cumulative CPU: 1.63 sec   HDFS Read: 7091 HDFS Write: 783 SUCCESS\n",
      "INFO  : Total MapReduce CPU Time Spent: 1 seconds 630 msec\n",
      "INFO  : Completed executing command(queryId=hive_20180112012525_b02d9c7c-6d00-4db2-9ed9-4e12d9f65565); Time taken: 12.769 seconds\n",
      "INFO  : OK\n",
      "No rows affected (12.931 seconds)\n",
      "Beeline version 1.1.0-cdh5.12.0 by Apache Hive\n",
      "Closing: 0: jdbc:hive2://localhost:10000/bioinformatica\n"
     ]
    }
   ],
   "source": [
    "! beeline -u \"jdbc:hive2://localhost:10000/bioinformatica\" -e \"insert into datacleanexternalbucketB select * from datacleaninternalparticionB;\""
   ]
  },
  {
   "cell_type": "code",
   "execution_count": 14,
   "metadata": {},
   "outputs": [
    {
     "name": "stdout",
     "output_type": "stream",
     "text": [
      "scan complete in 1ms\n",
      "Connecting to jdbc:hive2://localhost:10000/bioinformatica\n",
      "Connected to: Apache Hive (version 1.1.0-cdh5.12.0)\n",
      "Driver: Hive JDBC (version 1.1.0-cdh5.12.0)\n",
      "Transaction isolation: TRANSACTION_REPEATABLE_READ\n",
      "INFO  : Compiling command(queryId=hive_20180112012525_a85f1642-805f-415e-83aa-97e329fba2c0): select * from datacleanexternalbucketB\n",
      "INFO  : Semantic Analysis Completed\n",
      "INFO  : Returning Hive schema: Schema(fieldSchemas:[FieldSchema(name:datacleanexternalbucketb.idref, type:string, comment:null), FieldSchema(name:datacleanexternalbucketb.ident, type:string, comment:null), FieldSchema(name:datacleanexternalbucketb.gsm19023, type:float, comment:null), FieldSchema(name:datacleanexternalbucketb.gsd19024, type:float, comment:null), FieldSchema(name:datacleanexternalbucketb.gsd19025, type:float, comment:null), FieldSchema(name:datacleanexternalbucketb.gsd19026, type:float, comment:null), FieldSchema(name:datacleanexternalbucketb.genetitle, type:string, comment:null), FieldSchema(name:datacleanexternalbucketb.genesymbol, type:string, comment:null), FieldSchema(name:datacleanexternalbucketb.geneid, type:smallint, comment:null), FieldSchema(name:datacleanexternalbucketb.unigenetitle, type:string, comment:null), FieldSchema(name:datacleanexternalbucketb.unigenesymbol, type:string, comment:null), FieldSchema(name:datacleanexternalbucketb.unigeneid, type:string, comment:null), FieldSchema(name:datacleanexternalbucketb.nucleotidetitle, type:string, comment:null)], properties:null)\n",
      "INFO  : Completed compiling command(queryId=hive_20180112012525_a85f1642-805f-415e-83aa-97e329fba2c0); Time taken: 0.088 seconds\n",
      "INFO  : Concurrency mode is disabled, not creating a lock manager\n",
      "INFO  : Executing command(queryId=hive_20180112012525_a85f1642-805f-415e-83aa-97e329fba2c0): select * from datacleanexternalbucketB\n",
      "INFO  : Completed executing command(queryId=hive_20180112012525_a85f1642-805f-415e-83aa-97e329fba2c0); Time taken: 0.0 seconds\n",
      "INFO  : OK\n",
      "+---------------------------------+---------------------------------+------------------------------------+------------------------------------+------------------------------------+------------------------------------+-------------------------------------+--------------------------------------+----------------------------------+----------------------------------------+-----------------------------------------+----------------------------------------------------+-------------------------------------------+--+\n",
      "| datacleanexternalbucketb.idref  | datacleanexternalbucketb.ident  | datacleanexternalbucketb.gsm19023  | datacleanexternalbucketb.gsd19024  | datacleanexternalbucketb.gsd19025  | datacleanexternalbucketb.gsd19026  | datacleanexternalbucketb.genetitle  | datacleanexternalbucketb.genesymbol  | datacleanexternalbucketb.geneid  | datacleanexternalbucketb.unigenetitle  | datacleanexternalbucketb.unigenesymbol  |         datacleanexternalbucketb.unigeneid         | datacleanexternalbucketb.nucleotidetitle  |\n",
      "+---------------------------------+---------------------------------+------------------------------------+------------------------------------+------------------------------------+------------------------------------+-------------------------------------+--------------------------------------+----------------------------------+----------------------------------------+-----------------------------------------+----------------------------------------------------+-------------------------------------------+--+\n",
      "| 161272_f_at                     | Znrf2                           | 1216.300048828125                  | 1587.699951171875                  | 759.5                              | 1063.199951171875                  | zinc and ring finger 2              | NULL                                 | NULL                             |                                        |                                         |                                                    | Znrf2                                     |\n",
      "| 99574_at                        | Znrf2                           | 3783.39990234375                   | 3126.300048828125                  | 2105.39990234375                   | 1684.699951171875                  | zinc and ring finger 2              | NULL                                 | NULL                             |                                        |                                         |                                                    | Znrf2                                     |\n",
      "| 104396_at                       | Znrf2                           | 1963.800048828125                  | 1770.9000244140625                 | 943.7000122070312                  | 951.4000244140625                  | zinc and ring finger 2              | NULL                                 | NULL                             |                                        |                                         |                                                    | Znrf2                                     |\n",
      "| 104418_at                       | Znrf2                           | 840.2999877929688                  | 919.4000244140625                  | 300.8999938964844                  | 487.1000061035156                  | zinc and ring finger 2              | NULL                                 | NULL                             |                                        |                                         |                                                    | Znrf2                                     |\n",
      "| 160455_s_at                     | Zwint                           | 5437.5                             | 6415.7998046875                    | 7748.89990234375                   | 8008.89990234375                   | ZW10 interactor                     | NULL                                 | NULL                             |                                        |                                         | UI-M-BH2.1-apm-d-05-0-UI.s1 NIH_BMAP_M_S3.1 Mus musculus cDNA clone UI-M-BH2.1-apm-d-05-0-UI 3-, mRNA sequence | zwint                                     |\n",
      "| 99087_at                        | Zwint                           | 3958.699951171875                  | 3107.39990234375                   | 4313.5                             | 4526.7001953125                    | ZW10 interactor                     | NULL                                 | NULL                             |                                        |                                         | UI-M-BH1-amu-d-09-0-UI.s1 NIH_BMAP_M_S2 Mus musculus cDNA clone UI-M-BH1-amu-d-09-0-UI 3-, mRNA sequence | zwint                                     |\n",
      "+---------------------------------+---------------------------------+------------------------------------+------------------------------------+------------------------------------+------------------------------------+-------------------------------------+--------------------------------------+----------------------------------+----------------------------------------+-----------------------------------------+----------------------------------------------------+-------------------------------------------+--+\n",
      "6 rows selected (0.197 seconds)\n",
      "Beeline version 1.1.0-cdh5.12.0 by Apache Hive\n",
      "Closing: 0: jdbc:hive2://localhost:10000/bioinformatica\n"
     ]
    }
   ],
   "source": [
    "! beeline -u \"jdbc:hive2://localhost:10000/bioinformatica\" -e \"select * from datacleanexternalbucketB\";"
   ]
  },
  {
   "cell_type": "code",
   "execution_count": 15,
   "metadata": {},
   "outputs": [
    {
     "name": "stdout",
     "output_type": "stream",
     "text": [
      "Found 1 items\r\n",
      "-rwxr-xr-x   1 anonymous cloudera        687 2018-01-12 01:25 /user/cloudera/datoshivebucketsB/000000_0\r\n"
     ]
    }
   ],
   "source": [
    "! hadoop fs -ls /user/cloudera/datoshivebucketsB"
   ]
  },
  {
   "cell_type": "code",
   "execution_count": null,
   "metadata": {
    "collapsed": true
   },
   "outputs": [],
   "source": []
  }
 ],
 "metadata": {
  "kernelspec": {
   "display_name": "Python 2",
   "language": "python",
   "name": "python2"
  },
  "language_info": {
   "codemirror_mode": {
    "name": "ipython",
    "version": 2
   },
   "file_extension": ".py",
   "mimetype": "text/x-python",
   "name": "python",
   "nbconvert_exporter": "python",
   "pygments_lexer": "ipython2",
   "version": "2.7.14"
  }
 },
 "nbformat": 4,
 "nbformat_minor": 2
}
