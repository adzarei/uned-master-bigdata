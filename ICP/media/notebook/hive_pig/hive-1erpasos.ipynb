{
 "cells": [
  {
   "cell_type": "markdown",
   "metadata": {},
   "source": [
    "# Primeros pasos con bases de datos Hive"
   ]
  },
  {
   "cell_type": "code",
   "execution_count": 1,
   "metadata": {
    "collapsed": true
   },
   "outputs": [],
   "source": [
    "! mkdir -p /media/notebooks/hive_pig/hive-1erpaso"
   ]
  },
  {
   "cell_type": "code",
   "execution_count": 2,
   "metadata": {
    "collapsed": true
   },
   "outputs": [],
   "source": [
    "import os\n",
    "os.chdir(\"/media/notebooks/hive_pig/hive-1erpaso\")"
   ]
  },
  {
   "cell_type": "code",
   "execution_count": 3,
   "metadata": {
    "collapsed": false
   },
   "outputs": [
    {
     "name": "stdout",
     "output_type": "stream",
     "text": [
      "/media/notebooks/hive_pig/hive-1erpaso\r\n"
     ]
    }
   ],
   "source": [
    "! pwd"
   ]
  },
  {
   "cell_type": "code",
   "execution_count": 4,
   "metadata": {
    "collapsed": false
   },
   "outputs": [
    {
     "name": "stdout",
     "output_type": "stream",
     "text": [
      "Writing ejerciciohive.hql\n"
     ]
    }
   ],
   "source": [
    "%%writefile ejerciciohive.hql\n",
    "create database if not exists miprimerabasedatos\n",
    "Comment 'Esta es mi primera bd'\n",
    "Location '/user/cloudera/miprimerabasedatos'\n",
    "With dbproperties ('Creada por'='User','Creada el'='26-Dic-2017');\n",
    "\n",
    "describe database extended miprimerabasedatos;\n",
    "\n",
    "show databases;\n"
   ]
  },
  {
   "cell_type": "code",
   "execution_count": 5,
   "metadata": {
    "collapsed": false
   },
   "outputs": [
    {
     "name": "stdout",
     "output_type": "stream",
     "text": [
      "2019-11-04 22:09:33,678 WARN  [main] mapreduce.TableMapReduceUtil: The hbase-prefix-tree module jar containing PrefixTreeCodec is not present.  Continuing without it.\n",
      "scan complete in 3ms\n",
      "Connecting to jdbc:hive2://localhost:10000/default\n",
      "Connected to: Apache Hive (version 1.1.0-cdh5.7.0)\n",
      "Driver: Hive JDBC (version 1.1.0-cdh5.7.0)\n",
      "Transaction isolation: TRANSACTION_REPEATABLE_READ\n",
      "basedatosive2://localhost:10000/default> create database if not exists miprimera \n",
      "0: jdbc:hive2://localhost:10000/default> Comment 'Esta es mi primera bd'\n",
      "atos'bc:hive2://localhost:10000/default> Location '/user/cloudera/miprimerabased \n",
      "'Creada el'='26-Dic-2017');0000/default> With dbproperties ('Creada por'='User', \n",
      "INFO  : Compiling command(queryId=hive_20191104220909_ba6fbcd6-035b-4d81-960f-7e394df05a31): create database if not exists miprimerabasedatos\n",
      "Comment 'Esta es mi primera bd'\n",
      "Location '/user/cloudera/miprimerabasedatos'\n",
      "With dbproperties ('Creada por'='User','Creada el'='26-Dic-2017')\n",
      "INFO  : Semantic Analysis Completed\n",
      "INFO  : Returning Hive schema: Schema(fieldSchemas:null, properties:null)\n",
      "INFO  : Completed compiling command(queryId=hive_20191104220909_ba6fbcd6-035b-4d81-960f-7e394df05a31); Time taken: 0.026 seconds\n",
      "INFO  : Concurrency mode is disabled, not creating a lock manager\n",
      "INFO  : Executing command(queryId=hive_20191104220909_ba6fbcd6-035b-4d81-960f-7e394df05a31): create database if not exists miprimerabasedatos\n",
      "Comment 'Esta es mi primera bd'\n",
      "Location '/user/cloudera/miprimerabasedatos'\n",
      "With dbproperties ('Creada por'='User','Creada el'='26-Dic-2017')\n",
      "INFO  : Starting task [Stage-0:DDL] in serial mode\n",
      "INFO  : Completed executing command(queryId=hive_20191104220909_ba6fbcd6-035b-4d81-960f-7e394df05a31); Time taken: 0.273 seconds\n",
      "INFO  : OK\n",
      "No rows affected (0.382 seconds)\n",
      "0: jdbc:hive2://localhost:10000/default> \n",
      "edatos;:hive2://localhost:10000/default> describe database extended miprimerabas \n",
      "INFO  : Compiling command(queryId=hive_20191104220909_688a6aa2-1f41-443a-872e-5e692f9d70a5): describe database extended miprimerabasedatos\n",
      "INFO  : Semantic Analysis Completed\n",
      "INFO  : Returning Hive schema: Schema(fieldSchemas:[FieldSchema(name:db_name, type:string, comment:from deserializer), FieldSchema(name:comment, type:string, comment:from deserializer), FieldSchema(name:location, type:string, comment:from deserializer), FieldSchema(name:owner_name, type:string, comment:from deserializer), FieldSchema(name:owner_type, type:string, comment:from deserializer), FieldSchema(name:parameters, type:string, comment:from deserializer)], properties:null)\n",
      "INFO  : Completed compiling command(queryId=hive_20191104220909_688a6aa2-1f41-443a-872e-5e692f9d70a5); Time taken: 0.013 seconds\n",
      "INFO  : Concurrency mode is disabled, not creating a lock manager\n",
      "INFO  : Executing command(queryId=hive_20191104220909_688a6aa2-1f41-443a-872e-5e692f9d70a5): describe database extended miprimerabasedatos\n",
      "INFO  : Starting task [Stage-0:DDL] in serial mode\n",
      "INFO  : Completed executing command(queryId=hive_20191104220909_688a6aa2-1f41-443a-872e-5e692f9d70a5); Time taken: 0.013 seconds\n",
      "INFO  : OK\n",
      "+---------------------+------------------------+-------------------------------------------------------------------+-------------+-------------+-------------------------------------------+--+\n",
      "|       db_name       |        comment         |                             location                              | owner_name  | owner_type  |                parameters                 |\n",
      "+---------------------+------------------------+-------------------------------------------------------------------+-------------+-------------+-------------------------------------------+--+\n",
      "| miprimerabasedatos  | Esta es mi primera bd  | hdfs://quickstart.cloudera:8020/user/cloudera/miprimerabasedatos  | anonymous   | USER        | {Creada por=User, Creada el=26-Dic-2017}  |\n",
      "+---------------------+------------------------+-------------------------------------------------------------------+-------------+-------------+-------------------------------------------+--+\n",
      "1 row selected (0.127 seconds)\n",
      "0: jdbc:hive2://localhost:10000/default> \n",
      "0: jdbc:hive2://localhost:10000/default> show databases;\n",
      "INFO  : Compiling command(queryId=hive_20191104220909_c16b8ef1-13df-4789-92bc-a3033f075206): show databases\n",
      "INFO  : Semantic Analysis Completed\n",
      "INFO  : Returning Hive schema: Schema(fieldSchemas:[FieldSchema(name:database_name, type:string, comment:from deserializer)], properties:null)\n",
      "INFO  : Completed compiling command(queryId=hive_20191104220909_c16b8ef1-13df-4789-92bc-a3033f075206); Time taken: 0.006 seconds\n",
      "INFO  : Concurrency mode is disabled, not creating a lock manager\n",
      "INFO  : Executing command(queryId=hive_20191104220909_c16b8ef1-13df-4789-92bc-a3033f075206): show databases\n",
      "INFO  : Starting task [Stage-0:DDL] in serial mode\n",
      "INFO  : Completed executing command(queryId=hive_20191104220909_c16b8ef1-13df-4789-92bc-a3033f075206); Time taken: 0.01 seconds\n",
      "INFO  : OK\n",
      "+---------------------+--+\n",
      "|    database_name    |\n",
      "+---------------------+--+\n",
      "| default             |\n",
      "| miprimerabasedatos  |\n",
      "+---------------------+--+\n",
      "2 rows selected (0.033 seconds)\n",
      "0: jdbc:hive2://localhost:10000/default> \n",
      "Closing: 0: jdbc:hive2://localhost:10000/default\n"
     ]
    }
   ],
   "source": [
    "! beeline -u \"jdbc:hive2://localhost:10000/default\" -f ejerciciohive.hql"
   ]
  },
  {
   "cell_type": "code",
   "execution_count": 6,
   "metadata": {
    "collapsed": false
   },
   "outputs": [
    {
     "name": "stdout",
     "output_type": "stream",
     "text": [
      "Overwriting ejerciciohive.hql\n"
     ]
    }
   ],
   "source": [
    "%%writefile ejerciciohive.hql\n",
    "alter database miprimerabasedatos set dbproperties ('Creada por' = 'User1', 'Creada el' = '27-Dic-2017');\n",
    "describe database extended miprimerabasedatos;\n"
   ]
  },
  {
   "cell_type": "code",
   "execution_count": 7,
   "metadata": {
    "collapsed": false
   },
   "outputs": [
    {
     "name": "stdout",
     "output_type": "stream",
     "text": [
      "2019-11-04 22:11:06,540 WARN  [main] mapreduce.TableMapReduceUtil: The hbase-prefix-tree module jar containing PrefixTreeCodec is not present.  Continuing without it.\n",
      "scan complete in 2ms\n",
      "Connecting to jdbc:hive2://localhost:10000/default\n",
      "Connected to: Apache Hive (version 1.1.0-cdh5.7.0)\n",
      "Driver: Hive JDBC (version 1.1.0-cdh5.7.0)\n",
      "Transaction isolation: TRANSACTION_REPEATABLE_READ\n",
      "bproperties ('Creada por' = 'User1', 'Creada el' = '27-Dic-2017');asedatos set d \n",
      "INFO  : Compiling command(queryId=hive_20191104221111_b91b26a9-c5a8-4b51-90d7-4878337fc693): alter database miprimerabasedatos set dbproperties ('Creada por' = 'User1', 'Creada el' = '27-Dic-2017')\n",
      "INFO  : Semantic Analysis Completed\n",
      "INFO  : Returning Hive schema: Schema(fieldSchemas:null, properties:null)\n",
      "INFO  : Completed compiling command(queryId=hive_20191104221111_b91b26a9-c5a8-4b51-90d7-4878337fc693); Time taken: 0.061 seconds\n",
      "INFO  : Concurrency mode is disabled, not creating a lock manager\n",
      "INFO  : Executing command(queryId=hive_20191104221111_b91b26a9-c5a8-4b51-90d7-4878337fc693): alter database miprimerabasedatos set dbproperties ('Creada por' = 'User1', 'Creada el' = '27-Dic-2017')\n",
      "INFO  : Starting task [Stage-0:DDL] in serial mode\n",
      "INFO  : Completed executing command(queryId=hive_20191104221111_b91b26a9-c5a8-4b51-90d7-4878337fc693); Time taken: 0.053 seconds\n",
      "INFO  : OK\n",
      "No rows affected (0.177 seconds)\n",
      "edatos;:hive2://localhost:10000/default> describe database extended miprimerabas \n",
      "INFO  : Compiling command(queryId=hive_20191104221111_18e72300-14e8-4c3d-9dd4-c91dad040f6a): describe database extended miprimerabasedatos\n",
      "INFO  : Semantic Analysis Completed\n",
      "INFO  : Returning Hive schema: Schema(fieldSchemas:[FieldSchema(name:db_name, type:string, comment:from deserializer), FieldSchema(name:comment, type:string, comment:from deserializer), FieldSchema(name:location, type:string, comment:from deserializer), FieldSchema(name:owner_name, type:string, comment:from deserializer), FieldSchema(name:owner_type, type:string, comment:from deserializer), FieldSchema(name:parameters, type:string, comment:from deserializer)], properties:null)\n",
      "INFO  : Completed compiling command(queryId=hive_20191104221111_18e72300-14e8-4c3d-9dd4-c91dad040f6a); Time taken: 0.006 seconds\n",
      "INFO  : Concurrency mode is disabled, not creating a lock manager\n",
      "INFO  : Executing command(queryId=hive_20191104221111_18e72300-14e8-4c3d-9dd4-c91dad040f6a): describe database extended miprimerabasedatos\n",
      "INFO  : Starting task [Stage-0:DDL] in serial mode\n",
      "INFO  : Completed executing command(queryId=hive_20191104221111_18e72300-14e8-4c3d-9dd4-c91dad040f6a); Time taken: 0.007 seconds\n",
      "INFO  : OK\n",
      "+---------------------+------------------------+-------------------------------------------------------------------+-------------+-------------+--------------------------------------------+--+\n",
      "|       db_name       |        comment         |                             location                              | owner_name  | owner_type  |                 parameters                 |\n",
      "+---------------------+------------------------+-------------------------------------------------------------------+-------------+-------------+--------------------------------------------+--+\n",
      "| miprimerabasedatos  | Esta es mi primera bd  | hdfs://quickstart.cloudera:8020/user/cloudera/miprimerabasedatos  | anonymous   | USER        | {Creada por=User1, Creada el=27-Dic-2017}  |\n",
      "+---------------------+------------------------+-------------------------------------------------------------------+-------------+-------------+--------------------------------------------+--+\n",
      "1 row selected (0.092 seconds)\n",
      "0: jdbc:hive2://localhost:10000/default> \n",
      "Closing: 0: jdbc:hive2://localhost:10000/default\n"
     ]
    }
   ],
   "source": [
    "! beeline -u \"jdbc:hive2://localhost:10000/default\" -f ejerciciohive.hql"
   ]
  },
  {
   "cell_type": "code",
   "execution_count": 8,
   "metadata": {
    "collapsed": false
   },
   "outputs": [
    {
     "name": "stdout",
     "output_type": "stream",
     "text": [
      "Overwriting ejerciciohive.hql\n"
     ]
    }
   ],
   "source": [
    "%%writefile ejerciciohive.hql\n",
    "use miprimerabasedatos;\n",
    "show tables;\n"
   ]
  },
  {
   "cell_type": "code",
   "execution_count": 9,
   "metadata": {
    "collapsed": false
   },
   "outputs": [
    {
     "name": "stdout",
     "output_type": "stream",
     "text": [
      "2019-11-04 22:11:31,586 WARN  [main] mapreduce.TableMapReduceUtil: The hbase-prefix-tree module jar containing PrefixTreeCodec is not present.  Continuing without it.\n",
      "scan complete in 3ms\n",
      "Connecting to jdbc:hive2://localhost:10000/default\n",
      "Connected to: Apache Hive (version 1.1.0-cdh5.7.0)\n",
      "Driver: Hive JDBC (version 1.1.0-cdh5.7.0)\n",
      "Transaction isolation: TRANSACTION_REPEATABLE_READ\n",
      "0: jdbc:hive2://localhost:10000/default> use miprimerabasedatos;\n",
      "INFO  : Compiling command(queryId=hive_20191104221111_a39d55a3-8f0f-4a0c-8a42-4070b403000a): use miprimerabasedatos\n",
      "INFO  : Semantic Analysis Completed\n",
      "INFO  : Returning Hive schema: Schema(fieldSchemas:null, properties:null)\n",
      "INFO  : Completed compiling command(queryId=hive_20191104221111_a39d55a3-8f0f-4a0c-8a42-4070b403000a); Time taken: 0.06 seconds\n",
      "INFO  : Concurrency mode is disabled, not creating a lock manager\n",
      "INFO  : Executing command(queryId=hive_20191104221111_a39d55a3-8f0f-4a0c-8a42-4070b403000a): use miprimerabasedatos\n",
      "INFO  : Starting task [Stage-0:DDL] in serial mode\n",
      "INFO  : Completed executing command(queryId=hive_20191104221111_a39d55a3-8f0f-4a0c-8a42-4070b403000a); Time taken: 0.038 seconds\n",
      "INFO  : OK\n",
      "No rows affected (0.188 seconds)\n",
      "0: jdbc:hive2://localhost:10000/default> show tables;\n",
      "INFO  : Compiling command(queryId=hive_20191104221111_24cae4af-8cbc-4707-abf4-f1346f4cbdaf): show tables\n",
      "INFO  : Semantic Analysis Completed\n",
      "INFO  : Returning Hive schema: Schema(fieldSchemas:[FieldSchema(name:tab_name, type:string, comment:from deserializer)], properties:null)\n",
      "INFO  : Completed compiling command(queryId=hive_20191104221111_24cae4af-8cbc-4707-abf4-f1346f4cbdaf); Time taken: 0.005 seconds\n",
      "INFO  : Concurrency mode is disabled, not creating a lock manager\n",
      "INFO  : Executing command(queryId=hive_20191104221111_24cae4af-8cbc-4707-abf4-f1346f4cbdaf): show tables\n",
      "INFO  : Starting task [Stage-0:DDL] in serial mode\n",
      "INFO  : Completed executing command(queryId=hive_20191104221111_24cae4af-8cbc-4707-abf4-f1346f4cbdaf); Time taken: 0.024 seconds\n",
      "INFO  : OK\n",
      "+-----------+--+\n",
      "| tab_name  |\n",
      "+-----------+--+\n",
      "+-----------+--+\n",
      "No rows selected (0.098 seconds)\n",
      "0: jdbc:hive2://localhost:10000/default> \n",
      "Closing: 0: jdbc:hive2://localhost:10000/default\n"
     ]
    }
   ],
   "source": [
    "! beeline -u \"jdbc:hive2://localhost:10000/default\" -f ejerciciohive.hql"
   ]
  },
  {
   "cell_type": "code",
   "execution_count": 10,
   "metadata": {
    "collapsed": false
   },
   "outputs": [
    {
     "name": "stdout",
     "output_type": "stream",
     "text": [
      "2019-11-04 22:11:42,209 WARN  [main] mapreduce.TableMapReduceUtil: The hbase-prefix-tree module jar containing PrefixTreeCodec is not present.  Continuing without it.\n",
      "scan complete in 4ms\n",
      "Connecting to jdbc:hive2://localhost:10000/default\n",
      "Connected to: Apache Hive (version 1.1.0-cdh5.7.0)\n",
      "Driver: Hive JDBC (version 1.1.0-cdh5.7.0)\n",
      "Transaction isolation: TRANSACTION_REPEATABLE_READ\n",
      "INFO  : Compiling command(queryId=hive_20191104221111_d5e45161-69f6-4edb-935a-52d8834154e5): drop database miprimerabasedatos\n",
      "INFO  : Semantic Analysis Completed\n",
      "INFO  : Returning Hive schema: Schema(fieldSchemas:null, properties:null)\n",
      "INFO  : Completed compiling command(queryId=hive_20191104221111_d5e45161-69f6-4edb-935a-52d8834154e5); Time taken: 0.052 seconds\n",
      "INFO  : Concurrency mode is disabled, not creating a lock manager\n",
      "INFO  : Executing command(queryId=hive_20191104221111_d5e45161-69f6-4edb-935a-52d8834154e5): drop database miprimerabasedatos\n",
      "INFO  : Starting task [Stage-0:DDL] in serial mode\n",
      "INFO  : Completed executing command(queryId=hive_20191104221111_d5e45161-69f6-4edb-935a-52d8834154e5); Time taken: 0.123 seconds\n",
      "INFO  : OK\n",
      "No rows affected (0.241 seconds)\n",
      "INFO  : Compiling command(queryId=hive_20191104221111_5664a463-e849-4717-a629-d60db3ab00e7): show databases\n",
      "INFO  : Semantic Analysis Completed\n",
      "INFO  : Returning Hive schema: Schema(fieldSchemas:[FieldSchema(name:database_name, type:string, comment:from deserializer)], properties:null)\n",
      "INFO  : Completed compiling command(queryId=hive_20191104221111_5664a463-e849-4717-a629-d60db3ab00e7); Time taken: 0.01 seconds\n",
      "INFO  : Concurrency mode is disabled, not creating a lock manager\n",
      "INFO  : Executing command(queryId=hive_20191104221111_5664a463-e849-4717-a629-d60db3ab00e7): show databases\n",
      "INFO  : Starting task [Stage-0:DDL] in serial mode\n",
      "INFO  : Completed executing command(queryId=hive_20191104221111_5664a463-e849-4717-a629-d60db3ab00e7); Time taken: 0.015 seconds\n",
      "INFO  : OK\n",
      "+----------------+--+\n",
      "| database_name  |\n",
      "+----------------+--+\n",
      "| default        |\n",
      "+----------------+--+\n",
      "1 row selected (0.087 seconds)\n",
      "Beeline version 1.1.0-cdh5.7.0 by Apache Hive\n",
      "Closing: 0: jdbc:hive2://localhost:10000/default\n"
     ]
    }
   ],
   "source": [
    "! beeline -u \"jdbc:hive2://localhost:10000/default\" -e \"drop database miprimerabasedatos; show databases;\"\n"
   ]
  },
  {
   "cell_type": "code",
   "execution_count": 11,
   "metadata": {
    "collapsed": false
   },
   "outputs": [
    {
     "name": "stdout",
     "output_type": "stream",
     "text": [
      "2019-11-04 22:11:53,760 WARN  [main] mapreduce.TableMapReduceUtil: The hbase-prefix-tree module jar containing PrefixTreeCodec is not present.  Continuing without it.\n",
      "scan complete in 2ms\n",
      "Connecting to jdbc:hive2://localhost:10000/default\n",
      "Connected to: Apache Hive (version 1.1.0-cdh5.7.0)\n",
      "Driver: Hive JDBC (version 1.1.0-cdh5.7.0)\n",
      "Transaction isolation: TRANSACTION_REPEATABLE_READ\n",
      "INFO  : Compiling command(queryId=hive_20191104221111_ed236d2e-308b-4eb7-8ece-1e8ebde71cf8): show functions\n",
      "INFO  : Semantic Analysis Completed\n",
      "INFO  : Returning Hive schema: Schema(fieldSchemas:[FieldSchema(name:tab_name, type:string, comment:from deserializer)], properties:null)\n",
      "INFO  : Completed compiling command(queryId=hive_20191104221111_ed236d2e-308b-4eb7-8ece-1e8ebde71cf8); Time taken: 0.007 seconds\n",
      "INFO  : Concurrency mode is disabled, not creating a lock manager\n",
      "INFO  : Executing command(queryId=hive_20191104221111_ed236d2e-308b-4eb7-8ece-1e8ebde71cf8): show functions\n",
      "INFO  : Starting task [Stage-0:DDL] in serial mode\n",
      "INFO  : Completed executing command(queryId=hive_20191104221111_ed236d2e-308b-4eb7-8ece-1e8ebde71cf8); Time taken: 0.004 seconds\n",
      "INFO  : OK\n",
      "+-------------------------+--+\n",
      "|        tab_name         |\n",
      "+-------------------------+--+\n",
      "| !                       |\n",
      "| !=                      |\n",
      "| %                       |\n",
      "| &                       |\n",
      "| *                       |\n",
      "| +                       |\n",
      "| -                       |\n",
      "| /                       |\n",
      "| <                       |\n",
      "| <=                      |\n",
      "| <=>                     |\n",
      "| <>                      |\n",
      "| =                       |\n",
      "| ==                      |\n",
      "| >                       |\n",
      "| >=                      |\n",
      "| ^                       |\n",
      "| abs                     |\n",
      "| acos                    |\n",
      "| add_months              |\n",
      "| and                     |\n",
      "| array                   |\n",
      "| array_contains          |\n",
      "| ascii                   |\n",
      "| asin                    |\n",
      "| assert_true             |\n",
      "| atan                    |\n",
      "| avg                     |\n",
      "| base64                  |\n",
      "| between                 |\n",
      "| bin                     |\n",
      "| case                    |\n",
      "| cbrt                    |\n",
      "| ceil                    |\n",
      "| ceiling                 |\n",
      "| coalesce                |\n",
      "| collect_list            |\n",
      "| collect_set             |\n",
      "| compute_stats           |\n",
      "| concat                  |\n",
      "| concat_ws               |\n",
      "| context_ngrams          |\n",
      "| conv                    |\n",
      "| corr                    |\n",
      "| cos                     |\n",
      "| count                   |\n",
      "| covar_pop               |\n",
      "| covar_samp              |\n",
      "| create_union            |\n",
      "| cume_dist               |\n",
      "| current_database        |\n",
      "| current_date            |\n",
      "| current_timestamp       |\n",
      "| current_user            |\n",
      "| date_add                |\n",
      "| date_sub                |\n",
      "| datediff                |\n",
      "| day                     |\n",
      "| dayofmonth              |\n",
      "| decode                  |\n",
      "| degrees                 |\n",
      "| dense_rank              |\n",
      "| div                     |\n",
      "| e                       |\n",
      "| elt                     |\n",
      "| encode                  |\n",
      "| ewah_bitmap             |\n",
      "| ewah_bitmap_and         |\n",
      "| ewah_bitmap_empty       |\n",
      "| ewah_bitmap_or          |\n",
      "| exp                     |\n",
      "| explode                 |\n",
      "| field                   |\n",
      "| find_in_set             |\n",
      "| first_value             |\n",
      "| floor                   |\n",
      "| format_number           |\n",
      "| from_unixtime           |\n",
      "| from_utc_timestamp      |\n",
      "| get_json_object         |\n",
      "| greatest                |\n",
      "| hash                    |\n",
      "| hex                     |\n",
      "| histogram_numeric       |\n",
      "| hour                    |\n",
      "| if                      |\n",
      "| in                      |\n",
      "| in_file                 |\n",
      "| index                   |\n",
      "| initcap                 |\n",
      "| inline                  |\n",
      "| instr                   |\n",
      "| isnotnull               |\n",
      "| isnull                  |\n",
      "| java_method             |\n",
      "| json_tuple              |\n",
      "| lag                     |\n",
      "| last_day                |\n",
      "| last_value              |\n",
      "| lcase                   |\n",
      "+-------------------------+--+\n",
      "|        tab_name         |\n",
      "+-------------------------+--+\n",
      "| lead                    |\n",
      "| least                   |\n",
      "| length                  |\n",
      "| levenshtein             |\n",
      "| like                    |\n",
      "| ln                      |\n",
      "| locate                  |\n",
      "| log                     |\n",
      "| log10                   |\n",
      "| log2                    |\n",
      "| lower                   |\n",
      "| lpad                    |\n",
      "| ltrim                   |\n",
      "| map                     |\n",
      "| map_keys                |\n",
      "| map_values              |\n",
      "| matchpath               |\n",
      "| max                     |\n",
      "| min                     |\n",
      "| minute                  |\n",
      "| month                   |\n",
      "| named_struct            |\n",
      "| negative                |\n",
      "| next_day                |\n",
      "| ngrams                  |\n",
      "| noop                    |\n",
      "| noopstreaming           |\n",
      "| noopwithmap             |\n",
      "| noopwithmapstreaming    |\n",
      "| not                     |\n",
      "| ntile                   |\n",
      "| nvl                     |\n",
      "| or                      |\n",
      "| parse_url               |\n",
      "| parse_url_tuple         |\n",
      "| percent_rank            |\n",
      "| percentile              |\n",
      "| percentile_approx       |\n",
      "| pi                      |\n",
      "| pmod                    |\n",
      "| posexplode              |\n",
      "| positive                |\n",
      "| pow                     |\n",
      "| power                   |\n",
      "| printf                  |\n",
      "| radians                 |\n",
      "| rand                    |\n",
      "| rank                    |\n",
      "| reflect                 |\n",
      "| reflect2                |\n",
      "| regexp                  |\n",
      "| regexp_extract          |\n",
      "| regexp_replace          |\n",
      "| repeat                  |\n",
      "| reverse                 |\n",
      "| rlike                   |\n",
      "| round                   |\n",
      "| row_number              |\n",
      "| rpad                    |\n",
      "| rtrim                   |\n",
      "| second                  |\n",
      "| sentences               |\n",
      "| sign                    |\n",
      "| sin                     |\n",
      "| size                    |\n",
      "| sort_array              |\n",
      "| soundex                 |\n",
      "| space                   |\n",
      "| split                   |\n",
      "| sqrt                    |\n",
      "| stack                   |\n",
      "| std                     |\n",
      "| stddev                  |\n",
      "| stddev_pop              |\n",
      "| stddev_samp             |\n",
      "| str_to_map              |\n",
      "| struct                  |\n",
      "| substr                  |\n",
      "| substring               |\n",
      "| sum                     |\n",
      "| tan                     |\n",
      "| to_date                 |\n",
      "| to_unix_timestamp       |\n",
      "| to_utc_timestamp        |\n",
      "| translate               |\n",
      "| trim                    |\n",
      "| trunc                   |\n",
      "| ucase                   |\n",
      "| unbase64                |\n",
      "| unhex                   |\n",
      "| unix_timestamp          |\n",
      "| upper                   |\n",
      "| var_pop                 |\n",
      "| var_samp                |\n",
      "| variance                |\n",
      "| weekofyear              |\n",
      "| when                    |\n",
      "| windowingtablefunction  |\n",
      "| xpath                   |\n",
      "| xpath_boolean           |\n",
      "+-------------------------+--+\n",
      "|        tab_name         |\n",
      "+-------------------------+--+\n",
      "| xpath_double            |\n",
      "| xpath_float             |\n",
      "| xpath_int               |\n",
      "| xpath_long              |\n",
      "| xpath_number            |\n",
      "| xpath_short             |\n",
      "| xpath_string            |\n",
      "| year                    |\n",
      "| |                       |\n",
      "| ~                       |\n",
      "+-------------------------+--+\n",
      "210 rows selected (0.158 seconds)\n",
      "Beeline version 1.1.0-cdh5.7.0 by Apache Hive\n",
      "Closing: 0: jdbc:hive2://localhost:10000/default\n"
     ]
    }
   ],
   "source": [
    "! beeline -u \"jdbc:hive2://localhost:10000/default\" -e \"show functions;\"\n"
   ]
  },
  {
   "cell_type": "code",
   "execution_count": 12,
   "metadata": {
    "collapsed": false
   },
   "outputs": [
    {
     "name": "stdout",
     "output_type": "stream",
     "text": [
      "2019-11-04 22:12:10,264 WARN  [main] mapreduce.TableMapReduceUtil: The hbase-prefix-tree module jar containing PrefixTreeCodec is not present.  Continuing without it.\n",
      "scan complete in 3ms\n",
      "Connecting to jdbc:hive2://localhost:10000/default\n",
      "Connected to: Apache Hive (version 1.1.0-cdh5.7.0)\n",
      "Driver: Hive JDBC (version 1.1.0-cdh5.7.0)\n",
      "Transaction isolation: TRANSACTION_REPEATABLE_READ\n",
      "INFO  : Compiling command(queryId=hive_20191104221212_014c1dec-0602-402f-b92a-172166c7480b): describe function extended xpath_long\n",
      "INFO  : Semantic Analysis Completed\n",
      "INFO  : Returning Hive schema: Schema(fieldSchemas:[FieldSchema(name:tab_name, type:string, comment:from deserializer)], properties:null)\n",
      "INFO  : Completed compiling command(queryId=hive_20191104221212_014c1dec-0602-402f-b92a-172166c7480b); Time taken: 0.015 seconds\n",
      "INFO  : Concurrency mode is disabled, not creating a lock manager\n",
      "INFO  : Executing command(queryId=hive_20191104221212_014c1dec-0602-402f-b92a-172166c7480b): describe function extended xpath_long\n",
      "INFO  : Starting task [Stage-0:DDL] in serial mode\n",
      "INFO  : Completed executing command(queryId=hive_20191104221212_014c1dec-0602-402f-b92a-172166c7480b); Time taken: 0.009 seconds\n",
      "INFO  : OK\n",
      "+----------------------------------------------------------------------------------+--+\n",
      "|                                     tab_name                                     |\n",
      "+----------------------------------------------------------------------------------+--+\n",
      "| xpath_long(xml, xpath) - Returns a long value that matches the xpath expression  |\n",
      "| Example:                                                                         |\n",
      "|   > SELECT xpath_long('<a><b>1</b><b>2</b></a>','sum(a/b)') FROM src LIMIT 1;    |\n",
      "|   3                                                                              |\n",
      "+----------------------------------------------------------------------------------+--+\n",
      "4 rows selected (0.181 seconds)\n",
      "Beeline version 1.1.0-cdh5.7.0 by Apache Hive\n",
      "Closing: 0: jdbc:hive2://localhost:10000/default\n"
     ]
    }
   ],
   "source": [
    "! beeline -u \"jdbc:hive2://localhost:10000/default\" -e \"describe function extended xpath_long;\"\n"
   ]
  },
  {
   "cell_type": "code",
   "execution_count": null,
   "metadata": {
    "collapsed": true
   },
   "outputs": [],
   "source": []
  }
 ],
 "metadata": {
  "kernelspec": {
   "display_name": "Python 2",
   "language": "python",
   "name": "python2"
  },
  "language_info": {
   "codemirror_mode": {
    "name": "ipython",
    "version": 2
   },
   "file_extension": ".py",
   "mimetype": "text/x-python",
   "name": "python",
   "nbconvert_exporter": "python",
   "pygments_lexer": "ipython2",
   "version": "2.7.13"
  }
 },
 "nbformat": 4,
 "nbformat_minor": 2
}
