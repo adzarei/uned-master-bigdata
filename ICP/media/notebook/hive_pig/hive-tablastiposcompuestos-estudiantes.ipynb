{
 "cells": [
  {
   "cell_type": "markdown",
   "metadata": {},
   "source": [
    "## Creando tablas de tipos compuestos"
   ]
  },
  {
   "cell_type": "code",
   "execution_count": 1,
   "metadata": {
    "collapsed": true
   },
   "outputs": [],
   "source": [
    "! mkdir -p hive-tablastiposcompuestos"
   ]
  },
  {
   "cell_type": "code",
   "execution_count": 2,
   "metadata": {
    "collapsed": true
   },
   "outputs": [],
   "source": [
    "import os\n",
    "os.chdir(\"hive-tablastiposcompuestos\")"
   ]
  },
  {
   "cell_type": "code",
   "execution_count": 3,
   "metadata": {
    "collapsed": false
   },
   "outputs": [
    {
     "name": "stdout",
     "output_type": "stream",
     "text": [
      "/media/notebooks/hive-tablastiposcompuestos\r\n"
     ]
    }
   ],
   "source": [
    "! pwd"
   ]
  },
  {
   "cell_type": "code",
   "execution_count": 5,
   "metadata": {
    "collapsed": false
   },
   "outputs": [],
   "source": [
    "! hadoop fs -put ../empleados.txt datoshive"
   ]
  },
  {
   "cell_type": "code",
   "execution_count": 18,
   "metadata": {
    "collapsed": false
   },
   "outputs": [
    {
     "name": "stdout",
     "output_type": "stream",
     "text": [
      "-rw-r--r--   1 root supergroup        264 2019-04-17 11:21 /user/root/datoshive/empleados.txt\r\n"
     ]
    }
   ],
   "source": [
    "! hadoop fs -ls /user/$(whoami)/datoshive/empleados.txt"
   ]
  },
  {
   "cell_type": "code",
   "execution_count": 11,
   "metadata": {
    "collapsed": false
   },
   "outputs": [
    {
     "name": "stdout",
     "output_type": "stream",
     "text": [
      "Overwriting ejerciciohive.hql\n"
     ]
    }
   ],
   "source": [
    "%%writefile ejerciciohive.hql\n",
    "create database if not exists bdempleados\n",
    "Comment 'BD de empleados'\n",
    "Location '/user/$(whoami)/empleados'\n",
    "With dbproperties ('Creada por'='User','Creada el'='26-Dic-2017');\n"
   ]
  },
  {
   "cell_type": "code",
   "execution_count": 12,
   "metadata": {
    "collapsed": false
   },
   "outputs": [
    {
     "name": "stdout",
     "output_type": "stream",
     "text": [
      "2019-04-17 11:24:08,093 WARN  [main] mapreduce.TableMapReduceUtil: The hbase-prefix-tree module jar containing PrefixTreeCodec is not present.  Continuing without it.\n",
      "scan complete in 3ms\n",
      "Connecting to jdbc:hive2://localhost:10000/default\n",
      "Connected to: Apache Hive (version 1.1.0-cdh5.7.0)\n",
      "Driver: Hive JDBC (version 1.1.0-cdh5.7.0)\n",
      "Transaction isolation: TRANSACTION_REPEATABLE_READ\n",
      "os jdbc:hive2://localhost:10000/default> create database if not exists bdemplead \n",
      "0: jdbc:hive2://localhost:10000/default> Comment 'BD de empleados'\n",
      "0: jdbc:hive2://localhost:10000/default> Location '/user/$(whoami)/empleados'\n",
      "'Creada el'='26-Dic-2017');0000/default> With dbproperties ('Creada por'='User', \n",
      "INFO  : Compiling command(queryId=hive_20190417112424_4b35fc8f-8097-4a03-9287-a7663fd9edb6): create database if not exists bdempleados\n",
      "Comment 'BD de empleados'\n",
      "Location '/user/$(whoami)/empleados'\n",
      "With dbproperties ('Creada por'='User','Creada el'='26-Dic-2017')\n",
      "INFO  : Semantic Analysis Completed\n",
      "INFO  : Returning Hive schema: Schema(fieldSchemas:null, properties:null)\n",
      "INFO  : Completed compiling command(queryId=hive_20190417112424_4b35fc8f-8097-4a03-9287-a7663fd9edb6); Time taken: 0.007 seconds\n",
      "INFO  : Concurrency mode is disabled, not creating a lock manager\n",
      "INFO  : Executing command(queryId=hive_20190417112424_4b35fc8f-8097-4a03-9287-a7663fd9edb6): create database if not exists bdempleados\n",
      "Comment 'BD de empleados'\n",
      "Location '/user/$(whoami)/empleados'\n",
      "With dbproperties ('Creada por'='User','Creada el'='26-Dic-2017')\n",
      "INFO  : Starting task [Stage-0:DDL] in serial mode\n",
      "INFO  : Completed executing command(queryId=hive_20190417112424_4b35fc8f-8097-4a03-9287-a7663fd9edb6); Time taken: 0.075 seconds\n",
      "INFO  : OK\n",
      "No rows affected (0.144 seconds)\n",
      "0: jdbc:hive2://localhost:10000/default> \n",
      "Closing: 0: jdbc:hive2://localhost:10000/default\n"
     ]
    }
   ],
   "source": [
    "! beeline -u \"jdbc:hive2://localhost:10000/default\" -f ejerciciohive.hql"
   ]
  },
  {
   "cell_type": "code",
   "execution_count": 13,
   "metadata": {
    "collapsed": false
   },
   "outputs": [
    {
     "name": "stdout",
     "output_type": "stream",
     "text": [
      "Overwriting ejerciciohive.hql\n"
     ]
    }
   ],
   "source": [
    "%%writefile ejerciciohive.hql\n",
    "CREATE TABLE IF NOT EXISTS empleadosinterna\n",
    "(\n",
    "  nombre string,\n",
    "  ciudad ARRAY<string>,\n",
    "  sexo_edad STRUCT<sexo:string,edad:int>,\n",
    "  habilidades_puntuacion MAP<string,int>,\n",
    "  dpto_rol MAP<STRING,STRING>\n",
    ")\n",
    "COMMENT 'Tabla interna'\n",
    "ROW FORMAT DELIMITED\n",
    "FIELDS TERMINATED BY '|'\n",
    "COLLECTION ITEMS TERMINATED BY ','\n",
    "MAP KEYS TERMINATED BY ':';\n",
    "\n",
    "LOAD DATA INPATH '/user/root/datoshive/empleados.txt' INTO TABLE empleadosinterna;\n",
    "\n",
    "\n",
    "show tables;"
   ]
  },
  {
   "cell_type": "code",
   "execution_count": 14,
   "metadata": {
    "collapsed": false
   },
   "outputs": [
    {
     "name": "stdout",
     "output_type": "stream",
     "text": [
      "2019-04-17 11:24:37,453 WARN  [main] mapreduce.TableMapReduceUtil: The hbase-prefix-tree module jar containing PrefixTreeCodec is not present.  Continuing without it.\n",
      "scan complete in 2ms\n",
      "Connecting to jdbc:hive2://localhost:10000/bdempleados\n",
      "Connected to: Apache Hive (version 1.1.0-cdh5.7.0)\n",
      "Driver: Hive JDBC (version 1.1.0-cdh5.7.0)\n",
      "Transaction isolation: TRANSACTION_REPEATABLE_READ\n",
      "sinternahive2://localhost:10000/bdempleados> CREATE TABLE IF NOT EXISTS empleado \n",
      "0: jdbc:hive2://localhost:10000/bdempleados> (\n",
      "0: jdbc:hive2://localhost:10000/bdempleados>   nombre string,\n",
      "0: jdbc:hive2://localhost:10000/bdempleados>   ciudad ARRAY<string>,\n",
      ":int>,c:hive2://localhost:10000/bdempleados>   sexo_edad STRUCT<sexo:string,edad \n",
      ",int>,c:hive2://localhost:10000/bdempleados>   habilidades_puntuacion MAP<string \n",
      "0: jdbc:hive2://localhost:10000/bdempleados>   dpto_rol MAP<STRING,STRING>\n",
      "0: jdbc:hive2://localhost:10000/bdempleados> )\n",
      "0: jdbc:hive2://localhost:10000/bdempleados> COMMENT 'Tabla interna'\n",
      "0: jdbc:hive2://localhost:10000/bdempleados> ROW FORMAT DELIMITED\n",
      "0: jdbc:hive2://localhost:10000/bdempleados> FIELDS TERMINATED BY '|'\n",
      "0: jdbc:hive2://localhost:10000/bdempleados> COLLECTION ITEMS TERMINATED BY ','\n",
      "0: jdbc:hive2://localhost:10000/bdempleados> MAP KEYS TERMINATED BY ':';\n",
      "INFO  : Compiling command(queryId=hive_20190417112424_ec29f67d-3369-4d4a-a543-02e9dbf0eb03): CREATE TABLE IF NOT EXISTS empleadosinterna\n",
      "(\n",
      "  nombre string,\n",
      "  ciudad ARRAY<string>,\n",
      "  sexo_edad STRUCT<sexo:string,edad:int>,\n",
      "  habilidades_puntuacion MAP<string,int>,\n",
      "  dpto_rol MAP<STRING,STRING>\n",
      ")\n",
      "COMMENT 'Tabla interna'\n",
      "ROW FORMAT DELIMITED\n",
      "FIELDS TERMINATED BY '|'\n",
      "COLLECTION ITEMS TERMINATED BY ','\n",
      "MAP KEYS TERMINATED BY ':'\n",
      "INFO  : Semantic Analysis Completed\n",
      "INFO  : Returning Hive schema: Schema(fieldSchemas:null, properties:null)\n",
      "INFO  : Completed compiling command(queryId=hive_20190417112424_ec29f67d-3369-4d4a-a543-02e9dbf0eb03); Time taken: 0.045 seconds\n",
      "INFO  : Concurrency mode is disabled, not creating a lock manager\n",
      "INFO  : Executing command(queryId=hive_20190417112424_ec29f67d-3369-4d4a-a543-02e9dbf0eb03): CREATE TABLE IF NOT EXISTS empleadosinterna\n",
      "(\n",
      "  nombre string,\n",
      "  ciudad ARRAY<string>,\n",
      "  sexo_edad STRUCT<sexo:string,edad:int>,\n",
      "  habilidades_puntuacion MAP<string,int>,\n",
      "  dpto_rol MAP<STRING,STRING>\n",
      ")\n",
      "COMMENT 'Tabla interna'\n",
      "ROW FORMAT DELIMITED\n",
      "FIELDS TERMINATED BY '|'\n",
      "COLLECTION ITEMS TERMINATED BY ','\n",
      "MAP KEYS TERMINATED BY ':'\n",
      "INFO  : Starting task [Stage-0:DDL] in serial mode\n",
      "INFO  : Completed executing command(queryId=hive_20190417112424_ec29f67d-3369-4d4a-a543-02e9dbf0eb03); Time taken: 0.054 seconds\n",
      "INFO  : OK\n",
      "No rows affected (0.156 seconds)\n",
      "0: jdbc:hive2://localhost:10000/bdempleados> \n",
      "atoshive/empleados.txt' INTO TABLE empleadosinterna;TA INPATH '/user/$(whoami)/d \n",
      "Error: Error while compiling statement: FAILED: SemanticException Line 1:17 Invalid path ''/user/$(whoami)/datoshive/empleados.txt'': No files matching path hdfs://quickstart.cloudera:8020/user/$(whoami)/datoshive/empleados.txt (state=42000,code=40000)\n",
      "\n",
      "Closing: 0: jdbc:hive2://localhost:10000/bdempleados\n"
     ]
    }
   ],
   "source": [
    "! beeline -u \"jdbc:hive2://localhost:10000/bdempleados\" -f ejerciciohive.hql"
   ]
  },
  {
   "cell_type": "code",
   "execution_count": 20,
   "metadata": {
    "collapsed": false
   },
   "outputs": [
    {
     "name": "stdout",
     "output_type": "stream",
     "text": [
      "2019-04-17 11:28:07,575 WARN  [main] mapreduce.TableMapReduceUtil: The hbase-prefix-tree module jar containing PrefixTreeCodec is not present.  Continuing without it.\n",
      "scan complete in 2ms\n",
      "Connecting to jdbc:hive2://localhost:10000/bdempleados\n",
      "Connected to: Apache Hive (version 1.1.0-cdh5.7.0)\n",
      "Driver: Hive JDBC (version 1.1.0-cdh5.7.0)\n",
      "Transaction isolation: TRANSACTION_REPEATABLE_READ\n",
      "INFO  : Compiling command(queryId=hive_20190417112828_78a12b13-0b6e-4859-9625-47b2a463f7e3): select * from empleadosinterna\n",
      "INFO  : Semantic Analysis Completed\n",
      "INFO  : Returning Hive schema: Schema(fieldSchemas:[FieldSchema(name:empleadosinterna.nombre, type:string, comment:null), FieldSchema(name:empleadosinterna.ciudad, type:array<string>, comment:null), FieldSchema(name:empleadosinterna.sexo_edad, type:struct<sexo:string,edad:int>, comment:null), FieldSchema(name:empleadosinterna.habilidades_puntuacion, type:map<string,int>, comment:null), FieldSchema(name:empleadosinterna.dpto_rol, type:map<string,string>, comment:null)], properties:null)\n",
      "INFO  : Completed compiling command(queryId=hive_20190417112828_78a12b13-0b6e-4859-9625-47b2a463f7e3); Time taken: 0.078 seconds\n",
      "INFO  : Concurrency mode is disabled, not creating a lock manager\n",
      "INFO  : Executing command(queryId=hive_20190417112828_78a12b13-0b6e-4859-9625-47b2a463f7e3): select * from empleadosinterna\n",
      "INFO  : Completed executing command(queryId=hive_20190417112828_78a12b13-0b6e-4859-9625-47b2a463f7e3); Time taken: 0.001 seconds\n",
      "INFO  : OK\n",
      "+--------------------------+--------------------------+---------------------------------+------------------------------------------+-----------------------------------------------+--+\n",
      "| empleadosinterna.nombre  | empleadosinterna.ciudad  |   empleadosinterna.sexo_edad    | empleadosinterna.habilidades_puntuacion  |           empleadosinterna.dpto_rol           |\n",
      "+--------------------------+--------------------------+---------------------------------+------------------------------------------+-----------------------------------------------+--+\n",
      "| Miguel                   | [\"Barcelona\",\"Madrid\"]   | {\"sexo\":\"Masculino\",\"edad\":30}  | {\"BD\":80}                                | {\"Produccion\":\"Jefe\",\"I+D\":\"Subjefe\"}         |\n",
      "| Alberto                  | [\"Albacete\"]             | {\"sexo\":\"Masculino\",\"edad\":35}  | {\"Java\":85}                              | {\"Produccion\":\"Subjefe\",\"Test\":\"Arquitecto\"}  |\n",
      "| Maria                    | [\"Valencia\"]             | {\"sexo\":\"Femenino\",\"edad\":27}   | {\"Python\":80,\"R\":90}                     | {\"Test\":\"Jefe\",\"I+D\":\"Arquitecto\"}            |\n",
      "| Lucia                    | [\"Bilbao\"]               | {\"sexo\":\"Femenino\",\"edad\":57}   | {\"Ventas\":89,\"HR\":94}                    | {\"Ventas\":\"Jefe\"}                             |\n",
      "+--------------------------+--------------------------+---------------------------------+------------------------------------------+-----------------------------------------------+--+\n",
      "4 rows selected (0.228 seconds)\n",
      "Beeline version 1.1.0-cdh5.7.0 by Apache Hive\n",
      "Closing: 0: jdbc:hive2://localhost:10000/bdempleados\n"
     ]
    }
   ],
   "source": [
    "! beeline -u \"jdbc:hive2://localhost:10000/bdempleados\" -e \"select * from empleadosinterna;\""
   ]
  },
  {
   "cell_type": "markdown",
   "metadata": {
    "collapsed": true
   },
   "source": [
    "Devuelve el nombre de los empleados de Madrid"
   ]
  },
  {
   "cell_type": "code",
   "execution_count": 22,
   "metadata": {
    "collapsed": false
   },
   "outputs": [
    {
     "name": "stdout",
     "output_type": "stream",
     "text": [
      "2019-04-17 11:33:29,652 WARN  [main] mapreduce.TableMapReduceUtil: The hbase-prefix-tree module jar containing PrefixTreeCodec is not present.  Continuing without it.\n",
      "scan complete in 3ms\n",
      "Connecting to jdbc:hive2://localhost:10000/bdempleados\n",
      "Connected to: Apache Hive (version 1.1.0-cdh5.7.0)\n",
      "Driver: Hive JDBC (version 1.1.0-cdh5.7.0)\n",
      "Transaction isolation: TRANSACTION_REPEATABLE_READ\n",
      "INFO  : Compiling command(queryId=hive_20190417113333_61806197-8bad-4af0-865e-140dc27a79b1): select nombre from empleadosinterna e where array_contains(e.ciudad, 'Madrid')\n",
      "INFO  : Semantic Analysis Completed\n",
      "INFO  : Returning Hive schema: Schema(fieldSchemas:[FieldSchema(name:nombre, type:string, comment:null)], properties:null)\n",
      "INFO  : Completed compiling command(queryId=hive_20190417113333_61806197-8bad-4af0-865e-140dc27a79b1); Time taken: 0.069 seconds\n",
      "INFO  : Concurrency mode is disabled, not creating a lock manager\n",
      "INFO  : Executing command(queryId=hive_20190417113333_61806197-8bad-4af0-865e-140dc27a79b1): select nombre from empleadosinterna e where array_contains(e.ciudad, 'Madrid')\n",
      "INFO  : Completed executing command(queryId=hive_20190417113333_61806197-8bad-4af0-865e-140dc27a79b1); Time taken: 0.0 seconds\n",
      "INFO  : OK\n",
      "+---------+--+\n",
      "| nombre  |\n",
      "+---------+--+\n",
      "| Miguel  |\n",
      "+---------+--+\n",
      "1 row selected (0.183 seconds)\n",
      "Beeline version 1.1.0-cdh5.7.0 by Apache Hive\n",
      "Closing: 0: jdbc:hive2://localhost:10000/bdempleados\n"
     ]
    }
   ],
   "source": [
    "! beeline -u \"jdbc:hive2://localhost:10000/bdempleados\" -e \"select nombre from empleadosinterna e where array_contains(e.ciudad, 'Madrid');\""
   ]
  },
  {
   "cell_type": "markdown",
   "metadata": {},
   "source": [
    "Devuelve el nombre de los empleados feneminos. "
   ]
  },
  {
   "cell_type": "code",
   "execution_count": 26,
   "metadata": {
    "collapsed": false
   },
   "outputs": [
    {
     "name": "stdout",
     "output_type": "stream",
     "text": [
      "2019-04-17 11:38:18,911 WARN  [main] mapreduce.TableMapReduceUtil: The hbase-prefix-tree module jar containing PrefixTreeCodec is not present.  Continuing without it.\n",
      "scan complete in 3ms\n",
      "Connecting to jdbc:hive2://localhost:10000/bdempleados\n",
      "Connected to: Apache Hive (version 1.1.0-cdh5.7.0)\n",
      "Driver: Hive JDBC (version 1.1.0-cdh5.7.0)\n",
      "Transaction isolation: TRANSACTION_REPEATABLE_READ\n",
      "INFO  : Compiling command(queryId=hive_20190417113838_ad3811be-97a0-4672-ae0e-6de7f77f16bb): select nombre from empleadosinterna where sexo_edad.sexo='Femenino'\n",
      "INFO  : Semantic Analysis Completed\n",
      "INFO  : Returning Hive schema: Schema(fieldSchemas:[FieldSchema(name:nombre, type:string, comment:null)], properties:null)\n",
      "INFO  : Completed compiling command(queryId=hive_20190417113838_ad3811be-97a0-4672-ae0e-6de7f77f16bb); Time taken: 0.113 seconds\n",
      "INFO  : Concurrency mode is disabled, not creating a lock manager\n",
      "INFO  : Executing command(queryId=hive_20190417113838_ad3811be-97a0-4672-ae0e-6de7f77f16bb): select nombre from empleadosinterna where sexo_edad.sexo='Femenino'\n",
      "INFO  : Completed executing command(queryId=hive_20190417113838_ad3811be-97a0-4672-ae0e-6de7f77f16bb); Time taken: 0.0 seconds\n",
      "INFO  : OK\n",
      "+---------+--+\n",
      "| nombre  |\n",
      "+---------+--+\n",
      "| Maria   |\n",
      "| Lucia   |\n",
      "+---------+--+\n",
      "2 rows selected (0.24 seconds)\n",
      "Beeline version 1.1.0-cdh5.7.0 by Apache Hive\n",
      "Closing: 0: jdbc:hive2://localhost:10000/bdempleados\n"
     ]
    }
   ],
   "source": [
    "! beeline -u \"jdbc:hive2://localhost:10000/bdempleados\" -e \"select nombre from empleadosinterna where sexo_edad.sexo='Femenino';\""
   ]
  },
  {
   "cell_type": "markdown",
   "metadata": {},
   "source": [
    "Devuelve el nombre del jefe del departamento de Produccion."
   ]
  },
  {
   "cell_type": "code",
   "execution_count": 28,
   "metadata": {
    "collapsed": false
   },
   "outputs": [
    {
     "name": "stdout",
     "output_type": "stream",
     "text": [
      "2019-04-17 11:40:38,933 WARN  [main] mapreduce.TableMapReduceUtil: The hbase-prefix-tree module jar containing PrefixTreeCodec is not present.  Continuing without it.\n",
      "scan complete in 2ms\n",
      "Connecting to jdbc:hive2://localhost:10000/bdempleados\n",
      "Connected to: Apache Hive (version 1.1.0-cdh5.7.0)\n",
      "Driver: Hive JDBC (version 1.1.0-cdh5.7.0)\n",
      "Transaction isolation: TRANSACTION_REPEATABLE_READ\n",
      "INFO  : Compiling command(queryId=hive_20190417114040_0909ba40-a8e4-4bcd-8759-f10da54cdf2a): select nombre from empleadosinterna where dpto_rol['Produccion']='Jefe'\n",
      "INFO  : Semantic Analysis Completed\n",
      "INFO  : Returning Hive schema: Schema(fieldSchemas:[FieldSchema(name:nombre, type:string, comment:null)], properties:null)\n",
      "INFO  : Completed compiling command(queryId=hive_20190417114040_0909ba40-a8e4-4bcd-8759-f10da54cdf2a); Time taken: 0.087 seconds\n",
      "INFO  : Concurrency mode is disabled, not creating a lock manager\n",
      "INFO  : Executing command(queryId=hive_20190417114040_0909ba40-a8e4-4bcd-8759-f10da54cdf2a): select nombre from empleadosinterna where dpto_rol['Produccion']='Jefe'\n",
      "INFO  : Completed executing command(queryId=hive_20190417114040_0909ba40-a8e4-4bcd-8759-f10da54cdf2a); Time taken: 0.001 seconds\n",
      "INFO  : OK\n",
      "+---------+--+\n",
      "| nombre  |\n",
      "+---------+--+\n",
      "| Miguel  |\n",
      "+---------+--+\n",
      "1 row selected (0.211 seconds)\n",
      "Beeline version 1.1.0-cdh5.7.0 by Apache Hive\n",
      "Closing: 0: jdbc:hive2://localhost:10000/bdempleados\n"
     ]
    }
   ],
   "source": [
    "! beeline -u \"jdbc:hive2://localhost:10000/bdempleados\" -e \"select nombre from empleadosinterna where dpto_rol['Produccion']='Jefe';\""
   ]
  },
  {
   "cell_type": "markdown",
   "metadata": {},
   "source": [
    "## Implementa los siguientes ejercicios"
   ]
  },
  {
   "cell_type": "markdown",
   "metadata": {},
   "source": [
    "Devuelve los nombres de los empleados del departamento de Produccion"
   ]
  },
  {
   "cell_type": "code",
   "execution_count": null,
   "metadata": {
    "collapsed": true
   },
   "outputs": [],
   "source": []
  },
  {
   "cell_type": "markdown",
   "metadata": {},
   "source": [
    "Devuelve el nombre de los empleados que tengan entre 70 y 90 de habilidad con Python"
   ]
  },
  {
   "cell_type": "code",
   "execution_count": null,
   "metadata": {
    "collapsed": true
   },
   "outputs": [],
   "source": []
  }
 ],
 "metadata": {
  "kernelspec": {
   "display_name": "Python 2",
   "language": "python",
   "name": "python2"
  },
  "language_info": {
   "codemirror_mode": {
    "name": "ipython",
    "version": 2
   },
   "file_extension": ".py",
   "mimetype": "text/x-python",
   "name": "python",
   "nbconvert_exporter": "python",
   "pygments_lexer": "ipython2",
   "version": "2.7.13"
  }
 },
 "nbformat": 4,
 "nbformat_minor": 2
}
