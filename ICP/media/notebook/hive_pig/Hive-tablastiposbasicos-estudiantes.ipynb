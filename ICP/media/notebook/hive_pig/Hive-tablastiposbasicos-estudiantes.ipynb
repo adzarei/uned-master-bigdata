{
 "cells": [
  {
   "cell_type": "markdown",
   "metadata": {},
   "source": [
    "# Creando tablas con tipos basicos"
   ]
  },
  {
   "cell_type": "code",
   "execution_count": 3,
   "metadata": {
    "collapsed": true
   },
   "outputs": [],
   "source": [
    "! mkdir -p hive-tablastiposbasicos"
   ]
  },
  {
   "cell_type": "code",
   "execution_count": 4,
   "metadata": {
    "collapsed": true
   },
   "outputs": [],
   "source": [
    "import os\n",
    "os.chdir(\"hive-tablastiposbasicos\")"
   ]
  },
  {
   "cell_type": "code",
   "execution_count": 5,
   "metadata": {
    "collapsed": false
   },
   "outputs": [
    {
     "name": "stdout",
     "output_type": "stream",
     "text": [
      "/media/notebooks/hive-tablastiposbasicos\r\n"
     ]
    }
   ],
   "source": [
    "! pwd"
   ]
  },
  {
   "cell_type": "code",
   "execution_count": 6,
   "metadata": {
    "collapsed": false
   },
   "outputs": [],
   "source": [
    "! hadoop fs -mkdir /user/$(whoami)/datoshive\n",
    "! hadoop fs -put ../part-00000 datoshive"
   ]
  },
  {
   "cell_type": "markdown",
   "metadata": {},
   "source": [
    "## Creamos tabla interna"
   ]
  },
  {
   "cell_type": "code",
   "execution_count": 7,
   "metadata": {
    "collapsed": false
   },
   "outputs": [
    {
     "name": "stdout",
     "output_type": "stream",
     "text": [
      "Overwriting ejerciciohive.hql\n"
     ]
    }
   ],
   "source": [
    "%%writefile ejerciciohive.hql\n",
    "create database if not exists bioinformatica\n",
    "Comment 'BD de bioinformatica'\n",
    "Location '/user/cloudera/bioinformatica'\n",
    "With dbproperties ('Creada por'='User','Creada el'='26-Dic-2017');\n",
    "\n",
    "use bioinformatica;\n",
    "\n",
    "create table datacleaninternalB (\n",
    "  idref  STRING,   \n",
    "  ident  STRING,\n",
    "  gsm19023 FLOAT,  \n",
    "  gsd19024 FLOAT, \n",
    "  gsd19025 FLOAT,    \n",
    "  gsd19026 FLOAT, \n",
    "  genetitle STRING,   \n",
    "  genesymbol STRING,\n",
    "  geneID SMALLINT,    \n",
    "  uniGenetitle STRING,\n",
    "  uniGenesymbol STRING,   \n",
    "  uniGeneID STRING,\n",
    "  NucleotideTitle STRING) \n",
    "ROW FORMAT DELIMITED FIELDS TERMINATED BY '\\t';\n"
   ]
  },
  {
   "cell_type": "code",
   "execution_count": 8,
   "metadata": {
    "collapsed": false
   },
   "outputs": [
    {
     "name": "stdout",
     "output_type": "stream",
     "text": [
      "2019-04-17 08:25:54,732 WARN  [main] mapreduce.TableMapReduceUtil: The hbase-prefix-tree module jar containing PrefixTreeCodec is not present.  Continuing without it.\n",
      "scan complete in 2ms\n",
      "Connecting to jdbc:hive2://localhost:10000/default\n",
      "Connected to: Apache Hive (version 1.1.0-cdh5.7.0)\n",
      "Driver: Hive JDBC (version 1.1.0-cdh5.7.0)\n",
      "Transaction isolation: TRANSACTION_REPEATABLE_READ\n",
      "aticabc:hive2://localhost:10000/default> create database if not exists bioinform \n",
      "0: jdbc:hive2://localhost:10000/default> Comment 'BD de bioinformatica'\n",
      "': jdbc:hive2://localhost:10000/default> Location '/user/cloudera/bioinformatica \n",
      "'Creada el'='26-Dic-2017');0000/default> With dbproperties ('Creada por'='User', \n",
      "INFO  : Compiling command(queryId=hive_20190417082525_047cb248-57ee-4d73-9fe8-bcebb7eee0cc): create database if not exists bioinformatica\n",
      "Comment 'BD de bioinformatica'\n",
      "Location '/user/cloudera/bioinformatica'\n",
      "With dbproperties ('Creada por'='User','Creada el'='26-Dic-2017')\n",
      "INFO  : Semantic Analysis Completed\n",
      "INFO  : Returning Hive schema: Schema(fieldSchemas:null, properties:null)\n",
      "INFO  : Completed compiling command(queryId=hive_20190417082525_047cb248-57ee-4d73-9fe8-bcebb7eee0cc); Time taken: 0.037 seconds\n",
      "INFO  : Concurrency mode is disabled, not creating a lock manager\n",
      "INFO  : Executing command(queryId=hive_20190417082525_047cb248-57ee-4d73-9fe8-bcebb7eee0cc): create database if not exists bioinformatica\n",
      "Comment 'BD de bioinformatica'\n",
      "Location '/user/cloudera/bioinformatica'\n",
      "With dbproperties ('Creada por'='User','Creada el'='26-Dic-2017')\n",
      "INFO  : Starting task [Stage-0:DDL] in serial mode\n",
      "INFO  : Completed executing command(queryId=hive_20190417082525_047cb248-57ee-4d73-9fe8-bcebb7eee0cc); Time taken: 0.208 seconds\n",
      "INFO  : OK\n",
      "No rows affected (0.316 seconds)\n",
      "0: jdbc:hive2://localhost:10000/default> \n",
      "0: jdbc:hive2://localhost:10000/default> use bioinformatica;\n",
      "INFO  : Compiling command(queryId=hive_20190417082525_bab32651-8cae-4291-9ee7-6ca8576a86ea): use bioinformatica\n",
      "INFO  : Semantic Analysis Completed\n",
      "INFO  : Returning Hive schema: Schema(fieldSchemas:null, properties:null)\n",
      "INFO  : Completed compiling command(queryId=hive_20190417082525_bab32651-8cae-4291-9ee7-6ca8576a86ea); Time taken: 0.034 seconds\n",
      "INFO  : Concurrency mode is disabled, not creating a lock manager\n",
      "INFO  : Executing command(queryId=hive_20190417082525_bab32651-8cae-4291-9ee7-6ca8576a86ea): use bioinformatica\n",
      "INFO  : Starting task [Stage-0:DDL] in serial mode\n",
      "INFO  : Completed executing command(queryId=hive_20190417082525_bab32651-8cae-4291-9ee7-6ca8576a86ea); Time taken: 0.018 seconds\n",
      "INFO  : OK\n",
      "No rows affected (0.061 seconds)\n",
      "0: jdbc:hive2://localhost:10000/default> \n",
      "0: jdbc:hive2://localhost:10000/default> create table datacleaninternalB (\n",
      "0: jdbc:hive2://localhost:10000/default>   idref  STRING,   \n",
      "0: jdbc:hive2://localhost:10000/default>   ident  STRING,\n",
      "0: jdbc:hive2://localhost:10000/default>   gsm19023 FLOAT,  \n",
      "0: jdbc:hive2://localhost:10000/default>   gsd19024 FLOAT, \n",
      "0: jdbc:hive2://localhost:10000/default>   gsd19025 FLOAT,    \n",
      "0: jdbc:hive2://localhost:10000/default>   gsd19026 FLOAT, \n",
      "0: jdbc:hive2://localhost:10000/default>   genetitle STRING,   \n",
      "0: jdbc:hive2://localhost:10000/default>   genesymbol STRING,\n",
      "0: jdbc:hive2://localhost:10000/default>   geneID SMALLINT,    \n",
      "0: jdbc:hive2://localhost:10000/default>   uniGenetitle STRING,\n",
      "0: jdbc:hive2://localhost:10000/default>   uniGenesymbol STRING,   \n",
      "0: jdbc:hive2://localhost:10000/default>   uniGeneID STRING,\n",
      "0: jdbc:hive2://localhost:10000/default>   NucleotideTitle STRING) \n",
      "BY '\\t';hive2://localhost:10000/default> ROW FORMAT DELIMITED FIELDS TERMINATED  \n",
      "INFO  : Compiling command(queryId=hive_20190417082525_8008d3a5-ebde-407c-b690-f25f22553af8): create table datacleaninternalB (\n",
      "  idref  STRING,   \n",
      "  ident  STRING,\n",
      "  gsm19023 FLOAT,  \n",
      "  gsd19024 FLOAT, \n",
      "  gsd19025 FLOAT,    \n",
      "  gsd19026 FLOAT, \n",
      "  genetitle STRING,   \n",
      "  genesymbol STRING,\n",
      "  geneID SMALLINT,    \n",
      "  uniGenetitle STRING,\n",
      "  uniGenesymbol STRING,   \n",
      "  uniGeneID STRING,\n",
      "  NucleotideTitle STRING) \n",
      "ROW FORMAT DELIMITED FIELDS TERMINATED BY '\\t'\n",
      "INFO  : Semantic Analysis Completed\n",
      "INFO  : Returning Hive schema: Schema(fieldSchemas:null, properties:null)\n",
      "INFO  : Completed compiling command(queryId=hive_20190417082525_8008d3a5-ebde-407c-b690-f25f22553af8); Time taken: 0.047 seconds\n",
      "INFO  : Concurrency mode is disabled, not creating a lock manager\n",
      "INFO  : Executing command(queryId=hive_20190417082525_8008d3a5-ebde-407c-b690-f25f22553af8): create table datacleaninternalB (\n",
      "  idref  STRING,   \n",
      "  ident  STRING,\n",
      "  gsm19023 FLOAT,  \n",
      "  gsd19024 FLOAT, \n",
      "  gsd19025 FLOAT,    \n",
      "  gsd19026 FLOAT, \n",
      "  genetitle STRING,   \n",
      "  genesymbol STRING,\n",
      "  geneID SMALLINT,    \n",
      "  uniGenetitle STRING,\n",
      "  uniGenesymbol STRING,   \n",
      "  uniGeneID STRING,\n",
      "  NucleotideTitle STRING) \n",
      "ROW FORMAT DELIMITED FIELDS TERMINATED BY '\\t'\n",
      "INFO  : Starting task [Stage-0:DDL] in serial mode\n",
      "INFO  : Completed executing command(queryId=hive_20190417082525_8008d3a5-ebde-407c-b690-f25f22553af8); Time taken: 0.136 seconds\n",
      "INFO  : OK\n",
      "No rows affected (0.197 seconds)\n",
      "0: jdbc:hive2://localhost:10000/default> \n",
      "Closing: 0: jdbc:hive2://localhost:10000/default\n"
     ]
    }
   ],
   "source": [
    "! beeline -u \"jdbc:hive2://localhost:10000/default\" -f ejerciciohive.hql"
   ]
  },
  {
   "cell_type": "code",
   "execution_count": 9,
   "metadata": {
    "collapsed": false
   },
   "outputs": [
    {
     "name": "stdout",
     "output_type": "stream",
     "text": [
      "2019-04-17 08:26:08,547 WARN  [main] mapreduce.TableMapReduceUtil: The hbase-prefix-tree module jar containing PrefixTreeCodec is not present.  Continuing without it.\n",
      "scan complete in 2ms\n",
      "Connecting to jdbc:hive2://localhost:10000/bioinformatica\n",
      "Connected to: Apache Hive (version 1.1.0-cdh5.7.0)\n",
      "Driver: Hive JDBC (version 1.1.0-cdh5.7.0)\n",
      "Transaction isolation: TRANSACTION_REPEATABLE_READ\n",
      "INFO  : Compiling command(queryId=hive_20190417082626_4c36e6e1-7abf-492a-ad2a-5c2ebd178f82): load data inpath '/user/root/datoshive/part-00000' into table datacleaninternalB\n",
      "INFO  : Semantic Analysis Completed\n",
      "INFO  : Returning Hive schema: Schema(fieldSchemas:null, properties:null)\n",
      "INFO  : Completed compiling command(queryId=hive_20190417082626_4c36e6e1-7abf-492a-ad2a-5c2ebd178f82); Time taken: 0.095 seconds\n",
      "INFO  : Concurrency mode is disabled, not creating a lock manager\n",
      "INFO  : Executing command(queryId=hive_20190417082626_4c36e6e1-7abf-492a-ad2a-5c2ebd178f82): load data inpath '/user/root/datoshive/part-00000' into table datacleaninternalB\n",
      "INFO  : Starting task [Stage-0:MOVE] in serial mode\n",
      "INFO  : Loading data to table bioinformatica.datacleaninternalb from hdfs://quickstart.cloudera:8020/user/root/datoshive/part-00000\n",
      "INFO  : Starting task [Stage-1:STATS] in serial mode\n",
      "INFO  : Table bioinformatica.datacleaninternalb stats: [numFiles=1, totalSize=1995786]\n",
      "INFO  : Completed executing command(queryId=hive_20190417082626_4c36e6e1-7abf-492a-ad2a-5c2ebd178f82); Time taken: 0.445 seconds\n",
      "INFO  : OK\n",
      "No rows affected (0.596 seconds)\n",
      "Beeline version 1.1.0-cdh5.7.0 by Apache Hive\n",
      "Closing: 0: jdbc:hive2://localhost:10000/bioinformatica\n"
     ]
    }
   ],
   "source": [
    "! beeline -u \"jdbc:hive2://localhost:10000/bioinformatica\" -e \"load data inpath '/user/$(whoami)/datoshive/part-00000' into table datacleaninternalB;\""
   ]
  },
  {
   "cell_type": "code",
   "execution_count": 10,
   "metadata": {
    "collapsed": false
   },
   "outputs": [
    {
     "name": "stdout",
     "output_type": "stream",
     "text": [
      "2019-04-17 08:26:18,275 WARN  [main] mapreduce.TableMapReduceUtil: The hbase-prefix-tree module jar containing PrefixTreeCodec is not present.  Continuing without it.\n",
      "scan complete in 3ms\n",
      "Connecting to jdbc:hive2://localhost:10000/bioinformatica\n",
      "Connected to: Apache Hive (version 1.1.0-cdh5.7.0)\n",
      "Driver: Hive JDBC (version 1.1.0-cdh5.7.0)\n",
      "Transaction isolation: TRANSACTION_REPEATABLE_READ\n",
      "INFO  : Compiling command(queryId=hive_20190417082626_57ecd6ee-a399-4a24-91b3-d810c4738053): select genetitle from datacleaninternalB where genetitle like '%human%'\n",
      "INFO  : Semantic Analysis Completed\n",
      "INFO  : Returning Hive schema: Schema(fieldSchemas:[FieldSchema(name:genetitle, type:string, comment:null)], properties:null)\n",
      "INFO  : Completed compiling command(queryId=hive_20190417082626_57ecd6ee-a399-4a24-91b3-d810c4738053); Time taken: 0.384 seconds\n",
      "INFO  : Concurrency mode is disabled, not creating a lock manager\n",
      "INFO  : Executing command(queryId=hive_20190417082626_57ecd6ee-a399-4a24-91b3-d810c4738053): select genetitle from datacleaninternalB where genetitle like '%human%'\n",
      "INFO  : Completed executing command(queryId=hive_20190417082626_57ecd6ee-a399-4a24-91b3-d810c4738053); Time taken: 0.001 seconds\n",
      "INFO  : OK\n",
      "+--------------------------------------------------------------------------------------------------------------+--+\n",
      "|                                                  genetitle                                                   |\n",
      "+--------------------------------------------------------------------------------------------------------------+--+\n",
      "| retinoschisis (X-linked, juvenile) 1 (human)                                                                 |\n",
      "| human papillomavirus 18 E5 central sequence motif gene 1                                                     |\n",
      "| alpha thalassemia/mental retardation syndrome X-linked homolog (human)                                       |\n",
      "| cirrhosis, autosomal recessive 1A (human)                                                                    |\n",
      "| core-binding factor, runt domain, alpha subunit 2, translocated to, 3 (human)                                |\n",
      "| Bardet-Biedl syndrome 9 (human)                                                                              |\n",
      "| Werner syndrome homolog (human)                                                                              |\n",
      "| deafness, autosomal dominant 5 (human)                                                                       |\n",
      "| congenital dyserythropoietic anemia, type I (human)                                                          |\n",
      "| HIV-1 tat interactive protein 2, homolog (human)                                                             |\n",
      "| Wolfram syndrome 1 homolog (human)                                                                           |\n",
      "| DNA segment, Chr 17, human D6S56E 5                                                                          |\n",
      "| alveolar soft part sarcoma chromosome region, candidate 1 (human)                                            |\n",
      "| retinitis pigmentosa 9 (human)                                                                               |\n",
      "| Tax1 (human T cell leukemia virus type I) binding protein 3                                                  |\n",
      "| DNA segment, Chr 17, human D6S56E 5                                                                          |\n",
      "| Hermansky-Pudlak syndrome 4 homolog (human)                                                                  |\n",
      "| human immunodeficiency virus type I enhancer binding protein 2                                               |\n",
      "| Wiskott-Aldrich syndrome homolog (human)                                                                     |\n",
      "| human immunodeficiency virus type I enhancer binding protein 1                                               |\n",
      "| Norrie disease (pseudoglioma) (human)                                                                        |\n",
      "| Tax1 (human T cell leukemia virus type I) binding protein 3                                                  |\n",
      "| spastic paraplegia 20, spartin (Troyer syndrome) homolog (human)                                             |\n",
      "| Hermansky-Pudlak syndrome 1 homolog (human)                                                                  |\n",
      "| human immunodeficiency virus type I enhancer binding protein 3                                               |\n",
      "| spastic paraplegia 21 homolog (human)                                                                        |\n",
      "| Shwachman-Bodian-Diamond syndrome homolog (human)                                                            |\n",
      "| mirror-image polydactyly gene 1 homolog (human)                                                              |\n",
      "| core-binding factor, runt domain, alpha subunit 2, translocated to, 3 (human)                                |\n",
      "| Sjogren's syndrome/scleroderma autoantigen 1 homolog (human)///family with sequence similarity 89, member B  |\n",
      "| deafness, autosomal dominant 5 (human)                                                                       |\n",
      "| core-binding factor, runt domain, alpha subunit 2, translocated to, 2 (human)                                |\n",
      "| bladder cancer associated protein homolog (human)                                                            |\n",
      "| core-binding factor, runt domain, alpha subunit 2, translocated to, 2 (human)                                |\n",
      "| nephronophthisis 1 (juvenile) homolog (human)                                                                |\n",
      "+--------------------------------------------------------------------------------------------------------------+--+\n",
      "35 rows selected (0.736 seconds)\n",
      "Beeline version 1.1.0-cdh5.7.0 by Apache Hive\n",
      "Closing: 0: jdbc:hive2://localhost:10000/bioinformatica\n"
     ]
    }
   ],
   "source": [
    "! beeline -u \"jdbc:hive2://localhost:10000/bioinformatica\" -e \"select genetitle from datacleaninternalB where genetitle like '%human%';\""
   ]
  },
  {
   "cell_type": "markdown",
   "metadata": {},
   "source": [
    "## Creamos tabla externa"
   ]
  },
  {
   "cell_type": "code",
   "execution_count": 11,
   "metadata": {
    "collapsed": true
   },
   "outputs": [],
   "source": [
    "! hadoop fs -put ../part-00000 datoshive"
   ]
  },
  {
   "cell_type": "code",
   "execution_count": 12,
   "metadata": {
    "collapsed": false
   },
   "outputs": [
    {
     "name": "stdout",
     "output_type": "stream",
     "text": [
      "Overwriting ejerciciohive.hql\n"
     ]
    }
   ],
   "source": [
    "%%writefile ejerciciohive.hql\n",
    "\n",
    "create external table datacleanexternalB (\n",
    "  idref  STRING,   \n",
    "  ident  STRING, \n",
    "  gsm19023 FLOAT,  \n",
    "  gsd19024 FLOAT, \n",
    "  gsd19025 FLOAT,   \n",
    "  gsd19026 FLOAT, \n",
    "  genetitle STRING,   \n",
    "  genesymbol STRING,\n",
    "  geneID SMALLINT,   \n",
    "  uniGenetitle STRING,\n",
    "  uniGenesymbol STRING,  \n",
    "  uniGeneID STRING,\n",
    "  NucleotideTitle STRING) \n",
    "ROW FORMAT DELIMITED FIELDS TERMINATED BY '\\t' LOCATION '/user/root/datoshive';\n",
    "\n"
   ]
  },
  {
   "cell_type": "code",
   "execution_count": 13,
   "metadata": {
    "collapsed": false
   },
   "outputs": [
    {
     "name": "stdout",
     "output_type": "stream",
     "text": [
      "2019-04-17 08:26:37,834 WARN  [main] mapreduce.TableMapReduceUtil: The hbase-prefix-tree module jar containing PrefixTreeCodec is not present.  Continuing without it.\n",
      "scan complete in 3ms\n",
      "Connecting to jdbc:hive2://localhost:10000/bioinformatica\n",
      "Connected to: Apache Hive (version 1.1.0-cdh5.7.0)\n",
      "Driver: Hive JDBC (version 1.1.0-cdh5.7.0)\n",
      "Transaction isolation: TRANSACTION_REPEATABLE_READ\n",
      "INFO  : Compiling command(queryId=hive_20190417082626_b6b4f53f-b00d-4d6f-a44b-4bd56e3a4480): drop table datacleanexternalB\n",
      "INFO  : Semantic Analysis Completed\n",
      "INFO  : Returning Hive schema: Schema(fieldSchemas:null, properties:null)\n",
      "INFO  : Completed compiling command(queryId=hive_20190417082626_b6b4f53f-b00d-4d6f-a44b-4bd56e3a4480); Time taken: 0.026 seconds\n",
      "INFO  : Concurrency mode is disabled, not creating a lock manager\n",
      "INFO  : Executing command(queryId=hive_20190417082626_b6b4f53f-b00d-4d6f-a44b-4bd56e3a4480): drop table datacleanexternalB\n",
      "INFO  : Starting task [Stage-0:DDL] in serial mode\n",
      "INFO  : Completed executing command(queryId=hive_20190417082626_b6b4f53f-b00d-4d6f-a44b-4bd56e3a4480); Time taken: 0.016 seconds\n",
      "INFO  : OK\n",
      "No rows affected (0.109 seconds)\n",
      "Beeline version 1.1.0-cdh5.7.0 by Apache Hive\n",
      "Closing: 0: jdbc:hive2://localhost:10000/bioinformatica\n"
     ]
    }
   ],
   "source": [
    "! beeline -u \"jdbc:hive2://localhost:10000/bioinformatica\" -e \"drop table datacleanexternalB;\""
   ]
  },
  {
   "cell_type": "code",
   "execution_count": 14,
   "metadata": {
    "collapsed": false
   },
   "outputs": [
    {
     "name": "stdout",
     "output_type": "stream",
     "text": [
      "Found 1 items\r\n",
      "-rw-r--r--   1 root supergroup    1995786 2019-04-17 08:26 /user/root/datoshive/part-00000\r\n"
     ]
    }
   ],
   "source": [
    "! hadoop fs -ls /user/$(whoami)/datoshive"
   ]
  },
  {
   "cell_type": "code",
   "execution_count": 15,
   "metadata": {
    "collapsed": false
   },
   "outputs": [
    {
     "name": "stdout",
     "output_type": "stream",
     "text": [
      "2019-04-17 08:26:50,310 WARN  [main] mapreduce.TableMapReduceUtil: The hbase-prefix-tree module jar containing PrefixTreeCodec is not present.  Continuing without it.\n",
      "scan complete in 3ms\n",
      "Connecting to jdbc:hive2://localhost:10000/bioinformatica\n",
      "Connected to: Apache Hive (version 1.1.0-cdh5.7.0)\n",
      "Driver: Hive JDBC (version 1.1.0-cdh5.7.0)\n",
      "Transaction isolation: TRANSACTION_REPEATABLE_READ\n",
      "0: jdbc:hive2://localhost:10000/bioinformatic> \n",
      "ternalB (ive2://localhost:10000/bioinformatic> create external table datacleanex \n",
      "0: jdbc:hive2://localhost:10000/bioinformatic>   idref  STRING,   \n",
      "0: jdbc:hive2://localhost:10000/bioinformatic>   ident  STRING, \n",
      "0: jdbc:hive2://localhost:10000/bioinformatic>   gsm19023 FLOAT,  \n",
      "0: jdbc:hive2://localhost:10000/bioinformatic>   gsd19024 FLOAT, \n",
      "0: jdbc:hive2://localhost:10000/bioinformatic>   gsd19025 FLOAT,   \n",
      "0: jdbc:hive2://localhost:10000/bioinformatic>   gsd19026 FLOAT, \n",
      "0: jdbc:hive2://localhost:10000/bioinformatic>   genetitle STRING,   \n",
      "0: jdbc:hive2://localhost:10000/bioinformatic>   genesymbol STRING,\n",
      "0: jdbc:hive2://localhost:10000/bioinformatic>   geneID SMALLINT,   \n",
      "0: jdbc:hive2://localhost:10000/bioinformatic>   uniGenetitle STRING,\n",
      "0: jdbc:hive2://localhost:10000/bioinformatic>   uniGenesymbol STRING,  \n",
      "0: jdbc:hive2://localhost:10000/bioinformatic>   uniGeneID STRING,\n",
      "0: jdbc:hive2://localhost:10000/bioinformatic>   NucleotideTitle STRING) \n",
      "NATED BY '\\t' LOCATION '/user/root/datoshive'; ROW FORMAT DELIMITED FIELDS TERMI \n",
      "INFO  : Compiling command(queryId=hive_20190417082626_852f8b94-eb84-4dae-bbdc-2576dfa8bba6): create external table datacleanexternalB (\n",
      "  idref  STRING,   \n",
      "  ident  STRING, \n",
      "  gsm19023 FLOAT,  \n",
      "  gsd19024 FLOAT, \n",
      "  gsd19025 FLOAT,   \n",
      "  gsd19026 FLOAT, \n",
      "  genetitle STRING,   \n",
      "  genesymbol STRING,\n",
      "  geneID SMALLINT,   \n",
      "  uniGenetitle STRING,\n",
      "  uniGenesymbol STRING,  \n",
      "  uniGeneID STRING,\n",
      "  NucleotideTitle STRING) \n",
      "ROW FORMAT DELIMITED FIELDS TERMINATED BY '\\t' LOCATION '/user/root/datoshive'\n",
      "INFO  : Semantic Analysis Completed\n",
      "INFO  : Returning Hive schema: Schema(fieldSchemas:null, properties:null)\n",
      "INFO  : Completed compiling command(queryId=hive_20190417082626_852f8b94-eb84-4dae-bbdc-2576dfa8bba6); Time taken: 0.03 seconds\n",
      "INFO  : Concurrency mode is disabled, not creating a lock manager\n",
      "INFO  : Executing command(queryId=hive_20190417082626_852f8b94-eb84-4dae-bbdc-2576dfa8bba6): create external table datacleanexternalB (\n",
      "  idref  STRING,   \n",
      "  ident  STRING, \n",
      "  gsm19023 FLOAT,  \n",
      "  gsd19024 FLOAT, \n",
      "  gsd19025 FLOAT,   \n",
      "  gsd19026 FLOAT, \n",
      "  genetitle STRING,   \n",
      "  genesymbol STRING,\n",
      "  geneID SMALLINT,   \n",
      "  uniGenetitle STRING,\n",
      "  uniGenesymbol STRING,  \n",
      "  uniGeneID STRING,\n",
      "  NucleotideTitle STRING) \n",
      "ROW FORMAT DELIMITED FIELDS TERMINATED BY '\\t' LOCATION '/user/root/datoshive'\n",
      "INFO  : Starting task [Stage-0:DDL] in serial mode\n",
      "INFO  : Completed executing command(queryId=hive_20190417082626_852f8b94-eb84-4dae-bbdc-2576dfa8bba6); Time taken: 0.044 seconds\n",
      "INFO  : OK\n",
      "No rows affected (0.152 seconds)\n",
      "0: jdbc:hive2://localhost:10000/bioinformatic> \n",
      "0: jdbc:hive2://localhost:10000/bioinformatic> \n",
      "Closing: 0: jdbc:hive2://localhost:10000/bioinformatica\n"
     ]
    }
   ],
   "source": [
    "! beeline -u \"jdbc:hive2://localhost:10000/bioinformatica\" -f ejerciciohive.hql"
   ]
  },
  {
   "cell_type": "code",
   "execution_count": 16,
   "metadata": {
    "collapsed": false
   },
   "outputs": [
    {
     "name": "stdout",
     "output_type": "stream",
     "text": [
      "2019-04-17 08:27:05,274 WARN  [main] mapreduce.TableMapReduceUtil: The hbase-prefix-tree module jar containing PrefixTreeCodec is not present.  Continuing without it.\n",
      "scan complete in 2ms\n",
      "Connecting to jdbc:hive2://localhost:10000/bioinformatica\n",
      "Connected to: Apache Hive (version 1.1.0-cdh5.7.0)\n",
      "Driver: Hive JDBC (version 1.1.0-cdh5.7.0)\n",
      "Transaction isolation: TRANSACTION_REPEATABLE_READ\n",
      "INFO  : Compiling command(queryId=hive_20190417082727_efdc0429-7d99-47a3-8fb8-acfab77f3f35): select genetitle from datacleanexternalB where genetitle like '%human%'\n",
      "INFO  : Semantic Analysis Completed\n",
      "INFO  : Returning Hive schema: Schema(fieldSchemas:[FieldSchema(name:genetitle, type:string, comment:null)], properties:null)\n",
      "INFO  : Completed compiling command(queryId=hive_20190417082727_efdc0429-7d99-47a3-8fb8-acfab77f3f35); Time taken: 0.101 seconds\n",
      "INFO  : Concurrency mode is disabled, not creating a lock manager\n",
      "INFO  : Executing command(queryId=hive_20190417082727_efdc0429-7d99-47a3-8fb8-acfab77f3f35): select genetitle from datacleanexternalB where genetitle like '%human%'\n",
      "INFO  : Completed executing command(queryId=hive_20190417082727_efdc0429-7d99-47a3-8fb8-acfab77f3f35); Time taken: 0.001 seconds\n",
      "INFO  : OK\n",
      "+--------------------------------------------------------------------------------------------------------------+--+\n",
      "|                                                  genetitle                                                   |\n",
      "+--------------------------------------------------------------------------------------------------------------+--+\n",
      "| retinoschisis (X-linked, juvenile) 1 (human)                                                                 |\n",
      "| human papillomavirus 18 E5 central sequence motif gene 1                                                     |\n",
      "| alpha thalassemia/mental retardation syndrome X-linked homolog (human)                                       |\n",
      "| cirrhosis, autosomal recessive 1A (human)                                                                    |\n",
      "| core-binding factor, runt domain, alpha subunit 2, translocated to, 3 (human)                                |\n",
      "| Bardet-Biedl syndrome 9 (human)                                                                              |\n",
      "| Werner syndrome homolog (human)                                                                              |\n",
      "| deafness, autosomal dominant 5 (human)                                                                       |\n",
      "| congenital dyserythropoietic anemia, type I (human)                                                          |\n",
      "| HIV-1 tat interactive protein 2, homolog (human)                                                             |\n",
      "| Wolfram syndrome 1 homolog (human)                                                                           |\n",
      "| DNA segment, Chr 17, human D6S56E 5                                                                          |\n",
      "| alveolar soft part sarcoma chromosome region, candidate 1 (human)                                            |\n",
      "| retinitis pigmentosa 9 (human)                                                                               |\n",
      "| Tax1 (human T cell leukemia virus type I) binding protein 3                                                  |\n",
      "| DNA segment, Chr 17, human D6S56E 5                                                                          |\n",
      "| Hermansky-Pudlak syndrome 4 homolog (human)                                                                  |\n",
      "| human immunodeficiency virus type I enhancer binding protein 2                                               |\n",
      "| Wiskott-Aldrich syndrome homolog (human)                                                                     |\n",
      "| human immunodeficiency virus type I enhancer binding protein 1                                               |\n",
      "| Norrie disease (pseudoglioma) (human)                                                                        |\n",
      "| Tax1 (human T cell leukemia virus type I) binding protein 3                                                  |\n",
      "| spastic paraplegia 20, spartin (Troyer syndrome) homolog (human)                                             |\n",
      "| Hermansky-Pudlak syndrome 1 homolog (human)                                                                  |\n",
      "| human immunodeficiency virus type I enhancer binding protein 3                                               |\n",
      "| spastic paraplegia 21 homolog (human)                                                                        |\n",
      "| Shwachman-Bodian-Diamond syndrome homolog (human)                                                            |\n",
      "| mirror-image polydactyly gene 1 homolog (human)                                                              |\n",
      "| core-binding factor, runt domain, alpha subunit 2, translocated to, 3 (human)                                |\n",
      "| Sjogren's syndrome/scleroderma autoantigen 1 homolog (human)///family with sequence similarity 89, member B  |\n",
      "| deafness, autosomal dominant 5 (human)                                                                       |\n",
      "| core-binding factor, runt domain, alpha subunit 2, translocated to, 2 (human)                                |\n",
      "| bladder cancer associated protein homolog (human)                                                            |\n",
      "| core-binding factor, runt domain, alpha subunit 2, translocated to, 2 (human)                                |\n",
      "| nephronophthisis 1 (juvenile) homolog (human)                                                                |\n",
      "+--------------------------------------------------------------------------------------------------------------+--+\n",
      "35 rows selected (0.246 seconds)\n",
      "Beeline version 1.1.0-cdh5.7.0 by Apache Hive\n",
      "Closing: 0: jdbc:hive2://localhost:10000/bioinformatica\n"
     ]
    }
   ],
   "source": [
    "! beeline -u \"jdbc:hive2://localhost:10000/bioinformatica\" -e \"select genetitle from datacleanexternalB where genetitle like '%human%';\""
   ]
  },
  {
   "cell_type": "markdown",
   "metadata": {},
   "source": [
    "## Creando otros tipos de tablas\n",
    "\n",
    "Create table as copia datos en la tabla al crearla, mientras que like solamente copia el esquema de la tabla pero no datos. "
   ]
  },
  {
   "cell_type": "code",
   "execution_count": 17,
   "metadata": {
    "collapsed": false
   },
   "outputs": [
    {
     "name": "stdout",
     "output_type": "stream",
     "text": [
      "Overwriting ejerciciohive.hql\n"
     ]
    }
   ],
   "source": [
    "%%writefile ejerciciohive.hql\n",
    "CREATE TABLE ctas_datacleanexternalB AS SELECT idref, genetitle, genesymbol FROM datacleanexternalB;\n",
    "\n",
    "CREATE TABLE like_datacleaninternalB LIKE datacleaninternalB;"
   ]
  },
  {
   "cell_type": "code",
   "execution_count": 18,
   "metadata": {
    "collapsed": false
   },
   "outputs": [
    {
     "name": "stdout",
     "output_type": "stream",
     "text": [
      "2019-04-17 08:27:40,875 WARN  [main] mapreduce.TableMapReduceUtil: The hbase-prefix-tree module jar containing PrefixTreeCodec is not present.  Continuing without it.\n",
      "scan complete in 3ms\n",
      "Connecting to jdbc:hive2://localhost:10000/bioinformatica\n",
      "Connected to: Apache Hive (version 1.1.0-cdh5.7.0)\n",
      "Driver: Hive JDBC (version 1.1.0-cdh5.7.0)\n",
      "Transaction isolation: TRANSACTION_REPEATABLE_READ\n",
      "alB AS SELECT idref, genetitle, genesymbol FROM datacleanexternalB;tacleanextern \n",
      "INFO  : Compiling command(queryId=hive_20190417082727_d35d345f-015f-4700-bbc6-395038c3912a): CREATE TABLE ctas_datacleanexternalB AS SELECT idref, genetitle, genesymbol FROM datacleanexternalB\n",
      "INFO  : Semantic Analysis Completed\n",
      "INFO  : Returning Hive schema: Schema(fieldSchemas:[FieldSchema(name:idref, type:string, comment:null), FieldSchema(name:genetitle, type:string, comment:null), FieldSchema(name:genesymbol, type:string, comment:null)], properties:null)\n",
      "INFO  : Completed compiling command(queryId=hive_20190417082727_d35d345f-015f-4700-bbc6-395038c3912a); Time taken: 0.168 seconds\n",
      "INFO  : Concurrency mode is disabled, not creating a lock manager\n",
      "INFO  : Executing command(queryId=hive_20190417082727_d35d345f-015f-4700-bbc6-395038c3912a): CREATE TABLE ctas_datacleanexternalB AS SELECT idref, genetitle, genesymbol FROM datacleanexternalB\n",
      "INFO  : Query ID = hive_20190417082727_d35d345f-015f-4700-bbc6-395038c3912a\n",
      "INFO  : Total jobs = 3\n",
      "INFO  : Launching Job 1 out of 3\n",
      "INFO  : Starting task [Stage-1:MAPRED] in serial mode\n",
      "INFO  : Number of reduce tasks is set to 0 since there's no reduce operator\n",
      "INFO  : Starting Job = job_1555489363620_0001, Tracking URL = http://quickstart.cloudera:8088/proxy/application_1555489363620_0001/\n",
      "INFO  : Kill Command = /usr/lib/hadoop/bin/hadoop job  -kill job_1555489363620_0001\n",
      "INFO  : Hadoop job information for Stage-1: number of mappers: 1; number of reducers: 0\n",
      "INFO  : 2019-04-17 08:27:51,933 Stage-1 map = 0%,  reduce = 0%\n",
      "INFO  : 2019-04-17 08:27:57,278 Stage-1 map = 100%,  reduce = 0%, Cumulative CPU 2.4 sec\n",
      "INFO  : MapReduce Total cumulative CPU time: 2 seconds 400 msec\n",
      "INFO  : Ended Job = job_1555489363620_0001\n",
      "INFO  : Starting task [Stage-7:CONDITIONAL] in serial mode\n",
      "INFO  : Stage-4 is selected by condition resolver.\n",
      "INFO  : Stage-3 is filtered out by condition resolver.\n",
      "INFO  : Stage-5 is filtered out by condition resolver.\n",
      "INFO  : Starting task [Stage-4:MOVE] in serial mode\n",
      "INFO  : Moving data to: hdfs://quickstart.cloudera:8020/user/cloudera/bioinformatica/.hive-staging_hive_2019-04-17_08-27-42_303_2131412267633632677-2/-ext-10001 from hdfs://quickstart.cloudera:8020/user/cloudera/bioinformatica/.hive-staging_hive_2019-04-17_08-27-42_303_2131412267633632677-2/-ext-10003\n",
      "INFO  : Starting task [Stage-0:MOVE] in serial mode\n",
      "INFO  : Moving data to: hdfs://quickstart.cloudera:8020/user/cloudera/bioinformatica/ctas_datacleanexternalb from hdfs://quickstart.cloudera:8020/user/cloudera/bioinformatica/.hive-staging_hive_2019-04-17_08-27-42_303_2131412267633632677-2/-ext-10001\n",
      "INFO  : Starting task [Stage-8:DDL] in serial mode\n",
      "INFO  : Starting task [Stage-2:STATS] in serial mode\n",
      "INFO  : Table bioinformatica.ctas_datacleanexternalb stats: [numFiles=1, numRows=10315, totalSize=560730, rawDataSize=550415]\n",
      "INFO  : MapReduce Jobs Launched: \n",
      "INFO  : Stage-Stage-1: Map: 1   Cumulative CPU: 2.4 sec   HDFS Read: 1999296 HDFS Write: 560831 SUCCESS\n",
      "INFO  : Total MapReduce CPU Time Spent: 2 seconds 400 msec\n",
      "INFO  : Completed executing command(queryId=hive_20190417082727_d35d345f-015f-4700-bbc6-395038c3912a); Time taken: 17.108 seconds\n",
      "INFO  : OK\n",
      "No rows affected (17.291 seconds)\n",
      "0: jdbc:hive2://localhost:10000/bioinformatic> \n",
      "alB LIKE datacleaninternalB;000/bioinformatic> CREATE TABLE like_datacleanintern \n",
      "INFO  : Compiling command(queryId=hive_20190417082727_b7032fb9-0b22-486c-a3af-da5fc8a379ea): CREATE TABLE like_datacleaninternalB LIKE datacleaninternalB\n",
      "INFO  : Semantic Analysis Completed\n",
      "INFO  : Returning Hive schema: Schema(fieldSchemas:null, properties:null)\n",
      "INFO  : Completed compiling command(queryId=hive_20190417082727_b7032fb9-0b22-486c-a3af-da5fc8a379ea); Time taken: 0.01 seconds\n",
      "INFO  : Concurrency mode is disabled, not creating a lock manager\n",
      "INFO  : Executing command(queryId=hive_20190417082727_b7032fb9-0b22-486c-a3af-da5fc8a379ea): CREATE TABLE like_datacleaninternalB LIKE datacleaninternalB\n",
      "INFO  : Starting task [Stage-0:DDL] in serial mode\n",
      "INFO  : Completed executing command(queryId=hive_20190417082727_b7032fb9-0b22-486c-a3af-da5fc8a379ea); Time taken: 0.088 seconds\n",
      "INFO  : OK\n",
      "No rows affected (0.109 seconds)\n",
      "0: jdbc:hive2://localhost:10000/bioinformatic> \n",
      "Closing: 0: jdbc:hive2://localhost:10000/bioinformatica\n"
     ]
    }
   ],
   "source": [
    "! beeline -u \"jdbc:hive2://localhost:10000/bioinformatica\" -f ejerciciohive.hql"
   ]
  },
  {
   "cell_type": "code",
   "execution_count": 19,
   "metadata": {
    "collapsed": false
   },
   "outputs": [
    {
     "name": "stdout",
     "output_type": "stream",
     "text": [
      "2019-04-17 08:28:16,776 WARN  [main] mapreduce.TableMapReduceUtil: The hbase-prefix-tree module jar containing PrefixTreeCodec is not present.  Continuing without it.\n",
      "scan complete in 4ms\n",
      "Connecting to jdbc:hive2://localhost:10000/bioinformatica\n",
      "Connected to: Apache Hive (version 1.1.0-cdh5.7.0)\n",
      "Driver: Hive JDBC (version 1.1.0-cdh5.7.0)\n",
      "Transaction isolation: TRANSACTION_REPEATABLE_READ\n",
      "INFO  : Compiling command(queryId=hive_20190417082828_965b371b-db9c-4d95-bb18-25e626eaf451): show tables\n",
      "INFO  : Semantic Analysis Completed\n",
      "INFO  : Returning Hive schema: Schema(fieldSchemas:[FieldSchema(name:tab_name, type:string, comment:from deserializer)], properties:null)\n",
      "INFO  : Completed compiling command(queryId=hive_20190417082828_965b371b-db9c-4d95-bb18-25e626eaf451); Time taken: 0.007 seconds\n",
      "INFO  : Concurrency mode is disabled, not creating a lock manager\n",
      "INFO  : Executing command(queryId=hive_20190417082828_965b371b-db9c-4d95-bb18-25e626eaf451): show tables\n",
      "INFO  : Starting task [Stage-0:DDL] in serial mode\n",
      "INFO  : Completed executing command(queryId=hive_20190417082828_965b371b-db9c-4d95-bb18-25e626eaf451); Time taken: 0.06 seconds\n",
      "INFO  : OK\n",
      "+--------------------------+--+\n",
      "|         tab_name         |\n",
      "+--------------------------+--+\n",
      "| ctas_datacleanexternalb  |\n",
      "| datacleanexternalb       |\n",
      "| datacleaninternalb       |\n",
      "| like_datacleaninternalb  |\n",
      "+--------------------------+--+\n",
      "4 rows selected (0.161 seconds)\n",
      "Beeline version 1.1.0-cdh5.7.0 by Apache Hive\n",
      "Closing: 0: jdbc:hive2://localhost:10000/bioinformatica\n"
     ]
    }
   ],
   "source": [
    "! beeline -u \"jdbc:hive2://localhost:10000/bioinformatica\" -e \"show tables;\""
   ]
  },
  {
   "cell_type": "code",
   "execution_count": 20,
   "metadata": {
    "collapsed": false
   },
   "outputs": [
    {
     "name": "stdout",
     "output_type": "stream",
     "text": [
      "2019-04-17 08:28:23,617 WARN  [main] mapreduce.TableMapReduceUtil: The hbase-prefix-tree module jar containing PrefixTreeCodec is not present.  Continuing without it.\n",
      "scan complete in 2ms\n",
      "Connecting to jdbc:hive2://localhost:10000/bioinformatica\n",
      "Connected to: Apache Hive (version 1.1.0-cdh5.7.0)\n",
      "Driver: Hive JDBC (version 1.1.0-cdh5.7.0)\n",
      "Transaction isolation: TRANSACTION_REPEATABLE_READ\n",
      "INFO  : Compiling command(queryId=hive_20190417082828_5a688128-df8b-47cd-a389-c25cfdf0f143): select genetitle from ctas_datacleanexternalB where genetitle like '%human%'\n",
      "INFO  : Semantic Analysis Completed\n",
      "INFO  : Returning Hive schema: Schema(fieldSchemas:[FieldSchema(name:genetitle, type:string, comment:null)], properties:null)\n",
      "INFO  : Completed compiling command(queryId=hive_20190417082828_5a688128-df8b-47cd-a389-c25cfdf0f143); Time taken: 0.09 seconds\n",
      "INFO  : Concurrency mode is disabled, not creating a lock manager\n",
      "INFO  : Executing command(queryId=hive_20190417082828_5a688128-df8b-47cd-a389-c25cfdf0f143): select genetitle from ctas_datacleanexternalB where genetitle like '%human%'\n",
      "INFO  : Completed executing command(queryId=hive_20190417082828_5a688128-df8b-47cd-a389-c25cfdf0f143); Time taken: 0.0 seconds\n",
      "INFO  : OK\n",
      "+--------------------------------------------------------------------------------------------------------------+--+\n",
      "|                                                  genetitle                                                   |\n",
      "+--------------------------------------------------------------------------------------------------------------+--+\n",
      "| retinoschisis (X-linked, juvenile) 1 (human)                                                                 |\n",
      "| human papillomavirus 18 E5 central sequence motif gene 1                                                     |\n",
      "| alpha thalassemia/mental retardation syndrome X-linked homolog (human)                                       |\n",
      "| cirrhosis, autosomal recessive 1A (human)                                                                    |\n",
      "| core-binding factor, runt domain, alpha subunit 2, translocated to, 3 (human)                                |\n",
      "| Bardet-Biedl syndrome 9 (human)                                                                              |\n",
      "| Werner syndrome homolog (human)                                                                              |\n",
      "| deafness, autosomal dominant 5 (human)                                                                       |\n",
      "| congenital dyserythropoietic anemia, type I (human)                                                          |\n",
      "| HIV-1 tat interactive protein 2, homolog (human)                                                             |\n",
      "| Wolfram syndrome 1 homolog (human)                                                                           |\n",
      "| DNA segment, Chr 17, human D6S56E 5                                                                          |\n",
      "| alveolar soft part sarcoma chromosome region, candidate 1 (human)                                            |\n",
      "| retinitis pigmentosa 9 (human)                                                                               |\n",
      "| Tax1 (human T cell leukemia virus type I) binding protein 3                                                  |\n",
      "| DNA segment, Chr 17, human D6S56E 5                                                                          |\n",
      "| Hermansky-Pudlak syndrome 4 homolog (human)                                                                  |\n",
      "| human immunodeficiency virus type I enhancer binding protein 2                                               |\n",
      "| Wiskott-Aldrich syndrome homolog (human)                                                                     |\n",
      "| human immunodeficiency virus type I enhancer binding protein 1                                               |\n",
      "| Norrie disease (pseudoglioma) (human)                                                                        |\n",
      "| Tax1 (human T cell leukemia virus type I) binding protein 3                                                  |\n",
      "| spastic paraplegia 20, spartin (Troyer syndrome) homolog (human)                                             |\n",
      "| Hermansky-Pudlak syndrome 1 homolog (human)                                                                  |\n",
      "| human immunodeficiency virus type I enhancer binding protein 3                                               |\n",
      "| spastic paraplegia 21 homolog (human)                                                                        |\n",
      "| Shwachman-Bodian-Diamond syndrome homolog (human)                                                            |\n",
      "| mirror-image polydactyly gene 1 homolog (human)                                                              |\n",
      "| core-binding factor, runt domain, alpha subunit 2, translocated to, 3 (human)                                |\n",
      "| Sjogren's syndrome/scleroderma autoantigen 1 homolog (human)///family with sequence similarity 89, member B  |\n",
      "| deafness, autosomal dominant 5 (human)                                                                       |\n",
      "| core-binding factor, runt domain, alpha subunit 2, translocated to, 2 (human)                                |\n",
      "| bladder cancer associated protein homolog (human)                                                            |\n",
      "| core-binding factor, runt domain, alpha subunit 2, translocated to, 2 (human)                                |\n",
      "| nephronophthisis 1 (juvenile) homolog (human)                                                                |\n",
      "+--------------------------------------------------------------------------------------------------------------+--+\n",
      "35 rows selected (0.229 seconds)\n",
      "Beeline version 1.1.0-cdh5.7.0 by Apache Hive\n",
      "Closing: 0: jdbc:hive2://localhost:10000/bioinformatica\n"
     ]
    }
   ],
   "source": [
    "! beeline -u \"jdbc:hive2://localhost:10000/bioinformatica\" -e \"select genetitle from ctas_datacleanexternalB where genetitle like '%human%';\""
   ]
  },
  {
   "cell_type": "code",
   "execution_count": 21,
   "metadata": {
    "collapsed": false
   },
   "outputs": [
    {
     "name": "stdout",
     "output_type": "stream",
     "text": [
      "2019-04-17 08:28:39,191 WARN  [main] mapreduce.TableMapReduceUtil: The hbase-prefix-tree module jar containing PrefixTreeCodec is not present.  Continuing without it.\n",
      "scan complete in 2ms\n",
      "Connecting to jdbc:hive2://localhost:10000/bioinformatica\n",
      "Connected to: Apache Hive (version 1.1.0-cdh5.7.0)\n",
      "Driver: Hive JDBC (version 1.1.0-cdh5.7.0)\n",
      "Transaction isolation: TRANSACTION_REPEATABLE_READ\n",
      "INFO  : Compiling command(queryId=hive_20190417082828_94a83048-db15-4e81-b410-9bbfb79471f3): select * from like_datacleaninternalB\n",
      "INFO  : Semantic Analysis Completed\n",
      "INFO  : Returning Hive schema: Schema(fieldSchemas:[FieldSchema(name:like_datacleaninternalb.idref, type:string, comment:null), FieldSchema(name:like_datacleaninternalb.ident, type:string, comment:null), FieldSchema(name:like_datacleaninternalb.gsm19023, type:float, comment:null), FieldSchema(name:like_datacleaninternalb.gsd19024, type:float, comment:null), FieldSchema(name:like_datacleaninternalb.gsd19025, type:float, comment:null), FieldSchema(name:like_datacleaninternalb.gsd19026, type:float, comment:null), FieldSchema(name:like_datacleaninternalb.genetitle, type:string, comment:null), FieldSchema(name:like_datacleaninternalb.genesymbol, type:string, comment:null), FieldSchema(name:like_datacleaninternalb.geneid, type:smallint, comment:null), FieldSchema(name:like_datacleaninternalb.unigenetitle, type:string, comment:null), FieldSchema(name:like_datacleaninternalb.unigenesymbol, type:string, comment:null), FieldSchema(name:like_datacleaninternalb.unigeneid, type:string, comment:null), FieldSchema(name:like_datacleaninternalb.nucleotidetitle, type:string, comment:null)], properties:null)\n",
      "INFO  : Completed compiling command(queryId=hive_20190417082828_94a83048-db15-4e81-b410-9bbfb79471f3); Time taken: 0.078 seconds\n",
      "INFO  : Concurrency mode is disabled, not creating a lock manager\n",
      "INFO  : Executing command(queryId=hive_20190417082828_94a83048-db15-4e81-b410-9bbfb79471f3): select * from like_datacleaninternalB\n",
      "INFO  : Completed executing command(queryId=hive_20190417082828_94a83048-db15-4e81-b410-9bbfb79471f3); Time taken: 0.001 seconds\n",
      "INFO  : OK\n",
      "+--------------------------------+--------------------------------+-----------------------------------+-----------------------------------+-----------------------------------+-----------------------------------+------------------------------------+-------------------------------------+---------------------------------+---------------------------------------+----------------------------------------+------------------------------------+------------------------------------------+--+\n",
      "| like_datacleaninternalb.idref  | like_datacleaninternalb.ident  | like_datacleaninternalb.gsm19023  | like_datacleaninternalb.gsd19024  | like_datacleaninternalb.gsd19025  | like_datacleaninternalb.gsd19026  | like_datacleaninternalb.genetitle  | like_datacleaninternalb.genesymbol  | like_datacleaninternalb.geneid  | like_datacleaninternalb.unigenetitle  | like_datacleaninternalb.unigenesymbol  | like_datacleaninternalb.unigeneid  | like_datacleaninternalb.nucleotidetitle  |\n",
      "+--------------------------------+--------------------------------+-----------------------------------+-----------------------------------+-----------------------------------+-----------------------------------+------------------------------------+-------------------------------------+---------------------------------+---------------------------------------+----------------------------------------+------------------------------------+------------------------------------------+--+\n",
      "+--------------------------------+--------------------------------+-----------------------------------+-----------------------------------+-----------------------------------+-----------------------------------+------------------------------------+-------------------------------------+---------------------------------+---------------------------------------+----------------------------------------+------------------------------------+------------------------------------------+--+\n",
      "No rows selected (0.214 seconds)\n",
      "Beeline version 1.1.0-cdh5.7.0 by Apache Hive\n",
      "Closing: 0: jdbc:hive2://localhost:10000/bioinformatica\n"
     ]
    }
   ],
   "source": [
    "! beeline -u \"jdbc:hive2://localhost:10000/bioinformatica\" -e \"select * from like_datacleaninternalB;\""
   ]
  },
  {
   "cell_type": "markdown",
   "metadata": {
    "collapsed": true
   },
   "source": [
    "## Implementa los siguientes ejercicios"
   ]
  },
  {
   "cell_type": "markdown",
   "metadata": {},
   "source": [
    "¿Cuál es el mayor \"gsd19024\" de las filas cuyo campo \"gsm19023\" está entre 100 y 1000?"
   ]
  },
  {
   "cell_type": "code",
   "execution_count": null,
   "metadata": {
    "collapsed": true
   },
   "outputs": [],
   "source": []
  },
  {
   "cell_type": "markdown",
   "metadata": {},
   "source": [
    "¿Cuáles son los 10 individuos con mayor valor en el campo \"gsm19023\"? Muestra solamente su idref y gsm19023."
   ]
  },
  {
   "cell_type": "code",
   "execution_count": null,
   "metadata": {
    "collapsed": true
   },
   "outputs": [],
   "source": []
  }
 ],
 "metadata": {
  "kernelspec": {
   "display_name": "Python 2",
   "language": "python",
   "name": "python2"
  },
  "language_info": {
   "codemirror_mode": {
    "name": "ipython",
    "version": 2
   },
   "file_extension": ".py",
   "mimetype": "text/x-python",
   "name": "python",
   "nbconvert_exporter": "python",
   "pygments_lexer": "ipython2",
   "version": "2.7.13"
  }
 },
 "nbformat": 4,
 "nbformat_minor": 2
}
