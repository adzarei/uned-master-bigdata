{
 "cells": [
  {
   "cell_type": "markdown",
   "metadata": {},
   "source": [
    "# Trasnformaciones con estado (*stateful transformations*)"
   ]
  },
  {
   "cell_type": "markdown",
   "metadata": {},
   "source": [
    "### updateStateByKey\n",
    "\n",
    "La operación `updateStateByKey` permite mantener el estado anterior de la información recibida por el sistema para actualizarla cuando llega nueva información. Para ello:\n",
    "\n",
    "1. Se define el estado (cualquier tipo de dato)\n",
    "2. Se define una función de actualización, que implementa cómo actualizar el estado utilizando el estado previo y los nuevos valores para cada clave definida en el stream de datos.\n",
    "\n",
    "La función de actualización se aplica a todas las claves existentes, tanto si se reciben nuevos valores en el batch de datos como si no. Si la función devuelve None se elimina el par clave-valor.\n",
    "\n",
    "Se requiere la configuración del directorio de checkpoint para utilizar la función `updateStateByKey`."
   ]
  },
  {
   "cell_type": "markdown",
   "metadata": {},
   "source": [
    "### Exercise"
   ]
  },
  {
   "cell_type": "code",
   "execution_count": null,
   "metadata": {},
   "outputs": [],
   "source": [
    "import findspark\n",
    "#Importante: Modificar la ruta para que apunte al HOME de Spark\n",
    "findspark.init('/opt/spark')"
   ]
  },
  {
   "cell_type": "code",
   "execution_count": null,
   "metadata": {},
   "outputs": [],
   "source": [
    "import sys\n",
    "from pyspark import SparkContext\n",
    "from pyspark.streaming import StreamingContext"
   ]
  },
  {
   "cell_type": "code",
   "execution_count": null,
   "metadata": {},
   "outputs": [],
   "source": [
    "sc = SparkContext()\n",
    "ssc = StreamingContext(sc, 1)\n",
    "\n",
    "#Se define el directorio de checkpoint (necesario para utilizar la función updateStateByKey)\n",
    "ssc.checkpoint('checkpoint_state')"
   ]
  },
  {
   "cell_type": "markdown",
   "metadata": {},
   "source": [
    "### Introducción de datos\n",
    "Se va a utilizar un socket para introducir datos. Dicho socket estará escuchando en el puerto 9999 de localhost. Para la introducción de datos se puede abrir una ventana de comandos y ejecutar el comando \"nc -lk 9999\", que abre el puerto y lo mantiene abierto, para a continuación pegar los mensajes que se quieren enviar. Si no existe el comando, deberemos instalar el programa \"netcat\" --> \"sudo apt-get install netcat\""
   ]
  },
  {
   "cell_type": "code",
   "execution_count": null,
   "metadata": {},
   "outputs": [],
   "source": [
    "ds = ssc.socketTextStream(\"localhost\", 9999)"
   ]
  },
  {
   "cell_type": "markdown",
   "metadata": {},
   "source": [
    "La función de actualización simplemente suma todos los nuevos valores de una clave en el nuevo batch de datos analizados (recibidas en *newValues*) y añade el valor total al valor previo (almacenado en *runningCount*)."
   ]
  },
  {
   "cell_type": "code",
   "execution_count": null,
   "metadata": {},
   "outputs": [],
   "source": [
    "def updateFunction(newValues, runningCount):\n",
    "    return sum(newValues) + (runningCount or 0)"
   ]
  },
  {
   "cell_type": "markdown",
   "metadata": {},
   "source": [
    "El programa que se va a implementar recibe el DStream de datos numéricos, aplica la operación *mod 10* a cada valor recibido, y almacena cuántas veces ha aparecido cada número del 0 al 9. Finalmente también imprime el número total de claves recibidas."
   ]
  },
  {
   "cell_type": "code",
   "execution_count": null,
   "metadata": {},
   "outputs": [],
   "source": [
    "dst = ds.map(lambda x: int(x) % 10 if x.isdigit() else 0).map(lambda x: (x,1)).updateStateByKey(updateFunction)\n",
    "\n",
    "dst.pprint()\n",
    "dst.count().pprint()"
   ]
  },
  {
   "cell_type": "code",
   "execution_count": null,
   "metadata": {},
   "outputs": [],
   "source": [
    "ssc.start()"
   ]
  },
  {
   "cell_type": "code",
   "execution_count": null,
   "metadata": {},
   "outputs": [],
   "source": [
    "ssc.stop(stopSparkContext=True, stopGraceFully=True)"
   ]
  },
  {
   "cell_type": "markdown",
   "metadata": {},
   "source": [
    " "
   ]
  }
 ],
 "metadata": {
  "kernelspec": {
   "display_name": "Python 3",
   "language": "python",
   "name": "python3"
  },
  "language_info": {
   "codemirror_mode": {
    "name": "ipython",
    "version": 3
   },
   "file_extension": ".py",
   "mimetype": "text/x-python",
   "name": "python",
   "nbconvert_exporter": "python",
   "pygments_lexer": "ipython3",
   "version": "3.7.5"
  }
 },
 "nbformat": 4,
 "nbformat_minor": 4
}
