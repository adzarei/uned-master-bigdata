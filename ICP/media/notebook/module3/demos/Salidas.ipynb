{
 "cells": [
  {
   "cell_type": "markdown",
   "metadata": {},
   "source": [
    "# Formatear salida utilizando foreachRDD"
   ]
  },
  {
   "cell_type": "markdown",
   "metadata": {},
   "source": [
    "En esta demo se muestra cómo definir la salida de nuestro sistema Spark Streaming."
   ]
  },
  {
   "cell_type": "markdown",
   "metadata": {},
   "source": [
    "### Demo"
   ]
  },
  {
   "cell_type": "code",
   "execution_count": null,
   "metadata": {},
   "outputs": [],
   "source": [
    "import findspark\n",
    "#Importante: Modificar la ruta para que apunte al HOME de Spark\n",
    "findspark.init('/opt/spark')"
   ]
  },
  {
   "cell_type": "code",
   "execution_count": null,
   "metadata": {},
   "outputs": [],
   "source": [
    "import pyspark\n",
    "import pyspark.streaming\n",
    "from pyspark import SparkConf, SparkContext\n",
    "from pyspark.streaming import StreamingContext"
   ]
  },
  {
   "cell_type": "markdown",
   "metadata": {},
   "source": [
    "### Introducción de datos\n",
    "Se va a utilizar un socket para introducir datos. Dicho socket estará escuchando en el puerto 9999 de localhost. Para la introducción de datos se puede abrir una ventana de comandos y ejecutar el comando \"nc -lk 9999\", que abre el puerto y lo mantiene abierto, para a continuación pegar los mensajes que se quieren enviar. Si no existe el comando, deberemos instalar el programa \"netcat\" --> \"sudo apt-get install netcat\""
   ]
  },
  {
   "cell_type": "code",
   "execution_count": null,
   "metadata": {},
   "outputs": [],
   "source": [
    "sc = SparkContext(\"local[2]\", \"CalculateSumSquares\")\n",
    "ssc = StreamingContext(sc, 1)\n",
    "\n",
    "lines = ssc.socketTextStream('localhost',9999)\n"
   ]
  },
  {
   "cell_type": "markdown",
   "metadata": {},
   "source": [
    "Se reciben líneas con números separados por espacios, y se calcula la suma de los cuadrados de todos los números recibidos en un mismo batch.\n",
    "\n",
    "Mediante la función \"printAndSave\" definimos las acciones a realizar para cada RDD del DStream: por un lado, se imprime por pantalla el RDD tras hacer collect(), y por otro se escribe el contenido del RDD al final de un fichero que se indica por parámetro."
   ]
  },
  {
   "cell_type": "code",
   "execution_count": null,
   "metadata": {},
   "outputs": [],
   "source": [
    "def sum_of_squares(lines):\n",
    "    \n",
    "    nbrs = lines.flatMap(lambda line: line.strip().split(\" \"))\n",
    "    result = nbrs.map(lambda x:int(x)**2).reduce(lambda x,y,:x+y)\n",
    "    return result\n",
    "\n",
    "def printAndSave(rdd, textFile):\n",
    "    rdd_c = rdd.collect()\n",
    "    print(rdd_c)\n",
    "    with open(textFile, \"a+\") as outfile:\n",
    "        outfile.write(str(rdd_c[0]) + \"\\n\")\n",
    "\n",
    "result = sum_of_squares(lines)\n",
    "result.foreachRDD(lambda x: printAndSave(x, \"./output_test.txt\"))\n"
   ]
  },
  {
   "cell_type": "code",
   "execution_count": null,
   "metadata": {
    "scrolled": false
   },
   "outputs": [],
   "source": [
    "ssc.start()\n",
    "# ssc.awaitTermination()"
   ]
  },
  {
   "cell_type": "code",
   "execution_count": null,
   "metadata": {
    "scrolled": true
   },
   "outputs": [],
   "source": [
    "ssc.stop(stopSparkContext=True, stopGraceFully=True)"
   ]
  },
  {
   "cell_type": "markdown",
   "metadata": {},
   "source": [
    " "
   ]
  }
 ],
 "metadata": {
  "kernelspec": {
   "display_name": "Python 3",
   "language": "python",
   "name": "python3"
  },
  "language_info": {
   "codemirror_mode": {
    "name": "ipython",
    "version": 3
   },
   "file_extension": ".py",
   "mimetype": "text/x-python",
   "name": "python",
   "nbconvert_exporter": "python",
   "pygments_lexer": "ipython3",
   "version": "3.7.3"
  }
 },
 "nbformat": 4,
 "nbformat_minor": 2
}
