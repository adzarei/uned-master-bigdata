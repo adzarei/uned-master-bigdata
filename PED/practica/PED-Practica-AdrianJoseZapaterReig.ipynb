{
 "cells": [
  {
   "cell_type": "markdown",
   "metadata": {},
   "source": [
    "# PED - Práctica - juego de los euromillones\n",
    "#### Adrián José Zapater Reig"
   ]
  },
  {
   "cell_type": "markdown",
   "metadata": {},
   "source": [
    "## Librerías requeridas:\n",
    "- Pandas\n",
    "- NumPy"
   ]
  },
  {
   "cell_type": "code",
   "execution_count": 1,
   "metadata": {},
   "outputs": [],
   "source": [
    "import numpy as np\n",
    "import pandas as pd"
   ]
  },
  {
   "cell_type": "markdown",
   "metadata": {},
   "source": [
    "### Ejercicio 1:\n",
    "Explora el fichero y decide cómo tienes que realizar la importación para poder guardar la información. ¿En qué estructura lo vas a guardar y qué información concreta contiene? Escribe el código asociado y trata de optimizar el espacio utilizado."
   ]
  },
  {
   "cell_type": "markdown",
   "metadata": {},
   "source": [
    "Cargamos el fichero CSV a un Dataframe para poder analizarlo y manipularlo con facilidad:"
   ]
  },
  {
   "cell_type": "code",
   "execution_count": 2,
   "metadata": {},
   "outputs": [],
   "source": [
    "import os\n",
    "\n",
    "path_to_src_file = os.path.join('source_data','historicoEuromillones.csv')\n",
    "src_data = pd.read_csv(path_to_src_file)"
   ]
  },
  {
   "cell_type": "code",
   "execution_count": 3,
   "metadata": {},
   "outputs": [
    {
     "data": {
      "text/html": [
       "<div>\n",
       "<style scoped>\n",
       "    .dataframe tbody tr th:only-of-type {\n",
       "        vertical-align: middle;\n",
       "    }\n",
       "\n",
       "    .dataframe tbody tr th {\n",
       "        vertical-align: top;\n",
       "    }\n",
       "\n",
       "    .dataframe thead th {\n",
       "        text-align: right;\n",
       "    }\n",
       "</style>\n",
       "<table border=\"1\" class=\"dataframe\">\n",
       "  <thead>\n",
       "    <tr style=\"text-align: right;\">\n",
       "      <th></th>\n",
       "      <th>FECHA</th>\n",
       "      <th>COMB. GANADORA</th>\n",
       "      <th>Unnamed: 2</th>\n",
       "      <th>Unnamed: 3</th>\n",
       "      <th>Unnamed: 4</th>\n",
       "      <th>Unnamed: 5</th>\n",
       "      <th>Unnamed: 6</th>\n",
       "      <th>ESTRELLAS</th>\n",
       "      <th>Unnamed: 8</th>\n",
       "    </tr>\n",
       "  </thead>\n",
       "  <tbody>\n",
       "    <tr>\n",
       "      <th>0</th>\n",
       "      <td>13/10/2020</td>\n",
       "      <td>5</td>\n",
       "      <td>14</td>\n",
       "      <td>38</td>\n",
       "      <td>41</td>\n",
       "      <td>46</td>\n",
       "      <td>NaN</td>\n",
       "      <td>1</td>\n",
       "      <td>10</td>\n",
       "    </tr>\n",
       "    <tr>\n",
       "      <th>1</th>\n",
       "      <td>9/10/2020</td>\n",
       "      <td>11</td>\n",
       "      <td>15</td>\n",
       "      <td>35</td>\n",
       "      <td>41</td>\n",
       "      <td>50</td>\n",
       "      <td>NaN</td>\n",
       "      <td>5</td>\n",
       "      <td>8</td>\n",
       "    </tr>\n",
       "    <tr>\n",
       "      <th>2</th>\n",
       "      <td>6/10/2020</td>\n",
       "      <td>4</td>\n",
       "      <td>21</td>\n",
       "      <td>36</td>\n",
       "      <td>41</td>\n",
       "      <td>47</td>\n",
       "      <td>NaN</td>\n",
       "      <td>9</td>\n",
       "      <td>11</td>\n",
       "    </tr>\n",
       "    <tr>\n",
       "      <th>3</th>\n",
       "      <td>2/10/2020</td>\n",
       "      <td>6</td>\n",
       "      <td>12</td>\n",
       "      <td>15</td>\n",
       "      <td>40</td>\n",
       "      <td>45</td>\n",
       "      <td>NaN</td>\n",
       "      <td>3</td>\n",
       "      <td>9</td>\n",
       "    </tr>\n",
       "    <tr>\n",
       "      <th>4</th>\n",
       "      <td>29/09/2020</td>\n",
       "      <td>4</td>\n",
       "      <td>14</td>\n",
       "      <td>16</td>\n",
       "      <td>41</td>\n",
       "      <td>44</td>\n",
       "      <td>NaN</td>\n",
       "      <td>11</td>\n",
       "      <td>12</td>\n",
       "    </tr>\n",
       "    <tr>\n",
       "      <th>...</th>\n",
       "      <td>...</td>\n",
       "      <td>...</td>\n",
       "      <td>...</td>\n",
       "      <td>...</td>\n",
       "      <td>...</td>\n",
       "      <td>...</td>\n",
       "      <td>...</td>\n",
       "      <td>...</td>\n",
       "      <td>...</td>\n",
       "    </tr>\n",
       "    <tr>\n",
       "      <th>1358</th>\n",
       "      <td>12/03/2004</td>\n",
       "      <td>15</td>\n",
       "      <td>24</td>\n",
       "      <td>28</td>\n",
       "      <td>44</td>\n",
       "      <td>47</td>\n",
       "      <td>NaN</td>\n",
       "      <td>4</td>\n",
       "      <td>5</td>\n",
       "    </tr>\n",
       "    <tr>\n",
       "      <th>1359</th>\n",
       "      <td>5/03/2004</td>\n",
       "      <td>4</td>\n",
       "      <td>7</td>\n",
       "      <td>33</td>\n",
       "      <td>37</td>\n",
       "      <td>39</td>\n",
       "      <td>NaN</td>\n",
       "      <td>1</td>\n",
       "      <td>5</td>\n",
       "    </tr>\n",
       "    <tr>\n",
       "      <th>1360</th>\n",
       "      <td>27/02/2004</td>\n",
       "      <td>14</td>\n",
       "      <td>18</td>\n",
       "      <td>19</td>\n",
       "      <td>31</td>\n",
       "      <td>37</td>\n",
       "      <td>NaN</td>\n",
       "      <td>4</td>\n",
       "      <td>5</td>\n",
       "    </tr>\n",
       "    <tr>\n",
       "      <th>1361</th>\n",
       "      <td>20/02/2004</td>\n",
       "      <td>7</td>\n",
       "      <td>13</td>\n",
       "      <td>39</td>\n",
       "      <td>47</td>\n",
       "      <td>50</td>\n",
       "      <td>NaN</td>\n",
       "      <td>2</td>\n",
       "      <td>5</td>\n",
       "    </tr>\n",
       "    <tr>\n",
       "      <th>1362</th>\n",
       "      <td>13/02/2004</td>\n",
       "      <td>16</td>\n",
       "      <td>29</td>\n",
       "      <td>32</td>\n",
       "      <td>36</td>\n",
       "      <td>41</td>\n",
       "      <td>NaN</td>\n",
       "      <td>7</td>\n",
       "      <td>9</td>\n",
       "    </tr>\n",
       "  </tbody>\n",
       "</table>\n",
       "<p>1363 rows × 9 columns</p>\n",
       "</div>"
      ],
      "text/plain": [
       "           FECHA  COMB. GANADORA  Unnamed: 2  Unnamed: 3  Unnamed: 4  \\\n",
       "0     13/10/2020               5          14          38          41   \n",
       "1      9/10/2020              11          15          35          41   \n",
       "2      6/10/2020               4          21          36          41   \n",
       "3      2/10/2020               6          12          15          40   \n",
       "4     29/09/2020               4          14          16          41   \n",
       "...          ...             ...         ...         ...         ...   \n",
       "1358  12/03/2004              15          24          28          44   \n",
       "1359   5/03/2004               4           7          33          37   \n",
       "1360  27/02/2004              14          18          19          31   \n",
       "1361  20/02/2004               7          13          39          47   \n",
       "1362  13/02/2004              16          29          32          36   \n",
       "\n",
       "      Unnamed: 5  Unnamed: 6  ESTRELLAS  Unnamed: 8  \n",
       "0             46         NaN          1          10  \n",
       "1             50         NaN          5           8  \n",
       "2             47         NaN          9          11  \n",
       "3             45         NaN          3           9  \n",
       "4             44         NaN         11          12  \n",
       "...          ...         ...        ...         ...  \n",
       "1358          47         NaN          4           5  \n",
       "1359          39         NaN          1           5  \n",
       "1360          37         NaN          4           5  \n",
       "1361          50         NaN          2           5  \n",
       "1362          41         NaN          7           9  \n",
       "\n",
       "[1363 rows x 9 columns]"
      ]
     },
     "execution_count": 3,
     "metadata": {},
     "output_type": "execute_result"
    }
   ],
   "source": [
    "src_data"
   ]
  },
  {
   "cell_type": "markdown",
   "metadata": {},
   "source": [
    "la información contenida en el CSV es:\n",
    "- Fecha\n",
    "- 5 columnas con la combinación ganadora\n",
    "- Columna vacía con NaNs\n",
    "- 2 columnas con la combinación de números estrella"
   ]
  },
  {
   "cell_type": "markdown",
   "metadata": {},
   "source": [
    "### Optimización del espacio:"
   ]
  },
  {
   "cell_type": "code",
   "execution_count": 7,
   "metadata": {},
   "outputs": [
    {
     "name": "stdout",
     "output_type": "stream",
     "text": [
      "<class 'pandas.core.frame.DataFrame'>\n",
      "RangeIndex: 1363 entries, 0 to 1362\n",
      "Data columns (total 9 columns):\n",
      " #   Column          Non-Null Count  Dtype  \n",
      "---  ------          --------------  -----  \n",
      " 0   FECHA           1363 non-null   object \n",
      " 1   COMB. GANADORA  1363 non-null   int64  \n",
      " 2   Unnamed: 2      1363 non-null   int64  \n",
      " 3   Unnamed: 3      1363 non-null   int64  \n",
      " 4   Unnamed: 4      1363 non-null   int64  \n",
      " 5   Unnamed: 5      1363 non-null   int64  \n",
      " 6   Unnamed: 6      0 non-null      float64\n",
      " 7   ESTRELLAS       1363 non-null   int64  \n",
      " 8   Unnamed: 8      1363 non-null   int64  \n",
      "dtypes: float64(1), int64(7), object(1)\n",
      "memory usage: 174.1 KB\n"
     ]
    }
   ],
   "source": [
    "# Calculamos el espacio que ocupa el DF. Forzamos que se calcule el espacio real y no una estimación con el flag 'memory_usage=deep'\n",
    "src_data.info(memory_usage='deep')"
   ]
  },
  {
   "cell_type": "markdown",
   "metadata": {},
   "source": [
    "El Dataframe original ocupa **174.1 KB** de memoria, y usa tipos de dato genéricos que podemos acotar porque conocemos los límites de cada columna.\n",
    "Por ejemplo: los valores de los números ganadores y las estrellas van del 1-50 y 1-12 respectivamente, por lo que podemos almacenar la información en un un **uint8** y la columna 'Unnamed 6', que es un **float64** y que ocupará mucha memoria, la podemos borrar porque no contiene ningún registro."
   ]
  },
  {
   "cell_type": "code",
   "execution_count": 12,
   "metadata": {},
   "outputs": [
    {
     "name": "stdout",
     "output_type": "stream",
     "text": [
      "<class 'pandas.core.frame.DataFrame'>\n",
      "RangeIndex: 1363 entries, 0 to 1362\n",
      "Data columns (total 8 columns):\n",
      " #   Column          Non-Null Count  Dtype \n",
      "---  ------          --------------  ----- \n",
      " 0   FECHA           1363 non-null   object\n",
      " 1   COMB. GANADORA  1363 non-null   int64 \n",
      " 2   Unnamed: 2      1363 non-null   int64 \n",
      " 3   Unnamed: 3      1363 non-null   int64 \n",
      " 4   Unnamed: 4      1363 non-null   int64 \n",
      " 5   Unnamed: 5      1363 non-null   int64 \n",
      " 6   ESTRELLAS       1363 non-null   int64 \n",
      " 7   Unnamed: 8      1363 non-null   int64 \n",
      "dtypes: int64(7), object(1)\n",
      "memory usage: 85.3+ KB\n"
     ]
    }
   ],
   "source": [
    "# hacemos una copia del DF con la información original para no modificar el objeto src_data.\n",
    "opt_src_data = src_data.copy()\n",
    "# borramos la columna que no nos sirve:\n",
    "opt_src_data.drop('Unnamed: 6', axis=1, inplace=True)\n",
    "opt_src_data.info()"
   ]
  },
  {
   "cell_type": "code",
   "execution_count": null,
   "metadata": {},
   "outputs": [],
   "source": [
    "# Renombramos los indices de las columnas a\n",
    "opt_src_data['']"
   ]
  }
 ],
 "metadata": {
  "kernelspec": {
   "display_name": "Python 3",
   "language": "python",
   "name": "python3"
  },
  "language_info": {
   "codemirror_mode": {
    "name": "ipython",
    "version": 3
   },
   "file_extension": ".py",
   "mimetype": "text/x-python",
   "name": "python",
   "nbconvert_exporter": "python",
   "pygments_lexer": "ipython3",
   "version": "3.7.8"
  }
 },
 "nbformat": 4,
 "nbformat_minor": 4
}
