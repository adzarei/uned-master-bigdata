{
 "cells": [
  {
   "cell_type": "markdown",
   "metadata": {},
   "source": [
    "# NumPy "
   ]
  },
  {
   "cell_type": "code",
   "execution_count": 1,
   "metadata": {},
   "outputs": [],
   "source": [
    "import numpy as np"
   ]
  },
  {
   "cell_type": "code",
   "execution_count": 2,
   "metadata": {},
   "outputs": [
    {
     "data": {
      "text/plain": "array([[-0.17182957,  0.85885742, -0.70340933],\n       [-0.66523411, -1.40048476, -0.86667077]])"
     },
     "execution_count": 2,
     "metadata": {},
     "output_type": "execute_result"
    }
   ],
   "source": [
    "data = np.random.randn(2,3)\n",
    "data"
   ]
  },
  {
   "cell_type": "code",
   "execution_count": 3,
   "metadata": {},
   "outputs": [
    {
     "data": {
      "text/plain": "array([[ -1.71829575,   8.58857416,  -7.03409333],\n       [ -6.6523411 , -14.00484757,  -8.66670774]])"
     },
     "execution_count": 3,
     "metadata": {},
     "output_type": "execute_result"
    }
   ],
   "source": [
    "data * 10"
   ]
  },
  {
   "cell_type": "code",
   "execution_count": 4,
   "metadata": {},
   "outputs": [
    {
     "data": {
      "text/plain": "array([[-1.17182957, -0.14114258, -1.70340933],\n       [-1.66523411, -2.40048476, -1.86667077]])"
     },
     "execution_count": 4,
     "metadata": {},
     "output_type": "execute_result"
    }
   ],
   "source": [
    "data -1"
   ]
  },
  {
   "cell_type": "code",
   "execution_count": 5,
   "metadata": {},
   "outputs": [
    {
     "data": {
      "text/plain": "array([[ -1.71829575,   8.58857416,  -7.03409333],\n       [ -6.6523411 , -14.00484757,  -8.66670774]])"
     },
     "execution_count": 5,
     "metadata": {},
     "output_type": "execute_result"
    }
   ],
   "source": [
    "data / 0.1"
   ]
  },
  {
   "cell_type": "code",
   "execution_count": 6,
   "metadata": {},
   "outputs": [
    {
     "data": {
      "text/plain": "array([[-0.34365915,  1.71771483, -1.40681867],\n       [-1.33046822, -2.80096951, -1.73334155]])"
     },
     "execution_count": 6,
     "metadata": {},
     "output_type": "execute_result"
    }
   ],
   "source": [
    "data + data"
   ]
  },
  {
   "cell_type": "code",
   "execution_count": 7,
   "metadata": {},
   "outputs": [
    {
     "data": {
      "text/plain": "(2, 3)"
     },
     "execution_count": 7,
     "metadata": {},
     "output_type": "execute_result"
    }
   ],
   "source": [
    "data.shape"
   ]
  },
  {
   "cell_type": "code",
   "execution_count": 8,
   "metadata": {},
   "outputs": [
    {
     "data": {
      "text/plain": "dtype('float64')"
     },
     "execution_count": 8,
     "metadata": {},
     "output_type": "execute_result"
    }
   ],
   "source": [
    "data.dtype"
   ]
  },
  {
   "cell_type": "markdown",
   "metadata": {},
   "source": [
    " "
   ]
  },
  {
   "cell_type": "code",
   "execution_count": 9,
   "metadata": {},
   "outputs": [
    {
     "name": "stdout",
     "output_type": "stream",
     "text": [
      "(5,)\n",
      "float64\n",
      "1\n"
     ]
    },
    {
     "data": {
      "text/plain": "array([6. , 7.5, 8. , 0. , 1. ])"
     },
     "execution_count": 9,
     "metadata": {},
     "output_type": "execute_result"
    }
   ],
   "source": [
    "data1 = [6,7.5, 8, 0, 1]\n",
    "arr1 = np.array(data1)\n",
    "print(arr1.shape)\n",
    "print(arr1.dtype)\n",
    "print(arr1.ndim)\n",
    "arr1"
   ]
  },
  {
   "cell_type": "code",
   "execution_count": 10,
   "metadata": {},
   "outputs": [
    {
     "name": "stdout",
     "output_type": "stream",
     "text": [
      "(2, 4)\n",
      "int64\n",
      "2\n"
     ]
    },
    {
     "data": {
      "text/plain": "array([[1, 2, 3, 4],\n       [5, 6, 7, 8]])"
     },
     "execution_count": 10,
     "metadata": {},
     "output_type": "execute_result"
    }
   ],
   "source": [
    "data2 = [[1, 2, 3, 4], [5, 6, 7, 8]]\n",
    "arr2 = np.array(data2)\n",
    "print(arr2.shape)\n",
    "print(arr2.dtype)\n",
    "print(arr2.ndim)\n",
    "arr2"
   ]
  },
  {
   "cell_type": "code",
   "execution_count": 11,
   "metadata": {},
   "outputs": [
    {
     "data": {
      "text/plain": "array([[1., 1., 1., 1., 1., 1.],\n       [1., 1., 1., 1., 1., 1.],\n       [1., 1., 1., 1., 1., 1.]])"
     },
     "execution_count": 11,
     "metadata": {},
     "output_type": "execute_result"
    }
   ],
   "source": [
    "np.ones((3,6))"
   ]
  },
  {
   "cell_type": "code",
   "execution_count": 12,
   "metadata": {},
   "outputs": [
    {
     "data": {
      "text/plain": "array([[[0., 0., 0., 0., 0., 0.],\n        [0., 0., 0., 0., 0., 0.],\n        [0., 0., 0., 0., 0., 0.]],\n\n       [[0., 0., 0., 0., 0., 0.],\n        [0., 0., 0., 0., 0., 0.],\n        [0., 0., 0., 0., 0., 0.]]])"
     },
     "execution_count": 12,
     "metadata": {},
     "output_type": "execute_result"
    }
   ],
   "source": [
    "np.zeros((2,3,6))"
   ]
  },
  {
   "cell_type": "code",
   "execution_count": 13,
   "metadata": {},
   "outputs": [
    {
     "data": {
      "text/plain": "array([[[[-3.10503618e+231,  3.11107843e+231,  6.92781300e-310,\n           6.92781300e-310,  6.92781300e-310,  2.12199580e-314],\n         [ 0.00000000e+000,  3.95252517e-323,  6.92767966e-310,\n           6.92780764e-310,  6.92781225e-310,  0.00000000e+000],\n         [ 6.92781215e-310,  0.00000000e+000,  0.00000000e+000,\n           4.94065646e-324,  0.00000000e+000,  4.24399159e-314]],\n\n        [[ 0.00000000e+000,  7.55430502e-312,  0.00000000e+000,\n           0.00000000e+000,  0.00000000e+000,  0.00000000e+000],\n         [ 0.00000000e+000,  0.00000000e+000,  0.00000000e+000,\n           0.00000000e+000,  0.00000000e+000,  0.00000000e+000],\n         [ 0.00000000e+000,  0.00000000e+000,  0.00000000e+000,\n           0.00000000e+000,  0.00000000e+000,  0.00000000e+000]]],\n\n\n       [[[ 0.00000000e+000,  0.00000000e+000,  0.00000000e+000,\n           0.00000000e+000, -3.10503618e+231, -3.10503618e+231],\n         [ 2.19957610e-314,  4.94065646e-323,  5.43472210e-323,\n                       nan,  1.06559868e-255,              nan],\n         [ 8.30388873e-275,  2.20086624e-314,  6.92781277e-310,\n           6.92781300e-310,  6.92781300e-310,  6.92781225e-310]],\n\n        [[ 6.92780893e-310,  0.00000000e+000,  0.00000000e+000,\n           6.92781300e-310,  0.00000000e+000,  0.00000000e+000],\n         [ 0.00000000e+000,  9.88131292e-324,  6.92781306e-310,\n           0.00000000e+000,  0.00000000e+000,  0.00000000e+000],\n         [ 0.00000000e+000,  0.00000000e+000,  0.00000000e+000,\n           0.00000000e+000,  0.00000000e+000,  0.00000000e+000]]]])"
     },
     "execution_count": 13,
     "metadata": {},
     "output_type": "execute_result"
    }
   ],
   "source": [
    "np.empty((2,2,3,6))"
   ]
  },
  {
   "cell_type": "code",
   "execution_count": 14,
   "metadata": {},
   "outputs": [
    {
     "data": {
      "text/plain": "array([15, 13, 11,  9,  7,  5,  3,  1, -1, -3, -5])"
     },
     "execution_count": 14,
     "metadata": {},
     "output_type": "execute_result"
    }
   ],
   "source": [
    "np.arange(15,-7,-2)"
   ]
  },
  {
   "cell_type": "markdown",
   "metadata": {},
   "source": [
    "We can specify the desired dtype of an array:"
   ]
  },
  {
   "cell_type": "code",
   "execution_count": 15,
   "metadata": {},
   "outputs": [
    {
     "name": "stdout",
     "output_type": "stream",
     "text": [
      "[1 2 3]\n",
      "[1. 2. 3.]\n"
     ]
    }
   ],
   "source": [
    "arr1 = np.array([1, 2, 3], dtype=np.int32)\n",
    "print(arr1)\n",
    "arr2 = np.array([1, 2, 3], dtype=np.float64)\n",
    "print(arr2)"
   ]
  },
  {
   "cell_type": "code",
   "execution_count": 16,
   "metadata": {},
   "outputs": [
    {
     "data": {
      "text/plain": "array([1, 2, 3], dtype=int8)"
     },
     "execution_count": 16,
     "metadata": {},
     "output_type": "execute_result"
    }
   ],
   "source": [
    "arr2.astype(np.int8)"
   ]
  },
  {
   "cell_type": "code",
   "execution_count": 17,
   "metadata": {},
   "outputs": [
    {
     "name": "stdout",
     "output_type": "stream",
     "text": [
      "[200.01926 256.      255.      128.     ]\n"
     ]
    }
   ],
   "source": [
    "arr3 = np.array([200.01926, 256, 255, 128], dtype=np.float64)\n",
    "print(arr3)"
   ]
  },
  {
   "cell_type": "code",
   "execution_count": 18,
   "metadata": {},
   "outputs": [
    {
     "data": {
      "text/plain": "array([ -56,    0,   -1, -128], dtype=int8)"
     },
     "execution_count": 18,
     "metadata": {},
     "output_type": "execute_result"
    }
   ],
   "source": [
    "arr3.astype(np.int8)"
   ]
  },
  {
   "cell_type": "code",
   "execution_count": 19,
   "metadata": {},
   "outputs": [
    {
     "data": {
      "text/plain": "array([200,   0, 255, 128], dtype=uint8)"
     },
     "execution_count": 19,
     "metadata": {},
     "output_type": "execute_result"
    }
   ],
   "source": [
    "arr3.astype(np.uint8)"
   ]
  },
  {
   "cell_type": "code",
   "execution_count": 20,
   "metadata": {},
   "outputs": [
    {
     "data": {
      "text/plain": "array([[ 1.33027123,  0.80136202, -0.33879193, -1.32299692],\n       [-1.18651099,  0.53597335, -1.27935946,  0.55591034],\n       [ 0.36411343,  0.23303489, -0.29858412, -0.48415915]])"
     },
     "execution_count": 20,
     "metadata": {},
     "output_type": "execute_result"
    }
   ],
   "source": [
    "arr = np.random.randn(3,4)\n",
    "arr"
   ]
  },
  {
   "cell_type": "code",
   "execution_count": 21,
   "metadata": {},
   "outputs": [
    {
     "data": {
      "text/plain": "array([ 0.53597335,  1.33027123, -0.33879193, -0.48415915])"
     },
     "execution_count": 21,
     "metadata": {},
     "output_type": "execute_result"
    }
   ],
   "source": [
    "inds = [5, 0, 2, 11]\n",
    "arr.take(inds)"
   ]
  },
  {
   "cell_type": "code",
   "execution_count": 22,
   "metadata": {},
   "outputs": [
    {
     "data": {
      "text/plain": "array([[-0.33879193,  1.33027123,  0.80136202, -0.33879193, -1.32299692],\n       [-1.27935946, -1.18651099,  0.53597335, -1.27935946,  0.55591034],\n       [-0.29858412,  0.36411343,  0.23303489, -0.29858412, -0.48415915]])"
     },
     "execution_count": 22,
     "metadata": {},
     "output_type": "execute_result"
    }
   ],
   "source": [
    "inds = [2, 0, 1, 2, 3]\n",
    "arr.take(inds, axis=1)"
   ]
  },
  {
   "cell_type": "code",
   "execution_count": 23,
   "metadata": {},
   "outputs": [
    {
     "data": {
      "text/plain": "array([[ 0.36411343,  0.23303489, -0.29858412, -0.48415915],\n       [ 1.33027123,  0.80136202, -0.33879193, -1.32299692],\n       [-1.18651099,  0.53597335, -1.27935946,  0.55591034],\n       [ 0.36411343,  0.23303489, -0.29858412, -0.48415915]])"
     },
     "execution_count": 23,
     "metadata": {},
     "output_type": "execute_result"
    }
   ],
   "source": [
    "inds = [2, 0, 1, 2]\n",
    "arr.take(inds, axis=0)"
   ]
  },
  {
   "cell_type": "code",
   "execution_count": 24,
   "metadata": {},
   "outputs": [
    {
     "data": {
      "text/plain": "array([ 1.28, -0.42,  0.44,  1.6 ])"
     },
     "execution_count": 24,
     "metadata": {},
     "output_type": "execute_result"
    }
   ],
   "source": [
    "col = np.array([1.28, -0.42, 0.44, 1.6])\n",
    "col"
   ]
  },
  {
   "cell_type": "code",
   "execution_count": 25,
   "metadata": {},
   "outputs": [
    {
     "data": {
      "text/plain": "(4,)"
     },
     "execution_count": 25,
     "metadata": {},
     "output_type": "execute_result"
    }
   ],
   "source": [
    "col.shape"
   ]
  },
  {
   "cell_type": "code",
   "execution_count": 26,
   "metadata": {},
   "outputs": [
    {
     "data": {
      "text/plain": "array([[0., 0., 0.],\n       [0., 0., 0.],\n       [0., 0., 0.],\n       [0., 0., 0.]])"
     },
     "execution_count": 26,
     "metadata": {},
     "output_type": "execute_result"
    }
   ],
   "source": [
    "arr = np.zeros((4, 3))\n",
    "arr"
   ]
  },
  {
   "cell_type": "code",
   "execution_count": 27,
   "metadata": {},
   "outputs": [
    {
     "data": {
      "text/plain": "array([[0., 0., 0.],\n       [0., 5., 0.],\n       [0., 5., 0.],\n       [0., 0., 0.]])"
     },
     "execution_count": 27,
     "metadata": {},
     "output_type": "execute_result"
    }
   ],
   "source": [
    "arr[1:3, 1:2] = 5\n",
    "arr"
   ]
  },
  {
   "cell_type": "code",
   "execution_count": 28,
   "metadata": {},
   "outputs": [
    {
     "data": {
      "text/plain": "array([[ 1.28],\n       [-0.42],\n       [ 0.44],\n       [ 1.6 ]])"
     },
     "execution_count": 28,
     "metadata": {},
     "output_type": "execute_result"
    }
   ],
   "source": [
    "col[:, np.newaxis]"
   ]
  },
  {
   "cell_type": "code",
   "execution_count": 29,
   "metadata": {},
   "outputs": [
    {
     "data": {
      "text/plain": "array([[ 1.28,  0.  ,  0.  ],\n       [-0.42,  5.  ,  0.  ],\n       [ 0.44,  5.  ,  0.  ],\n       [ 1.6 ,  0.  ,  0.  ]])"
     },
     "execution_count": 29,
     "metadata": {},
     "output_type": "execute_result"
    }
   ],
   "source": [
    "arr[:, :1] = col[:, np.newaxis]\n",
    "arr"
   ]
  },
  {
   "cell_type": "code",
   "execution_count": 30,
   "metadata": {},
   "outputs": [
    {
     "data": {
      "text/plain": "array([[ 1.28, -0.42,  0.44],\n       [-0.42,  5.  ,  0.  ],\n       [ 0.44,  5.  ,  0.  ],\n       [ 1.6 ,  0.  ,  0.  ]])"
     },
     "execution_count": 30,
     "metadata": {},
     "output_type": "execute_result"
    }
   ],
   "source": [
    "arr[:1] = col[np.newaxis, :3]\n",
    "arr"
   ]
  },
  {
   "cell_type": "code",
   "execution_count": 30,
   "metadata": {},
   "outputs": [],
   "source": []
  },
  {
   "cell_type": "code",
   "execution_count": 31,
   "metadata": {},
   "outputs": [],
   "source": [
    "names = np.array(['Bob', 'Joe', 'Will', 'Bob', 'Will', 'Joe', 'Joe'])"
   ]
  },
  {
   "cell_type": "code",
   "execution_count": 32,
   "metadata": {},
   "outputs": [],
   "source": [
    "data = np.random.randn(7, 4)"
   ]
  },
  {
   "cell_type": "code",
   "execution_count": 33,
   "metadata": {},
   "outputs": [
    {
     "data": {
      "text/plain": "array(['Bob', 'Joe', 'Will', 'Bob', 'Will', 'Joe', 'Joe'], dtype='<U4')"
     },
     "execution_count": 33,
     "metadata": {},
     "output_type": "execute_result"
    }
   ],
   "source": [
    "names"
   ]
  },
  {
   "cell_type": "code",
   "execution_count": 34,
   "metadata": {},
   "outputs": [
    {
     "data": {
      "text/plain": "array([[-0.84974397, -0.15104742,  2.13613138, -1.22231653],\n       [ 0.29037071,  1.90279204,  0.58346711, -0.39306693],\n       [-2.2430906 , -0.18195483, -1.27605966,  0.44338439],\n       [-0.95785128,  0.16611732, -0.68642908, -1.04744803],\n       [ 0.43868405, -0.56276216,  1.82510576,  0.42641483],\n       [-0.12439946, -0.89227987, -0.0356442 ,  1.19989034],\n       [-0.03666656,  0.44478042,  1.7923638 , -0.11175583]])"
     },
     "execution_count": 34,
     "metadata": {},
     "output_type": "execute_result"
    }
   ],
   "source": [
    "data"
   ]
  },
  {
   "cell_type": "code",
   "execution_count": 35,
   "metadata": {},
   "outputs": [
    {
     "data": {
      "text/plain": "array([ True, False, False,  True, False, False, False])"
     },
     "execution_count": 35,
     "metadata": {},
     "output_type": "execute_result"
    }
   ],
   "source": [
    "names == 'Bob'"
   ]
  },
  {
   "cell_type": "code",
   "execution_count": 36,
   "metadata": {},
   "outputs": [
    {
     "data": {
      "text/plain": "array([[-0.84974397, -0.15104742,  2.13613138, -1.22231653],\n       [-0.95785128,  0.16611732, -0.68642908, -1.04744803]])"
     },
     "execution_count": 36,
     "metadata": {},
     "output_type": "execute_result"
    }
   ],
   "source": [
    "data[names == 'Bob']"
   ]
  },
  {
   "cell_type": "code",
   "execution_count": 37,
   "metadata": {},
   "outputs": [
    {
     "data": {
      "text/plain": "array([ True, False, False,  True])"
     },
     "execution_count": 37,
     "metadata": {},
     "output_type": "execute_result"
    }
   ],
   "source": [
    "names[:4] == 'Bob'"
   ]
  },
  {
   "cell_type": "code",
   "execution_count": 38,
   "metadata": {},
   "outputs": [
    {
     "data": {
      "text/plain": "array([[-0.84974397, -1.22231653],\n       [ 0.29037071, -0.39306693],\n       [-2.2430906 ,  0.44338439],\n       [-0.95785128, -1.04744803],\n       [ 0.43868405,  0.42641483],\n       [-0.12439946,  1.19989034],\n       [-0.03666656, -0.11175583]])"
     },
     "execution_count": 38,
     "metadata": {},
     "output_type": "execute_result"
    }
   ],
   "source": [
    "data[:, names[:4] == 'Bob']"
   ]
  },
  {
   "cell_type": "code",
   "execution_count": 39,
   "metadata": {},
   "outputs": [
    {
     "data": {
      "text/plain": "array([[-0.15104742,  2.13613138],\n       [ 1.90279204,  0.58346711],\n       [-0.18195483, -1.27605966],\n       [ 0.16611732, -0.68642908],\n       [-0.56276216,  1.82510576],\n       [-0.89227987, -0.0356442 ],\n       [ 0.44478042,  1.7923638 ]])"
     },
     "execution_count": 39,
     "metadata": {},
     "output_type": "execute_result"
    }
   ],
   "source": [
    "data[:, ~(names[:4] == 'Bob')]"
   ]
  },
  {
   "cell_type": "code",
   "execution_count": 40,
   "metadata": {},
   "outputs": [
    {
     "data": {
      "text/plain": "array([[-0.15104742,  2.13613138],\n       [ 1.90279204,  0.58346711],\n       [-0.18195483, -1.27605966],\n       [ 0.16611732, -0.68642908],\n       [-0.56276216,  1.82510576],\n       [-0.89227987, -0.0356442 ],\n       [ 0.44478042,  1.7923638 ]])"
     },
     "execution_count": 40,
     "metadata": {},
     "output_type": "execute_result"
    }
   ],
   "source": [
    "data[:, names[:4] != 'Bob']"
   ]
  },
  {
   "cell_type": "markdown",
   "metadata": {},
   "source": [
    "### Array Oriented Ptogramming:"
   ]
  },
  {
   "cell_type": "markdown",
   "metadata": {},
   "source": [
    "Calculate sqrt(x^2 + y^2) of every combination of a 1D array:\n",
    "-5:5"
   ]
  },
  {
   "cell_type": "code",
   "execution_count": 41,
   "metadata": {},
   "outputs": [],
   "source": [
    "points = np.arange(-5, 5)"
   ]
  },
  {
   "cell_type": "code",
   "execution_count": 42,
   "metadata": {},
   "outputs": [],
   "source": [
    "xs, ys = np.meshgrid(points, points)"
   ]
  },
  {
   "cell_type": "code",
   "execution_count": 43,
   "metadata": {},
   "outputs": [
    {
     "data": {
      "text/plain": "array([[-5, -4, -3, -2, -1,  0,  1,  2,  3,  4],\n       [-5, -4, -3, -2, -1,  0,  1,  2,  3,  4],\n       [-5, -4, -3, -2, -1,  0,  1,  2,  3,  4],\n       [-5, -4, -3, -2, -1,  0,  1,  2,  3,  4],\n       [-5, -4, -3, -2, -1,  0,  1,  2,  3,  4],\n       [-5, -4, -3, -2, -1,  0,  1,  2,  3,  4],\n       [-5, -4, -3, -2, -1,  0,  1,  2,  3,  4],\n       [-5, -4, -3, -2, -1,  0,  1,  2,  3,  4],\n       [-5, -4, -3, -2, -1,  0,  1,  2,  3,  4],\n       [-5, -4, -3, -2, -1,  0,  1,  2,  3,  4]])"
     },
     "execution_count": 43,
     "metadata": {},
     "output_type": "execute_result"
    }
   ],
   "source": [
    "xs"
   ]
  },
  {
   "cell_type": "code",
   "execution_count": 44,
   "metadata": {},
   "outputs": [
    {
     "data": {
      "text/plain": "array([[-5, -5, -5, -5, -5, -5, -5, -5, -5, -5],\n       [-4, -4, -4, -4, -4, -4, -4, -4, -4, -4],\n       [-3, -3, -3, -3, -3, -3, -3, -3, -3, -3],\n       [-2, -2, -2, -2, -2, -2, -2, -2, -2, -2],\n       [-1, -1, -1, -1, -1, -1, -1, -1, -1, -1],\n       [ 0,  0,  0,  0,  0,  0,  0,  0,  0,  0],\n       [ 1,  1,  1,  1,  1,  1,  1,  1,  1,  1],\n       [ 2,  2,  2,  2,  2,  2,  2,  2,  2,  2],\n       [ 3,  3,  3,  3,  3,  3,  3,  3,  3,  3],\n       [ 4,  4,  4,  4,  4,  4,  4,  4,  4,  4]])"
     },
     "execution_count": 44,
     "metadata": {},
     "output_type": "execute_result"
    }
   ],
   "source": [
    "ys"
   ]
  },
  {
   "cell_type": "code",
   "execution_count": 45,
   "metadata": {},
   "outputs": [
    {
     "data": {
      "text/plain": "array([[7.07106781, 6.40312424, 5.83095189, 5.38516481, 5.09901951,\n        5.        , 5.09901951, 5.38516481, 5.83095189, 6.40312424],\n       [6.40312424, 5.65685425, 5.        , 4.47213595, 4.12310563,\n        4.        , 4.12310563, 4.47213595, 5.        , 5.65685425],\n       [5.83095189, 5.        , 4.24264069, 3.60555128, 3.16227766,\n        3.        , 3.16227766, 3.60555128, 4.24264069, 5.        ],\n       [5.38516481, 4.47213595, 3.60555128, 2.82842712, 2.23606798,\n        2.        , 2.23606798, 2.82842712, 3.60555128, 4.47213595],\n       [5.09901951, 4.12310563, 3.16227766, 2.23606798, 1.41421356,\n        1.        , 1.41421356, 2.23606798, 3.16227766, 4.12310563],\n       [5.        , 4.        , 3.        , 2.        , 1.        ,\n        0.        , 1.        , 2.        , 3.        , 4.        ],\n       [5.09901951, 4.12310563, 3.16227766, 2.23606798, 1.41421356,\n        1.        , 1.41421356, 2.23606798, 3.16227766, 4.12310563],\n       [5.38516481, 4.47213595, 3.60555128, 2.82842712, 2.23606798,\n        2.        , 2.23606798, 2.82842712, 3.60555128, 4.47213595],\n       [5.83095189, 5.        , 4.24264069, 3.60555128, 3.16227766,\n        3.        , 3.16227766, 3.60555128, 4.24264069, 5.        ],\n       [6.40312424, 5.65685425, 5.        , 4.47213595, 4.12310563,\n        4.        , 4.12310563, 4.47213595, 5.        , 5.65685425]])"
     },
     "execution_count": 45,
     "metadata": {},
     "output_type": "execute_result"
    }
   ],
   "source": [
    "z = np.sqrt(xs**2 + ys**2)\n",
    "z"
   ]
  },
  {
   "cell_type": "code",
   "execution_count": 46,
   "metadata": {},
   "outputs": [
    {
     "data": {
      "text/plain": "array([[-5, -4, -3, -2, -1,  0,  1,  2,  3,  4],\n       [-5, -4, -3, -2, -1,  0,  1,  2,  3,  4],\n       [-5, -4, -3, -2, -1,  0,  1,  2,  3,  4],\n       [-5, -4, -3, -2, -1,  0,  1,  2,  3,  4],\n       [-5, -4, -3, -2, -1,  0,  1,  2,  3,  4],\n       [-5, -4, -3, -2, -1,  0,  1,  2,  3,  4],\n       [-5, -4, -3, -2, -1,  0,  1,  2,  3,  4],\n       [-5, -4, -3, -2, -1,  0,  1,  2,  3,  4],\n       [-5, -4, -3, -2, -1,  0,  1,  2,  3,  4],\n       [-5, -4, -3, -2, -1,  0,  1,  2,  3,  4]])"
     },
     "execution_count": 46,
     "metadata": {},
     "output_type": "execute_result"
    }
   ],
   "source": [
    "xs"
   ]
  },
  {
   "cell_type": "code",
   "execution_count": 47,
   "metadata": {},
   "outputs": [
    {
     "data": {
      "text/plain": "array([-50, -40, -30, -20, -10,   0,  10,  20,  30,  40])"
     },
     "execution_count": 47,
     "metadata": {},
     "output_type": "execute_result"
    }
   ],
   "source": [
    "xs.sum(0)"
   ]
  },
  {
   "cell_type": "code",
   "execution_count": 48,
   "metadata": {},
   "outputs": [
    {
     "data": {
      "text/plain": "array([-5, -5, -5, -5, -5, -5, -5, -5, -5, -5])"
     },
     "execution_count": 48,
     "metadata": {},
     "output_type": "execute_result"
    }
   ],
   "source": [
    "xs.sum(1)"
   ]
  }
 ],
 "metadata": {
  "kernelspec": {
   "name": "pycharm-643363b0",
   "language": "python",
   "display_name": "PyCharm (projects)"
  },
  "language_info": {
   "codemirror_mode": {
    "name": "ipython",
    "version": 3
   },
   "file_extension": ".py",
   "mimetype": "text/x-python",
   "name": "python",
   "nbconvert_exporter": "python",
   "pygments_lexer": "ipython3",
   "version": "3.7.5"
  }
 },
 "nbformat": 4,
 "nbformat_minor": 4
}