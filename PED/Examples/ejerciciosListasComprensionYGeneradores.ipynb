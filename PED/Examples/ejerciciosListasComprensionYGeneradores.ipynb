{
 "cells": [
  {
   "cell_type": "markdown",
   "metadata": {},
   "source": [
    "# Ejercicios usando listas por comprensión\n",
    "\n",
    "Realizar cada uno de los siguientes ejercicios de forma progresiva. Para ello, escribir el código asociado en las celdas siguientes a la celda en la que se describe el ejercicio.\n",
    "\n",
    "Se puede tomar como referencia el ejemplo resuelto sin usar comprensión.\n",
    "\n",
    "Se recomienda medir tiempos de diferencia entre una ejecución y otra, probando con distintos tamaños."
   ]
  },
  {
   "cell_type": "markdown",
   "metadata": {},
   "source": [
    "1 Crear una lista con tres 0."
   ]
  },
  {
   "cell_type": "code",
   "execution_count": 1,
   "metadata": {},
   "outputs": [
    {
     "name": "stdout",
     "output_type": "stream",
     "text": [
      "3\n"
     ]
    }
   ],
   "source": [
    "lista = [0] * 3\n",
    "print(len(lista))"
   ]
  },
  {
   "cell_type": "markdown",
   "metadata": {},
   "source": [
    "2 Crear una lista con cinco números enteros (de 0 a 100) obtenidos de forma aleatoria (usar el módulo random)"
   ]
  },
  {
   "cell_type": "code",
   "execution_count": 2,
   "metadata": {},
   "outputs": [
    {
     "name": "stdout",
     "output_type": "stream",
     "text": [
      "[54, 65, 55, 75, 6]\n"
     ]
    }
   ],
   "source": [
    "import random\n",
    "lista = []\n",
    "for i in range(5):\n",
    "    lista.append(random.randint(0,100))\n",
    "print(lista)"
   ]
  },
  {
   "cell_type": "markdown",
   "metadata": {},
   "source": [
    "3 Crear una función que devuelva una lista de ceros. La función debe tener un parámetro para indicar la longitud de la lista a devolver. Probar la función."
   ]
  },
  {
   "cell_type": "code",
   "execution_count": 3,
   "metadata": {},
   "outputs": [
    {
     "name": "stdout",
     "output_type": "stream",
     "text": [
      "[0, 0, 0, 0]\n",
      "[0, 0, 0, 0, 0, 0, 0, 0, 0, 0]\n"
     ]
    }
   ],
   "source": [
    "def listaCeros(longitud):\n",
    "    lista = []\n",
    "    for i in range(longitud):\n",
    "        lista.append(0)\n",
    "    return lista\n",
    "\n",
    "print(listaCeros(4))\n",
    "print(listaCeros(10))"
   ]
  },
  {
   "cell_type": "markdown",
   "metadata": {},
   "source": [
    "4 A partir de la función anterior, crear una función que reciba dos parámetros. El primer parámetro indica la longitud de la lista a devolver. El segundo parámetro indica el número que se pondrá en cada posición de la lista de salida. El segundo parámetro es opcional, y en caso de no usarse, se pondrán solo ceros."
   ]
  },
  {
   "cell_type": "code",
   "execution_count": 4,
   "metadata": {},
   "outputs": [
    {
     "name": "stdout",
     "output_type": "stream",
     "text": [
      "[0, 0, 0, 0]\n",
      "[4, 4, 4, 4]\n"
     ]
    }
   ],
   "source": [
    "def listaNumeros(longitud,valor=0):\n",
    "    lista = []\n",
    "    for i in range(longitud):\n",
    "        lista.append(valor)\n",
    "    return lista    \n",
    "\n",
    "print(listaNumeros(4))\n",
    "print(listaNumeros(4,4))"
   ]
  },
  {
   "cell_type": "markdown",
   "metadata": {},
   "source": [
    "5 Crear una función que devuelva una lista de números enteros aleatorios. La función tiene tres parámetros. El primero indica la longitud de la lista a devolver. El segundo y tercer parámetro indica, respectivamente, el inicio y final del rango de números aleatorios que incluirá la lista."
   ]
  },
  {
   "cell_type": "code",
   "execution_count": 5,
   "metadata": {},
   "outputs": [
    {
     "name": "stdout",
     "output_type": "stream",
     "text": [
      "[9, 8, 7, 5]\n",
      "[779, 130, 121, 556, 473, 371, 763, 826, 282, 815]\n"
     ]
    }
   ],
   "source": [
    "import random\n",
    "def listaNumerosAleatorios(longitud,valorInicio,valorFinal):\n",
    "    lista = []\n",
    "    for i in range(longitud):\n",
    "        valor = random.randint(valorInicio,valorFinal)\n",
    "        lista.append(valor)\n",
    "    return lista    \n",
    "\n",
    "print(listaNumerosAleatorios(4,3,9))\n",
    "print(listaNumerosAleatorios(10,10,999))"
   ]
  },
  {
   "cell_type": "markdown",
   "metadata": {},
   "source": [
    "6. Crear una función que devuelva una lista de listas con todos los valores inicializados aleatoriamente a un valor decimal entre 0 y 1. La función recibe dos parámetros. El primer valor indica el número de listas que contiene la lista resultado (o filas), mientras que el segundo parámetro indica el número de elementos de cada sublista (columnas)."
   ]
  },
  {
   "cell_type": "code",
   "execution_count": 6,
   "metadata": {},
   "outputs": [
    {
     "name": "stdout",
     "output_type": "stream",
     "text": [
      "[[0.4546102227144935, 0.9464771853867152], [0.8994164495065304, 0.8515865370711567], [0.7966605456186412, 0.6369604457013114]]\n"
     ]
    }
   ],
   "source": [
    "import random\n",
    "def funMatrizAleatoria(filas,columnas):\n",
    "    matriz = []\n",
    "    for f in range(filas):\n",
    "        lista = []\n",
    "        for c in range(columnas):\n",
    "            lista.append(random.random())\n",
    "        matriz.append(lista)\n",
    "    return matriz\n",
    "\n",
    "print(funMatrizAleatoria(3,2))"
   ]
  },
  {
   "cell_type": "markdown",
   "metadata": {},
   "source": [
    "# Ejercicios generadores\n",
    "\n",
    "1. Crear un generador que devuelva los n primeros números múltiplos de 3 (considerar que el primer múltiplo es el 3).\n",
    "2. A partir del generador del punto anterior, crear una lista con los 100 primeros múltiplos de 3.\n",
    "3. Crear otro generador que reciba una lista como parámetro. Este generador devolverá en cada ejecución el contenido de una posición  aleatoria de la lista.\n",
    "4. Crear una variable que contenga uno de los primeros 100 múltiplos de 3. Crear el código necesario para contar cuantas ejecuciones del generador del punto 3 sobre la lista del punto 2 son necesarias para obtener el número guardado en la variable"
   ]
  }
 ],
 "metadata": {
  "kernelspec": {
   "display_name": "Python 3",
   "language": "python",
   "name": "python3"
  },
  "language_info": {
   "codemirror_mode": {
    "name": "ipython",
    "version": 3
   },
   "file_extension": ".py",
   "mimetype": "text/x-python",
   "name": "python",
   "nbconvert_exporter": "python",
   "pygments_lexer": "ipython3",
   "version": "3.7.8"
  }
 },
 "nbformat": 4,
 "nbformat_minor": 4
}
