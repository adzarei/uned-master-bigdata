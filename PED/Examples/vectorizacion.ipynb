{
 "cells": [
  {
   "cell_type": "markdown",
   "metadata": {},
   "source": [
    "## Operaciones entre arrays: vectorización\n",
    "\n",
    "En otros lenguajes de programación, las operaciones entre vectores requieren el uso de bucles para recorrerlos, acumular valores, crear los nuevos resultados, etc. Esto puede ser ineficiente. Veamos un ejemplo:\n"
   ]
  },
  {
   "cell_type": "code",
   "execution_count": 1,
   "metadata": {
    "scrolled": true
   },
   "outputs": [
    {
     "name": "stdout",
     "output_type": "stream",
     "text": [
      "Tiempo:  0.3447532653808594  ms\n"
     ]
    }
   ],
   "source": [
    "import numpy as np\n",
    "import time\n",
    "#sumar dos arrays\n",
    "numElementos = 500\n",
    "a1 = np.random.rand(numElementos)\n",
    "a2 = np.random.rand(numElementos)\n",
    "a3 = np.zeros(numElementos)\n",
    "inicio = time.time()\n",
    "for i in range(a1.shape[0]):\n",
    "    a3[i] = a1[i] + a2[i]\n",
    "fin = time.time()\n",
    "print(\"Tiempo: \" , (fin - inicio) * 1000 , \" ms\")"
   ]
  },
  {
   "cell_type": "markdown",
   "metadata": {},
   "source": [
    "## Vectorización\n",
    "\n",
    "Una de las ventajas que aportan los arrays de numpy es la facilidad para realizar operaciones sobre el array completo sin tener que indicarlo elemento a elemento.\n",
    "\n",
    "La vectorización permite expresar operaciones entre arrays sin usar bucles for. Más concretamente, podemos realizar operaciones aritméticas entre arrays del mismo tamaño para que se apliquen elemento a elemento, indicando solamente la operación a realizar entre los vectores. Como resultado, la operación se aplicará a todos los elementos.\n",
    "\n",
    "Por un lado, la vectorización nos permite escribir un código más fácil de entender. Pero la mayor ventaja es en cuanto a rendimiento.\n",
    "\n",
    "Aquí encontramos una diferencia con las listas de python al usar el operador +. En las listas, + sirve para añadir elementos. Con los arrays de numpy el operador + sirve para sumar."
   ]
  },
  {
   "cell_type": "code",
   "execution_count": 2,
   "metadata": {},
   "outputs": [
    {
     "name": "stdout",
     "output_type": "stream",
     "text": [
      "Tiempo:  0.07653236389160156  ms\n"
     ]
    }
   ],
   "source": [
    "inicio = time.time()\n",
    "a3 = a1 + a2\n",
    "fin = time.time()\n",
    "print(\"Tiempo: \" , (fin - inicio) * 1000 , \" ms\")"
   ]
  },
  {
   "cell_type": "markdown",
   "metadata": {},
   "source": [
    "Veamos más ejemplos con operaciones entre vectores"
   ]
  },
  {
   "cell_type": "code",
   "execution_count": 3,
   "metadata": {},
   "outputs": [
    {
     "name": "stdout",
     "output_type": "stream",
     "text": [
      "[180, 215, 210, 210, 188, 176, 209, 200, 81, 97.5, 95, 95.5, 85, 79, 94, 90]\n",
      "[261.  312.5 305.  305.5 273.  255.  303.  290. ]\n"
     ]
    }
   ],
   "source": [
    "alturas = [180, 215, 210, 210, 188, 176, 209, 200]\n",
    "npAlturas = np.array(alturas)\n",
    "pesos = [81, 97.5, 95, 95.5, 85, 79, 94, 90]\n",
    "npPesos = np.array(pesos)\n",
    "\n",
    "#el operador + se comporta de forma distinta\n",
    "#en numpy sumamos arrays, con listas las unimos\n",
    "l1 = alturas + pesos\n",
    "print (l1)\n",
    "a1 = npAlturas + npPesos\n",
    "print (a1)"
   ]
  },
  {
   "cell_type": "code",
   "execution_count": 4,
   "metadata": {},
   "outputs": [
    {
     "name": "stdout",
     "output_type": "stream",
     "text": [
      "[25.         21.09248242 21.54195011 21.6553288  24.04934359 25.5036157\n",
      " 21.51965385 22.5       ]\n"
     ]
    }
   ],
   "source": [
    "#vamos a calcular el índice de masa corporal\n",
    "\n",
    "#altura la dividimos entre 100 para obtener el valor en metros\n",
    "imc = npPesos / ((npAlturas / 100.0 ) **2)\n",
    "\n",
    "print (imc)"
   ]
  },
  {
   "cell_type": "markdown",
   "metadata": {},
   "source": [
    "También podemos realizar operaciones entre arrays de distintas dimensiones. Por ejemplo, si realizamos una operación entre un array de dos dimensiones con uno de una dimensión, la operación se realiza entre cada fila del array de dos dimensiones y el array pasado como operando"
   ]
  },
  {
   "cell_type": "code",
   "execution_count": 5,
   "metadata": {},
   "outputs": [
    {
     "name": "stdout",
     "output_type": "stream",
     "text": [
      "[[ 2  4]\n",
      " [ 6  8]\n",
      " [10 12]]\n",
      "[[11 12]\n",
      " [ 5  6]\n",
      " [ 8  9]]\n",
      "[[ 2  4]\n",
      " [ 6  8]\n",
      " [10 12]]\n"
     ]
    }
   ],
   "source": [
    "#combinaciones de cálculos con dos dimensiones\n",
    "np_mat = np.array([[1, 2],\n",
    "                   [3, 4],\n",
    "                   [5, 6]])\n",
    "\n",
    "#se multiplican todos los elementos por dos\n",
    "print (np_mat * 2)\n",
    "\n",
    "#al primer elemento de cada fila se le suma 10 y al segundo se le suma 1\n",
    "print (np_mat + np.array([[10],[2],[3]]))\n",
    "\n",
    "#se suman los elementos de cada posición\n",
    "print (np_mat + np_mat)"
   ]
  },
  {
   "cell_type": "markdown",
   "metadata": {},
   "source": [
    "### Ejercicio\n",
    "\n",
    "1. Sumar arrays de apartados anteriores con  la mismas dimensiones\n",
    "2. Realiza los siguientes pasos:\n",
    "\n",
    "    2.1. Crea un array de unos de una sola dimensión (m,)\n",
    "    \n",
    "    2.2. Crea un array de dos dimensiones con valores aleatorios. La segunda dimensión debe tener el mismo número de elementos que el array del punto 2.1. (n,m)\n",
    "    \n",
    "    2.3. Suma los dos arrays. ¿Qué ha ocurrido?"
   ]
  }
 ],
 "metadata": {
  "kernelspec": {
   "display_name": "Python 3",
   "language": "python",
   "name": "python3"
  },
  "language_info": {
   "codemirror_mode": {
    "name": "ipython",
    "version": 3
   },
   "file_extension": ".py",
   "mimetype": "text/x-python",
   "name": "python",
   "nbconvert_exporter": "python",
   "pygments_lexer": "ipython3",
   "version": "3.7.1"
  }
 },
 "nbformat": 4,
 "nbformat_minor": 2
}
